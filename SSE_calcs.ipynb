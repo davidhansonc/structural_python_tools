{
 "cells": [
  {
   "cell_type": "code",
   "execution_count": 29,
   "id": "8c41b636",
   "metadata": {},
   "outputs": [],
   "source": [
    "# Import Python Tools:\n",
    "from IPython.display import display, Latex\n",
    "import pandas as pd\n",
    "import numpy as np\n",
    "from numpy import sqrt, pi, average, cos, sin, tan, arcsin, arccos, arctan, deg2rad, rad2deg\n",
    "from WhatIfAnalysis import GoalSeek\n",
    "# import sectionproperties as shape\n",
    "\n",
    "from ASCE import load_combos\n",
    "\n",
    "from wood_design.sawn_lumber.ref_design_values.table_4a import table_4a_load\n",
    "from wood_design.sawn_lumber.ref_design_values.C_F import C_F_load\n",
    "from wood_design.connections.NDS_design_factors import group_factor\n",
    "table_4a = table_4a_load(species=\"DF\")"
   ]
  },
  {
   "cell_type": "code",
   "execution_count": 30,
   "id": "18ab24bd",
   "metadata": {},
   "outputs": [
    {
     "data": {
      "text/plain": [
       "'vertical reaction at corner = 577.5 lbs'"
      ]
     },
     "execution_count": 30,
     "metadata": {},
     "output_type": "execute_result"
    }
   ],
   "source": [
    "enveloped_pressure = load_combos.ASD(D=15, L=20, W=36)\n",
    "canopy_width = 5 #ft\n",
    "canopy_length = 10 #ft\n",
    "vertical_reaction_trib = enveloped_pressure * canopy_width/2 * canopy_length/2 #lbs\n",
    "f\"vertical reaction at corner = {vertical_reaction_trib} lbs\""
   ]
  },
  {
   "cell_type": "code",
   "execution_count": 31,
   "id": "299a9dfb",
   "metadata": {},
   "outputs": [
    {
     "data": {
      "text/plain": [
       "'angle of brace = 31.57 deg'"
      ]
     },
     "execution_count": 31,
     "metadata": {},
     "output_type": "execute_result"
    }
   ],
   "source": [
    "θ = arctan(7.375/12) #rad\n",
    "f\"angle of brace = {round(rad2deg(θ), 2)} deg\""
   ]
  },
  {
   "cell_type": "code",
   "execution_count": 32,
   "id": "7e605c0c",
   "metadata": {},
   "outputs": [
    {
     "data": {
      "text/plain": [
       "'tension in brace = 1102.94'"
      ]
     },
     "execution_count": 32,
     "metadata": {},
     "output_type": "execute_result"
    }
   ],
   "source": [
    "brace_tension = vertical_reaction_trib / sin(θ)\n",
    "f\"tension in brace = {round(brace_tension, 2)}\""
   ]
  },
  {
   "attachments": {},
   "cell_type": "markdown",
   "id": "04f2be6d",
   "metadata": {},
   "source": [
    "<div style=\"page-break-after: always;\"></div>"
   ]
  },
  {
   "cell_type": "markdown",
   "id": "42065030",
   "metadata": {},
   "source": [
    "# Canopy Connection Design"
   ]
  },
  {
   "attachments": {},
   "cell_type": "markdown",
   "id": "f5325071",
   "metadata": {},
   "source": [
    "## Screwed Attachment Capacity"
   ]
  },
  {
   "cell_type": "markdown",
   "id": "c7d51b94",
   "metadata": {},
   "source": [
    "#### Wind Combo Demand"
   ]
  },
  {
   "cell_type": "code",
   "execution_count": 33,
   "id": "56f058ad",
   "metadata": {},
   "outputs": [
    {
     "data": {
      "text/plain": [
       "'1500 lbs, 800 lbs'"
      ]
     },
     "execution_count": 33,
     "metadata": {},
     "output_type": "execute_result"
    }
   ],
   "source": [
    "T_x = 1500 #lbs\n",
    "T_y = 800 #lbs\n",
    "\n",
    "α = arctan(12/7.375) #rad\n",
    "f\"{T_x} lbs, {round(T_y, 2)} lbs\""
   ]
  },
  {
   "cell_type": "code",
   "execution_count": 34,
   "id": "bd4aece6",
   "metadata": {},
   "outputs": [
    {
     "data": {
      "text/plain": [
       "'tension in brace = 1700.0'"
      ]
     },
     "execution_count": 34,
     "metadata": {},
     "output_type": "execute_result"
    }
   ],
   "source": [
    "brace_tension = sqrt(T_x**2 + T_y**2)\n",
    "f\"tension in brace = {round(brace_tension, 2)}\""
   ]
  },
  {
   "cell_type": "markdown",
   "id": "3e66e914",
   "metadata": {},
   "source": [
    "#### Wind Combo Capacity"
   ]
  },
  {
   "cell_type": "code",
   "execution_count": 35,
   "id": "d8130266",
   "metadata": {},
   "outputs": [],
   "source": [
    "Z_nominal = 180 #lbs (Table 12K)\n",
    "W_nominal = 305 #lbs/in\n",
    "shaft_length = 3 #in"
   ]
  },
  {
   "cell_type": "code",
   "execution_count": 22,
   "id": "4cb5863f",
   "metadata": {},
   "outputs": [],
   "source": [
    "\n",
    "def dowel_shear(Z_nominal, C_D=1.0, C_M=1.0, C_t=1.0, C_g=1.0, C_delta=1.0, C_eg=1.0, C_di=1.0, toe_nailing=\"N\"):\n",
    "    '''\n",
    "    - NDS Table 11.3.1\n",
    "    - All adjustment factors are 1.0 by default\n",
    "    '''\n",
    "    if toe_nailing == \"Y\":\n",
    "        C_tn = 0.83   \n",
    "    else:\n",
    "        C_tn = 1.0 \n",
    "    Z_factored = Z_nominal * C_D * C_M * C_t * C_g * C_delta * C_eg * C_di * C_tn\n",
    "    return Z_factored\n",
    "\n",
    "\n",
    "def dowel_withdrawal(W_nominal, penetration=1.0, C_D=1.0, C_M=1.0, C_t=1.0, C_eg=1.0, toe_nailing=\"N\"):\n",
    "    W = W_nominal * penetration\n",
    "    if toe_nailing == \"Y\":\n",
    "        C_tn = 0.67\n",
    "    else:\n",
    "        C_tn = 1.0\n",
    "    W_factored = W_nominal * C_D * C_M**2 * C_t * C_eg * C_tn\n",
    "    return W_factored\n",
    "\n",
    "\n",
    "# alpha angle from pure shear in degrees\n",
    "def combined_scew_Z(Z_pr, W_pr, penetration, alpha, conv=\"deg\"):\n",
    "    if conv == \"deg\":\n",
    "        alpha_rad = np.deg2rad(alpha)\n",
    "    elif conv == \"rad\":\n",
    "        alpha_rad = alpha\n",
    "    Wp = W_pr * penetration\n",
    "    Z_alpha_pr = Wp * Z_pr / (Wp * np.cos(alpha_rad)**2 + Z_pr * np.sin(alpha_rad)**2)\n",
    "    return Z_alpha_pr"
   ]
  },
  {
   "cell_type": "code",
   "execution_count": 23,
   "id": "1da682ec",
   "metadata": {},
   "outputs": [
    {
     "data": {
      "text/plain": [
       "\"Z' = 180 lbs, W'*p = 1464.0 lbs\""
      ]
     },
     "execution_count": 23,
     "metadata": {},
     "output_type": "execute_result"
    }
   ],
   "source": [
    "Z_pr = dowel_shear(Z_nominal, C_D=1.6)\n",
    "W_pr = dowel_withdrawal(W_nominal, C_D=1.6)\n",
    "f\"Z' = {round(Z_nominal, 2)} lbs, W'*p = {round(W_pr * shaft_length, 2)} lbs\""
   ]
  },
  {
   "cell_type": "code",
   "execution_count": 24,
   "id": "11f7e5e6",
   "metadata": {},
   "outputs": [
    {
     "data": {
      "text/plain": [
       "\"Zα' = 690.73 lbs\""
      ]
     },
     "execution_count": 24,
     "metadata": {},
     "output_type": "execute_result"
    }
   ],
   "source": [
    "Zα_pr = W_pr * shaft_length * Z_pr \\\n",
    "\t/ (W_pr * shaft_length * cos(α)**2 + Z_pr * sin(α)**2)\n",
    "f\"Zα' = {round(Zα_pr, 2)} lbs\""
   ]
  },
  {
   "cell_type": "code",
   "execution_count": 25,
   "id": "f1b3f763",
   "metadata": {},
   "outputs": [
    {
     "data": {
      "text/plain": [
       "'total lag screw capacity = 2762.94 lbs'"
      ]
     },
     "execution_count": 25,
     "metadata": {},
     "output_type": "execute_result"
    }
   ],
   "source": [
    "total_conn_capacity = Zα_pr * 4\n",
    "f\"total lag screw capacity = {round(total_conn_capacity, 2)} lbs\""
   ]
  },
  {
   "cell_type": "code",
   "execution_count": 26,
   "id": "d3895920",
   "metadata": {},
   "outputs": [
    {
     "data": {
      "text/plain": [
       "'DCR = 0.615'"
      ]
     },
     "execution_count": 26,
     "metadata": {},
     "output_type": "execute_result"
    }
   ],
   "source": [
    "f\"DCR = {round(brace_tension / total_conn_capacity, 3)}\""
   ]
  },
  {
   "cell_type": "markdown",
   "id": "b02139b6",
   "metadata": {},
   "source": [
    "## Wood Blocking Attachment"
   ]
  },
  {
   "cell_type": "markdown",
   "id": "a1eba9c6",
   "metadata": {},
   "source": [
    "--> Use Simpson A34 Connector:"
   ]
  },
  {
   "cell_type": "code",
   "execution_count": 27,
   "id": "d07666d5",
   "metadata": {},
   "outputs": [],
   "source": [
    "Va_conn = 550 * 2 #lbs"
   ]
  },
  {
   "cell_type": "code",
   "execution_count": 28,
   "id": "8af2eb06",
   "metadata": {},
   "outputs": [
    {
     "data": {
      "text/plain": [
       "'max R1 allowed = 937.5 lbs'"
      ]
     },
     "execution_count": 28,
     "metadata": {},
     "output_type": "execute_result"
    }
   ],
   "source": [
    "P = T_x #lbs\n",
    "l = 16/12 #ft\n",
    "b = 10/12 #ft\n",
    "R1 = P*b/l #lbs\n",
    "f\"max R1 allowed = {R1} lbs\""
   ]
  }
 ],
 "metadata": {
  "kernelspec": {
   "display_name": "VENV_MAC",
   "language": "python",
   "name": "python3"
  },
  "language_info": {
   "codemirror_mode": {
    "name": "ipython",
    "version": 3
   },
   "file_extension": ".py",
   "mimetype": "text/x-python",
   "name": "python",
   "nbconvert_exporter": "python",
   "pygments_lexer": "ipython3",
   "version": "3.11.3"
  }
 },
 "nbformat": 4,
 "nbformat_minor": 5
}
