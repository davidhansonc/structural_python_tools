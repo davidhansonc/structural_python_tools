{
 "cells": [
  {
   "cell_type": "code",
   "execution_count": 64,
   "id": "8c41b636",
   "metadata": {},
   "outputs": [
    {
     "data": {
      "text/latex": [
       "\\newpage"
      ],
      "text/plain": [
       "<IPython.core.display.Latex object>"
      ]
     },
     "metadata": {},
     "output_type": "display_data"
    }
   ],
   "source": [
    "# Import Python Tools:\n",
    "from IPython.display import display, Latex\n",
    "import pandas as pd\n",
    "import numpy as np\n",
    "from numpy import sqrt, pi, average, cos, sin, tan, arcsin, arccos, arctan, deg2rad, rad2deg\n",
    "\n",
    "import load_combos\n",
    "from steel_design.AISC import aisc\n",
    "from concrete_design.material_properties import elastic_modulus, rigidity_modulus\n",
    "from concrete_design.steel_reinforcement import rebar_df as rebar\n",
    "from masonry_design.material_properties import NW_CMU, cmu_elastic_modulus\n",
    "conc_density = 150.0 #pcf\n",
    "steel_density = 0.2833 #pci\n",
    "\n",
    "display(Latex(r\"\\newpage\")) #pagebreak"
   ]
  },
  {
   "cell_type": "markdown",
   "id": "3f470d0d",
   "metadata": {},
   "source": [
    "# Masonry Beam Design"
   ]
  },
  {
   "cell_type": "markdown",
   "id": "8585bfb5",
   "metadata": {},
   "source": [
    "### Material Properties"
   ]
  },
  {
   "cell_type": "code",
   "execution_count": 65,
   "id": "a82b0dd5",
   "metadata": {},
   "outputs": [],
   "source": [
    "fm = 1500 #psi\n",
    "fr = 267 #psi\n",
    "\n",
    "Em = cmu_elastic_modulus(fm) #ksi\n",
    "Es = 29000 #ksi"
   ]
  },
  {
   "cell_type": "markdown",
   "id": "7c4631a5",
   "metadata": {},
   "source": [
    "### Geometry"
   ]
  },
  {
   "cell_type": "code",
   "execution_count": 66,
   "id": "e1b9f457",
   "metadata": {},
   "outputs": [],
   "source": [
    "b = 9.625 #in\n",
    "h = 4.25*12 #in\n",
    "l = 46.5 #ft"
   ]
  },
  {
   "cell_type": "markdown",
   "id": "a29bae27",
   "metadata": {},
   "source": [
    "#### Loading"
   ]
  },
  {
   "cell_type": "code",
   "execution_count": 67,
   "id": "291ca1ba",
   "metadata": {},
   "outputs": [
    {
     "data": {
      "text/plain": [
       "'w = 1489.25 plf'"
      ]
     },
     "execution_count": 67,
     "metadata": {},
     "output_type": "execute_result"
    }
   ],
   "source": [
    "RDL = 204 #plf\n",
    "wall_weight = 181 * h/12 #plf\n",
    "RLL = 240 #plf\n",
    "RSL = 516 #plf\n",
    "\n",
    "#support = \"pinned-pinned\"\n",
    "support = \"fixed-fixed\"\n",
    "\n",
    "w = load_combos.ASD(D=(RDL+wall_weight), Lr=RLL, S=RSL)\n",
    "f\"w = {round(w, 2)} plf\""
   ]
  },
  {
   "cell_type": "code",
   "execution_count": 68,
   "id": "ab6cd5a6",
   "metadata": {},
   "outputs": [
    {
     "data": {
      "text/plain": [
       "'M = 268.34 kip-ft'"
      ]
     },
     "execution_count": 68,
     "metadata": {},
     "output_type": "execute_result"
    }
   ],
   "source": [
    "if support == \"pinned-pinned\":\n",
    "    M = w * l**2 / 8 #ft-lbs\n",
    "elif support == \"fixed-fixed\":\n",
    "    M = w * l**2 / 12 #ft-lbs\n",
    "    \n",
    "f\"M = {round(M/1000, 2)} kip-ft\""
   ]
  },
  {
   "cell_type": "markdown",
   "id": "e21aa17a",
   "metadata": {},
   "source": [
    "### Reinforcement\n",
    "#### Flexural Reinforcement"
   ]
  },
  {
   "cell_type": "code",
   "execution_count": 69,
   "id": "70dca12a",
   "metadata": {},
   "outputs": [
    {
     "data": {
      "text/plain": [
       "'As=1.76, d=48.0, rho=0.00381, n=21.481, j=0.8897, k=0.3309'"
      ]
     },
     "execution_count": 69,
     "metadata": {},
     "output_type": "execute_result"
    }
   ],
   "source": [
    "bar = \"#6\"\n",
    "no_bars = 4\n",
    "As = no_bars * rebar.loc[bar, \"Area\"]\n",
    "d = h - 3 #in\n",
    "rho = As / (b*d)\n",
    "n = Es / Em\n",
    "k = sqrt(2*rho*n + (rho*n)**2) - rho*n\n",
    "j = 1 - k/3\n",
    "f\"As={As}, d={d}, rho={round(rho, 5)}, n={round(n, 3)}, j={round(j, 4)}, k={round(k, 4)}\""
   ]
  },
  {
   "cell_type": "markdown",
   "id": "44c07801",
   "metadata": {},
   "source": [
    "#### Shear Reinforcement"
   ]
  },
  {
   "cell_type": "code",
   "execution_count": null,
   "id": "cfaebea9",
   "metadata": {},
   "outputs": [],
   "source": []
  },
  {
   "cell_type": "markdown",
   "id": "77caa784",
   "metadata": {},
   "source": [
    "## ASD Moment Design"
   ]
  },
  {
   "cell_type": "code",
   "execution_count": 70,
   "id": "b7fe01d5",
   "metadata": {},
   "outputs": [],
   "source": [
    "Fb = 0.45 * fm #psi\n",
    "Fs = 32000 #psi"
   ]
  },
  {
   "cell_type": "code",
   "execution_count": 71,
   "id": "5ee15a79",
   "metadata": {},
   "outputs": [
    {
     "data": {
      "text/plain": [
       "'Mm = 183.63 kip-ft'"
      ]
     },
     "execution_count": 71,
     "metadata": {},
     "output_type": "execute_result"
    }
   ],
   "source": [
    "Mm = Fb * b * d**2 * (j*k/2) / 1000/12 #kip-ft\n",
    "f\"Mm = {round(Mm, 2)} kip-ft\""
   ]
  },
  {
   "cell_type": "code",
   "execution_count": 72,
   "id": "006b97fb",
   "metadata": {},
   "outputs": [
    {
     "data": {
      "text/plain": [
       "'Ms = 200.43 kip-ft'"
      ]
     },
     "execution_count": 72,
     "metadata": {},
     "output_type": "execute_result"
    }
   ],
   "source": [
    "Ms = As * Fs * j * d / 1000/12 #kip-ft\n",
    "f\"Ms = {round(Ms, 2)} kip-ft\""
   ]
  },
  {
   "cell_type": "code",
   "execution_count": 73,
   "id": "7ab777d4",
   "metadata": {},
   "outputs": [
    {
     "data": {
      "text/plain": [
       "'Ma = 183.63 kip-ft'"
      ]
     },
     "execution_count": 73,
     "metadata": {},
     "output_type": "execute_result"
    }
   ],
   "source": [
    "Ma = min(Ms, Mm)\n",
    "f\"Ma = {round(Ma, 2)} kip-ft\""
   ]
  },
  {
   "cell_type": "markdown",
   "id": "a311bcc0",
   "metadata": {},
   "source": [
    "## ASD Shear Design"
   ]
  },
  {
   "cell_type": "code",
   "execution_count": 74,
   "id": "28a478ac",
   "metadata": {},
   "outputs": [],
   "source": [
    "#Fv = (Fvm + Fvs) * gamma_g"
   ]
  },
  {
   "cell_type": "markdown",
   "id": "fe0c1792",
   "metadata": {},
   "source": [
    "## Deflection"
   ]
  },
  {
   "cell_type": "markdown",
   "id": "4467697e",
   "metadata": {},
   "source": [
    "#### Deflections"
   ]
  },
  {
   "cell_type": "code",
   "execution_count": 75,
   "id": "87f13dd2",
   "metadata": {},
   "outputs": [
    {
     "name": "stdout",
     "output_type": "stream",
     "text": [
      "Ig = 106397.16 in^4\n",
      "Icr = 51853.55 in^4\n",
      "Ieff = 106397.16 in^4\n"
     ]
    }
   ],
   "source": [
    "Ig = b * h**3 / 12 #in^4\n",
    "print(f\"Ig = {round(Ig, 2)} in^4\")\n",
    "\n",
    "Sg = b * h**2 / 6 #in^3\n",
    "Mcr = fr * Sg / 12 #ft-lbs\n",
    "\n",
    "Icr = (b*(k*d)**3)/3 + (n*rho*b*d)*(d - k*d)**2\n",
    "print(f\"Icr = {round(Icr, 2)} in^4\")\n",
    "\n",
    "Ieff = min(Ig * (Mcr / Ma)**3 + Icr * (1 - (Mcr / Ma)**3), Ig)\n",
    "print(f\"Ieff = {round(Ieff, 2)} in^4\")"
   ]
  },
  {
   "cell_type": "code",
   "execution_count": 76,
   "id": "099f1334",
   "metadata": {},
   "outputs": [
    {
     "data": {
      "text/plain": [
       "'deflection = 0.2181 in'"
      ]
     },
     "execution_count": 76,
     "metadata": {},
     "output_type": "execute_result"
    }
   ],
   "source": [
    "if support == \"pinned-pinned\":\n",
    "    defl = 5 * (w/12) * (l*12)**4 / (384 * (Em*1000) * Ieff)\n",
    "elif support == \"fixed-fixed\":\n",
    "    defl = (w/12) * (l*12)**4 / (384 * (Em*1000) * Ieff)\n",
    "    \n",
    "f\"deflection = {round(defl, 4)} in\""
   ]
  },
  {
   "cell_type": "code",
   "execution_count": 77,
   "id": "0976ecbd",
   "metadata": {},
   "outputs": [
    {
     "data": {
      "text/plain": [
       "'deflection limit = 1.1625 in'"
      ]
     },
     "execution_count": 77,
     "metadata": {},
     "output_type": "execute_result"
    }
   ],
   "source": [
    "defl_limit = l * 12 / 480\n",
    "f\"deflection limit = {round(defl_limit, 4)} in\""
   ]
  },
  {
   "cell_type": "code",
   "execution_count": 78,
   "id": "372492c4",
   "metadata": {},
   "outputs": [
    {
     "data": {
      "text/plain": [
       "True"
      ]
     },
     "execution_count": 78,
     "metadata": {},
     "output_type": "execute_result"
    }
   ],
   "source": [
    "defl < defl_limit"
   ]
  },
  {
   "cell_type": "code",
   "execution_count": null,
   "id": "1bb67a03",
   "metadata": {},
   "outputs": [],
   "source": []
  }
 ],
 "metadata": {
  "kernelspec": {
   "display_name": "Python 3 (ipykernel)",
   "language": "python",
   "name": "python3"
  },
  "language_info": {
   "codemirror_mode": {
    "name": "ipython",
    "version": 3
   },
   "file_extension": ".py",
   "mimetype": "text/x-python",
   "name": "python",
   "nbconvert_exporter": "python",
   "pygments_lexer": "ipython3",
   "version": "3.9.2"
  },
  "vscode": {
   "interpreter": {
    "hash": "8c340b0736d8d4910d2ca7989655b8187219e0906e973b44a7c0150cb2eac932"
   }
  }
 },
 "nbformat": 4,
 "nbformat_minor": 5
}
