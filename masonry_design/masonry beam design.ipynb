{
 "cells": [
  {
   "cell_type": "code",
   "execution_count": 2,
   "id": "8c41b636",
   "metadata": {},
   "outputs": [
    {
     "data": {
      "text/latex": [
       "\\newpage"
      ],
      "text/plain": [
       "<IPython.core.display.Latex object>"
      ]
     },
     "metadata": {},
     "output_type": "display_data"
    }
   ],
   "source": [
    "# Import Python Tools:\n",
    "from IPython.display import display, Latex\n",
    "import pandas as pd\n",
    "import numpy as np\n",
    "from numpy import sqrt, pi, average, cos, sin, tan, arcsin, arccos, arctan, deg2rad, rad2deg\n",
    "\n",
    "from ASCE import load_combos\n",
    "from steel_design.AISC import aisc\n",
    "from concrete_design.material_properties import elastic_modulus, rigidity_modulus\n",
    "from concrete_design.steel_reinforcement import rebar_df as rebar\n",
    "from masonry_design.material_properties import NW_CMU, elastic_modulus\n",
    "conc_density = 150.0 #pcf\n",
    "steel_density = 0.2833 #pci\n",
    "\n",
    "display(Latex(r\"\\newpage\")) #pagebreak"
   ]
  },
  {
   "cell_type": "markdown",
   "id": "dac7f0f7",
   "metadata": {},
   "source": [
    "# Masonry Beam Design"
   ]
  },
  {
   "cell_type": "markdown",
   "id": "74d615f1",
   "metadata": {},
   "source": [
    "### Material Properties"
   ]
  },
  {
   "cell_type": "code",
   "execution_count": 48,
   "id": "86bcdf8a",
   "metadata": {},
   "outputs": [],
   "source": [
    "fm = 1500 #psi\n",
    "fr = 100 #psi\n",
    "\n",
    "Em = elastic_modulus(fm) #ksi\n",
    "Es = 29000 #ksi"
   ]
  },
  {
   "cell_type": "code",
   "execution_count": 49,
   "id": "e958575f",
   "metadata": {},
   "outputs": [
    {
     "data": {
      "text/html": [
       "<div>\n",
       "<style scoped>\n",
       "    .dataframe tbody tr th:only-of-type {\n",
       "        vertical-align: middle;\n",
       "    }\n",
       "\n",
       "    .dataframe tbody tr th {\n",
       "        vertical-align: top;\n",
       "    }\n",
       "\n",
       "    .dataframe thead th {\n",
       "        text-align: right;\n",
       "    }\n",
       "</style>\n",
       "<table border=\"1\" class=\"dataframe\">\n",
       "  <thead>\n",
       "    <tr style=\"text-align: right;\">\n",
       "      <th></th>\n",
       "      <th>t=6\"</th>\n",
       "      <th>t=8\"</th>\n",
       "      <th>t=10\"</th>\n",
       "      <th>t=12\"</th>\n",
       "    </tr>\n",
       "  </thead>\n",
       "  <tbody>\n",
       "    <tr>\n",
       "      <th>Solid</th>\n",
       "      <td>63</td>\n",
       "      <td>84</td>\n",
       "      <td>104</td>\n",
       "      <td>133</td>\n",
       "    </tr>\n",
       "    <tr>\n",
       "      <th>16\"</th>\n",
       "      <td>52</td>\n",
       "      <td>66</td>\n",
       "      <td>86</td>\n",
       "      <td>103</td>\n",
       "    </tr>\n",
       "    <tr>\n",
       "      <th>24\"</th>\n",
       "      <td>48</td>\n",
       "      <td>61</td>\n",
       "      <td>78</td>\n",
       "      <td>94</td>\n",
       "    </tr>\n",
       "    <tr>\n",
       "      <th>32\"</th>\n",
       "      <td>47</td>\n",
       "      <td>58</td>\n",
       "      <td>74</td>\n",
       "      <td>89</td>\n",
       "    </tr>\n",
       "    <tr>\n",
       "      <th>40\"</th>\n",
       "      <td>46</td>\n",
       "      <td>56</td>\n",
       "      <td>72</td>\n",
       "      <td>86</td>\n",
       "    </tr>\n",
       "    <tr>\n",
       "      <th>48\"</th>\n",
       "      <td>45</td>\n",
       "      <td>55</td>\n",
       "      <td>70</td>\n",
       "      <td>83</td>\n",
       "    </tr>\n",
       "  </tbody>\n",
       "</table>\n",
       "</div>"
      ],
      "text/plain": [
       "       t=6\"  t=8\"  t=10\"  t=12\"\n",
       "Solid    63    84    104    133\n",
       "16\"      52    66     86    103\n",
       "24\"      48    61     78     94\n",
       "32\"      47    58     74     89\n",
       "40\"      46    56     72     86\n",
       "48\"      45    55     70     83"
      ]
     },
     "execution_count": 49,
     "metadata": {},
     "output_type": "execute_result"
    }
   ],
   "source": [
    "Fs = 32000 #psi\n",
    "NW_CMU"
   ]
  },
  {
   "cell_type": "markdown",
   "id": "881d8668",
   "metadata": {},
   "source": [
    "### Geometry"
   ]
  },
  {
   "cell_type": "code",
   "execution_count": 50,
   "id": "d0d0b481",
   "metadata": {},
   "outputs": [],
   "source": [
    "t = 10 #in\n",
    "b = 9.625 #in\n",
    "h = 4.25*12 #in\n",
    "l = 20 #ft"
   ]
  },
  {
   "cell_type": "markdown",
   "id": "bd3ae5ec",
   "metadata": {},
   "source": [
    "#### Loading"
   ]
  },
  {
   "cell_type": "code",
   "execution_count": 51,
   "id": "f571c161",
   "metadata": {},
   "outputs": [
    {
     "data": {
      "text/plain": [
       "'w = 1144.5 plf'"
      ]
     },
     "execution_count": 51,
     "metadata": {},
     "output_type": "execute_result"
    }
   ],
   "source": [
    "RDL = 204 #plf\n",
    "wall_height = 4 #ft\n",
    "wall_weight = NW_CMU.loc['48\"', f't={t}\"'] * (wall_height - h/12) \\\n",
    "    + NW_CMU.loc['Solid', f't={t}\"'] * h/12 #plf\n",
    "RLL = 240 #plf\n",
    "RSL = 516 #plf\n",
    "\n",
    "#support = \"pinned-pinned\"\n",
    "support = \"fixed-fixed\"\n",
    "\n",
    "w = load_combos.ASD(D=(RDL+wall_weight), Lr=RLL, S=RSL)\n",
    "f\"w = {round(w, 2)} plf\""
   ]
  },
  {
   "cell_type": "markdown",
   "id": "66faba38",
   "metadata": {},
   "source": [
    "__Moment:__"
   ]
  },
  {
   "cell_type": "code",
   "execution_count": 52,
   "id": "415c1e48",
   "metadata": {},
   "outputs": [
    {
     "data": {
      "text/plain": [
       "'M = 38.15 kip-ft'"
      ]
     },
     "execution_count": 52,
     "metadata": {},
     "output_type": "execute_result"
    }
   ],
   "source": [
    "if support == \"pinned-pinned\":\n",
    "    M = w * l**2 / 8 / 1000 #kip-ft\n",
    "elif support == \"fixed-fixed\":\n",
    "    M = w * l**2 / 12 / 1000 #kip-ft\n",
    "    \n",
    "f\"M = {round(M, 2)} kip-ft\""
   ]
  },
  {
   "cell_type": "markdown",
   "id": "7af558e0",
   "metadata": {},
   "source": [
    "__Shear:__"
   ]
  },
  {
   "cell_type": "code",
   "execution_count": 53,
   "id": "9d2dec49",
   "metadata": {},
   "outputs": [
    {
     "data": {
      "text/plain": [
       "'V = 11.44 kips'"
      ]
     },
     "execution_count": 53,
     "metadata": {},
     "output_type": "execute_result"
    }
   ],
   "source": [
    "V = w * l / 2 / 1000 #kips\n",
    "f\"V = {round(V, 2)} kips\""
   ]
  },
  {
   "cell_type": "markdown",
   "id": "503d183d",
   "metadata": {},
   "source": [
    "__Axial Compression:__"
   ]
  },
  {
   "cell_type": "code",
   "execution_count": 54,
   "id": "f74fa47d",
   "metadata": {},
   "outputs": [],
   "source": [
    "P = 0"
   ]
  },
  {
   "cell_type": "markdown",
   "id": "c9123fa0",
   "metadata": {},
   "source": [
    "### Reinforcement\n",
    "#### Flexural Reinforcement"
   ]
  },
  {
   "cell_type": "code",
   "execution_count": 55,
   "id": "0d13f62f",
   "metadata": {},
   "outputs": [
    {
     "data": {
      "text/plain": [
       "'As=1.76, d=48.0, rho=0.00381, n=21.481, j=0.8897, k=0.3309'"
      ]
     },
     "execution_count": 55,
     "metadata": {},
     "output_type": "execute_result"
    }
   ],
   "source": [
    "bar = \"#6\"\n",
    "no_bars = 4\n",
    "As = no_bars * rebar.loc[bar, \"Area\"]\n",
    "d = h - 3 #in\n",
    "rho = As / (b*d)\n",
    "n = Es / Em\n",
    "k = sqrt(2*rho*n + (rho*n)**2) - rho*n\n",
    "j = 1 - k/3\n",
    "f\"As={As}, d={d}, rho={round(rho, 5)}, n={round(n, 3)}, j={round(j, 4)}, k={round(k, 4)}\""
   ]
  },
  {
   "cell_type": "markdown",
   "id": "a58ce249",
   "metadata": {},
   "source": [
    "#### Shear Reinforcement"
   ]
  },
  {
   "cell_type": "code",
   "execution_count": 56,
   "id": "2e5efad3",
   "metadata": {},
   "outputs": [
    {
     "data": {
      "text/plain": [
       "'Av = 0.11 in^2'"
      ]
     },
     "execution_count": 56,
     "metadata": {},
     "output_type": "execute_result"
    }
   ],
   "source": [
    "bar = \"#3\"\n",
    "no_legs = 1\n",
    "Av = no_legs * rebar.loc[bar, \"Area\"]\n",
    "f\"Av = {Av} in^2\""
   ]
  },
  {
   "cell_type": "markdown",
   "id": "20011684",
   "metadata": {},
   "source": [
    "## ASD Moment Design"
   ]
  },
  {
   "cell_type": "code",
   "execution_count": 57,
   "id": "65df3185",
   "metadata": {},
   "outputs": [
    {
     "name": "stdout",
     "output_type": "stream",
     "text": [
      "Mm = 183.63 kip-ft\n",
      "Ms = 200.43 kip-ft\n"
     ]
    }
   ],
   "source": [
    "Fb = 0.45 * fm #psi\n",
    "\n",
    "Mm = Fb * b * d**2 * (j*k/2) / 1000/12 #kip-ft\n",
    "print(f\"Mm = {round(Mm, 2)} kip-ft\")\n",
    "\n",
    "Ms = As * Fs * j * d / 1000/12 #kip-ft\n",
    "print(f\"Ms = {round(Ms, 2)} kip-ft\")"
   ]
  },
  {
   "cell_type": "code",
   "execution_count": 58,
   "id": "f98b9050",
   "metadata": {},
   "outputs": [
    {
     "data": {
      "text/plain": [
       "'Ma = 183.63 kip-ft'"
      ]
     },
     "execution_count": 58,
     "metadata": {},
     "output_type": "execute_result"
    }
   ],
   "source": [
    "Ma = min(Ms, Mm)\n",
    "f\"Ma = {round(Ma, 2)} kip-ft\""
   ]
  },
  {
   "cell_type": "code",
   "execution_count": 59,
   "id": "463ab910",
   "metadata": {},
   "outputs": [
    {
     "data": {
      "text/plain": [
       "'Flexure DCR = 0.208'"
      ]
     },
     "execution_count": 59,
     "metadata": {},
     "output_type": "execute_result"
    }
   ],
   "source": [
    "f\"Flexure DCR = {round(M / Ma, 3)}\""
   ]
  },
  {
   "cell_type": "markdown",
   "id": "c864677d",
   "metadata": {},
   "source": [
    "## ASD Shear Design"
   ]
  },
  {
   "cell_type": "code",
   "execution_count": 104,
   "id": "ee66bef1",
   "metadata": {},
   "outputs": [
    {
     "name": "stdout",
     "output_type": "stream",
     "text": [
      "shear stress, fv = 24.77 psi\n"
     ]
    }
   ],
   "source": [
    "fv = V*1000 / Anv\n",
    "print(f\"shear stress, fv = {round(fv, 2)} psi\")"
   ]
  },
  {
   "cell_type": "code",
   "execution_count": 105,
   "id": "e79df873",
   "metadata": {},
   "outputs": [
    {
     "data": {
      "text/plain": [
       "'Fv,base = 86.07 psi'"
      ]
     },
     "execution_count": 105,
     "metadata": {},
     "output_type": "execute_result"
    }
   ],
   "source": [
    "dv = d #in\n",
    "Anv = b * dv #in^2\n",
    "gamma_g = 1.0\n",
    "\n",
    "MV_ratio = M*12/(V*dv)\n",
    "if MV_ratio <= 0.25:\n",
    "    Fv_base = 3 * sqrt(fm) * gamma_g\n",
    "elif MV_ratio >= 1.0:\n",
    "    Fv_base = 2 * sqrt(fm) * gamma_g\n",
    "else:\n",
    "    Fv_base = np.interp([MV_ratio], [0.25, 1.0], [3*sqrt(fm)*gamma_g, 2*sqrt(fm)*gamma_g])[0]\n",
    "f\"Fv,base = {round(Fv_base, 2)} psi\""
   ]
  },
  {
   "cell_type": "code",
   "execution_count": 106,
   "id": "124ce3a9",
   "metadata": {},
   "outputs": [
    {
     "data": {
      "text/plain": [
       "'Fvm = 49.22 psi'"
      ]
     },
     "execution_count": 106,
     "metadata": {},
     "output_type": "execute_result"
    }
   ],
   "source": [
    "Fvm = max(0.5 * ((4.0 - 1.75*MV_ratio) * sqrt(fm)) + 0.25*P/(b*h), 0) #psi\n",
    "f\"Fvm = {round(Fvm, 2)} psi\""
   ]
  },
  {
   "cell_type": "code",
   "execution_count": 107,
   "id": "af787233",
   "metadata": {},
   "outputs": [
    {
     "data": {
      "text/plain": [
       "'Fvs = 7.62 psi'"
      ]
     },
     "execution_count": 107,
     "metadata": {},
     "output_type": "execute_result"
    }
   ],
   "source": [
    "s_v = 24 #in\n",
    "Fvs = Av * Fs * dv / (2 * Anv * s_v) #psi\n",
    "f\"Fvs = {round(Fvs, 2)} psi\""
   ]
  },
  {
   "cell_type": "code",
   "execution_count": 108,
   "id": "69a8dea1",
   "metadata": {},
   "outputs": [
    {
     "data": {
      "text/plain": [
       "'Fv = 56.84 psi'"
      ]
     },
     "execution_count": 108,
     "metadata": {},
     "output_type": "execute_result"
    }
   ],
   "source": [
    "Fv = min((Fvm + Fvs) * gamma_g, Fv_base)\n",
    "f\"Fv = {round(Fv, 2)} psi\""
   ]
  },
  {
   "cell_type": "code",
   "execution_count": 109,
   "id": "e97d6c79",
   "metadata": {},
   "outputs": [
    {
     "name": "stdout",
     "output_type": "stream",
     "text": [
      "DCR_v = 0.436\n"
     ]
    }
   ],
   "source": [
    "DCR_v = fv/Fv\n",
    "print(f\"DCR_v = {round(DCR_v, 3)}\")"
   ]
  },
  {
   "cell_type": "markdown",
   "id": "8b3662b5",
   "metadata": {},
   "source": [
    "## Deflection"
   ]
  },
  {
   "cell_type": "markdown",
   "id": "4467697e",
   "metadata": {},
   "source": [
    "#### Deflections"
   ]
  },
  {
   "cell_type": "code",
   "execution_count": null,
   "id": "87f13dd2",
   "metadata": {},
   "outputs": [],
   "source": [
    "Ig = b * h**3 / 12 #in^4\n",
    "print(f\"Ig = {round(Ig, 2)} in^4\")\n",
    "\n",
    "Sg = b * h**2 / 6 #in^3\n",
    "Mcr = fr * Sg #in-lbs\n",
    "\n",
    "Icr = (b*(k*d)**3)/3 + (n*rho*b*d)*(d - k*d)**2\n",
    "print(f\"Icr = {round(Icr, 2)} in^4\")\n",
    "\n",
    "Ma = Ma * 1000 * 12 #in-lbs\n",
    "Ieff = min(Ig * (Mcr / Ma)**3 + Icr * (1 - (Mcr / Ma)**3), Ig)\n",
    "print(f\"Ieff = {round(Ieff, 2)} in^4\")"
   ]
  },
  {
   "cell_type": "code",
   "execution_count": null,
   "id": "099f1334",
   "metadata": {},
   "outputs": [],
   "source": [
    "if support == \"pinned-pinned\":\n",
    "    defl = 5 * (w/12) * (l*12)**4 / (384 * (Em*1000) * Ieff)\n",
    "elif support == \"fixed-fixed\":\n",
    "    defl = (w/12) * (l*12)**4 / (384 * (Em*1000) * Ieff)\n",
    "    \n",
    "f\"deflection = {round(defl, 4)} in\""
   ]
  },
  {
   "cell_type": "code",
   "execution_count": null,
   "id": "0976ecbd",
   "metadata": {},
   "outputs": [],
   "source": [
    "defl_limit = l*12 / 480\n",
    "f\"deflection limit = {round(defl_limit, 4)} in\""
   ]
  },
  {
   "cell_type": "code",
   "execution_count": null,
   "id": "372492c4",
   "metadata": {},
   "outputs": [],
   "source": [
    "defl < defl_limit"
   ]
  },
  {
   "cell_type": "code",
   "execution_count": null,
   "id": "1bb67a03",
   "metadata": {},
   "outputs": [],
   "source": []
  }
 ],
 "metadata": {
  "kernelspec": {
   "display_name": "Python 3 (ipykernel)",
   "language": "python",
   "name": "python3"
  },
  "language_info": {
   "codemirror_mode": {
    "name": "ipython",
    "version": 3
   },
   "file_extension": ".py",
   "mimetype": "text/x-python",
   "name": "python",
   "nbconvert_exporter": "python",
   "pygments_lexer": "ipython3",
   "version": "3.11.3"
  },
  "vscode": {
   "interpreter": {
    "hash": "8c340b0736d8d4910d2ca7989655b8187219e0906e973b44a7c0150cb2eac932"
   }
  }
 },
 "nbformat": 4,
 "nbformat_minor": 5
}
