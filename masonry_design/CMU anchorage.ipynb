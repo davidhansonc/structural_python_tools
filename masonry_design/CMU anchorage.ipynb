{
 "cells": [
  {
   "cell_type": "code",
   "execution_count": 1,
   "id": "8c41b636",
   "metadata": {},
   "outputs": [],
   "source": [
    "# Import Python Tools:\n",
    "from IPython.display import display, Latex\n",
    "import pandas as pd\n",
    "import numpy as np\n",
    "from numpy import sqrt, pi, average, cos, sin, tan, arcsin, arccos, arctan, deg2rad, rad2deg\n",
    "from WhatIfAnalysis import GoalSeek\n",
    "# import sectionproperties as shape\n",
    "\n",
    "from ASCE import load_combos\n",
    "\n",
    "from steel_design.AISC import aisc\n",
    "steel_density = 490 / 12**3 #pci\n",
    "\n",
    "from concrete_design import material_properties as conc\n",
    "from concrete_design.steel_reinforcement import rebar_df as rebar\n",
    "conc_density = 150.0 #pcf\n",
    "\n",
    "from masonry_design import material_properties as cmu\n",
    "from masonry_design.material_properties import NW_CMU #psf\n",
    "\n",
    "from wood_design.sawn_lumber.ref_design_values.table_4a import table_4a_load\n",
    "from wood_design.sawn_lumber.ref_design_values.C_F import C_F_load\n",
    "table_4a = table_4a_load(species=\"DF\")"
   ]
  },
  {
   "attachments": {},
   "cell_type": "markdown",
   "id": "04f2be6d",
   "metadata": {},
   "source": [
    "<div style=\"page-break-after: always;\"></div>"
   ]
  },
  {
   "attachments": {},
   "cell_type": "markdown",
   "id": "f5325071",
   "metadata": {},
   "source": [
    "# CMU Anchorage Design"
   ]
  },
  {
   "cell_type": "markdown",
   "id": "4cb5863f",
   "metadata": {},
   "source": [
    "## Anchors in Tension"
   ]
  },
  {
   "cell_type": "markdown",
   "id": "d8fc11fc",
   "metadata": {},
   "source": [
    "### Bent-bar Anchors"
   ]
  },
  {
   "cell_type": "code",
   "execution_count": 2,
   "id": "d69ae01b",
   "metadata": {},
   "outputs": [],
   "source": [
    "def calculate_base_area(height):\n",
    "    # Since the slope is 45 degrees, the radius is equal to the height\n",
    "    radius = height\n",
    "    # Calculate the area of the base\n",
    "    base_area = np.pi * radius**2\n",
    "    return base_area"
   ]
  },
  {
   "cell_type": "code",
   "execution_count": 15,
   "id": "de5e0abd",
   "metadata": {},
   "outputs": [
    {
     "data": {
      "text/plain": [
       "'φB_a = 6229.68 lbs'"
      ]
     },
     "execution_count": 15,
     "metadata": {},
     "output_type": "execute_result"
    }
   ],
   "source": [
    "φ = 0.80\n",
    "f_m = 1500 #psi\n",
    "f_y = 60000 #psi\n",
    "\n",
    "l_b = 4 #in (effective embedment of anchor)\n",
    "A_pt = pi * l_b **2 #in^2 (projected tension area of cone 45 deg slopes)\n",
    "e_b = 2 #in (projected leg extension of bent-bar anchor)\n",
    "d_b = 1/2 #in (anchor diameter)\n",
    "A_b = pi * d_b**2 / 4 #in^2 (anchor cross-sectional area)\n",
    "anchor_spacing = 48 #in (anchor spacing)\n",
    "\n",
    "B_ab = 4 * A_pt * sqrt(f_m) #lbs\n",
    "B_ap = 1.5 * f_m * e_b * d_b * 300*pi * (l_b + e_b + d_b) * d_b #lbs\n",
    "B_as = A_b * f_y #lbs\n",
    "\n",
    "B_a = min(B_ab, B_ap, B_as) #lbs\n",
    "φB_a = φ * B_a #lbs\n",
    "\n",
    "f\"φB_a = {round(φB_a, 2)} lbs\""
   ]
  },
  {
   "cell_type": "code",
   "execution_count": 27,
   "id": "56ba5404",
   "metadata": {},
   "outputs": [
    {
     "data": {
      "text/plain": [
       "313.875"
      ]
     },
     "execution_count": 27,
     "metadata": {},
     "output_type": "execute_result"
    }
   ],
   "source": [
    "wind_pressure = 7.75 #psf\n",
    "trib_width = 27/2 * 6/2 #sf\n",
    "\n",
    "wind_load = wind_pressure * trib_width #lbs\n",
    "wind_load"
   ]
  },
  {
   "cell_type": "code",
   "execution_count": 28,
   "id": "63f46835",
   "metadata": {},
   "outputs": [
    {
     "data": {
      "text/plain": [
       "1883.25"
      ]
     },
     "execution_count": 28,
     "metadata": {},
     "output_type": "execute_result"
    }
   ],
   "source": [
    "wind_load * 6"
   ]
  },
  {
   "cell_type": "code",
   "execution_count": null,
   "id": "a8da6f07",
   "metadata": {},
   "outputs": [],
   "source": []
  }
 ],
 "metadata": {
  "kernelspec": {
   "display_name": "VENV_MAC",
   "language": "python",
   "name": "python3"
  },
  "language_info": {
   "codemirror_mode": {
    "name": "ipython",
    "version": 3
   },
   "file_extension": ".py",
   "mimetype": "text/x-python",
   "name": "python",
   "nbconvert_exporter": "python",
   "pygments_lexer": "ipython3",
   "version": "3.11.3"
  }
 },
 "nbformat": 4,
 "nbformat_minor": 5
}
