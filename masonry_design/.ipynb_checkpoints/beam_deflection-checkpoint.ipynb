{
 "cells": [
  {
   "cell_type": "code",
   "execution_count": 18,
   "id": "8c41b636",
   "metadata": {},
   "outputs": [
    {
     "data": {
      "text/latex": [
       "\\newpage"
      ],
      "text/plain": [
       "<IPython.core.display.Latex object>"
      ]
     },
     "metadata": {},
     "output_type": "display_data"
    }
   ],
   "source": [
    "# Import Python Tools:\n",
    "from IPython.display import display, Latex\n",
    "import pandas as pd\n",
    "import numpy as np\n",
    "from numpy import sqrt, pi, average, cos, sin, tan, arcsin, arccos, arctan, deg2rad, rad2deg\n",
    "\n",
    "import load_combos\n",
    "from steel_design.AISC import aisc\n",
    "from concrete_design.material_properties import elastic_modulus, rigidity_modulus\n",
    "from concrete_design.steel_reinforcement import rebar_df as rebar\n",
    "from masonry_design.material_properties import NW_CMU, cmu_elastic_modulus\n",
    "conc_density = 150.0 #pcf\n",
    "steel_density = 0.2833 #pci\n",
    "\n",
    "display(Latex(r\"\\newpage\")) #pagebreak"
   ]
  },
  {
   "cell_type": "markdown",
   "id": "b05140eb",
   "metadata": {},
   "source": [
    "#### Allowable Moment"
   ]
  },
  {
   "cell_type": "code",
   "execution_count": 12,
   "id": "71a95968",
   "metadata": {},
   "outputs": [
    {
     "data": {
      "text/plain": [
       "716.65625"
      ]
     },
     "execution_count": 12,
     "metadata": {},
     "output_type": "execute_result"
    }
   ],
   "source": [
    "Ma = 22933 #ft-lbs\n",
    "l = 16 #ft\n",
    "w = 8 * Ma / l**2 #lbs/ft\n",
    "w"
   ]
  },
  {
   "cell_type": "markdown",
   "id": "4467697e",
   "metadata": {},
   "source": [
    "#### Deflections"
   ]
  },
  {
   "cell_type": "code",
   "execution_count": 6,
   "id": "055b146b",
   "metadata": {},
   "outputs": [],
   "source": [
    "fy = 60000 #psi\n",
    "fm = 2000 #psi\n",
    "\n",
    "Em = cmu_elastic_modulus(fm) #ksi\n",
    "Es = 29000 #ksi"
   ]
  },
  {
   "cell_type": "code",
   "execution_count": 7,
   "id": "87f13dd2",
   "metadata": {},
   "outputs": [
    {
     "data": {
      "text/plain": [
       "'Ieff = 413.5 in^4'"
      ]
     },
     "execution_count": 7,
     "metadata": {},
     "output_type": "execute_result"
    }
   ],
   "source": [
    "b = 7.625 #in\n",
    "h = 12 #in\n",
    "In = b * h**3 / 12 #in^4\n",
    "\n",
    "Sg = b * h**2 / 6 #in^3\n",
    "fr = 267 #psi\n",
    "Mcr = fr * Sg / 12 #ft-lbs\n",
    "\n",
    "n = Es / Em\n",
    "bar = \"#5\"\n",
    "As = 2 * rebar.loc[bar, \"Area\"]\n",
    "d = h - 3 #in\n",
    "c = As * fy / (0.64 * fm * b)\n",
    "Icr = n * As * (d-c)**2 + b * c**3 / 3 #in^4\n",
    "\n",
    "Ieff = min(In * (Mcr / Ma)**3 + Icr * (1 - (Mcr / Ma)**3), In)\n",
    "f\"Ieff = {round(Ieff, 2)} in^4\""
   ]
  },
  {
   "cell_type": "code",
   "execution_count": 14,
   "id": "099f1334",
   "metadata": {},
   "outputs": [
    {
     "data": {
      "text/plain": [
       "'deflection = 1.4198 in'"
      ]
     },
     "execution_count": 14,
     "metadata": {},
     "output_type": "execute_result"
    }
   ],
   "source": [
    "defl = 5 * (w/1000/12) * (l*12)**4 / (384 * Em * Ieff)\n",
    "f\"deflection = {round(defl, 4)} in\""
   ]
  },
  {
   "cell_type": "code",
   "execution_count": 16,
   "id": "0976ecbd",
   "metadata": {},
   "outputs": [
    {
     "data": {
      "text/plain": [
       "'deflection limit = 0.32 in'"
      ]
     },
     "execution_count": 16,
     "metadata": {},
     "output_type": "execute_result"
    }
   ],
   "source": [
    "defl_limit = l * 12 / 600\n",
    "f\"deflection limit = {round(defl_limit, 4)} in\""
   ]
  },
  {
   "cell_type": "code",
   "execution_count": 17,
   "id": "372492c4",
   "metadata": {},
   "outputs": [
    {
     "data": {
      "text/plain": [
       "False"
      ]
     },
     "execution_count": 17,
     "metadata": {},
     "output_type": "execute_result"
    }
   ],
   "source": [
    "defl < defl_limit"
   ]
  },
  {
   "cell_type": "code",
   "execution_count": null,
   "id": "1bb67a03",
   "metadata": {},
   "outputs": [],
   "source": []
  }
 ],
 "metadata": {
  "kernelspec": {
   "display_name": "Python 3 (ipykernel)",
   "language": "python",
   "name": "python3"
  },
  "language_info": {
   "codemirror_mode": {
    "name": "ipython",
    "version": 3
   },
   "file_extension": ".py",
   "mimetype": "text/x-python",
   "name": "python",
   "nbconvert_exporter": "python",
   "pygments_lexer": "ipython3",
   "version": "3.9.2"
  },
  "vscode": {
   "interpreter": {
    "hash": "8c340b0736d8d4910d2ca7989655b8187219e0906e973b44a7c0150cb2eac932"
   }
  }
 },
 "nbformat": 4,
 "nbformat_minor": 5
}
