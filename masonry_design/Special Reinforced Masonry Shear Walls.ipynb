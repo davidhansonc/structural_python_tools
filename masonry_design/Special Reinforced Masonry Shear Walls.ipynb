{
 "cells": [
  {
   "cell_type": "code",
   "execution_count": 54,
   "id": "5c4c1a94",
   "metadata": {},
   "outputs": [],
   "source": [
    "# Import Python Tools:\n",
    "from IPython.display import display, Latex\n",
    "import pandas as pd\n",
    "import numpy as np\n",
    "from numpy import sqrt, pi, average, cos, sin, tan, arcsin, arccos, arctan, deg2rad, rad2deg\n",
    "# import sectionproperties as shape\n",
    "\n",
    "from ASCE import load_combos\n",
    "\n",
    "from steel_design.AISC import aisc\n",
    "steel_density = 490 / 12**3 #pci\n",
    "\n",
    "from concrete_design import material_properties as conc\n",
    "from concrete_design.steel_reinforcement import rebar_df as rebar\n",
    "conc_density = 150.0 #pcf\n",
    "\n",
    "from masonry_design import material_properties as cmu\n",
    "from masonry_design.material_properties import NW_CMU #psf\n",
    "\n",
    "from wood_design.sawn_lumber.ref_design_values.table_4a import table_4a_load\n",
    "from wood_design.sawn_lumber.ref_design_values.C_F import C_F_load\n",
    "table_4a = table_4a_load(species=\"DF\")"
   ]
  },
  {
   "attachments": {},
   "cell_type": "markdown",
   "id": "6e411e04",
   "metadata": {},
   "source": [
    "<div style=\"page-break-after: always;\"></div>"
   ]
  },
  {
   "attachments": {},
   "cell_type": "markdown",
   "id": "a712de10",
   "metadata": {},
   "source": [
    "# Special Reinforced Masonry Shear Walls"
   ]
  },
  {
   "attachments": {},
   "cell_type": "markdown",
   "id": "d800c914",
   "metadata": {},
   "source": [
    "## TMS 7.3.2.6 Special Reinforced Masonry Shear Wall Requirements"
   ]
  },
  {
   "attachments": {},
   "cell_type": "markdown",
   "id": "cdb1a578",
   "metadata": {},
   "source": [
    "#### Geometry"
   ]
  },
  {
   "cell_type": "code",
   "execution_count": 55,
   "id": "38e9bd3c",
   "metadata": {},
   "outputs": [],
   "source": [
    "wall_length = 5 #ft\n",
    "wall_height = 16 #ft\n",
    "thickness = 7.625 #in"
   ]
  },
  {
   "cell_type": "code",
   "execution_count": 56,
   "id": "221ffd74",
   "metadata": {},
   "outputs": [],
   "source": [
    "vbar = \"#5\"\n",
    "A_vbar = rebar.loc[vbar, \"Area\"]\n",
    "s_v = 32 #in O.C.\n",
    "\n",
    "hbar = \"#5\"\n",
    "A_hbar = rebar.loc[hbar, \"Area\"]\n",
    "s_h = 48 #in O.C."
   ]
  },
  {
   "attachments": {},
   "cell_type": "markdown",
   "id": "cb615dd7",
   "metadata": {},
   "source": [
    "#### Maximum Reinforcement Spacing"
   ]
  },
  {
   "cell_type": "code",
   "execution_count": 57,
   "id": "65621226",
   "metadata": {},
   "outputs": [
    {
     "data": {
      "text/plain": [
       "'maximum vertical reinforcement spacing = 20.0 in'"
      ]
     },
     "execution_count": 57,
     "metadata": {},
     "output_type": "execute_result"
    }
   ],
   "source": [
    "max_vert_spacing = min(48, wall_length/3 * 12, wall_height/3 * 12) #in\n",
    "f\"maximum vertical reinforcement spacing = {max_vert_spacing} in\""
   ]
  },
  {
   "cell_type": "code",
   "execution_count": 58,
   "id": "b8ce2d2a",
   "metadata": {},
   "outputs": [
    {
     "data": {
      "text/plain": [
       "'maximum horizontal reinforcement spacing = 20.0 in'"
      ]
     },
     "execution_count": 58,
     "metadata": {},
     "output_type": "execute_result"
    }
   ],
   "source": [
    "max_horiz_spacing = min(48, wall_length/3 * 12, wall_height/3 * 12) #in\n",
    "f\"maximum horizontal reinforcement spacing = {max_horiz_spacing} in\""
   ]
  },
  {
   "attachments": {},
   "cell_type": "markdown",
   "id": "30297574",
   "metadata": {},
   "source": [
    "### Minimum Area of Steel"
   ]
  },
  {
   "attachments": {},
   "cell_type": "markdown",
   "id": "3cc2d3f4",
   "metadata": {},
   "source": [
    "#### Minimum Vertical Reinforcement Based on Vertical to Horizontal Ratio"
   ]
  },
  {
   "cell_type": "code",
   "execution_count": 59,
   "id": "85017f38",
   "metadata": {},
   "outputs": [
    {
     "data": {
      "text/plain": [
       "True"
      ]
     },
     "execution_count": 59,
     "metadata": {},
     "output_type": "execute_result"
    }
   ],
   "source": [
    "(A_vbar/s_v) >= (A_hbar/s_h) / 3"
   ]
  },
  {
   "attachments": {},
   "cell_type": "markdown",
   "id": "2920ba91",
   "metadata": {},
   "source": [
    "#### 0.002 * gross cross-sectional area of wall"
   ]
  },
  {
   "cell_type": "code",
   "execution_count": 60,
   "id": "c06264da",
   "metadata": {},
   "outputs": [
    {
     "data": {
      "text/plain": [
       "'As total min = 0.18 in^2/ft'"
      ]
     },
     "execution_count": 60,
     "metadata": {},
     "output_type": "execute_result"
    }
   ],
   "source": [
    "Ag = thickness * 12 #in^2/ft\n",
    "As_total_min = 0.002 * Ag\n",
    "f\"As total min = {round(As_total_min, 2)} in^2/ft\""
   ]
  },
  {
   "cell_type": "code",
   "execution_count": 61,
   "id": "d3c6cc11",
   "metadata": {},
   "outputs": [
    {
     "data": {
      "text/plain": [
       "'As total provided = 0.19 in^2/ft'"
      ]
     },
     "execution_count": 61,
     "metadata": {},
     "output_type": "execute_result"
    }
   ],
   "source": [
    "\n",
    "As_total_provided = A_vbar * 12 / s_v + A_hbar * 12 / s_h\n",
    "\n",
    "f\"As total provided = {round(As_total_provided, 2)} in^2/ft\""
   ]
  },
  {
   "cell_type": "code",
   "execution_count": 62,
   "id": "3c081fd2",
   "metadata": {},
   "outputs": [
    {
     "data": {
      "text/plain": [
       "True"
      ]
     },
     "execution_count": 62,
     "metadata": {},
     "output_type": "execute_result"
    }
   ],
   "source": [
    "As_total_provided > As_total_min"
   ]
  },
  {
   "attachments": {},
   "cell_type": "markdown",
   "id": "e188d801",
   "metadata": {},
   "source": [
    "__min cross-sectional reinforcement 0.0007 * gross cross-sectional area of wall:__"
   ]
  },
  {
   "cell_type": "code",
   "execution_count": 63,
   "id": "84cf1d1d",
   "metadata": {},
   "outputs": [
    {
     "data": {
      "text/plain": [
       "True"
      ]
     },
     "execution_count": 63,
     "metadata": {},
     "output_type": "execute_result"
    }
   ],
   "source": [
    "# Vertical Reinforcement\n",
    "A_vert > 0.0007 * Ag"
   ]
  },
  {
   "cell_type": "code",
   "execution_count": 64,
   "id": "73d8df35",
   "metadata": {},
   "outputs": [
    {
     "data": {
      "text/plain": [
       "True"
      ]
     },
     "execution_count": 64,
     "metadata": {},
     "output_type": "execute_result"
    }
   ],
   "source": [
    "A_horiz > 0.0007 * Ag"
   ]
  }
 ],
 "metadata": {
  "kernelspec": {
   "display_name": "Python 3.9.2 64-bit",
   "language": "python",
   "name": "python3"
  },
  "language_info": {
   "codemirror_mode": {
    "name": "ipython",
    "version": 3
   },
   "file_extension": ".py",
   "mimetype": "text/x-python",
   "name": "python",
   "nbconvert_exporter": "python",
   "pygments_lexer": "ipython3",
   "version": "3.11.3"
  },
  "vscode": {
   "interpreter": {
    "hash": "8c340b0736d8d4910d2ca7989655b8187219e0906e973b44a7c0150cb2eac932"
   }
  }
 },
 "nbformat": 4,
 "nbformat_minor": 5
}
