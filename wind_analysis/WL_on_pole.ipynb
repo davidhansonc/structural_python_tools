{
 "cells": [
  {
   "cell_type": "code",
   "execution_count": 7,
   "id": "8c41b636",
   "metadata": {},
   "outputs": [],
   "source": [
    "# Import Python Tools:\n",
    "from IPython.display import display, Latex\n",
    "import pandas as pd\n",
    "import numpy as np\n",
    "from numpy import sqrt, pi, average, cos, sin, tan, arcsin, arccos, arctan, deg2rad, rad2deg\n",
    "from WhatIfAnalysis import GoalSeek\n",
    "# import sectionproperties as shape\n",
    "\n",
    "from ASCE import load_combos\n",
    "import sys\n",
    "sys.path.append('/Users/davidhansonc/Desktop') #add desktop to PATH for development modules\n",
    "from WLS.WindParameters import WindParameters #Wind Loads Module\n",
    "\n",
    "from steel_design.AISC import aisc\n",
    "steel_density = 490 / 12**3 #pci\n",
    "\n",
    "from concrete_design import material_properties as conc\n",
    "from concrete_design.steel_reinforcement import rebar_df as rebar\n",
    "conc_density = 150.0 #pcf\n",
    "\n",
    "from masonry_design import material_properties as cmu\n",
    "from masonry_design.material_properties import NW_CMU #psf\n",
    "\n",
    "from wood_design.sawn_lumber.ref_design_values.table_4a import table_4a_load\n",
    "from wood_design.sawn_lumber.ref_design_values.adjustment_factors import SawnLumberAdjustmentFactors\n",
    "from wood_design.sawn_lumber.ref_design_values.C_F import C_F_load\n",
    "table_4a = table_4a_load(species=\"DF\")\n"
   ]
  },
  {
   "attachments": {},
   "cell_type": "markdown",
   "id": "04f2be6d",
   "metadata": {},
   "source": [
    "<div style=\"page-break-after: always;\"></div>"
   ]
  },
  {
   "attachments": {},
   "cell_type": "markdown",
   "id": "f5325071",
   "metadata": {},
   "source": [
    "# Wind Load on Pole (ASCE7-16 29.4)"
   ]
  },
  {
   "cell_type": "markdown",
   "id": "74d07116",
   "metadata": {},
   "source": [
    "$$ F = q_z G C_f A_f $$"
   ]
  },
  {
   "cell_type": "code",
   "execution_count": 8,
   "id": "36089767",
   "metadata": {},
   "outputs": [
    {
     "name": "stdout",
     "output_type": "stream",
     "text": [
      "q_z_15 = 20.37 psf\n",
      "q_z_20 = 21.64 psf\n",
      "q_z_25 = 22.68 psf\n",
      "q_z_30 = 23.56 psf\n",
      "q_z_40 = 25.04 psf\n",
      "q_z_50 = 26.24 psf\n",
      "q_z_60 = 27.27 psf\n"
     ]
    }
   ],
   "source": [
    "V = 105 #mph\n",
    "exposure_Cat = \"C\"\n",
    "Height = [15, 20, 25, 30, 40, 50, 60]\n",
    "for h in Height:\n",
    "\tWind_data = WindParameters(V, exposure_Cat, h)\n",
    "\tprint(f\"q_z_{h} = {round(Wind_data.q_z, 2)} psf\")\n"
   ]
  },
  {
   "cell_type": "code",
   "execution_count": 9,
   "id": "e42029ff",
   "metadata": {},
   "outputs": [],
   "source": [
    "def calculate_C_f(D, q_z, h):\n",
    "    h_over_D = h / D\n",
    "    if D * sqrt(q_z) > 2.5:\n",
    "        # Define the points for interpolation\n",
    "        x_points = [1, 7, 25]\n",
    "        y_points = [0.5, 0.6, 0.7]\n",
    "    else:\n",
    "        # Define the points for interpolation\n",
    "        x_points = [1, 7, 25]\n",
    "        y_points = [0.7, 0.8, 1.2]\n",
    "    \n",
    "    # Interpolate C_f based on h_over_D\n",
    "    C_f = np.interp(h_over_D, x_points, y_points)\n",
    "    \n",
    "    return C_f"
   ]
  },
  {
   "cell_type": "code",
   "execution_count": 12,
   "id": "e6bf498d",
   "metadata": {},
   "outputs": [
    {
     "name": "stdout",
     "output_type": "stream",
     "text": [
      "F/ft = 10.39 plf at height = 15 ft\n",
      "F/ft = 11.03 plf at height = 20 ft\n",
      "F/ft = 11.57 plf at height = 25 ft\n",
      "F/ft = 12.02 plf at height = 30 ft\n",
      "F/ft = 7.45 plf at height = 40 ft\n",
      "F/ft = 7.81 plf at height = 50 ft\n",
      "F/ft = 8.11 plf at height = 60 ft\n"
     ]
    }
   ],
   "source": [
    "\n",
    "D = 6 / 12 #ft (width of pole)\n",
    "G = 0.85\n",
    "Height = [15, 20, 25, 30, 40, 50, 60]\n",
    "for h in Height:\n",
    "\tq_z = WindParameters(V, exposure_Cat, h).q_z\n",
    "\th/D, D * sqrt(q_z)\n",
    "\tC_f = calculate_C_f(D, q_z, h)\n",
    "\tF = q_z * G * C_f * D #plf\n",
    "\tprint(f\"F/ft = {round(F, 2)} plf at height = {h} ft\")"
   ]
  }
 ],
 "metadata": {
  "kernelspec": {
   "display_name": "VENV_MAC",
   "language": "python",
   "name": "python3"
  },
  "language_info": {
   "codemirror_mode": {
    "name": "ipython",
    "version": 3
   },
   "file_extension": ".py",
   "mimetype": "text/x-python",
   "name": "python",
   "nbconvert_exporter": "python",
   "pygments_lexer": "ipython3",
   "version": "3.11.3"
  }
 },
 "nbformat": 4,
 "nbformat_minor": 5
}
