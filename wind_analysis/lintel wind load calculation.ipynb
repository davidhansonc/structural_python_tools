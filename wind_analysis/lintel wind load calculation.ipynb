{
 "cells": [
  {
   "cell_type": "code",
   "execution_count": 1,
   "id": "8c41b636",
   "metadata": {},
   "outputs": [
    {
     "ename": "ModuleNotFoundError",
     "evalue": "No module named 'wood_design.ref_design_values'",
     "output_type": "error",
     "traceback": [
      "\u001b[0;31m---------------------------------------------------------------------------\u001b[0m",
      "\u001b[0;31mModuleNotFoundError\u001b[0m                       Traceback (most recent call last)",
      "Cell \u001b[0;32mIn[1], line 20\u001b[0m\n\u001b[1;32m     17\u001b[0m \u001b[39mfrom\u001b[39;00m \u001b[39mmasonry_design\u001b[39;00m \u001b[39mimport\u001b[39;00m material_properties \u001b[39mas\u001b[39;00m cmu\n\u001b[1;32m     18\u001b[0m \u001b[39mfrom\u001b[39;00m \u001b[39mmasonry_design\u001b[39;00m\u001b[39m.\u001b[39;00m\u001b[39mmaterial_properties\u001b[39;00m \u001b[39mimport\u001b[39;00m NW_CMU \u001b[39m#psf\u001b[39;00m\n\u001b[0;32m---> 20\u001b[0m \u001b[39mfrom\u001b[39;00m \u001b[39mwood_design\u001b[39;00m\u001b[39m.\u001b[39;00m\u001b[39mref_design_values\u001b[39;00m\u001b[39m.\u001b[39;00m\u001b[39mtable_4a\u001b[39;00m\u001b[39m.\u001b[39;00m\u001b[39mtable_4a\u001b[39;00m \u001b[39mimport\u001b[39;00m table_4a_load\n\u001b[1;32m     21\u001b[0m table_4a \u001b[39m=\u001b[39m table_4a_load(species\u001b[39m=\u001b[39m\u001b[39m\"\u001b[39m\u001b[39mDF\u001b[39m\u001b[39m\"\u001b[39m)\n",
      "\u001b[0;31mModuleNotFoundError\u001b[0m: No module named 'wood_design.ref_design_values'"
     ]
    }
   ],
   "source": [
    "# Import Python Tools:\n",
    "from IPython.display import display, Latex\n",
    "import pandas as pd\n",
    "import numpy as np\n",
    "from numpy import sqrt, pi, average, cos, sin, tan, arcsin, arccos, arctan, deg2rad, rad2deg\n",
    "# import sectionproperties as shape\n",
    "\n",
    "from ASCE import load_combos\n",
    "\n",
    "from steel_design.AISC import aisc\n",
    "steel_density = 0.2833 #pci\n",
    "\n",
    "from concrete_design import material_properties as conc\n",
    "from concrete_design.steel_reinforcement import rebar_df as rebar\n",
    "conc_density = 150.0 #pcf\n",
    "\n",
    "from masonry_design import material_properties as cmu\n",
    "from masonry_design.material_properties import NW_CMU #psf\n",
    "\n",
    "from wood_design.ref_design_values.table_4a.table_4a import table_4a_load\n",
    "table_4a = table_4a_load(species=\"DF\")"
   ]
  },
  {
   "attachments": {},
   "cell_type": "markdown",
   "id": "04f2be6d",
   "metadata": {},
   "source": [
    "<div style=\"page-break-after: always;\"></div>"
   ]
  },
  {
   "attachments": {},
   "cell_type": "markdown",
   "id": "f82581c0",
   "metadata": {},
   "source": [
    "# Lintel Wind Loads"
   ]
  },
  {
   "cell_type": "code",
   "execution_count": null,
   "id": "28943439",
   "metadata": {},
   "outputs": [],
   "source": [
    "def lintel_wind_loads(WL_cc, wind_distribution, jamb_height, stud_spacing, header_height, lintel_width, sill_height):\n",
    "\n",
    "    if wind_distribution == \"jambs\":\n",
    "        jamb_load = WL_cc * (lintel_width + stud_spacing/12) / 2 #plf\n",
    "        jamb_reaction = jamb_load*jamb_height #lbs\n",
    "        print(f\"jamb load = {round(jamb_load, 2)} plf\")\n",
    "        print(f\"jamb reactions = {round(jamb_reaction, 2)} lbs\")\n",
    "\n",
    "    elif wind_distribution == \"header-sill\":\n",
    "        header_load = WL_cc * (jamb_height - (header_height-sill_height)/2) #plf\n",
    "        sill_load = WL_cc * ((header_height-sill_height)/2 + sill_height/2) #plf\n",
    "        header_reaction = header_load*lintel_width/2 #lbs\n",
    "        sill_reaction = sill_load*lintel_width/2 #lbs\n",
    "        print(f\"header load = {round(header_load, 2)} plf\")\n",
    "        print(f\"sill load = {round(sill_load, 2)} plf\")\n",
    "        print(f\"point loads on jambs = {round(header_reaction, 2)} lbs and {round(sill_reaction, 2)} lbs\")\n",
    "\n",
    "    elif wind_distribution == \"two-way\":\n",
    "        print(\"tbd\")\n",
    "\n",
    "    else:\n",
    "        print(\"error!\")"
   ]
  },
  {
   "cell_type": "code",
   "execution_count": null,
   "id": "69f8b03e",
   "metadata": {},
   "outputs": [],
   "source": [
    "WL_cc = 18.1 #psf\n",
    "\n",
    "jamb_height = 10 #ft\n",
    "stud_spacing = 24 #in O.C.\n",
    "header_height = 8 #ft\n",
    "lintel_width = 6.1 #ft\n",
    "sill_height = 0 #ft"
   ]
  },
  {
   "cell_type": "code",
   "execution_count": null,
   "id": "4f4fb425",
   "metadata": {},
   "outputs": [
    {
     "name": "stdout",
     "output_type": "stream",
     "text": [
      "header load = 108.6 plf\n",
      "sill load = 72.4 plf\n",
      "point loads on jambs = 331.23 lbs and 220.82 lbs\n"
     ]
    }
   ],
   "source": [
    "wind_distribution = \"header-sill\" #(\"jambs\", \"header-sill\", \"two-way\")\n",
    "lintel_wind_loads(WL_cc, wind_distribution, jamb_height, stud_spacing, header_height, lintel_width, sill_height)"
   ]
  },
  {
   "cell_type": "code",
   "execution_count": null,
   "id": "a526d76d",
   "metadata": {},
   "outputs": [
    {
     "name": "stdout",
     "output_type": "stream",
     "text": [
      "jamb load = 327.61 plf\n",
      "jamb reactions = 3276.1 lbs\n"
     ]
    }
   ],
   "source": [
    "wind_distribution = \"jambs\" #(\"jambs\", \"header-sill\", \"two-way\")\n",
    "lintel_wind_loads(WL_cc, wind_distribution, jamb_height, stud_spacing, header_height, lintel_width, sill_height)"
   ]
  },
  {
   "cell_type": "code",
   "execution_count": null,
   "id": "019aa2d2",
   "metadata": {},
   "outputs": [],
   "source": []
  }
 ],
 "metadata": {
  "kernelspec": {
   "display_name": "VENV_MAC",
   "language": "python",
   "name": "python3"
  },
  "language_info": {
   "codemirror_mode": {
    "name": "ipython",
    "version": 3
   },
   "file_extension": ".py",
   "mimetype": "text/x-python",
   "name": "python",
   "nbconvert_exporter": "python",
   "pygments_lexer": "ipython3",
   "version": "3.11.3"
  }
 },
 "nbformat": 4,
 "nbformat_minor": 5
}
