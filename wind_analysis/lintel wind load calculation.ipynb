{
 "cells": [
  {
   "cell_type": "code",
   "execution_count": 35,
   "id": "8c41b636",
   "metadata": {},
   "outputs": [],
   "source": [
    "# Import Python Tools:\n",
    "from IPython.display import display, Latex\n",
    "import pandas as pd\n",
    "import numpy as np\n",
    "from numpy import sqrt, pi, average, cos, sin, tan, arcsin, arccos, arctan, deg2rad, rad2deg\n",
    "# import sectionproperties as shape\n",
    "\n",
    "from ASCE import load_combos\n",
    "\n",
    "from steel_design.AISC import aisc\n",
    "steel_density = 0.2833 #pci\n",
    "\n",
    "from concrete_design import material_properties as conc\n",
    "from concrete_design.steel_reinforcement import rebar_df as rebar\n",
    "conc_density = 150.0 #pcf\n",
    "\n",
    "from masonry_design import material_properties as cmu\n",
    "from masonry_design.material_properties import NW_CMU #psf\n",
    "\n",
    "from wood_design.ref_design_values.table_4a.table_4a import table_4a_load\n",
    "table_4a = table_4a_load(species=\"DF\")"
   ]
  },
  {
   "attachments": {},
   "cell_type": "markdown",
   "id": "04f2be6d",
   "metadata": {},
   "source": [
    "<div style=\"page-break-after: always;\"></div>"
   ]
  },
  {
   "attachments": {},
   "cell_type": "markdown",
   "id": "f82581c0",
   "metadata": {},
   "source": [
    "# Lintel Wind Loads"
   ]
  },
  {
   "cell_type": "code",
   "execution_count": 42,
   "id": "28943439",
   "metadata": {},
   "outputs": [],
   "source": [
    "def lintel_wind_loads(WL_cc, wind_distribution, stud_height, stud_spacing, header_height, lintel_width, sill_height):\n",
    "\n",
    "    if wind_distribution == \"jambs\":\n",
    "        jamb_load = WL_cc * (lintel_width + stud_spacing/12) / 2 #plf\n",
    "        jamb_reaction = jamb_load*stud_height #lbs\n",
    "        print(f\"jamb load = {round(jamb_load, 2)} plf\")\n",
    "        print(f\"jamb reactions = {round(jamb_reaction, 2)} lbs\")\n",
    "\n",
    "    elif wind_distribution == \"header-sill\":\n",
    "        header_load = WL_cc * (stud_height - (header_height-sill_height)/2) #plf\n",
    "        sill_load = WL_cc * ((header_height-sill_height)/2 + sill_height/2) #plf\n",
    "        header_reaction = header_load*lintel_width/2 #lbs\n",
    "        sill_reaction = sill_load*lintel_width/2 #lbs\n",
    "        print(f\"header load = {round(header_load, 2)} plf\")\n",
    "        print(f\"sill load = {round(sill_load, 2)} plf\")\n",
    "        print(f\"point loads on jambs = {round(header_reaction, 2)} lbs and {round(sill_reaction, 2)} lbs\")\n",
    "\n",
    "    elif wind_distribution == \"two-way\":\n",
    "        print(\"tbd\")\n",
    "\n",
    "    else:\n",
    "        print(\"error!\")"
   ]
  },
  {
   "cell_type": "code",
   "execution_count": 49,
   "id": "69f8b03e",
   "metadata": {},
   "outputs": [],
   "source": [
    "WL_cc = 18.1 #psf\n",
    "\n",
    "stud_height = 10 #ft\n",
    "stud_spacing = 24 #in O.C.\n",
    "header_height = 8 #ft\n",
    "lintel_width = 6.1 #ft\n",
    "sill_height = 0 #ft"
   ]
  },
  {
   "cell_type": "code",
   "execution_count": 50,
   "id": "4f4fb425",
   "metadata": {},
   "outputs": [
    {
     "name": "stdout",
     "output_type": "stream",
     "text": [
      "header load = 108.6 plf\n",
      "sill load = 72.4 plf\n",
      "point loads on jambs = 331.23 lbs and 220.82 lbs\n"
     ]
    }
   ],
   "source": [
    "wind_distribution = \"header-sill\" #(\"jambs\", \"header-sill\", \"two-way\")\n",
    "lintel_wind_loads(WL_cc, wind_distribution, stud_height, stud_spacing, header_height, lintel_width, sill_height)"
   ]
  },
  {
   "cell_type": "code",
   "execution_count": 51,
   "id": "a526d76d",
   "metadata": {},
   "outputs": [
    {
     "name": "stdout",
     "output_type": "stream",
     "text": [
      "jamb load = 327.61 plf\n",
      "jamb reactions = 3276.1 lbs\n"
     ]
    }
   ],
   "source": [
    "wind_distribution = \"jambs\" #(\"jambs\", \"header-sill\", \"two-way\")\n",
    "lintel_wind_loads(WL_cc, wind_distribution, stud_height, stud_spacing, header_height, lintel_width, sill_height)"
   ]
  },
  {
   "cell_type": "code",
   "execution_count": null,
   "id": "019aa2d2",
   "metadata": {},
   "outputs": [],
   "source": []
  }
 ],
 "metadata": {
  "kernelspec": {
   "display_name": "VENV",
   "language": "python",
   "name": "venv"
  },
  "language_info": {
   "codemirror_mode": {
    "name": "ipython",
    "version": 3
   },
   "file_extension": ".py",
   "mimetype": "text/x-python",
   "name": "python",
   "nbconvert_exporter": "python",
   "pygments_lexer": "ipython3",
   "version": "3.11.3"
  },
  "vscode": {
   "interpreter": {
    "hash": "8c340b0736d8d4910d2ca7989655b8187219e0906e973b44a7c0150cb2eac932"
   }
  }
 },
 "nbformat": 4,
 "nbformat_minor": 5
}
