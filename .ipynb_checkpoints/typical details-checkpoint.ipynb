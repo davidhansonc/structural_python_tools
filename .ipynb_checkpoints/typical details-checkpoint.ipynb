{
 "cells": [
  {
   "cell_type": "code",
   "execution_count": 1,
   "id": "63dcd15e",
   "metadata": {},
   "outputs": [
    {
     "data": {
      "text/latex": [
       "\\newpage"
      ],
      "text/plain": [
       "<IPython.core.display.Latex object>"
      ]
     },
     "metadata": {},
     "output_type": "display_data"
    }
   ],
   "source": [
    "# Import Python Tools:\n",
    "from IPython.display import display, Latex\n",
    "import pandas as pd\n",
    "import numpy as np\n",
    "from numpy import sqrt, pi, cos, sin, tan, arcsin, arccos, arctan, deg2rad, rad2deg\n",
    "\n",
    "conc_density = 150.0 #pcf\n",
    "\n",
    "from steel_design.AISC import aisc\n",
    "from concrete_design.steel_reinforcement import rebar_df as rebar\n",
    "\n",
    "display(Latex(r\"\\newpage\")) #pagebreak"
   ]
  },
  {
   "cell_type": "markdown",
   "id": "4f46dafd",
   "metadata": {},
   "source": [
    "# Footings\n",
    "## Plain concrete check"
   ]
  },
  {
   "cell_type": "code",
   "execution_count": 3,
   "id": "e9281cd9",
   "metadata": {},
   "outputs": [
    {
     "data": {
      "text/plain": [
       "'phiMn = 2.08 kip-ft'"
      ]
     },
     "execution_count": 3,
     "metadata": {},
     "output_type": "execute_result"
    }
   ],
   "source": [
    "phi = 0.60\n",
    "lmbda = 1.0\n",
    "fc = 2500.0 #psi\n",
    "t = 10.0 #in\n",
    "b = 10.0 #in (per foot basis)\n",
    "Sm = b * t**2 / 6 #in^3\n",
    "\n",
    "phiMn = phi * min(5 * lmbda * sqrt(fc) * Sm, 0.85 * fc * Sm) / 1000 / 12 #kip-ft\n",
    "f\"phiMn = {round(phiMn, 2)} kip-ft\""
   ]
  },
  {
   "cell_type": "code",
   "execution_count": null,
   "id": "13452e1d",
   "metadata": {},
   "outputs": [],
   "source": []
  }
 ],
 "metadata": {
  "kernelspec": {
   "display_name": "Python 3 (ipykernel)",
   "language": "python",
   "name": "python3"
  },
  "language_info": {
   "codemirror_mode": {
    "name": "ipython",
    "version": 3
   },
   "file_extension": ".py",
   "mimetype": "text/x-python",
   "name": "python",
   "nbconvert_exporter": "python",
   "pygments_lexer": "ipython3",
   "version": "3.9.2"
  }
 },
 "nbformat": 4,
 "nbformat_minor": 5
}
