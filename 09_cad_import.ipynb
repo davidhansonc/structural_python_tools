{
  "cells": [
    {
      "cell_type": "code",
      "execution_count": 5,
      "metadata": {
        "collapsed": false
      },
      "outputs": [],
      "source": [
        "%matplotlib inline"
      ]
    },
    {
      "cell_type": "markdown",
      "metadata": {},
      "source": [
        "\n",
        "\n",
        "# Importing Geometry from CAD\n",
        "\n",
        "Demonstrates loading :class:`~sectionproperties.pre.geometry.Geometry` and\n",
        ":class:`~sectionproperties.pre.geometry.CompoundGeometry` objects from `.dxf` and `.3dm` (Rhino)\n",
        "files.\n"
      ]
    },
    {
      "cell_type": "code",
      "execution_count": 7,
      "metadata": {
        "collapsed": false
      },
      "outputs": [],
      "source": [
        "# sphinx_gallery_thumbnail_number = 8\n",
        "\n",
        "from sectionproperties.pre.geometry import Geometry, CompoundGeometry\n",
        "from sectionproperties.analysis.section import Section"
      ]
    },
    {
      "cell_type": "markdown",
      "metadata": {},
      "source": [
        "Load a geometry with a single region from a dxf file\n",
        "\n"
      ]
    },
    {
      "cell_type": "code",
      "execution_count": 8,
      "metadata": {
        "collapsed": false
      },
      "outputs": [
        {
          "ename": "ValueError",
          "evalue": "The filepath does not exist: files\\section_holes.dxf",
          "output_type": "error",
          "traceback": [
            "\u001b[1;31m---------------------------------------------------------------------------\u001b[0m",
            "\u001b[1;31mValueError\u001b[0m                                Traceback (most recent call last)",
            "\u001b[1;32mc:\\Users\\dhanson\\Desktop\\Resources\\python_resources\\09_cad_import.ipynb Cell 5\u001b[0m in \u001b[0;36m<module>\u001b[1;34m\u001b[0m\n\u001b[1;32m----> <a href='vscode-notebook-cell:/c%3A/Users/dhanson/Desktop/Resources/python_resources/09_cad_import.ipynb#W4sZmlsZQ%3D%3D?line=0'>1</a>\u001b[0m geom \u001b[39m=\u001b[39m Geometry\u001b[39m.\u001b[39;49mfrom_dxf(dxf_filepath\u001b[39m=\u001b[39;49m\u001b[39m\"\u001b[39;49m\u001b[39mfiles/section_holes.dxf\u001b[39;49m\u001b[39m\"\u001b[39;49m)\n\u001b[0;32m      <a href='vscode-notebook-cell:/c%3A/Users/dhanson/Desktop/Resources/python_resources/09_cad_import.ipynb#W4sZmlsZQ%3D%3D?line=1'>2</a>\u001b[0m geom\u001b[39m.\u001b[39mplot_geometry()\n",
            "File \u001b[1;32mc:\\Users\\dhanson\\AppData\\Local\\Programs\\Python\\Python39\\lib\\site-packages\\sectionproperties\\pre\\geometry.py:221\u001b[0m, in \u001b[0;36mGeometry.from_dxf\u001b[1;34m(dxf_filepath)\u001b[0m\n\u001b[0;32m    211\u001b[0m \u001b[39m@staticmethod\u001b[39m\n\u001b[0;32m    212\u001b[0m \u001b[39mdef\u001b[39;00m \u001b[39mfrom_dxf\u001b[39m(\n\u001b[0;32m    213\u001b[0m     dxf_filepath: Union[\u001b[39mstr\u001b[39m, pathlib\u001b[39m.\u001b[39mPath],\n\u001b[0;32m    214\u001b[0m ) \u001b[39m-\u001b[39m\u001b[39m>\u001b[39m Union[Geometry, CompoundGeometry]:\n\u001b[0;32m    215\u001b[0m \u001b[39m    \u001b[39m\u001b[39m\"\"\"\u001b[39;00m\n\u001b[0;32m    216\u001b[0m \u001b[39m    An interface for the creation of Geometry objects from CAD .dxf files.\u001b[39;00m\n\u001b[0;32m    217\u001b[0m \n\u001b[0;32m    218\u001b[0m \u001b[39m    :cvar dxf_filepath: A path-like object for the dxf file\u001b[39;00m\n\u001b[0;32m    219\u001b[0m \u001b[39m    :vartype dxf_filepath: Union[str, pathlib.Path]\u001b[39;00m\n\u001b[0;32m    220\u001b[0m \u001b[39m    \"\"\"\u001b[39;00m\n\u001b[1;32m--> 221\u001b[0m     \u001b[39mreturn\u001b[39;00m load_dxf(dxf_filepath)\n",
            "File \u001b[1;32mc:\\Users\\dhanson\\AppData\\Local\\Programs\\Python\\Python39\\lib\\site-packages\\sectionproperties\\pre\\geometry.py:1857\u001b[0m, in \u001b[0;36mload_dxf\u001b[1;34m(dxf_filepath)\u001b[0m\n\u001b[0;32m   1854\u001b[0m     dxf_filepath \u001b[39m=\u001b[39m pathlib\u001b[39m.\u001b[39mPath(dxf_filepath)\n\u001b[0;32m   1856\u001b[0m \u001b[39mif\u001b[39;00m \u001b[39mnot\u001b[39;00m dxf_filepath\u001b[39m.\u001b[39mexists():\n\u001b[1;32m-> 1857\u001b[0m     \u001b[39mraise\u001b[39;00m \u001b[39mValueError\u001b[39;00m(\u001b[39mf\u001b[39m\u001b[39m\"\u001b[39m\u001b[39mThe filepath does not exist: \u001b[39m\u001b[39m{\u001b[39;00mdxf_filepath\u001b[39m}\u001b[39;00m\u001b[39m\"\u001b[39m)\n\u001b[0;32m   1859\u001b[0m my_dxf \u001b[39m=\u001b[39m c2s\u001b[39m.\u001b[39mdxf\u001b[39m.\u001b[39mDxfImporter(dxf_filepath)\n\u001b[0;32m   1860\u001b[0m my_dxf\u001b[39m.\u001b[39mprocess()\n",
            "\u001b[1;31mValueError\u001b[0m: The filepath does not exist: files\\section_holes.dxf"
          ]
        }
      ],
      "source": [
        "geom = Geometry.from_dxf(dxf_filepath=\"files/section_holes.dxf\")\n",
        "geom.plot_geometry()"
      ]
    },
    {
      "cell_type": "markdown",
      "metadata": {},
      "source": [
        "Generate a mesh\n",
        "\n"
      ]
    },
    {
      "cell_type": "code",
      "execution_count": null,
      "metadata": {
        "collapsed": false
      },
      "outputs": [],
      "source": [
        "geom.create_mesh([1])\n",
        "sec = Section(geom)\n",
        "sec.plot_mesh(materials=False)"
      ]
    },
    {
      "cell_type": "markdown",
      "metadata": {},
      "source": [
        "Conduct a geometric & plastic analysis\n",
        "\n"
      ]
    },
    {
      "cell_type": "code",
      "execution_count": null,
      "metadata": {
        "collapsed": false
      },
      "outputs": [],
      "source": [
        "sec.calculate_geometric_properties()\n",
        "sec.calculate_plastic_properties()\n",
        "sec.plot_centroids()"
      ]
    },
    {
      "cell_type": "markdown",
      "metadata": {},
      "source": [
        "Display the geometric & plastic properties\n",
        "\n"
      ]
    },
    {
      "cell_type": "code",
      "execution_count": 4,
      "metadata": {
        "collapsed": false
      },
      "outputs": [
        {
          "ename": "NameError",
          "evalue": "name 'sec' is not defined",
          "output_type": "error",
          "traceback": [
            "\u001b[1;31m---------------------------------------------------------------------------\u001b[0m",
            "\u001b[1;31mNameError\u001b[0m                                 Traceback (most recent call last)",
            "\u001b[1;32mc:\\Users\\dhanson\\Desktop\\Resources\\python_resources\\09_cad_import.ipynb Cell 11\u001b[0m in \u001b[0;36m<module>\u001b[1;34m\u001b[0m\n\u001b[1;32m----> <a href='vscode-notebook-cell:/c%3A/Users/dhanson/Desktop/Resources/python_resources/09_cad_import.ipynb#X13sZmlsZQ%3D%3D?line=0'>1</a>\u001b[0m sec\u001b[39m.\u001b[39mdisplay_results()\n",
            "\u001b[1;31mNameError\u001b[0m: name 'sec' is not defined"
          ]
        }
      ],
      "source": [
        "sec.display_results()"
      ]
    }
  ],
  "metadata": {
    "kernelspec": {
      "display_name": "Python 3",
      "language": "python",
      "name": "python3"
    },
    "language_info": {
      "codemirror_mode": {
        "name": "ipython",
        "version": 3
      },
      "file_extension": ".py",
      "mimetype": "text/x-python",
      "name": "python",
      "nbconvert_exporter": "python",
      "pygments_lexer": "ipython3",
      "version": "3.9.2"
    }
  },
  "nbformat": 4,
  "nbformat_minor": 0
}
