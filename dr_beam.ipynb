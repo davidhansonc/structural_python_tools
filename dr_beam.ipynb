{
 "cells": [
  {
   "cell_type": "code",
   "execution_count": 20,
   "id": "e4b9a22f",
   "metadata": {},
   "outputs": [
    {
     "data": {
      "text/latex": [
       "\\newpage"
      ],
      "text/plain": [
       "<IPython.core.display.Latex object>"
      ]
     },
     "metadata": {},
     "output_type": "display_data"
    }
   ],
   "source": [
    "# Import Python Tools:\n",
    "from IPython.display import display, Latex\n",
    "import pandas as pd\n",
    "import numpy as np\n",
    "from numpy import sqrt, pi, average, cos, sin, tan, arcsin, arccos, arctan, deg2rad, rad2deg\n",
    "\n",
    "import load_combos\n",
    "\n",
    "from steel_design.AISC import aisc\n",
    "steel_density = 0.2833 #pci\n",
    "\n",
    "from concrete_design import material_properties as conc\n",
    "from concrete_design.steel_reinforcement import rebar_df as rebar\n",
    "conc_density = 150.0 #pcf\n",
    "\n",
    "from masonry_design import material_properties as cmu\n",
    "from masonry_design.material_properties import NW_CMU\n",
    "\n",
    "from wood_design.ref_design_values.table_4a.table_4a import table_4a_load\n",
    "table_4a = table_4a_load(species=\"DF\")\n",
    "\n",
    "import matplotlib as plt\n",
    "%matplotlib inline\n",
    "\n",
    "# import beam and supports\n",
    "from indeterminatebeam import Beam, Support\n",
    "\n",
    "# import loads (all load types imported for reference)\n",
    "from indeterminatebeam import (\n",
    "    PointTorque,\n",
    "    PointLoad,\n",
    "    PointLoadV,\n",
    "    PointLoadH,\n",
    "    UDL,\n",
    "    UDLV,\n",
    "    UDLH,\n",
    "    TrapezoidalLoad,\n",
    "    TrapezoidalLoadV,\n",
    "    TrapezoidalLoadH,\n",
    "    DistributedLoad,\n",
    "    DistributedLoadV,\n",
    "    DistributedLoadH\n",
    ")\n",
    "\n",
    "display(Latex(r\"\\newpage\")) #pagebreak"
   ]
  },
  {
   "cell_type": "code",
   "execution_count": 21,
   "id": "bbd70d0d",
   "metadata": {},
   "outputs": [
    {
     "data": {
      "application/vnd.plotly.v1+json": {
       "config": {
        "plotlyServerURL": "https://plot.ly"
       },
       "data": [
        {
         "hoverinfo": "skip",
         "hovertemplate": "%{x} %{meta[0]}",
         "line": {
          "color": "purple",
          "width": 2
         },
         "meta": [
          "ft"
         ],
         "mode": "lines",
         "name": "Beam_",
         "type": "scatter",
         "x": [
          0,
          17
         ],
         "xaxis": "x",
         "y": [
          0,
          0
         ],
         "yaxis": "y"
        },
        {
         "hoverinfo": "skip",
         "hovertemplate": "x: %{x:.3f} %{meta[1]}<br>Fixed: %{meta[0]}",
         "marker": {
          "color": "blue",
          "size": 10,
          "symbol": "triangle-up"
         },
         "meta": [
          "[1, 1, 0]",
          "m"
         ],
         "mode": "markers",
         "name": "Support",
         "opacity": 0,
         "showlegend": false,
         "type": "scatter",
         "x": [
          0
         ],
         "xaxis": "x",
         "y": [
          0
         ],
         "yaxis": "y"
        },
        {
         "fill": "toself",
         "hoverinfo": "skip",
         "marker": {
          "color": "blue",
          "size": 10,
          "symbol": "arrow-up"
         },
         "mode": "markers",
         "name": "Support",
         "showlegend": false,
         "type": "scatter",
         "x": [
          0
         ],
         "xaxis": "x",
         "y": [
          0
         ],
         "yaxis": "y"
        },
        {
         "hoverinfo": "skip",
         "hovertemplate": "x: %{x:.3f} %{meta[1]}<br>Fixed: %{meta[0]}",
         "marker": {
          "color": "blue",
          "size": 10,
          "symbol": "triangle-up"
         },
         "meta": [
          "[1, 1, 0]",
          "m"
         ],
         "mode": "markers",
         "name": "Support",
         "opacity": 0,
         "showlegend": false,
         "type": "scatter",
         "x": [
          3
         ],
         "xaxis": "x",
         "y": [
          0
         ],
         "yaxis": "y"
        },
        {
         "fill": "toself",
         "hoverinfo": "skip",
         "marker": {
          "color": "blue",
          "size": 10,
          "symbol": "arrow-up"
         },
         "mode": "markers",
         "name": "Support",
         "showlegend": false,
         "type": "scatter",
         "x": [
          3
         ],
         "xaxis": "x",
         "y": [
          0
         ],
         "yaxis": "y"
        },
        {
         "hoverinfo": "skip",
         "hovertemplate": "x: %{x:.3f} %{meta[1]}<br>Fixed: %{meta[0]}",
         "marker": {
          "color": "blue",
          "size": 10,
          "symbol": "triangle-up"
         },
         "meta": [
          "[1, 1, 0]",
          "m"
         ],
         "mode": "markers",
         "name": "Support",
         "opacity": 0,
         "showlegend": false,
         "type": "scatter",
         "x": [
          14
         ],
         "xaxis": "x",
         "y": [
          0
         ],
         "yaxis": "y"
        },
        {
         "fill": "toself",
         "hoverinfo": "skip",
         "marker": {
          "color": "blue",
          "size": 10,
          "symbol": "arrow-up"
         },
         "mode": "markers",
         "name": "Support",
         "showlegend": false,
         "type": "scatter",
         "x": [
          14
         ],
         "xaxis": "x",
         "y": [
          0
         ],
         "yaxis": "y"
        },
        {
         "hoverinfo": "skip",
         "hovertemplate": "x: %{x:.3f} %{meta[1]}<br>Fixed: %{meta[0]}",
         "marker": {
          "color": "blue",
          "size": 10,
          "symbol": "triangle-up"
         },
         "meta": [
          "[1, 1, 0]",
          "m"
         ],
         "mode": "markers",
         "name": "Support",
         "opacity": 0,
         "showlegend": false,
         "type": "scatter",
         "x": [
          17
         ],
         "xaxis": "x",
         "y": [
          0
         ],
         "yaxis": "y"
        },
        {
         "fill": "toself",
         "hoverinfo": "skip",
         "marker": {
          "color": "blue",
          "size": 10,
          "symbol": "arrow-up"
         },
         "mode": "markers",
         "name": "Support",
         "showlegend": false,
         "type": "scatter",
         "x": [
          17
         ],
         "xaxis": "x",
         "y": [
          0
         ],
         "yaxis": "y"
        },
        {
         "hoverinfo": "skip",
         "hovertemplate": "x: %{meta[1]:.3f} %{meta[2]}<br>Force: %{meta[0]:.3f} %{meta[3]}            <br>Angle: %{meta[5]:.3f} deg",
         "marker": {
          "color": "red",
          "size": 10,
          "symbol": "triangle-up"
         },
         "meta": [
          3500,
          4.5,
          "ft",
          "lbf",
          "lbf.ft",
          90
         ],
         "mode": "markers",
         "name": "Point<br>Load",
         "opacity": 0,
         "showlegend": false,
         "type": "scatter",
         "x": [
          4.5
         ],
         "xaxis": "x",
         "y": [
          0
         ],
         "yaxis": "y"
        },
        {
         "hoverinfo": "skip",
         "hovertemplate": "x: %{meta[1]:.3f} %{meta[2]}<br>Force: %{meta[0]:.3f} %{meta[3]}            <br>Angle: %{meta[5]:.3f} deg",
         "marker": {
          "color": "red",
          "size": 10,
          "symbol": "triangle-up"
         },
         "meta": [
          3500,
          12.5,
          "ft",
          "lbf",
          "lbf.ft",
          90
         ],
         "mode": "markers",
         "name": "Point<br>Load",
         "opacity": 0,
         "showlegend": false,
         "type": "scatter",
         "x": [
          12.5
         ],
         "xaxis": "x",
         "y": [
          0
         ],
         "yaxis": "y"
        },
        {
         "hoverinfo": "skip",
         "hovertemplate": "%{x}",
         "line": {
          "color": "purple",
          "width": 2
         },
         "mode": "lines",
         "name": "Beam",
         "type": "scatter",
         "x": [
          0,
          17
         ],
         "xaxis": "x2",
         "y": [
          0,
          0
         ],
         "yaxis": "y2"
        },
        {
         "hoverinfo": "skip",
         "hovertemplate": "Reactions<br>x coord: %{x:.3f} %{meta[3]}<br>y: %{meta[1]:.3f} %{meta[4]}",
         "marker": {
          "color": "red",
          "size": 10,
          "symbol": "triangle-up"
         },
         "meta": [
          0,
          1278.8461538462,
          0,
          "ft",
          "lbf",
          "lbf.ft"
         ],
         "mode": "markers",
         "name": "Reaction",
         "opacity": 0,
         "showlegend": false,
         "type": "scatter",
         "x": [
          0
         ],
         "xaxis": "x2",
         "y": [
          0
         ],
         "yaxis": "y2"
        },
        {
         "hoverinfo": "skip",
         "hovertemplate": "Reactions<br>x coord: %{x:.3f} %{meta[3]}<br>y: %{meta[1]:.3f} %{meta[4]}",
         "marker": {
          "color": "red",
          "size": 10,
          "symbol": "triangle-up"
         },
         "meta": [
          0,
          -4778.8461538462,
          0,
          "ft",
          "lbf",
          "lbf.ft"
         ],
         "mode": "markers",
         "name": "Reaction",
         "opacity": 0,
         "showlegend": false,
         "type": "scatter",
         "x": [
          3
         ],
         "xaxis": "x2",
         "y": [
          0
         ],
         "yaxis": "y2"
        },
        {
         "hoverinfo": "skip",
         "hovertemplate": "Reactions<br>x coord: %{x:.3f} %{meta[3]}<br>y: %{meta[1]:.3f} %{meta[4]}",
         "marker": {
          "color": "red",
          "size": 10,
          "symbol": "triangle-up"
         },
         "meta": [
          0,
          -4778.8461538461,
          0,
          "ft",
          "lbf",
          "lbf.ft"
         ],
         "mode": "markers",
         "name": "Reaction",
         "opacity": 0,
         "showlegend": false,
         "type": "scatter",
         "x": [
          14
         ],
         "xaxis": "x2",
         "y": [
          0
         ],
         "yaxis": "y2"
        },
        {
         "hoverinfo": "skip",
         "hovertemplate": "Reactions<br>x coord: %{x:.3f} %{meta[3]}<br>y: %{meta[1]:.3f} %{meta[4]}",
         "marker": {
          "color": "red",
          "size": 10,
          "symbol": "triangle-up"
         },
         "meta": [
          0,
          1278.8461538461,
          0,
          "ft",
          "lbf",
          "lbf.ft"
         ],
         "mode": "markers",
         "name": "Reaction",
         "opacity": 0,
         "showlegend": false,
         "type": "scatter",
         "x": [
          17
         ],
         "xaxis": "x2",
         "y": [
          0
         ],
         "yaxis": "y2"
        }
       ],
       "layout": {
        "annotations": [
         {
          "font": {
           "size": 16
          },
          "showarrow": false,
          "text": "Beam schematic",
          "x": 0.5,
          "xanchor": "center",
          "xref": "paper",
          "y": 1,
          "yanchor": "bottom",
          "yref": "paper"
         },
         {
          "font": {
           "size": 16
          },
          "showarrow": false,
          "text": "Reaction Forces",
          "x": 0.5,
          "xanchor": "center",
          "xref": "paper",
          "y": 0.45,
          "yanchor": "bottom",
          "yref": "paper"
         },
         {
          "font": {
           "color": "red"
          },
          "showarrow": false,
          "text": "3500.000 lbf",
          "x": 4.5,
          "xref": "x",
          "xshift": 0,
          "y": 0,
          "yref": "y",
          "yshift": -52
         },
         {
          "font": {
           "color": "red"
          },
          "showarrow": false,
          "text": "3500.000 lbf",
          "x": 12.5,
          "xref": "x",
          "xshift": 0,
          "y": 0,
          "yref": "y",
          "yshift": -52
         },
         {
          "font": {
           "color": "red"
          },
          "showarrow": false,
          "text": "1278.846 lbf",
          "x": 0,
          "xref": "x2",
          "xshift": 0,
          "y": 0,
          "yref": "y2",
          "yshift": -52
         },
         {
          "font": {
           "color": "red"
          },
          "showarrow": false,
          "text": "-4778.846 lbf",
          "x": 3,
          "xref": "x2",
          "xshift": 0,
          "y": 0,
          "yref": "y2",
          "yshift": 52
         },
         {
          "font": {
           "color": "red"
          },
          "showarrow": false,
          "text": "-4778.846 lbf",
          "x": 14,
          "xref": "x2",
          "xshift": 0,
          "y": 0,
          "yref": "y2",
          "yshift": 52
         },
         {
          "font": {
           "color": "red"
          },
          "showarrow": false,
          "text": "1278.846 lbf",
          "x": 17,
          "xref": "x2",
          "xshift": 0,
          "y": 0,
          "yref": "y2",
          "yshift": -52
         }
        ],
        "height": 550,
        "hovermode": "x",
        "shapes": [
         {
          "line": {
           "color": "red",
           "width": 2
          },
          "type": "line",
          "x0": 0,
          "x1": 3,
          "xanchor": 4.5,
          "xref": "x",
          "xsizemode": "pixel",
          "y0": 0,
          "y1": -3,
          "yanchor": 0,
          "yref": "y",
          "ysizemode": "pixel"
         },
         {
          "line": {
           "color": "red",
           "width": 2
          },
          "type": "line",
          "x0": 0,
          "x1": -3,
          "xanchor": 4.5,
          "xref": "x",
          "xsizemode": "pixel",
          "y0": 0,
          "y1": -3,
          "yanchor": 0,
          "yref": "y",
          "ysizemode": "pixel"
         },
         {
          "line": {
           "color": "red",
           "width": 2
          },
          "type": "line",
          "x0": 0,
          "x1": 0,
          "xanchor": 4.5,
          "xref": "x",
          "xsizemode": "pixel",
          "y0": 0,
          "y1": -40,
          "yanchor": 0,
          "yref": "y",
          "ysizemode": "pixel"
         },
         {
          "line": {
           "color": "red",
           "width": 2
          },
          "type": "line",
          "x0": 0,
          "x1": 3,
          "xanchor": 12.5,
          "xref": "x",
          "xsizemode": "pixel",
          "y0": 0,
          "y1": -3,
          "yanchor": 0,
          "yref": "y",
          "ysizemode": "pixel"
         },
         {
          "line": {
           "color": "red",
           "width": 2
          },
          "type": "line",
          "x0": 0,
          "x1": -3,
          "xanchor": 12.5,
          "xref": "x",
          "xsizemode": "pixel",
          "y0": 0,
          "y1": -3,
          "yanchor": 0,
          "yref": "y",
          "ysizemode": "pixel"
         },
         {
          "line": {
           "color": "red",
           "width": 2
          },
          "type": "line",
          "x0": 0,
          "x1": 0,
          "xanchor": 12.5,
          "xref": "x",
          "xsizemode": "pixel",
          "y0": 0,
          "y1": -40,
          "yanchor": 0,
          "yref": "y",
          "ysizemode": "pixel"
         },
         {
          "line": {
           "color": "red",
           "width": 2
          },
          "type": "line",
          "x0": 0,
          "x1": 3,
          "xanchor": 0,
          "xref": "x2",
          "xsizemode": "pixel",
          "y0": 0,
          "y1": -3,
          "yanchor": 0,
          "yref": "y2",
          "ysizemode": "pixel"
         },
         {
          "line": {
           "color": "red",
           "width": 2
          },
          "type": "line",
          "x0": 0,
          "x1": -3,
          "xanchor": 0,
          "xref": "x2",
          "xsizemode": "pixel",
          "y0": 0,
          "y1": -3,
          "yanchor": 0,
          "yref": "y2",
          "ysizemode": "pixel"
         },
         {
          "line": {
           "color": "red",
           "width": 2
          },
          "type": "line",
          "x0": 0,
          "x1": 0,
          "xanchor": 0,
          "xref": "x2",
          "xsizemode": "pixel",
          "y0": 0,
          "y1": -40,
          "yanchor": 0,
          "yref": "y2",
          "ysizemode": "pixel"
         },
         {
          "line": {
           "color": "red",
           "width": 2
          },
          "type": "line",
          "x0": 0,
          "x1": -3,
          "xanchor": 3,
          "xref": "x2",
          "xsizemode": "pixel",
          "y0": 0,
          "y1": 3,
          "yanchor": 0,
          "yref": "y2",
          "ysizemode": "pixel"
         },
         {
          "line": {
           "color": "red",
           "width": 2
          },
          "type": "line",
          "x0": 0,
          "x1": 3,
          "xanchor": 3,
          "xref": "x2",
          "xsizemode": "pixel",
          "y0": 0,
          "y1": 3,
          "yanchor": 0,
          "yref": "y2",
          "ysizemode": "pixel"
         },
         {
          "line": {
           "color": "red",
           "width": 2
          },
          "type": "line",
          "x0": 0,
          "x1": 0,
          "xanchor": 3,
          "xref": "x2",
          "xsizemode": "pixel",
          "y0": 0,
          "y1": 40,
          "yanchor": 0,
          "yref": "y2",
          "ysizemode": "pixel"
         },
         {
          "line": {
           "color": "red",
           "width": 2
          },
          "type": "line",
          "x0": 0,
          "x1": -3,
          "xanchor": 14,
          "xref": "x2",
          "xsizemode": "pixel",
          "y0": 0,
          "y1": 3,
          "yanchor": 0,
          "yref": "y2",
          "ysizemode": "pixel"
         },
         {
          "line": {
           "color": "red",
           "width": 2
          },
          "type": "line",
          "x0": 0,
          "x1": 3,
          "xanchor": 14,
          "xref": "x2",
          "xsizemode": "pixel",
          "y0": 0,
          "y1": 3,
          "yanchor": 0,
          "yref": "y2",
          "ysizemode": "pixel"
         },
         {
          "line": {
           "color": "red",
           "width": 2
          },
          "type": "line",
          "x0": 0,
          "x1": 0,
          "xanchor": 14,
          "xref": "x2",
          "xsizemode": "pixel",
          "y0": 0,
          "y1": 40,
          "yanchor": 0,
          "yref": "y2",
          "ysizemode": "pixel"
         },
         {
          "line": {
           "color": "red",
           "width": 2
          },
          "type": "line",
          "x0": 0,
          "x1": 3,
          "xanchor": 17,
          "xref": "x2",
          "xsizemode": "pixel",
          "y0": 0,
          "y1": -3,
          "yanchor": 0,
          "yref": "y2",
          "ysizemode": "pixel"
         },
         {
          "line": {
           "color": "red",
           "width": 2
          },
          "type": "line",
          "x0": 0,
          "x1": -3,
          "xanchor": 17,
          "xref": "x2",
          "xsizemode": "pixel",
          "y0": 0,
          "y1": -3,
          "yanchor": 0,
          "yref": "y2",
          "ysizemode": "pixel"
         },
         {
          "line": {
           "color": "red",
           "width": 2
          },
          "type": "line",
          "x0": 0,
          "x1": 0,
          "xanchor": 17,
          "xref": "x2",
          "xsizemode": "pixel",
          "y0": 0,
          "y1": -40,
          "yanchor": 0,
          "yref": "y2",
          "ysizemode": "pixel"
         }
        ],
        "showlegend": false,
        "template": {
         "data": {
          "bar": [
           {
            "error_x": {
             "color": "#2a3f5f"
            },
            "error_y": {
             "color": "#2a3f5f"
            },
            "marker": {
             "line": {
              "color": "#E5ECF6",
              "width": 0.5
             },
             "pattern": {
              "fillmode": "overlay",
              "size": 10,
              "solidity": 0.2
             }
            },
            "type": "bar"
           }
          ],
          "barpolar": [
           {
            "marker": {
             "line": {
              "color": "#E5ECF6",
              "width": 0.5
             },
             "pattern": {
              "fillmode": "overlay",
              "size": 10,
              "solidity": 0.2
             }
            },
            "type": "barpolar"
           }
          ],
          "carpet": [
           {
            "aaxis": {
             "endlinecolor": "#2a3f5f",
             "gridcolor": "white",
             "linecolor": "white",
             "minorgridcolor": "white",
             "startlinecolor": "#2a3f5f"
            },
            "baxis": {
             "endlinecolor": "#2a3f5f",
             "gridcolor": "white",
             "linecolor": "white",
             "minorgridcolor": "white",
             "startlinecolor": "#2a3f5f"
            },
            "type": "carpet"
           }
          ],
          "choropleth": [
           {
            "colorbar": {
             "outlinewidth": 0,
             "ticks": ""
            },
            "type": "choropleth"
           }
          ],
          "contour": [
           {
            "colorbar": {
             "outlinewidth": 0,
             "ticks": ""
            },
            "colorscale": [
             [
              0,
              "#0d0887"
             ],
             [
              0.1111111111111111,
              "#46039f"
             ],
             [
              0.2222222222222222,
              "#7201a8"
             ],
             [
              0.3333333333333333,
              "#9c179e"
             ],
             [
              0.4444444444444444,
              "#bd3786"
             ],
             [
              0.5555555555555556,
              "#d8576b"
             ],
             [
              0.6666666666666666,
              "#ed7953"
             ],
             [
              0.7777777777777778,
              "#fb9f3a"
             ],
             [
              0.8888888888888888,
              "#fdca26"
             ],
             [
              1,
              "#f0f921"
             ]
            ],
            "type": "contour"
           }
          ],
          "contourcarpet": [
           {
            "colorbar": {
             "outlinewidth": 0,
             "ticks": ""
            },
            "type": "contourcarpet"
           }
          ],
          "heatmap": [
           {
            "colorbar": {
             "outlinewidth": 0,
             "ticks": ""
            },
            "colorscale": [
             [
              0,
              "#0d0887"
             ],
             [
              0.1111111111111111,
              "#46039f"
             ],
             [
              0.2222222222222222,
              "#7201a8"
             ],
             [
              0.3333333333333333,
              "#9c179e"
             ],
             [
              0.4444444444444444,
              "#bd3786"
             ],
             [
              0.5555555555555556,
              "#d8576b"
             ],
             [
              0.6666666666666666,
              "#ed7953"
             ],
             [
              0.7777777777777778,
              "#fb9f3a"
             ],
             [
              0.8888888888888888,
              "#fdca26"
             ],
             [
              1,
              "#f0f921"
             ]
            ],
            "type": "heatmap"
           }
          ],
          "heatmapgl": [
           {
            "colorbar": {
             "outlinewidth": 0,
             "ticks": ""
            },
            "colorscale": [
             [
              0,
              "#0d0887"
             ],
             [
              0.1111111111111111,
              "#46039f"
             ],
             [
              0.2222222222222222,
              "#7201a8"
             ],
             [
              0.3333333333333333,
              "#9c179e"
             ],
             [
              0.4444444444444444,
              "#bd3786"
             ],
             [
              0.5555555555555556,
              "#d8576b"
             ],
             [
              0.6666666666666666,
              "#ed7953"
             ],
             [
              0.7777777777777778,
              "#fb9f3a"
             ],
             [
              0.8888888888888888,
              "#fdca26"
             ],
             [
              1,
              "#f0f921"
             ]
            ],
            "type": "heatmapgl"
           }
          ],
          "histogram": [
           {
            "marker": {
             "pattern": {
              "fillmode": "overlay",
              "size": 10,
              "solidity": 0.2
             }
            },
            "type": "histogram"
           }
          ],
          "histogram2d": [
           {
            "colorbar": {
             "outlinewidth": 0,
             "ticks": ""
            },
            "colorscale": [
             [
              0,
              "#0d0887"
             ],
             [
              0.1111111111111111,
              "#46039f"
             ],
             [
              0.2222222222222222,
              "#7201a8"
             ],
             [
              0.3333333333333333,
              "#9c179e"
             ],
             [
              0.4444444444444444,
              "#bd3786"
             ],
             [
              0.5555555555555556,
              "#d8576b"
             ],
             [
              0.6666666666666666,
              "#ed7953"
             ],
             [
              0.7777777777777778,
              "#fb9f3a"
             ],
             [
              0.8888888888888888,
              "#fdca26"
             ],
             [
              1,
              "#f0f921"
             ]
            ],
            "type": "histogram2d"
           }
          ],
          "histogram2dcontour": [
           {
            "colorbar": {
             "outlinewidth": 0,
             "ticks": ""
            },
            "colorscale": [
             [
              0,
              "#0d0887"
             ],
             [
              0.1111111111111111,
              "#46039f"
             ],
             [
              0.2222222222222222,
              "#7201a8"
             ],
             [
              0.3333333333333333,
              "#9c179e"
             ],
             [
              0.4444444444444444,
              "#bd3786"
             ],
             [
              0.5555555555555556,
              "#d8576b"
             ],
             [
              0.6666666666666666,
              "#ed7953"
             ],
             [
              0.7777777777777778,
              "#fb9f3a"
             ],
             [
              0.8888888888888888,
              "#fdca26"
             ],
             [
              1,
              "#f0f921"
             ]
            ],
            "type": "histogram2dcontour"
           }
          ],
          "mesh3d": [
           {
            "colorbar": {
             "outlinewidth": 0,
             "ticks": ""
            },
            "type": "mesh3d"
           }
          ],
          "parcoords": [
           {
            "line": {
             "colorbar": {
              "outlinewidth": 0,
              "ticks": ""
             }
            },
            "type": "parcoords"
           }
          ],
          "pie": [
           {
            "automargin": true,
            "type": "pie"
           }
          ],
          "scatter": [
           {
            "marker": {
             "colorbar": {
              "outlinewidth": 0,
              "ticks": ""
             }
            },
            "type": "scatter"
           }
          ],
          "scatter3d": [
           {
            "line": {
             "colorbar": {
              "outlinewidth": 0,
              "ticks": ""
             }
            },
            "marker": {
             "colorbar": {
              "outlinewidth": 0,
              "ticks": ""
             }
            },
            "type": "scatter3d"
           }
          ],
          "scattercarpet": [
           {
            "marker": {
             "colorbar": {
              "outlinewidth": 0,
              "ticks": ""
             }
            },
            "type": "scattercarpet"
           }
          ],
          "scattergeo": [
           {
            "marker": {
             "colorbar": {
              "outlinewidth": 0,
              "ticks": ""
             }
            },
            "type": "scattergeo"
           }
          ],
          "scattergl": [
           {
            "marker": {
             "colorbar": {
              "outlinewidth": 0,
              "ticks": ""
             }
            },
            "type": "scattergl"
           }
          ],
          "scattermapbox": [
           {
            "marker": {
             "colorbar": {
              "outlinewidth": 0,
              "ticks": ""
             }
            },
            "type": "scattermapbox"
           }
          ],
          "scatterpolar": [
           {
            "marker": {
             "colorbar": {
              "outlinewidth": 0,
              "ticks": ""
             }
            },
            "type": "scatterpolar"
           }
          ],
          "scatterpolargl": [
           {
            "marker": {
             "colorbar": {
              "outlinewidth": 0,
              "ticks": ""
             }
            },
            "type": "scatterpolargl"
           }
          ],
          "scatterternary": [
           {
            "marker": {
             "colorbar": {
              "outlinewidth": 0,
              "ticks": ""
             }
            },
            "type": "scatterternary"
           }
          ],
          "surface": [
           {
            "colorbar": {
             "outlinewidth": 0,
             "ticks": ""
            },
            "colorscale": [
             [
              0,
              "#0d0887"
             ],
             [
              0.1111111111111111,
              "#46039f"
             ],
             [
              0.2222222222222222,
              "#7201a8"
             ],
             [
              0.3333333333333333,
              "#9c179e"
             ],
             [
              0.4444444444444444,
              "#bd3786"
             ],
             [
              0.5555555555555556,
              "#d8576b"
             ],
             [
              0.6666666666666666,
              "#ed7953"
             ],
             [
              0.7777777777777778,
              "#fb9f3a"
             ],
             [
              0.8888888888888888,
              "#fdca26"
             ],
             [
              1,
              "#f0f921"
             ]
            ],
            "type": "surface"
           }
          ],
          "table": [
           {
            "cells": {
             "fill": {
              "color": "#EBF0F8"
             },
             "line": {
              "color": "white"
             }
            },
            "header": {
             "fill": {
              "color": "#C8D4E3"
             },
             "line": {
              "color": "white"
             }
            },
            "type": "table"
           }
          ]
         },
         "layout": {
          "annotationdefaults": {
           "arrowcolor": "#2a3f5f",
           "arrowhead": 0,
           "arrowwidth": 1
          },
          "autotypenumbers": "strict",
          "coloraxis": {
           "colorbar": {
            "outlinewidth": 0,
            "ticks": ""
           }
          },
          "colorscale": {
           "diverging": [
            [
             0,
             "#8e0152"
            ],
            [
             0.1,
             "#c51b7d"
            ],
            [
             0.2,
             "#de77ae"
            ],
            [
             0.3,
             "#f1b6da"
            ],
            [
             0.4,
             "#fde0ef"
            ],
            [
             0.5,
             "#f7f7f7"
            ],
            [
             0.6,
             "#e6f5d0"
            ],
            [
             0.7,
             "#b8e186"
            ],
            [
             0.8,
             "#7fbc41"
            ],
            [
             0.9,
             "#4d9221"
            ],
            [
             1,
             "#276419"
            ]
           ],
           "sequential": [
            [
             0,
             "#0d0887"
            ],
            [
             0.1111111111111111,
             "#46039f"
            ],
            [
             0.2222222222222222,
             "#7201a8"
            ],
            [
             0.3333333333333333,
             "#9c179e"
            ],
            [
             0.4444444444444444,
             "#bd3786"
            ],
            [
             0.5555555555555556,
             "#d8576b"
            ],
            [
             0.6666666666666666,
             "#ed7953"
            ],
            [
             0.7777777777777778,
             "#fb9f3a"
            ],
            [
             0.8888888888888888,
             "#fdca26"
            ],
            [
             1,
             "#f0f921"
            ]
           ],
           "sequentialminus": [
            [
             0,
             "#0d0887"
            ],
            [
             0.1111111111111111,
             "#46039f"
            ],
            [
             0.2222222222222222,
             "#7201a8"
            ],
            [
             0.3333333333333333,
             "#9c179e"
            ],
            [
             0.4444444444444444,
             "#bd3786"
            ],
            [
             0.5555555555555556,
             "#d8576b"
            ],
            [
             0.6666666666666666,
             "#ed7953"
            ],
            [
             0.7777777777777778,
             "#fb9f3a"
            ],
            [
             0.8888888888888888,
             "#fdca26"
            ],
            [
             1,
             "#f0f921"
            ]
           ]
          },
          "colorway": [
           "#636efa",
           "#EF553B",
           "#00cc96",
           "#ab63fa",
           "#FFA15A",
           "#19d3f3",
           "#FF6692",
           "#B6E880",
           "#FF97FF",
           "#FECB52"
          ],
          "font": {
           "color": "#2a3f5f"
          },
          "geo": {
           "bgcolor": "white",
           "lakecolor": "white",
           "landcolor": "#E5ECF6",
           "showlakes": true,
           "showland": true,
           "subunitcolor": "white"
          },
          "hoverlabel": {
           "align": "left"
          },
          "hovermode": "closest",
          "mapbox": {
           "style": "light"
          },
          "paper_bgcolor": "white",
          "plot_bgcolor": "#E5ECF6",
          "polar": {
           "angularaxis": {
            "gridcolor": "white",
            "linecolor": "white",
            "ticks": ""
           },
           "bgcolor": "#E5ECF6",
           "radialaxis": {
            "gridcolor": "white",
            "linecolor": "white",
            "ticks": ""
           }
          },
          "scene": {
           "xaxis": {
            "backgroundcolor": "#E5ECF6",
            "gridcolor": "white",
            "gridwidth": 2,
            "linecolor": "white",
            "showbackground": true,
            "ticks": "",
            "zerolinecolor": "white"
           },
           "yaxis": {
            "backgroundcolor": "#E5ECF6",
            "gridcolor": "white",
            "gridwidth": 2,
            "linecolor": "white",
            "showbackground": true,
            "ticks": "",
            "zerolinecolor": "white"
           },
           "zaxis": {
            "backgroundcolor": "#E5ECF6",
            "gridcolor": "white",
            "gridwidth": 2,
            "linecolor": "white",
            "showbackground": true,
            "ticks": "",
            "zerolinecolor": "white"
           }
          },
          "shapedefaults": {
           "line": {
            "color": "#2a3f5f"
           }
          },
          "ternary": {
           "aaxis": {
            "gridcolor": "white",
            "linecolor": "white",
            "ticks": ""
           },
           "baxis": {
            "gridcolor": "white",
            "linecolor": "white",
            "ticks": ""
           },
           "bgcolor": "#E5ECF6",
           "caxis": {
            "gridcolor": "white",
            "linecolor": "white",
            "ticks": ""
           }
          },
          "title": {
           "x": 0.05
          },
          "xaxis": {
           "automargin": true,
           "gridcolor": "white",
           "linecolor": "white",
           "ticks": "",
           "title": {
            "standoff": 15
           },
           "zerolinecolor": "white",
           "zerolinewidth": 2
          },
          "yaxis": {
           "automargin": true,
           "gridcolor": "white",
           "linecolor": "white",
           "ticks": "",
           "title": {
            "standoff": 15
           },
           "zerolinecolor": "white",
           "zerolinewidth": 2
          }
         }
        },
        "title": {
         "font": {
          "size": 24
         },
         "text": "Beam External Conditions",
         "x": 0.5
        },
        "width": 700,
        "xaxis": {
         "anchor": "y",
         "domain": [
          0,
          1
         ],
         "matches": "x2",
         "showticklabels": false
        },
        "xaxis2": {
         "anchor": "y2",
         "domain": [
          0,
          1
         ],
         "title": {
          "text": "Beam Length (ft)"
         }
        },
        "yaxis": {
         "anchor": "x",
         "domain": [
          0.55,
          1
         ],
         "fixedrange": true,
         "range": [
          -3,
          3
         ],
         "visible": false
        },
        "yaxis2": {
         "anchor": "x2",
         "domain": [
          0,
          0.45
         ],
         "fixedrange": true,
         "range": [
          -3,
          3
         ],
         "visible": false
        }
       }
      },
      "text/html": [
       "<div>                            <div id=\"875117f6-2869-413e-98e5-13a3155ba8a4\" class=\"plotly-graph-div\" style=\"height:550px; width:700px;\"></div>            <script type=\"text/javascript\">                require([\"plotly\"], function(Plotly) {                    window.PLOTLYENV=window.PLOTLYENV || {};                                    if (document.getElementById(\"875117f6-2869-413e-98e5-13a3155ba8a4\")) {                    Plotly.newPlot(                        \"875117f6-2869-413e-98e5-13a3155ba8a4\",                        [{\"hoverinfo\":\"skip\",\"hovertemplate\":\"%{x} %{meta[0]}\",\"line\":{\"color\":\"purple\",\"width\":2},\"meta\":[\"ft\"],\"mode\":\"lines\",\"name\":\"Beam_\",\"x\":[0,17],\"y\":[0,0],\"type\":\"scatter\",\"xaxis\":\"x\",\"yaxis\":\"y\"},{\"hoverinfo\":\"skip\",\"hovertemplate\":\"x: %{x:.3f} %{meta[1]}<br>Fixed: %{meta[0]}\",\"marker\":{\"color\":\"blue\",\"size\":10,\"symbol\":\"triangle-up\"},\"meta\":[\"[1, 1, 0]\",\"m\"],\"mode\":\"markers\",\"name\":\"Support\",\"opacity\":0,\"showlegend\":false,\"x\":[0],\"y\":[0],\"type\":\"scatter\",\"xaxis\":\"x\",\"yaxis\":\"y\"},{\"fill\":\"toself\",\"hoverinfo\":\"skip\",\"marker\":{\"color\":\"blue\",\"size\":10,\"symbol\":\"arrow-up\"},\"mode\":\"markers\",\"name\":\"Support\",\"showlegend\":false,\"x\":[0],\"y\":[0],\"type\":\"scatter\",\"xaxis\":\"x\",\"yaxis\":\"y\"},{\"hoverinfo\":\"skip\",\"hovertemplate\":\"x: %{x:.3f} %{meta[1]}<br>Fixed: %{meta[0]}\",\"marker\":{\"color\":\"blue\",\"size\":10,\"symbol\":\"triangle-up\"},\"meta\":[\"[1, 1, 0]\",\"m\"],\"mode\":\"markers\",\"name\":\"Support\",\"opacity\":0,\"showlegend\":false,\"x\":[3],\"y\":[0],\"type\":\"scatter\",\"xaxis\":\"x\",\"yaxis\":\"y\"},{\"fill\":\"toself\",\"hoverinfo\":\"skip\",\"marker\":{\"color\":\"blue\",\"size\":10,\"symbol\":\"arrow-up\"},\"mode\":\"markers\",\"name\":\"Support\",\"showlegend\":false,\"x\":[3],\"y\":[0],\"type\":\"scatter\",\"xaxis\":\"x\",\"yaxis\":\"y\"},{\"hoverinfo\":\"skip\",\"hovertemplate\":\"x: %{x:.3f} %{meta[1]}<br>Fixed: %{meta[0]}\",\"marker\":{\"color\":\"blue\",\"size\":10,\"symbol\":\"triangle-up\"},\"meta\":[\"[1, 1, 0]\",\"m\"],\"mode\":\"markers\",\"name\":\"Support\",\"opacity\":0,\"showlegend\":false,\"x\":[14],\"y\":[0],\"type\":\"scatter\",\"xaxis\":\"x\",\"yaxis\":\"y\"},{\"fill\":\"toself\",\"hoverinfo\":\"skip\",\"marker\":{\"color\":\"blue\",\"size\":10,\"symbol\":\"arrow-up\"},\"mode\":\"markers\",\"name\":\"Support\",\"showlegend\":false,\"x\":[14],\"y\":[0],\"type\":\"scatter\",\"xaxis\":\"x\",\"yaxis\":\"y\"},{\"hoverinfo\":\"skip\",\"hovertemplate\":\"x: %{x:.3f} %{meta[1]}<br>Fixed: %{meta[0]}\",\"marker\":{\"color\":\"blue\",\"size\":10,\"symbol\":\"triangle-up\"},\"meta\":[\"[1, 1, 0]\",\"m\"],\"mode\":\"markers\",\"name\":\"Support\",\"opacity\":0,\"showlegend\":false,\"x\":[17],\"y\":[0],\"type\":\"scatter\",\"xaxis\":\"x\",\"yaxis\":\"y\"},{\"fill\":\"toself\",\"hoverinfo\":\"skip\",\"marker\":{\"color\":\"blue\",\"size\":10,\"symbol\":\"arrow-up\"},\"mode\":\"markers\",\"name\":\"Support\",\"showlegend\":false,\"x\":[17],\"y\":[0],\"type\":\"scatter\",\"xaxis\":\"x\",\"yaxis\":\"y\"},{\"hoverinfo\":\"skip\",\"hovertemplate\":\"x: %{meta[1]:.3f} %{meta[2]}<br>Force: %{meta[0]:.3f} %{meta[3]}            <br>Angle: %{meta[5]:.3f} deg\",\"marker\":{\"color\":\"red\",\"size\":10,\"symbol\":\"triangle-up\"},\"meta\":[3500,4.5,\"ft\",\"lbf\",\"lbf.ft\",90],\"mode\":\"markers\",\"name\":\"Point<br>Load\",\"opacity\":0,\"showlegend\":false,\"x\":[4.5],\"y\":[0],\"type\":\"scatter\",\"xaxis\":\"x\",\"yaxis\":\"y\"},{\"hoverinfo\":\"skip\",\"hovertemplate\":\"x: %{meta[1]:.3f} %{meta[2]}<br>Force: %{meta[0]:.3f} %{meta[3]}            <br>Angle: %{meta[5]:.3f} deg\",\"marker\":{\"color\":\"red\",\"size\":10,\"symbol\":\"triangle-up\"},\"meta\":[3500,12.5,\"ft\",\"lbf\",\"lbf.ft\",90],\"mode\":\"markers\",\"name\":\"Point<br>Load\",\"opacity\":0,\"showlegend\":false,\"x\":[12.5],\"y\":[0],\"type\":\"scatter\",\"xaxis\":\"x\",\"yaxis\":\"y\"},{\"hoverinfo\":\"skip\",\"hovertemplate\":\"%{x}\",\"line\":{\"color\":\"purple\",\"width\":2},\"mode\":\"lines\",\"name\":\"Beam\",\"x\":[0,17],\"y\":[0,0],\"type\":\"scatter\",\"xaxis\":\"x2\",\"yaxis\":\"y2\"},{\"hoverinfo\":\"skip\",\"hovertemplate\":\"Reactions<br>x coord: %{x:.3f} %{meta[3]}<br>y: %{meta[1]:.3f} %{meta[4]}\",\"marker\":{\"color\":\"red\",\"size\":10,\"symbol\":\"triangle-up\"},\"meta\":[0.0,1278.8461538462,0,\"ft\",\"lbf\",\"lbf.ft\"],\"mode\":\"markers\",\"name\":\"Reaction\",\"opacity\":0,\"showlegend\":false,\"x\":[0],\"y\":[0],\"type\":\"scatter\",\"xaxis\":\"x2\",\"yaxis\":\"y2\"},{\"hoverinfo\":\"skip\",\"hovertemplate\":\"Reactions<br>x coord: %{x:.3f} %{meta[3]}<br>y: %{meta[1]:.3f} %{meta[4]}\",\"marker\":{\"color\":\"red\",\"size\":10,\"symbol\":\"triangle-up\"},\"meta\":[0.0,-4778.8461538462,0,\"ft\",\"lbf\",\"lbf.ft\"],\"mode\":\"markers\",\"name\":\"Reaction\",\"opacity\":0,\"showlegend\":false,\"x\":[3],\"y\":[0],\"type\":\"scatter\",\"xaxis\":\"x2\",\"yaxis\":\"y2\"},{\"hoverinfo\":\"skip\",\"hovertemplate\":\"Reactions<br>x coord: %{x:.3f} %{meta[3]}<br>y: %{meta[1]:.3f} %{meta[4]}\",\"marker\":{\"color\":\"red\",\"size\":10,\"symbol\":\"triangle-up\"},\"meta\":[0.0,-4778.8461538461,0,\"ft\",\"lbf\",\"lbf.ft\"],\"mode\":\"markers\",\"name\":\"Reaction\",\"opacity\":0,\"showlegend\":false,\"x\":[14],\"y\":[0],\"type\":\"scatter\",\"xaxis\":\"x2\",\"yaxis\":\"y2\"},{\"hoverinfo\":\"skip\",\"hovertemplate\":\"Reactions<br>x coord: %{x:.3f} %{meta[3]}<br>y: %{meta[1]:.3f} %{meta[4]}\",\"marker\":{\"color\":\"red\",\"size\":10,\"symbol\":\"triangle-up\"},\"meta\":[0.0,1278.8461538461,0,\"ft\",\"lbf\",\"lbf.ft\"],\"mode\":\"markers\",\"name\":\"Reaction\",\"opacity\":0,\"showlegend\":false,\"x\":[17],\"y\":[0],\"type\":\"scatter\",\"xaxis\":\"x2\",\"yaxis\":\"y2\"}],                        {\"template\":{\"data\":{\"bar\":[{\"error_x\":{\"color\":\"#2a3f5f\"},\"error_y\":{\"color\":\"#2a3f5f\"},\"marker\":{\"line\":{\"color\":\"#E5ECF6\",\"width\":0.5},\"pattern\":{\"fillmode\":\"overlay\",\"size\":10,\"solidity\":0.2}},\"type\":\"bar\"}],\"barpolar\":[{\"marker\":{\"line\":{\"color\":\"#E5ECF6\",\"width\":0.5},\"pattern\":{\"fillmode\":\"overlay\",\"size\":10,\"solidity\":0.2}},\"type\":\"barpolar\"}],\"carpet\":[{\"aaxis\":{\"endlinecolor\":\"#2a3f5f\",\"gridcolor\":\"white\",\"linecolor\":\"white\",\"minorgridcolor\":\"white\",\"startlinecolor\":\"#2a3f5f\"},\"baxis\":{\"endlinecolor\":\"#2a3f5f\",\"gridcolor\":\"white\",\"linecolor\":\"white\",\"minorgridcolor\":\"white\",\"startlinecolor\":\"#2a3f5f\"},\"type\":\"carpet\"}],\"choropleth\":[{\"colorbar\":{\"outlinewidth\":0,\"ticks\":\"\"},\"type\":\"choropleth\"}],\"contour\":[{\"colorbar\":{\"outlinewidth\":0,\"ticks\":\"\"},\"colorscale\":[[0.0,\"#0d0887\"],[0.1111111111111111,\"#46039f\"],[0.2222222222222222,\"#7201a8\"],[0.3333333333333333,\"#9c179e\"],[0.4444444444444444,\"#bd3786\"],[0.5555555555555556,\"#d8576b\"],[0.6666666666666666,\"#ed7953\"],[0.7777777777777778,\"#fb9f3a\"],[0.8888888888888888,\"#fdca26\"],[1.0,\"#f0f921\"]],\"type\":\"contour\"}],\"contourcarpet\":[{\"colorbar\":{\"outlinewidth\":0,\"ticks\":\"\"},\"type\":\"contourcarpet\"}],\"heatmap\":[{\"colorbar\":{\"outlinewidth\":0,\"ticks\":\"\"},\"colorscale\":[[0.0,\"#0d0887\"],[0.1111111111111111,\"#46039f\"],[0.2222222222222222,\"#7201a8\"],[0.3333333333333333,\"#9c179e\"],[0.4444444444444444,\"#bd3786\"],[0.5555555555555556,\"#d8576b\"],[0.6666666666666666,\"#ed7953\"],[0.7777777777777778,\"#fb9f3a\"],[0.8888888888888888,\"#fdca26\"],[1.0,\"#f0f921\"]],\"type\":\"heatmap\"}],\"heatmapgl\":[{\"colorbar\":{\"outlinewidth\":0,\"ticks\":\"\"},\"colorscale\":[[0.0,\"#0d0887\"],[0.1111111111111111,\"#46039f\"],[0.2222222222222222,\"#7201a8\"],[0.3333333333333333,\"#9c179e\"],[0.4444444444444444,\"#bd3786\"],[0.5555555555555556,\"#d8576b\"],[0.6666666666666666,\"#ed7953\"],[0.7777777777777778,\"#fb9f3a\"],[0.8888888888888888,\"#fdca26\"],[1.0,\"#f0f921\"]],\"type\":\"heatmapgl\"}],\"histogram\":[{\"marker\":{\"pattern\":{\"fillmode\":\"overlay\",\"size\":10,\"solidity\":0.2}},\"type\":\"histogram\"}],\"histogram2d\":[{\"colorbar\":{\"outlinewidth\":0,\"ticks\":\"\"},\"colorscale\":[[0.0,\"#0d0887\"],[0.1111111111111111,\"#46039f\"],[0.2222222222222222,\"#7201a8\"],[0.3333333333333333,\"#9c179e\"],[0.4444444444444444,\"#bd3786\"],[0.5555555555555556,\"#d8576b\"],[0.6666666666666666,\"#ed7953\"],[0.7777777777777778,\"#fb9f3a\"],[0.8888888888888888,\"#fdca26\"],[1.0,\"#f0f921\"]],\"type\":\"histogram2d\"}],\"histogram2dcontour\":[{\"colorbar\":{\"outlinewidth\":0,\"ticks\":\"\"},\"colorscale\":[[0.0,\"#0d0887\"],[0.1111111111111111,\"#46039f\"],[0.2222222222222222,\"#7201a8\"],[0.3333333333333333,\"#9c179e\"],[0.4444444444444444,\"#bd3786\"],[0.5555555555555556,\"#d8576b\"],[0.6666666666666666,\"#ed7953\"],[0.7777777777777778,\"#fb9f3a\"],[0.8888888888888888,\"#fdca26\"],[1.0,\"#f0f921\"]],\"type\":\"histogram2dcontour\"}],\"mesh3d\":[{\"colorbar\":{\"outlinewidth\":0,\"ticks\":\"\"},\"type\":\"mesh3d\"}],\"parcoords\":[{\"line\":{\"colorbar\":{\"outlinewidth\":0,\"ticks\":\"\"}},\"type\":\"parcoords\"}],\"pie\":[{\"automargin\":true,\"type\":\"pie\"}],\"scatter\":[{\"marker\":{\"colorbar\":{\"outlinewidth\":0,\"ticks\":\"\"}},\"type\":\"scatter\"}],\"scatter3d\":[{\"line\":{\"colorbar\":{\"outlinewidth\":0,\"ticks\":\"\"}},\"marker\":{\"colorbar\":{\"outlinewidth\":0,\"ticks\":\"\"}},\"type\":\"scatter3d\"}],\"scattercarpet\":[{\"marker\":{\"colorbar\":{\"outlinewidth\":0,\"ticks\":\"\"}},\"type\":\"scattercarpet\"}],\"scattergeo\":[{\"marker\":{\"colorbar\":{\"outlinewidth\":0,\"ticks\":\"\"}},\"type\":\"scattergeo\"}],\"scattergl\":[{\"marker\":{\"colorbar\":{\"outlinewidth\":0,\"ticks\":\"\"}},\"type\":\"scattergl\"}],\"scattermapbox\":[{\"marker\":{\"colorbar\":{\"outlinewidth\":0,\"ticks\":\"\"}},\"type\":\"scattermapbox\"}],\"scatterpolar\":[{\"marker\":{\"colorbar\":{\"outlinewidth\":0,\"ticks\":\"\"}},\"type\":\"scatterpolar\"}],\"scatterpolargl\":[{\"marker\":{\"colorbar\":{\"outlinewidth\":0,\"ticks\":\"\"}},\"type\":\"scatterpolargl\"}],\"scatterternary\":[{\"marker\":{\"colorbar\":{\"outlinewidth\":0,\"ticks\":\"\"}},\"type\":\"scatterternary\"}],\"surface\":[{\"colorbar\":{\"outlinewidth\":0,\"ticks\":\"\"},\"colorscale\":[[0.0,\"#0d0887\"],[0.1111111111111111,\"#46039f\"],[0.2222222222222222,\"#7201a8\"],[0.3333333333333333,\"#9c179e\"],[0.4444444444444444,\"#bd3786\"],[0.5555555555555556,\"#d8576b\"],[0.6666666666666666,\"#ed7953\"],[0.7777777777777778,\"#fb9f3a\"],[0.8888888888888888,\"#fdca26\"],[1.0,\"#f0f921\"]],\"type\":\"surface\"}],\"table\":[{\"cells\":{\"fill\":{\"color\":\"#EBF0F8\"},\"line\":{\"color\":\"white\"}},\"header\":{\"fill\":{\"color\":\"#C8D4E3\"},\"line\":{\"color\":\"white\"}},\"type\":\"table\"}]},\"layout\":{\"annotationdefaults\":{\"arrowcolor\":\"#2a3f5f\",\"arrowhead\":0,\"arrowwidth\":1},\"autotypenumbers\":\"strict\",\"coloraxis\":{\"colorbar\":{\"outlinewidth\":0,\"ticks\":\"\"}},\"colorscale\":{\"diverging\":[[0,\"#8e0152\"],[0.1,\"#c51b7d\"],[0.2,\"#de77ae\"],[0.3,\"#f1b6da\"],[0.4,\"#fde0ef\"],[0.5,\"#f7f7f7\"],[0.6,\"#e6f5d0\"],[0.7,\"#b8e186\"],[0.8,\"#7fbc41\"],[0.9,\"#4d9221\"],[1,\"#276419\"]],\"sequential\":[[0.0,\"#0d0887\"],[0.1111111111111111,\"#46039f\"],[0.2222222222222222,\"#7201a8\"],[0.3333333333333333,\"#9c179e\"],[0.4444444444444444,\"#bd3786\"],[0.5555555555555556,\"#d8576b\"],[0.6666666666666666,\"#ed7953\"],[0.7777777777777778,\"#fb9f3a\"],[0.8888888888888888,\"#fdca26\"],[1.0,\"#f0f921\"]],\"sequentialminus\":[[0.0,\"#0d0887\"],[0.1111111111111111,\"#46039f\"],[0.2222222222222222,\"#7201a8\"],[0.3333333333333333,\"#9c179e\"],[0.4444444444444444,\"#bd3786\"],[0.5555555555555556,\"#d8576b\"],[0.6666666666666666,\"#ed7953\"],[0.7777777777777778,\"#fb9f3a\"],[0.8888888888888888,\"#fdca26\"],[1.0,\"#f0f921\"]]},\"colorway\":[\"#636efa\",\"#EF553B\",\"#00cc96\",\"#ab63fa\",\"#FFA15A\",\"#19d3f3\",\"#FF6692\",\"#B6E880\",\"#FF97FF\",\"#FECB52\"],\"font\":{\"color\":\"#2a3f5f\"},\"geo\":{\"bgcolor\":\"white\",\"lakecolor\":\"white\",\"landcolor\":\"#E5ECF6\",\"showlakes\":true,\"showland\":true,\"subunitcolor\":\"white\"},\"hoverlabel\":{\"align\":\"left\"},\"hovermode\":\"closest\",\"mapbox\":{\"style\":\"light\"},\"paper_bgcolor\":\"white\",\"plot_bgcolor\":\"#E5ECF6\",\"polar\":{\"angularaxis\":{\"gridcolor\":\"white\",\"linecolor\":\"white\",\"ticks\":\"\"},\"bgcolor\":\"#E5ECF6\",\"radialaxis\":{\"gridcolor\":\"white\",\"linecolor\":\"white\",\"ticks\":\"\"}},\"scene\":{\"xaxis\":{\"backgroundcolor\":\"#E5ECF6\",\"gridcolor\":\"white\",\"gridwidth\":2,\"linecolor\":\"white\",\"showbackground\":true,\"ticks\":\"\",\"zerolinecolor\":\"white\"},\"yaxis\":{\"backgroundcolor\":\"#E5ECF6\",\"gridcolor\":\"white\",\"gridwidth\":2,\"linecolor\":\"white\",\"showbackground\":true,\"ticks\":\"\",\"zerolinecolor\":\"white\"},\"zaxis\":{\"backgroundcolor\":\"#E5ECF6\",\"gridcolor\":\"white\",\"gridwidth\":2,\"linecolor\":\"white\",\"showbackground\":true,\"ticks\":\"\",\"zerolinecolor\":\"white\"}},\"shapedefaults\":{\"line\":{\"color\":\"#2a3f5f\"}},\"ternary\":{\"aaxis\":{\"gridcolor\":\"white\",\"linecolor\":\"white\",\"ticks\":\"\"},\"baxis\":{\"gridcolor\":\"white\",\"linecolor\":\"white\",\"ticks\":\"\"},\"bgcolor\":\"#E5ECF6\",\"caxis\":{\"gridcolor\":\"white\",\"linecolor\":\"white\",\"ticks\":\"\"}},\"title\":{\"x\":0.05},\"xaxis\":{\"automargin\":true,\"gridcolor\":\"white\",\"linecolor\":\"white\",\"ticks\":\"\",\"title\":{\"standoff\":15},\"zerolinecolor\":\"white\",\"zerolinewidth\":2},\"yaxis\":{\"automargin\":true,\"gridcolor\":\"white\",\"linecolor\":\"white\",\"ticks\":\"\",\"title\":{\"standoff\":15},\"zerolinecolor\":\"white\",\"zerolinewidth\":2}}},\"xaxis\":{\"anchor\":\"y\",\"domain\":[0.0,1.0],\"matches\":\"x2\",\"showticklabels\":false},\"yaxis\":{\"anchor\":\"x\",\"domain\":[0.55,1.0],\"visible\":false,\"range\":[-3,3],\"fixedrange\":true},\"xaxis2\":{\"anchor\":\"y2\",\"domain\":[0.0,1.0],\"title\":{\"text\":\"Beam Length (ft)\"}},\"yaxis2\":{\"anchor\":\"x2\",\"domain\":[0.0,0.45],\"visible\":false,\"range\":[-3,3],\"fixedrange\":true},\"annotations\":[{\"font\":{\"size\":16},\"showarrow\":false,\"text\":\"Beam schematic\",\"x\":0.5,\"xanchor\":\"center\",\"xref\":\"paper\",\"y\":1.0,\"yanchor\":\"bottom\",\"yref\":\"paper\"},{\"font\":{\"size\":16},\"showarrow\":false,\"text\":\"Reaction Forces\",\"x\":0.5,\"xanchor\":\"center\",\"xref\":\"paper\",\"y\":0.45,\"yanchor\":\"bottom\",\"yref\":\"paper\"},{\"font\":{\"color\":\"red\"},\"showarrow\":false,\"text\":\"3500.000 lbf\",\"x\":4.5,\"xref\":\"x\",\"xshift\":0.0,\"y\":0,\"yref\":\"y\",\"yshift\":-52.0},{\"font\":{\"color\":\"red\"},\"showarrow\":false,\"text\":\"3500.000 lbf\",\"x\":12.5,\"xref\":\"x\",\"xshift\":0.0,\"y\":0,\"yref\":\"y\",\"yshift\":-52.0},{\"font\":{\"color\":\"red\"},\"showarrow\":false,\"text\":\"1278.846 lbf\",\"x\":0,\"xref\":\"x2\",\"xshift\":0.0,\"y\":0,\"yref\":\"y2\",\"yshift\":-52.0},{\"font\":{\"color\":\"red\"},\"showarrow\":false,\"text\":\"-4778.846 lbf\",\"x\":3,\"xref\":\"x2\",\"xshift\":0.0,\"y\":0,\"yref\":\"y2\",\"yshift\":52.0},{\"font\":{\"color\":\"red\"},\"showarrow\":false,\"text\":\"-4778.846 lbf\",\"x\":14,\"xref\":\"x2\",\"xshift\":0.0,\"y\":0,\"yref\":\"y2\",\"yshift\":52.0},{\"font\":{\"color\":\"red\"},\"showarrow\":false,\"text\":\"1278.846 lbf\",\"x\":17,\"xref\":\"x2\",\"xshift\":0.0,\"y\":0,\"yref\":\"y2\",\"yshift\":-52.0}],\"shapes\":[{\"line\":{\"color\":\"red\",\"width\":2},\"type\":\"line\",\"x0\":0,\"x1\":3,\"xanchor\":4.5,\"xref\":\"x\",\"xsizemode\":\"pixel\",\"y0\":0,\"y1\":-3,\"yanchor\":0,\"yref\":\"y\",\"ysizemode\":\"pixel\"},{\"line\":{\"color\":\"red\",\"width\":2},\"type\":\"line\",\"x0\":0,\"x1\":-3,\"xanchor\":4.5,\"xref\":\"x\",\"xsizemode\":\"pixel\",\"y0\":0,\"y1\":-3,\"yanchor\":0,\"yref\":\"y\",\"ysizemode\":\"pixel\"},{\"line\":{\"color\":\"red\",\"width\":2},\"type\":\"line\",\"x0\":0,\"x1\":0,\"xanchor\":4.5,\"xref\":\"x\",\"xsizemode\":\"pixel\",\"y0\":0,\"y1\":-40,\"yanchor\":0,\"yref\":\"y\",\"ysizemode\":\"pixel\"},{\"line\":{\"color\":\"red\",\"width\":2},\"type\":\"line\",\"x0\":0,\"x1\":3,\"xanchor\":12.5,\"xref\":\"x\",\"xsizemode\":\"pixel\",\"y0\":0,\"y1\":-3,\"yanchor\":0,\"yref\":\"y\",\"ysizemode\":\"pixel\"},{\"line\":{\"color\":\"red\",\"width\":2},\"type\":\"line\",\"x0\":0,\"x1\":-3,\"xanchor\":12.5,\"xref\":\"x\",\"xsizemode\":\"pixel\",\"y0\":0,\"y1\":-3,\"yanchor\":0,\"yref\":\"y\",\"ysizemode\":\"pixel\"},{\"line\":{\"color\":\"red\",\"width\":2},\"type\":\"line\",\"x0\":0,\"x1\":0,\"xanchor\":12.5,\"xref\":\"x\",\"xsizemode\":\"pixel\",\"y0\":0,\"y1\":-40,\"yanchor\":0,\"yref\":\"y\",\"ysizemode\":\"pixel\"},{\"line\":{\"color\":\"red\",\"width\":2},\"type\":\"line\",\"x0\":0,\"x1\":3,\"xanchor\":0,\"xref\":\"x2\",\"xsizemode\":\"pixel\",\"y0\":0,\"y1\":-3,\"yanchor\":0,\"yref\":\"y2\",\"ysizemode\":\"pixel\"},{\"line\":{\"color\":\"red\",\"width\":2},\"type\":\"line\",\"x0\":0,\"x1\":-3,\"xanchor\":0,\"xref\":\"x2\",\"xsizemode\":\"pixel\",\"y0\":0,\"y1\":-3,\"yanchor\":0,\"yref\":\"y2\",\"ysizemode\":\"pixel\"},{\"line\":{\"color\":\"red\",\"width\":2},\"type\":\"line\",\"x0\":0,\"x1\":0,\"xanchor\":0,\"xref\":\"x2\",\"xsizemode\":\"pixel\",\"y0\":0,\"y1\":-40,\"yanchor\":0,\"yref\":\"y2\",\"ysizemode\":\"pixel\"},{\"line\":{\"color\":\"red\",\"width\":2},\"type\":\"line\",\"x0\":0,\"x1\":-3,\"xanchor\":3,\"xref\":\"x2\",\"xsizemode\":\"pixel\",\"y0\":0,\"y1\":3,\"yanchor\":0,\"yref\":\"y2\",\"ysizemode\":\"pixel\"},{\"line\":{\"color\":\"red\",\"width\":2},\"type\":\"line\",\"x0\":0,\"x1\":3,\"xanchor\":3,\"xref\":\"x2\",\"xsizemode\":\"pixel\",\"y0\":0,\"y1\":3,\"yanchor\":0,\"yref\":\"y2\",\"ysizemode\":\"pixel\"},{\"line\":{\"color\":\"red\",\"width\":2},\"type\":\"line\",\"x0\":0,\"x1\":0,\"xanchor\":3,\"xref\":\"x2\",\"xsizemode\":\"pixel\",\"y0\":0,\"y1\":40,\"yanchor\":0,\"yref\":\"y2\",\"ysizemode\":\"pixel\"},{\"line\":{\"color\":\"red\",\"width\":2},\"type\":\"line\",\"x0\":0,\"x1\":-3,\"xanchor\":14,\"xref\":\"x2\",\"xsizemode\":\"pixel\",\"y0\":0,\"y1\":3,\"yanchor\":0,\"yref\":\"y2\",\"ysizemode\":\"pixel\"},{\"line\":{\"color\":\"red\",\"width\":2},\"type\":\"line\",\"x0\":0,\"x1\":3,\"xanchor\":14,\"xref\":\"x2\",\"xsizemode\":\"pixel\",\"y0\":0,\"y1\":3,\"yanchor\":0,\"yref\":\"y2\",\"ysizemode\":\"pixel\"},{\"line\":{\"color\":\"red\",\"width\":2},\"type\":\"line\",\"x0\":0,\"x1\":0,\"xanchor\":14,\"xref\":\"x2\",\"xsizemode\":\"pixel\",\"y0\":0,\"y1\":40,\"yanchor\":0,\"yref\":\"y2\",\"ysizemode\":\"pixel\"},{\"line\":{\"color\":\"red\",\"width\":2},\"type\":\"line\",\"x0\":0,\"x1\":3,\"xanchor\":17,\"xref\":\"x2\",\"xsizemode\":\"pixel\",\"y0\":0,\"y1\":-3,\"yanchor\":0,\"yref\":\"y2\",\"ysizemode\":\"pixel\"},{\"line\":{\"color\":\"red\",\"width\":2},\"type\":\"line\",\"x0\":0,\"x1\":-3,\"xanchor\":17,\"xref\":\"x2\",\"xsizemode\":\"pixel\",\"y0\":0,\"y1\":-3,\"yanchor\":0,\"yref\":\"y2\",\"ysizemode\":\"pixel\"},{\"line\":{\"color\":\"red\",\"width\":2},\"type\":\"line\",\"x0\":0,\"x1\":0,\"xanchor\":17,\"xref\":\"x2\",\"xsizemode\":\"pixel\",\"y0\":0,\"y1\":-40,\"yanchor\":0,\"yref\":\"y2\",\"ysizemode\":\"pixel\"}],\"title\":{\"font\":{\"size\":24},\"text\":\"Beam External Conditions\",\"x\":0.5},\"height\":550,\"width\":700,\"showlegend\":false,\"hovermode\":\"x\"},                        {\"responsive\": true}                    ).then(function(){\n",
       "                            \n",
       "var gd = document.getElementById('875117f6-2869-413e-98e5-13a3155ba8a4');\n",
       "var x = new MutationObserver(function (mutations, observer) {{\n",
       "        var display = window.getComputedStyle(gd).display;\n",
       "        if (!display || display === 'none') {{\n",
       "            console.log([gd, 'removed!']);\n",
       "            Plotly.purge(gd);\n",
       "            observer.disconnect();\n",
       "        }}\n",
       "}});\n",
       "\n",
       "// Listen for the removal of the full notebook cells\n",
       "var notebookContainer = gd.closest('#notebook-container');\n",
       "if (notebookContainer) {{\n",
       "    x.observe(notebookContainer, {childList: true});\n",
       "}}\n",
       "\n",
       "// Listen for the clearing of the current output cell\n",
       "var outputEl = gd.closest('.output');\n",
       "if (outputEl) {{\n",
       "    x.observe(outputEl, {childList: true});\n",
       "}}\n",
       "\n",
       "                        })                };                });            </script>        </div>"
      ]
     },
     "metadata": {},
     "output_type": "display_data"
    },
    {
     "data": {
      "application/vnd.plotly.v1+json": {
       "config": {
        "plotlyServerURL": "https://plot.ly"
       },
       "data": [
        {
         "fill": "tozeroy",
         "hovertemplate": "x: %{x:.3f} %{meta[0]}<br>f(x): %{y:.3f} %{meta[1]}",
         "line": {
          "color": "red",
          "width": 1
         },
         "meta": [
          "ft",
          "lbf"
         ],
         "mode": "lines",
         "name": "Normal Force",
         "type": "scatter",
         "x": [
          0,
          1e-7,
          0.08542713567839195,
          0.1708542713567839,
          0.2562814070351759,
          0.3417085427135678,
          0.42713567839195976,
          0.5125628140703518,
          0.5979899497487436,
          0.6834170854271356,
          0.7688442211055276,
          0.8542713567839195,
          0.9396984924623115,
          1.0251256281407035,
          1.1105527638190955,
          1.1959798994974873,
          1.2814070351758793,
          1.3668341708542713,
          1.4522613065326633,
          1.5376884422110553,
          1.623115577889447,
          1.708542713567839,
          1.793969849246231,
          1.879396984924623,
          1.964824120603015,
          2.050251256281407,
          2.135678391959799,
          2.221105527638191,
          2.306532663316583,
          2.3919597989949746,
          2.477386934673367,
          2.5628140703517586,
          2.648241206030151,
          2.7336683417085426,
          2.8190954773869343,
          2.9045226130653266,
          2.9899497487437183,
          2.9999999,
          3.0000001,
          3.0753768844221105,
          3.1608040201005023,
          3.246231155778894,
          3.3316582914572863,
          3.417085427135678,
          3.5025125628140703,
          3.587939698492462,
          3.673366834170854,
          3.758793969849246,
          3.844221105527638,
          3.92964824120603,
          4.015075376884422,
          4.100502512562814,
          4.185929648241205,
          4.271356783919598,
          4.35678391959799,
          4.442211055276382,
          4.4999999,
          4.5000001,
          4.527638190954773,
          4.613065326633166,
          4.698492462311558,
          4.783919597989949,
          4.869346733668341,
          4.954773869346734,
          5.040201005025125,
          5.125628140703517,
          5.211055276381909,
          5.296482412060302,
          5.381909547738693,
          5.467336683417085,
          5.552763819095477,
          5.638190954773869,
          5.723618090452261,
          5.809045226130653,
          5.894472361809045,
          5.979899497487437,
          6.065326633165829,
          6.150753768844221,
          6.236180904522612,
          6.321608040201005,
          6.407035175879397,
          6.492462311557788,
          6.57788944723618,
          6.663316582914573,
          6.748743718592965,
          6.834170854271356,
          6.919597989949748,
          7.005025125628141,
          7.090452261306532,
          7.175879396984924,
          7.261306532663316,
          7.346733668341708,
          7.4321608040201,
          7.517587939698492,
          7.603015075376884,
          7.688442211055276,
          7.773869346733668,
          7.85929648241206,
          7.9447236180904515,
          8.030150753768844,
          8.115577889447236,
          8.201005025125628,
          8.28643216080402,
          8.37185929648241,
          8.457286432160803,
          8.542713567839195,
          8.628140703517587,
          8.71356783919598,
          8.798994974874372,
          8.884422110552764,
          8.969849246231155,
          9.055276381909547,
          9.140703517587939,
          9.226130653266331,
          9.311557788944723,
          9.396984924623116,
          9.482412060301508,
          9.567839195979898,
          9.65326633165829,
          9.738693467336683,
          9.824120603015075,
          9.909547738693467,
          9.99497487437186,
          10.08040201005025,
          10.165829145728642,
          10.251256281407034,
          10.336683417085426,
          10.422110552763819,
          10.507537688442211,
          10.592964824120603,
          10.678391959798994,
          10.763819095477386,
          10.849246231155778,
          10.93467336683417,
          11.020100502512562,
          11.105527638190955,
          11.190954773869347,
          11.276381909547737,
          11.36180904522613,
          11.447236180904522,
          11.532663316582914,
          11.618090452261306,
          11.703517587939698,
          11.78894472361809,
          11.874371859296481,
          11.959798994974873,
          12.045226130653266,
          12.130653266331658,
          12.21608040201005,
          12.301507537688442,
          12.386934673366833,
          12.472361809045225,
          12.4999999,
          12.5000001,
          12.557788944723617,
          12.64321608040201,
          12.728643216080402,
          12.814070351758794,
          12.899497487437186,
          12.984924623115576,
          13.070351758793969,
          13.15577889447236,
          13.241206030150753,
          13.326633165829145,
          13.412060301507537,
          13.49748743718593,
          13.58291457286432,
          13.668341708542712,
          13.753768844221105,
          13.839195979899497,
          13.924623115577889,
          13.9999999,
          14.0000001,
          14.010050251256281,
          14.095477386934673,
          14.180904522613064,
          14.266331658291456,
          14.351758793969848,
          14.43718592964824,
          14.522613065326633,
          14.608040201005025,
          14.693467336683415,
          14.778894472361808,
          14.8643216080402,
          14.949748743718592,
          15.035175879396984,
          15.120603015075377,
          15.206030150753769,
          15.29145728643216,
          15.376884422110551,
          15.462311557788944,
          15.547738693467336,
          15.633165829145728,
          15.71859296482412,
          15.804020100502512,
          15.889447236180903,
          15.974874371859295,
          16.060301507537687,
          16.145728643216078,
          16.231155778894472,
          16.316582914572862,
          16.402010050251256,
          16.487437185929647,
          16.57286432160804,
          16.65829145728643,
          16.74371859296482,
          16.829145728643216,
          16.914572864321606,
          16.9999999,
          17
         ],
         "xaxis": "x",
         "y": [
          0,
          0,
          0,
          0,
          0,
          0,
          0,
          0,
          0,
          0,
          0,
          0,
          0,
          0,
          0,
          0,
          0,
          0,
          0,
          0,
          0,
          0,
          0,
          0,
          0,
          0,
          0,
          0,
          0,
          0,
          0,
          0,
          0,
          0,
          0,
          0,
          0,
          0,
          0,
          0,
          0,
          0,
          0,
          0,
          0,
          0,
          0,
          0,
          0,
          0,
          0,
          0,
          0,
          0,
          0,
          0,
          0,
          0,
          0,
          0,
          0,
          0,
          0,
          0,
          0,
          0,
          0,
          0,
          0,
          0,
          0,
          0,
          0,
          0,
          0,
          0,
          0,
          0,
          0,
          0,
          0,
          0,
          0,
          0,
          0,
          0,
          0,
          0,
          0,
          0,
          0,
          0,
          0,
          0,
          0,
          0,
          0,
          0,
          0,
          0,
          0,
          0,
          0,
          0,
          0,
          0,
          0,
          0,
          0,
          0,
          0,
          0,
          0,
          0,
          0,
          0,
          0,
          0,
          0,
          0,
          0,
          0,
          0,
          0,
          0,
          0,
          0,
          0,
          0,
          0,
          0,
          0,
          0,
          0,
          0,
          0,
          0,
          0,
          0,
          0,
          0,
          0,
          0,
          0,
          0,
          0,
          0,
          0,
          0,
          0,
          0,
          0,
          0,
          0,
          0,
          0,
          0,
          0,
          0,
          0,
          0,
          0,
          0,
          0,
          0,
          0,
          0,
          0,
          0,
          0,
          0,
          0,
          0,
          0,
          0,
          0,
          0,
          0,
          0,
          0,
          0,
          0,
          0,
          0,
          0,
          0,
          0,
          0,
          0,
          0,
          0,
          0,
          0,
          0,
          0,
          0,
          0,
          0,
          0,
          0,
          0,
          0,
          0,
          0,
          0,
          0,
          0,
          0,
          0,
          0
         ],
         "yaxis": "y"
        },
        {
         "fill": "tozeroy",
         "hovertemplate": "x: %{x:.3f} %{meta[0]}<br>f(x): %{y:.3f} %{meta[1]}",
         "line": {
          "color": "aqua",
          "width": 1
         },
         "meta": [
          "ft",
          "lbf"
         ],
         "mode": "lines",
         "name": "Shear Force",
         "type": "scatter",
         "x": [
          0,
          1e-7,
          0.08542713567839195,
          0.1708542713567839,
          0.2562814070351759,
          0.3417085427135678,
          0.42713567839195976,
          0.5125628140703518,
          0.5979899497487436,
          0.6834170854271356,
          0.7688442211055276,
          0.8542713567839195,
          0.9396984924623115,
          1.0251256281407035,
          1.1105527638190955,
          1.1959798994974873,
          1.2814070351758793,
          1.3668341708542713,
          1.4522613065326633,
          1.5376884422110553,
          1.623115577889447,
          1.708542713567839,
          1.793969849246231,
          1.879396984924623,
          1.964824120603015,
          2.050251256281407,
          2.135678391959799,
          2.221105527638191,
          2.306532663316583,
          2.3919597989949746,
          2.477386934673367,
          2.5628140703517586,
          2.648241206030151,
          2.7336683417085426,
          2.8190954773869343,
          2.9045226130653266,
          2.9899497487437183,
          2.9999999,
          3.0000001,
          3.0753768844221105,
          3.1608040201005023,
          3.246231155778894,
          3.3316582914572863,
          3.417085427135678,
          3.5025125628140703,
          3.587939698492462,
          3.673366834170854,
          3.758793969849246,
          3.844221105527638,
          3.92964824120603,
          4.015075376884422,
          4.100502512562814,
          4.185929648241205,
          4.271356783919598,
          4.35678391959799,
          4.442211055276382,
          4.4999999,
          4.5000001,
          4.527638190954773,
          4.613065326633166,
          4.698492462311558,
          4.783919597989949,
          4.869346733668341,
          4.954773869346734,
          5.040201005025125,
          5.125628140703517,
          5.211055276381909,
          5.296482412060302,
          5.381909547738693,
          5.467336683417085,
          5.552763819095477,
          5.638190954773869,
          5.723618090452261,
          5.809045226130653,
          5.894472361809045,
          5.979899497487437,
          6.065326633165829,
          6.150753768844221,
          6.236180904522612,
          6.321608040201005,
          6.407035175879397,
          6.492462311557788,
          6.57788944723618,
          6.663316582914573,
          6.748743718592965,
          6.834170854271356,
          6.919597989949748,
          7.005025125628141,
          7.090452261306532,
          7.175879396984924,
          7.261306532663316,
          7.346733668341708,
          7.4321608040201,
          7.517587939698492,
          7.603015075376884,
          7.688442211055276,
          7.773869346733668,
          7.85929648241206,
          7.9447236180904515,
          8.030150753768844,
          8.115577889447236,
          8.201005025125628,
          8.28643216080402,
          8.37185929648241,
          8.457286432160803,
          8.542713567839195,
          8.628140703517587,
          8.71356783919598,
          8.798994974874372,
          8.884422110552764,
          8.969849246231155,
          9.055276381909547,
          9.140703517587939,
          9.226130653266331,
          9.311557788944723,
          9.396984924623116,
          9.482412060301508,
          9.567839195979898,
          9.65326633165829,
          9.738693467336683,
          9.824120603015075,
          9.909547738693467,
          9.99497487437186,
          10.08040201005025,
          10.165829145728642,
          10.251256281407034,
          10.336683417085426,
          10.422110552763819,
          10.507537688442211,
          10.592964824120603,
          10.678391959798994,
          10.763819095477386,
          10.849246231155778,
          10.93467336683417,
          11.020100502512562,
          11.105527638190955,
          11.190954773869347,
          11.276381909547737,
          11.36180904522613,
          11.447236180904522,
          11.532663316582914,
          11.618090452261306,
          11.703517587939698,
          11.78894472361809,
          11.874371859296481,
          11.959798994974873,
          12.045226130653266,
          12.130653266331658,
          12.21608040201005,
          12.301507537688442,
          12.386934673366833,
          12.472361809045225,
          12.4999999,
          12.5000001,
          12.557788944723617,
          12.64321608040201,
          12.728643216080402,
          12.814070351758794,
          12.899497487437186,
          12.984924623115576,
          13.070351758793969,
          13.15577889447236,
          13.241206030150753,
          13.326633165829145,
          13.412060301507537,
          13.49748743718593,
          13.58291457286432,
          13.668341708542712,
          13.753768844221105,
          13.839195979899497,
          13.924623115577889,
          13.9999999,
          14.0000001,
          14.010050251256281,
          14.095477386934673,
          14.180904522613064,
          14.266331658291456,
          14.351758793969848,
          14.43718592964824,
          14.522613065326633,
          14.608040201005025,
          14.693467336683415,
          14.778894472361808,
          14.8643216080402,
          14.949748743718592,
          15.035175879396984,
          15.120603015075377,
          15.206030150753769,
          15.29145728643216,
          15.376884422110551,
          15.462311557788944,
          15.547738693467336,
          15.633165829145728,
          15.71859296482412,
          15.804020100502512,
          15.889447236180903,
          15.974874371859295,
          16.060301507537687,
          16.145728643216078,
          16.231155778894472,
          16.316582914572862,
          16.402010050251256,
          16.487437185929647,
          16.57286432160804,
          16.65829145728643,
          16.74371859296482,
          16.829145728643216,
          16.914572864321606,
          16.9999999,
          17
         ],
         "xaxis": "x2",
         "y": [
          0,
          1278.84615384618,
          1278.84615384618,
          1278.84615384618,
          1278.84615384618,
          1278.84615384618,
          1278.84615384618,
          1278.84615384618,
          1278.84615384618,
          1278.84615384618,
          1278.84615384618,
          1278.84615384618,
          1278.84615384618,
          1278.84615384618,
          1278.84615384618,
          1278.84615384618,
          1278.84615384618,
          1278.84615384618,
          1278.84615384618,
          1278.84615384618,
          1278.84615384618,
          1278.84615384618,
          1278.84615384618,
          1278.84615384618,
          1278.84615384618,
          1278.84615384618,
          1278.84615384618,
          1278.84615384618,
          1278.84615384618,
          1278.84615384618,
          1278.84615384618,
          1278.84615384618,
          1278.84615384618,
          1278.84615384618,
          1278.84615384618,
          1278.84615384618,
          1278.84615384618,
          1278.84615384618,
          -3500.00000000003,
          -3500.00000000003,
          -3500.00000000003,
          -3500.00000000003,
          -3500.00000000003,
          -3500.00000000003,
          -3500.00000000003,
          -3500.00000000003,
          -3500.00000000003,
          -3500.00000000003,
          -3500.00000000003,
          -3500.00000000003,
          -3500.00000000003,
          -3500.00000000003,
          -3500.00000000003,
          -3500.00000000003,
          -3500.00000000003,
          -3500.00000000003,
          -3500.00000000003,
          -3.001332515850663e-11,
          -3.001332515850663e-11,
          -3.001332515850663e-11,
          -3.001332515850663e-11,
          -3.001332515850663e-11,
          -3.001332515850663e-11,
          -3.001332515850663e-11,
          -3.001332515850663e-11,
          -3.001332515850663e-11,
          -3.001332515850663e-11,
          -3.001332515850663e-11,
          -3.001332515850663e-11,
          -3.001332515850663e-11,
          -3.001332515850663e-11,
          -3.001332515850663e-11,
          -3.001332515850663e-11,
          -3.001332515850663e-11,
          -3.001332515850663e-11,
          -3.001332515850663e-11,
          -3.001332515850663e-11,
          -3.001332515850663e-11,
          -3.001332515850663e-11,
          -3.001332515850663e-11,
          -3.001332515850663e-11,
          -3.001332515850663e-11,
          -3.001332515850663e-11,
          -3.001332515850663e-11,
          -3.001332515850663e-11,
          -3.001332515850663e-11,
          -3.001332515850663e-11,
          -3.001332515850663e-11,
          -3.001332515850663e-11,
          -3.001332515850663e-11,
          -3.001332515850663e-11,
          -3.001332515850663e-11,
          -3.001332515850663e-11,
          -3.001332515850663e-11,
          -3.001332515850663e-11,
          -3.001332515850663e-11,
          -3.001332515850663e-11,
          -3.001332515850663e-11,
          -3.001332515850663e-11,
          -3.001332515850663e-11,
          -3.001332515850663e-11,
          -3.001332515850663e-11,
          -3.001332515850663e-11,
          -3.001332515850663e-11,
          -3.001332515850663e-11,
          -3.001332515850663e-11,
          -3.001332515850663e-11,
          -3.001332515850663e-11,
          -3.001332515850663e-11,
          -3.001332515850663e-11,
          -3.001332515850663e-11,
          -3.001332515850663e-11,
          -3.001332515850663e-11,
          -3.001332515850663e-11,
          -3.001332515850663e-11,
          -3.001332515850663e-11,
          -3.001332515850663e-11,
          -3.001332515850663e-11,
          -3.001332515850663e-11,
          -3.001332515850663e-11,
          -3.001332515850663e-11,
          -3.001332515850663e-11,
          -3.001332515850663e-11,
          -3.001332515850663e-11,
          -3.001332515850663e-11,
          -3.001332515850663e-11,
          -3.001332515850663e-11,
          -3.001332515850663e-11,
          -3.001332515850663e-11,
          -3.001332515850663e-11,
          -3.001332515850663e-11,
          -3.001332515850663e-11,
          -3.001332515850663e-11,
          -3.001332515850663e-11,
          -3.001332515850663e-11,
          -3.001332515850663e-11,
          -3.001332515850663e-11,
          -3.001332515850663e-11,
          -3.001332515850663e-11,
          -3.001332515850663e-11,
          -3.001332515850663e-11,
          -3.001332515850663e-11,
          -3.001332515850663e-11,
          -3.001332515850663e-11,
          -3.001332515850663e-11,
          -3.001332515850663e-11,
          -3.001332515850663e-11,
          -3.001332515850663e-11,
          -3.001332515850663e-11,
          -3.001332515850663e-11,
          -3.001332515850663e-11,
          -3.001332515850663e-11,
          -3.001332515850663e-11,
          3499.99999999997,
          3499.99999999997,
          3499.99999999997,
          3499.99999999997,
          3499.99999999997,
          3499.99999999997,
          3499.99999999997,
          3499.99999999997,
          3499.99999999997,
          3499.99999999997,
          3499.99999999997,
          3499.99999999997,
          3499.99999999997,
          3499.99999999997,
          3499.99999999997,
          3499.99999999997,
          3499.99999999997,
          3499.99999999997,
          3499.99999999997,
          -1278.8461538460906,
          -1278.8461538460906,
          -1278.8461538460906,
          -1278.8461538460906,
          -1278.8461538460906,
          -1278.8461538460906,
          -1278.8461538460906,
          -1278.8461538460906,
          -1278.8461538460906,
          -1278.8461538460906,
          -1278.8461538460906,
          -1278.8461538460906,
          -1278.8461538460906,
          -1278.8461538460906,
          -1278.8461538460906,
          -1278.8461538460906,
          -1278.8461538460906,
          -1278.8461538460906,
          -1278.8461538460906,
          -1278.8461538460906,
          -1278.8461538460906,
          -1278.8461538460906,
          -1278.8461538460906,
          -1278.8461538460906,
          -1278.8461538460906,
          -1278.8461538460906,
          -1278.8461538460906,
          -1278.8461538460906,
          -1278.8461538460906,
          -1278.8461538460906,
          -1278.8461538460906,
          -1278.8461538460906,
          -1278.8461538460906,
          -1278.8461538460906,
          -1278.8461538460906,
          -1278.8461538460906,
          -1278.8461538460906,
          -1278.8461538460906
         ],
         "yaxis": "y2"
        },
        {
         "fill": "tozeroy",
         "hovertemplate": "x: %{x:.3f} %{meta[0]}<br>f(x): %{y:.3f} %{meta[1]}",
         "line": {
          "color": "lightgreen",
          "width": 1
         },
         "meta": [
          "ft",
          "lbf.ft"
         ],
         "mode": "lines",
         "name": "Bending Moment",
         "type": "scatter",
         "x": [
          0,
          1e-7,
          0.08542713567839195,
          0.1708542713567839,
          0.2562814070351759,
          0.3417085427135678,
          0.42713567839195976,
          0.5125628140703518,
          0.5979899497487436,
          0.6834170854271356,
          0.7688442211055276,
          0.8542713567839195,
          0.9396984924623115,
          1.0251256281407035,
          1.1105527638190955,
          1.1959798994974873,
          1.2814070351758793,
          1.3668341708542713,
          1.4522613065326633,
          1.5376884422110553,
          1.623115577889447,
          1.708542713567839,
          1.793969849246231,
          1.879396984924623,
          1.964824120603015,
          2.050251256281407,
          2.135678391959799,
          2.221105527638191,
          2.306532663316583,
          2.3919597989949746,
          2.477386934673367,
          2.5628140703517586,
          2.648241206030151,
          2.7336683417085426,
          2.8190954773869343,
          2.9045226130653266,
          2.9899497487437183,
          2.9999999,
          3.0000001,
          3.0753768844221105,
          3.1608040201005023,
          3.246231155778894,
          3.3316582914572863,
          3.417085427135678,
          3.5025125628140703,
          3.587939698492462,
          3.673366834170854,
          3.758793969849246,
          3.844221105527638,
          3.92964824120603,
          4.015075376884422,
          4.100502512562814,
          4.185929648241205,
          4.271356783919598,
          4.35678391959799,
          4.442211055276382,
          4.4999999,
          4.5000001,
          4.527638190954773,
          4.613065326633166,
          4.698492462311558,
          4.783919597989949,
          4.869346733668341,
          4.954773869346734,
          5.040201005025125,
          5.125628140703517,
          5.211055276381909,
          5.296482412060302,
          5.381909547738693,
          5.467336683417085,
          5.552763819095477,
          5.638190954773869,
          5.723618090452261,
          5.809045226130653,
          5.894472361809045,
          5.979899497487437,
          6.065326633165829,
          6.150753768844221,
          6.236180904522612,
          6.321608040201005,
          6.407035175879397,
          6.492462311557788,
          6.57788944723618,
          6.663316582914573,
          6.748743718592965,
          6.834170854271356,
          6.919597989949748,
          7.005025125628141,
          7.090452261306532,
          7.175879396984924,
          7.261306532663316,
          7.346733668341708,
          7.4321608040201,
          7.517587939698492,
          7.603015075376884,
          7.688442211055276,
          7.773869346733668,
          7.85929648241206,
          7.9447236180904515,
          8.030150753768844,
          8.115577889447236,
          8.201005025125628,
          8.28643216080402,
          8.37185929648241,
          8.457286432160803,
          8.542713567839195,
          8.628140703517587,
          8.71356783919598,
          8.798994974874372,
          8.884422110552764,
          8.969849246231155,
          9.055276381909547,
          9.140703517587939,
          9.226130653266331,
          9.311557788944723,
          9.396984924623116,
          9.482412060301508,
          9.567839195979898,
          9.65326633165829,
          9.738693467336683,
          9.824120603015075,
          9.909547738693467,
          9.99497487437186,
          10.08040201005025,
          10.165829145728642,
          10.251256281407034,
          10.336683417085426,
          10.422110552763819,
          10.507537688442211,
          10.592964824120603,
          10.678391959798994,
          10.763819095477386,
          10.849246231155778,
          10.93467336683417,
          11.020100502512562,
          11.105527638190955,
          11.190954773869347,
          11.276381909547737,
          11.36180904522613,
          11.447236180904522,
          11.532663316582914,
          11.618090452261306,
          11.703517587939698,
          11.78894472361809,
          11.874371859296481,
          11.959798994974873,
          12.045226130653266,
          12.130653266331658,
          12.21608040201005,
          12.301507537688442,
          12.386934673366833,
          12.472361809045225,
          12.4999999,
          12.5000001,
          12.557788944723617,
          12.64321608040201,
          12.728643216080402,
          12.814070351758794,
          12.899497487437186,
          12.984924623115576,
          13.070351758793969,
          13.15577889447236,
          13.241206030150753,
          13.326633165829145,
          13.412060301507537,
          13.49748743718593,
          13.58291457286432,
          13.668341708542712,
          13.753768844221105,
          13.839195979899497,
          13.924623115577889,
          13.9999999,
          14.0000001,
          14.010050251256281,
          14.095477386934673,
          14.180904522613064,
          14.266331658291456,
          14.351758793969848,
          14.43718592964824,
          14.522613065326633,
          14.608040201005025,
          14.693467336683415,
          14.778894472361808,
          14.8643216080402,
          14.949748743718592,
          15.035175879396984,
          15.120603015075377,
          15.206030150753769,
          15.29145728643216,
          15.376884422110551,
          15.462311557788944,
          15.547738693467336,
          15.633165829145728,
          15.71859296482412,
          15.804020100502512,
          15.889447236180903,
          15.974874371859295,
          16.060301507537687,
          16.145728643216078,
          16.231155778894472,
          16.316582914572862,
          16.402010050251256,
          16.487437185929647,
          16.57286432160804,
          16.65829145728643,
          16.74371859296482,
          16.829145728643216,
          16.914572864321606,
          16.9999999,
          17
         ],
         "xaxis": "x3",
         "y": [
          0,
          0.000127884615384618,
          109.24816389640733,
          218.49632779281467,
          327.744491689222,
          436.99265558562934,
          546.2408194820366,
          655.488983378444,
          764.7371472748513,
          873.9853111712587,
          983.233475067666,
          1092.4816389640732,
          1201.7298028604805,
          1310.977966756888,
          1420.2261306532953,
          1529.4742945497026,
          1638.7224584461098,
          1747.9706223425173,
          1857.2187862389246,
          1966.466950135332,
          2075.715114031739,
          2184.9632779281465,
          2294.2114418245537,
          2403.459605720961,
          2512.7077696173687,
          2621.955933513776,
          2731.2040974101833,
          2840.4522613065906,
          2949.700425202998,
          3058.948589099405,
          3168.1967529958124,
          3277.4449168922197,
          3386.6930807886274,
          3495.9412446850347,
          3605.1894085814415,
          3714.4375724778492,
          3823.6857363742565,
          3836.538333653925,
          3836.5381115385403,
          3572.7193660611506,
          3273.724391186777,
          2974.7294163124034,
          2675.7344414380277,
          2376.739466563654,
          2077.744491689278,
          1778.7495168149048,
          1479.7545419405315,
          1180.7595670661558,
          881.764592191782,
          582.7696173174072,
          283.7746424430334,
          -15.220332431342285,
          -314.2153073057143,
          -613.210282180089,
          -912.2052570544647,
          -1211.2002319288404,
          -1413.4611884615042,
          -1413.4615384615045,
          -1413.4615384615054,
          -1413.461538461508,
          -1413.4615384615117,
          -1413.4615384615126,
          -1413.4615384615163,
          -1413.461538461519,
          -1413.461538461519,
          -1413.4615384615245,
          -1413.4615384615263,
          -1413.461538461528,
          -1413.4615384615317,
          -1413.4615384615336,
          -1413.4615384615354,
          -1413.4615384615372,
          -1413.4615384615408,
          -1413.4615384615427,
          -1413.4615384615463,
          -1413.4615384615481,
          -1413.4615384615518,
          -1413.4615384615536,
          -1413.4615384615554,
          -1413.461538461559,
          -1413.4615384615608,
          -1413.4615384615645,
          -1413.4615384615681,
          -1413.4615384615681,
          -1413.4615384615718,
          -1413.4615384615754,
          -1413.4615384615754,
          -1413.461538461579,
          -1413.4615384615827,
          -1413.4615384615827,
          -1413.4615384615863,
          -1413.46153846159,
          -1413.4615384615936,
          -1413.4615384615936,
          -1413.4615384615972,
          -1413.4615384616009,
          -1413.4615384615972,
          -1413.4615384616045,
          -1413.4615384616081,
          -1413.4615384616081,
          -1413.4615384616118,
          -1413.4615384616118,
          -1413.461538461619,
          -1413.461538461619,
          -1413.4615384616227,
          -1413.4615384616227,
          -1413.46153846163,
          -1413.4615384616263,
          -1413.4615384616336,
          -1413.4615384616372,
          -1413.4615384616372,
          -1413.4615384616372,
          -1413.4615384616445,
          -1413.4615384616445,
          -1413.4615384616482,
          -1413.4615384616482,
          -1413.4615384616554,
          -1413.4615384616518,
          -1413.461538461659,
          -1413.461538461659,
          -1413.4615384616664,
          -1413.4615384616627,
          -1413.46153846167,
          -1413.46153846167,
          -1413.4615384616773,
          -1413.4615384616773,
          -1413.4615384616773,
          -1413.4615384616773,
          -1413.4615384616845,
          -1413.4615384616845,
          -1413.4615384616918,
          -1413.4615384616918,
          -1413.461538461699,
          -1413.4615384616918,
          -1413.461538461699,
          -1413.461538461699,
          -1413.4615384617064,
          -1413.4615384617064,
          -1413.4615384617136,
          -1413.4615384617136,
          -1413.4615384617136,
          -1413.4615384617136,
          -1413.461538461721,
          -1413.461538461721,
          -1413.4615384617282,
          -1413.4615384617282,
          -1413.4615384617355,
          -1413.4615384617282,
          -1413.4615384617355,
          -1413.4615384617355,
          -1413.4615384617427,
          -1413.4615384617427,
          -1413.4615384617427,
          -1413.4611884617407,
          -1211.2002319290914,
          -912.2052570547166,
          -613.2102821803419,
          -314.2153073059744,
          -15.220332431599672,
          283.7746424427605,
          582.769617317128,
          881.7645921915027,
          1180.759567065863,
          1479.754541940245,
          1778.7495168146124,
          2077.74449168898,
          2376.73946656334,
          2675.734441437715,
          2974.7294163120823,
          3273.724391186457,
          3572.7193660608245,
          3836.538111538219,
          3836.538333653596,
          3823.6857363739327,
          3714.437572477538,
          3605.189408581129,
          3495.9412446847273,
          3386.6930807883327,
          3277.444916891931,
          3168.196752995529,
          3058.9485890991346,
          2949.7004252027327,
          2840.452261306338,
          2731.204097409929,
          2621.9559335135273,
          2512.70776961714,
          2403.4596057207455,
          2294.2114418243364,
          2184.9632779279345,
          2075.7151140315327,
          1966.4669501351382,
          1857.2187862387364,
          1747.9706223423418,
          1638.7224584459473,
          1529.4742945495454,
          1420.2261306531364,
          1310.9779667567345,
          1201.72980286034,
          1092.4816389639454,
          983.2334750675436,
          873.9853111711418,
          764.7371472747473,
          655.4889833783454,
          546.2408194819436,
          436.9926555855491,
          327.74449168914,
          218.49632779274543,
          109.24816389633634,
          0.00012788455933332443,
          -5.820766091346741e-11
         ],
         "yaxis": "y3"
        },
        {
         "fill": "tozeroy",
         "hovertemplate": "x: %{x:.3f} %{meta[0]}<br>f(x): %{y:.3f} %{meta[1]}",
         "line": {
          "color": "blue",
          "width": 1
         },
         "meta": [
          "ft",
          "in"
         ],
         "mode": "lines",
         "name": "Deflection",
         "type": "scatter",
         "x": [
          0,
          1e-7,
          0.08542713567839195,
          0.1708542713567839,
          0.2562814070351759,
          0.3417085427135678,
          0.42713567839195976,
          0.5125628140703518,
          0.5979899497487436,
          0.6834170854271356,
          0.7688442211055276,
          0.8542713567839195,
          0.9396984924623115,
          1.0251256281407035,
          1.1105527638190955,
          1.1959798994974873,
          1.2814070351758793,
          1.3668341708542713,
          1.4522613065326633,
          1.5376884422110553,
          1.623115577889447,
          1.708542713567839,
          1.793969849246231,
          1.879396984924623,
          1.964824120603015,
          2.050251256281407,
          2.135678391959799,
          2.221105527638191,
          2.306532663316583,
          2.3919597989949746,
          2.477386934673367,
          2.5628140703517586,
          2.648241206030151,
          2.7336683417085426,
          2.8190954773869343,
          2.9045226130653266,
          2.9899497487437183,
          2.9999999,
          3.0000001,
          3.0753768844221105,
          3.1608040201005023,
          3.246231155778894,
          3.3316582914572863,
          3.417085427135678,
          3.5025125628140703,
          3.587939698492462,
          3.673366834170854,
          3.758793969849246,
          3.844221105527638,
          3.92964824120603,
          4.015075376884422,
          4.100502512562814,
          4.185929648241205,
          4.271356783919598,
          4.35678391959799,
          4.442211055276382,
          4.4999999,
          4.5000001,
          4.527638190954773,
          4.613065326633166,
          4.698492462311558,
          4.783919597989949,
          4.869346733668341,
          4.954773869346734,
          5.040201005025125,
          5.125628140703517,
          5.211055276381909,
          5.296482412060302,
          5.381909547738693,
          5.467336683417085,
          5.552763819095477,
          5.638190954773869,
          5.723618090452261,
          5.809045226130653,
          5.894472361809045,
          5.979899497487437,
          6.065326633165829,
          6.150753768844221,
          6.236180904522612,
          6.321608040201005,
          6.407035175879397,
          6.492462311557788,
          6.57788944723618,
          6.663316582914573,
          6.748743718592965,
          6.834170854271356,
          6.919597989949748,
          7.005025125628141,
          7.090452261306532,
          7.175879396984924,
          7.261306532663316,
          7.346733668341708,
          7.4321608040201,
          7.517587939698492,
          7.603015075376884,
          7.688442211055276,
          7.773869346733668,
          7.85929648241206,
          7.9447236180904515,
          8.030150753768844,
          8.115577889447236,
          8.201005025125628,
          8.28643216080402,
          8.37185929648241,
          8.457286432160803,
          8.542713567839195,
          8.628140703517587,
          8.71356783919598,
          8.798994974874372,
          8.884422110552764,
          8.969849246231155,
          9.055276381909547,
          9.140703517587939,
          9.226130653266331,
          9.311557788944723,
          9.396984924623116,
          9.482412060301508,
          9.567839195979898,
          9.65326633165829,
          9.738693467336683,
          9.824120603015075,
          9.909547738693467,
          9.99497487437186,
          10.08040201005025,
          10.165829145728642,
          10.251256281407034,
          10.336683417085426,
          10.422110552763819,
          10.507537688442211,
          10.592964824120603,
          10.678391959798994,
          10.763819095477386,
          10.849246231155778,
          10.93467336683417,
          11.020100502512562,
          11.105527638190955,
          11.190954773869347,
          11.276381909547737,
          11.36180904522613,
          11.447236180904522,
          11.532663316582914,
          11.618090452261306,
          11.703517587939698,
          11.78894472361809,
          11.874371859296481,
          11.959798994974873,
          12.045226130653266,
          12.130653266331658,
          12.21608040201005,
          12.301507537688442,
          12.386934673366833,
          12.472361809045225,
          12.4999999,
          12.5000001,
          12.557788944723617,
          12.64321608040201,
          12.728643216080402,
          12.814070351758794,
          12.899497487437186,
          12.984924623115576,
          13.070351758793969,
          13.15577889447236,
          13.241206030150753,
          13.326633165829145,
          13.412060301507537,
          13.49748743718593,
          13.58291457286432,
          13.668341708542712,
          13.753768844221105,
          13.839195979899497,
          13.924623115577889,
          13.9999999,
          14.0000001,
          14.010050251256281,
          14.095477386934673,
          14.180904522613064,
          14.266331658291456,
          14.351758793969848,
          14.43718592964824,
          14.522613065326633,
          14.608040201005025,
          14.693467336683415,
          14.778894472361808,
          14.8643216080402,
          14.949748743718592,
          15.035175879396984,
          15.120603015075377,
          15.206030150753769,
          15.29145728643216,
          15.376884422110551,
          15.462311557788944,
          15.547738693467336,
          15.633165829145728,
          15.71859296482412,
          15.804020100502512,
          15.889447236180903,
          15.974874371859295,
          16.060301507537687,
          16.145728643216078,
          16.231155778894472,
          16.316582914572862,
          16.402010050251256,
          16.487437185929647,
          16.57286432160804,
          16.65829145728643,
          16.74371859296482,
          16.829145728643216,
          16.914572864321606,
          16.9999999,
          17
         ],
         "xaxis": "x4",
         "y": [
          0,
          -1.831364215894648e-10,
          -0.00015632134079591957,
          -0.00031188153028065155,
          -0.00046591941714300836,
          -0.0006176738500718023,
          -0.0007663836777558461,
          -0.0009112877488839519,
          -0.001051624912144932,
          -0.0011866340162275991,
          -0.0013155539098207657,
          -0.0014376234416132434,
          -0.0015520814602938457,
          -0.0016581668145513847,
          -0.0017551183530746723,
          -0.0018421749245525212,
          -0.0019185753776737441,
          -0.001983558561127153,
          -0.0020363633236015603,
          -0.002076228513785779,
          -0.0021023929803686207,
          -0.0021140955720388988,
          -0.002110575137485425,
          -0.002091070525397011,
          -0.0020548205844624708,
          -0.002001064163370616,
          -0.001929040110810259,
          -0.0018379872754702119,
          -0.001727144506039288,
          -0.0015957506512062993,
          -0.001443044559660058,
          -0.0012682650800893767,
          -0.0010706510611830661,
          -0.0008494413516299424,
          -0.0006038748001188157,
          -0.00033319025533849744,
          -0.00003662656597780249,
          -3.662728332437526e-10,
          3.662728514583483e-10,
          0.00028625176895371473,
          0.0006340211007042403,
          0.0010045990502287121,
          0.0013959024665701968,
          0.0018058481987717585,
          0.002232353095876466,
          0.002673334006927377,
          0.0031267077809675643,
          0.003590391267040096,
          0.004062301314188028,
          0.004540354771454432,
          0.005022468487882374,
          0.00550655931251492,
          0.005990544094395127,
          0.006472339682566071,
          0.006949862926070816,
          0.007421030673952426,
          0.007735103582626629,
          0.007735104662167646,
          0.007883771532640504,
          0.008336772031571888,
          0.00877992469356998,
          0.00921322951863478,
          0.00963668650676629,
          0.01005029565796451,
          0.010454056972229439,
          0.010847970449561085,
          0.01123203608995943,
          0.011606253893424498,
          0.011970623859956259,
          0.01232514598955474,
          0.01266982028221993,
          0.01300464673795182,
          0.013329625356750424,
          0.013644756138615741,
          0.013950039083547763,
          0.014245474191546495,
          0.014531061462611943,
          0.014806800896744098,
          0.015072692493942958,
          0.015328736254208535,
          0.015574932177540812,
          0.015811280263939798,
          0.016037780513405493,
          0.016254432925937902,
          0.016461237501537017,
          0.016658194240202838,
          0.016845303141935365,
          0.01702256420673462,
          0.01718997743460056,
          0.017347542825533226,
          0.01749526037953257,
          0.01763313009659867,
          0.01776115197673145,
          0.01787932601993096,
          0.017987652226197165,
          0.018086130595530076,
          0.018174761127929706,
          0.018253543823396,
          0.018322478681929072,
          0.01838156570352882,
          0.01843080488819529,
          0.01847019623592841,
          0.018499739746728278,
          0.01851943542059488,
          0.018529283257528145,
          0.018529283257528145,
          0.018519435420594893,
          0.018499739746728278,
          0.018470196235928382,
          0.018430804888195235,
          0.01838156570352878,
          0.018322478681929044,
          0.018253543823395973,
          0.01817476112792965,
          0.018086130595530048,
          0.01798765222619711,
          0.017879326019930947,
          0.01776115197673145,
          0.017633130096598643,
          0.017495260379532557,
          0.017347542825533108,
          0.01718997743460049,
          0.017022564206734536,
          0.016845303141935275,
          0.016658194240202706,
          0.016461237501536996,
          0.016254432925937867,
          0.016037780513405264,
          0.015811280263939576,
          0.015574932177540579,
          0.015328736254208275,
          0.015072692493942663,
          0.0148068008967438,
          0.014531061462611683,
          0.014245474191546204,
          0.013950039083547416,
          0.013644756138615322,
          0.01332962535675003,
          0.013004646737951375,
          0.012669820282219468,
          0.012325145989554198,
          0.011970623859955731,
          0.011606253893424068,
          0.011232036089958819,
          0.010847970449560429,
          0.010454056972228787,
          0.010050295657963892,
          0.009636686506765524,
          0.009213229518634125,
          0.008779924693569141,
          0.008336772031571016,
          0.007883771532639638,
          0.0077351046621666475,
          0.007735103582625635,
          0.00742103067395139,
          0.006949862926069805,
          0.006472339682564998,
          0.005990544094393924,
          0.005506559312513648,
          0.0050224684878810155,
          0.004540354771452981,
          0.0040623013141866116,
          0.0035903912670384175,
          0.0031267077809659094,
          0.0026733340069254874,
          0.0022323530958744398,
          0.0018058481987698327,
          0.0013959024665680664,
          0.001004599050226318,
          0.0006340211007019869,
          0.0002862517689513622,
          3.662703473850115e-10,
          -3.662754544109248e-10,
          -0.000036626565980135695,
          -0.0003331902553409538,
          -0.0006038748001215843,
          -0.0008494413516326738,
          -0.0010706510611859787,
          -0.0012682650800923678,
          -0.0014430445596633756,
          -0.0015957506512096487,
          -0.0017271445060429436,
          -0.0018379872754736848,
          -0.0019290401108140731,
          -0.002001064163374311,
          -0.002054820584466599,
          -0.0020910705254009176,
          -0.0021105751374896897,
          -0.0021140955720435617,
          -0.002102392980372958,
          -0.0020762285137905234,
          -0.0020363633236064604,
          -0.0019835585611320816,
          -0.0019185753776786996,
          -0.0018421749245576269,
          -0.0017551183530803982,
          -0.0016581668145565498,
          -0.0015520814602996147,
          -0.0014376234416191291,
          -0.0013155539098268498,
          -0.0011866340162338673,
          -0.0010516249121517163,
          -0.000911287748890599,
          -0.0007663836777631605,
          -0.0006176738500796031,
          -0.0004659194171503511,
          -0.0003118815302878275,
          -0.0001563213408037889,
          -1.8314461058821507e-10,
          -7.993605777301127e-15
         ],
         "yaxis": "y4"
        }
       ],
       "layout": {
        "annotations": [
         {
          "font": {
           "size": 16
          },
          "showarrow": false,
          "text": "Normal Force Diagram",
          "x": 0.5,
          "xanchor": "center",
          "xref": "paper",
          "y": 1,
          "yanchor": "bottom",
          "yref": "paper"
         },
         {
          "font": {
           "size": 16
          },
          "showarrow": false,
          "text": "Shear Force Diagram",
          "x": 0.5,
          "xanchor": "center",
          "xref": "paper",
          "y": 0.7375,
          "yanchor": "bottom",
          "yref": "paper"
         },
         {
          "font": {
           "size": 16
          },
          "showarrow": false,
          "text": "Bending Moment Diagram",
          "x": 0.5,
          "xanchor": "center",
          "xref": "paper",
          "y": 0.475,
          "yanchor": "bottom",
          "yref": "paper"
         },
         {
          "font": {
           "size": 16
          },
          "showarrow": false,
          "text": "Deflection Diagram",
          "x": 0.5,
          "xanchor": "center",
          "xref": "paper",
          "y": 0.2125,
          "yanchor": "bottom",
          "yref": "paper"
         },
         {
          "arrowhead": 1,
          "ax": 0,
          "ay": -40,
          "showarrow": true,
          "text": "3.000 ft<br>0.000 lbf",
          "x": 3,
          "xref": "x",
          "y": 0,
          "yref": "y"
         },
         {
          "arrowhead": 1,
          "ax": 0,
          "ay": 40,
          "showarrow": true,
          "text": "3.000 ft<br>-3500.000 lbf",
          "x": 3,
          "xref": "x2",
          "y": -3500,
          "yref": "y2"
         },
         {
          "arrowhead": 1,
          "ax": 0,
          "ay": -40,
          "showarrow": true,
          "text": "3.000 ft<br>3836.538 lbf.ft",
          "x": 3,
          "xref": "x3",
          "y": 3836.5383336539,
          "yref": "y3"
         },
         {
          "arrowhead": 1,
          "ax": 0,
          "ay": 40,
          "showarrow": true,
          "text": "3.000 ft<br>-0.000 in",
          "x": 3,
          "xref": "x4",
          "y": -4e-10,
          "yref": "y4"
         }
        ],
        "height": 1000,
        "showlegend": false,
        "template": {
         "data": {
          "bar": [
           {
            "error_x": {
             "color": "#2a3f5f"
            },
            "error_y": {
             "color": "#2a3f5f"
            },
            "marker": {
             "line": {
              "color": "#E5ECF6",
              "width": 0.5
             },
             "pattern": {
              "fillmode": "overlay",
              "size": 10,
              "solidity": 0.2
             }
            },
            "type": "bar"
           }
          ],
          "barpolar": [
           {
            "marker": {
             "line": {
              "color": "#E5ECF6",
              "width": 0.5
             },
             "pattern": {
              "fillmode": "overlay",
              "size": 10,
              "solidity": 0.2
             }
            },
            "type": "barpolar"
           }
          ],
          "carpet": [
           {
            "aaxis": {
             "endlinecolor": "#2a3f5f",
             "gridcolor": "white",
             "linecolor": "white",
             "minorgridcolor": "white",
             "startlinecolor": "#2a3f5f"
            },
            "baxis": {
             "endlinecolor": "#2a3f5f",
             "gridcolor": "white",
             "linecolor": "white",
             "minorgridcolor": "white",
             "startlinecolor": "#2a3f5f"
            },
            "type": "carpet"
           }
          ],
          "choropleth": [
           {
            "colorbar": {
             "outlinewidth": 0,
             "ticks": ""
            },
            "type": "choropleth"
           }
          ],
          "contour": [
           {
            "colorbar": {
             "outlinewidth": 0,
             "ticks": ""
            },
            "colorscale": [
             [
              0,
              "#0d0887"
             ],
             [
              0.1111111111111111,
              "#46039f"
             ],
             [
              0.2222222222222222,
              "#7201a8"
             ],
             [
              0.3333333333333333,
              "#9c179e"
             ],
             [
              0.4444444444444444,
              "#bd3786"
             ],
             [
              0.5555555555555556,
              "#d8576b"
             ],
             [
              0.6666666666666666,
              "#ed7953"
             ],
             [
              0.7777777777777778,
              "#fb9f3a"
             ],
             [
              0.8888888888888888,
              "#fdca26"
             ],
             [
              1,
              "#f0f921"
             ]
            ],
            "type": "contour"
           }
          ],
          "contourcarpet": [
           {
            "colorbar": {
             "outlinewidth": 0,
             "ticks": ""
            },
            "type": "contourcarpet"
           }
          ],
          "heatmap": [
           {
            "colorbar": {
             "outlinewidth": 0,
             "ticks": ""
            },
            "colorscale": [
             [
              0,
              "#0d0887"
             ],
             [
              0.1111111111111111,
              "#46039f"
             ],
             [
              0.2222222222222222,
              "#7201a8"
             ],
             [
              0.3333333333333333,
              "#9c179e"
             ],
             [
              0.4444444444444444,
              "#bd3786"
             ],
             [
              0.5555555555555556,
              "#d8576b"
             ],
             [
              0.6666666666666666,
              "#ed7953"
             ],
             [
              0.7777777777777778,
              "#fb9f3a"
             ],
             [
              0.8888888888888888,
              "#fdca26"
             ],
             [
              1,
              "#f0f921"
             ]
            ],
            "type": "heatmap"
           }
          ],
          "heatmapgl": [
           {
            "colorbar": {
             "outlinewidth": 0,
             "ticks": ""
            },
            "colorscale": [
             [
              0,
              "#0d0887"
             ],
             [
              0.1111111111111111,
              "#46039f"
             ],
             [
              0.2222222222222222,
              "#7201a8"
             ],
             [
              0.3333333333333333,
              "#9c179e"
             ],
             [
              0.4444444444444444,
              "#bd3786"
             ],
             [
              0.5555555555555556,
              "#d8576b"
             ],
             [
              0.6666666666666666,
              "#ed7953"
             ],
             [
              0.7777777777777778,
              "#fb9f3a"
             ],
             [
              0.8888888888888888,
              "#fdca26"
             ],
             [
              1,
              "#f0f921"
             ]
            ],
            "type": "heatmapgl"
           }
          ],
          "histogram": [
           {
            "marker": {
             "pattern": {
              "fillmode": "overlay",
              "size": 10,
              "solidity": 0.2
             }
            },
            "type": "histogram"
           }
          ],
          "histogram2d": [
           {
            "colorbar": {
             "outlinewidth": 0,
             "ticks": ""
            },
            "colorscale": [
             [
              0,
              "#0d0887"
             ],
             [
              0.1111111111111111,
              "#46039f"
             ],
             [
              0.2222222222222222,
              "#7201a8"
             ],
             [
              0.3333333333333333,
              "#9c179e"
             ],
             [
              0.4444444444444444,
              "#bd3786"
             ],
             [
              0.5555555555555556,
              "#d8576b"
             ],
             [
              0.6666666666666666,
              "#ed7953"
             ],
             [
              0.7777777777777778,
              "#fb9f3a"
             ],
             [
              0.8888888888888888,
              "#fdca26"
             ],
             [
              1,
              "#f0f921"
             ]
            ],
            "type": "histogram2d"
           }
          ],
          "histogram2dcontour": [
           {
            "colorbar": {
             "outlinewidth": 0,
             "ticks": ""
            },
            "colorscale": [
             [
              0,
              "#0d0887"
             ],
             [
              0.1111111111111111,
              "#46039f"
             ],
             [
              0.2222222222222222,
              "#7201a8"
             ],
             [
              0.3333333333333333,
              "#9c179e"
             ],
             [
              0.4444444444444444,
              "#bd3786"
             ],
             [
              0.5555555555555556,
              "#d8576b"
             ],
             [
              0.6666666666666666,
              "#ed7953"
             ],
             [
              0.7777777777777778,
              "#fb9f3a"
             ],
             [
              0.8888888888888888,
              "#fdca26"
             ],
             [
              1,
              "#f0f921"
             ]
            ],
            "type": "histogram2dcontour"
           }
          ],
          "mesh3d": [
           {
            "colorbar": {
             "outlinewidth": 0,
             "ticks": ""
            },
            "type": "mesh3d"
           }
          ],
          "parcoords": [
           {
            "line": {
             "colorbar": {
              "outlinewidth": 0,
              "ticks": ""
             }
            },
            "type": "parcoords"
           }
          ],
          "pie": [
           {
            "automargin": true,
            "type": "pie"
           }
          ],
          "scatter": [
           {
            "marker": {
             "colorbar": {
              "outlinewidth": 0,
              "ticks": ""
             }
            },
            "type": "scatter"
           }
          ],
          "scatter3d": [
           {
            "line": {
             "colorbar": {
              "outlinewidth": 0,
              "ticks": ""
             }
            },
            "marker": {
             "colorbar": {
              "outlinewidth": 0,
              "ticks": ""
             }
            },
            "type": "scatter3d"
           }
          ],
          "scattercarpet": [
           {
            "marker": {
             "colorbar": {
              "outlinewidth": 0,
              "ticks": ""
             }
            },
            "type": "scattercarpet"
           }
          ],
          "scattergeo": [
           {
            "marker": {
             "colorbar": {
              "outlinewidth": 0,
              "ticks": ""
             }
            },
            "type": "scattergeo"
           }
          ],
          "scattergl": [
           {
            "marker": {
             "colorbar": {
              "outlinewidth": 0,
              "ticks": ""
             }
            },
            "type": "scattergl"
           }
          ],
          "scattermapbox": [
           {
            "marker": {
             "colorbar": {
              "outlinewidth": 0,
              "ticks": ""
             }
            },
            "type": "scattermapbox"
           }
          ],
          "scatterpolar": [
           {
            "marker": {
             "colorbar": {
              "outlinewidth": 0,
              "ticks": ""
             }
            },
            "type": "scatterpolar"
           }
          ],
          "scatterpolargl": [
           {
            "marker": {
             "colorbar": {
              "outlinewidth": 0,
              "ticks": ""
             }
            },
            "type": "scatterpolargl"
           }
          ],
          "scatterternary": [
           {
            "marker": {
             "colorbar": {
              "outlinewidth": 0,
              "ticks": ""
             }
            },
            "type": "scatterternary"
           }
          ],
          "surface": [
           {
            "colorbar": {
             "outlinewidth": 0,
             "ticks": ""
            },
            "colorscale": [
             [
              0,
              "#0d0887"
             ],
             [
              0.1111111111111111,
              "#46039f"
             ],
             [
              0.2222222222222222,
              "#7201a8"
             ],
             [
              0.3333333333333333,
              "#9c179e"
             ],
             [
              0.4444444444444444,
              "#bd3786"
             ],
             [
              0.5555555555555556,
              "#d8576b"
             ],
             [
              0.6666666666666666,
              "#ed7953"
             ],
             [
              0.7777777777777778,
              "#fb9f3a"
             ],
             [
              0.8888888888888888,
              "#fdca26"
             ],
             [
              1,
              "#f0f921"
             ]
            ],
            "type": "surface"
           }
          ],
          "table": [
           {
            "cells": {
             "fill": {
              "color": "#EBF0F8"
             },
             "line": {
              "color": "white"
             }
            },
            "header": {
             "fill": {
              "color": "#C8D4E3"
             },
             "line": {
              "color": "white"
             }
            },
            "type": "table"
           }
          ]
         },
         "layout": {
          "annotationdefaults": {
           "arrowcolor": "#2a3f5f",
           "arrowhead": 0,
           "arrowwidth": 1
          },
          "autotypenumbers": "strict",
          "coloraxis": {
           "colorbar": {
            "outlinewidth": 0,
            "ticks": ""
           }
          },
          "colorscale": {
           "diverging": [
            [
             0,
             "#8e0152"
            ],
            [
             0.1,
             "#c51b7d"
            ],
            [
             0.2,
             "#de77ae"
            ],
            [
             0.3,
             "#f1b6da"
            ],
            [
             0.4,
             "#fde0ef"
            ],
            [
             0.5,
             "#f7f7f7"
            ],
            [
             0.6,
             "#e6f5d0"
            ],
            [
             0.7,
             "#b8e186"
            ],
            [
             0.8,
             "#7fbc41"
            ],
            [
             0.9,
             "#4d9221"
            ],
            [
             1,
             "#276419"
            ]
           ],
           "sequential": [
            [
             0,
             "#0d0887"
            ],
            [
             0.1111111111111111,
             "#46039f"
            ],
            [
             0.2222222222222222,
             "#7201a8"
            ],
            [
             0.3333333333333333,
             "#9c179e"
            ],
            [
             0.4444444444444444,
             "#bd3786"
            ],
            [
             0.5555555555555556,
             "#d8576b"
            ],
            [
             0.6666666666666666,
             "#ed7953"
            ],
            [
             0.7777777777777778,
             "#fb9f3a"
            ],
            [
             0.8888888888888888,
             "#fdca26"
            ],
            [
             1,
             "#f0f921"
            ]
           ],
           "sequentialminus": [
            [
             0,
             "#0d0887"
            ],
            [
             0.1111111111111111,
             "#46039f"
            ],
            [
             0.2222222222222222,
             "#7201a8"
            ],
            [
             0.3333333333333333,
             "#9c179e"
            ],
            [
             0.4444444444444444,
             "#bd3786"
            ],
            [
             0.5555555555555556,
             "#d8576b"
            ],
            [
             0.6666666666666666,
             "#ed7953"
            ],
            [
             0.7777777777777778,
             "#fb9f3a"
            ],
            [
             0.8888888888888888,
             "#fdca26"
            ],
            [
             1,
             "#f0f921"
            ]
           ]
          },
          "colorway": [
           "#636efa",
           "#EF553B",
           "#00cc96",
           "#ab63fa",
           "#FFA15A",
           "#19d3f3",
           "#FF6692",
           "#B6E880",
           "#FF97FF",
           "#FECB52"
          ],
          "font": {
           "color": "#2a3f5f"
          },
          "geo": {
           "bgcolor": "white",
           "lakecolor": "white",
           "landcolor": "#E5ECF6",
           "showlakes": true,
           "showland": true,
           "subunitcolor": "white"
          },
          "hoverlabel": {
           "align": "left"
          },
          "hovermode": "closest",
          "mapbox": {
           "style": "light"
          },
          "paper_bgcolor": "white",
          "plot_bgcolor": "#E5ECF6",
          "polar": {
           "angularaxis": {
            "gridcolor": "white",
            "linecolor": "white",
            "ticks": ""
           },
           "bgcolor": "#E5ECF6",
           "radialaxis": {
            "gridcolor": "white",
            "linecolor": "white",
            "ticks": ""
           }
          },
          "scene": {
           "xaxis": {
            "backgroundcolor": "#E5ECF6",
            "gridcolor": "white",
            "gridwidth": 2,
            "linecolor": "white",
            "showbackground": true,
            "ticks": "",
            "zerolinecolor": "white"
           },
           "yaxis": {
            "backgroundcolor": "#E5ECF6",
            "gridcolor": "white",
            "gridwidth": 2,
            "linecolor": "white",
            "showbackground": true,
            "ticks": "",
            "zerolinecolor": "white"
           },
           "zaxis": {
            "backgroundcolor": "#E5ECF6",
            "gridcolor": "white",
            "gridwidth": 2,
            "linecolor": "white",
            "showbackground": true,
            "ticks": "",
            "zerolinecolor": "white"
           }
          },
          "shapedefaults": {
           "line": {
            "color": "#2a3f5f"
           }
          },
          "ternary": {
           "aaxis": {
            "gridcolor": "white",
            "linecolor": "white",
            "ticks": ""
           },
           "baxis": {
            "gridcolor": "white",
            "linecolor": "white",
            "ticks": ""
           },
           "bgcolor": "#E5ECF6",
           "caxis": {
            "gridcolor": "white",
            "linecolor": "white",
            "ticks": ""
           }
          },
          "title": {
           "x": 0.05
          },
          "xaxis": {
           "automargin": true,
           "gridcolor": "white",
           "linecolor": "white",
           "ticks": "",
           "title": {
            "standoff": 15
           },
           "zerolinecolor": "white",
           "zerolinewidth": 2
          },
          "yaxis": {
           "automargin": true,
           "gridcolor": "white",
           "linecolor": "white",
           "ticks": "",
           "title": {
            "standoff": 15
           },
           "zerolinecolor": "white",
           "zerolinewidth": 2
          }
         }
        },
        "title": {
         "font": {
          "size": 24
         },
         "text": "Analysis Results",
         "x": 0.5
        },
        "width": 700,
        "xaxis": {
         "anchor": "y",
         "domain": [
          0,
          1
         ],
         "matches": "x4",
         "showticklabels": false
        },
        "xaxis2": {
         "anchor": "y2",
         "domain": [
          0,
          1
         ],
         "matches": "x4",
         "showticklabels": false
        },
        "xaxis3": {
         "anchor": "y3",
         "domain": [
          0,
          1
         ],
         "matches": "x4",
         "showticklabels": false
        },
        "xaxis4": {
         "anchor": "y4",
         "domain": [
          0,
          1
         ],
         "title": {
          "text": "Beam Length (ft)"
         }
        },
        "yaxis": {
         "anchor": "x",
         "domain": [
          0.7875,
          1
         ],
         "title": {
          "text": "Normal Force (lbf)"
         }
        },
        "yaxis2": {
         "anchor": "x2",
         "domain": [
          0.525,
          0.7375
         ],
         "title": {
          "text": "Shear Force (lbf)"
         }
        },
        "yaxis3": {
         "anchor": "x3",
         "domain": [
          0.2625,
          0.475
         ],
         "title": {
          "text": "Bending Moment (lbf.ft)"
         }
        },
        "yaxis4": {
         "anchor": "x4",
         "domain": [
          0,
          0.2125
         ],
         "title": {
          "text": "Deflection (in)"
         }
        }
       }
      },
      "text/html": [
       "<div>                            <div id=\"077bfe16-f54c-4b54-a6d5-da75fe14987d\" class=\"plotly-graph-div\" style=\"height:1000px; width:700px;\"></div>            <script type=\"text/javascript\">                require([\"plotly\"], function(Plotly) {                    window.PLOTLYENV=window.PLOTLYENV || {};                                    if (document.getElementById(\"077bfe16-f54c-4b54-a6d5-da75fe14987d\")) {                    Plotly.newPlot(                        \"077bfe16-f54c-4b54-a6d5-da75fe14987d\",                        [{\"fill\":\"tozeroy\",\"hovertemplate\":\"x: %{x:.3f} %{meta[0]}<br>f(x): %{y:.3f} %{meta[1]}\",\"line\":{\"color\":\"red\",\"width\":1},\"meta\":[\"ft\",\"lbf\"],\"mode\":\"lines\",\"name\":\"Normal Force\",\"x\":[0.0,1e-07,0.08542713567839195,0.1708542713567839,0.2562814070351759,0.3417085427135678,0.42713567839195976,0.5125628140703518,0.5979899497487436,0.6834170854271356,0.7688442211055276,0.8542713567839195,0.9396984924623115,1.0251256281407035,1.1105527638190955,1.1959798994974873,1.2814070351758793,1.3668341708542713,1.4522613065326633,1.5376884422110553,1.623115577889447,1.708542713567839,1.793969849246231,1.879396984924623,1.964824120603015,2.050251256281407,2.135678391959799,2.221105527638191,2.306532663316583,2.3919597989949746,2.477386934673367,2.5628140703517586,2.648241206030151,2.7336683417085426,2.8190954773869343,2.9045226130653266,2.9899497487437183,2.9999999,3.0000001,3.0753768844221105,3.1608040201005023,3.246231155778894,3.3316582914572863,3.417085427135678,3.5025125628140703,3.587939698492462,3.673366834170854,3.758793969849246,3.844221105527638,3.92964824120603,4.015075376884422,4.100502512562814,4.185929648241205,4.271356783919598,4.35678391959799,4.442211055276382,4.4999999,4.5000001,4.527638190954773,4.613065326633166,4.698492462311558,4.783919597989949,4.869346733668341,4.954773869346734,5.040201005025125,5.125628140703517,5.211055276381909,5.296482412060302,5.381909547738693,5.467336683417085,5.552763819095477,5.638190954773869,5.723618090452261,5.809045226130653,5.894472361809045,5.979899497487437,6.065326633165829,6.150753768844221,6.236180904522612,6.321608040201005,6.407035175879397,6.492462311557788,6.57788944723618,6.663316582914573,6.748743718592965,6.834170854271356,6.919597989949748,7.005025125628141,7.090452261306532,7.175879396984924,7.261306532663316,7.346733668341708,7.4321608040201,7.517587939698492,7.603015075376884,7.688442211055276,7.773869346733668,7.85929648241206,7.9447236180904515,8.030150753768844,8.115577889447236,8.201005025125628,8.28643216080402,8.37185929648241,8.457286432160803,8.542713567839195,8.628140703517587,8.71356783919598,8.798994974874372,8.884422110552764,8.969849246231155,9.055276381909547,9.140703517587939,9.226130653266331,9.311557788944723,9.396984924623116,9.482412060301508,9.567839195979898,9.65326633165829,9.738693467336683,9.824120603015075,9.909547738693467,9.99497487437186,10.08040201005025,10.165829145728642,10.251256281407034,10.336683417085426,10.422110552763819,10.507537688442211,10.592964824120603,10.678391959798994,10.763819095477386,10.849246231155778,10.93467336683417,11.020100502512562,11.105527638190955,11.190954773869347,11.276381909547737,11.36180904522613,11.447236180904522,11.532663316582914,11.618090452261306,11.703517587939698,11.78894472361809,11.874371859296481,11.959798994974873,12.045226130653266,12.130653266331658,12.21608040201005,12.301507537688442,12.386934673366833,12.472361809045225,12.4999999,12.5000001,12.557788944723617,12.64321608040201,12.728643216080402,12.814070351758794,12.899497487437186,12.984924623115576,13.070351758793969,13.15577889447236,13.241206030150753,13.326633165829145,13.412060301507537,13.49748743718593,13.58291457286432,13.668341708542712,13.753768844221105,13.839195979899497,13.924623115577889,13.9999999,14.0000001,14.010050251256281,14.095477386934673,14.180904522613064,14.266331658291456,14.351758793969848,14.43718592964824,14.522613065326633,14.608040201005025,14.693467336683415,14.778894472361808,14.8643216080402,14.949748743718592,15.035175879396984,15.120603015075377,15.206030150753769,15.29145728643216,15.376884422110551,15.462311557788944,15.547738693467336,15.633165829145728,15.71859296482412,15.804020100502512,15.889447236180903,15.974874371859295,16.060301507537687,16.145728643216078,16.231155778894472,16.316582914572862,16.402010050251256,16.487437185929647,16.57286432160804,16.65829145728643,16.74371859296482,16.829145728643216,16.914572864321606,16.9999999,17.0],\"y\":[0.0,0.0,0.0,0.0,0.0,0.0,0.0,0.0,0.0,0.0,0.0,0.0,0.0,0.0,0.0,0.0,0.0,0.0,0.0,0.0,0.0,0.0,0.0,0.0,0.0,0.0,0.0,0.0,0.0,0.0,0.0,0.0,0.0,0.0,0.0,0.0,0.0,0.0,0.0,0.0,0.0,0.0,0.0,0.0,0.0,0.0,0.0,0.0,0.0,0.0,0.0,0.0,0.0,0.0,0.0,0.0,0.0,0.0,0.0,0.0,0.0,0.0,0.0,0.0,0.0,0.0,0.0,0.0,0.0,0.0,0.0,0.0,0.0,0.0,0.0,0.0,0.0,0.0,0.0,0.0,0.0,0.0,0.0,0.0,0.0,0.0,0.0,0.0,0.0,0.0,0.0,0.0,0.0,0.0,0.0,0.0,0.0,0.0,0.0,0.0,0.0,0.0,0.0,0.0,0.0,0.0,0.0,0.0,0.0,0.0,0.0,0.0,0.0,0.0,0.0,0.0,0.0,0.0,0.0,0.0,0.0,0.0,0.0,0.0,0.0,0.0,0.0,0.0,0.0,0.0,0.0,0.0,0.0,0.0,0.0,0.0,0.0,0.0,0.0,0.0,0.0,0.0,0.0,0.0,0.0,0.0,0.0,0.0,0.0,0.0,0.0,0.0,0.0,0.0,0.0,0.0,0.0,0.0,0.0,0.0,0.0,0.0,0.0,0.0,0.0,0.0,0.0,0.0,0.0,0.0,0.0,0.0,0.0,0.0,0.0,0.0,0.0,0.0,0.0,0.0,0.0,0.0,0.0,0.0,0.0,0.0,0.0,0.0,0.0,0.0,0.0,0.0,0.0,0.0,0.0,0.0,0.0,0.0,0.0,0.0,0.0,0.0,0.0,0.0,0.0,0.0,0.0,0.0,0.0,0.0],\"type\":\"scatter\",\"xaxis\":\"x\",\"yaxis\":\"y\"},{\"fill\":\"tozeroy\",\"hovertemplate\":\"x: %{x:.3f} %{meta[0]}<br>f(x): %{y:.3f} %{meta[1]}\",\"line\":{\"color\":\"aqua\",\"width\":1},\"meta\":[\"ft\",\"lbf\"],\"mode\":\"lines\",\"name\":\"Shear Force\",\"x\":[0.0,1e-07,0.08542713567839195,0.1708542713567839,0.2562814070351759,0.3417085427135678,0.42713567839195976,0.5125628140703518,0.5979899497487436,0.6834170854271356,0.7688442211055276,0.8542713567839195,0.9396984924623115,1.0251256281407035,1.1105527638190955,1.1959798994974873,1.2814070351758793,1.3668341708542713,1.4522613065326633,1.5376884422110553,1.623115577889447,1.708542713567839,1.793969849246231,1.879396984924623,1.964824120603015,2.050251256281407,2.135678391959799,2.221105527638191,2.306532663316583,2.3919597989949746,2.477386934673367,2.5628140703517586,2.648241206030151,2.7336683417085426,2.8190954773869343,2.9045226130653266,2.9899497487437183,2.9999999,3.0000001,3.0753768844221105,3.1608040201005023,3.246231155778894,3.3316582914572863,3.417085427135678,3.5025125628140703,3.587939698492462,3.673366834170854,3.758793969849246,3.844221105527638,3.92964824120603,4.015075376884422,4.100502512562814,4.185929648241205,4.271356783919598,4.35678391959799,4.442211055276382,4.4999999,4.5000001,4.527638190954773,4.613065326633166,4.698492462311558,4.783919597989949,4.869346733668341,4.954773869346734,5.040201005025125,5.125628140703517,5.211055276381909,5.296482412060302,5.381909547738693,5.467336683417085,5.552763819095477,5.638190954773869,5.723618090452261,5.809045226130653,5.894472361809045,5.979899497487437,6.065326633165829,6.150753768844221,6.236180904522612,6.321608040201005,6.407035175879397,6.492462311557788,6.57788944723618,6.663316582914573,6.748743718592965,6.834170854271356,6.919597989949748,7.005025125628141,7.090452261306532,7.175879396984924,7.261306532663316,7.346733668341708,7.4321608040201,7.517587939698492,7.603015075376884,7.688442211055276,7.773869346733668,7.85929648241206,7.9447236180904515,8.030150753768844,8.115577889447236,8.201005025125628,8.28643216080402,8.37185929648241,8.457286432160803,8.542713567839195,8.628140703517587,8.71356783919598,8.798994974874372,8.884422110552764,8.969849246231155,9.055276381909547,9.140703517587939,9.226130653266331,9.311557788944723,9.396984924623116,9.482412060301508,9.567839195979898,9.65326633165829,9.738693467336683,9.824120603015075,9.909547738693467,9.99497487437186,10.08040201005025,10.165829145728642,10.251256281407034,10.336683417085426,10.422110552763819,10.507537688442211,10.592964824120603,10.678391959798994,10.763819095477386,10.849246231155778,10.93467336683417,11.020100502512562,11.105527638190955,11.190954773869347,11.276381909547737,11.36180904522613,11.447236180904522,11.532663316582914,11.618090452261306,11.703517587939698,11.78894472361809,11.874371859296481,11.959798994974873,12.045226130653266,12.130653266331658,12.21608040201005,12.301507537688442,12.386934673366833,12.472361809045225,12.4999999,12.5000001,12.557788944723617,12.64321608040201,12.728643216080402,12.814070351758794,12.899497487437186,12.984924623115576,13.070351758793969,13.15577889447236,13.241206030150753,13.326633165829145,13.412060301507537,13.49748743718593,13.58291457286432,13.668341708542712,13.753768844221105,13.839195979899497,13.924623115577889,13.9999999,14.0000001,14.010050251256281,14.095477386934673,14.180904522613064,14.266331658291456,14.351758793969848,14.43718592964824,14.522613065326633,14.608040201005025,14.693467336683415,14.778894472361808,14.8643216080402,14.949748743718592,15.035175879396984,15.120603015075377,15.206030150753769,15.29145728643216,15.376884422110551,15.462311557788944,15.547738693467336,15.633165829145728,15.71859296482412,15.804020100502512,15.889447236180903,15.974874371859295,16.060301507537687,16.145728643216078,16.231155778894472,16.316582914572862,16.402010050251256,16.487437185929647,16.57286432160804,16.65829145728643,16.74371859296482,16.829145728643216,16.914572864321606,16.9999999,17.0],\"y\":[0.0,1278.84615384618,1278.84615384618,1278.84615384618,1278.84615384618,1278.84615384618,1278.84615384618,1278.84615384618,1278.84615384618,1278.84615384618,1278.84615384618,1278.84615384618,1278.84615384618,1278.84615384618,1278.84615384618,1278.84615384618,1278.84615384618,1278.84615384618,1278.84615384618,1278.84615384618,1278.84615384618,1278.84615384618,1278.84615384618,1278.84615384618,1278.84615384618,1278.84615384618,1278.84615384618,1278.84615384618,1278.84615384618,1278.84615384618,1278.84615384618,1278.84615384618,1278.84615384618,1278.84615384618,1278.84615384618,1278.84615384618,1278.84615384618,1278.84615384618,-3500.00000000003,-3500.00000000003,-3500.00000000003,-3500.00000000003,-3500.00000000003,-3500.00000000003,-3500.00000000003,-3500.00000000003,-3500.00000000003,-3500.00000000003,-3500.00000000003,-3500.00000000003,-3500.00000000003,-3500.00000000003,-3500.00000000003,-3500.00000000003,-3500.00000000003,-3500.00000000003,-3500.00000000003,-3.001332515850663e-11,-3.001332515850663e-11,-3.001332515850663e-11,-3.001332515850663e-11,-3.001332515850663e-11,-3.001332515850663e-11,-3.001332515850663e-11,-3.001332515850663e-11,-3.001332515850663e-11,-3.001332515850663e-11,-3.001332515850663e-11,-3.001332515850663e-11,-3.001332515850663e-11,-3.001332515850663e-11,-3.001332515850663e-11,-3.001332515850663e-11,-3.001332515850663e-11,-3.001332515850663e-11,-3.001332515850663e-11,-3.001332515850663e-11,-3.001332515850663e-11,-3.001332515850663e-11,-3.001332515850663e-11,-3.001332515850663e-11,-3.001332515850663e-11,-3.001332515850663e-11,-3.001332515850663e-11,-3.001332515850663e-11,-3.001332515850663e-11,-3.001332515850663e-11,-3.001332515850663e-11,-3.001332515850663e-11,-3.001332515850663e-11,-3.001332515850663e-11,-3.001332515850663e-11,-3.001332515850663e-11,-3.001332515850663e-11,-3.001332515850663e-11,-3.001332515850663e-11,-3.001332515850663e-11,-3.001332515850663e-11,-3.001332515850663e-11,-3.001332515850663e-11,-3.001332515850663e-11,-3.001332515850663e-11,-3.001332515850663e-11,-3.001332515850663e-11,-3.001332515850663e-11,-3.001332515850663e-11,-3.001332515850663e-11,-3.001332515850663e-11,-3.001332515850663e-11,-3.001332515850663e-11,-3.001332515850663e-11,-3.001332515850663e-11,-3.001332515850663e-11,-3.001332515850663e-11,-3.001332515850663e-11,-3.001332515850663e-11,-3.001332515850663e-11,-3.001332515850663e-11,-3.001332515850663e-11,-3.001332515850663e-11,-3.001332515850663e-11,-3.001332515850663e-11,-3.001332515850663e-11,-3.001332515850663e-11,-3.001332515850663e-11,-3.001332515850663e-11,-3.001332515850663e-11,-3.001332515850663e-11,-3.001332515850663e-11,-3.001332515850663e-11,-3.001332515850663e-11,-3.001332515850663e-11,-3.001332515850663e-11,-3.001332515850663e-11,-3.001332515850663e-11,-3.001332515850663e-11,-3.001332515850663e-11,-3.001332515850663e-11,-3.001332515850663e-11,-3.001332515850663e-11,-3.001332515850663e-11,-3.001332515850663e-11,-3.001332515850663e-11,-3.001332515850663e-11,-3.001332515850663e-11,-3.001332515850663e-11,-3.001332515850663e-11,-3.001332515850663e-11,-3.001332515850663e-11,-3.001332515850663e-11,-3.001332515850663e-11,-3.001332515850663e-11,-3.001332515850663e-11,3499.99999999997,3499.99999999997,3499.99999999997,3499.99999999997,3499.99999999997,3499.99999999997,3499.99999999997,3499.99999999997,3499.99999999997,3499.99999999997,3499.99999999997,3499.99999999997,3499.99999999997,3499.99999999997,3499.99999999997,3499.99999999997,3499.99999999997,3499.99999999997,3499.99999999997,-1278.8461538460906,-1278.8461538460906,-1278.8461538460906,-1278.8461538460906,-1278.8461538460906,-1278.8461538460906,-1278.8461538460906,-1278.8461538460906,-1278.8461538460906,-1278.8461538460906,-1278.8461538460906,-1278.8461538460906,-1278.8461538460906,-1278.8461538460906,-1278.8461538460906,-1278.8461538460906,-1278.8461538460906,-1278.8461538460906,-1278.8461538460906,-1278.8461538460906,-1278.8461538460906,-1278.8461538460906,-1278.8461538460906,-1278.8461538460906,-1278.8461538460906,-1278.8461538460906,-1278.8461538460906,-1278.8461538460906,-1278.8461538460906,-1278.8461538460906,-1278.8461538460906,-1278.8461538460906,-1278.8461538460906,-1278.8461538460906,-1278.8461538460906,-1278.8461538460906,-1278.8461538460906,-1278.8461538460906],\"type\":\"scatter\",\"xaxis\":\"x2\",\"yaxis\":\"y2\"},{\"fill\":\"tozeroy\",\"hovertemplate\":\"x: %{x:.3f} %{meta[0]}<br>f(x): %{y:.3f} %{meta[1]}\",\"line\":{\"color\":\"lightgreen\",\"width\":1},\"meta\":[\"ft\",\"lbf.ft\"],\"mode\":\"lines\",\"name\":\"Bending Moment\",\"x\":[0.0,1e-07,0.08542713567839195,0.1708542713567839,0.2562814070351759,0.3417085427135678,0.42713567839195976,0.5125628140703518,0.5979899497487436,0.6834170854271356,0.7688442211055276,0.8542713567839195,0.9396984924623115,1.0251256281407035,1.1105527638190955,1.1959798994974873,1.2814070351758793,1.3668341708542713,1.4522613065326633,1.5376884422110553,1.623115577889447,1.708542713567839,1.793969849246231,1.879396984924623,1.964824120603015,2.050251256281407,2.135678391959799,2.221105527638191,2.306532663316583,2.3919597989949746,2.477386934673367,2.5628140703517586,2.648241206030151,2.7336683417085426,2.8190954773869343,2.9045226130653266,2.9899497487437183,2.9999999,3.0000001,3.0753768844221105,3.1608040201005023,3.246231155778894,3.3316582914572863,3.417085427135678,3.5025125628140703,3.587939698492462,3.673366834170854,3.758793969849246,3.844221105527638,3.92964824120603,4.015075376884422,4.100502512562814,4.185929648241205,4.271356783919598,4.35678391959799,4.442211055276382,4.4999999,4.5000001,4.527638190954773,4.613065326633166,4.698492462311558,4.783919597989949,4.869346733668341,4.954773869346734,5.040201005025125,5.125628140703517,5.211055276381909,5.296482412060302,5.381909547738693,5.467336683417085,5.552763819095477,5.638190954773869,5.723618090452261,5.809045226130653,5.894472361809045,5.979899497487437,6.065326633165829,6.150753768844221,6.236180904522612,6.321608040201005,6.407035175879397,6.492462311557788,6.57788944723618,6.663316582914573,6.748743718592965,6.834170854271356,6.919597989949748,7.005025125628141,7.090452261306532,7.175879396984924,7.261306532663316,7.346733668341708,7.4321608040201,7.517587939698492,7.603015075376884,7.688442211055276,7.773869346733668,7.85929648241206,7.9447236180904515,8.030150753768844,8.115577889447236,8.201005025125628,8.28643216080402,8.37185929648241,8.457286432160803,8.542713567839195,8.628140703517587,8.71356783919598,8.798994974874372,8.884422110552764,8.969849246231155,9.055276381909547,9.140703517587939,9.226130653266331,9.311557788944723,9.396984924623116,9.482412060301508,9.567839195979898,9.65326633165829,9.738693467336683,9.824120603015075,9.909547738693467,9.99497487437186,10.08040201005025,10.165829145728642,10.251256281407034,10.336683417085426,10.422110552763819,10.507537688442211,10.592964824120603,10.678391959798994,10.763819095477386,10.849246231155778,10.93467336683417,11.020100502512562,11.105527638190955,11.190954773869347,11.276381909547737,11.36180904522613,11.447236180904522,11.532663316582914,11.618090452261306,11.703517587939698,11.78894472361809,11.874371859296481,11.959798994974873,12.045226130653266,12.130653266331658,12.21608040201005,12.301507537688442,12.386934673366833,12.472361809045225,12.4999999,12.5000001,12.557788944723617,12.64321608040201,12.728643216080402,12.814070351758794,12.899497487437186,12.984924623115576,13.070351758793969,13.15577889447236,13.241206030150753,13.326633165829145,13.412060301507537,13.49748743718593,13.58291457286432,13.668341708542712,13.753768844221105,13.839195979899497,13.924623115577889,13.9999999,14.0000001,14.010050251256281,14.095477386934673,14.180904522613064,14.266331658291456,14.351758793969848,14.43718592964824,14.522613065326633,14.608040201005025,14.693467336683415,14.778894472361808,14.8643216080402,14.949748743718592,15.035175879396984,15.120603015075377,15.206030150753769,15.29145728643216,15.376884422110551,15.462311557788944,15.547738693467336,15.633165829145728,15.71859296482412,15.804020100502512,15.889447236180903,15.974874371859295,16.060301507537687,16.145728643216078,16.231155778894472,16.316582914572862,16.402010050251256,16.487437185929647,16.57286432160804,16.65829145728643,16.74371859296482,16.829145728643216,16.914572864321606,16.9999999,17.0],\"y\":[0.0,0.000127884615384618,109.24816389640733,218.49632779281467,327.744491689222,436.99265558562934,546.2408194820366,655.488983378444,764.7371472748513,873.9853111712587,983.233475067666,1092.4816389640732,1201.7298028604805,1310.977966756888,1420.2261306532953,1529.4742945497026,1638.7224584461098,1747.9706223425173,1857.2187862389246,1966.466950135332,2075.715114031739,2184.9632779281465,2294.2114418245537,2403.459605720961,2512.7077696173687,2621.955933513776,2731.2040974101833,2840.4522613065906,2949.700425202998,3058.948589099405,3168.1967529958124,3277.4449168922197,3386.6930807886274,3495.9412446850347,3605.1894085814415,3714.4375724778492,3823.6857363742565,3836.538333653925,3836.5381115385403,3572.7193660611506,3273.724391186777,2974.7294163124034,2675.7344414380277,2376.739466563654,2077.744491689278,1778.7495168149048,1479.7545419405315,1180.7595670661558,881.764592191782,582.7696173174072,283.7746424430334,-15.220332431342285,-314.2153073057143,-613.210282180089,-912.2052570544647,-1211.2002319288404,-1413.4611884615042,-1413.4615384615045,-1413.4615384615054,-1413.461538461508,-1413.4615384615117,-1413.4615384615126,-1413.4615384615163,-1413.461538461519,-1413.461538461519,-1413.4615384615245,-1413.4615384615263,-1413.461538461528,-1413.4615384615317,-1413.4615384615336,-1413.4615384615354,-1413.4615384615372,-1413.4615384615408,-1413.4615384615427,-1413.4615384615463,-1413.4615384615481,-1413.4615384615518,-1413.4615384615536,-1413.4615384615554,-1413.461538461559,-1413.4615384615608,-1413.4615384615645,-1413.4615384615681,-1413.4615384615681,-1413.4615384615718,-1413.4615384615754,-1413.4615384615754,-1413.461538461579,-1413.4615384615827,-1413.4615384615827,-1413.4615384615863,-1413.46153846159,-1413.4615384615936,-1413.4615384615936,-1413.4615384615972,-1413.4615384616009,-1413.4615384615972,-1413.4615384616045,-1413.4615384616081,-1413.4615384616081,-1413.4615384616118,-1413.4615384616118,-1413.461538461619,-1413.461538461619,-1413.4615384616227,-1413.4615384616227,-1413.46153846163,-1413.4615384616263,-1413.4615384616336,-1413.4615384616372,-1413.4615384616372,-1413.4615384616372,-1413.4615384616445,-1413.4615384616445,-1413.4615384616482,-1413.4615384616482,-1413.4615384616554,-1413.4615384616518,-1413.461538461659,-1413.461538461659,-1413.4615384616664,-1413.4615384616627,-1413.46153846167,-1413.46153846167,-1413.4615384616773,-1413.4615384616773,-1413.4615384616773,-1413.4615384616773,-1413.4615384616845,-1413.4615384616845,-1413.4615384616918,-1413.4615384616918,-1413.461538461699,-1413.4615384616918,-1413.461538461699,-1413.461538461699,-1413.4615384617064,-1413.4615384617064,-1413.4615384617136,-1413.4615384617136,-1413.4615384617136,-1413.4615384617136,-1413.461538461721,-1413.461538461721,-1413.4615384617282,-1413.4615384617282,-1413.4615384617355,-1413.4615384617282,-1413.4615384617355,-1413.4615384617355,-1413.4615384617427,-1413.4615384617427,-1413.4615384617427,-1413.4611884617407,-1211.2002319290914,-912.2052570547166,-613.2102821803419,-314.2153073059744,-15.220332431599672,283.7746424427605,582.769617317128,881.7645921915027,1180.759567065863,1479.754541940245,1778.7495168146124,2077.74449168898,2376.73946656334,2675.734441437715,2974.7294163120823,3273.724391186457,3572.7193660608245,3836.538111538219,3836.538333653596,3823.6857363739327,3714.437572477538,3605.189408581129,3495.9412446847273,3386.6930807883327,3277.444916891931,3168.196752995529,3058.9485890991346,2949.7004252027327,2840.452261306338,2731.204097409929,2621.9559335135273,2512.70776961714,2403.4596057207455,2294.2114418243364,2184.9632779279345,2075.7151140315327,1966.4669501351382,1857.2187862387364,1747.9706223423418,1638.7224584459473,1529.4742945495454,1420.2261306531364,1310.9779667567345,1201.72980286034,1092.4816389639454,983.2334750675436,873.9853111711418,764.7371472747473,655.4889833783454,546.2408194819436,436.9926555855491,327.74449168914,218.49632779274543,109.24816389633634,0.00012788455933332443,-5.820766091346741e-11],\"type\":\"scatter\",\"xaxis\":\"x3\",\"yaxis\":\"y3\"},{\"fill\":\"tozeroy\",\"hovertemplate\":\"x: %{x:.3f} %{meta[0]}<br>f(x): %{y:.3f} %{meta[1]}\",\"line\":{\"color\":\"blue\",\"width\":1},\"meta\":[\"ft\",\"in\"],\"mode\":\"lines\",\"name\":\"Deflection\",\"x\":[0.0,1e-07,0.08542713567839195,0.1708542713567839,0.2562814070351759,0.3417085427135678,0.42713567839195976,0.5125628140703518,0.5979899497487436,0.6834170854271356,0.7688442211055276,0.8542713567839195,0.9396984924623115,1.0251256281407035,1.1105527638190955,1.1959798994974873,1.2814070351758793,1.3668341708542713,1.4522613065326633,1.5376884422110553,1.623115577889447,1.708542713567839,1.793969849246231,1.879396984924623,1.964824120603015,2.050251256281407,2.135678391959799,2.221105527638191,2.306532663316583,2.3919597989949746,2.477386934673367,2.5628140703517586,2.648241206030151,2.7336683417085426,2.8190954773869343,2.9045226130653266,2.9899497487437183,2.9999999,3.0000001,3.0753768844221105,3.1608040201005023,3.246231155778894,3.3316582914572863,3.417085427135678,3.5025125628140703,3.587939698492462,3.673366834170854,3.758793969849246,3.844221105527638,3.92964824120603,4.015075376884422,4.100502512562814,4.185929648241205,4.271356783919598,4.35678391959799,4.442211055276382,4.4999999,4.5000001,4.527638190954773,4.613065326633166,4.698492462311558,4.783919597989949,4.869346733668341,4.954773869346734,5.040201005025125,5.125628140703517,5.211055276381909,5.296482412060302,5.381909547738693,5.467336683417085,5.552763819095477,5.638190954773869,5.723618090452261,5.809045226130653,5.894472361809045,5.979899497487437,6.065326633165829,6.150753768844221,6.236180904522612,6.321608040201005,6.407035175879397,6.492462311557788,6.57788944723618,6.663316582914573,6.748743718592965,6.834170854271356,6.919597989949748,7.005025125628141,7.090452261306532,7.175879396984924,7.261306532663316,7.346733668341708,7.4321608040201,7.517587939698492,7.603015075376884,7.688442211055276,7.773869346733668,7.85929648241206,7.9447236180904515,8.030150753768844,8.115577889447236,8.201005025125628,8.28643216080402,8.37185929648241,8.457286432160803,8.542713567839195,8.628140703517587,8.71356783919598,8.798994974874372,8.884422110552764,8.969849246231155,9.055276381909547,9.140703517587939,9.226130653266331,9.311557788944723,9.396984924623116,9.482412060301508,9.567839195979898,9.65326633165829,9.738693467336683,9.824120603015075,9.909547738693467,9.99497487437186,10.08040201005025,10.165829145728642,10.251256281407034,10.336683417085426,10.422110552763819,10.507537688442211,10.592964824120603,10.678391959798994,10.763819095477386,10.849246231155778,10.93467336683417,11.020100502512562,11.105527638190955,11.190954773869347,11.276381909547737,11.36180904522613,11.447236180904522,11.532663316582914,11.618090452261306,11.703517587939698,11.78894472361809,11.874371859296481,11.959798994974873,12.045226130653266,12.130653266331658,12.21608040201005,12.301507537688442,12.386934673366833,12.472361809045225,12.4999999,12.5000001,12.557788944723617,12.64321608040201,12.728643216080402,12.814070351758794,12.899497487437186,12.984924623115576,13.070351758793969,13.15577889447236,13.241206030150753,13.326633165829145,13.412060301507537,13.49748743718593,13.58291457286432,13.668341708542712,13.753768844221105,13.839195979899497,13.924623115577889,13.9999999,14.0000001,14.010050251256281,14.095477386934673,14.180904522613064,14.266331658291456,14.351758793969848,14.43718592964824,14.522613065326633,14.608040201005025,14.693467336683415,14.778894472361808,14.8643216080402,14.949748743718592,15.035175879396984,15.120603015075377,15.206030150753769,15.29145728643216,15.376884422110551,15.462311557788944,15.547738693467336,15.633165829145728,15.71859296482412,15.804020100502512,15.889447236180903,15.974874371859295,16.060301507537687,16.145728643216078,16.231155778894472,16.316582914572862,16.402010050251256,16.487437185929647,16.57286432160804,16.65829145728643,16.74371859296482,16.829145728643216,16.914572864321606,16.9999999,17.0],\"y\":[0.0,-1.831364215894648e-10,-0.00015632134079591957,-0.00031188153028065155,-0.00046591941714300836,-0.0006176738500718023,-0.0007663836777558461,-0.0009112877488839519,-0.001051624912144932,-0.0011866340162275991,-0.0013155539098207657,-0.0014376234416132434,-0.0015520814602938457,-0.0016581668145513847,-0.0017551183530746723,-0.0018421749245525212,-0.0019185753776737441,-0.001983558561127153,-0.0020363633236015603,-0.002076228513785779,-0.0021023929803686207,-0.0021140955720388988,-0.002110575137485425,-0.002091070525397011,-0.0020548205844624708,-0.002001064163370616,-0.001929040110810259,-0.0018379872754702119,-0.001727144506039288,-0.0015957506512062993,-0.001443044559660058,-0.0012682650800893767,-0.0010706510611830661,-0.0008494413516299424,-0.0006038748001188157,-0.00033319025533849744,-3.662656597780249e-05,-3.662728332437526e-10,3.662728514583483e-10,0.00028625176895371473,0.0006340211007042403,0.0010045990502287121,0.0013959024665701968,0.0018058481987717585,0.002232353095876466,0.002673334006927377,0.0031267077809675643,0.003590391267040096,0.004062301314188028,0.004540354771454432,0.005022468487882374,0.00550655931251492,0.005990544094395127,0.006472339682566071,0.006949862926070816,0.007421030673952426,0.007735103582626629,0.007735104662167646,0.007883771532640504,0.008336772031571888,0.00877992469356998,0.00921322951863478,0.00963668650676629,0.01005029565796451,0.010454056972229439,0.010847970449561085,0.01123203608995943,0.011606253893424498,0.011970623859956259,0.01232514598955474,0.01266982028221993,0.01300464673795182,0.013329625356750424,0.013644756138615741,0.013950039083547763,0.014245474191546495,0.014531061462611943,0.014806800896744098,0.015072692493942958,0.015328736254208535,0.015574932177540812,0.015811280263939798,0.016037780513405493,0.016254432925937902,0.016461237501537017,0.016658194240202838,0.016845303141935365,0.01702256420673462,0.01718997743460056,0.017347542825533226,0.01749526037953257,0.01763313009659867,0.01776115197673145,0.01787932601993096,0.017987652226197165,0.018086130595530076,0.018174761127929706,0.018253543823396,0.018322478681929072,0.01838156570352882,0.01843080488819529,0.01847019623592841,0.018499739746728278,0.01851943542059488,0.018529283257528145,0.018529283257528145,0.018519435420594893,0.018499739746728278,0.018470196235928382,0.018430804888195235,0.01838156570352878,0.018322478681929044,0.018253543823395973,0.01817476112792965,0.018086130595530048,0.01798765222619711,0.017879326019930947,0.01776115197673145,0.017633130096598643,0.017495260379532557,0.017347542825533108,0.01718997743460049,0.017022564206734536,0.016845303141935275,0.016658194240202706,0.016461237501536996,0.016254432925937867,0.016037780513405264,0.015811280263939576,0.015574932177540579,0.015328736254208275,0.015072692493942663,0.0148068008967438,0.014531061462611683,0.014245474191546204,0.013950039083547416,0.013644756138615322,0.01332962535675003,0.013004646737951375,0.012669820282219468,0.012325145989554198,0.011970623859955731,0.011606253893424068,0.011232036089958819,0.010847970449560429,0.010454056972228787,0.010050295657963892,0.009636686506765524,0.009213229518634125,0.008779924693569141,0.008336772031571016,0.007883771532639638,0.0077351046621666475,0.007735103582625635,0.00742103067395139,0.006949862926069805,0.006472339682564998,0.005990544094393924,0.005506559312513648,0.0050224684878810155,0.004540354771452981,0.0040623013141866116,0.0035903912670384175,0.0031267077809659094,0.0026733340069254874,0.0022323530958744398,0.0018058481987698327,0.0013959024665680664,0.001004599050226318,0.0006340211007019869,0.0002862517689513622,3.662703473850115e-10,-3.662754544109248e-10,-3.6626565980135695e-05,-0.0003331902553409538,-0.0006038748001215843,-0.0008494413516326738,-0.0010706510611859787,-0.0012682650800923678,-0.0014430445596633756,-0.0015957506512096487,-0.0017271445060429436,-0.0018379872754736848,-0.0019290401108140731,-0.002001064163374311,-0.002054820584466599,-0.0020910705254009176,-0.0021105751374896897,-0.0021140955720435617,-0.002102392980372958,-0.0020762285137905234,-0.0020363633236064604,-0.0019835585611320816,-0.0019185753776786996,-0.0018421749245576269,-0.0017551183530803982,-0.0016581668145565498,-0.0015520814602996147,-0.0014376234416191291,-0.0013155539098268498,-0.0011866340162338673,-0.0010516249121517163,-0.000911287748890599,-0.0007663836777631605,-0.0006176738500796031,-0.0004659194171503511,-0.0003118815302878275,-0.0001563213408037889,-1.8314461058821507e-10,-7.993605777301127e-15],\"type\":\"scatter\",\"xaxis\":\"x4\",\"yaxis\":\"y4\"}],                        {\"template\":{\"data\":{\"bar\":[{\"error_x\":{\"color\":\"#2a3f5f\"},\"error_y\":{\"color\":\"#2a3f5f\"},\"marker\":{\"line\":{\"color\":\"#E5ECF6\",\"width\":0.5},\"pattern\":{\"fillmode\":\"overlay\",\"size\":10,\"solidity\":0.2}},\"type\":\"bar\"}],\"barpolar\":[{\"marker\":{\"line\":{\"color\":\"#E5ECF6\",\"width\":0.5},\"pattern\":{\"fillmode\":\"overlay\",\"size\":10,\"solidity\":0.2}},\"type\":\"barpolar\"}],\"carpet\":[{\"aaxis\":{\"endlinecolor\":\"#2a3f5f\",\"gridcolor\":\"white\",\"linecolor\":\"white\",\"minorgridcolor\":\"white\",\"startlinecolor\":\"#2a3f5f\"},\"baxis\":{\"endlinecolor\":\"#2a3f5f\",\"gridcolor\":\"white\",\"linecolor\":\"white\",\"minorgridcolor\":\"white\",\"startlinecolor\":\"#2a3f5f\"},\"type\":\"carpet\"}],\"choropleth\":[{\"colorbar\":{\"outlinewidth\":0,\"ticks\":\"\"},\"type\":\"choropleth\"}],\"contour\":[{\"colorbar\":{\"outlinewidth\":0,\"ticks\":\"\"},\"colorscale\":[[0.0,\"#0d0887\"],[0.1111111111111111,\"#46039f\"],[0.2222222222222222,\"#7201a8\"],[0.3333333333333333,\"#9c179e\"],[0.4444444444444444,\"#bd3786\"],[0.5555555555555556,\"#d8576b\"],[0.6666666666666666,\"#ed7953\"],[0.7777777777777778,\"#fb9f3a\"],[0.8888888888888888,\"#fdca26\"],[1.0,\"#f0f921\"]],\"type\":\"contour\"}],\"contourcarpet\":[{\"colorbar\":{\"outlinewidth\":0,\"ticks\":\"\"},\"type\":\"contourcarpet\"}],\"heatmap\":[{\"colorbar\":{\"outlinewidth\":0,\"ticks\":\"\"},\"colorscale\":[[0.0,\"#0d0887\"],[0.1111111111111111,\"#46039f\"],[0.2222222222222222,\"#7201a8\"],[0.3333333333333333,\"#9c179e\"],[0.4444444444444444,\"#bd3786\"],[0.5555555555555556,\"#d8576b\"],[0.6666666666666666,\"#ed7953\"],[0.7777777777777778,\"#fb9f3a\"],[0.8888888888888888,\"#fdca26\"],[1.0,\"#f0f921\"]],\"type\":\"heatmap\"}],\"heatmapgl\":[{\"colorbar\":{\"outlinewidth\":0,\"ticks\":\"\"},\"colorscale\":[[0.0,\"#0d0887\"],[0.1111111111111111,\"#46039f\"],[0.2222222222222222,\"#7201a8\"],[0.3333333333333333,\"#9c179e\"],[0.4444444444444444,\"#bd3786\"],[0.5555555555555556,\"#d8576b\"],[0.6666666666666666,\"#ed7953\"],[0.7777777777777778,\"#fb9f3a\"],[0.8888888888888888,\"#fdca26\"],[1.0,\"#f0f921\"]],\"type\":\"heatmapgl\"}],\"histogram\":[{\"marker\":{\"pattern\":{\"fillmode\":\"overlay\",\"size\":10,\"solidity\":0.2}},\"type\":\"histogram\"}],\"histogram2d\":[{\"colorbar\":{\"outlinewidth\":0,\"ticks\":\"\"},\"colorscale\":[[0.0,\"#0d0887\"],[0.1111111111111111,\"#46039f\"],[0.2222222222222222,\"#7201a8\"],[0.3333333333333333,\"#9c179e\"],[0.4444444444444444,\"#bd3786\"],[0.5555555555555556,\"#d8576b\"],[0.6666666666666666,\"#ed7953\"],[0.7777777777777778,\"#fb9f3a\"],[0.8888888888888888,\"#fdca26\"],[1.0,\"#f0f921\"]],\"type\":\"histogram2d\"}],\"histogram2dcontour\":[{\"colorbar\":{\"outlinewidth\":0,\"ticks\":\"\"},\"colorscale\":[[0.0,\"#0d0887\"],[0.1111111111111111,\"#46039f\"],[0.2222222222222222,\"#7201a8\"],[0.3333333333333333,\"#9c179e\"],[0.4444444444444444,\"#bd3786\"],[0.5555555555555556,\"#d8576b\"],[0.6666666666666666,\"#ed7953\"],[0.7777777777777778,\"#fb9f3a\"],[0.8888888888888888,\"#fdca26\"],[1.0,\"#f0f921\"]],\"type\":\"histogram2dcontour\"}],\"mesh3d\":[{\"colorbar\":{\"outlinewidth\":0,\"ticks\":\"\"},\"type\":\"mesh3d\"}],\"parcoords\":[{\"line\":{\"colorbar\":{\"outlinewidth\":0,\"ticks\":\"\"}},\"type\":\"parcoords\"}],\"pie\":[{\"automargin\":true,\"type\":\"pie\"}],\"scatter\":[{\"marker\":{\"colorbar\":{\"outlinewidth\":0,\"ticks\":\"\"}},\"type\":\"scatter\"}],\"scatter3d\":[{\"line\":{\"colorbar\":{\"outlinewidth\":0,\"ticks\":\"\"}},\"marker\":{\"colorbar\":{\"outlinewidth\":0,\"ticks\":\"\"}},\"type\":\"scatter3d\"}],\"scattercarpet\":[{\"marker\":{\"colorbar\":{\"outlinewidth\":0,\"ticks\":\"\"}},\"type\":\"scattercarpet\"}],\"scattergeo\":[{\"marker\":{\"colorbar\":{\"outlinewidth\":0,\"ticks\":\"\"}},\"type\":\"scattergeo\"}],\"scattergl\":[{\"marker\":{\"colorbar\":{\"outlinewidth\":0,\"ticks\":\"\"}},\"type\":\"scattergl\"}],\"scattermapbox\":[{\"marker\":{\"colorbar\":{\"outlinewidth\":0,\"ticks\":\"\"}},\"type\":\"scattermapbox\"}],\"scatterpolar\":[{\"marker\":{\"colorbar\":{\"outlinewidth\":0,\"ticks\":\"\"}},\"type\":\"scatterpolar\"}],\"scatterpolargl\":[{\"marker\":{\"colorbar\":{\"outlinewidth\":0,\"ticks\":\"\"}},\"type\":\"scatterpolargl\"}],\"scatterternary\":[{\"marker\":{\"colorbar\":{\"outlinewidth\":0,\"ticks\":\"\"}},\"type\":\"scatterternary\"}],\"surface\":[{\"colorbar\":{\"outlinewidth\":0,\"ticks\":\"\"},\"colorscale\":[[0.0,\"#0d0887\"],[0.1111111111111111,\"#46039f\"],[0.2222222222222222,\"#7201a8\"],[0.3333333333333333,\"#9c179e\"],[0.4444444444444444,\"#bd3786\"],[0.5555555555555556,\"#d8576b\"],[0.6666666666666666,\"#ed7953\"],[0.7777777777777778,\"#fb9f3a\"],[0.8888888888888888,\"#fdca26\"],[1.0,\"#f0f921\"]],\"type\":\"surface\"}],\"table\":[{\"cells\":{\"fill\":{\"color\":\"#EBF0F8\"},\"line\":{\"color\":\"white\"}},\"header\":{\"fill\":{\"color\":\"#C8D4E3\"},\"line\":{\"color\":\"white\"}},\"type\":\"table\"}]},\"layout\":{\"annotationdefaults\":{\"arrowcolor\":\"#2a3f5f\",\"arrowhead\":0,\"arrowwidth\":1},\"autotypenumbers\":\"strict\",\"coloraxis\":{\"colorbar\":{\"outlinewidth\":0,\"ticks\":\"\"}},\"colorscale\":{\"diverging\":[[0,\"#8e0152\"],[0.1,\"#c51b7d\"],[0.2,\"#de77ae\"],[0.3,\"#f1b6da\"],[0.4,\"#fde0ef\"],[0.5,\"#f7f7f7\"],[0.6,\"#e6f5d0\"],[0.7,\"#b8e186\"],[0.8,\"#7fbc41\"],[0.9,\"#4d9221\"],[1,\"#276419\"]],\"sequential\":[[0.0,\"#0d0887\"],[0.1111111111111111,\"#46039f\"],[0.2222222222222222,\"#7201a8\"],[0.3333333333333333,\"#9c179e\"],[0.4444444444444444,\"#bd3786\"],[0.5555555555555556,\"#d8576b\"],[0.6666666666666666,\"#ed7953\"],[0.7777777777777778,\"#fb9f3a\"],[0.8888888888888888,\"#fdca26\"],[1.0,\"#f0f921\"]],\"sequentialminus\":[[0.0,\"#0d0887\"],[0.1111111111111111,\"#46039f\"],[0.2222222222222222,\"#7201a8\"],[0.3333333333333333,\"#9c179e\"],[0.4444444444444444,\"#bd3786\"],[0.5555555555555556,\"#d8576b\"],[0.6666666666666666,\"#ed7953\"],[0.7777777777777778,\"#fb9f3a\"],[0.8888888888888888,\"#fdca26\"],[1.0,\"#f0f921\"]]},\"colorway\":[\"#636efa\",\"#EF553B\",\"#00cc96\",\"#ab63fa\",\"#FFA15A\",\"#19d3f3\",\"#FF6692\",\"#B6E880\",\"#FF97FF\",\"#FECB52\"],\"font\":{\"color\":\"#2a3f5f\"},\"geo\":{\"bgcolor\":\"white\",\"lakecolor\":\"white\",\"landcolor\":\"#E5ECF6\",\"showlakes\":true,\"showland\":true,\"subunitcolor\":\"white\"},\"hoverlabel\":{\"align\":\"left\"},\"hovermode\":\"closest\",\"mapbox\":{\"style\":\"light\"},\"paper_bgcolor\":\"white\",\"plot_bgcolor\":\"#E5ECF6\",\"polar\":{\"angularaxis\":{\"gridcolor\":\"white\",\"linecolor\":\"white\",\"ticks\":\"\"},\"bgcolor\":\"#E5ECF6\",\"radialaxis\":{\"gridcolor\":\"white\",\"linecolor\":\"white\",\"ticks\":\"\"}},\"scene\":{\"xaxis\":{\"backgroundcolor\":\"#E5ECF6\",\"gridcolor\":\"white\",\"gridwidth\":2,\"linecolor\":\"white\",\"showbackground\":true,\"ticks\":\"\",\"zerolinecolor\":\"white\"},\"yaxis\":{\"backgroundcolor\":\"#E5ECF6\",\"gridcolor\":\"white\",\"gridwidth\":2,\"linecolor\":\"white\",\"showbackground\":true,\"ticks\":\"\",\"zerolinecolor\":\"white\"},\"zaxis\":{\"backgroundcolor\":\"#E5ECF6\",\"gridcolor\":\"white\",\"gridwidth\":2,\"linecolor\":\"white\",\"showbackground\":true,\"ticks\":\"\",\"zerolinecolor\":\"white\"}},\"shapedefaults\":{\"line\":{\"color\":\"#2a3f5f\"}},\"ternary\":{\"aaxis\":{\"gridcolor\":\"white\",\"linecolor\":\"white\",\"ticks\":\"\"},\"baxis\":{\"gridcolor\":\"white\",\"linecolor\":\"white\",\"ticks\":\"\"},\"bgcolor\":\"#E5ECF6\",\"caxis\":{\"gridcolor\":\"white\",\"linecolor\":\"white\",\"ticks\":\"\"}},\"title\":{\"x\":0.05},\"xaxis\":{\"automargin\":true,\"gridcolor\":\"white\",\"linecolor\":\"white\",\"ticks\":\"\",\"title\":{\"standoff\":15},\"zerolinecolor\":\"white\",\"zerolinewidth\":2},\"yaxis\":{\"automargin\":true,\"gridcolor\":\"white\",\"linecolor\":\"white\",\"ticks\":\"\",\"title\":{\"standoff\":15},\"zerolinecolor\":\"white\",\"zerolinewidth\":2}}},\"xaxis\":{\"anchor\":\"y\",\"domain\":[0.0,1.0],\"matches\":\"x4\",\"showticklabels\":false},\"yaxis\":{\"anchor\":\"x\",\"domain\":[0.7875,1.0],\"title\":{\"text\":\"Normal Force (lbf)\"}},\"xaxis2\":{\"anchor\":\"y2\",\"domain\":[0.0,1.0],\"matches\":\"x4\",\"showticklabels\":false},\"yaxis2\":{\"anchor\":\"x2\",\"domain\":[0.525,0.7375],\"title\":{\"text\":\"Shear Force (lbf)\"}},\"xaxis3\":{\"anchor\":\"y3\",\"domain\":[0.0,1.0],\"matches\":\"x4\",\"showticklabels\":false},\"yaxis3\":{\"anchor\":\"x3\",\"domain\":[0.2625,0.475],\"title\":{\"text\":\"Bending Moment (lbf.ft)\"}},\"xaxis4\":{\"anchor\":\"y4\",\"domain\":[0.0,1.0],\"title\":{\"text\":\"Beam Length (ft)\"}},\"yaxis4\":{\"anchor\":\"x4\",\"domain\":[0.0,0.2125],\"title\":{\"text\":\"Deflection (in)\"}},\"annotations\":[{\"font\":{\"size\":16},\"showarrow\":false,\"text\":\"Normal Force Diagram\",\"x\":0.5,\"xanchor\":\"center\",\"xref\":\"paper\",\"y\":1.0,\"yanchor\":\"bottom\",\"yref\":\"paper\"},{\"font\":{\"size\":16},\"showarrow\":false,\"text\":\"Shear Force Diagram\",\"x\":0.5,\"xanchor\":\"center\",\"xref\":\"paper\",\"y\":0.7375,\"yanchor\":\"bottom\",\"yref\":\"paper\"},{\"font\":{\"size\":16},\"showarrow\":false,\"text\":\"Bending Moment Diagram\",\"x\":0.5,\"xanchor\":\"center\",\"xref\":\"paper\",\"y\":0.475,\"yanchor\":\"bottom\",\"yref\":\"paper\"},{\"font\":{\"size\":16},\"showarrow\":false,\"text\":\"Deflection Diagram\",\"x\":0.5,\"xanchor\":\"center\",\"xref\":\"paper\",\"y\":0.2125,\"yanchor\":\"bottom\",\"yref\":\"paper\"},{\"arrowhead\":1,\"ax\":0,\"ay\":-40,\"showarrow\":true,\"text\":\"3.000 ft<br>0.000 lbf\",\"x\":3,\"xref\":\"x\",\"y\":0.0,\"yref\":\"y\"},{\"arrowhead\":1,\"ax\":0,\"ay\":40,\"showarrow\":true,\"text\":\"3.000 ft<br>-3500.000 lbf\",\"x\":3,\"xref\":\"x2\",\"y\":-3500.0,\"yref\":\"y2\"},{\"arrowhead\":1,\"ax\":0,\"ay\":-40,\"showarrow\":true,\"text\":\"3.000 ft<br>3836.538 lbf.ft\",\"x\":3,\"xref\":\"x3\",\"y\":3836.5383336539,\"yref\":\"y3\"},{\"arrowhead\":1,\"ax\":0,\"ay\":40,\"showarrow\":true,\"text\":\"3.000 ft<br>-0.000 in\",\"x\":3,\"xref\":\"x4\",\"y\":-4e-10,\"yref\":\"y4\"}],\"title\":{\"font\":{\"size\":24},\"text\":\"Analysis Results\",\"x\":0.5},\"height\":1000,\"width\":700,\"showlegend\":false},                        {\"responsive\": true}                    ).then(function(){\n",
       "                            \n",
       "var gd = document.getElementById('077bfe16-f54c-4b54-a6d5-da75fe14987d');\n",
       "var x = new MutationObserver(function (mutations, observer) {{\n",
       "        var display = window.getComputedStyle(gd).display;\n",
       "        if (!display || display === 'none') {{\n",
       "            console.log([gd, 'removed!']);\n",
       "            Plotly.purge(gd);\n",
       "            observer.disconnect();\n",
       "        }}\n",
       "}});\n",
       "\n",
       "// Listen for the removal of the full notebook cells\n",
       "var notebookContainer = gd.closest('#notebook-container');\n",
       "if (notebookContainer) {{\n",
       "    x.observe(notebookContainer, {childList: true});\n",
       "}}\n",
       "\n",
       "// Listen for the clearing of the current output cell\n",
       "var outputEl = gd.closest('.output');\n",
       "if (outputEl) {{\n",
       "    x.observe(outputEl, {childList: true});\n",
       "}}\n",
       "\n",
       "                        })                };                });            </script>        </div>"
      ]
     },
     "metadata": {},
     "output_type": "display_data"
    }
   ],
   "source": [
    "beam = Beam(17)\n",
    "from beam_analysis.initialize_beam import initialize_beam_lbs\n",
    "beam = initialize_beam_lbs(beam)\n",
    "a = Support(0, (1, 1, 0))\n",
    "b = Support(3, (1, 1, 0))\n",
    "c = Support(14, (1, 1, 0))\n",
    "d = Support(17, (1, 1, 0))\n",
    "beam.add_supports(a,b,c,d)\n",
    "\n",
    "load1 = PointLoadV(3500, 4.5)\n",
    "load2 = PointLoadV(3500, 12.5)\n",
    "beam.add_loads(load1, load2)\n",
    "\n",
    "beam.analyse()\n",
    "\n",
    "beam.add_query_points(3)\n",
    "fig1 = beam.plot_beam_external()\n",
    "fig2 = beam.plot_beam_internal()\n",
    "\n",
    "fig1.show()\n",
    "fig2.show()"
   ]
  },
  {
   "cell_type": "code",
   "execution_count": 22,
   "id": "b7addc57",
   "metadata": {},
   "outputs": [
    {
     "name": "stdout",
     "output_type": "stream",
     "text": [
      "Max Moment = 3836.54 ft-lbs \n",
      "Min Moment = -1413.46 ft-lbs\n"
     ]
    }
   ],
   "source": [
    "M_max = beam.get_bending_moment(return_max=True)\n",
    "M_min = beam.get_bending_moment(return_min=True)\n",
    "\n",
    "print(f\"Max Moment = {round(M_max, 2)} ft-lbs \\nMin Moment = {round(M_min, 2)} ft-lbs\")"
   ]
  },
  {
   "cell_type": "code",
   "execution_count": 23,
   "id": "929c5943",
   "metadata": {},
   "outputs": [
    {
     "name": "stdout",
     "output_type": "stream",
     "text": [
      "Max Moment = 3500.0 lbs \n",
      "Min Moment = -3500.0 lbs\n"
     ]
    }
   ],
   "source": [
    "V_max = beam.get_shear_force(return_max=True)\n",
    "V_min = beam.get_shear_force(return_min=True)\n",
    "print(f\"Max Moment = {round(V_max, 2)} lbs \\nMin Moment = {round(V_min, 2)} lbs\")"
   ]
  },
  {
   "cell_type": "code",
   "execution_count": 26,
   "id": "79a4b26e",
   "metadata": {},
   "outputs": [
    {
     "ename": "ValueError",
     "evalue": "\nImage export using the \"kaleido\" engine requires the kaleido package,\nwhich can be installed using pip:\n    $ pip install -U kaleido\n",
     "output_type": "error",
     "traceback": [
      "\u001b[1;31m---------------------------------------------------------------------------\u001b[0m",
      "\u001b[1;31mValueError\u001b[0m                                Traceback (most recent call last)",
      "Input \u001b[1;32mIn [26]\u001b[0m, in \u001b[0;36m<module>\u001b[1;34m\u001b[0m\n\u001b[1;32m----> 1\u001b[0m \u001b[43mfig1\u001b[49m\u001b[38;5;241;43m.\u001b[39;49m\u001b[43mwrite_image\u001b[49m\u001b[43m(\u001b[49m\u001b[38;5;124;43m\"\u001b[39;49m\u001b[38;5;124;43m./external_diagram.pdf\u001b[39;49m\u001b[38;5;124;43m\"\u001b[39;49m\u001b[43m)\u001b[49m\n\u001b[0;32m      2\u001b[0m fig2\u001b[38;5;241m.\u001b[39mwrite_image(\u001b[38;5;124m\"\u001b[39m\u001b[38;5;124m./internal_diagram.pdf\u001b[39m\u001b[38;5;124m\"\u001b[39m)\n",
      "File \u001b[1;32mc:\\users\\dhanson\\appdata\\local\\programs\\python\\python39\\lib\\site-packages\\plotly\\basedatatypes.py:3829\u001b[0m, in \u001b[0;36mBaseFigure.write_image\u001b[1;34m(self, *args, **kwargs)\u001b[0m\n\u001b[0;32m   3769\u001b[0m \u001b[38;5;124;03m\"\"\"\u001b[39;00m\n\u001b[0;32m   3770\u001b[0m \u001b[38;5;124;03mConvert a figure to a static image and write it to a file or writeable\u001b[39;00m\n\u001b[0;32m   3771\u001b[0m \u001b[38;5;124;03mobject\u001b[39;00m\n\u001b[1;32m   (...)\u001b[0m\n\u001b[0;32m   3825\u001b[0m \u001b[38;5;124;03mNone\u001b[39;00m\n\u001b[0;32m   3826\u001b[0m \u001b[38;5;124;03m\"\"\"\u001b[39;00m\n\u001b[0;32m   3827\u001b[0m \u001b[38;5;28;01mimport\u001b[39;00m \u001b[38;5;21;01mplotly\u001b[39;00m\u001b[38;5;21;01m.\u001b[39;00m\u001b[38;5;21;01mio\u001b[39;00m \u001b[38;5;28;01mas\u001b[39;00m \u001b[38;5;21;01mpio\u001b[39;00m\n\u001b[1;32m-> 3829\u001b[0m \u001b[38;5;28;01mreturn\u001b[39;00m pio\u001b[38;5;241m.\u001b[39mwrite_image(\u001b[38;5;28mself\u001b[39m, \u001b[38;5;241m*\u001b[39margs, \u001b[38;5;241m*\u001b[39m\u001b[38;5;241m*\u001b[39mkwargs)\n",
      "File \u001b[1;32mc:\\users\\dhanson\\appdata\\local\\programs\\python\\python39\\lib\\site-packages\\plotly\\io\\_kaleido.py:268\u001b[0m, in \u001b[0;36mwrite_image\u001b[1;34m(fig, file, format, scale, width, height, validate, engine)\u001b[0m\n\u001b[0;32m    252\u001b[0m             \u001b[38;5;28;01mraise\u001b[39;00m \u001b[38;5;167;01mValueError\u001b[39;00m(\n\u001b[0;32m    253\u001b[0m                 \u001b[38;5;124;03m\"\"\"\u001b[39;00m\n\u001b[0;32m    254\u001b[0m \u001b[38;5;124;03mCannot infer image type from output path '{file}'.\u001b[39;00m\n\u001b[1;32m   (...)\u001b[0m\n\u001b[0;32m    262\u001b[0m                 )\n\u001b[0;32m    263\u001b[0m             )\n\u001b[0;32m    265\u001b[0m     \u001b[38;5;66;03m# Request image\u001b[39;00m\n\u001b[0;32m    266\u001b[0m     \u001b[38;5;66;03m# -------------\u001b[39;00m\n\u001b[0;32m    267\u001b[0m     \u001b[38;5;66;03m# Do this first so we don't create a file if image conversion fails\u001b[39;00m\n\u001b[1;32m--> 268\u001b[0m     img_data \u001b[38;5;241m=\u001b[39m \u001b[43mto_image\u001b[49m\u001b[43m(\u001b[49m\n\u001b[0;32m    269\u001b[0m \u001b[43m        \u001b[49m\u001b[43mfig\u001b[49m\u001b[43m,\u001b[49m\n\u001b[0;32m    270\u001b[0m \u001b[43m        \u001b[49m\u001b[38;5;28;43mformat\u001b[39;49m\u001b[38;5;241;43m=\u001b[39;49m\u001b[38;5;28;43mformat\u001b[39;49m\u001b[43m,\u001b[49m\n\u001b[0;32m    271\u001b[0m \u001b[43m        \u001b[49m\u001b[43mscale\u001b[49m\u001b[38;5;241;43m=\u001b[39;49m\u001b[43mscale\u001b[49m\u001b[43m,\u001b[49m\n\u001b[0;32m    272\u001b[0m \u001b[43m        \u001b[49m\u001b[43mwidth\u001b[49m\u001b[38;5;241;43m=\u001b[39;49m\u001b[43mwidth\u001b[49m\u001b[43m,\u001b[49m\n\u001b[0;32m    273\u001b[0m \u001b[43m        \u001b[49m\u001b[43mheight\u001b[49m\u001b[38;5;241;43m=\u001b[39;49m\u001b[43mheight\u001b[49m\u001b[43m,\u001b[49m\n\u001b[0;32m    274\u001b[0m \u001b[43m        \u001b[49m\u001b[43mvalidate\u001b[49m\u001b[38;5;241;43m=\u001b[39;49m\u001b[43mvalidate\u001b[49m\u001b[43m,\u001b[49m\n\u001b[0;32m    275\u001b[0m \u001b[43m        \u001b[49m\u001b[43mengine\u001b[49m\u001b[38;5;241;43m=\u001b[39;49m\u001b[43mengine\u001b[49m\u001b[43m,\u001b[49m\n\u001b[0;32m    276\u001b[0m \u001b[43m    \u001b[49m\u001b[43m)\u001b[49m\n\u001b[0;32m    278\u001b[0m     \u001b[38;5;66;03m# Open file\u001b[39;00m\n\u001b[0;32m    279\u001b[0m     \u001b[38;5;66;03m# ---------\u001b[39;00m\n\u001b[0;32m    280\u001b[0m     \u001b[38;5;28;01mif\u001b[39;00m path \u001b[38;5;129;01mis\u001b[39;00m \u001b[38;5;28;01mNone\u001b[39;00m:\n\u001b[0;32m    281\u001b[0m         \u001b[38;5;66;03m# We previously failed to make sense of `file` as a pathlib object.\u001b[39;00m\n\u001b[0;32m    282\u001b[0m         \u001b[38;5;66;03m# Attempt to write to `file` as an open file descriptor.\u001b[39;00m\n",
      "File \u001b[1;32mc:\\users\\dhanson\\appdata\\local\\programs\\python\\python39\\lib\\site-packages\\plotly\\io\\_kaleido.py:134\u001b[0m, in \u001b[0;36mto_image\u001b[1;34m(fig, format, width, height, scale, validate, engine)\u001b[0m\n\u001b[0;32m    132\u001b[0m     \u001b[38;5;66;03m# Raise informative error message if Kaleido is not installed\u001b[39;00m\n\u001b[0;32m    133\u001b[0m     \u001b[38;5;28;01mif\u001b[39;00m scope \u001b[38;5;129;01mis\u001b[39;00m \u001b[38;5;28;01mNone\u001b[39;00m:\n\u001b[1;32m--> 134\u001b[0m         \u001b[38;5;28;01mraise\u001b[39;00m \u001b[38;5;167;01mValueError\u001b[39;00m(\n\u001b[0;32m    135\u001b[0m             \u001b[38;5;124;03m\"\"\"\u001b[39;00m\n\u001b[0;32m    136\u001b[0m \u001b[38;5;124;03mImage export using the \"kaleido\" engine requires the kaleido package,\u001b[39;00m\n\u001b[0;32m    137\u001b[0m \u001b[38;5;124;03mwhich can be installed using pip:\u001b[39;00m\n\u001b[0;32m    138\u001b[0m \u001b[38;5;124;03m    $ pip install -U kaleido\u001b[39;00m\n\u001b[0;32m    139\u001b[0m \u001b[38;5;124;03m\"\"\"\u001b[39;00m\n\u001b[0;32m    140\u001b[0m         )\n\u001b[0;32m    142\u001b[0m     \u001b[38;5;66;03m# Validate figure\u001b[39;00m\n\u001b[0;32m    143\u001b[0m     \u001b[38;5;66;03m# ---------------\u001b[39;00m\n\u001b[0;32m    144\u001b[0m     fig_dict \u001b[38;5;241m=\u001b[39m validate_coerce_fig_to_dict(fig, validate)\n",
      "\u001b[1;31mValueError\u001b[0m: \nImage export using the \"kaleido\" engine requires the kaleido package,\nwhich can be installed using pip:\n    $ pip install -U kaleido\n"
     ]
    }
   ],
   "source": [
    "fig1.write_image(\"./external_diagram.pdf\")\n",
    "fig2.write_image(\"./internal_diagram.pdf\")"
   ]
  },
  {
   "cell_type": "code",
   "execution_count": null,
   "id": "b463e1c4",
   "metadata": {},
   "outputs": [],
   "source": []
  }
 ],
 "metadata": {
  "kernelspec": {
   "display_name": "Python 3 (ipykernel)",
   "language": "python",
   "name": "python3"
  },
  "language_info": {
   "codemirror_mode": {
    "name": "ipython",
    "version": 3
   },
   "file_extension": ".py",
   "mimetype": "text/x-python",
   "name": "python",
   "nbconvert_exporter": "python",
   "pygments_lexer": "ipython3",
   "version": "3.9.2"
  }
 },
 "nbformat": 4,
 "nbformat_minor": 5
}
