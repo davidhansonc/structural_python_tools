{
 "cells": [
  {
   "cell_type": "code",
   "execution_count": 2,
   "id": "2bf21f04",
   "metadata": {},
   "outputs": [
    {
     "name": "stdout",
     "output_type": "stream",
     "text": [
      "Conversion complete.\n"
     ]
    }
   ],
   "source": [
    "from heic2png import HEIC2PNG\n",
    "import os\n",
    "\n",
    "# Specify the directory containing HEIC images\n",
    "input_directory = r'C:\\Users\\david\\Downloads'\n",
    "\n",
    "# Ensure the output directory exists\n",
    "# os.makedirs(output_directory, exist_ok=True)\n",
    "\n",
    "# List all files in the input directory\n",
    "input_files = os.listdir(input_directory)\n",
    "\n",
    "for input_file in input_files:\n",
    "    if input_file.lower().endswith(\".heic\"):\n",
    "        # Build the input and output file paths\n",
    "        input_path = os.path.join(input_directory, input_file)\n",
    "\n",
    "        # Open the HEIC image and save it as PNG\n",
    "        img = HEIC2PNG(input_path, quality=90)\n",
    "        img.save()\n",
    "\n",
    "print(\"Conversion complete.\")\n"
   ]
  }
 ],
 "metadata": {
  "kernelspec": {
   "display_name": "VENV_MAC",
   "language": "python",
   "name": "python3"
  },
  "language_info": {
   "codemirror_mode": {
    "name": "ipython",
    "version": 3
   },
   "file_extension": ".py",
   "mimetype": "text/x-python",
   "name": "python",
   "nbconvert_exporter": "python",
   "pygments_lexer": "ipython3",
   "version": "3.11.6"
  }
 },
 "nbformat": 4,
 "nbformat_minor": 5
}
