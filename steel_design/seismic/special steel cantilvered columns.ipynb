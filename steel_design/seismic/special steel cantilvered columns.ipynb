{
 "cells": [
  {
   "cell_type": "code",
   "execution_count": 60,
   "id": "71191a63",
   "metadata": {},
   "outputs": [],
   "source": [
    "# Import Python Tools:\n",
    "import pandas as pd\n",
    "import numpy as np\n",
    "from numpy import sqrt, pi, average, cos, sin, tan, arcsin, arccos, arctan, deg2rad, rad2deg\n",
    "# import sectionproperties as shape\n",
    "from WhatIfAnalysis import GoalSeek\n",
    "\n",
    "from ASCE import load_combos\n",
    "\n",
    "from steel_design.AISC import aisc, aisc_HSS\n",
    "steel_density = 0.2833 #pci\n",
    "\n",
    "from concrete_design import material_properties as conc\n",
    "from concrete_design.steel_reinforcement import rebar_df as rebar\n",
    "conc_density = 150 #pcf\n",
    "\n",
    "from masonry_design import material_properties as cmu\n",
    "from masonry_design.material_properties import NW_CMU #psf"
   ]
  },
  {
   "cell_type": "markdown",
   "id": "f8d89a9a",
   "metadata": {},
   "source": [
    "# Special Cantilever Column Systems (SCCS)"
   ]
  },
  {
   "cell_type": "code",
   "execution_count": 61,
   "id": "6534314d",
   "metadata": {},
   "outputs": [],
   "source": [
    "column = \"HSS8X8X1/2\""
   ]
  },
  {
   "cell_type": "markdown",
   "id": "ae506510",
   "metadata": {},
   "source": [
    "#### Axial Load"
   ]
  },
  {
   "cell_type": "code",
   "execution_count": 62,
   "id": "738af73a",
   "metadata": {},
   "outputs": [
    {
     "data": {
      "text/plain": [
       "True"
      ]
     },
     "execution_count": 62,
     "metadata": {},
     "output_type": "execute_result"
    }
   ],
   "source": [
    "P_rc = 61 #kips\n",
    "P_c = 515 #kips\n",
    "\n",
    "P_rc / P_c <= 15/100 #required axial strength not more than 15% of available axial strength"
   ]
  },
  {
   "cell_type": "markdown",
   "id": "4edb06ce",
   "metadata": {},
   "source": [
    "#### High Ductility - D1.1"
   ]
  },
  {
   "cell_type": "code",
   "execution_count": 63,
   "id": "1b658c6b",
   "metadata": {},
   "outputs": [
    {
     "data": {
      "text/plain": [
       "Type        HSS\n",
       "T_F           F\n",
       "W         48.85\n",
       "A          13.5\n",
       "Ht            8\n",
       "h           6.6\n",
       "B             8\n",
       "b2          6.6\n",
       "tnom        0.5\n",
       "tdes      0.465\n",
       "b/tdes     14.2\n",
       "h/tdes     14.2\n",
       "Ix        125.0\n",
       "Zx         37.5\n",
       "Sx         31.2\n",
       "rx         3.04\n",
       "Iy        125.0\n",
       "Zy         37.5\n",
       "Sy         31.2\n",
       "ry         3.04\n",
       "J         204.0\n",
       "C          52.4\n",
       "Name: HSS8X8X1/2, dtype: object"
      ]
     },
     "execution_count": 63,
     "metadata": {},
     "output_type": "execute_result"
    }
   ],
   "source": [
    "aisc_HSS.loc[column]"
   ]
  },
  {
   "cell_type": "code",
   "execution_count": 64,
   "id": "0299bf3d",
   "metadata": {},
   "outputs": [
    {
     "data": {
      "text/plain": [
       "13.73"
      ]
     },
     "execution_count": 64,
     "metadata": {},
     "output_type": "execute_result"
    }
   ],
   "source": [
    "E = 29000 #ksi\n",
    "R_y = 1.3\n",
    "F_y = 50 #ksi\n",
    "\n",
    "λ_md = 0.65 * sqrt(E / R_y / F_y)\n",
    "round(λ_md, 3)"
   ]
  },
  {
   "cell_type": "code",
   "execution_count": 65,
   "id": "2f4123e6",
   "metadata": {},
   "outputs": [
    {
     "data": {
      "text/plain": [
       "13.2"
      ]
     },
     "execution_count": 65,
     "metadata": {},
     "output_type": "execute_result"
    }
   ],
   "source": [
    "t = aisc_HSS.loc[column, \"tnom\"]\n",
    "b = aisc_HSS.loc[column, \"b2\"]\n",
    "\n",
    "width_thick_ratio = b/t\n",
    "round(width_thick_ratio, 3)"
   ]
  },
  {
   "cell_type": "code",
   "execution_count": 66,
   "id": "c4b9dfbc",
   "metadata": {},
   "outputs": [
    {
     "data": {
      "text/plain": [
       "True"
      ]
     },
     "execution_count": 66,
     "metadata": {},
     "output_type": "execute_result"
    }
   ],
   "source": [
    "width_thick_ratio < λ_md"
   ]
  }
 ],
 "metadata": {
  "kernelspec": {
   "display_name": "VENV_MAC",
   "language": "python",
   "name": "python3"
  },
  "language_info": {
   "codemirror_mode": {
    "name": "ipython",
    "version": 3
   },
   "file_extension": ".py",
   "mimetype": "text/x-python",
   "name": "python",
   "nbconvert_exporter": "python",
   "pygments_lexer": "ipython3",
   "version": "3.11.9"
  }
 },
 "nbformat": 4,
 "nbformat_minor": 5
}
