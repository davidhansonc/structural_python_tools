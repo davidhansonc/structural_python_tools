{
 "cells": [
  {
   "cell_type": "code",
   "execution_count": 1,
   "id": "71191a63",
   "metadata": {},
   "outputs": [],
   "source": [
    "# Import Python Tools:\n",
    "import pandas as pd\n",
    "import numpy as np\n",
    "from numpy import sqrt, pi, average, cos, sin, tan, arcsin, arccos, arctan, deg2rad, rad2deg\n",
    "# import sectionproperties as shape\n",
    "from WhatIfAnalysis import GoalSeek\n",
    "\n",
    "from ASCE import load_combos\n",
    "\n",
    "from steel_design.AISC import aisc_W, aisc_HSS\n",
    "steel_density = 0.2833 #pci\n",
    "\n",
    "from concrete_design import material_properties as conc\n",
    "from concrete_design.steel_reinforcement import rebar_df as rebar\n",
    "conc_density = 150 #pcf\n",
    "\n",
    "from masonry_design import material_properties as cmu\n",
    "from masonry_design.material_properties import NW_CMU #psf"
   ]
  },
  {
   "cell_type": "markdown",
   "id": "4aa12702",
   "metadata": {},
   "source": [
    "<div style=\"page-break-after: always;\"></div>"
   ]
  },
  {
   "cell_type": "markdown",
   "id": "167239d7",
   "metadata": {},
   "source": [
    "# Brace Connection Design (UFM)"
   ]
  },
  {
   "cell_type": "markdown",
   "id": "18f32988",
   "metadata": {},
   "source": [
    "$α - β \\tan(θ) = e_b \\tan(θ) - e_c$"
   ]
  },
  {
   "cell_type": "code",
   "execution_count": 2,
   "id": "862d46d1",
   "metadata": {},
   "outputs": [],
   "source": [
    "roof_beam = \"W18X35\"\n",
    "floor_beam = \"W27X94\"\n",
    "column = \"W14X61\""
   ]
  },
  {
   "cell_type": "code",
   "execution_count": 3,
   "id": "fd0b3a2f",
   "metadata": {},
   "outputs": [
    {
     "data": {
      "text/plain": [
       "'θ = 58.2 deg'"
      ]
     },
     "execution_count": 3,
     "metadata": {},
     "output_type": "execute_result"
    }
   ],
   "source": [
    "bay_width = 25 #ft\n",
    "bay_height = 15.5 #ft\n",
    "θ = arctan(bay_width/bay_height)\n",
    "f\"θ = {round(rad2deg(θ), 2)} deg\""
   ]
  },
  {
   "cell_type": "code",
   "execution_count": 4,
   "id": "41c64db8",
   "metadata": {},
   "outputs": [
    {
     "data": {
      "text/plain": [
       "'H_r = 30.6 kips, V_r = 18.97 kips'"
      ]
     },
     "execution_count": 4,
     "metadata": {},
     "output_type": "execute_result"
    }
   ],
   "source": [
    "P_r = 36 #kips (required brace axial force)\n",
    "H_r = P_r * sin(θ) #kips\n",
    "V_r = P_r * cos(θ) #kips\n",
    "\n",
    "f\"H_r = {round(H_r, 2)} kips, V_r = {round(V_r, 2)} kips\""
   ]
  },
  {
   "cell_type": "markdown",
   "id": "de57457d",
   "metadata": {},
   "source": [
    "## Brace Connection at Floor Beam"
   ]
  },
  {
   "cell_type": "markdown",
   "id": "82d7bf64",
   "metadata": {},
   "source": [
    "### Force Determination for Gusset"
   ]
  },
  {
   "cell_type": "code",
   "execution_count": 5,
   "id": "442f2f3b",
   "metadata": {},
   "outputs": [
    {
     "data": {
      "text/plain": [
       "'floor beam d = 26.9 in, column d = 13.9 in, e_b = 13.45 in, e_c = 6.95 in'"
      ]
     },
     "execution_count": 5,
     "metadata": {},
     "output_type": "execute_result"
    }
   ],
   "source": [
    "d_flrbm = aisc_W.loc[floor_beam, \"d\"] #in\n",
    "e_b = d_flrbm/2 #in\n",
    "\n",
    "d_col = aisc_W.loc[column, \"d\"] #in\n",
    "e_c = d_col/2 #in\n",
    "\n",
    "f\"floor beam d = {d_flrbm} in, column d = {d_col} in, e_b = {e_b} in, e_c = {e_c} in\""
   ]
  },
  {
   "cell_type": "code",
   "execution_count": 6,
   "id": "21e829e3",
   "metadata": {},
   "outputs": [],
   "source": [
    "β = 7 #in"
   ]
  },
  {
   "cell_type": "code",
   "execution_count": 7,
   "id": "a67c88b3",
   "metadata": {},
   "outputs": [
    {
     "data": {
      "text/plain": [
       "26.033854166666664"
      ]
     },
     "execution_count": 7,
     "metadata": {},
     "output_type": "execute_result"
    }
   ],
   "source": [
    "def function(α):\n",
    "    return α - β * tan(θ)\n",
    "α = GoalSeek(function, e_b * tan(θ) - e_c, x0=27)\n",
    "α"
   ]
  },
  {
   "cell_type": "code",
   "execution_count": 8,
   "id": "d0e8ecac",
   "metadata": {},
   "outputs": [
    {
     "data": {
      "text/plain": [
       "(14.743531586021508, 14.743548387096766)"
      ]
     },
     "execution_count": 8,
     "metadata": {},
     "output_type": "execute_result"
    }
   ],
   "source": [
    "α - β * tan(θ), e_b * tan(θ) - e_c"
   ]
  },
  {
   "cell_type": "code",
   "execution_count": 9,
   "id": "5c0a9300",
   "metadata": {},
   "outputs": [],
   "source": [
    "r = sqrt((α + e_c)**2 + (β + e_b)**2)\n",
    "\n",
    "V_rc = β / r * P_r #kips\n",
    "H_rc = e_c / r * P_r #kips\n",
    "V_rb = e_b / r * P_r #kips\n",
    "H_rb = α / r * P_r #kips"
   ]
  },
  {
   "cell_type": "code",
   "execution_count": 10,
   "id": "ee4791be",
   "metadata": {},
   "outputs": [
    {
     "name": "stdout",
     "output_type": "stream",
     "text": [
      "V_rc = 6.49 kips, H_rc = 6.45 kips, \n",
      "V_rb = 12.48 kips, H_rb = 24.15 kips\n"
     ]
    }
   ],
   "source": [
    "print(f\"\"\"V_rc = {round(V_rc, 2)} kips, H_rc = {round(H_rc, 2)} kips, \n",
    "V_rb = {round(V_rb, 2)} kips, H_rb = {round(H_rb, 2)} kips\"\"\")"
   ]
  },
  {
   "cell_type": "markdown",
   "id": "e7399d14",
   "metadata": {},
   "source": [
    "### Gusset Weld Design"
   ]
  },
  {
   "cell_type": "code",
   "execution_count": 11,
   "id": "176c5d70",
   "metadata": {},
   "outputs": [],
   "source": [
    "φ = 0.75\n",
    "F_nBM = 50 #ksi\n",
    "F_EXX = 70 #ksi\n",
    "F_nw = 0.60 * F_EXX #ksi"
   ]
  },
  {
   "cell_type": "markdown",
   "id": "4731a887",
   "metadata": {},
   "source": [
    "#### Beam Side"
   ]
  },
  {
   "cell_type": "code",
   "execution_count": 12,
   "id": "065b0702",
   "metadata": {},
   "outputs": [
    {
     "name": "stdout",
     "output_type": "stream",
     "text": [
      "t_f = 0.745 in, l_w = 52.07 in\n",
      "A_BM = 38.79 in^2, A_we = 9.2 in^2\n"
     ]
    }
   ],
   "source": [
    "t_f = aisc_W.loc[floor_beam, \"tf\"]\n",
    "l_w = α * 2 #in\n",
    "A_BM = t_f * l_w #in^2\n",
    "\n",
    "s = 1/4 #in\n",
    "A_we = l_w * s * sqrt(2)/2 #in^2\n",
    "print(f\"t_f = {t_f} in, l_w = {round(l_w, 2)} in\")\n",
    "print(f\"A_BM = {round(A_BM, 2)} in^2, A_we = {round(A_we, 2)} in^2\")"
   ]
  },
  {
   "cell_type": "code",
   "execution_count": 13,
   "id": "4da925c2",
   "metadata": {},
   "outputs": [
    {
     "name": "stdout",
     "output_type": "stream",
     "text": [
      "θ_weld = 27.32 deg, k_ds = 1.16\n",
      "φR_n_BM = 1454.64 kips, φR_n_weld = 335.02 kips\n"
     ]
    }
   ],
   "source": [
    "θ_weld = arctan(V_rb / H_rb) #rad\n",
    "k_ds = (1.0 + 0.50 * sin(θ_weld)**1.5)\n",
    "print(f\"θ_weld = {round(rad2deg(θ_weld), 2)} deg, k_ds = {round(k_ds, 2)}\")\n",
    "\n",
    "φR_n_BM = φ * F_nBM * A_BM #kips\n",
    "φR_n_weld = φ * F_nw * A_we * k_ds #kips\n",
    "\n",
    "print(f\"φR_n_BM = {round(φR_n_BM, 2)} kips, φR_n_weld = {round(φR_n_weld, 2)} kips\")"
   ]
  },
  {
   "cell_type": "code",
   "execution_count": 14,
   "id": "e4fb2455",
   "metadata": {},
   "outputs": [
    {
     "data": {
      "text/plain": [
       "'R_u = 27.18 kips'"
      ]
     },
     "execution_count": 14,
     "metadata": {},
     "output_type": "execute_result"
    }
   ],
   "source": [
    "R_u = sqrt(V_rb**2 + H_rb**2) #kips\n",
    "f\"R_u = {round(R_u, 2)} kips\""
   ]
  },
  {
   "cell_type": "code",
   "execution_count": 15,
   "id": "8d83c88b",
   "metadata": {},
   "outputs": [
    {
     "data": {
      "text/plain": [
       "(0.018686410365933284, 0.08113605481064265)"
      ]
     },
     "execution_count": 15,
     "metadata": {},
     "output_type": "execute_result"
    }
   ],
   "source": [
    "R_u / φR_n_BM, R_u / φR_n_weld"
   ]
  },
  {
   "cell_type": "markdown",
   "id": "b6ca61ae",
   "metadata": {},
   "source": [
    "#### Column Side"
   ]
  },
  {
   "cell_type": "code",
   "execution_count": 16,
   "id": "d6a474eb",
   "metadata": {},
   "outputs": [
    {
     "name": "stdout",
     "output_type": "stream",
     "text": [
      "t_f = 0.645 in, l_w = 14 in\n",
      "A_BM = 9.03 in^2, A_we = 2.47 in^2\n"
     ]
    }
   ],
   "source": [
    "t_f = aisc_W.loc[column, \"tf\"]\n",
    "l_w = β * 2 #in\n",
    "A_BM = t_f * l_w #in^2\n",
    "\n",
    "s = 1/4 #in\n",
    "A_we = l_w * s * sqrt(2)/2 #in^2\n",
    "print(f\"t_f = {t_f} in, l_w = {round(l_w, 2)} in\")\n",
    "print(f\"A_BM = {round(A_BM, 2)} in^2, A_we = {round(A_we, 2)} in^2\")"
   ]
  },
  {
   "cell_type": "code",
   "execution_count": 17,
   "id": "72adab82",
   "metadata": {},
   "outputs": [
    {
     "name": "stdout",
     "output_type": "stream",
     "text": [
      "θ_weld = 45.21 deg, k_ds = 1.3\n",
      "φR_n_BM = 338.63 kips, φR_n_weld = 101.26 kips\n"
     ]
    }
   ],
   "source": [
    "θ_weld = arctan(V_rc / H_rc) #rad\n",
    "k_ds = (1.0 + 0.50 * sin(θ_weld)**1.5)\n",
    "print(f\"θ_weld = {round(rad2deg(θ_weld), 2)} deg, k_ds = {round(k_ds, 2)}\")\n",
    "\n",
    "φR_n_BM = φ * F_nBM * A_BM #kips\n",
    "φR_n_weld = φ * F_nw * A_we * k_ds #kips\n",
    "\n",
    "print(f\"φR_n_BM = {round(φR_n_BM, 2)} kips, φR_n_weld = {round(φR_n_weld, 2)} kips\")"
   ]
  },
  {
   "cell_type": "code",
   "execution_count": 18,
   "id": "e9c68704",
   "metadata": {},
   "outputs": [
    {
     "data": {
      "text/plain": [
       "'R_u = 9.15 kips'"
      ]
     },
     "execution_count": 18,
     "metadata": {},
     "output_type": "execute_result"
    }
   ],
   "source": [
    "R_u = sqrt(V_rc**2 + H_rc**2) #kips\n",
    "f\"R_u = {round(R_u, 2)} kips\""
   ]
  },
  {
   "cell_type": "code",
   "execution_count": 19,
   "id": "5ef84c3e",
   "metadata": {},
   "outputs": [
    {
     "data": {
      "text/plain": [
       "(0.027021734575210954, 0.0903635637688743)"
      ]
     },
     "execution_count": 19,
     "metadata": {},
     "output_type": "execute_result"
    }
   ],
   "source": [
    "R_u / φR_n_BM, R_u / φR_n_weld"
   ]
  },
  {
   "cell_type": "markdown",
   "id": "75a38cc1",
   "metadata": {},
   "source": [
    "### Beam and Column Design"
   ]
  },
  {
   "cell_type": "code",
   "execution_count": 20,
   "id": "c5f2514c",
   "metadata": {},
   "outputs": [],
   "source": [
    "R_rb = 22.22 #kips\n",
    "R_rc = 20 #kips\n",
    "A_rb = 75 #kips"
   ]
  },
  {
   "cell_type": "code",
   "execution_count": 21,
   "id": "86212d56",
   "metadata": {},
   "outputs": [
    {
     "name": "stdout",
     "output_type": "stream",
     "text": [
      "required V bm-to-col conn = 9.74 kips\n",
      "required A bm-to-col conn = 81.45 kips\n"
     ]
    }
   ],
   "source": [
    "Vr_bm_to_col = R_rb - V_rb #kips\n",
    "Ar_bm_to_col = A_rb + (H_r - H_rb) #kips\n",
    "\n",
    "print(f\"required V bm-to-col conn = {round(Vr_bm_to_col, 2)} kips\")\n",
    "print(f\"required A bm-to-col conn = {round(Ar_bm_to_col, 2)} kips\")"
   ]
  },
  {
   "cell_type": "markdown",
   "id": "ad8bbaee",
   "metadata": {},
   "source": [
    "--> RISA Connection Check"
   ]
  },
  {
   "cell_type": "markdown",
   "id": "40b038f7",
   "metadata": {},
   "source": [
    "## Brace Connection at Roof Beam"
   ]
  },
  {
   "cell_type": "code",
   "execution_count": 22,
   "id": "b0efc14f",
   "metadata": {},
   "outputs": [
    {
     "data": {
      "text/plain": [
       "'floor beam d = 17.7 in, column d = 13.9 in, e_b = 8.85 in, e_c = 6.95 in'"
      ]
     },
     "execution_count": 22,
     "metadata": {},
     "output_type": "execute_result"
    }
   ],
   "source": [
    "d_rfbm = aisc_W.loc[roof_beam, \"d\"] #in\n",
    "e_b = d_rfbm/2 #in\n",
    "\n",
    "d_col = aisc_W.loc[column, \"d\"] #in\n",
    "e_c = d_col/2 #in\n",
    "\n",
    "f\"floor beam d = {d_rfbm} in, column d = {d_col} in, e_b = {e_b} in, e_c = {e_c} in\""
   ]
  },
  {
   "cell_type": "code",
   "execution_count": 23,
   "id": "9ccd60fe",
   "metadata": {},
   "outputs": [],
   "source": [
    "β = 7 #in"
   ]
  },
  {
   "cell_type": "code",
   "execution_count": 24,
   "id": "6e0643d0",
   "metadata": {},
   "outputs": [
    {
     "data": {
      "text/plain": [
       "18.614583333333332"
      ]
     },
     "execution_count": 24,
     "metadata": {},
     "output_type": "execute_result"
    }
   ],
   "source": [
    "def function(α):\n",
    "    return α - β * tan(θ)\n",
    "α = GoalSeek(function, e_b * tan(θ) - e_c, x0=27)\n",
    "α"
   ]
  },
  {
   "cell_type": "code",
   "execution_count": 25,
   "id": "e198e6f2",
   "metadata": {},
   "outputs": [
    {
     "data": {
      "text/plain": [
       "37.229166666666664"
      ]
     },
     "execution_count": 25,
     "metadata": {},
     "output_type": "execute_result"
    }
   ],
   "source": [
    "α*2"
   ]
  },
  {
   "cell_type": "code",
   "execution_count": 26,
   "id": "e5116607",
   "metadata": {},
   "outputs": [
    {
     "data": {
      "text/plain": [
       "(7.324260752688176, 7.324193548387091)"
      ]
     },
     "execution_count": 26,
     "metadata": {},
     "output_type": "execute_result"
    }
   ],
   "source": [
    "α - β * tan(θ), e_b * tan(θ) - e_c"
   ]
  },
  {
   "cell_type": "code",
   "execution_count": 27,
   "id": "550b3497",
   "metadata": {},
   "outputs": [],
   "source": [
    "r = sqrt((α + e_c)**2 + (β + e_b)**2)\n",
    "\n",
    "V_rc = β / r * P_r #kips\n",
    "H_rc = e_c / r * P_r #kips\n",
    "V_rb = e_b / r * P_r #kips\n",
    "H_rb = α / r * P_r #kips"
   ]
  },
  {
   "cell_type": "code",
   "execution_count": 28,
   "id": "1834086b",
   "metadata": {},
   "outputs": [
    {
     "name": "stdout",
     "output_type": "stream",
     "text": [
      "V_rc = 8.38 kips, H_rc = 8.32 kips, \n",
      "V_rb = 10.59 kips, H_rb = 22.28 kips\n"
     ]
    }
   ],
   "source": [
    "print(f\"\"\"V_rc = {round(V_rc, 2)} kips, H_rc = {round(H_rc, 2)} kips, \n",
    "V_rb = {round(V_rb, 2)} kips, H_rb = {round(H_rb, 2)} kips\"\"\")"
   ]
  },
  {
   "cell_type": "markdown",
   "id": "5b818daa",
   "metadata": {},
   "source": [
    "### Gusset Weld Design"
   ]
  },
  {
   "cell_type": "code",
   "execution_count": 29,
   "id": "e783c183",
   "metadata": {},
   "outputs": [],
   "source": [
    "φ = 0.75\n",
    "F_nBM = 50 #ksi\n",
    "F_EXX = 70 #ksi\n",
    "F_nw = 0.60 * F_EXX #ksi"
   ]
  },
  {
   "cell_type": "markdown",
   "id": "3d2bf8c1",
   "metadata": {},
   "source": [
    "#### Beam Side"
   ]
  },
  {
   "cell_type": "code",
   "execution_count": 30,
   "id": "8156f5ca",
   "metadata": {},
   "outputs": [
    {
     "name": "stdout",
     "output_type": "stream",
     "text": [
      "t_f = 0.425 in, l_w = 37.23 in\n",
      "A_BM = 15.82 in^2, A_we = 6.58 in^2\n"
     ]
    }
   ],
   "source": [
    "t_f = aisc_W.loc[roof_beam, \"tf\"]\n",
    "l_w = α * 2 #in\n",
    "A_BM = t_f * l_w #in^2\n",
    "\n",
    "s = 1/4 #in\n",
    "A_we = l_w * s * sqrt(2)/2 #in^2\n",
    "print(f\"t_f = {t_f} in, l_w = {round(l_w, 2)} in\")\n",
    "print(f\"A_BM = {round(A_BM, 2)} in^2, A_we = {round(A_we, 2)} in^2\")"
   ]
  },
  {
   "cell_type": "code",
   "execution_count": 31,
   "id": "fc33bb73",
   "metadata": {},
   "outputs": [
    {
     "name": "stdout",
     "output_type": "stream",
     "text": [
      "θ_weld = 25.43 deg, k_ds = 1.14\n",
      "φR_n_BM = 593.34 kips, φR_n_weld = 236.47 kips\n"
     ]
    }
   ],
   "source": [
    "θ_weld = arctan(V_rb / H_rb) #rad\n",
    "k_ds = (1.0 + 0.50 * sin(θ_weld)**1.5)\n",
    "print(f\"θ_weld = {round(rad2deg(θ_weld), 2)} deg, k_ds = {round(k_ds, 2)}\")\n",
    "\n",
    "φR_n_BM = φ * F_nBM * A_BM #kips\n",
    "φR_n_weld = φ * F_nw * A_we * k_ds #kips\n",
    "\n",
    "print(f\"φR_n_BM = {round(φR_n_BM, 2)} kips, φR_n_weld = {round(φR_n_weld, 2)} kips\")"
   ]
  },
  {
   "cell_type": "code",
   "execution_count": 32,
   "id": "46e4da25",
   "metadata": {},
   "outputs": [
    {
     "data": {
      "text/plain": [
       "'R_u = 24.67 kips'"
      ]
     },
     "execution_count": 32,
     "metadata": {},
     "output_type": "execute_result"
    }
   ],
   "source": [
    "R_u = sqrt(V_rb**2 + H_rb**2) #kips\n",
    "f\"R_u = {round(R_u, 2)} kips\""
   ]
  },
  {
   "cell_type": "code",
   "execution_count": 33,
   "id": "1761f4e5",
   "metadata": {},
   "outputs": [
    {
     "data": {
      "text/plain": [
       "(0.04157525604749542, 0.1043173090070362)"
      ]
     },
     "execution_count": 33,
     "metadata": {},
     "output_type": "execute_result"
    }
   ],
   "source": [
    "R_u / φR_n_BM, R_u / φR_n_weld"
   ]
  },
  {
   "cell_type": "markdown",
   "id": "b960f5c9",
   "metadata": {},
   "source": [
    "#### Column Side"
   ]
  },
  {
   "cell_type": "code",
   "execution_count": 34,
   "id": "3347932c",
   "metadata": {},
   "outputs": [
    {
     "name": "stdout",
     "output_type": "stream",
     "text": [
      "t_f = 0.645 in, l_w = 14 in\n",
      "A_BM = 9.03 in^2, A_we = 2.47 in^2\n"
     ]
    }
   ],
   "source": [
    "t_f = aisc_W.loc[column, \"tf\"]\n",
    "l_w = β * 2 #in\n",
    "A_BM = t_f * l_w #in^2\n",
    "\n",
    "s = 1/4 #in\n",
    "A_we = l_w * s * sqrt(2)/2 #in^2\n",
    "print(f\"t_f = {t_f} in, l_w = {round(l_w, 2)} in\")\n",
    "print(f\"A_BM = {round(A_BM, 2)} in^2, A_we = {round(A_we, 2)} in^2\")"
   ]
  },
  {
   "cell_type": "code",
   "execution_count": 35,
   "id": "1ffa67ec",
   "metadata": {},
   "outputs": [
    {
     "name": "stdout",
     "output_type": "stream",
     "text": [
      "θ_weld = 45.21 deg, k_ds = 1.3\n",
      "φR_n_BM = 338.63 kips, φR_n_weld = 101.26 kips\n"
     ]
    }
   ],
   "source": [
    "θ_weld = arctan(V_rc / H_rc) #rad\n",
    "k_ds = (1.0 + 0.50 * sin(θ_weld)**1.5)\n",
    "print(f\"θ_weld = {round(rad2deg(θ_weld), 2)} deg, k_ds = {round(k_ds, 2)}\")\n",
    "\n",
    "φR_n_BM = φ * F_nBM * A_BM #kips\n",
    "φR_n_weld = φ * F_nw * A_we * k_ds #kips\n",
    "\n",
    "print(f\"φR_n_BM = {round(φR_n_BM, 2)} kips, φR_n_weld = {round(φR_n_weld, 2)} kips\")"
   ]
  },
  {
   "cell_type": "code",
   "execution_count": 36,
   "id": "7385314b",
   "metadata": {},
   "outputs": [
    {
     "data": {
      "text/plain": [
       "'R_u = 11.81 kips'"
      ]
     },
     "execution_count": 36,
     "metadata": {},
     "output_type": "execute_result"
    }
   ],
   "source": [
    "R_u = sqrt(V_rc**2 + H_rc**2) #kips\n",
    "f\"R_u = {round(R_u, 2)} kips\""
   ]
  },
  {
   "cell_type": "code",
   "execution_count": 37,
   "id": "3ae9467e",
   "metadata": {},
   "outputs": [
    {
     "data": {
      "text/plain": [
       "(0.03486392551630428, 0.1165886870754762)"
      ]
     },
     "execution_count": 37,
     "metadata": {},
     "output_type": "execute_result"
    }
   ],
   "source": [
    "R_u / φR_n_BM, R_u / φR_n_weld"
   ]
  },
  {
   "cell_type": "markdown",
   "id": "eed52c0f",
   "metadata": {},
   "source": [
    "### Beam and Column Design"
   ]
  },
  {
   "cell_type": "code",
   "execution_count": 38,
   "id": "7f1c08da",
   "metadata": {},
   "outputs": [],
   "source": [
    "R_rb = 20 #kips\n",
    "R_rc = 0 #kips\n",
    "A_rb = 15 #kips"
   ]
  },
  {
   "cell_type": "code",
   "execution_count": 39,
   "id": "eee174d9",
   "metadata": {},
   "outputs": [
    {
     "name": "stdout",
     "output_type": "stream",
     "text": [
      "required V bm-to-col conn = 9.41 kips\n",
      "required A bm-to-col conn = 23.32 kips\n"
     ]
    }
   ],
   "source": [
    "Vr_bm_to_col = R_rb - V_rb #kips\n",
    "Ar_bm_to_col = A_rb + (H_r - H_rb) #kips\n",
    "\n",
    "print(f\"required V bm-to-col conn = {round(Vr_bm_to_col, 2)} kips\")\n",
    "print(f\"required A bm-to-col conn = {round(Ar_bm_to_col, 2)} kips\")"
   ]
  },
  {
   "cell_type": "markdown",
   "id": "12b364d8",
   "metadata": {},
   "source": [
    "--> RISA Connection Check"
   ]
  }
 ],
 "metadata": {
  "kernelspec": {
   "display_name": "misc_venv",
   "language": "python",
   "name": "python3"
  },
  "language_info": {
   "codemirror_mode": {
    "name": "ipython",
    "version": 3
   },
   "file_extension": ".py",
   "mimetype": "text/x-python",
   "name": "python",
   "nbconvert_exporter": "python",
   "pygments_lexer": "ipython3",
   "version": "3.11.9"
  }
 },
 "nbformat": 4,
 "nbformat_minor": 5
}
