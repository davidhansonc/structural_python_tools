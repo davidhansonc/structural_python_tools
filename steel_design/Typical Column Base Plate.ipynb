{
 "cells": [
  {
   "cell_type": "code",
   "execution_count": 23,
   "id": "f78bb2e4",
   "metadata": {},
   "outputs": [],
   "source": [
    "# Import Python Tools:\n",
    "from IPython.display import display, Latex\n",
    "import pandas as pd\n",
    "import numpy as np\n",
    "from numpy import sqrt, pi, average, cos, sin, tan, arcsin, arccos, arctan, deg2rad, rad2deg\n",
    "# import sectionproperties as shape\n",
    "\n",
    "from ASCE import load_combos\n",
    "\n",
    "from steel_design.AISC import aisc\n",
    "steel_density = 490 / 12**3 #pci\n",
    "\n",
    "from concrete_design import material_properties as conc\n",
    "from concrete_design.steel_reinforcement import rebar_df as rebar\n",
    "conc_density = 150.0 #pcf"
   ]
  },
  {
   "cell_type": "markdown",
   "id": "747be65c",
   "metadata": {},
   "source": [
    "<div style=\"page-break-after: always;\"></div>"
   ]
  },
  {
   "cell_type": "markdown",
   "id": "4f46dafd",
   "metadata": {},
   "source": [
    "# Typical Steel Base Plate\n",
    "## 505-003-TYP"
   ]
  },
  {
   "cell_type": "code",
   "execution_count": 24,
   "id": "08015050",
   "metadata": {},
   "outputs": [],
   "source": [
    "Pu = 1.5 #kips"
   ]
  },
  {
   "cell_type": "markdown",
   "id": "aef0003f",
   "metadata": {},
   "source": [
    "#### Concrete Bearing (AISC J8)"
   ]
  },
  {
   "cell_type": "code",
   "execution_count": 25,
   "id": "4789cc7f",
   "metadata": {},
   "outputs": [
    {
     "data": {
      "text/plain": [
       "'phiPp = 176.8 kips'"
      ]
     },
     "execution_count": 25,
     "metadata": {},
     "output_type": "execute_result"
    }
   ],
   "source": [
    "phi_c = 0.65\n",
    "B = 8 #in\n",
    "N = 8 #in\n",
    "A1 = B * N #in^2 (area of steel concentrically bearing on conc support)\n",
    "A2 = 30*30 #in^2 (max area of conc supporting conc similar to and concentric with loaded area)\n",
    "fc = 2.5 #ksi\n",
    "\n",
    "#Pp = 0.85 * fc * A1 #Full area of concrete support\n",
    "Pp = min(0.85 * fc * A1 * sqrt(A2/A1), 1.7 * fc * A1) # Less than full area of conc support\n",
    "phiPp = phi_c*Pp #kips\n",
    "\n",
    "f\"phiPp = {round(phiPp, 2)} kips\""
   ]
  },
  {
   "cell_type": "markdown",
   "id": "05e29442",
   "metadata": {},
   "source": [
    "#### Plate Compression Check - Wide Flange (AISC EQ. 14-6a)"
   ]
  },
  {
   "cell_type": "code",
   "execution_count": 26,
   "id": "e9281cd9",
   "metadata": {},
   "outputs": [
    {
     "data": {
      "text/plain": [
       "'effective cantilever length, l = 2.4 in'"
      ]
     },
     "execution_count": 26,
     "metadata": {},
     "output_type": "execute_result"
    }
   ],
   "source": [
    "# Controlling cantilever, l \n",
    "column = \"W12x19\"\n",
    "bf = aisc.loc[column, \"bf\"]\n",
    "d = aisc.loc[column, \"d\"]\n",
    "\n",
    "m = (N - 0.95*d) / 2\n",
    "n = (B - 0.8*bf) / 2\n",
    "X = (4*d*bf / (d + bf)**2) * Pu/(phi_c*Pp)\n",
    "lmbd = min(2*sqrt(X) / (1 + sqrt(1-X)), 1)\n",
    "n_pr = sqrt(d * bf) / 4\n",
    "\n",
    "l = max(m, n, lmbd*n_pr)\n",
    "f\"effective cantilever length, l = {round(l, 2)} in\""
   ]
  },
  {
   "cell_type": "code",
   "execution_count": 27,
   "id": "6ceb028f",
   "metadata": {},
   "outputs": [
    {
     "data": {
      "text/plain": [
       "'minimum plate thickness = 0.547 in'"
      ]
     },
     "execution_count": 27,
     "metadata": {},
     "output_type": "execute_result"
    }
   ],
   "source": [
    "# Required Plate Thickness\n",
    "t_min = l * sqrt(2*Pu / (0.9*B*N))\n",
    "f\"minimum plate thickness = {round(t_min, 3)} in\""
   ]
  },
  {
   "cell_type": "markdown",
   "id": "2f12432e",
   "metadata": {},
   "source": [
    "#### Plate Compression Check - Square HSS"
   ]
  },
  {
   "cell_type": "code",
   "execution_count": 28,
   "id": "8fd489c1",
   "metadata": {},
   "outputs": [
    {
     "name": "stdout",
     "output_type": "stream",
     "text": [
      "Ht = 4.0 in\n",
      "B = 4.0 in\n"
     ]
    },
    {
     "data": {
      "text/plain": [
       "'effective cantilever length, l = 2.4 in'"
      ]
     },
     "execution_count": 28,
     "metadata": {},
     "output_type": "execute_result"
    }
   ],
   "source": [
    "# Controlling cantilever, l \n",
    "column = \"HSS4x4x1/4\"\n",
    "Ht = aisc.loc[column, \"Ht\"]\n",
    "Wd = aisc.loc[column, \"B\"]\n",
    "print(f\"Ht = {Ht} in\")\n",
    "print(f\"B = {Wd} in\")\n",
    "\n",
    "m = (N - 0.95*Ht) / 2\n",
    "n = (B - 0.8*Wd) / 2\n",
    "l = max(m, n)\n",
    "\n",
    "Fy = 36.0 #ksi\n",
    "t_min = l * sqrt(2*Pu / (0.9*Fy*B*N))\n",
    "f\"effective cantilever length, l = {round(l, 2)} in\""
   ]
  },
  {
   "cell_type": "code",
   "execution_count": 29,
   "id": "ebfb3160",
   "metadata": {},
   "outputs": [
    {
     "data": {
      "text/plain": [
       "'minimum plate thickness = 0.091 in'"
      ]
     },
     "execution_count": 29,
     "metadata": {},
     "output_type": "execute_result"
    }
   ],
   "source": [
    "# Required Plate Thickness\n",
    "Fy = 36.0 #ksi\n",
    "t_min = l * sqrt(2*Pu / (0.9*Fy*B*N))\n",
    "f\"minimum plate thickness = {round(t_min, 3)} in\""
   ]
  },
  {
   "cell_type": "markdown",
   "id": "6d2ad24b",
   "metadata": {},
   "source": [
    "#### Plate Compression Check - Round HSS"
   ]
  },
  {
   "cell_type": "code",
   "execution_count": 30,
   "id": "d5307528",
   "metadata": {},
   "outputs": [
    {
     "name": "stdout",
     "output_type": "stream",
     "text": [
      "d = 4.0 in\n"
     ]
    },
    {
     "data": {
      "text/plain": [
       "'effective cantilever length, l = 2.1 in'"
      ]
     },
     "execution_count": 30,
     "metadata": {},
     "output_type": "execute_result"
    }
   ],
   "source": [
    "# Controlling cantilever, l \n",
    "column = \"HSS4.000x0.250\"\n",
    "d = aisc.loc[column, \"OD\"] #in\n",
    "print(f\"d = {d} in\")\n",
    "\n",
    "l = (N - 0.95*d)/2\n",
    "f\"effective cantilever length, l = {round(l, 2)} in\""
   ]
  },
  {
   "cell_type": "code",
   "execution_count": 31,
   "id": "cef3afd0",
   "metadata": {},
   "outputs": [
    {
     "data": {
      "text/plain": [
       "'minimum plate thickness = 0.08 in'"
      ]
     },
     "execution_count": 31,
     "metadata": {},
     "output_type": "execute_result"
    }
   ],
   "source": [
    "# Required Plate Thickness\n",
    "Fy = 36.0 #ksi\n",
    "t_min = l * sqrt(2*Pu / (0.9*Fy*B*N))\n",
    "f\"minimum plate thickness = {round(t_min, 3)} in\""
   ]
  },
  {
   "cell_type": "code",
   "execution_count": null,
   "id": "5e66db11",
   "metadata": {},
   "outputs": [],
   "source": []
  }
 ],
 "metadata": {
  "kernelspec": {
   "display_name": "Python 3 (ipykernel)",
   "language": "python",
   "name": "python3"
  },
  "language_info": {
   "codemirror_mode": {
    "name": "ipython",
    "version": 3
   },
   "file_extension": ".py",
   "mimetype": "text/x-python",
   "name": "python",
   "nbconvert_exporter": "python",
   "pygments_lexer": "ipython3",
   "version": "3.11.3"
  }
 },
 "nbformat": 4,
 "nbformat_minor": 5
}
