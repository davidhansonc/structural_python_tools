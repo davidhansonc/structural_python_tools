{
 "cells": [
  {
   "cell_type": "code",
   "execution_count": null,
   "id": "f78bb2e4",
   "metadata": {},
   "outputs": [],
   "source": [
    "# Import Python Tools:\n",
    "from IPython.display import display, Latex\n",
    "import pandas as pd\n",
    "import numpy as np\n",
    "from numpy import sqrt, pi, average, cos, sin, tan, arcsin, arccos, arctan, deg2rad, rad2deg\n",
    "# import sectionproperties as shape\n",
    "\n",
    "from ASCE import load_combos\n",
    "\n",
    "from steel_design.AISC import aisc\n",
    "steel_density = 490 / 12**3 #pci\n",
    "\n",
    "from concrete_design import material_properties as conc\n",
    "from concrete_design.steel_reinforcement import rebar_df as rebar\n",
    "conc_density = 150.0 #pcf\n",
    "\n",
    "from masonry_design import material_properties as cmu\n",
    "from masonry_design.material_properties import NW_CMU #psf\n",
    "\n",
    "from wood_design.sawn_lumber.ref_design_values.table_4a import table_4a_load\n",
    "from wood_design.sawn_lumber.ref_design_values.C_F import C_F_load\n",
    "table_4a = table_4a_load(species=\"DF\")"
   ]
  },
  {
   "cell_type": "markdown",
   "id": "747be65c",
   "metadata": {},
   "source": [
    "<div style=\"page-break-after: always;\"></div>"
   ]
  },
  {
   "cell_type": "markdown",
   "id": "4f46dafd",
   "metadata": {},
   "source": [
    "# Typical Steel Base Plate\n",
    "## 505-003-TYP"
   ]
  },
  {
   "cell_type": "code",
   "execution_count": 6,
   "id": "08015050",
   "metadata": {},
   "outputs": [],
   "source": [
    "Pu = 17.5 #kips"
   ]
  },
  {
   "cell_type": "markdown",
   "id": "aef0003f",
   "metadata": {},
   "source": [
    "#### Concrete Bearing (AISC J8)"
   ]
  },
  {
   "cell_type": "code",
   "execution_count": null,
   "id": "4789cc7f",
   "metadata": {},
   "outputs": [
    {
     "data": {
      "text/plain": [
       "'phiPp = 33.84 kips'"
      ]
     },
     "metadata": {},
     "output_type": "display_data"
    }
   ],
   "source": [
    "phi_c = 0.65\n",
    "B = 3.5 #in\n",
    "N = 3.5 #in\n",
    "A1 = B * N #in^2 (area of steel concentrically bearing on conc support)\n",
    "A2 = 30*30 #in^2 (max area of conc supporting conc similar to and concentric with loaded area)\n",
    "fc = 2.5 #ksi\n",
    "\n",
    "#Pp = 0.85 * fc * A1 #Full area of concrete support\n",
    "Pp = min(0.85 * fc * A1 * sqrt(A2/A1), 1.7 * fc * A1) # Less than full area of conc support\n",
    "phiPp = phi_c*Pp #kips\n",
    "\n",
    "f\"phiPp = {round(phiPp, 2)} kips\""
   ]
  },
  {
   "cell_type": "markdown",
   "id": "05e29442",
   "metadata": {},
   "source": [
    "#### Plate Compression Check - Wide Flange (AISC EQ. 14-6a)"
   ]
  },
  {
   "cell_type": "code",
   "execution_count": 8,
   "id": "e9281cd9",
   "metadata": {},
   "outputs": [
    {
     "data": {
      "text/plain": [
       "'effective cantilever length, l = 2.4 in'"
      ]
     },
     "execution_count": 8,
     "metadata": {},
     "output_type": "execute_result"
    }
   ],
   "source": [
    "# Controlling cantilever, l \n",
    "beam = \"W12X19\"\n",
    "bf = aisc.loc[beam, \"bf\"]\n",
    "d = aisc.loc[beam, \"d\"]\n",
    "\n",
    "m = (N - 0.95*d) / 2\n",
    "n = (B - 0.8*bf) / 2\n",
    "X = (4*d*bf / (d + bf)**2) * Pu/(phi_c*Pp)\n",
    "lmbd = min(2*sqrt(X) / (1 + sqrt(1-X)), 1)\n",
    "n_pr = sqrt(d * bf) / 4\n",
    "\n",
    "l = max(m, n, lmbd*n_pr)\n",
    "f\"effective cantilever length, l = {round(l, 2)} in\""
   ]
  },
  {
   "cell_type": "code",
   "execution_count": 9,
   "id": "6ceb028f",
   "metadata": {},
   "outputs": [
    {
     "data": {
      "text/plain": [
       "'minimum plate thickness = 1.868 in'"
      ]
     },
     "execution_count": 9,
     "metadata": {},
     "output_type": "execute_result"
    }
   ],
   "source": [
    "# Required Plate Thickness\n",
    "t_min = l * sqrt(2*Pu / (0.9*B*N))\n",
    "f\"minimum plate thickness = {round(t_min, 3)} in\""
   ]
  },
  {
   "cell_type": "markdown",
   "id": "2f12432e",
   "metadata": {},
   "source": [
    "#### Plate Compression Check - Square HSS"
   ]
  },
  {
   "cell_type": "code",
   "execution_count": 11,
   "id": "369ce99b",
   "metadata": {},
   "outputs": [
    {
     "data": {
      "text/plain": [
       "'effective cantilever length, l = 2.1 in'"
      ]
     },
     "execution_count": 11,
     "metadata": {},
     "output_type": "execute_result"
    }
   ],
   "source": [
    "# Controlling cantilever, l \n",
    "beam = \"W12X19\"\n",
    "b = 4.0 #in\n",
    "d = 4.0 #in\n",
    "\n",
    "Fy = 36.0 #ksi\n",
    "t_min = l * sqrt(2*Pu / (0.9*Fy*B*N))\n",
    "f\"effective cantilever length, l = {round(l, 2)} in\""
   ]
  },
  {
   "cell_type": "code",
   "execution_count": 14,
   "id": "ebfb3160",
   "metadata": {},
   "outputs": [
    {
     "data": {
      "text/plain": [
       "'minimum plate thickness = 1.637 in'"
      ]
     },
     "execution_count": 14,
     "metadata": {},
     "output_type": "execute_result"
    }
   ],
   "source": [
    "# Required Plate Thickness\n",
    "Fy = 36.0 #ksi\n",
    "t_min = l * sqrt(2*Pu / (0.9*Fy*B*N))\n",
    "f\"minimum plate thickness = {round(t_min, 3)} in\""
   ]
  },
  {
   "cell_type": "markdown",
   "id": "6d2ad24b",
   "metadata": {},
   "source": [
    "#### Plate Compression Check - Round HSS"
   ]
  },
  {
   "cell_type": "code",
   "execution_count": 19,
   "id": "d5307528",
   "metadata": {},
   "outputs": [
    {
     "data": {
      "text/plain": [
       "'effective cantilever length, l = 2.32 in'"
      ]
     },
     "execution_count": 19,
     "metadata": {},
     "output_type": "execute_result"
    }
   ],
   "source": [
    "# Controlling cantilever, l \n",
    "beam = \"W12X19\"\n",
    "diameter = 4.0 #in\n",
    "d = sqrt(pi*diameter**2/4) #in\n",
    "\n",
    "l = (N - 0.95*d)/2\n",
    "f\"effective cantilever length, l = {round(l, 2)} in\""
   ]
  },
  {
   "cell_type": "code",
   "execution_count": 20,
   "id": "cef3afd0",
   "metadata": {},
   "outputs": [
    {
     "data": {
      "text/plain": [
       "'minimum plate thickness = 1.805 in'"
      ]
     },
     "execution_count": 20,
     "metadata": {},
     "output_type": "execute_result"
    }
   ],
   "source": [
    "# Required Plate Thickness\n",
    "Fy = 36.0 #ksi\n",
    "t_min = l * sqrt(2*Pu / (0.9*Fy*B*N))\n",
    "f\"minimum plate thickness = {round(t_min, 3)} in\""
   ]
  },
  {
   "cell_type": "code",
   "execution_count": null,
   "id": "5e66db11",
   "metadata": {},
   "outputs": [],
   "source": []
  }
 ],
 "metadata": {
  "kernelspec": {
   "display_name": "Python 3 (ipykernel)",
   "language": "python",
   "name": "python3"
  },
  "language_info": {
   "codemirror_mode": {
    "name": "ipython",
    "version": 3
   },
   "file_extension": ".py",
   "mimetype": "text/x-python",
   "name": "python",
   "nbconvert_exporter": "python",
   "pygments_lexer": "ipython3",
   "version": "3.9.2"
  }
 },
 "nbformat": 4,
 "nbformat_minor": 5
}
