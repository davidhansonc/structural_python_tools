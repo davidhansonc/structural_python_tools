{
 "cells": [
  {
   "cell_type": "code",
   "execution_count": 2,
   "id": "344d4017",
   "metadata": {},
   "outputs": [
    {
     "data": {
      "text/latex": [
       "\\newpage"
      ],
      "text/plain": [
       "<IPython.core.display.Latex object>"
      ]
     },
     "metadata": {},
     "output_type": "display_data"
    }
   ],
   "source": [
    "# Import Python Tools:\n",
    "from IPython.display import display, Latex\n",
    "import pandas as pd\n",
    "import numpy as np\n",
    "from numpy import sqrt, pi, average, cos, sin, tan, arcsin, arccos, arctan, deg2rad, rad2deg\n",
    "\n",
    "import load_combos\n",
    "from steel_design.AISC import aisc\n",
    "from masonry_design.steel_reinforcement import rebar_df as rebar\n",
    "from concrete_design.material_properties import elastic_modulus, rigidity_modulus\n",
    "import masonry_design.material_properties as block\n",
    "conc_density = 150.0 #pcf\n",
    "steel_density = 0.2833 #pci\n",
    "\n",
    "display(Latex(r\"\\newpage\")) #pagebreak"
   ]
  },
  {
   "cell_type": "markdown",
   "id": "59ecdd05",
   "metadata": {},
   "source": [
    "# Steel Beam - Increase Moment of Inertia\n",
    "## Bar Sizing"
   ]
  },
  {
   "cell_type": "code",
   "execution_count": 12,
   "id": "97f34311",
   "metadata": {},
   "outputs": [
    {
     "data": {
      "text/plain": [
       "130.0"
      ]
     },
     "execution_count": 12,
     "metadata": {},
     "output_type": "execute_result"
    }
   ],
   "source": [
    "# list(aisc.columns.values)\n",
    "beam_exst = \"W12X19\"\n",
    "I_existing = aisc.loc[beam_exst, \"Ix\"]\n",
    "I_existing #in^4"
   ]
  },
  {
   "cell_type": "code",
   "execution_count": 10,
   "id": "20d5998e",
   "metadata": {},
   "outputs": [
    {
     "data": {
      "text/plain": [
       "199.0"
      ]
     },
     "execution_count": 10,
     "metadata": {},
     "output_type": "execute_result"
    }
   ],
   "source": [
    "I_target = aisc.loc[\"W14X22\", \"Ix\"]\n",
    "I_target #in^4"
   ]
  },
  {
   "cell_type": "code",
   "execution_count": 16,
   "id": "ce36304a",
   "metadata": {},
   "outputs": [
    {
     "data": {
      "text/plain": [
       "69.0"
      ]
     },
     "execution_count": 16,
     "metadata": {},
     "output_type": "execute_result"
    }
   ],
   "source": [
    "I_min_add = I_target - I_existing\n",
    "I_min_add"
   ]
  },
  {
   "cell_type": "code",
   "execution_count": 11,
   "id": "8b84be56",
   "metadata": {},
   "outputs": [
    {
     "data": {
      "text/html": [
       "<div>\n",
       "<style scoped>\n",
       "    .dataframe tbody tr th:only-of-type {\n",
       "        vertical-align: middle;\n",
       "    }\n",
       "\n",
       "    .dataframe tbody tr th {\n",
       "        vertical-align: top;\n",
       "    }\n",
       "\n",
       "    .dataframe thead th {\n",
       "        text-align: right;\n",
       "    }\n",
       "</style>\n",
       "<table border=\"1\" class=\"dataframe\">\n",
       "  <thead>\n",
       "    <tr style=\"text-align: right;\">\n",
       "      <th></th>\n",
       "      <th>Diameter</th>\n",
       "      <th>Area</th>\n",
       "      <th>Weight</th>\n",
       "    </tr>\n",
       "  </thead>\n",
       "  <tbody>\n",
       "    <tr>\n",
       "      <th>#3</th>\n",
       "      <td>0.375</td>\n",
       "      <td>0.11</td>\n",
       "      <td>0.376</td>\n",
       "    </tr>\n",
       "    <tr>\n",
       "      <th>#4</th>\n",
       "      <td>0.500</td>\n",
       "      <td>0.20</td>\n",
       "      <td>0.668</td>\n",
       "    </tr>\n",
       "    <tr>\n",
       "      <th>#5</th>\n",
       "      <td>0.625</td>\n",
       "      <td>0.31</td>\n",
       "      <td>1.043</td>\n",
       "    </tr>\n",
       "    <tr>\n",
       "      <th>#6</th>\n",
       "      <td>0.750</td>\n",
       "      <td>0.44</td>\n",
       "      <td>1.502</td>\n",
       "    </tr>\n",
       "    <tr>\n",
       "      <th>#7</th>\n",
       "      <td>0.875</td>\n",
       "      <td>0.60</td>\n",
       "      <td>2.044</td>\n",
       "    </tr>\n",
       "    <tr>\n",
       "      <th>#8</th>\n",
       "      <td>1.000</td>\n",
       "      <td>0.79</td>\n",
       "      <td>2.670</td>\n",
       "    </tr>\n",
       "    <tr>\n",
       "      <th>#9</th>\n",
       "      <td>1.128</td>\n",
       "      <td>1.00</td>\n",
       "      <td>3.400</td>\n",
       "    </tr>\n",
       "    <tr>\n",
       "      <th>#10</th>\n",
       "      <td>1.270</td>\n",
       "      <td>1.27</td>\n",
       "      <td>4.303</td>\n",
       "    </tr>\n",
       "    <tr>\n",
       "      <th>#11</th>\n",
       "      <td>1.410</td>\n",
       "      <td>1.56</td>\n",
       "      <td>5.313</td>\n",
       "    </tr>\n",
       "    <tr>\n",
       "      <th>#14</th>\n",
       "      <td>1.693</td>\n",
       "      <td>2.25</td>\n",
       "      <td>7.650</td>\n",
       "    </tr>\n",
       "    <tr>\n",
       "      <th>#18</th>\n",
       "      <td>2.257</td>\n",
       "      <td>4.00</td>\n",
       "      <td>13.600</td>\n",
       "    </tr>\n",
       "  </tbody>\n",
       "</table>\n",
       "</div>"
      ],
      "text/plain": [
       "     Diameter  Area  Weight\n",
       "#3      0.375  0.11   0.376\n",
       "#4      0.500  0.20   0.668\n",
       "#5      0.625  0.31   1.043\n",
       "#6      0.750  0.44   1.502\n",
       "#7      0.875  0.60   2.044\n",
       "#8      1.000  0.79   2.670\n",
       "#9      1.128  1.00   3.400\n",
       "#10     1.270  1.27   4.303\n",
       "#11     1.410  1.56   5.313\n",
       "#14     1.693  2.25   7.650\n",
       "#18     2.257  4.00  13.600"
      ]
     },
     "execution_count": 11,
     "metadata": {},
     "output_type": "execute_result"
    }
   ],
   "source": [
    "rebar"
   ]
  },
  {
   "cell_type": "code",
   "execution_count": 54,
   "id": "a3c40d89",
   "metadata": {},
   "outputs": [
    {
     "name": "stdout",
     "output_type": "stream",
     "text": [
      "space to fit bar under flange = 1.5675 in\n"
     ]
    },
    {
     "data": {
      "text/plain": [
       "'Added I = 87.29 in^4'"
      ]
     },
     "execution_count": 54,
     "metadata": {},
     "output_type": "execute_result"
    }
   ],
   "source": [
    "bar_size = \"#8\"\n",
    "A_bar = rebar.loc[bar_size, \"Area\"]\n",
    "d_bar = rebar.loc[bar_size, \"Diameter\"]\n",
    "I_bar = pi*d_bar**4/64 #in^4\n",
    "\n",
    "# Beam geometry\n",
    "d = aisc.loc[beam_exst, \"d\"]\n",
    "tf = aisc.loc[beam_exst, \"tf\"]\n",
    "bf = aisc.loc[beam_exst, \"bf\"]\n",
    "k_det = aisc.loc[beam_exst, \"kdet\"]\n",
    "bar_attachment_space = (bf - k_det) / 2\n",
    "print(f\"space to fit bar under flange = {bar_attachment_space} in\")\n",
    "\n",
    "d_bar = (d - 2*tf - d_bar) / 2 #in\n",
    "\n",
    "I_add = 2 * (2*I_bar + 2*A_bar*d_bar**2) #top and bottom bars (4 total bars added)\n",
    "f\"Added I = {round(I_add, 2)} in^4\""
   ]
  },
  {
   "cell_type": "code",
   "execution_count": 55,
   "id": "16b444a5",
   "metadata": {},
   "outputs": [
    {
     "data": {
      "text/plain": [
       "'Total Moment of Inertia = 217.29 in^4'"
      ]
     },
     "execution_count": 55,
     "metadata": {},
     "output_type": "execute_result"
    }
   ],
   "source": [
    "I_total_new = I_existing + I_add\n",
    "f\"Total Moment of Inertia = {round(I_total_new, 2)} in^4\""
   ]
  },
  {
   "cell_type": "code",
   "execution_count": 56,
   "id": "7f90fc5a",
   "metadata": {},
   "outputs": [
    {
     "data": {
      "text/plain": [
       "True"
      ]
     },
     "execution_count": 56,
     "metadata": {},
     "output_type": "execute_result"
    }
   ],
   "source": [
    "I_total_new > I_target"
   ]
  },
  {
   "cell_type": "markdown",
   "id": "4773fd15",
   "metadata": {},
   "source": [
    "## Weld Design\n",
    "### Shear Flow Calc"
   ]
  },
  {
   "cell_type": "code",
   "execution_count": 57,
   "id": "72d2cb68",
   "metadata": {},
   "outputs": [
    {
     "name": "stdout",
     "output_type": "stream",
     "text": [
      "V = 167.1 kips\n"
     ]
    },
    {
     "data": {
      "text/plain": [
       "'q = 188.88 lbs/in'"
      ]
     },
     "execution_count": 57,
     "metadata": {},
     "output_type": "execute_result"
    }
   ],
   "source": [
    "Fy = 50.0 #ksi\n",
    "V = 0.6 * Fy * aisc.loc[beam_exst, \"A\"] #kips\n",
    "print(f\"V = {round(V, 2)} kips\")\n",
    "\n",
    "yi = tf / 2 #in\n",
    "Ai = tf * bf #in^2\n",
    "Q = yi * Ai #in^3\n",
    "\n",
    "I = I_total_new #in^4\n",
    "\n",
    "q = V * Q / I * 1000 #lbs/in\n",
    "f\"q = {round(q, 2)} lbs/in\""
   ]
  },
  {
   "cell_type": "code",
   "execution_count": 58,
   "id": "02b902c3",
   "metadata": {},
   "outputs": [
    {
     "data": {
      "text/plain": [
       "'q_weld = 94.44 lbs/in'"
      ]
     },
     "execution_count": 58,
     "metadata": {},
     "output_type": "execute_result"
    }
   ],
   "source": [
    "q_weld = q / 2 #lbs/in\n",
    "f\"q_weld = {round(q_weld, 2)} lbs/in\""
   ]
  },
  {
   "cell_type": "markdown",
   "id": "63470fe3",
   "metadata": {},
   "source": [
    "### Welds\n",
    "#### Weld Metal"
   ]
  },
  {
   "cell_type": "code",
   "execution_count": 1,
   "id": "87701255",
   "metadata": {},
   "outputs": [
    {
     "name": "stdout",
     "output_type": "stream",
     "text": [
      "3.69 kips\n"
     ]
    },
    {
     "data": {
      "text/plain": [
       "'phiRn / in = 102.54 lbs/in'"
      ]
     },
     "execution_count": 1,
     "metadata": {},
     "output_type": "execute_result"
    }
   ],
   "source": [
    "phi = 0.75\n",
    "F_EXX = 70.0 #ksi\n",
    "Fnw = 0.60*F_EXX\n",
    "\n",
    "R = 3/16 #in\n",
    "t = 5/16 * R #in\n",
    "\n",
    "spacing = 36.0 #in O.C.\n",
    "lw = 2.0 #in\n",
    "Awe = t * lw #in^2\n",
    "\n",
    "Rn = Fnw * Awe\n",
    "phiRn = phi * Rn\n",
    "print(f\"{round(phiRn, 2)} kips\")\n",
    "f\"phiRn / in = {round(phiRn / spacing * 1000, 2)} lbs/in\""
   ]
  },
  {
   "cell_type": "code",
   "execution_count": 76,
   "id": "27a85b4e",
   "metadata": {},
   "outputs": [
    {
     "data": {
      "text/plain": [
       "True"
      ]
     },
     "execution_count": 76,
     "metadata": {},
     "output_type": "execute_result"
    }
   ],
   "source": [
    "phiRn / spacing * 1000 > q_weld"
   ]
  },
  {
   "cell_type": "markdown",
   "id": "31c8d2d7",
   "metadata": {},
   "source": [
    "#### Base Metal"
   ]
  },
  {
   "cell_type": "code",
   "execution_count": 64,
   "id": "a0b6d301",
   "metadata": {},
   "outputs": [
    {
     "data": {
      "text/plain": [
       "'phiRn = 21.0 kips'"
      ]
     },
     "execution_count": 64,
     "metadata": {},
     "output_type": "execute_result"
    }
   ],
   "source": [
    "phi = 1.00\n",
    "F_nBM = 0.6 * Fy\n",
    "A_BM = tf * lw\n",
    "\n",
    "Rn = F_nBM * A_BM\n",
    "phiRn = phi * Rn\n",
    "f\"phiRn = {round(phiRn, 2)} kips\""
   ]
  },
  {
   "cell_type": "code",
   "execution_count": null,
   "id": "2a5f23fd",
   "metadata": {},
   "outputs": [],
   "source": []
  }
 ],
 "metadata": {
  "kernelspec": {
   "display_name": "Python 3 (ipykernel)",
   "language": "python",
   "name": "python3"
  },
  "language_info": {
   "codemirror_mode": {
    "name": "ipython",
    "version": 3
   },
   "file_extension": ".py",
   "mimetype": "text/x-python",
   "name": "python",
   "nbconvert_exporter": "python",
   "pygments_lexer": "ipython3",
   "version": "3.9.2"
  }
 },
 "nbformat": 4,
 "nbformat_minor": 5
}
