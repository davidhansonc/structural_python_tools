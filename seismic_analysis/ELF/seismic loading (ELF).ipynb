{
 "cells": [
  {
   "cell_type": "code",
   "execution_count": 25,
   "id": "8c41b636",
   "metadata": {},
   "outputs": [],
   "source": [
    "# Import Python Tools:\n",
    "from IPython.display import display, Latex\n",
    "import pandas as pd\n",
    "import numpy as np\n",
    "from numpy import sqrt, pi, average, cos, sin, tan, arcsin, arccos, arctan, deg2rad, rad2deg\n",
    "# import sectionproperties as shape\n",
    "\n",
    "from ASCE import load_combos\n",
    "\n",
    "from steel_design.AISC import aisc\n",
    "steel_density = 490 / 12**3 #pci\n",
    "\n",
    "from concrete_design import material_properties as conc\n",
    "from concrete_design.steel_reinforcement import rebar_df as rebar\n",
    "conc_density = 150.0 #pcf\n",
    "\n",
    "from masonry_design import material_properties as cmu\n",
    "from masonry_design.material_properties import NW_CMU #psf\n",
    "\n",
    "from wood_design.sawn_lumber.ref_design_values.table_4a import table_4a_load\n",
    "from wood_design.sawn_lumber.ref_design_values.C_F import C_F_load\n",
    "table_4a = table_4a_load(species=\"DF\")"
   ]
  },
  {
   "attachments": {},
   "cell_type": "markdown",
   "id": "04f2be6d",
   "metadata": {},
   "source": [
    "<div style=\"page-break-after: always;\"></div>"
   ]
  },
  {
   "attachments": {},
   "cell_type": "markdown",
   "id": "15147325",
   "metadata": {},
   "source": [
    "# Seismic Load - Equivalent Lateral Force Method"
   ]
  },
  {
   "attachments": {},
   "cell_type": "markdown",
   "id": "6d23e308",
   "metadata": {},
   "source": [
    "## Base Shear"
   ]
  },
  {
   "attachments": {},
   "cell_type": "markdown",
   "id": "b6be568d",
   "metadata": {},
   "source": [
    "### Seismic Parameters"
   ]
  },
  {
   "cell_type": "code",
   "execution_count": 27,
   "id": "1be88235",
   "metadata": {},
   "outputs": [],
   "source": [
    "S_DS = 0.203\n",
    "S_D1 = 0.179\n",
    "T_L = 8 #sec\n",
    "\n",
    "R = 6.5\n",
    "Ie = 1.0"
   ]
  },
  {
   "cell_type": "code",
   "execution_count": 28,
   "id": "6111b211",
   "metadata": {},
   "outputs": [
    {
     "data": {
      "text/plain": [
       "'Cs = 0.0312'"
      ]
     },
     "execution_count": 28,
     "metadata": {},
     "output_type": "execute_result"
    }
   ],
   "source": [
    "hn = 16 #ft\n",
    "Ct = 0.02\n",
    "x = 0.75\n",
    "T = Ct*hn**x\n",
    "\n",
    "\n",
    "Cs_calc = S_DS / (R/Ie)\n",
    "\n",
    "if T <= T_L:\n",
    "\tCs = min(Cs_calc, S_D1 / (T*R/Ie))\n",
    "elif T > T_L:\n",
    "\tCs = min(Cs_calc, S_D1 / (T**2*R/Ie))\n",
    "\n",
    "f\"Cs = {round(Cs, 4)}\""
   ]
  },
  {
   "attachments": {},
   "cell_type": "markdown",
   "id": "a37bd287",
   "metadata": {},
   "source": [
    "### Seismic Weight"
   ]
  },
  {
   "cell_type": "code",
   "execution_count": 33,
   "id": "b40ccc41",
   "metadata": {},
   "outputs": [
    {
     "data": {
      "text/plain": [
       "'total seismic weight = 157.47 kips'"
      ]
     },
     "execution_count": 33,
     "metadata": {},
     "output_type": "execute_result"
    }
   ],
   "source": [
    "roof_DL = 15 #psf\n",
    "wall_2x4_DL = 11 #psf\n",
    "wall_2x6_DL = 8 #psf\n",
    "cladded_wall_DL = 20 #psf\n",
    "\n",
    "roof_area = 9660 #sf\n",
    "wall_2x6_perimeter = 506 #ft\n",
    "wall_2x4_perimeter = 391 #ft\n",
    "wall_cladded_perimeter = 211 #ft\n",
    "\n",
    "W = (\n",
    "\troof_DL*roof_area \\\n",
    "\t+ wall_2x4_DL*wall_2x4_perimeter \\\n",
    "\t+ wall_2x6_DL*wall_2x6_perimeter \\\n",
    "\t+ cladded_wall_DL*wall_cladded_perimeter\n",
    ") / 1000 #kips\n",
    "\n",
    "f\"total seismic weight = {round(total_seismic_dead_load / 1000, 2)} kips\""
   ]
  },
  {
   "attachments": {},
   "cell_type": "markdown",
   "id": "12681615",
   "metadata": {},
   "source": [
    "### Base Shear"
   ]
  },
  {
   "cell_type": "code",
   "execution_count": 34,
   "id": "0858b3dd",
   "metadata": {},
   "outputs": [
    {
     "data": {
      "text/plain": [
       "'Base Shear, V = 4.92 kips'"
      ]
     },
     "execution_count": 34,
     "metadata": {},
     "output_type": "execute_result"
    }
   ],
   "source": [
    "V = Cs * W #kips\n",
    "f\"Base Shear, V = {round(V, 2)} kips\""
   ]
  },
  {
   "cell_type": "code",
   "execution_count": null,
   "id": "630dd027",
   "metadata": {},
   "outputs": [],
   "source": []
  }
 ],
 "metadata": {
  "kernelspec": {
   "display_name": "VENV_MAC",
   "language": "python",
   "name": "python3"
  },
  "language_info": {
   "codemirror_mode": {
    "name": "ipython",
    "version": 3
   },
   "file_extension": ".py",
   "mimetype": "text/x-python",
   "name": "python",
   "nbconvert_exporter": "python",
   "pygments_lexer": "ipython3",
   "version": "3.11.3"
  }
 },
 "nbformat": 4,
 "nbformat_minor": 5
}
