{
 "cells": [
  {
   "cell_type": "code",
   "execution_count": 1,
   "id": "8c41b636",
   "metadata": {},
   "outputs": [],
   "source": [
    "# Import Python Tools:\n",
    "import pandas as pd\n",
    "import numpy as np\n",
    "from numpy import sqrt, pi, average, cos, sin, tan, arcsin, arccos, arctan, deg2rad, rad2deg\n",
    "from seismic_coefficients import short_period_site_coefficient\n",
    "from seismic_coefficients import long_period_site_coefficient\n",
    "from seismic_coefficients import shear_wave_velocity"
   ]
  },
  {
   "attachments": {},
   "cell_type": "markdown",
   "id": "04f2be6d",
   "metadata": {},
   "source": [
    "<div style=\"page-break-after: always;\"></div>"
   ]
  },
  {
   "attachments": {},
   "cell_type": "markdown",
   "id": "15147325",
   "metadata": {},
   "source": [
    "# Seismic Load - Equivalent Lateral Force Method"
   ]
  },
  {
   "attachments": {},
   "cell_type": "markdown",
   "id": "b6be568d",
   "metadata": {},
   "source": [
    "### Seismic Parameters"
   ]
  },
  {
   "cell_type": "code",
   "execution_count": 8,
   "id": "4e219fde",
   "metadata": {},
   "outputs": [
    {
     "name": "stdout",
     "output_type": "stream",
     "text": [
      "V_s30 = 873 ft/sec\n",
      "F_a = 1.57, F_v = 2.45\n"
     ]
    }
   ],
   "source": [
    "site_class = \"D\" #B, C, D, E, or Default\n",
    "S_s = 0.270\n",
    "S_1 = 0.085\n",
    "\n",
    "V_s30 = shear_wave_velocity(site_class)\n",
    "print(f\"V_s30 = {V_s30} ft/sec\")\n",
    "F_a = short_period_site_coefficient(V_s30, S_s)\n",
    "if site_class == \"Default\":\n",
    "    F_a = max(1.2, F_a)\n",
    "F_v = long_period_site_coefficient(V_s30, S_1)\n",
    "print(f\"F_a = {round(F_a, 2)}, F_v = {round(F_v, 2)}\")"
   ]
  },
  {
   "cell_type": "code",
   "execution_count": 3,
   "id": "133bd6e2",
   "metadata": {},
   "outputs": [
    {
     "data": {
      "text/plain": [
       "'S_MS = 0.424g, S_M1 = 0.208g'"
      ]
     },
     "execution_count": 3,
     "metadata": {},
     "output_type": "execute_result"
    }
   ],
   "source": [
    "S_MS = S_s * F_a\n",
    "S_M1 = S_1 * F_v\n",
    "f\"S_MS = {round(S_MS, 3)}g, S_M1 = {round(S_M1, 3)}g\""
   ]
  },
  {
   "cell_type": "code",
   "execution_count": 4,
   "id": "1be88235",
   "metadata": {},
   "outputs": [],
   "source": [
    "S_DS = 2/3 * S_MS\n",
    "S_D1 = 2/3 * S_M1\n",
    "T_L = 16 #sec\n",
    "I_e = 1.5\n",
    "\n",
    "R = 8\n",
    "Ω_0 = 2.5\n",
    "C_d = 5\n",
    "ρ = 1.3"
   ]
  },
  {
   "attachments": {},
   "cell_type": "markdown",
   "id": "6aa97e41",
   "metadata": {},
   "source": [
    "### Seismic Response Coefficient, $C_s$"
   ]
  },
  {
   "attachments": {},
   "cell_type": "markdown",
   "id": "f8304272",
   "metadata": {},
   "source": [
    "<img src=\"./attachments/Table_12.8-2.png\" width=500>"
   ]
  },
  {
   "cell_type": "code",
   "execution_count": 5,
   "id": "6111b211",
   "metadata": {},
   "outputs": [
    {
     "data": {
      "text/plain": [
       "'Approximate fundamental period, Ta = 0.564 sec'"
      ]
     },
     "execution_count": 5,
     "metadata": {},
     "output_type": "execute_result"
    }
   ],
   "source": [
    "hn = 50 #ft\n",
    "Ct = 0.03\n",
    "x = 0.75\n",
    "T = Ct*hn**x\n",
    "\n",
    "f\"Approximate fundamental period, Ta = {round(T, 3)} sec\""
   ]
  },
  {
   "cell_type": "code",
   "execution_count": 6,
   "id": "f0433076",
   "metadata": {},
   "outputs": [
    {
     "ename": "NameError",
     "evalue": "name 'Cs' is not defined",
     "output_type": "error",
     "traceback": [
      "\u001b[1;31m---------------------------------------------------------------------------\u001b[0m",
      "\u001b[1;31mNameError\u001b[0m                                 Traceback (most recent call last)",
      "Cell \u001b[1;32mIn[6], line 2\u001b[0m\n\u001b[0;32m      1\u001b[0m Cs_calc \u001b[38;5;241m=\u001b[39m S_DS \u001b[38;5;241m/\u001b[39m (R\u001b[38;5;241m/\u001b[39mI_e)\n\u001b[1;32m----> 2\u001b[0m \u001b[38;5;28mprint\u001b[39m(\u001b[38;5;124mf\u001b[39m\u001b[38;5;124m\"\u001b[39m\u001b[38;5;124mPrelim Cs = \u001b[39m\u001b[38;5;132;01m{\u001b[39;00m\u001b[38;5;28mround\u001b[39m(\u001b[43mCs\u001b[49m,\u001b[38;5;250m \u001b[39m\u001b[38;5;241m4\u001b[39m)\u001b[38;5;132;01m}\u001b[39;00m\u001b[38;5;124m\"\u001b[39m)\n\u001b[0;32m      4\u001b[0m \u001b[38;5;28;01mif\u001b[39;00m T \u001b[38;5;241m<\u001b[39m\u001b[38;5;241m=\u001b[39m T_L:\n\u001b[0;32m      5\u001b[0m \tCs \u001b[38;5;241m=\u001b[39m \u001b[38;5;28mmin\u001b[39m(Cs_calc, S_D1 \u001b[38;5;241m/\u001b[39m (T\u001b[38;5;241m*\u001b[39mR\u001b[38;5;241m/\u001b[39mI_e))\n",
      "\u001b[1;31mNameError\u001b[0m: name 'Cs' is not defined"
     ]
    }
   ],
   "source": [
    "Cs_calc = S_DS / (R/I_e)\n",
    "print(f\"Prelim Cs = {round(Cs, 4)}\")\n",
    "\n",
    "if T <= T_L:\n",
    "\tCs = min(Cs_calc, S_D1 / (T*R/I_e))\n",
    "elif T > T_L:\n",
    "\tCs = min(Cs_calc, S_D1 / (T**2*R/I_e))\n",
    "\n",
    "print(f\"Adjusted Cs = {round(Cs, 4)}\")"
   ]
  },
  {
   "attachments": {},
   "cell_type": "markdown",
   "id": "a37bd287",
   "metadata": {},
   "source": [
    "### Effective Seismic Weight"
   ]
  },
  {
   "cell_type": "markdown",
   "id": "937c9b1d",
   "metadata": {},
   "source": [
    "<img src=\"./attachments/effective seismic weight.png\" width=500>"
   ]
  },
  {
   "cell_type": "code",
   "execution_count": null,
   "id": "b40ccc41",
   "metadata": {},
   "outputs": [
    {
     "data": {
      "text/plain": [
       "'total seismic weight = 320.25 kips'"
      ]
     },
     "execution_count": 59,
     "metadata": {},
     "output_type": "execute_result"
    }
   ],
   "source": [
    "roof_DL = 15 #psf\n",
    "wall_DL = 15 #psf\n",
    "\n",
    "roof_area = 120/2 * 350 #sf\n",
    "wall_perimeter = 350 #ft\n",
    "\n",
    "W = (\n",
    "\troof_DL*roof_area \\\n",
    "\t+ wall_DL*wall_perimeter \\\n",
    ") / 1000 #kips\n",
    "\n",
    "f\"total seismic weight = {round(W, 2)} kips\""
   ]
  },
  {
   "attachments": {},
   "cell_type": "markdown",
   "id": "12681615",
   "metadata": {},
   "source": [
    "### Base Shear"
   ]
  },
  {
   "cell_type": "code",
   "execution_count": null,
   "id": "0858b3dd",
   "metadata": {},
   "outputs": [
    {
     "data": {
      "text/plain": [
       "'Base Shear, V = 72.06 kips'"
      ]
     },
     "execution_count": 60,
     "metadata": {},
     "output_type": "execute_result"
    }
   ],
   "source": [
    "V = Cs * W #kips\n",
    "f\"Base Shear, V = {round(V, 2)} kips\""
   ]
  },
  {
   "attachments": {},
   "cell_type": "markdown",
   "id": "630dd027",
   "metadata": {},
   "source": [
    "### Vertical Distribution"
   ]
  },
  {
   "attachments": {},
   "cell_type": "markdown",
   "id": "02edc285",
   "metadata": {},
   "source": [
    "<img src=\"./attachments/vertical distribution.png\" width=500>"
   ]
  },
  {
   "cell_type": "code",
   "execution_count": null,
   "id": "567a0d34",
   "metadata": {},
   "outputs": [
    {
     "data": {
      "text/plain": [
       "'force on roof = 72.06 kips'"
      ]
     },
     "execution_count": 61,
     "metadata": {},
     "output_type": "execute_result"
    }
   ],
   "source": [
    "h_roof = hn #ft\n",
    "k = 1.0\n",
    "\n",
    "Cv_roof = 1.0\n",
    "\n",
    "F_roof = Cv_roof * V #kips\n",
    "f\"force on roof = {round(F_roof, 2)} kips\""
   ]
  },
  {
   "attachments": {},
   "cell_type": "markdown",
   "id": "3ab6a2f6",
   "metadata": {},
   "source": [
    "### Diaphragm Forces"
   ]
  },
  {
   "cell_type": "code",
   "execution_count": null,
   "id": "1aca6f6b",
   "metadata": {},
   "outputs": [
    {
     "data": {
      "text/plain": [
       "'Diaphragm Force = 72.06 kips'"
      ]
     },
     "execution_count": 62,
     "metadata": {},
     "output_type": "execute_result"
    }
   ],
   "source": [
    "F_px_calc = F_roof #kips\n",
    "F_design_roof = F_px_calc #kips\n",
    "f\"Diaphragm Force = {round(F_design_roof, 2)} kips\""
   ]
  },
  {
   "attachments": {},
   "cell_type": "markdown",
   "id": "ba3df0cd",
   "metadata": {},
   "source": [
    "### Story Drift"
   ]
  },
  {
   "cell_type": "code",
   "execution_count": null,
   "id": "57f57fef",
   "metadata": {},
   "outputs": [],
   "source": [
    "def seismic_drift(δ_xe):\n",
    "\tδ_x = C_d * δ_xe / I_e\n",
    "\treturn δ_x"
   ]
  },
  {
   "cell_type": "code",
   "execution_count": null,
   "id": "404ed246",
   "metadata": {},
   "outputs": [
    {
     "data": {
      "text/plain": [
       "'Seismic Drifts = [0.3333333333333333, 1.0, 16.666666666666668] in'"
      ]
     },
     "execution_count": 64,
     "metadata": {},
     "output_type": "execute_result"
    }
   ],
   "source": [
    "elastic_story_drifts = [0.1, 0.3, 5] #in (from external calculation)\n",
    "\n",
    "seismic_story_drifts = []\n",
    "for δ_xe in elastic_story_drifts:\n",
    "\tδ_x = seismic_drift(δ_xe)\n",
    "\tseismic_story_drifts.append(δ_x)\n",
    "\t\n",
    "f\"Seismic Drifts = {seismic_story_drifts} in\""
   ]
  }
 ],
 "metadata": {
  "kernelspec": {
   "display_name": "VENV_MAC",
   "language": "python",
   "name": "python3"
  },
  "language_info": {
   "codemirror_mode": {
    "name": "ipython",
    "version": 3
   },
   "file_extension": ".py",
   "mimetype": "text/x-python",
   "name": "python",
   "nbconvert_exporter": "python",
   "pygments_lexer": "ipython3",
   "version": "3.11.9"
  }
 },
 "nbformat": 4,
 "nbformat_minor": 5
}
