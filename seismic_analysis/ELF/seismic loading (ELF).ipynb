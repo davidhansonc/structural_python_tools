{
 "cells": [
  {
   "cell_type": "code",
   "execution_count": 1,
   "id": "8c41b636",
   "metadata": {},
   "outputs": [],
   "source": [
    "# Import Python Tools:\n",
    "import pandas as pd\n",
    "import numpy as np\n",
    "from numpy import sqrt, pi, average, cos, sin, tan, arcsin, arccos, arctan, deg2rad, rad2deg\n",
    "from seismic_analysis.ELF.seismic_coefficients import short_period_site_coefficient\n",
    "from seismic_analysis.ELF.seismic_coefficients import long_period_site_coefficient\n",
    "from seismic_analysis.ELF.seismic_coefficients import shear_wave_velocity"
   ]
  },
  {
   "attachments": {},
   "cell_type": "markdown",
   "id": "04f2be6d",
   "metadata": {},
   "source": [
    "<div style=\"page-break-after: always;\"></div>"
   ]
  },
  {
   "attachments": {},
   "cell_type": "markdown",
   "id": "15147325",
   "metadata": {},
   "source": [
    "# Seismic Load - Equivalent Lateral Force Method"
   ]
  },
  {
   "attachments": {},
   "cell_type": "markdown",
   "id": "b6be568d",
   "metadata": {},
   "source": [
    "### Seismic Parameters"
   ]
  },
  {
   "cell_type": "code",
   "execution_count": 2,
   "id": "4e219fde",
   "metadata": {},
   "outputs": [
    {
     "name": "stdout",
     "output_type": "stream",
     "text": [
      "V_s30 = 873 ft/sec\n",
      "F_a = 1.58, F_v = 2.45\n"
     ]
    }
   ],
   "source": [
    "risk_category = \"III\" #I, II, III, IV (this affects the importance factor, Ie)\n",
    "site_class = \"Default\" #B, C, D, E, or Default\n",
    "S_s = 0.267\n",
    "S_1 = 0.083\n",
    "\n",
    "V_s30 = shear_wave_velocity(site_class)\n",
    "print(f\"V_s30 = {V_s30} ft/sec\")\n",
    "F_a = short_period_site_coefficient(V_s30, S_s)\n",
    "if site_class == \"Default\":\n",
    "    F_a = max(1.2, F_a)\n",
    "F_v = long_period_site_coefficient(V_s30, S_1)\n",
    "print(f\"F_a = {round(F_a, 2)}, F_v = {round(F_v, 2)}\")"
   ]
  },
  {
   "cell_type": "code",
   "execution_count": 3,
   "id": "133bd6e2",
   "metadata": {},
   "outputs": [
    {
     "data": {
      "text/plain": [
       "'S_MS = 0.421g, S_M1 = 0.204g'"
      ]
     },
     "execution_count": 3,
     "metadata": {},
     "output_type": "execute_result"
    }
   ],
   "source": [
    "S_MS = S_s * F_a\n",
    "S_M1 = S_1 * F_v\n",
    "f\"S_MS = {round(S_MS, 3)}g, S_M1 = {round(S_M1, 3)}g\""
   ]
  },
  {
   "cell_type": "code",
   "execution_count": 4,
   "id": "1be88235",
   "metadata": {},
   "outputs": [
    {
     "data": {
      "text/plain": [
       "'I_e = 1.25, S_DS = 0.28g, S_D1 = 0.136g'"
      ]
     },
     "execution_count": 4,
     "metadata": {},
     "output_type": "execute_result"
    }
   ],
   "source": [
    "S_DS = 2/3 * S_MS\n",
    "S_D1 = 2/3 * S_M1\n",
    "T_L = 6 #sec\n",
    "if risk_category == \"III\":\n",
    "    I_e = 1.25\n",
    "elif risk_category == \"IV\":\n",
    "    I_e = 1.50\n",
    "else:\n",
    "    I_e = 1.00\n",
    "\n",
    "R = 3\n",
    "Ω_0 = 3\n",
    "C_d = 3\n",
    "ρ = 1.0\n",
    "f\"I_e = {I_e}, S_DS = {round(S_DS, 3)}g, S_D1 = {round(S_D1, 3)}g\""
   ]
  },
  {
   "attachments": {},
   "cell_type": "markdown",
   "id": "6aa97e41",
   "metadata": {},
   "source": [
    "### Seismic Response Coefficient, $C_s$"
   ]
  },
  {
   "cell_type": "markdown",
   "id": "fe811c77",
   "metadata": {},
   "source": [
    "**AISC7-16 Table 12.8-2 Values of Approximate Period Parameters C<sub>t</sub> and x**\n",
    "| Structure Type | C<sub>t</sub> | x |\n",
    "|-------------|-----|------------------|\n",
    "| Steel moment frames | 0.028 | 0.8 |\n",
    "| Concrete moment frames | 0.016 | 0.9 |\n",
    "| Steel eccentrically braced frames | 0.03 | 0.75 |\n",
    "| Steel buckling-restrained braced frames | 0.03 | 0.75 |\n",
    "| All other structural systems | 0.02 | 0.75 |\n",
    "\n",
    "* Steel or concrete moment frames: Frames resist 100% of the required seismic force and are not enclosed or adjoined by components that are more rigid and will prevent the frames from deflecting where subjected to seismic forces.\n",
    "* Steel eccentrically braced frames must be in accordance with Table 12.2-1 lines B1 or D1."
   ]
  },
  {
   "cell_type": "code",
   "execution_count": 5,
   "id": "6111b211",
   "metadata": {},
   "outputs": [
    {
     "data": {
      "text/plain": [
       "'Approximate fundamental period, Ta = 0.269 sec'"
      ]
     },
     "execution_count": 5,
     "metadata": {},
     "output_type": "execute_result"
    }
   ],
   "source": [
    "hn = 32 #ft\n",
    "Ct = 0.02\n",
    "x = 0.75\n",
    "T = Ct*hn**x\n",
    "\n",
    "f\"Approximate fundamental period, Ta = {round(T, 3)} sec\""
   ]
  },
  {
   "cell_type": "code",
   "execution_count": 6,
   "id": "f0433076",
   "metadata": {},
   "outputs": [
    {
     "name": "stdout",
     "output_type": "stream",
     "text": [
      "Prelim Cs = 0.1168\n",
      "Adjusted Cs = 0.1168\n"
     ]
    }
   ],
   "source": [
    "Cs_calc = S_DS / (R/I_e)\n",
    "print(f\"Prelim Cs = {round(Cs_calc, 4)}\")\n",
    "\n",
    "if T <= T_L:\n",
    "\tCs = min(Cs_calc, S_D1 / (T*R/I_e))\n",
    "elif T > T_L:\n",
    "\tCs = min(Cs_calc, S_D1 / (T**2*R/I_e))\n",
    "\n",
    "print(f\"Adjusted Cs = {round(Cs, 4)}\")"
   ]
  },
  {
   "attachments": {},
   "cell_type": "markdown",
   "id": "a37bd287",
   "metadata": {},
   "source": [
    "#### Effective Seismic Weight"
   ]
  },
  {
   "cell_type": "markdown",
   "id": "965a1337",
   "metadata": {},
   "source": [
    "Effective Seismic Weight = Dead load + ...\n",
    "\n",
    "* 25% of floor live load for storage areas\n",
    "* Partition load or minimum of 10 psf if partitions are required by Section 4.3.2\n",
    "* Total operating weight of permanent equipment\n",
    "* 20% of uniform design snow load if snow load > 30 psf\n",
    "* Weight of landscaping and other materials at roof gardens and similar areas\n",
    "\n",
    "--> storage exception: storage loads are not more than 5% of the effective seismic weight at that level and live load in public garages and open parking structures."
   ]
  },
  {
   "cell_type": "code",
   "execution_count": 7,
   "id": "b40ccc41",
   "metadata": {},
   "outputs": [
    {
     "data": {
      "text/plain": [
       "'total seismic weight = 1901.62 kips'"
      ]
     },
     "execution_count": 7,
     "metadata": {},
     "output_type": "execute_result"
    }
   ],
   "source": [
    "roof_DL = 15 #psf\n",
    "floor_SIDL = 10 #psf\n",
    "floor_SW = conc_density * 4.25/12 #psf\n",
    "wall_DL = 80 #psf\n",
    "height = hn #ft\n",
    "\n",
    "bldg_area = (1.5+31.333*4) * (1.5*2+25*3) + 20*(3.333+10.2+3.25+28.75+4.5+1.167) #sf\n",
    "wall_perimeter = (1.5+31.333*4)*2 + (1.5*2+25*3)*2 #ft\n",
    "\n",
    "W = (\n",
    "\troof_DL*bldg_area \\\n",
    "\t+ (floor_SIDL + floor_SW)*bldg_area \\\n",
    "\t+ wall_DL*wall_perimeter*height \\\n",
    ") / 1000 #kips\n",
    "\n",
    "f\"total seismic weight = {round(W, 2)} kips\""
   ]
  },
  {
   "attachments": {},
   "cell_type": "markdown",
   "id": "12681615",
   "metadata": {},
   "source": [
    "### Base Shear, V"
   ]
  },
  {
   "cell_type": "markdown",
   "id": "809c1c18",
   "metadata": {},
   "source": [
    "**Seismic Base Shear (ASCE7-16 12.8.1)**\n",
    "$$ V = C_s W $$\n",
    "\n",
    "* $V$ = seismic base shear\n",
    "* $C_s$ = seismic response coefficient\n",
    "* $W$ = effective seismic weight"
   ]
  },
  {
   "cell_type": "code",
   "execution_count": 8,
   "id": "0858b3dd",
   "metadata": {},
   "outputs": [
    {
     "data": {
      "text/plain": [
       "'Base Shear, V = 222.17 kips'"
      ]
     },
     "execution_count": 8,
     "metadata": {},
     "output_type": "execute_result"
    }
   ],
   "source": [
    "V = Cs * W #kips\n",
    "f\"Base Shear, V = {round(V, 2)} kips\""
   ]
  },
  {
   "attachments": {},
   "cell_type": "markdown",
   "id": "630dd027",
   "metadata": {},
   "source": [
    "### Vertical Distribution, F<sub>x</sub>"
   ]
  },
  {
   "cell_type": "markdown",
   "id": "30d4eafb",
   "metadata": {},
   "source": [
    "**Vertical Distribution of Seismic Forces (ASCE7-16 12.8.3)**\n",
    "\n",
    "$$F_x = C_{vx}V$$\n",
    "\n",
    "$$C_{vx} = \\frac{w_x h^k_x}{\\displaystyle \\sum_{i=1}^{n} w_i h^k_i}$$\n",
    "\n",
    "* $F_x$ = lateral seismic force induced at any level, kips\n",
    "* $C_{vx}$ = vertical distribution factor\n",
    "* $V$ = total base shear, kips\n",
    "* $w_i$ and $w_x$ = portion of total effective seismic weight of the structure located or assigned to level $i$ or $x$\n",
    "* $h_i$ and $h_x$ = height from the base to level $i$ or $x$\n",
    "* $k$ = an exponent related to the structural period:\n",
    "    - $k$ = 1 for T <= 0.5 s\n",
    "    - $k$ = 2 for T >= 2.5 s\n",
    "    - Linear interpolation in between."
   ]
  },
  {
   "cell_type": "code",
   "execution_count": 9,
   "id": "a11bbf36",
   "metadata": {},
   "outputs": [],
   "source": [
    "h_1 = 15 #ft\n",
    "h_2 = 32 #ft"
   ]
  },
  {
   "cell_type": "code",
   "execution_count": 10,
   "id": "0893ffc7",
   "metadata": {},
   "outputs": [
    {
     "name": "stdout",
     "output_type": "stream",
     "text": [
      "level 2 weight = 163.75 kips\n",
      "leve 1 weight = 1213.5 kips\n"
     ]
    }
   ],
   "source": [
    "h_floor_to_floor = hn / 2 #ft\n",
    "h_roof_trib = h_floor_to_floor / 2 #ft\n",
    "w_1 = ((floor_SIDL+floor_SW)*bldg_area + wall_DL*wall_perimeter*h_floor_to_floor) / 1000 #kips\n",
    "\n",
    "h_roof_trib = (height - h_2)/2\n",
    "w_2 = (roof_DL*bldg_area + wall_DL*wall_perimeter*h_roof_trib) / 1000 #kips\n",
    "\n",
    "k = x\n",
    "\n",
    "print(f\"level 2 weight = {round(w_2, 2)} kips\")\n",
    "print(f\"leve 1 weight = {round(w_1, 2)} kips\")"
   ]
  },
  {
   "cell_type": "code",
   "execution_count": 11,
   "id": "3eca4dc1",
   "metadata": {},
   "outputs": [
    {
     "data": {
      "text/html": [
       "<div>\n",
       "<style scoped>\n",
       "    .dataframe tbody tr th:only-of-type {\n",
       "        vertical-align: middle;\n",
       "    }\n",
       "\n",
       "    .dataframe tbody tr th {\n",
       "        vertical-align: top;\n",
       "    }\n",
       "\n",
       "    .dataframe thead th {\n",
       "        text-align: right;\n",
       "    }\n",
       "</style>\n",
       "<table border=\"1\" class=\"dataframe\">\n",
       "  <thead>\n",
       "    <tr style=\"text-align: right;\">\n",
       "      <th></th>\n",
       "      <th>w_i</th>\n",
       "      <th>h_i</th>\n",
       "      <th>w_i*h_i^k</th>\n",
       "    </tr>\n",
       "  </thead>\n",
       "  <tbody>\n",
       "    <tr>\n",
       "      <th>Level 2</th>\n",
       "      <td>163.75</td>\n",
       "      <td>32</td>\n",
       "      <td>2203.19</td>\n",
       "    </tr>\n",
       "    <tr>\n",
       "      <th>Level 1</th>\n",
       "      <td>1213.50</td>\n",
       "      <td>15</td>\n",
       "      <td>9249.28</td>\n",
       "    </tr>\n",
       "  </tbody>\n",
       "</table>\n",
       "</div>"
      ],
      "text/plain": [
       "             w_i  h_i  w_i*h_i^k\n",
       "Level 2   163.75   32    2203.19\n",
       "Level 1  1213.50   15    9249.28"
      ]
     },
     "execution_count": 11,
     "metadata": {},
     "output_type": "execute_result"
    }
   ],
   "source": [
    "shear_distribution = pd.DataFrame(\n",
    "    [\n",
    "    [w_2, h_2, w_2*h_2**k],\n",
    "    [w_1, h_1, w_1*h_1**k],\n",
    "    ],\n",
    "    columns=[\"w_i\", \"h_i\", \"w_i*h_i^k\"]\n",
    ") #table creation\n",
    "\n",
    "shear_distribution.index = range(len(shear_distribution), 0, -1) #for table display\n",
    "shear_distribution.index = shear_distribution.index.map(lambda x: f\"Level {x}\") #for table display\n",
    "\n",
    "shear_distribution.round(2)"
   ]
  },
  {
   "cell_type": "code",
   "execution_count": 12,
   "id": "66b608a7",
   "metadata": {},
   "outputs": [
    {
     "data": {
      "text/plain": [
       "11452.47"
      ]
     },
     "execution_count": 12,
     "metadata": {},
     "output_type": "execute_result"
    }
   ],
   "source": [
    "sum_w_h_k = shear_distribution[\"w_i*h_i^k\"].sum()\n",
    "sum_w_h_k.round(2)"
   ]
  },
  {
   "cell_type": "code",
   "execution_count": 13,
   "id": "6599185a",
   "metadata": {},
   "outputs": [
    {
     "data": {
      "text/html": [
       "<div>\n",
       "<style scoped>\n",
       "    .dataframe tbody tr th:only-of-type {\n",
       "        vertical-align: middle;\n",
       "    }\n",
       "\n",
       "    .dataframe tbody tr th {\n",
       "        vertical-align: top;\n",
       "    }\n",
       "\n",
       "    .dataframe thead th {\n",
       "        text-align: right;\n",
       "    }\n",
       "</style>\n",
       "<table border=\"1\" class=\"dataframe\">\n",
       "  <thead>\n",
       "    <tr style=\"text-align: right;\">\n",
       "      <th></th>\n",
       "      <th>w_i</th>\n",
       "      <th>h_i</th>\n",
       "      <th>w_i*h_i^k</th>\n",
       "      <th>C_vx</th>\n",
       "      <th>Fx</th>\n",
       "    </tr>\n",
       "  </thead>\n",
       "  <tbody>\n",
       "    <tr>\n",
       "      <th>Level 2</th>\n",
       "      <td>163.75</td>\n",
       "      <td>32</td>\n",
       "      <td>2203.19</td>\n",
       "      <td>0.19</td>\n",
       "      <td>42.74</td>\n",
       "    </tr>\n",
       "    <tr>\n",
       "      <th>Level 1</th>\n",
       "      <td>1213.50</td>\n",
       "      <td>15</td>\n",
       "      <td>9249.28</td>\n",
       "      <td>0.81</td>\n",
       "      <td>179.43</td>\n",
       "    </tr>\n",
       "  </tbody>\n",
       "</table>\n",
       "</div>"
      ],
      "text/plain": [
       "             w_i  h_i  w_i*h_i^k  C_vx      Fx\n",
       "Level 2   163.75   32    2203.19  0.19   42.74\n",
       "Level 1  1213.50   15    9249.28  0.81  179.43"
      ]
     },
     "execution_count": 13,
     "metadata": {},
     "output_type": "execute_result"
    }
   ],
   "source": [
    "shear_distribution[\"C_vx\"] = shear_distribution[\"w_i*h_i^k\"] / sum_w_h_k\n",
    "shear_distribution[\"Fx\"] = shear_distribution[\"C_vx\"] * V\n",
    "shear_distribution.round(2)"
   ]
  },
  {
   "attachments": {},
   "cell_type": "markdown",
   "id": "3ab6a2f6",
   "metadata": {},
   "source": [
    "### Diaphragm Forces"
   ]
  },
  {
   "attachments": {},
   "cell_type": "markdown",
   "id": "ba3df0cd",
   "metadata": {},
   "source": [
    "### Story Drift"
   ]
  },
  {
   "cell_type": "code",
   "execution_count": 14,
   "id": "57f57fef",
   "metadata": {},
   "outputs": [],
   "source": [
    "def seismic_drift(δ_xe):\n",
    "\tδ_x = C_d * δ_xe / I_e\n",
    "\treturn δ_x"
   ]
  },
  {
   "cell_type": "code",
   "execution_count": 15,
   "id": "404ed246",
   "metadata": {},
   "outputs": [
    {
     "data": {
      "text/plain": [
       "'Seismic Drifts = [0.24, 0.72, 12.0] in'"
      ]
     },
     "execution_count": 15,
     "metadata": {},
     "output_type": "execute_result"
    }
   ],
   "source": [
    "elastic_story_drifts = [0.1, 0.3, 5] #in (from external calculation)\n",
    "\n",
    "seismic_story_drifts = []\n",
    "for δ_xe in elastic_story_drifts:\n",
    "\tδ_x = seismic_drift(δ_xe)\n",
    "\tseismic_story_drifts.append(round(δ_x, 3))\n",
    "\t\n",
    "f\"Seismic Drifts = {seismic_story_drifts} in\""
   ]
  }
 ],
 "metadata": {
  "kernelspec": {
   "display_name": "VENV_MAC",
   "language": "python",
   "name": "python3"
  },
  "language_info": {
   "codemirror_mode": {
    "name": "ipython",
    "version": 3
   },
   "file_extension": ".py",
   "mimetype": "text/x-python",
   "name": "python",
   "nbconvert_exporter": "python",
   "pygments_lexer": "ipython3",
   "version": "3.11.9"
  }
 },
 "nbformat": 4,
 "nbformat_minor": 5
}
