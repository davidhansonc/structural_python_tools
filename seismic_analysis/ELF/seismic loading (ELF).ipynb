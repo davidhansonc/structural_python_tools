{
 "cells": [
  {
   "cell_type": "code",
   "execution_count": 88,
   "id": "8c41b636",
   "metadata": {},
   "outputs": [],
   "source": [
    "# Import Python Tools:\n",
    "from IPython.display import display, Latex\n",
    "import pandas as pd\n",
    "import numpy as np\n",
    "from numpy import sqrt, pi, average, cos, sin, tan, arcsin, arccos, arctan, deg2rad, rad2deg\n",
    "# import sectionproperties as shape\n",
    "\n",
    "from ASCE import load_combos\n",
    "\n",
    "from steel_design.AISC import aisc\n",
    "steel_density = 490 / 12**3 #pci\n",
    "\n",
    "from concrete_design import material_properties as conc\n",
    "from concrete_design.steel_reinforcement import rebar_df as rebar\n",
    "conc_density = 150.0 #pcf\n",
    "\n",
    "from masonry_design import material_properties as cmu\n",
    "from masonry_design.material_properties import NW_CMU #psf\n",
    "\n",
    "from wood_design.sawn_lumber.ref_design_values.table_4a import table_4a_load\n",
    "from wood_design.sawn_lumber.ref_design_values.C_F import C_F_load\n",
    "table_4a = table_4a_load(species=\"DF\")"
   ]
  },
  {
   "attachments": {},
   "cell_type": "markdown",
   "id": "04f2be6d",
   "metadata": {},
   "source": [
    "<div style=\"page-break-after: always;\"></div>"
   ]
  },
  {
   "attachments": {},
   "cell_type": "markdown",
   "id": "15147325",
   "metadata": {},
   "source": [
    "# Seismic Load - Equivalent Lateral Force Method"
   ]
  },
  {
   "attachments": {},
   "cell_type": "markdown",
   "id": "b6be568d",
   "metadata": {},
   "source": [
    "### Seismic Parameters"
   ]
  },
  {
   "cell_type": "code",
   "execution_count": null,
   "id": "4e219fde",
   "metadata": {},
   "outputs": [],
   "source": [
    "site_class = \"default\" #A, B, C, D, E, F, or default\n",
    "S_s = 1.5\n",
    "S_1 = 0.683\n",
    "\n",
    "F_a = 1.2\n",
    "F_v = \"na\""
   ]
  },
  {
   "cell_type": "code",
   "execution_count": 89,
   "id": "1be88235",
   "metadata": {},
   "outputs": [],
   "source": [
    "S_DS = 0.203\n",
    "S_D1 = 0.179\n",
    "T_L = 8 #sec\n",
    "I_e = 1.0\n",
    "\n",
    "R = 6.5\n",
    "Ω_0 = 3\n",
    "C_d = 4\n",
    "ρ = 1.0"
   ]
  },
  {
   "attachments": {},
   "cell_type": "markdown",
   "id": "6aa97e41",
   "metadata": {},
   "source": [
    "### Seismic Response Coefficient, $C_s$"
   ]
  },
  {
   "attachments": {},
   "cell_type": "markdown",
   "id": "f8304272",
   "metadata": {},
   "source": [
    "<img src=\"./attachments/Table_12.8-2.png\" width=500>"
   ]
  },
  {
   "cell_type": "code",
   "execution_count": 90,
   "id": "6111b211",
   "metadata": {},
   "outputs": [
    {
     "data": {
      "text/plain": [
       "'Approximate fundamental period, Ta = 0.16 sec'"
      ]
     },
     "execution_count": 90,
     "metadata": {},
     "output_type": "execute_result"
    }
   ],
   "source": [
    "hn = 16 #ft\n",
    "Ct = 0.02\n",
    "x = 0.75\n",
    "T = Ct*hn**x\n",
    "\n",
    "f\"Approximate fundamental period, Ta = {round(T, 3)} sec\""
   ]
  },
  {
   "cell_type": "code",
   "execution_count": 91,
   "id": "f0433076",
   "metadata": {},
   "outputs": [
    {
     "data": {
      "text/plain": [
       "'Cs = 0.0312'"
      ]
     },
     "execution_count": 91,
     "metadata": {},
     "output_type": "execute_result"
    }
   ],
   "source": [
    "Cs_calc = S_DS / (R/I_e)\n",
    "\n",
    "if T <= T_L:\n",
    "\tCs = min(Cs_calc, S_D1 / (T*R/I_e))\n",
    "elif T > T_L:\n",
    "\tCs = min(Cs_calc, S_D1 / (T**2*R/I_e))\n",
    "\n",
    "f\"Cs = {round(Cs, 4)}\""
   ]
  },
  {
   "attachments": {},
   "cell_type": "markdown",
   "id": "a37bd287",
   "metadata": {},
   "source": [
    "### Effective Seismic Weight"
   ]
  },
  {
   "cell_type": "code",
   "execution_count": 92,
   "id": "b40ccc41",
   "metadata": {},
   "outputs": [
    {
     "data": {
      "text/plain": [
       "'total seismic weight = 0.16 kips'"
      ]
     },
     "execution_count": 92,
     "metadata": {},
     "output_type": "execute_result"
    }
   ],
   "source": [
    "roof_DL = 15 #psf\n",
    "wall_2x4_DL = 11 #psf\n",
    "wall_2x6_DL = 8 #psf\n",
    "cladded_wall_DL = 20 #psf\n",
    "\n",
    "roof_area = 9660 #sf\n",
    "wall_2x6_perimeter = 506 #ft\n",
    "wall_2x4_perimeter = 391 #ft\n",
    "wall_cladded_perimeter = 211 #ft\n",
    "\n",
    "W = (\n",
    "\troof_DL*roof_area \\\n",
    "\t+ wall_2x4_DL*wall_2x4_perimeter \\\n",
    "\t+ wall_2x6_DL*wall_2x6_perimeter \\\n",
    "\t+ cladded_wall_DL*wall_cladded_perimeter\n",
    ") / 1000 #kips\n",
    "\n",
    "f\"total seismic weight = {round(W / 1000, 2)} kips\""
   ]
  },
  {
   "attachments": {},
   "cell_type": "markdown",
   "id": "12681615",
   "metadata": {},
   "source": [
    "### Base Shear"
   ]
  },
  {
   "cell_type": "code",
   "execution_count": 93,
   "id": "0858b3dd",
   "metadata": {},
   "outputs": [
    {
     "data": {
      "text/plain": [
       "'Base Shear, V = 4.92 kips'"
      ]
     },
     "execution_count": 93,
     "metadata": {},
     "output_type": "execute_result"
    }
   ],
   "source": [
    "V = Cs * W #kips\n",
    "f\"Base Shear, V = {round(V, 2)} kips\""
   ]
  },
  {
   "attachments": {},
   "cell_type": "markdown",
   "id": "630dd027",
   "metadata": {},
   "source": [
    "### Vertical Distribution"
   ]
  },
  {
   "attachments": {},
   "cell_type": "markdown",
   "id": "02edc285",
   "metadata": {},
   "source": [
    "<img src=\"./attachments/vertical distribution.png\" width=500>"
   ]
  },
  {
   "cell_type": "code",
   "execution_count": 83,
   "id": "567a0d34",
   "metadata": {},
   "outputs": [
    {
     "data": {
      "text/plain": [
       "'force on roof = 4.92 kips'"
      ]
     },
     "execution_count": 83,
     "metadata": {},
     "output_type": "execute_result"
    }
   ],
   "source": [
    "h_roof = hn #ft\n",
    "k = 1.0\n",
    "\n",
    "Cv_roof = 1.0\n",
    "\n",
    "F_roof = Cv_roof * V #kips\n",
    "f\"force on roof = {round(F_roof, 2)} kips\""
   ]
  },
  {
   "attachments": {},
   "cell_type": "markdown",
   "id": "3ab6a2f6",
   "metadata": {},
   "source": [
    "### Diaphragm Forces"
   ]
  },
  {
   "cell_type": "code",
   "execution_count": 84,
   "id": "1aca6f6b",
   "metadata": {},
   "outputs": [
    {
     "data": {
      "text/plain": [
       "'Diaphragm Force = 4.92 kips'"
      ]
     },
     "execution_count": 84,
     "metadata": {},
     "output_type": "execute_result"
    }
   ],
   "source": [
    "F_px_calc = F_roof #kips\n",
    "F_design_roof = F_px_calc #kips\n",
    "f\"Diaphragm Force = {round(F_design_roof, 2)} kips\""
   ]
  },
  {
   "attachments": {},
   "cell_type": "markdown",
   "id": "ba3df0cd",
   "metadata": {},
   "source": [
    "### Story Drift"
   ]
  },
  {
   "cell_type": "code",
   "execution_count": 85,
   "id": "57f57fef",
   "metadata": {},
   "outputs": [],
   "source": [
    "def seismic_drift(δ_xe):\n",
    "\tδ_x = C_d * δ_xe / I_e\n",
    "\treturn δ_x"
   ]
  },
  {
   "cell_type": "code",
   "execution_count": 87,
   "id": "404ed246",
   "metadata": {},
   "outputs": [
    {
     "data": {
      "text/plain": [
       "'Seismic Drifts = [0.4, 1.2, 20.0] in'"
      ]
     },
     "execution_count": 87,
     "metadata": {},
     "output_type": "execute_result"
    }
   ],
   "source": [
    "elastic_story_drifts = [0.1, 0.3, 5] #in (from external calculation)\n",
    "\n",
    "seismic_story_drifts = []\n",
    "for δ_xe in elastic_story_drifts:\n",
    "\tδ_x = seismic_drift(δ_xe)\n",
    "\tseismic_story_drifts.append(δ_x)\n",
    "\t\n",
    "f\"Seismic Drifts = {seismic_story_drifts} in\""
   ]
  }
 ],
 "metadata": {
  "kernelspec": {
   "display_name": "VENV_MAC",
   "language": "python",
   "name": "python3"
  },
  "language_info": {
   "codemirror_mode": {
    "name": "ipython",
    "version": 3
   },
   "file_extension": ".py",
   "mimetype": "text/x-python",
   "name": "python",
   "nbconvert_exporter": "python",
   "pygments_lexer": "ipython3",
   "version": "3.11.3"
  }
 },
 "nbformat": 4,
 "nbformat_minor": 5
}
