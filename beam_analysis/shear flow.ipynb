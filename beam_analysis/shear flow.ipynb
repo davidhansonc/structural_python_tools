{
 "cells": [
  {
   "cell_type": "code",
   "execution_count": 59,
   "id": "71191a63",
   "metadata": {},
   "outputs": [],
   "source": [
    "# Import Python Tools:\n",
    "import pandas as pd\n",
    "import numpy as np\n",
    "from numpy import sqrt, pi, average, cos, sin, tan, arcsin, arccos, arctan, deg2rad, rad2deg\n",
    "# import sectionproperties as shape\n",
    "from WhatIfAnalysis import GoalSeek\n",
    "\n",
    "from ASCE import load_combos\n",
    "\n",
    "from steel_design.AISC import aisc, aisc_W, aisc_L\n",
    "steel_density = 0.2833 #pci\n",
    "\n",
    "from concrete_design import material_properties as conc\n",
    "from concrete_design.steel_reinforcement import rebar_df as rebar\n",
    "conc_density = 150 #pcf\n",
    "\n",
    "from masonry_design import material_properties as cmu\n",
    "from masonry_design.material_properties import NW_CMU #psf"
   ]
  },
  {
   "cell_type": "markdown",
   "id": "a7055139",
   "metadata": {},
   "source": [
    "<div style=\"page-break-after: always;\"></div>"
   ]
  },
  {
   "cell_type": "code",
   "execution_count": 64,
   "id": "5815c6ee",
   "metadata": {},
   "outputs": [],
   "source": [
    "V = 3.4 #kips (equivalent shear over one angle)"
   ]
  },
  {
   "cell_type": "code",
   "execution_count": 65,
   "id": "04b46e89",
   "metadata": {},
   "outputs": [
    {
     "name": "stdout",
     "output_type": "stream",
     "text": [
      "I conc = 1280.0 in^4\n",
      "neutral axis from top of slab = 4.041 in \n",
      "\n",
      "I total = 1332.41 in^4 \n",
      "\n",
      "At center of slab: \n",
      " Q = 9.73 in^3\n"
     ]
    }
   ],
   "source": [
    "b = 30 #in\n",
    "h = 8 #in\n",
    "A_conc = b * h #in^2\n",
    "y_conc = h/2 #in\n",
    "I_conc = b * h**3 / 12 #in^4\n",
    "print(f\"I conc = {I_conc} in^4\")\n",
    "\n",
    "y_na = (y_conc * A_conc + (h+y_angle) * A_angle) \\\n",
    "        / (A_conc + A_angle) #in (from top of slab)\n",
    "print(f\"neutral axis from top of slab = {round(y_na, 3)} in \\n\")\n",
    "\n",
    "I_total = I_conc + A_conc * (y_conc - y_na)**2 \\\n",
    "        + I_angle + A_angle * (h+y_angle - y_na)**2 #in^4\n",
    "print(f\"I total = {round(I_total, 2)} in^4 \\n\")\n",
    "\n",
    "y_shear_plane = h #in (from top of slab)\n",
    "\n",
    "A_above = y_shear_plane * b #in^2\n",
    "y_avg = y_na - y_shear_plane/2 #in\n",
    "Q = A_above * y_avg #in^3\n",
    "print(f\"At center of slab: \\n Q = {round(Q, 2)} in^3\")"
   ]
  },
  {
   "cell_type": "code",
   "execution_count": 66,
   "id": "738af73a",
   "metadata": {},
   "outputs": [
    {
     "name": "stdout",
     "output_type": "stream",
     "text": [
      "q = 297.83 lbs/ft\n"
     ]
    }
   ],
   "source": [
    "q = V * Q / I_total * 1000 * 12 #lbs/ft\n",
    "print(f\"q = {round(q, 2)} lbs/ft\")"
   ]
  },
  {
   "cell_type": "code",
   "execution_count": 67,
   "id": "07f9e087",
   "metadata": {},
   "outputs": [
    {
     "name": "stdout",
     "output_type": "stream",
     "text": [
      "I conc = 1280.0 in^4\n",
      "neutral axis from top of slab = 7.959 in \n",
      "\n",
      "At center of slab: \n",
      " Q = 11.5 in^3\n"
     ]
    }
   ],
   "source": [
    "b = 30 #in\n",
    "h = 8 #in\n",
    "A_conc = b * h #in^2\n",
    "y_conc = h/2 #in\n",
    "I_conc = b * h**3 / 12 #in^4\n",
    "print(f\"I conc = {I_conc} in^4\")\n",
    "\n",
    "y_na = ((y_conc+4) * A_conc + (4-y_angle) * A_angle) \\\n",
    "        / (A_conc + A_angle) #in (from bottom of slab)\n",
    "print(f\"neutral axis from bottom of slab = {round(y_na, 3)} in \\n\")\n",
    "\n",
    "y_shear_plane = 4 #in (from top of slab)\n",
    "\n",
    "A_below = A_angle #in^2\n",
    "y_avg = y_na - y_shear_plane/2 #in\n",
    "Q = A_below * y_avg #in^3\n",
    "print(f\"At center of slab: \\n Q = {round(Q, 2)} in^3\")"
   ]
  },
  {
   "cell_type": "code",
   "execution_count": 68,
   "id": "263d1dc6",
   "metadata": {},
   "outputs": [
    {
     "name": "stdout",
     "output_type": "stream",
     "text": [
      "q = 352.2 lbs/ft\n"
     ]
    }
   ],
   "source": [
    "q = V * Q / I_total * 1000 * 12 #lbs/ft\n",
    "print(f\"q = {round(q, 2)} lbs/ft\")"
   ]
  }
 ],
 "metadata": {
  "kernelspec": {
   "display_name": "VENV_MAC",
   "language": "python",
   "name": "python3"
  },
  "language_info": {
   "codemirror_mode": {
    "name": "ipython",
    "version": 3
   },
   "file_extension": ".py",
   "mimetype": "text/x-python",
   "name": "python",
   "nbconvert_exporter": "python",
   "pygments_lexer": "ipython3",
   "version": "3.11.9"
  }
 },
 "nbformat": 4,
 "nbformat_minor": 5
}
