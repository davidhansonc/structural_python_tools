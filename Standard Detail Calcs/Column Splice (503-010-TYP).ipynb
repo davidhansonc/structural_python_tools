{
 "cells": [
  {
   "cell_type": "markdown",
   "id": "7ee5e963",
   "metadata": {},
   "source": [
    "# Column Splice (503-010-TYP)"
   ]
  },
  {
   "cell_type": "markdown",
   "id": "5901aed3",
   "metadata": {},
   "source": [
    "## Moment"
   ]
  },
  {
   "cell_type": "markdown",
   "id": "c2233304",
   "metadata": {},
   "source": [
    "## Shear"
   ]
  },
  {
   "cell_type": "markdown",
   "id": "94dd1b3f",
   "metadata": {},
   "source": [
    "## Tension"
   ]
  },
  {
   "cell_type": "code",
   "execution_count": null,
   "id": "db292000",
   "metadata": {},
   "outputs": [],
   "source": []
  }
 ],
 "metadata": {
  "kernelspec": {
   "display_name": "Python 3 (ipykernel)",
   "language": "python",
   "name": "python3"
  },
  "language_info": {
   "codemirror_mode": {
    "name": "ipython",
    "version": 3
   },
   "file_extension": ".py",
   "mimetype": "text/x-python",
   "name": "python",
   "nbconvert_exporter": "python",
   "pygments_lexer": "ipython3",
   "version": "3.9.2"
  }
 },
 "nbformat": 4,
 "nbformat_minor": 5
}
