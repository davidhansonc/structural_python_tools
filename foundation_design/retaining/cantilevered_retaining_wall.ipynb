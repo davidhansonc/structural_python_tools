{
 "cells": [
  {
   "cell_type": "code",
   "execution_count": 1,
   "id": "8c41b636",
   "metadata": {},
   "outputs": [],
   "source": [
    "# Import Python Tools:\n",
    "from IPython.display import display, Latex\n",
    "import pandas as pd\n",
    "import numpy as np\n",
    "from numpy import sqrt, pi, average, cos, sin, tan, arcsin, arccos, arctan, deg2rad, rad2deg\n",
    "# import sectionproperties as shape\n",
    "\n",
    "from ASCE import load_combos\n",
    "\n",
    "from steel_design.AISC import aisc\n",
    "steel_density = 0.2833 #pci\n",
    "\n",
    "from concrete_design import material_properties as conc\n",
    "from concrete_design.steel_reinforcement import rebar_df as rebar\n",
    "conc_density = 150.0 #pcf\n",
    "\n",
    "from masonry_design import material_properties as cmu\n",
    "from masonry_design.material_properties import NW_CMU #psf\n",
    "\n",
    "from wood_design.ref_design_values.table_4a.table_4a import table_4a_load\n",
    "table_4a = table_4a_load(species=\"DF\")"
   ]
  },
  {
   "attachments": {},
   "cell_type": "markdown",
   "id": "04f2be6d",
   "metadata": {},
   "source": [
    "<div style=\"page-break-after: always;\"></div>"
   ]
  },
  {
   "attachments": {},
   "cell_type": "markdown",
   "id": "ef1649b8",
   "metadata": {},
   "source": [
    "# Cantilevered Retaining Wall"
   ]
  },
  {
   "attachments": {},
   "cell_type": "markdown",
   "id": "e525cb01",
   "metadata": {},
   "source": [
    "## Soil"
   ]
  },
  {
   "attachments": {},
   "cell_type": "markdown",
   "id": "7e9691a2",
   "metadata": {},
   "source": [
    "### General Parameters"
   ]
  },
  {
   "cell_type": "code",
   "execution_count": 11,
   "id": "6112d2a6",
   "metadata": {},
   "outputs": [],
   "source": [
    "FS_sliding = 1.5\n",
    "FS_overturning = 1.5"
   ]
  },
  {
   "attachments": {},
   "cell_type": "markdown",
   "id": "c65288c0",
   "metadata": {},
   "source": [
    "#### Soil Geometry"
   ]
  },
  {
   "cell_type": "code",
   "execution_count": 2,
   "id": "93db7464",
   "metadata": {},
   "outputs": [],
   "source": [
    "retained_height = 6.5 #ft\n",
    "wall_height_above = 4 #ft (wall height extended above retained soil)\n",
    "soil_over_toe = 18 #in (height of soil over top of toe)\n",
    "soil_slope = 1 #ft (horizontal distance for every 1' vertical)\n",
    "water_above_footing = 0 #ft (water table above bottom of footing)"
   ]
  },
  {
   "attachments": {},
   "cell_type": "markdown",
   "id": "0729e3d5",
   "metadata": {},
   "source": [
    "#### Wall Geometry"
   ]
  },
  {
   "cell_type": "code",
   "execution_count": 3,
   "id": "ec7b4795",
   "metadata": {},
   "outputs": [],
   "source": [
    "footing_thickness = 12 #in"
   ]
  },
  {
   "attachments": {},
   "cell_type": "markdown",
   "id": "5f743578",
   "metadata": {},
   "source": [
    "#### Soil Values"
   ]
  },
  {
   "cell_type": "code",
   "execution_count": 4,
   "id": "4900ca6d",
   "metadata": {},
   "outputs": [],
   "source": [
    "σ_a = 37 #psf/ft (active soil pressure)\n",
    "σ_0 = 60 #psf/ft (at-rest soil pressure)\n",
    "σ_p = 280 #psf/ft (passive soil pressure)\n",
    "\n",
    "γ_heel = 110 #pcf (heel side soil density)\n",
    "γ_toe = 110 #pcf (toe side soil density)\n",
    "\n",
    "# k_s = 250 #pci (soil spring reaction modulus)"
   ]
  },
  {
   "attachments": {},
   "cell_type": "markdown",
   "id": "0286d987",
   "metadata": {},
   "source": [
    "### Loads"
   ]
  },
  {
   "attachments": {},
   "cell_type": "markdown",
   "id": "d008337c",
   "metadata": {},
   "source": [
    "#### Active Forces"
   ]
  },
  {
   "cell_type": "code",
   "execution_count": 5,
   "id": "b8a1c7cf",
   "metadata": {},
   "outputs": [
    {
     "name": "stdout",
     "output_type": "stream",
     "text": [
      "β = 45.0 degrees\n"
     ]
    }
   ],
   "source": [
    "H_heel = retained_height #ft\n",
    "β = arctan(1 / soil_slope) #rad\n",
    "print(f\"β = {round(rad2deg(β), 2)} degrees\")"
   ]
  },
  {
   "cell_type": "code",
   "execution_count": 6,
   "id": "49bfca6f",
   "metadata": {},
   "outputs": [
    {
     "name": "stdout",
     "output_type": "stream",
     "text": [
      "P_a = 552.69 lbs/ft width\n"
     ]
    }
   ],
   "source": [
    "P_a = 1/2 * σ_a * H_heel**2 * cos(β)\n",
    "print(f\"P_a = {round(P_a, 2)} lbs/ft width\")"
   ]
  },
  {
   "cell_type": "code",
   "execution_count": 7,
   "id": "deffc3f3",
   "metadata": {},
   "outputs": [
    {
     "name": "stdout",
     "output_type": "stream",
     "text": [
      "V_a = 552.69 lbs/ft width\n"
     ]
    }
   ],
   "source": [
    "V_a = 1/2 * σ_a * H_heel**2 * sin(β)\n",
    "print(f\"V_a = {round(V_a, 2)} lbs/ft width\")"
   ]
  },
  {
   "attachments": {},
   "cell_type": "markdown",
   "id": "236e531a",
   "metadata": {},
   "source": [
    "#### Passive Forces"
   ]
  },
  {
   "cell_type": "code",
   "execution_count": 8,
   "id": "9df3c47b",
   "metadata": {},
   "outputs": [
    {
     "name": "stdout",
     "output_type": "stream",
     "text": [
      "2.5 ft\n"
     ]
    }
   ],
   "source": [
    "H_toe = (soil_over_toe + footing_thickness) / 12 #ft\n",
    "print(f\"{H_toe} ft\")"
   ]
  },
  {
   "cell_type": "code",
   "execution_count": 9,
   "id": "2a0f09dd",
   "metadata": {},
   "outputs": [
    {
     "name": "stdout",
     "output_type": "stream",
     "text": [
      "P_a = 618.72 lbs/ft width\n"
     ]
    }
   ],
   "source": [
    "P_a = 1/2 * σ_p * H_toe**2 * cos(β)\n",
    "print(f\"P_a = {round(P_a, 2)} lbs/ft width\")"
   ]
  },
  {
   "cell_type": "code",
   "execution_count": 10,
   "id": "26fca51c",
   "metadata": {},
   "outputs": [
    {
     "name": "stdout",
     "output_type": "stream",
     "text": [
      "V_a = 618.72 lbs/ft width\n"
     ]
    }
   ],
   "source": [
    "V_a = 1/2 * σ_p * H_toe**2 * sin(β)\n",
    "print(f\"V_a = {round(V_a, 2)} lbs/ft width\")"
   ]
  },
  {
   "attachments": {},
   "cell_type": "markdown",
   "id": "12dea982",
   "metadata": {},
   "source": [
    "### Overturning"
   ]
  },
  {
   "attachments": {},
   "cell_type": "markdown",
   "id": "12b3eca7",
   "metadata": {},
   "source": [
    "### Sliding"
   ]
  },
  {
   "attachments": {},
   "cell_type": "markdown",
   "id": "cacf9733",
   "metadata": {},
   "source": [
    "### Resultant Normal Force Location"
   ]
  },
  {
   "attachments": {},
   "cell_type": "markdown",
   "id": "17d0be4d",
   "metadata": {},
   "source": [
    "### Bearing"
   ]
  },
  {
   "attachments": {},
   "cell_type": "markdown",
   "id": "91278fa7",
   "metadata": {},
   "source": [
    "### Deep-Seated Shear"
   ]
  },
  {
   "attachments": {},
   "cell_type": "markdown",
   "id": "268b81db",
   "metadata": {},
   "source": [
    "### Settlement"
   ]
  },
  {
   "attachments": {},
   "cell_type": "markdown",
   "id": "3e5f3128",
   "metadata": {},
   "source": [
    "### Global Stability"
   ]
  },
  {
   "attachments": {},
   "cell_type": "markdown",
   "id": "180beec6",
   "metadata": {},
   "source": [
    "### Tilt"
   ]
  },
  {
   "attachments": {},
   "cell_type": "markdown",
   "id": "99f9a067",
   "metadata": {},
   "source": [
    "## Structure"
   ]
  },
  {
   "attachments": {},
   "cell_type": "markdown",
   "id": "64bfdf20",
   "metadata": {},
   "source": [
    "### Stem"
   ]
  },
  {
   "attachments": {},
   "cell_type": "markdown",
   "id": "e16e4330",
   "metadata": {},
   "source": [
    "### Footing"
   ]
  }
 ],
 "metadata": {
  "kernelspec": {
   "display_name": "VENV",
   "language": "python",
   "name": "venv"
  },
  "language_info": {
   "codemirror_mode": {
    "name": "ipython",
    "version": 3
   },
   "file_extension": ".py",
   "mimetype": "text/x-python",
   "name": "python",
   "nbconvert_exporter": "python",
   "pygments_lexer": "ipython3",
   "version": "3.11.3"
  },
  "vscode": {
   "interpreter": {
    "hash": "8c340b0736d8d4910d2ca7989655b8187219e0906e973b44a7c0150cb2eac932"
   }
  }
 },
 "nbformat": 4,
 "nbformat_minor": 5
}
