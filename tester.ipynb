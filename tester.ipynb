{
 "cells": [
  {
   "cell_type": "code",
   "execution_count": null,
   "id": "c68d3616",
   "metadata": {},
   "outputs": [],
   "source": [
    "# Import Python Tools:\n",
    "from IPython.display import display, Latex\n",
    "import pandas as pd\n",
    "import numpy as np\n",
    "from numpy import sqrt, pi, average, cos, sin, tan, arcsin, arccos, arctan, deg2rad, rad2deg\n",
    "# import sectionproperties as shape\n",
    "\n",
    "from ASCE import load_combos\n",
    "\n",
    "from steel_design.AISC import aisc\n",
    "steel_density = 0.2833 #pci\n",
    "\n",
    "from concrete_design import material_properties as conc\n",
    "from concrete_design.steel_reinforcement import rebar_df as rebar\n",
    "conc_density = 150.0 #pcf\n",
    "\n",
    "from masonry_design import material_properties as cmu\n",
    "from masonry_design.material_properties import NW_CMU #psf\n",
    "\n",
    "from wood_design.ref_design_values.table_4a.table_4a import table_4a_load\n",
    "table_4a = table_4a_load(species=\"DF\")"
   ]
  },
  {
   "attachments": {},
   "cell_type": "markdown",
   "id": "d67dc8fa",
   "metadata": {},
   "source": [
    "<div style=\"page-break-after: always;\"></div>"
   ]
  },
  {
   "cell_type": "code",
   "execution_count": 3,
   "id": "1457a8bd",
   "metadata": {},
   "outputs": [],
   "source": [
    "import file_processing.jupyter_convert as jp"
   ]
  },
  {
   "cell_type": "code",
   "execution_count": 1,
   "id": "bb240bc2",
   "metadata": {},
   "outputs": [
    {
     "ename": "SyntaxError",
     "evalue": "unexpected character after line continuation character (4134897652.py, line 1)",
     "output_type": "error",
     "traceback": [
      "\u001b[1;36m  Cell \u001b[1;32mIn[1], line 1\u001b[1;36m\u001b[0m\n\u001b[1;33m    C:\\Users\\dhanson\\Desktop\\test\u001b[0m\n\u001b[1;37m       ^\u001b[0m\n\u001b[1;31mSyntaxError\u001b[0m\u001b[1;31m:\u001b[0m unexpected character after line continuation character\n"
     ]
    }
   ],
   "source": [
    "folder_path = \"C:\\Users\\dhanson\\Desktop\\test\"\n",
    "jupyter = \"Lateral.ipynb\"\n",
    "html = \"Lateral.html\"\n",
    "pdf = \"Lateral.pdf\"\n"
   ]
  },
  {
   "cell_type": "code",
   "execution_count": null,
   "id": "39786fb6",
   "metadata": {},
   "outputs": [],
   "source": [
    "html_path = os.path.join(folder_path, f\"{os.path.splitext(filename)[0]}.html\")"
   ]
  }
 ],
 "metadata": {
  "kernelspec": {
   "display_name": "VENV",
   "language": "python",
   "name": "venv"
  },
  "language_info": {
   "codemirror_mode": {
    "name": "ipython",
    "version": 3
   },
   "file_extension": ".py",
   "mimetype": "text/x-python",
   "name": "python",
   "nbconvert_exporter": "python",
   "pygments_lexer": "ipython3",
   "version": "3.11.3"
  },
  "vscode": {
   "interpreter": {
    "hash": "8c340b0736d8d4910d2ca7989655b8187219e0906e973b44a7c0150cb2eac932"
   }
  }
 },
 "nbformat": 4,
 "nbformat_minor": 5
}
