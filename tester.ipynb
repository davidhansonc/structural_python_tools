{
 "cells": [
  {
   "cell_type": "code",
   "execution_count": 6,
   "id": "8c41b636",
   "metadata": {},
   "outputs": [
    {
     "data": {
      "text/latex": [
       "\\newpage"
      ],
      "text/plain": [
       "<IPython.core.display.Latex object>"
      ]
     },
     "metadata": {},
     "output_type": "display_data"
    }
   ],
   "source": [
    "# Import Python Tools:\n",
    "from IPython.display import display, Latex\n",
    "import pandas as pd\n",
    "import numpy as np\n",
    "from numpy import sqrt, pi, average, cos, sin, tan, arcsin, arccos, arctan, deg2rad, rad2deg\n",
    "\n",
    "import load_combos\n",
    "from steel_design.AISC import aisc\n",
    "from concrete_design.material_properties import elastic_modulus, rigidity_modulus\n",
    "from concrete_design.steel_reinforcement import rebar_df as rebar\n",
    "from masonry_design.material_properties import LW_CMU, cmu_elastic_modulus\n",
    "conc_density = 150.0 #pcf\n",
    "steel_density = 0.2833 #pci\n",
    "\n",
    "display(Latex(r\"\\newpage\")) #pagebreak"
   ]
  },
  {
   "cell_type": "markdown",
   "id": "7cd80fa1",
   "metadata": {},
   "source": [
    "# Wind Analysis"
   ]
  },
  {
   "cell_type": "code",
   "execution_count": 7,
   "id": "f58fd2d3",
   "metadata": {},
   "outputs": [
    {
     "ename": "ModuleNotFoundError",
     "evalue": "No module named 'WLS_analysis'",
     "output_type": "error",
     "traceback": [
      "\u001b[1;31m---------------------------------------------------------------------------\u001b[0m",
      "\u001b[1;31mModuleNotFoundError\u001b[0m                       Traceback (most recent call last)",
      "\u001b[1;32mc:\\Users\\dhanson\\Desktop\\Resources\\python_resources\\tester.ipynb Cell 3\u001b[0m in \u001b[0;36m<module>\u001b[1;34m\u001b[0m\n\u001b[1;32m----> <a href='vscode-notebook-cell:/c%3A/Users/dhanson/Desktop/Resources/python_resources/tester.ipynb#W2sZmlsZQ%3D%3D?line=0'>1</a>\u001b[0m \u001b[39mimport\u001b[39;00m \u001b[39mWLS_analysis\u001b[39;00m\u001b[39m.\u001b[39;00m\u001b[39mdiaphragm_demands\u001b[39;00m\u001b[39m.\u001b[39;00m\u001b[39mone_story_parapet\u001b[39;00m \u001b[39mas\u001b[39;00m \u001b[39mdia\u001b[39;00m\n\u001b[0;32m      <a href='vscode-notebook-cell:/c%3A/Users/dhanson/Desktop/Resources/python_resources/tester.ipynb#W2sZmlsZQ%3D%3D?line=2'>3</a>\u001b[0m wls_csv \u001b[39m=\u001b[39m pd\u001b[39m.\u001b[39mread_csv(\u001b[39m\"\u001b[39m\u001b[39m./WLS_analysis/wls_test_file.csv\u001b[39m\u001b[39m\"\u001b[39m)\n\u001b[0;32m      <a href='vscode-notebook-cell:/c%3A/Users/dhanson/Desktop/Resources/python_resources/tester.ipynb#W2sZmlsZQ%3D%3D?line=3'>4</a>\u001b[0m wls_data \u001b[39m=\u001b[39m dia\u001b[39m.\u001b[39mclean_data(wls_csv)\n",
      "\u001b[1;31mModuleNotFoundError\u001b[0m: No module named 'WLS_analysis'"
     ]
    }
   ],
   "source": [
    "import WLS_analysis.diaphragm_demands.one_story_parapet as dia\n",
    "\n",
    "wls_csv = pd.read_csv(\"./WLS_analysis/wls_test_file.csv\")\n",
    "wls_data = dia.clean_data(wls_csv)\n",
    "wls_data"
   ]
  },
  {
   "cell_type": "code",
   "execution_count": null,
   "id": "59002ce6",
   "metadata": {},
   "outputs": [
    {
     "data": {
      "text/plain": [
       "{'WWP': 9.48, 'LWP': -11.2, 'WPP': 27.2, 'LPP': -18.1, 'RP': -20.4}"
      ]
     },
     "execution_count": 3,
     "metadata": {},
     "output_type": "execute_result"
    }
   ],
   "source": [
    "wind_pressures = dia.get_pressures(wls_data)\n",
    "wind_pressures"
   ]
  },
  {
   "cell_type": "code",
   "execution_count": null,
   "id": "83cc7f6c",
   "metadata": {},
   "outputs": [
    {
     "data": {
      "text/plain": [
       "{'eave height': 12, 'parapet height': 4, 'roof length': 15.0, 'roof slope': 4}"
      ]
     },
     "execution_count": 4,
     "metadata": {},
     "output_type": "execute_result"
    }
   ],
   "source": [
    "geometry = dia.get_geometry(wls_data, 4, 15.0)\n",
    "geometry"
   ]
  },
  {
   "cell_type": "code",
   "execution_count": null,
   "id": "011def03",
   "metadata": {},
   "outputs": [],
   "source": [
    "diaphragm_load = dia.diaphragm_calc(wind_pressures, geometry)"
   ]
  },
  {
   "cell_type": "code",
   "execution_count": null,
   "id": "75a836df",
   "metadata": {},
   "outputs": [
    {
     "data": {
      "text/plain": [
       "402.0456964011524"
      ]
     },
     "execution_count": 6,
     "metadata": {},
     "output_type": "execute_result"
    }
   ],
   "source": [
    "diaphragm_load"
   ]
  },
  {
   "cell_type": "markdown",
   "id": "68e0a9a2",
   "metadata": {},
   "source": [
    "# Shear Wall Foundations"
   ]
  },
  {
   "cell_type": "code",
   "execution_count": null,
   "id": "2bdd6c21",
   "metadata": {},
   "outputs": [],
   "source": [
    "import shear_wall_analysis.concrete_foundation as foot\n",
    "\n",
    "SWF1 = foot.shear_wall_footing()"
   ]
  },
  {
   "cell_type": "code",
   "execution_count": null,
   "id": "078aaa85",
   "metadata": {},
   "outputs": [
    {
     "name": "stdout",
     "output_type": "stream",
     "text": [
      "--------------------------------\n",
      "        <Beam>\n",
      "        length = 0\n",
      "        loads = 0\n",
      "12.0\n",
      "3.0\n",
      "3.0\n"
     ]
    }
   ],
   "source": [
    "print(SWF1.beam)\n",
    "print(SWF1.L)\n",
    "print(SWF1.L_1)\n",
    "SWF1.L_1 = 3.0\n",
    "print(SWF1.L_1)"
   ]
  },
  {
   "cell_type": "code",
   "execution_count": null,
   "id": "f5724f45",
   "metadata": {},
   "outputs": [
    {
     "name": "stdout",
     "output_type": "stream",
     "text": [
      "5\n"
     ]
    }
   ],
   "source": [
    "print(beam._x1)"
   ]
  },
  {
   "cell_type": "code",
   "execution_count": null,
   "id": "48d26518",
   "metadata": {},
   "outputs": [
    {
     "data": {
      "text/plain": [
       "5"
      ]
     },
     "execution_count": 26,
     "metadata": {},
     "output_type": "execute_result"
    }
   ],
   "source": [
    "beam._x1"
   ]
  },
  {
   "cell_type": "code",
   "execution_count": null,
   "id": "4946f10c",
   "metadata": {},
   "outputs": [
    {
     "ename": "AttributeError",
     "evalue": "module 'wood_design.connections.NDS_nailing_capacities' has no attribute 'nail_shear'",
     "output_type": "error",
     "traceback": [
      "\u001b[1;31m---------------------------------------------------------------------------\u001b[0m",
      "\u001b[1;31mAttributeError\u001b[0m                            Traceback (most recent call last)",
      "\u001b[1;32mc:\\Users\\dhanson\\Desktop\\Resources\\python_resources\\tester.ipynb Cell 13\u001b[0m in \u001b[0;36m<module>\u001b[1;34m\u001b[0m\n\u001b[0;32m      <a href='vscode-notebook-cell:/c%3A/Users/dhanson/Desktop/Resources/python_resources/tester.ipynb#X15sZmlsZQ%3D%3D?line=0'>1</a>\u001b[0m \u001b[39mimport\u001b[39;00m \u001b[39mwood_design\u001b[39;00m\u001b[39m.\u001b[39;00m\u001b[39mconnections\u001b[39;00m\u001b[39m.\u001b[39;00m\u001b[39mNDS_nailing_capacities\u001b[39;00m \u001b[39mas\u001b[39;00m \u001b[39mNDS\u001b[39;00m\n\u001b[1;32m----> <a href='vscode-notebook-cell:/c%3A/Users/dhanson/Desktop/Resources/python_resources/tester.ipynb#X15sZmlsZQ%3D%3D?line=1'>2</a>\u001b[0m NDS\u001b[39m.\u001b[39;49mnail_shear(Z_nominal\u001b[39m=\u001b[39m\u001b[39m100.0\u001b[39m, \u001b[39mprint\u001b[39m\u001b[39m=\u001b[39m\u001b[39m\"\u001b[39m\u001b[39mY\u001b[39m\u001b[39m\"\u001b[39m)\n",
      "\u001b[1;31mAttributeError\u001b[0m: module 'wood_design.connections.NDS_nailing_capacities' has no attribute 'nail_shear'"
     ]
    }
   ],
   "source": [
    "import wood_design.connections.NDS_nailing_capacities as NDS\n",
    "NDS.nail_shear(Z_nominal=100.0, print=\"Y\")"
   ]
  },
  {
   "cell_type": "code",
   "execution_count": 8,
   "id": "b9d6fa68",
   "metadata": {},
   "outputs": [
    {
     "data": {
      "text/html": [
       "<div>\n",
       "<style scoped>\n",
       "    .dataframe tbody tr th:only-of-type {\n",
       "        vertical-align: middle;\n",
       "    }\n",
       "\n",
       "    .dataframe tbody tr th {\n",
       "        vertical-align: top;\n",
       "    }\n",
       "\n",
       "    .dataframe thead th {\n",
       "        text-align: right;\n",
       "    }\n",
       "</style>\n",
       "<table border=\"1\" class=\"dataframe\">\n",
       "  <thead>\n",
       "    <tr style=\"text-align: right;\">\n",
       "      <th></th>\n",
       "      <th>LW t=6\"</th>\n",
       "      <th>LW t=8\"</th>\n",
       "      <th>LW t=10\"</th>\n",
       "      <th>LW t=12\"</th>\n",
       "    </tr>\n",
       "  </thead>\n",
       "  <tbody>\n",
       "    <tr>\n",
       "      <th>Solid</th>\n",
       "      <td>52</td>\n",
       "      <td>75</td>\n",
       "      <td>93</td>\n",
       "      <td>118</td>\n",
       "    </tr>\n",
       "    <tr>\n",
       "      <th>16\" o.c.</th>\n",
       "      <td>41</td>\n",
       "      <td>60</td>\n",
       "      <td>69</td>\n",
       "      <td>88</td>\n",
       "    </tr>\n",
       "    <tr>\n",
       "      <th>24\" o.c.</th>\n",
       "      <td>37</td>\n",
       "      <td>55</td>\n",
       "      <td>61</td>\n",
       "      <td>79</td>\n",
       "    </tr>\n",
       "    <tr>\n",
       "      <th>32\" o.c.</th>\n",
       "      <td>36</td>\n",
       "      <td>52</td>\n",
       "      <td>57</td>\n",
       "      <td>74</td>\n",
       "    </tr>\n",
       "    <tr>\n",
       "      <th>40\" o.c.</th>\n",
       "      <td>35</td>\n",
       "      <td>50</td>\n",
       "      <td>55</td>\n",
       "      <td>71</td>\n",
       "    </tr>\n",
       "    <tr>\n",
       "      <th>48\" o.c.</th>\n",
       "      <td>34</td>\n",
       "      <td>49</td>\n",
       "      <td>53</td>\n",
       "      <td>69</td>\n",
       "    </tr>\n",
       "  </tbody>\n",
       "</table>\n",
       "</div>"
      ],
      "text/plain": [
       "          LW t=6\"  LW t=8\"  LW t=10\"  LW t=12\"\n",
       "Solid          52       75        93       118\n",
       "16\" o.c.       41       60        69        88\n",
       "24\" o.c.       37       55        61        79\n",
       "32\" o.c.       36       52        57        74\n",
       "40\" o.c.       35       50        55        71\n",
       "48\" o.c.       34       49        53        69"
      ]
     },
     "execution_count": 8,
     "metadata": {},
     "output_type": "execute_result"
    }
   ],
   "source": [
    "LW_CMU"
   ]
  },
  {
   "cell_type": "code",
   "execution_count": null,
   "id": "87f13dd2",
   "metadata": {},
   "outputs": [],
   "source": []
  }
 ],
 "metadata": {
  "kernelspec": {
   "display_name": "Python 3.9.2 64-bit",
   "language": "python",
   "name": "python3"
  },
  "language_info": {
   "codemirror_mode": {
    "name": "ipython",
    "version": 3
   },
   "file_extension": ".py",
   "mimetype": "text/x-python",
   "name": "python",
   "nbconvert_exporter": "python",
   "pygments_lexer": "ipython3",
   "version": "3.9.2"
  },
  "vscode": {
   "interpreter": {
    "hash": "8c340b0736d8d4910d2ca7989655b8187219e0906e973b44a7c0150cb2eac932"
   }
  }
 },
 "nbformat": 4,
 "nbformat_minor": 5
}
