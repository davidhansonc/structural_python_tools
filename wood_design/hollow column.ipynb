{
 "cells": [
  {
   "cell_type": "code",
   "execution_count": 29,
   "id": "8c41b636",
   "metadata": {},
   "outputs": [],
   "source": [
    "# Import Python Tools:\n",
    "from IPython.display import display, Latex\n",
    "import pandas as pd\n",
    "import numpy as np\n",
    "from numpy import sqrt, pi, average, cos, sin, tan, arcsin, arccos, arctan, deg2rad, rad2deg\n",
    "from WhatIfAnalysis import GoalSeek\n",
    "# import sectionproperties as shape\n",
    "\n",
    "from ASCE import load_combos\n",
    "\n",
    "from steel_design.AISC import aisc\n",
    "steel_density = 490 / 12**3 #pci\n",
    "\n",
    "from concrete_design import material_properties as conc\n",
    "from concrete_design.steel_reinforcement import rebar_df as rebar\n",
    "conc_density = 150.0 #pcf\n",
    "\n",
    "from masonry_design import material_properties as cmu\n",
    "from masonry_design.material_properties import NW_CMU #psf\n",
    "\n",
    "from wood_design.sawn_lumber.ref_design_values.table_4a import table_4a_load\n",
    "from wood_design.sawn_lumber.ref_design_values.adjustment_factors import SawnLumberAdjustmentFactors\n",
    "from wood_design.sawn_lumber.ref_design_values.C_F import C_F_load\n",
    "table_4a = table_4a_load(species=\"DF\")"
   ]
  },
  {
   "attachments": {},
   "cell_type": "markdown",
   "id": "04f2be6d",
   "metadata": {},
   "source": [
    "<div style=\"page-break-after: always;\"></div>"
   ]
  },
  {
   "attachments": {},
   "cell_type": "markdown",
   "id": "f5325071",
   "metadata": {},
   "source": [
    "# Calculations"
   ]
  },
  {
   "cell_type": "markdown",
   "id": "53f6e2d9",
   "metadata": {},
   "source": [
    "## Compression"
   ]
  },
  {
   "cell_type": "code",
   "execution_count": 30,
   "id": "f85fa31d",
   "metadata": {},
   "outputs": [],
   "source": [
    "P = 1000 #lbs"
   ]
  },
  {
   "cell_type": "markdown",
   "id": "1eb853ed",
   "metadata": {},
   "source": [
    "$$F_{cE} = \\frac{\\pi^2 E}{(l / r)^2}$$\n",
    "\n",
    "$$r = \\sqrt{\\frac{I}{A}}$$\n",
    "\n",
    "$$C_P = \\frac{1 + \\frac{F_{cE}}{F_{c*}}}{2c} - \\sqrt{\\left(\\frac{1 + \\frac{F_{cE}}{F_{c*}}}{2c}\\right)^2 - \\frac{F_{cE}}{cF_{c*}}}$$"
   ]
  },
  {
   "cell_type": "code",
   "execution_count": 31,
   "id": "b7b03102",
   "metadata": {},
   "outputs": [
    {
     "data": {
      "text/html": [
       "<div>\n",
       "<style scoped>\n",
       "    .dataframe tbody tr th:only-of-type {\n",
       "        vertical-align: middle;\n",
       "    }\n",
       "\n",
       "    .dataframe tbody tr th {\n",
       "        vertical-align: top;\n",
       "    }\n",
       "\n",
       "    .dataframe thead th {\n",
       "        text-align: right;\n",
       "    }\n",
       "</style>\n",
       "<table border=\"1\" class=\"dataframe\">\n",
       "  <thead>\n",
       "    <tr style=\"text-align: right;\">\n",
       "      <th></th>\n",
       "      <th>Fb</th>\n",
       "      <th>Ft</th>\n",
       "      <th>Fv</th>\n",
       "      <th>Fc_perp</th>\n",
       "      <th>Fc</th>\n",
       "      <th>E</th>\n",
       "      <th>Emin</th>\n",
       "      <th>G</th>\n",
       "    </tr>\n",
       "    <tr>\n",
       "      <th>Grade</th>\n",
       "      <th></th>\n",
       "      <th></th>\n",
       "      <th></th>\n",
       "      <th></th>\n",
       "      <th></th>\n",
       "      <th></th>\n",
       "      <th></th>\n",
       "      <th></th>\n",
       "    </tr>\n",
       "  </thead>\n",
       "  <tbody>\n",
       "    <tr>\n",
       "      <th>Select Structural</th>\n",
       "      <td>1500</td>\n",
       "      <td>1000</td>\n",
       "      <td>180</td>\n",
       "      <td>625</td>\n",
       "      <td>1700</td>\n",
       "      <td>1900000</td>\n",
       "      <td>690000</td>\n",
       "      <td>0.5</td>\n",
       "    </tr>\n",
       "    <tr>\n",
       "      <th>No. 1 &amp; Btr</th>\n",
       "      <td>1200</td>\n",
       "      <td>800</td>\n",
       "      <td>180</td>\n",
       "      <td>625</td>\n",
       "      <td>1550</td>\n",
       "      <td>1800000</td>\n",
       "      <td>660000</td>\n",
       "      <td>0.5</td>\n",
       "    </tr>\n",
       "    <tr>\n",
       "      <th>No. 1</th>\n",
       "      <td>1000</td>\n",
       "      <td>675</td>\n",
       "      <td>180</td>\n",
       "      <td>625</td>\n",
       "      <td>1500</td>\n",
       "      <td>1700000</td>\n",
       "      <td>620000</td>\n",
       "      <td>0.5</td>\n",
       "    </tr>\n",
       "    <tr>\n",
       "      <th>No. 2</th>\n",
       "      <td>900</td>\n",
       "      <td>575</td>\n",
       "      <td>180</td>\n",
       "      <td>625</td>\n",
       "      <td>1350</td>\n",
       "      <td>1600000</td>\n",
       "      <td>580000</td>\n",
       "      <td>0.5</td>\n",
       "    </tr>\n",
       "    <tr>\n",
       "      <th>No. 3</th>\n",
       "      <td>525</td>\n",
       "      <td>325</td>\n",
       "      <td>180</td>\n",
       "      <td>625</td>\n",
       "      <td>775</td>\n",
       "      <td>1400000</td>\n",
       "      <td>510000</td>\n",
       "      <td>0.5</td>\n",
       "    </tr>\n",
       "  </tbody>\n",
       "</table>\n",
       "</div>"
      ],
      "text/plain": [
       "                     Fb    Ft   Fv  Fc_perp    Fc        E    Emin    G\n",
       "Grade                                                                  \n",
       "Select Structural  1500  1000  180      625  1700  1900000  690000  0.5\n",
       "No. 1 & Btr        1200   800  180      625  1550  1800000  660000  0.5\n",
       "No. 1              1000   675  180      625  1500  1700000  620000  0.5\n",
       "No. 2               900   575  180      625  1350  1600000  580000  0.5\n",
       "No. 3               525   325  180      625   775  1400000  510000  0.5"
      ]
     },
     "execution_count": 31,
     "metadata": {},
     "output_type": "execute_result"
    }
   ],
   "source": [
    "table_4a_load(\"DF\")"
   ]
  },
  {
   "cell_type": "code",
   "execution_count": 32,
   "id": "4d232b2a",
   "metadata": {},
   "outputs": [],
   "source": [
    "C_D = 1.0\n",
    "C_M = 1.0\n",
    "C_t = 1.0\n",
    "C_F = 1.0\n",
    "C_i = 1.0"
   ]
  },
  {
   "cell_type": "code",
   "execution_count": 33,
   "id": "92f4ee2f",
   "metadata": {},
   "outputs": [],
   "source": [
    "Ep_min = 69000 #psi\n",
    "l_e = 72 #in\n",
    "d = 5.5 #in\n",
    "b = 5.5 #in\n",
    "d_hole = 2 #in\n",
    "\n",
    "# Square section\n",
    "I_square = (b * d**3) / 12  # in^4\n",
    "A_square = b * d  # in^2\n",
    "\n",
    "# Circular hole\n",
    "I_circle = (np.pi * d_hole**4) / 64  # in^4\n",
    "A_circle = np.pi * (d_hole/2)**2  # in^2\n",
    "\n",
    "# Square section with hole\n",
    "I = I_square - I_circle  # in^4\n",
    "A = A_square - A_circle  # in^2\n",
    "\n",
    "r = sqrt(I / A) #in\n",
    "Fc = 1350 #psi\n",
    "Fb = 900 #psi\n",
    "c = 0.80 #sawn lumber\n"
   ]
  },
  {
   "cell_type": "code",
   "execution_count": 34,
   "id": "6bf16a19",
   "metadata": {},
   "outputs": [
    {
     "name": "stdout",
     "output_type": "stream",
     "text": [
      "F_cE = 365.724\n",
      "C_P = 0.254\n"
     ]
    }
   ],
   "source": [
    "FcE = pi**2 * Ep_min / (l_e/r)**2\n",
    "Fc_st = Fc * C_D * C_M * C_t * C_F * C_i\n",
    "C_P = (1 + (FcE/Fc_st))/(2*c) - np.sqrt(((1 + (FcE/Fc_st))/(2*c))**2 - (FcE/(c*Fc_st)))\n",
    "print(f\"F_cE = {round(FcE, 3)}\")\n",
    "print(f\"C_P = {round(C_P, 3)}\")"
   ]
  },
  {
   "cell_type": "code",
   "execution_count": 35,
   "id": "cfc84dc0",
   "metadata": {},
   "outputs": [
    {
     "data": {
      "text/plain": [
       "\"F_c' = 342.45 psi\""
      ]
     },
     "execution_count": 35,
     "metadata": {},
     "output_type": "execute_result"
    }
   ],
   "source": [
    "Fc_pr = Fc_st * C_P\n",
    "f\"F_c' = {round(Fc_pr, 2)} psi\""
   ]
  },
  {
   "cell_type": "code",
   "execution_count": 36,
   "id": "ef0fd81c",
   "metadata": {},
   "outputs": [
    {
     "data": {
      "text/plain": [
       "'P_a = 9283.2 lbs'"
      ]
     },
     "execution_count": 36,
     "metadata": {},
     "output_type": "execute_result"
    }
   ],
   "source": [
    "P_a = Fc_pr * A #lbs\n",
    "f\"P_a = {round(P_a, 1)} lbs\""
   ]
  },
  {
   "cell_type": "markdown",
   "id": "f3174c34",
   "metadata": {},
   "source": [
    "## Tension"
   ]
  },
  {
   "cell_type": "code",
   "execution_count": 37,
   "id": "a96cabbd",
   "metadata": {},
   "outputs": [],
   "source": [
    "M = 0 #lb-in"
   ]
  },
  {
   "cell_type": "code",
   "execution_count": 38,
   "id": "0e858599",
   "metadata": {},
   "outputs": [],
   "source": [
    "C_fu = 1.0\n",
    "C_r = 1.0"
   ]
  },
  {
   "cell_type": "code",
   "execution_count": 39,
   "id": "7b6f41f2",
   "metadata": {},
   "outputs": [
    {
     "data": {
      "text/plain": [
       "'C_L = 0.969'"
      ]
     },
     "execution_count": 39,
     "metadata": {},
     "output_type": "execute_result"
    }
   ],
   "source": [
    "R_B = sqrt(l_e * d / b**2)\n",
    "FbE = 1.20 * Ep_min / R_B**2 #psf\n",
    "Fb_st = Fb * C_D * C_M * C_t * C_F * C_i * C_r #psi\n",
    "C_L = (1 + (FbE/Fb_st))/(2*c) - np.sqrt(((1 + (FbE/Fb_st))/(2*c))**2 - (FbE/(c*Fb_st)))\n",
    "f\"C_L = {round(C_L, 3)}\""
   ]
  },
  {
   "cell_type": "code",
   "execution_count": 41,
   "id": "653590b2",
   "metadata": {},
   "outputs": [
    {
     "data": {
      "text/plain": [
       "'Fb_pr = 872.1 psi'"
      ]
     },
     "execution_count": 41,
     "metadata": {},
     "output_type": "execute_result"
    }
   ],
   "source": [
    "Fb_pr = Fb_st * C_L #psi\n",
    "f\"Fb_pr = {round(Fb_pr, 2)} psi\""
   ]
  },
  {
   "cell_type": "code",
   "execution_count": 42,
   "id": "103b8e02",
   "metadata": {},
   "outputs": [
    {
     "data": {
      "text/plain": [
       "'M_a = 24249.39 lb-in'"
      ]
     },
     "execution_count": 42,
     "metadata": {},
     "output_type": "execute_result"
    }
   ],
   "source": [
    "# Square section\n",
    "S_square = I_square / (d/2)  # in^3\n",
    "\n",
    "# Circular hole\n",
    "S_circle = I_circle / (d_hole/2)  # in^3\n",
    "\n",
    "# Square section with hole\n",
    "S = S_square - S_circle  # in^3\n",
    "\n",
    "M_a = Fb_st * S\n",
    "f\"M_a = {round(M_a, 2)} lb-in\""
   ]
  },
  {
   "cell_type": "code",
   "execution_count": null,
   "id": "c8c117ae",
   "metadata": {},
   "outputs": [],
   "source": []
  }
 ],
 "metadata": {
  "kernelspec": {
   "display_name": "VENV_MAC",
   "language": "python",
   "name": "python3"
  },
  "language_info": {
   "codemirror_mode": {
    "name": "ipython",
    "version": 3
   },
   "file_extension": ".py",
   "mimetype": "text/x-python",
   "name": "python",
   "nbconvert_exporter": "python",
   "pygments_lexer": "ipython3",
   "version": "3.11.3"
  }
 },
 "nbformat": 4,
 "nbformat_minor": 5
}
