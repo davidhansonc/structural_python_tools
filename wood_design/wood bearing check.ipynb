{
 "cells": [
  {
   "cell_type": "code",
   "execution_count": 4,
   "id": "8c41b636",
   "metadata": {},
   "outputs": [],
   "source": [
    "# Import Python Tools:\n",
    "from IPython.display import display, Latex\n",
    "import pandas as pd\n",
    "import numpy as np\n",
    "from numpy import sqrt, pi, average, cos, sin, tan, arcsin, arccos, arctan, deg2rad, rad2deg\n",
    "# import sectionproperties as shape\n",
    "\n",
    "from ASCE import load_combos\n",
    "\n",
    "from steel_design.AISC import aisc\n",
    "steel_density = 0.2833 #pci\n",
    "\n",
    "from concrete_design import material_properties as conc\n",
    "from concrete_design.steel_reinforcement import rebar_df as rebar\n",
    "conc_density = 150.0 #pcf\n",
    "\n",
    "from masonry_design import material_properties as cmu\n",
    "from masonry_design.material_properties import NW_CMU #psf\n",
    "\n",
    "from wood_design.sawn_lumber.ref_design_values.table_4a import table_4a_load\n",
    "from wood_design.sawn_lumber.ref_design_values.C_F import C_F_load"
   ]
  },
  {
   "attachments": {},
   "cell_type": "markdown",
   "id": "04f2be6d",
   "metadata": {},
   "source": [
    "<div style=\"page-break-after: always;\"></div>"
   ]
  },
  {
   "cell_type": "code",
   "execution_count": 5,
   "id": "4fc595f3",
   "metadata": {},
   "outputs": [
    {
     "data": {
      "text/html": [
       "<div>\n",
       "<style scoped>\n",
       "    .dataframe tbody tr th:only-of-type {\n",
       "        vertical-align: middle;\n",
       "    }\n",
       "\n",
       "    .dataframe tbody tr th {\n",
       "        vertical-align: top;\n",
       "    }\n",
       "\n",
       "    .dataframe thead th {\n",
       "        text-align: right;\n",
       "    }\n",
       "</style>\n",
       "<table border=\"1\" class=\"dataframe\">\n",
       "  <thead>\n",
       "    <tr style=\"text-align: right;\">\n",
       "      <th></th>\n",
       "      <th>Fb</th>\n",
       "      <th>Ft</th>\n",
       "      <th>Fv</th>\n",
       "      <th>Fc_perp</th>\n",
       "      <th>Fc</th>\n",
       "      <th>E</th>\n",
       "      <th>Emin</th>\n",
       "      <th>G</th>\n",
       "    </tr>\n",
       "    <tr>\n",
       "      <th>Grade</th>\n",
       "      <th></th>\n",
       "      <th></th>\n",
       "      <th></th>\n",
       "      <th></th>\n",
       "      <th></th>\n",
       "      <th></th>\n",
       "      <th></th>\n",
       "      <th></th>\n",
       "    </tr>\n",
       "  </thead>\n",
       "  <tbody>\n",
       "    <tr>\n",
       "      <th>Select Structural</th>\n",
       "      <td>1500</td>\n",
       "      <td>1000</td>\n",
       "      <td>180</td>\n",
       "      <td>625</td>\n",
       "      <td>1700</td>\n",
       "      <td>1900000</td>\n",
       "      <td>690000</td>\n",
       "      <td>0.5</td>\n",
       "    </tr>\n",
       "    <tr>\n",
       "      <th>No. 1 &amp; Btr</th>\n",
       "      <td>1200</td>\n",
       "      <td>800</td>\n",
       "      <td>180</td>\n",
       "      <td>625</td>\n",
       "      <td>1550</td>\n",
       "      <td>1800000</td>\n",
       "      <td>660000</td>\n",
       "      <td>0.5</td>\n",
       "    </tr>\n",
       "    <tr>\n",
       "      <th>No. 1</th>\n",
       "      <td>1000</td>\n",
       "      <td>675</td>\n",
       "      <td>180</td>\n",
       "      <td>625</td>\n",
       "      <td>1500</td>\n",
       "      <td>1700000</td>\n",
       "      <td>620000</td>\n",
       "      <td>0.5</td>\n",
       "    </tr>\n",
       "    <tr>\n",
       "      <th>No. 2</th>\n",
       "      <td>900</td>\n",
       "      <td>575</td>\n",
       "      <td>180</td>\n",
       "      <td>625</td>\n",
       "      <td>1350</td>\n",
       "      <td>1600000</td>\n",
       "      <td>580000</td>\n",
       "      <td>0.5</td>\n",
       "    </tr>\n",
       "    <tr>\n",
       "      <th>No. 3</th>\n",
       "      <td>525</td>\n",
       "      <td>325</td>\n",
       "      <td>180</td>\n",
       "      <td>625</td>\n",
       "      <td>775</td>\n",
       "      <td>1400000</td>\n",
       "      <td>510000</td>\n",
       "      <td>0.5</td>\n",
       "    </tr>\n",
       "  </tbody>\n",
       "</table>\n",
       "</div>"
      ],
      "text/plain": [
       "                     Fb    Ft   Fv  Fc_perp    Fc        E    Emin    G\n",
       "Grade                                                                  \n",
       "Select Structural  1500  1000  180      625  1700  1900000  690000  0.5\n",
       "No. 1 & Btr        1200   800  180      625  1550  1800000  660000  0.5\n",
       "No. 1              1000   675  180      625  1500  1700000  620000  0.5\n",
       "No. 2               900   575  180      625  1350  1600000  580000  0.5\n",
       "No. 3               525   325  180      625   775  1400000  510000  0.5"
      ]
     },
     "execution_count": 5,
     "metadata": {},
     "output_type": "execute_result"
    }
   ],
   "source": [
    "table_4a = table_4a_load(species=\"DF\")\n",
    "table_4a"
   ]
  },
  {
   "attachments": {},
   "cell_type": "markdown",
   "id": "b9defdc0",
   "metadata": {},
   "source": [
    "# Wood Bearing Check"
   ]
  },
  {
   "attachments": {},
   "cell_type": "markdown",
   "id": "d1603b19",
   "metadata": {},
   "source": [
    "## Parallel to Grain"
   ]
  },
  {
   "cell_type": "code",
   "execution_count": 9,
   "id": "91068683",
   "metadata": {},
   "outputs": [
    {
     "name": "stdout",
     "output_type": "stream",
     "text": [
      "size factor = 1.05\n"
     ]
    },
    {
     "data": {
      "text/plain": [
       "'allowable compression bearing = 1275.75 psi'"
      ]
     },
     "execution_count": 9,
     "metadata": {},
     "output_type": "execute_result"
    }
   ],
   "source": [
    "grade = \"No. 2\"\n",
    "F_c = table_4a.loc[grade, \"Fc\"]\n",
    "\n",
    "C_D = 0.9\n",
    "C_M = 1.0\n",
    "C_t = 1.0\n",
    "C_F = C_F_load(\"Fc\", 8)\n",
    "print(f\"size factor = {C_F}\")\n",
    "C_i = 1.0\n",
    "Fst_c = F_c * C_D * C_M * C_t * C_F * C_i #psi\n",
    "f\"allowable compression bearing = {round(Fst_c, 3)} psi\""
   ]
  },
  {
   "cell_type": "code",
   "execution_count": 7,
   "id": "07b68fa5",
   "metadata": {},
   "outputs": [
    {
     "data": {
      "text/plain": [
       "'compression stress = 735.632 psi'"
      ]
     },
     "execution_count": 7,
     "metadata": {},
     "output_type": "execute_result"
    }
   ],
   "source": [
    "P = 8000 #lbs\n",
    "A_b = 1.5 * 7.25 #in^2 (bearing area)\n",
    "f_c = P / A_b #psi\n",
    "f\"compression stress = {round(f_c, 3)} psi\""
   ]
  },
  {
   "cell_type": "code",
   "execution_count": 10,
   "id": "0a7a8f58",
   "metadata": {},
   "outputs": [
    {
     "data": {
      "text/plain": [
       "True"
      ]
     },
     "execution_count": 10,
     "metadata": {},
     "output_type": "execute_result"
    }
   ],
   "source": [
    "f_c <= 0.75 * Fst_c"
   ]
  }
 ],
 "metadata": {
  "kernelspec": {
   "display_name": "VENV",
   "language": "python",
   "name": "venv"
  },
  "language_info": {
   "codemirror_mode": {
    "name": "ipython",
    "version": 3
   },
   "file_extension": ".py",
   "mimetype": "text/x-python",
   "name": "python",
   "nbconvert_exporter": "python",
   "pygments_lexer": "ipython3",
   "version": "3.11.3"
  },
  "vscode": {
   "interpreter": {
    "hash": "8c340b0736d8d4910d2ca7989655b8187219e0906e973b44a7c0150cb2eac932"
   }
  }
 },
 "nbformat": 4,
 "nbformat_minor": 5
}
