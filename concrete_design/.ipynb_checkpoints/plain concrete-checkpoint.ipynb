{
 "cells": [
  {
   "cell_type": "code",
   "execution_count": 3,
   "id": "63dcd15e",
   "metadata": {},
   "outputs": [
    {
     "data": {
      "text/latex": [
       "\\newpage"
      ],
      "text/plain": [
       "<IPython.core.display.Latex object>"
      ]
     },
     "metadata": {},
     "output_type": "display_data"
    }
   ],
   "source": [
    "# Import Python Tools:\n",
    "from IPython.display import display, Latex\n",
    "import pandas as pd\n",
    "import numpy as np\n",
    "from numpy import sqrt, pi, cos, sin, tan, arcsin, arccos, arctan, deg2rad, rad2deg\n",
    "\n",
    "conc_density = 150.0 #pcf\n",
    "\n",
    "from steel_design.AISC import aisc\n",
    "from concrete_design.steel_reinforcement import rebar_df as rebar\n",
    "\n",
    "display(Latex(r\"\\newpage\")) #pagebreak"
   ]
  },
  {
   "cell_type": "markdown",
   "id": "4f46dafd",
   "metadata": {},
   "source": [
    "# Plain concrete check\n",
    "#### Properties"
   ]
  },
  {
   "cell_type": "code",
   "execution_count": 13,
   "id": "c58f808c",
   "metadata": {},
   "outputs": [],
   "source": [
    "phi = 0.60\n",
    "lmbda = 1.0\n",
    "fc = 2500.0 #psi"
   ]
  },
  {
   "cell_type": "markdown",
   "id": "e91b9ac3",
   "metadata": {},
   "source": [
    "#### Moment"
   ]
  },
  {
   "cell_type": "code",
   "execution_count": 14,
   "id": "e9281cd9",
   "metadata": {},
   "outputs": [
    {
     "data": {
      "text/plain": [
       "'phiMn = 2.5 kip-ft'"
      ]
     },
     "execution_count": 14,
     "metadata": {},
     "output_type": "execute_result"
    }
   ],
   "source": [
    "t = 10 #in\n",
    "b = 12 #in\n",
    "Sm = b * t**2 / 6 #in^3\n",
    "\n",
    "Mn = min(5 * lmbda * sqrt(fc) * Sm, 0.85 * fc * Sm) / 1000 / 12 #kip-ft\n",
    "phiMn = phi*Mn\n",
    "f\"phiMn = {round(phiMn, 2)} kip-ft\""
   ]
  },
  {
   "cell_type": "markdown",
   "id": "51196fb1",
   "metadata": {},
   "source": [
    "## Shear"
   ]
  },
  {
   "cell_type": "code",
   "execution_count": 15,
   "id": "63f60502",
   "metadata": {},
   "outputs": [
    {
     "data": {
      "text/plain": [
       "'phiVn = 4.8 kips'"
      ]
     },
     "execution_count": 15,
     "metadata": {},
     "output_type": "execute_result"
    }
   ],
   "source": [
    "# One-Way\n",
    "h = 10 #in (thickness)\n",
    "bw = 12 #in\n",
    "Vn = 4/3 * lmbda * sqrt(fc) * bw * h / 1000\n",
    "phiVn = phi*Vn\n",
    "f\"phiVn = {round(phiVn, 2)} kips\""
   ]
  },
  {
   "cell_type": "code",
   "execution_count": 16,
   "id": "7ca8f736",
   "metadata": {},
   "outputs": [
    {
     "data": {
      "text/plain": [
       "'phiVn = 1050.94 kips'"
      ]
     },
     "execution_count": 16,
     "metadata": {},
     "output_type": "execute_result"
    }
   ],
   "source": [
    "# Two-Way\n",
    "h = 10 #in (thickness)\n",
    "L = 33.9 #ft\n",
    "B = 19.17 #ft\n",
    "b_0 = 2*(L*12 + h) + 2*(B*12 + h) #in (perimeter of critical seciton for two-way shear)\n",
    "beta = B/L #ratio of short to long distances\n",
    "Vn = min(\n",
    "        (1 + 2/beta) * (4/3 * lmbda * sqrt(fc) * b_0 * h),\n",
    "        2 * (4/3 * lmbda * sqrt(fc) * b_0 * h)\n",
    "        ) / 1000\n",
    "phiVn = phi*Vn\n",
    "f\"phiVn = {round(phiVn, 2)} kips\""
   ]
  },
  {
   "cell_type": "code",
   "execution_count": null,
   "id": "9581e160",
   "metadata": {},
   "outputs": [],
   "source": []
  },
  {
   "cell_type": "code",
   "execution_count": null,
   "id": "4cbd8b34",
   "metadata": {},
   "outputs": [],
   "source": []
  }
 ],
 "metadata": {
  "kernelspec": {
   "display_name": "Python 3 (ipykernel)",
   "language": "python",
   "name": "python3"
  },
  "language_info": {
   "codemirror_mode": {
    "name": "ipython",
    "version": 3
   },
   "file_extension": ".py",
   "mimetype": "text/x-python",
   "name": "python",
   "nbconvert_exporter": "python",
   "pygments_lexer": "ipython3",
   "version": "3.9.2"
  }
 },
 "nbformat": 4,
 "nbformat_minor": 5
}
