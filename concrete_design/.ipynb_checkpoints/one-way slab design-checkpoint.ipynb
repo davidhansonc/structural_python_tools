{
 "cells": [
  {
   "cell_type": "code",
   "execution_count": 1,
   "id": "12f1dca6",
   "metadata": {},
   "outputs": [
    {
     "data": {
      "text/latex": [
       "\\newpage"
      ],
      "text/plain": [
       "<IPython.core.display.Latex object>"
      ]
     },
     "metadata": {},
     "output_type": "display_data"
    }
   ],
   "source": [
    "# Import Python Tools:\n",
    "from IPython.display import display, Latex\n",
    "import pandas as pd\n",
    "import numpy as np\n",
    "from numpy import sqrt, pi, cos, sin, tan, arcsin, arccos, arctan, deg2rad, rad2deg\n",
    "\n",
    "conc_density = 150.0 #pcf\n",
    "\n",
    "from steel_design.AISC import aisc\n",
    "from concrete_design.steel_reinforcement import rebar_df as rebar\n",
    "\n",
    "display(Latex(r\"\\newpage\")) #pagebreak"
   ]
  },
  {
   "cell_type": "markdown",
   "id": "79fc1b6a",
   "metadata": {},
   "source": [
    "# Concrete Slab Design\n",
    "## Inputs"
   ]
  },
  {
   "cell_type": "code",
   "execution_count": 51,
   "id": "68b69d09",
   "metadata": {},
   "outputs": [],
   "source": [
    "# Materials\n",
    "fc = 4000.0 #psi\n",
    "fy = 60000.0 #psi\n",
    "\n",
    "# Dimensions\n",
    "ln = 24.333 * 12 #in\n",
    "b = 24.0 #in\n",
    "t = 12.0 #in\n",
    "\n",
    "# Provided Steel\n",
    "bar = \"#6\"\n",
    "Ab = rebar.loc[bar, \"Area\"]\n",
    "n = 3 #number of bars"
   ]
  },
  {
   "cell_type": "markdown",
   "id": "45bf74d0",
   "metadata": {},
   "source": [
    "## Strength"
   ]
  },
  {
   "cell_type": "code",
   "execution_count": 11,
   "id": "2c348d90",
   "metadata": {},
   "outputs": [
    {
     "name": "stdout",
     "output_type": "stream",
     "text": [
      "t_min (two way) = 9.73 in\n",
      "t_min (one way) = 14.6 in\n"
     ]
    }
   ],
   "source": [
    "# Minimum Thickness\n",
    "t_min = ln / 30\n",
    "print(f\"t_min (two way) = {round(t_min, 2)} in\")\n",
    "\n",
    "t_min = ln / 20\n",
    "print(f\"t_min (one way) = {round(t_min, 2)} in\")"
   ]
  },
  {
   "cell_type": "code",
   "execution_count": 39,
   "id": "4afd0b67",
   "metadata": {},
   "outputs": [
    {
     "data": {
      "text/plain": [
       "'As,min = 0.518 in^2 or 0.259 in^2/ft'"
      ]
     },
     "execution_count": 39,
     "metadata": {},
     "output_type": "execute_result"
    }
   ],
   "source": [
    "# Minimum Steel\n",
    "Ag = b * t #in^2\n",
    "As_min = 0.0018 * Ag\n",
    "As_minft = As_min * 12 / b\n",
    "\n",
    "f\"As,min = {round(As_min, 3)} in^2 or {round(As_minft, 3)} in^2/ft\""
   ]
  },
  {
   "cell_type": "code",
   "execution_count": 45,
   "id": "2f4b15aa",
   "metadata": {},
   "outputs": [
    {
     "data": {
      "text/plain": [
       "'As = 1.32 in^2 or 0.66 in^2/ft'"
      ]
     },
     "execution_count": 45,
     "metadata": {},
     "output_type": "execute_result"
    }
   ],
   "source": [
    "# Provided Steel\n",
    "As = n * Ab #in^2\n",
    "As_ft = As * 12 / b\n",
    "f\"As = {round(As, 3)} in^2 or {round(As_ft, 3)} in^2/ft\""
   ]
  },
  {
   "cell_type": "code",
   "execution_count": 46,
   "id": "2ae275e0",
   "metadata": {},
   "outputs": [
    {
     "data": {
      "text/plain": [
       "'bar spacing = 8.0 in'"
      ]
     },
     "execution_count": 46,
     "metadata": {},
     "output_type": "execute_result"
    }
   ],
   "source": [
    "# bar spacing\n",
    "s = b / n\n",
    "f\"bar spacing = {round(s, 2)} in\""
   ]
  },
  {
   "cell_type": "code",
   "execution_count": 48,
   "id": "76b13244",
   "metadata": {},
   "outputs": [
    {
     "data": {
      "text/plain": [
       "'phiMn = 62.457 k-ft'"
      ]
     },
     "execution_count": 48,
     "metadata": {},
     "output_type": "execute_result"
    }
   ],
   "source": [
    "# Required Thickness\n",
    "phi = 0.9\n",
    "d = t - 1.0 #in\n",
    "a = As * fy / (0.85*fc * b)\n",
    "phiMn = 0.9 * As * fy * (d - a/2) / 12 / 1000\n",
    "f\"phiMn = {round(phiMn, 3)} k-ft\""
   ]
  },
  {
   "cell_type": "markdown",
   "id": "e0a1493e",
   "metadata": {},
   "source": [
    "## Deflection"
   ]
  },
  {
   "cell_type": "code",
   "execution_count": null,
   "id": "fd94870e",
   "metadata": {},
   "outputs": [],
   "source": []
  }
 ],
 "metadata": {
  "kernelspec": {
   "display_name": "Python 3 (ipykernel)",
   "language": "python",
   "name": "python3"
  },
  "language_info": {
   "codemirror_mode": {
    "name": "ipython",
    "version": 3
   },
   "file_extension": ".py",
   "mimetype": "text/x-python",
   "name": "python",
   "nbconvert_exporter": "python",
   "pygments_lexer": "ipython3",
   "version": "3.9.2"
  }
 },
 "nbformat": 4,
 "nbformat_minor": 5
}
