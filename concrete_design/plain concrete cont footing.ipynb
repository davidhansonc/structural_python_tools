{
 "cells": [
  {
   "cell_type": "code",
   "execution_count": 18,
   "id": "63dcd15e",
   "metadata": {},
   "outputs": [
    {
     "data": {
      "text/latex": [
       "\\newpage"
      ],
      "text/plain": [
       "<IPython.core.display.Latex object>"
      ]
     },
     "metadata": {},
     "output_type": "display_data"
    }
   ],
   "source": [
    "# Import Python Tools:\n",
    "from IPython.display import display, Latex\n",
    "import pandas as pd\n",
    "import numpy as np\n",
    "from numpy import sqrt, pi, average, cos, sin, tan, arcsin, arccos, arctan, deg2rad, rad2deg\n",
    "\n",
    "import load_combos\n",
    "from steel_design.AISC import aisc\n",
    "from concrete_design.material_properties import elastic_modulus, rigidity_modulus\n",
    "from concrete_design.steel_reinforcement import rebar_df as rebar\n",
    "from masonry_design.material_properties import NW_CMU, cmu_elastic_modulus\n",
    "conc_density = 150.0 #pcf\n",
    "steel_density = 0.2833 #pci\n",
    "\n",
    "display(Latex(r\"\\newpage\")) #pagebreak"
   ]
  },
  {
   "cell_type": "markdown",
   "id": "4f46dafd",
   "metadata": {},
   "source": [
    "# Plain Concrete Footing Checks\n",
    "## Properties"
   ]
  },
  {
   "cell_type": "code",
   "execution_count": 26,
   "id": "c58f808c",
   "metadata": {},
   "outputs": [],
   "source": [
    "phi = 0.60\n",
    "lmbda = 1.0\n",
    "fc = 2500.0 #psi"
   ]
  },
  {
   "cell_type": "markdown",
   "id": "12e8cb8b",
   "metadata": {},
   "source": [
    "## Up to 10\" Wall"
   ]
  },
  {
   "cell_type": "markdown",
   "id": "4ad4a336",
   "metadata": {},
   "source": [
    "#### Footing Geometry"
   ]
  },
  {
   "cell_type": "code",
   "execution_count": 35,
   "id": "cccc7e73",
   "metadata": {},
   "outputs": [],
   "source": [
    "h = 12 #in\n",
    "b = 12 #in (per foot basis)\n",
    "footing_width = 1 + 2/12 #ft"
   ]
  },
  {
   "cell_type": "markdown",
   "id": "465b545c",
   "metadata": {},
   "source": [
    "#### Wall Loading"
   ]
  },
  {
   "cell_type": "code",
   "execution_count": 36,
   "id": "4248ddba",
   "metadata": {},
   "outputs": [
    {
     "data": {
      "text/plain": [
       "'Vu = 4000 plf, Mu = 1166.67 ft-lbs/ft'"
      ]
     },
     "execution_count": 36,
     "metadata": {},
     "output_type": "execute_result"
    }
   ],
   "source": [
    "Pu = 4000 #plf\n",
    "Mu = Pu * footing_width / 4 #ft-lbs/ft\n",
    "Vu = Pu #plf\n",
    "\n",
    "f\"Vu = {round(Vu, 2)} plf, Mu = {round(Mu, 2)} ft-lbs/ft\""
   ]
  },
  {
   "cell_type": "markdown",
   "id": "e91b9ac3",
   "metadata": {},
   "source": [
    "#### $\\phi$Mn $\\geq$ Mu"
   ]
  },
  {
   "cell_type": "code",
   "execution_count": 37,
   "id": "e9281cd9",
   "metadata": {},
   "outputs": [
    {
     "data": {
      "text/plain": [
       "'phiMn = 3600.0 ft-lbs/ft'"
      ]
     },
     "execution_count": 37,
     "metadata": {},
     "output_type": "execute_result"
    }
   ],
   "source": [
    "Sm = b * h**2 / 6 #in^3/ft\n",
    "\n",
    "Mn = min(5 * lmbda * sqrt(fc) * Sm, 0.85 * fc * Sm) / 12 #ft-lbs/ft\n",
    "phiMn = phi*Mn\n",
    "f\"phiMn = {round(phiMn, 2)} ft-lbs/ft\""
   ]
  },
  {
   "cell_type": "markdown",
   "id": "51196fb1",
   "metadata": {},
   "source": [
    "#### $\\phi$Vn $\\geq$ Vu"
   ]
  },
  {
   "cell_type": "code",
   "execution_count": 38,
   "id": "63f60502",
   "metadata": {},
   "outputs": [
    {
     "data": {
      "text/plain": [
       "'phiVn = 5760.0 lbs/ft'"
      ]
     },
     "execution_count": 38,
     "metadata": {},
     "output_type": "execute_result"
    }
   ],
   "source": [
    "# One-Way\n",
    "bw = b #in/ft\n",
    "Vn = 4/3 * lmbda * sqrt(fc) * bw * h #lbs/ft\n",
    "phiVn = phi*Vn\n",
    "f\"phiVn = {round(phiVn, 2)} lbs/ft\""
   ]
  },
  {
   "cell_type": "code",
   "execution_count": null,
   "id": "4cbd8b34",
   "metadata": {},
   "outputs": [],
   "source": []
  }
 ],
 "metadata": {
  "kernelspec": {
   "display_name": "Python 3 (ipykernel)",
   "language": "python",
   "name": "python3"
  },
  "language_info": {
   "codemirror_mode": {
    "name": "ipython",
    "version": 3
   },
   "file_extension": ".py",
   "mimetype": "text/x-python",
   "name": "python",
   "nbconvert_exporter": "python",
   "pygments_lexer": "ipython3",
   "version": "3.9.2"
  }
 },
 "nbformat": 4,
 "nbformat_minor": 5
}
