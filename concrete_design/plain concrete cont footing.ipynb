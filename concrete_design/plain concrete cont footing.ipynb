{
 "cells": [
  {
   "cell_type": "code",
   "execution_count": 10,
   "id": "dab3d4bf",
   "metadata": {},
   "outputs": [],
   "source": [
    "# Import Python Tools:\n",
    "from IPython.display import display, Latex\n",
    "import pandas as pd\n",
    "import numpy as np\n",
    "from numpy import sqrt, pi, average, cos, sin, tan, arcsin, arccos, arctan, deg2rad, rad2deg\n",
    "from WhatIfAnalysis import GoalSeek\n",
    "# import sectionproperties as shape\n",
    "\n",
    "from ASCE import load_combos\n",
    "\n",
    "from steel_design.AISC import aisc\n",
    "steel_density = 490 / 12**3 #pci\n",
    "\n",
    "from concrete_design import material_properties as conc\n",
    "from concrete_design.steel_reinforcement import rebar_df as rebar\n",
    "conc_density = 150.0 #pcf\n",
    "\n",
    "from masonry_design import material_properties as cmu\n",
    "from masonry_design.material_properties import NW_CMU #psf\n",
    "\n",
    "from wood_design.sawn_lumber.ref_design_values.table_4a import table_4a_load\n",
    "from wood_design.sawn_lumber.ref_design_values.C_F import C_F_load\n",
    "table_4a = table_4a_load(species=\"DF\")"
   ]
  },
  {
   "cell_type": "markdown",
   "id": "d9cddfbc",
   "metadata": {},
   "source": [
    "<div style=\"page-break-after: always;\"></div>"
   ]
  },
  {
   "cell_type": "markdown",
   "id": "4f46dafd",
   "metadata": {},
   "source": [
    "# Plain Concrete Footing Checks\n",
    "## Properties"
   ]
  },
  {
   "cell_type": "code",
   "execution_count": 11,
   "id": "c58f808c",
   "metadata": {},
   "outputs": [],
   "source": [
    "φ = 0.60\n",
    "λ = 1.0\n",
    "fc = 2500.0 #psi"
   ]
  },
  {
   "cell_type": "markdown",
   "id": "4ad4a336",
   "metadata": {},
   "source": [
    "#### Footing Geometry"
   ]
  },
  {
   "cell_type": "code",
   "execution_count": 12,
   "id": "cccc7e73",
   "metadata": {},
   "outputs": [],
   "source": [
    "h = 10 #in\n",
    "b = 12 #in (per foot basis)"
   ]
  },
  {
   "cell_type": "markdown",
   "id": "e91b9ac3",
   "metadata": {},
   "source": [
    "#### φMn $\\geq$ Mu"
   ]
  },
  {
   "cell_type": "code",
   "execution_count": 13,
   "id": "e9281cd9",
   "metadata": {},
   "outputs": [
    {
     "data": {
      "text/plain": [
       "'φMn = 2500.0 ft-lbs/ft'"
      ]
     },
     "execution_count": 13,
     "metadata": {},
     "output_type": "execute_result"
    }
   ],
   "source": [
    "Sm = b * h**2 / 6 #in^3/ft\n",
    "\n",
    "Mn = min(5 * λ * sqrt(fc) * Sm, 0.85 * fc * Sm) / 12 #ft-lbs/ft\n",
    "φMn = φ*Mn\n",
    "f\"φMn = {round(φMn, 2)} ft-lbs/ft\""
   ]
  },
  {
   "cell_type": "markdown",
   "id": "51196fb1",
   "metadata": {},
   "source": [
    "#### φVn $\\geq$ Vu"
   ]
  },
  {
   "cell_type": "code",
   "execution_count": 14,
   "id": "63f60502",
   "metadata": {},
   "outputs": [
    {
     "data": {
      "text/plain": [
       "'φVn = 4800.0 lbs/ft'"
      ]
     },
     "execution_count": 14,
     "metadata": {},
     "output_type": "execute_result"
    }
   ],
   "source": [
    "# One-Way\n",
    "bw = b #in/ft\n",
    "Vn = 4/3 * λ * sqrt(fc) * bw * h #lbs/ft\n",
    "φVn = φ*Vn\n",
    "f\"φVn = {round(φVn, 2)} lbs/ft\""
   ]
  },
  {
   "cell_type": "code",
   "execution_count": null,
   "id": "4cbd8b34",
   "metadata": {},
   "outputs": [],
   "source": []
  }
 ],
 "metadata": {
  "kernelspec": {
   "display_name": "Python 3 (ipykernel)",
   "language": "python",
   "name": "python3"
  },
  "language_info": {
   "codemirror_mode": {
    "name": "ipython",
    "version": 3
   },
   "file_extension": ".py",
   "mimetype": "text/x-python",
   "name": "python",
   "nbconvert_exporter": "python",
   "pygments_lexer": "ipython3",
   "version": "3.9.2"
  }
 },
 "nbformat": 4,
 "nbformat_minor": 5
}
