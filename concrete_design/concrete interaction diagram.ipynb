{
 "cells": [
  {
   "cell_type": "code",
   "execution_count": 1,
   "id": "8c41b636",
   "metadata": {},
   "outputs": [
    {
     "data": {
      "text/latex": [
       "\\newpage"
      ],
      "text/plain": [
       "<IPython.core.display.Latex object>"
      ]
     },
     "metadata": {},
     "output_type": "display_data"
    }
   ],
   "source": [
    "# Import Python Tools:\n",
    "from IPython.display import display, Latex\n",
    "import pandas as pd\n",
    "import numpy as np\n",
    "from numpy import sqrt, pi, average, cos, sin, tan, arcsin, arccos, arctan, deg2rad, rad2deg\n",
    "import matplotlib.pyplot as plt\n",
    "import seaborn as sns\n",
    "\n",
    "from ASCE import load_combos\n",
    "\n",
    "from steel_design.AISC import aisc\n",
    "steel_density = 0.2833 #pci\n",
    "\n",
    "from concrete_design import material_properties as conc\n",
    "from concrete_design.steel_reinforcement import rebar_df as rebar\n",
    "conc_density = 150.0 #pcf\n",
    "\n",
    "from masonry_design import material_properties as cmu\n",
    "from masonry_design.material_properties import NW_CMU\n",
    "\n",
    "from wood_design.ref_design_values.table_4a.table_4a import table_4a_load\n",
    "table_4a = table_4a_load(species=\"DF\")\n",
    "\n",
    "display(Latex(r\"\\newpage\")) #pagebreak"
   ]
  },
  {
   "cell_type": "code",
   "execution_count": 2,
   "id": "87f13dd2",
   "metadata": {},
   "outputs": [],
   "source": [
    "# Materials and Geometry\n",
    "fc = 4000 #psi\n",
    "fy = 60000 #psi\n",
    "b = 12 #in\n",
    "h = 18 #in\n",
    "long_reinf = \"#6\"\n",
    "dbar = rebar.loc[long_reinf, \"Diameter\"] #in\n",
    "nbar = 6 #no. of bars\n",
    "nbar_side = 3 #no. of bars each side\n",
    "cc = 1 #in (concrete cover)\n",
    "tie_reinf = \"#3\"\n",
    "dtie = rebar.loc[tie_reinf, \"Diameter\"] #in (tie diameter)"
   ]
  },
  {
   "cell_type": "code",
   "execution_count": 3,
   "id": "05a822ac",
   "metadata": {},
   "outputs": [
    {
     "data": {
      "text/plain": [
       "(16.25, 1.75)"
      ]
     },
     "execution_count": 3,
     "metadata": {},
     "output_type": "execute_result"
    }
   ],
   "source": [
    "d = h - cc - dtie - dbar/2 #in\n",
    "dpr = cc + dtie + dbar/2 #in\n",
    "\n",
    "d, dpr"
   ]
  },
  {
   "cell_type": "code",
   "execution_count": 4,
   "id": "0c30ba38",
   "metadata": {},
   "outputs": [
    {
     "data": {
      "text/plain": [
       "0.85"
      ]
     },
     "execution_count": 4,
     "metadata": {},
     "output_type": "execute_result"
    }
   ],
   "source": [
    "# Beta1 (stress block multiplier)\n",
    "\n",
    "if fc <= 4000 and fc >= 2500:\n",
    "    beta1 = 0.85\n",
    "elif fc < 8000 and fc > 4000:\n",
    "    beta1 = 0.85 - 0.05 * (fc - 4000) / 1000\n",
    "elif fc >= 8000:\n",
    "    beta1 = 0.65\n",
    "else:\n",
    "    print(\"error!\")\n",
    "\n",
    "beta1"
   ]
  },
  {
   "cell_type": "code",
   "execution_count": 6,
   "id": "740a6cd1",
   "metadata": {},
   "outputs": [
    {
     "data": {
      "text/plain": [
       "(1.32, 1.32)"
      ]
     },
     "execution_count": 6,
     "metadata": {},
     "output_type": "execute_result"
    }
   ],
   "source": [
    "# Steel Areas\n",
    "\n",
    "Ast = rebar.loc[long_reinf, \"Area\"] * nbar_side #in^2\n",
    "Asc = Ast\n",
    "\n",
    "Ast, Asc"
   ]
  },
  {
   "cell_type": "code",
   "execution_count": 7,
   "id": "b83d9830",
   "metadata": {},
   "outputs": [],
   "source": [
    "# Stresses and Strains\n",
    "\n",
    "Es = 29000000 #psi\n",
    "ec = 0.003 # concrete max strain\n",
    "ey = fy / Es\n",
    "\n",
    "def stress_strain(c):\n",
    "    es = ec * (d - c) / c           # steel strain at tension side\n",
    "    fs = es * Es                    # steel stress at tension side\n",
    "    es_pr = ec * (c - dpr) / c      # steel strain at compression side\n",
    "    fs_pr = es_pr * Es              # steel stress at compression side\n",
    "    a = beta1 * c                   # compression stress block depth\n",
    "    return a, es, fs, es_pr, fs_pr"
   ]
  },
  {
   "cell_type": "code",
   "execution_count": 8,
   "id": "bb28bf17",
   "metadata": {},
   "outputs": [],
   "source": [
    "# Strength reduction factor (ties, not spirals)\n",
    "\n",
    "def strength_factor():\n",
    "    if es <= ey:\n",
    "        phi, classify = 0.65, \"compression-controlled\"\n",
    "    elif es >= ey + 0.003:\n",
    "        phi, classify = 0.90, \"tension-controlled\"\n",
    "    elif es > ey and es < ey + 0.003:\n",
    "        phi, classify = 0.65 + 0.25 * (es - ey) / (0.003), \"transition\"\n",
    "    return phi, classify"
   ]
  },
  {
   "cell_type": "code",
   "execution_count": 9,
   "id": "a0d55698",
   "metadata": {},
   "outputs": [],
   "source": [
    "# Forces and Moments\n",
    "\n",
    "def forces_moments():\n",
    "    T = Ast * min(fy, fs)                   # tension force steel at tension side (lbs)\n",
    "    Cc = 0.85 * fc * a * b                  # compression force in concrete (lbs)\n",
    "    Cs = Asc * (min(fy, fs_pr) - 0.85*fc)   # compression force steel at compression side (lbs)\n",
    "\n",
    "    Pn = Cc + Cs - T                        # Nominal axial load capacity (lbs)\n",
    "    phiPn = phi * Pn                        # Ultimate axial load capacity (kips)\n",
    "\n",
    "    # Solve for eccentricity by taking moment about T:\n",
    "    # Sum of moments at T: Pn(ecc + h/2 - dpr) - Cc(d - a/2) - Cs(d - dpr) = 0\n",
    "    ecc = (Cc*(d - a/2) + Cs*(d - dpr)) / Pn - (h/2 - dpr) #in (eccentricity)\n",
    "    Mn = Pn * ecc                           # Nominal moment capacity (in-lbs)\n",
    "    phiMn = phi * Mn                        # Ultimate moment capacity (in-lbs)\n",
    "\n",
    "    return ecc, Pn, phiPn, Mn, phiMn"
   ]
  },
  {
   "cell_type": "code",
   "execution_count": 10,
   "id": "a09abe45",
   "metadata": {},
   "outputs": [
    {
     "data": {
      "text/html": [
       "<div>\n",
       "<style scoped>\n",
       "    .dataframe tbody tr th:only-of-type {\n",
       "        vertical-align: middle;\n",
       "    }\n",
       "\n",
       "    .dataframe tbody tr th {\n",
       "        vertical-align: top;\n",
       "    }\n",
       "\n",
       "    .dataframe thead th {\n",
       "        text-align: right;\n",
       "    }\n",
       "</style>\n",
       "<table border=\"1\" class=\"dataframe\">\n",
       "  <thead>\n",
       "    <tr style=\"text-align: right;\">\n",
       "      <th></th>\n",
       "      <th>c value</th>\n",
       "      <th>ecc (in)</th>\n",
       "      <th>Pn (kips)</th>\n",
       "      <th>phiPn (kips)</th>\n",
       "      <th>Mn (kip-ft)</th>\n",
       "      <th>phiMn (kip-ft)</th>\n",
       "      <th>phi</th>\n",
       "    </tr>\n",
       "  </thead>\n",
       "  <tbody>\n",
       "    <tr>\n",
       "      <th>0</th>\n",
       "      <td>27.0</td>\n",
       "      <td>-2.0</td>\n",
       "      <td>1056.795</td>\n",
       "      <td>686.917</td>\n",
       "      <td>-175.610250</td>\n",
       "      <td>-114.146667</td>\n",
       "      <td>0.65</td>\n",
       "    </tr>\n",
       "    <tr>\n",
       "      <th>1</th>\n",
       "      <td>26.9</td>\n",
       "      <td>-2.0</td>\n",
       "      <td>1053.070</td>\n",
       "      <td>684.496</td>\n",
       "      <td>-171.435750</td>\n",
       "      <td>-111.433250</td>\n",
       "      <td>0.65</td>\n",
       "    </tr>\n",
       "    <tr>\n",
       "      <th>2</th>\n",
       "      <td>26.8</td>\n",
       "      <td>-1.9</td>\n",
       "      <td>1049.344</td>\n",
       "      <td>682.073</td>\n",
       "      <td>-167.284667</td>\n",
       "      <td>-108.735000</td>\n",
       "      <td>0.65</td>\n",
       "    </tr>\n",
       "    <tr>\n",
       "      <th>3</th>\n",
       "      <td>26.7</td>\n",
       "      <td>-1.9</td>\n",
       "      <td>1045.615</td>\n",
       "      <td>679.650</td>\n",
       "      <td>-163.157000</td>\n",
       "      <td>-106.052000</td>\n",
       "      <td>0.65</td>\n",
       "    </tr>\n",
       "    <tr>\n",
       "      <th>4</th>\n",
       "      <td>26.6</td>\n",
       "      <td>-1.8</td>\n",
       "      <td>1041.884</td>\n",
       "      <td>677.225</td>\n",
       "      <td>-159.052667</td>\n",
       "      <td>-103.384250</td>\n",
       "      <td>0.65</td>\n",
       "    </tr>\n",
       "    <tr>\n",
       "      <th>5</th>\n",
       "      <td>26.5</td>\n",
       "      <td>-1.8</td>\n",
       "      <td>1038.151</td>\n",
       "      <td>674.798</td>\n",
       "      <td>-154.971667</td>\n",
       "      <td>-100.731583</td>\n",
       "      <td>0.65</td>\n",
       "    </tr>\n",
       "    <tr>\n",
       "      <th>6</th>\n",
       "      <td>26.4</td>\n",
       "      <td>-1.8</td>\n",
       "      <td>1034.416</td>\n",
       "      <td>672.371</td>\n",
       "      <td>-150.914083</td>\n",
       "      <td>-98.094167</td>\n",
       "      <td>0.65</td>\n",
       "    </tr>\n",
       "    <tr>\n",
       "      <th>7</th>\n",
       "      <td>26.3</td>\n",
       "      <td>-1.7</td>\n",
       "      <td>1030.680</td>\n",
       "      <td>669.942</td>\n",
       "      <td>-146.879833</td>\n",
       "      <td>-95.471917</td>\n",
       "      <td>0.65</td>\n",
       "    </tr>\n",
       "    <tr>\n",
       "      <th>8</th>\n",
       "      <td>26.2</td>\n",
       "      <td>-1.7</td>\n",
       "      <td>1026.941</td>\n",
       "      <td>667.512</td>\n",
       "      <td>-142.868917</td>\n",
       "      <td>-92.864750</td>\n",
       "      <td>0.65</td>\n",
       "    </tr>\n",
       "    <tr>\n",
       "      <th>9</th>\n",
       "      <td>26.1</td>\n",
       "      <td>-1.6</td>\n",
       "      <td>1023.200</td>\n",
       "      <td>665.080</td>\n",
       "      <td>-138.881250</td>\n",
       "      <td>-90.272833</td>\n",
       "      <td>0.65</td>\n",
       "    </tr>\n",
       "  </tbody>\n",
       "</table>\n",
       "</div>"
      ],
      "text/plain": [
       "   c value  ecc (in)  Pn (kips)  phiPn (kips)  Mn (kip-ft)  phiMn (kip-ft)   \n",
       "0     27.0      -2.0   1056.795       686.917  -175.610250     -114.146667  \\\n",
       "1     26.9      -2.0   1053.070       684.496  -171.435750     -111.433250   \n",
       "2     26.8      -1.9   1049.344       682.073  -167.284667     -108.735000   \n",
       "3     26.7      -1.9   1045.615       679.650  -163.157000     -106.052000   \n",
       "4     26.6      -1.8   1041.884       677.225  -159.052667     -103.384250   \n",
       "5     26.5      -1.8   1038.151       674.798  -154.971667     -100.731583   \n",
       "6     26.4      -1.8   1034.416       672.371  -150.914083      -98.094167   \n",
       "7     26.3      -1.7   1030.680       669.942  -146.879833      -95.471917   \n",
       "8     26.2      -1.7   1026.941       667.512  -142.868917      -92.864750   \n",
       "9     26.1      -1.6   1023.200       665.080  -138.881250      -90.272833   \n",
       "\n",
       "    phi  \n",
       "0  0.65  \n",
       "1  0.65  \n",
       "2  0.65  \n",
       "3  0.65  \n",
       "4  0.65  \n",
       "5  0.65  \n",
       "6  0.65  \n",
       "7  0.65  \n",
       "8  0.65  \n",
       "9  0.65  "
      ]
     },
     "execution_count": 10,
     "metadata": {},
     "output_type": "execute_result"
    }
   ],
   "source": [
    "# Solve axial load and moment at varying 'c' values\n",
    "\n",
    "nom_load = []\n",
    "ult_load = []\n",
    "nom_moment = []\n",
    "ult_moment = []\n",
    "eccentricity = []\n",
    "phi_factor = []\n",
    "c_value = []\n",
    "\n",
    "c_values = np.arange(1.5*h, 0, -0.1)\n",
    "for c in c_values:\n",
    "    a, es, fs, es_pr, fs_pr = stress_strain(c)\n",
    "    phi, classify = strength_factor()\n",
    "    ecc, Pn, phiPn, Mn, phiMn = forces_moments()\n",
    "    if ecc <= 1.5*h:\n",
    "        nom_load.append(round(Pn))\n",
    "        ult_load.append(round(phiPn))\n",
    "        nom_moment.append(round(Mn))\n",
    "        ult_moment.append(round(phiMn))\n",
    "        eccentricity.append(round(ecc, 1))\n",
    "        phi_factor.append(round(phi, 2))\n",
    "        c_value.append(round(c, 3))\n",
    "\n",
    "# change units\n",
    "nom_load = [i / 1000 for i in nom_load]             # kips\n",
    "ult_load = [i / 1000 for i in ult_load]             # kips\n",
    "nom_moment = [i / 1000 / 12 for i in nom_moment]    # kip-ft\n",
    "ult_moment = [i / 1000 / 12 for i in ult_moment]    # kip-ft\n",
    "        \n",
    "# Save the above calculated data in a dataframe\n",
    "dict = {\n",
    "    \"c value\": c_value,\n",
    "    \"ecc (in)\": eccentricity,\n",
    "    \"Pn (kips)\": nom_load,\n",
    "    \"phiPn (kips)\": ult_load,\n",
    "    \"Mn (kip-ft)\": nom_moment,\n",
    "    \"phiMn (kip-ft)\": ult_moment,\n",
    "    \"phi\": phi_factor,\n",
    "}\n",
    "\n",
    "df = pd.DataFrame(dict)\n",
    "\n",
    "# Print the last 10 rows of the dataframe to verify\n",
    "df.head(10)\n",
    "#df[(df[\"phiMn (kip-ft)\"] > 80) & (df[\"phiMn (kip-ft)\"] < 120)].tail(20)"
   ]
  },
  {
   "cell_type": "code",
   "execution_count": 11,
   "id": "8a08ab9f",
   "metadata": {},
   "outputs": [
    {
     "data": {
      "text/plain": [
       "'Max allowable concentric axial load = 459.59 kips'"
      ]
     },
     "execution_count": 11,
     "metadata": {},
     "output_type": "execute_result"
    }
   ],
   "source": [
    "# Calculate the maximum allowable axial load (concentric)\n",
    "\n",
    "phi = 0.65\n",
    "alpha = 0.80\n",
    "Ag = b*h\n",
    "As = rebar.loc[long_reinf, \"Area\"] * nbar\n",
    "Pmax = phi * alpha * (0.85*fc*(Ag-As) + As*fy) / 1000\n",
    "f\"Max allowable concentric axial load = {round(Pmax, 2)} kips\""
   ]
  },
  {
   "cell_type": "code",
   "execution_count": 12,
   "id": "0e40b6d0",
   "metadata": {},
   "outputs": [
    {
     "data": {
      "image/png": "[encoded data removed]",
      "text/plain": [
       "<Figure size 1300x700 with 1 Axes>"
      ]
     },
     "metadata": {},
     "output_type": "display_data"
    }
   ],
   "source": [
    "# Plotting the P-M Interaction Diagram\n",
    "\n",
    "sns.set_style(\"darkgrid\")\n",
    "fig, ax = plt.subplots(figsize=(13,7))\n",
    "plt.rc(\"axes\", labelweight=\"bold\", labelsize=\"large\", titleweight=\"bold\", titlesize=15)\n",
    "ax = sns.scatterplot(x=\"Mn (kip-ft)\", y=\"Pn (kips)\", data=df, color=\"g\", label=\"Nominal\")\n",
    "sns.scatterplot(x=\"phiMn (kip-ft)\", y=\"phiPn (kips)\", data=df, color=\"brown\", label=\"Ultimate\")\n",
    "ax.set_xlabel(\"Moment (M, kip-ft)\")\n",
    "ax.set_ylabel(\"Axial (P, kips)\")\n",
    "plt.title(\"P-M Interaction Diagram\")\n",
    "\n",
    "plt.ylim(0, 1.1*max(dict[\"Pn (kips)\"]))\n",
    "plt.xlim(0, 1.1*max(dict[\"Mn (kip-ft)\"]))\n",
    "plt.axhline(Pmax, color=\"red\")\n",
    "plt.text(80, Pmax+10, \"Pmax\")\n",
    "\n",
    "plt.show()"
   ]
  },
  {
   "cell_type": "code",
   "execution_count": null,
   "id": "af1add24",
   "metadata": {},
   "outputs": [],
   "source": []
  }
 ],
 "metadata": {
  "kernelspec": {
   "display_name": "VENV",
   "language": "python",
   "name": "venv"
  },
  "language_info": {
   "codemirror_mode": {
    "name": "ipython",
    "version": 3
   },
   "file_extension": ".py",
   "mimetype": "text/x-python",
   "name": "python",
   "nbconvert_exporter": "python",
   "pygments_lexer": "ipython3",
   "version": "3.11.3"
  },
  "vscode": {
   "interpreter": {
    "hash": "8c340b0736d8d4910d2ca7989655b8187219e0906e973b44a7c0150cb2eac932"
   }
  }
 },
 "nbformat": 4,
 "nbformat_minor": 5
}
