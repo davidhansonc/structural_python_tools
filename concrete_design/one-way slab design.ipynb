{
 "cells": [
  {
   "cell_type": "code",
   "execution_count": 1,
   "id": "b39850e8",
   "metadata": {},
   "outputs": [],
   "source": [
    "# Import Python Tools:\n",
    "from IPython.display import display, Latex\n",
    "import pandas as pd\n",
    "import numpy as np\n",
    "from numpy import sqrt, pi, average, cos, sin, tan, arcsin, arccos, arctan, deg2rad, rad2deg\n",
    "# import sectionproperties as shape\n",
    "\n",
    "from ASCE import load_combos\n",
    "\n",
    "from steel_design.AISC import aisc\n",
    "steel_density = 0.2833 #pci\n",
    "\n",
    "from concrete_design.material_properties import elastic_modulus, cracked_moment_inertia\n",
    "from concrete_design.steel_reinforcement import rebar_df as rebar\n",
    "conc_density = 150.0 #pcf\n",
    "\n",
    "from masonry_design import material_properties as cmu\n",
    "from masonry_design.material_properties import NW_CMU #psf\n",
    "from concrete_design.beam_calculations import design_properties as bm\n",
    "\n",
    "from wood_design.ref_design_values.table_4a.table_4a import table_4a_load\n",
    "table_4a = table_4a_load(species=\"DF\")"
   ]
  },
  {
   "attachments": {},
   "cell_type": "markdown",
   "id": "3dfb34f8",
   "metadata": {},
   "source": [
    "<div style=\"page-break-after: always;\"></div>"
   ]
  },
  {
   "attachments": {},
   "cell_type": "markdown",
   "id": "79fc1b6a",
   "metadata": {},
   "source": [
    "# Concrete Slab Design\n",
    "## Inputs"
   ]
  },
  {
   "attachments": {},
   "cell_type": "markdown",
   "id": "7a09eaad",
   "metadata": {},
   "source": [
    "### Materials and Geometry"
   ]
  },
  {
   "cell_type": "code",
   "execution_count": 2,
   "id": "68b69d09",
   "metadata": {},
   "outputs": [],
   "source": [
    "# Materials\n",
    "fc = 3000.0 #psi\n",
    "fy = 60000.0 #psi\n",
    "\n",
    "# Dimensions\n",
    "ln = 21 * 12 #in\n",
    "b = 6 #in\n",
    "t_slab = 6 #in\n",
    "cover_b = 1 #in\n",
    "cover_t = 3/4 #in"
   ]
  },
  {
   "cell_type": "code",
   "execution_count": 3,
   "id": "05e453f3",
   "metadata": {},
   "outputs": [
    {
     "name": "stdout",
     "output_type": "stream",
     "text": [
      "bar spacing = 6.0 in\n",
      "d_t = 4.6875 in\n",
      "As = 0.31 in^2 or 0.62 in^2/ft\n"
     ]
    }
   ],
   "source": [
    "# Provided Steel\n",
    "\n",
    "# bar spacing\n",
    "n = 1 #bars per width\n",
    "s = b / n\n",
    "print(f\"bar spacing = {round(s, 2)} in\")\n",
    "\n",
    "# bar properties\n",
    "bar = \"#5\"\n",
    "Ab = rebar.loc[bar, \"Area\"]\n",
    "db = rebar.loc[bar, \"Diameter\"]\n",
    "d_t = t_slab - cover_b - db/2 #in\n",
    "d_c = cover_t + db/2 #in\n",
    "print(f\"d_t = {d_t} in\")\n",
    "\n",
    "As = n * Ab #in^2\n",
    "As_ft = As * 12 / b\n",
    "print(f\"As = {round(As, 3)} in^2 or {round(As_ft, 3)} in^2/ft\")"
   ]
  },
  {
   "attachments": {},
   "cell_type": "markdown",
   "id": "fe6e9a44",
   "metadata": {},
   "source": [
    "### Loads"
   ]
  },
  {
   "cell_type": "code",
   "execution_count": 4,
   "id": "7bcebe1d",
   "metadata": {},
   "outputs": [
    {
     "name": "stdout",
     "output_type": "stream",
     "text": [
      "w_u = 93.0 plf\n"
     ]
    },
    {
     "data": {
      "text/plain": [
       "'Mu = 5126.62 lb-ft'"
      ]
     },
     "execution_count": 4,
     "metadata": {},
     "output_type": "execute_result"
    }
   ],
   "source": [
    "DL = conc_density * t_slab/12\n",
    "LL = 60 #psf\n",
    "\n",
    "LN = ln / 12 #ft\n",
    "D=DL*b/12 #plf\n",
    "L=LL*b/12 #plf\n",
    "w_u = load_combos.LRFD(D, L) #plf\n",
    "print(f\"w_u = {round(w_u, 2)} plf\")\n",
    "\n",
    "Mu = w_u * LN**2 / 8 * 12 #lb-in\n",
    "f\"Mu = {round(Mu / 12, 2)} lb-ft\""
   ]
  },
  {
   "attachments": {},
   "cell_type": "markdown",
   "id": "fbf473d7",
   "metadata": {},
   "source": [
    "## Strength Design"
   ]
  },
  {
   "cell_type": "code",
   "execution_count": 5,
   "id": "3bc096f2",
   "metadata": {},
   "outputs": [
    {
     "name": "stdout",
     "output_type": "stream",
     "text": [
      "φ = 0.9\n",
      "Mu = 5126.62 lb-ft\n",
      "φMn = 5691.12 lb-ft\n"
     ]
    },
    {
     "data": {
      "text/plain": [
       "True"
      ]
     },
     "execution_count": 5,
     "metadata": {},
     "output_type": "execute_result"
    }
   ],
   "source": [
    "# Flexural Strength\n",
    "\n",
    "a = As * fy / (0.85 * fc * b)\n",
    "c = a/0.85 #in\n",
    "ε_t = bm.tension_steel_strain(d_t, c)\n",
    "φ = bm.phi_factor(ε_t, fy)\n",
    "print(f\"φ = {round(φ, 3)}\")\n",
    "Mn = As * fy * (d_t - a/2)\n",
    "φMn = φ * Mn\n",
    "\n",
    "print(f\"Mu = {round(Mu / 12, 2)} lb-ft\")\n",
    "print(f\"φMn = {round(φMn / 12, 2)} lb-ft\")\n",
    "φMn > Mu"
   ]
  },
  {
   "attachments": {},
   "cell_type": "markdown",
   "id": "6fe43806",
   "metadata": {},
   "source": [
    "<div style=\"page-break-after: always;\"></div>"
   ]
  },
  {
   "attachments": {},
   "cell_type": "markdown",
   "id": "e0a1493e",
   "metadata": {},
   "source": [
    "## Deflection"
   ]
  },
  {
   "attachments": {},
   "cell_type": "markdown",
   "id": "bfac2263",
   "metadata": {},
   "source": [
    "### Sustained Load Deflection"
   ]
  },
  {
   "attachments": {},
   "cell_type": "markdown",
   "id": "d5f18d79",
   "metadata": {},
   "source": [
    "#### Short-term Dead Load Deflection"
   ]
  },
  {
   "cell_type": "code",
   "execution_count": 6,
   "id": "b49fc109",
   "metadata": {},
   "outputs": [
    {
     "name": "stdout",
     "output_type": "stream",
     "text": [
      "M_D = 2067.19 lb-ft\n"
     ]
    }
   ],
   "source": [
    "w_D = D #plf\n",
    "\n",
    "M_D = w_D * LN**2 / 8 * 12 #lb-in\n",
    "print(f\"M_D = {round(M_D / 12, 2)} lb-ft\")"
   ]
  },
  {
   "cell_type": "code",
   "execution_count": 7,
   "id": "6cdb243d",
   "metadata": {},
   "outputs": [
    {
     "name": "stdout",
     "output_type": "stream",
     "text": [
      "Ig = 108.0 in\n"
     ]
    },
    {
     "data": {
      "text/plain": [
       "'Mcr = 1232.38 lb-ft'"
      ]
     },
     "execution_count": 7,
     "metadata": {},
     "output_type": "execute_result"
    }
   ],
   "source": [
    "# Stiffness Properties\n",
    "fr = 7.5 * sqrt(fc) #psi\n",
    "Ig = b * t_slab**3 / 12 #in^4\n",
    "print(f\"Ig = {round(Ig, 2)} in\")\n",
    "yt = t_slab / 2 #in\n",
    "Mcr = fr * Ig / yt #lb-in\n",
    "f\"Mcr = {round(Mcr / 12, 2)} lb-ft\""
   ]
  },
  {
   "cell_type": "code",
   "execution_count": 8,
   "id": "15e6a290",
   "metadata": {},
   "outputs": [
    {
     "name": "stdout",
     "output_type": "stream",
     "text": [
      "Ec = 3320.56 ksi\n",
      "Icr = 36.14 in^4\n",
      "Ie = 40.38 in\n"
     ]
    },
    {
     "data": {
      "text/plain": [
       "'Elastic Deflection = 1.224 in'"
      ]
     },
     "execution_count": 8,
     "metadata": {},
     "output_type": "execute_result"
    }
   ],
   "source": [
    "def elastic_deflection(Ma, w_a):\n",
    "    # Elastic Modulus\n",
    "    Ec = elastic_modulus(fc=fc) #psi\n",
    "    print(f\"Ec = {round(Ec/1000, 2)} ksi\")\n",
    "    # Moment of Inertia\n",
    "    Ie = Ig\n",
    "    Icr = cracked_moment_inertia(b=b, d=d_t, Ec=Ec, As=As)\n",
    "    print(f\"Icr = {round(Icr, 2)} in^4\")\n",
    "    if Ma > 2/3*Mcr:\n",
    "        Ie = Icr / (1 - ((2/3)*Mcr/Ma)**2 * (1 - Icr/Ig))\n",
    "        print(f\"Ie = {round(Ie, 2)} in\")\n",
    "    else:\n",
    "        print(\"section uncracked\")\n",
    "\n",
    "    #Elastic Deflection\n",
    "    defl_elastic = 5 * (w_a/12) * ln**4 / (384 * Ec * Ie)\n",
    "    return defl_elastic\n",
    "\n",
    "DL_defl = elastic_deflection(Ma=M_D, w_a = w_D)\n",
    "f\"Elastic Deflection = {round(DL_defl, 3)} in\""
   ]
  },
  {
   "attachments": {},
   "cell_type": "markdown",
   "id": "0dcbe14e",
   "metadata": {},
   "source": [
    "#### Long-term Dead Load Deflection"
   ]
  },
  {
   "cell_type": "code",
   "execution_count": 9,
   "id": "fd94870e",
   "metadata": {},
   "outputs": [
    {
     "data": {
      "text/plain": [
       "'lmbda_dlt = 0.583'"
      ]
     },
     "execution_count": 9,
     "metadata": {},
     "output_type": "execute_result"
    }
   ],
   "source": [
    "# Deflection Factor\n",
    "xi = 2.0 #duration factor\n",
    "bar = \"#5\"\n",
    "Ab_c = rebar.loc[bar, \"Area\"] #in^2\n",
    "As_c = n * Ab_c #compression reinforcement\n",
    "rho_c = As_c / (b * d_c)\n",
    "\n",
    "lmbda_dlt = xi / (1 + 50*rho_c)\n",
    "f\"lmbda_dlt = {round(lmbda_dlt, 3)}\""
   ]
  },
  {
   "cell_type": "code",
   "execution_count": 10,
   "id": "e6da8ff2",
   "metadata": {
    "scrolled": true
   },
   "outputs": [
    {
     "data": {
      "text/plain": [
       "'Long-Term Deflection = 0.713 in'"
      ]
     },
     "execution_count": 10,
     "metadata": {},
     "output_type": "execute_result"
    }
   ],
   "source": [
    "# Long-Term Deflection\n",
    "sustained_defl = DL_defl * lmbda_dlt #in\n",
    "f\"Long-Term Deflection = {round(sustained_defl, 3)} in\""
   ]
  },
  {
   "cell_type": "code",
   "execution_count": 11,
   "id": "e87f7d45",
   "metadata": {},
   "outputs": [
    {
     "data": {
      "text/plain": [
       "'Sustained Dead Load Deflection = 1.937 in'"
      ]
     },
     "execution_count": 11,
     "metadata": {},
     "output_type": "execute_result"
    }
   ],
   "source": [
    "# Total Sustained Dead Load Deflection\n",
    "sustained_total = DL_defl + sustained_defl\n",
    "f\"Sustained Dead Load Deflection = {round(sustained_total, 3)} in\""
   ]
  },
  {
   "attachments": {},
   "cell_type": "markdown",
   "id": "2448f65c",
   "metadata": {},
   "source": [
    "### Live Load Deflection"
   ]
  },
  {
   "cell_type": "code",
   "execution_count": 12,
   "id": "d9c80c5f",
   "metadata": {},
   "outputs": [
    {
     "name": "stdout",
     "output_type": "stream",
     "text": [
      "Ma = 1653.75 lb-ft\n"
     ]
    }
   ],
   "source": [
    "w_L = L #plf\n",
    "\n",
    "M_L = w_L * LN**2 / 8 * 12 #lb-in\n",
    "print(f\"Ma = {round(M_L / 12, 2)} lb-ft\")"
   ]
  },
  {
   "cell_type": "code",
   "execution_count": 13,
   "id": "5e43ac51",
   "metadata": {},
   "outputs": [
    {
     "name": "stdout",
     "output_type": "stream",
     "text": [
      "Ec = 3320.56 ksi\n",
      "Icr = 36.14 in^4\n",
      "Ie = 43.24 in\n"
     ]
    },
    {
     "data": {
      "text/plain": [
       "'Elastic Deflection = 0.914 in'"
      ]
     },
     "execution_count": 13,
     "metadata": {},
     "output_type": "execute_result"
    }
   ],
   "source": [
    "LL_defl = elastic_deflection(Ma=M_L, w_a=w_L)\n",
    "f\"Elastic Deflection = {round(LL_defl, 3)} in\""
   ]
  },
  {
   "cell_type": "code",
   "execution_count": 14,
   "id": "81c3f4a4",
   "metadata": {},
   "outputs": [
    {
     "data": {
      "text/plain": [
       "'sustained deflection + instantaneous LL deflection = 2.8513 in'"
      ]
     },
     "execution_count": 14,
     "metadata": {},
     "output_type": "execute_result"
    }
   ],
   "source": [
    "long_term_defl_with_LL = sustained_total + LL_defl\n",
    "f\"sustained deflection + instantaneous LL deflection = {round(long_term_defl_with_LL, 4)} in\""
   ]
  },
  {
   "attachments": {},
   "cell_type": "markdown",
   "id": "c5263d0b",
   "metadata": {},
   "source": [
    "#### IBC Check"
   ]
  },
  {
   "cell_type": "code",
   "execution_count": 15,
   "id": "dd347668",
   "metadata": {},
   "outputs": [
    {
     "data": {
      "text/plain": [
       "(1.05, 0.7)"
      ]
     },
     "execution_count": 15,
     "metadata": {},
     "output_type": "execute_result"
    }
   ],
   "source": [
    "dead_live_limit = ln/240\n",
    "live_load_limit = ln/360\n",
    "\n",
    "dead_live_limit, live_load_limit"
   ]
  },
  {
   "attachments": {},
   "cell_type": "markdown",
   "id": "eebcd791",
   "metadata": {},
   "source": [
    "## Minimum Requirements"
   ]
  },
  {
   "cell_type": "code",
   "execution_count": 16,
   "id": "d7916721",
   "metadata": {},
   "outputs": [
    {
     "name": "stdout",
     "output_type": "stream",
     "text": [
      "t_min (two way) = 8.4 in\n",
      "t_min (one way) = 12.6 in\n"
     ]
    }
   ],
   "source": [
    "# Minimum Thickness if deflection is not calculated\n",
    "t_min = ln / 30\n",
    "print(f\"t_min (two way) = {round(t_min, 2)} in\")\n",
    "\n",
    "t_min = ln / 20\n",
    "print(f\"t_min (one way) = {round(t_min, 2)} in\")"
   ]
  },
  {
   "cell_type": "code",
   "execution_count": 17,
   "id": "39d23f06",
   "metadata": {},
   "outputs": [
    {
     "data": {
      "text/plain": [
       "'As,min = 0.065 in^2 or 0.13 in^2/ft'"
      ]
     },
     "execution_count": 17,
     "metadata": {},
     "output_type": "execute_result"
    }
   ],
   "source": [
    "# Minimum Steel\n",
    "Ag = b * t_slab #in^2\n",
    "As_min = 0.0018 * Ag\n",
    "As_minft = As_min * 12 / b\n",
    "\n",
    "f\"As,min = {round(As_min, 3)} in^2 or {round(As_minft, 3)} in^2/ft\""
   ]
  },
  {
   "cell_type": "code",
   "execution_count": null,
   "id": "8d5e44e9",
   "metadata": {},
   "outputs": [],
   "source": []
  }
 ],
 "metadata": {
  "kernelspec": {
   "display_name": "VENV_MAC",
   "language": "python",
   "name": "python3"
  },
  "language_info": {
   "codemirror_mode": {
    "name": "ipython",
    "version": 3
   },
   "file_extension": ".py",
   "mimetype": "text/x-python",
   "name": "python",
   "nbconvert_exporter": "python",
   "pygments_lexer": "ipython3",
   "version": "3.11.3"
  }
 },
 "nbformat": 4,
 "nbformat_minor": 5
}
