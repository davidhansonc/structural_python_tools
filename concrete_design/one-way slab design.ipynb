{
 "cells": [
  {
   "cell_type": "code",
   "execution_count": 71,
   "id": "12f1dca6",
   "metadata": {},
   "outputs": [
    {
     "data": {
      "text/latex": [
       "\\newpage"
      ],
      "text/plain": [
       "<IPython.core.display.Latex object>"
      ]
     },
     "metadata": {},
     "output_type": "display_data"
    }
   ],
   "source": [
    "# Import Python Tools:\n",
    "from IPython.display import display, Latex\n",
    "import pandas as pd\n",
    "import numpy as np\n",
    "from numpy import sqrt, pi, average, cos, sin, tan, arcsin, arccos, arctan, deg2rad, rad2deg\n",
    "\n",
    "import load_combos\n",
    "from steel_design.AISC import aisc\n",
    "from concrete_design.material_properties import elastic_modulus, cracked_moment_inertia\n",
    "from concrete_design.steel_reinforcement import rebar_df as rebar\n",
    "from masonry_design.material_properties import NW_CMU, cmu_elastic_modulus\n",
    "conc_density = 150.0 #pcf\n",
    "steel_density = 0.2833 #pci\n",
    "\n",
    "display(Latex(r\"\\newpage\")) #pagebreak"
   ]
  },
  {
   "cell_type": "markdown",
   "id": "79fc1b6a",
   "metadata": {},
   "source": [
    "# Concrete Slab Design\n",
    "## Inputs"
   ]
  },
  {
   "cell_type": "markdown",
   "id": "7a09eaad",
   "metadata": {},
   "source": [
    "### Materials and Geometry"
   ]
  },
  {
   "cell_type": "code",
   "execution_count": 72,
   "id": "68b69d09",
   "metadata": {},
   "outputs": [
    {
     "data": {
      "text/plain": [
       "'bar spacing = 12.0 in'"
      ]
     },
     "execution_count": 72,
     "metadata": {},
     "output_type": "execute_result"
    }
   ],
   "source": [
    "# Materials\n",
    "fc = 3000.0 #psi\n",
    "fy = 60000.0 #psi\n",
    "\n",
    "# Dimensions\n",
    "ln = 24.5 * 12 #in\n",
    "b = 12.0 #in\n",
    "t_slab = 10 #in\n",
    "cover_b = 1 #in\n",
    "cover_t = 3/4 #in\n",
    "\n",
    "# bar spacing\n",
    "n = 1 #bars per width\n",
    "s = b / n\n",
    "f\"bar spacing = {round(s, 2)} in\""
   ]
  },
  {
   "cell_type": "code",
   "execution_count": 73,
   "id": "05e453f3",
   "metadata": {},
   "outputs": [
    {
     "data": {
      "text/plain": [
       "'As = 0.44 in^2 or 0.44 in^2/ft'"
      ]
     },
     "execution_count": 73,
     "metadata": {},
     "output_type": "execute_result"
    }
   ],
   "source": [
    "# Provided Steel\n",
    "bar = \"#6\"\n",
    "Ab = rebar.loc[bar, \"Area\"]\n",
    "db = rebar.loc[bar, \"Diameter\"]\n",
    "n = 1 #number of bars per width, b\n",
    "\n",
    "As = n * Ab #in^2\n",
    "As_ft = As * 12 / b\n",
    "f\"As = {round(As, 3)} in^2 or {round(As_ft, 3)} in^2/ft\""
   ]
  },
  {
   "cell_type": "markdown",
   "id": "fe6e9a44",
   "metadata": {},
   "source": [
    "### Loads"
   ]
  },
  {
   "cell_type": "code",
   "execution_count": 74,
   "id": "7bcebe1d",
   "metadata": {},
   "outputs": [
    {
     "data": {
      "text/plain": [
       "'Mu = 16056.69 lb-ft'"
      ]
     },
     "execution_count": 74,
     "metadata": {},
     "output_type": "execute_result"
    }
   ],
   "source": [
    "DL = conc_density * t_slab/12\n",
    "LL = 40 #psf\n",
    "\n",
    "LN = ln / 12 #ft\n",
    "D=DL*b/12\n",
    "L=LL*b/12\n",
    "w_u = load_combos.LRFD(D, L) #plf\n",
    "\n",
    "Mu = w_u * LN**2 / 8 * 12 #lb-in\n",
    "f\"Mu = {round(Mu / 12, 2)} lb-ft\""
   ]
  },
  {
   "cell_type": "markdown",
   "id": "fbf473d7",
   "metadata": {},
   "source": [
    "## Strength Design"
   ]
  },
  {
   "cell_type": "code",
   "execution_count": 75,
   "id": "15bfc616",
   "metadata": {},
   "outputs": [
    {
     "data": {
      "text/plain": [
       "'d_c = 1.125 in; d = 8.625 in'"
      ]
     },
     "execution_count": 75,
     "metadata": {},
     "output_type": "execute_result"
    }
   ],
   "source": [
    "# Compression Steel\n",
    "bar = \"#6\"\n",
    "Ab_c = rebar.loc[bar, \"Area\"]\n",
    "db_c = rebar.loc[bar, \"Diameter\"]\n",
    "n = 1 #number of bars per width, b\n",
    "\n",
    "As_c = n * Ab_c #compression reinforcement\n",
    "d_c = cover_t + db_c/2\n",
    "d = t_slab - cover_b - db/2\n",
    "\n",
    "f\"d_c = {round(d_c, 3)} in; d = {round(d, 3)} in\""
   ]
  },
  {
   "cell_type": "code",
   "execution_count": 76,
   "id": "76b13244",
   "metadata": {},
   "outputs": [
    {
     "name": "stdout",
     "output_type": "stream",
     "text": [
      "Mu = 16056.69 lb-ft\n",
      "phiMn = 31927.5 lb-ft\n"
     ]
    },
    {
     "data": {
      "text/plain": [
       "True"
      ]
     },
     "execution_count": 76,
     "metadata": {},
     "output_type": "execute_result"
    }
   ],
   "source": [
    "# Flexural Strength\n",
    "include_compression_steel = \"Yes\"\n",
    "if include_compression_steel == \"No\":\n",
    "    As_c = 0\n",
    "\n",
    "phi = 0.9\n",
    "a = (As - As_c) * fy / (0.85 * fc * b)\n",
    "Mn = As * fy * (d - a/2) + As_c * fy * (d-d_c)\n",
    "phiMn = phi * Mn\n",
    "\n",
    "print(f\"Mu = {round(Mu / 12, 2)} lb-ft\")\n",
    "print(f\"phiMn = {round(phiMn / 12, 2)} lb-ft\")\n",
    "phiMn > Mu"
   ]
  },
  {
   "cell_type": "markdown",
   "id": "e0a1493e",
   "metadata": {},
   "source": [
    "## Deflection"
   ]
  },
  {
   "cell_type": "markdown",
   "id": "d5f18d79",
   "metadata": {},
   "source": [
    "### Short-term Deflection"
   ]
  },
  {
   "cell_type": "code",
   "execution_count": 77,
   "id": "b49fc109",
   "metadata": {},
   "outputs": [
    {
     "data": {
      "text/plain": [
       "'Ma = 12380.16 lb-ft'"
      ]
     },
     "execution_count": 77,
     "metadata": {},
     "output_type": "execute_result"
    }
   ],
   "source": [
    "w_a = load_combos.ASD(D, L)\n",
    "\n",
    "Ma = w_a * LN**2 / 8 * 12 #lb-in\n",
    "f\"Ma = {round(Ma / 12, 2)} lb-ft\""
   ]
  },
  {
   "cell_type": "code",
   "execution_count": 78,
   "id": "6cdb243d",
   "metadata": {},
   "outputs": [
    {
     "name": "stdout",
     "output_type": "stream",
     "text": [
      "Ig = 1000.0 in\n"
     ]
    },
    {
     "data": {
      "text/plain": [
       "'Mcr = 6846.53 lb-ft'"
      ]
     },
     "execution_count": 78,
     "metadata": {},
     "output_type": "execute_result"
    }
   ],
   "source": [
    "fr = 7.5 * sqrt(fc) #psi\n",
    "Ig = b * t_slab**3 / 12 #in^4\n",
    "print(f\"Ig = {round(Ig, 2)} in\")\n",
    "yt = t_slab / 2 #in\n",
    "Mcr = fr * Ig / yt #lb-in\n",
    "f\"Mcr = {round(Mcr / 12, 2)} lb-ft\""
   ]
  },
  {
   "cell_type": "code",
   "execution_count": 79,
   "id": "15e6a290",
   "metadata": {},
   "outputs": [
    {
     "name": "stdout",
     "output_type": "stream",
     "text": [
      "Ec = 3320.56 ksi\n",
      "Icr = 203.23 in^4\n",
      "Ie = 227.91 in\n"
     ]
    },
    {
     "data": {
      "text/plain": [
       "'Elastic Deflection = 1.767 in'"
      ]
     },
     "execution_count": 79,
     "metadata": {},
     "output_type": "execute_result"
    }
   ],
   "source": [
    "# Elastic Modulus\n",
    "Ec = elastic_modulus(fc=3000) #ksi\n",
    "print(f\"Ec = {round(Ec, 2)} ksi\")\n",
    "# Moment of Inertia\n",
    "Ie = Ig\n",
    "Icr = cracked_moment_inertia(b=b, h=t_slab, d=d, d_c=d_c, Ec=Ec, As=As, As_c=As_c)\n",
    "print(f\"Icr = {round(Icr, 2)} in^4\")\n",
    "if Ma > 2/3*Mcr:\n",
    "    Ie = Icr / (1 - ((2/3)*Mcr/Ma)**2 * (1 - Icr/Ig))\n",
    "    print(f\"Ie = {round(Ie, 2)} in\")\n",
    "else:\n",
    "    print(\"section uncracked\")\n",
    "\n",
    "#Elastic Deflection\n",
    "defl_elastic = 5 * (w_a/12) * ln**4 / (384 * Ec * 1000 * Ie)\n",
    "f\"Elastic Deflection = {round(defl_elastic, 3)} in\""
   ]
  },
  {
   "cell_type": "markdown",
   "id": "0dcbe14e",
   "metadata": {},
   "source": [
    "### Long-term Deflection"
   ]
  },
  {
   "cell_type": "code",
   "execution_count": 80,
   "id": "fd94870e",
   "metadata": {},
   "outputs": [
    {
     "data": {
      "text/plain": [
       "'lmbda_dlt = 0.761'"
      ]
     },
     "execution_count": 80,
     "metadata": {},
     "output_type": "execute_result"
    }
   ],
   "source": [
    "# Deflection Factor\n",
    "xi = 2.0 #duration factor\n",
    "As_c = n * Ab_c #compression reinforcement\n",
    "rho_c = As_c / (b * d_c)\n",
    "\n",
    "lmbda_dlt = xi / (1 + 50*rho_c)\n",
    "f\"lmbda_dlt = {round(lmbda_dlt, 3)}\""
   ]
  },
  {
   "cell_type": "code",
   "execution_count": 81,
   "id": "e6da8ff2",
   "metadata": {
    "scrolled": true
   },
   "outputs": [
    {
     "data": {
      "text/plain": [
       "'Long-Term Deflection = 1.344 in'"
      ]
     },
     "execution_count": 81,
     "metadata": {},
     "output_type": "execute_result"
    }
   ],
   "source": [
    "# Long-Term Deflection\n",
    "defl_long = defl_elastic * lmbda_dlt #in\n",
    "f\"Long-Term Deflection = {round(defl_long, 3)} in\""
   ]
  },
  {
   "cell_type": "code",
   "execution_count": 82,
   "id": "e87f7d45",
   "metadata": {},
   "outputs": [
    {
     "data": {
      "text/plain": [
       "'Total Deflection = 3.112 in'"
      ]
     },
     "execution_count": 82,
     "metadata": {},
     "output_type": "execute_result"
    }
   ],
   "source": [
    "# Total Deflection\n",
    "defl_total = defl_elastic + defl_long\n",
    "f\"Total Deflection = {round(defl_total, 3)} in\""
   ]
  },
  {
   "cell_type": "markdown",
   "id": "eebcd791",
   "metadata": {},
   "source": [
    "## Minimum Requirements"
   ]
  },
  {
   "cell_type": "code",
   "execution_count": 83,
   "id": "d7916721",
   "metadata": {},
   "outputs": [
    {
     "name": "stdout",
     "output_type": "stream",
     "text": [
      "t_min (two way) = 9.8 in\n",
      "t_min (one way) = 14.7 in\n"
     ]
    }
   ],
   "source": [
    "# Minimum Thickness if deflection is not calculated\n",
    "t_min = ln / 30\n",
    "print(f\"t_min (two way) = {round(t_min, 2)} in\")\n",
    "\n",
    "t_min = ln / 20\n",
    "print(f\"t_min (one way) = {round(t_min, 2)} in\")"
   ]
  },
  {
   "cell_type": "code",
   "execution_count": 84,
   "id": "39d23f06",
   "metadata": {},
   "outputs": [
    {
     "data": {
      "text/plain": [
       "'As,min = 0.216 in^2 or 0.216 in^2/ft'"
      ]
     },
     "execution_count": 84,
     "metadata": {},
     "output_type": "execute_result"
    }
   ],
   "source": [
    "# Minimum Steel\n",
    "Ag = b * t_slab #in^2\n",
    "As_min = 0.0018 * Ag\n",
    "As_minft = As_min * 12 / b\n",
    "\n",
    "f\"As,min = {round(As_min, 3)} in^2 or {round(As_minft, 3)} in^2/ft\""
   ]
  },
  {
   "cell_type": "code",
   "execution_count": null,
   "id": "8d5e44e9",
   "metadata": {},
   "outputs": [],
   "source": []
  }
 ],
 "metadata": {
  "kernelspec": {
   "display_name": "Python 3 (ipykernel)",
   "language": "python",
   "name": "python3"
  },
  "language_info": {
   "codemirror_mode": {
    "name": "ipython",
    "version": 3
   },
   "file_extension": ".py",
   "mimetype": "text/x-python",
   "name": "python",
   "nbconvert_exporter": "python",
   "pygments_lexer": "ipython3",
   "version": "3.9.2"
  }
 },
 "nbformat": 4,
 "nbformat_minor": 5
}
