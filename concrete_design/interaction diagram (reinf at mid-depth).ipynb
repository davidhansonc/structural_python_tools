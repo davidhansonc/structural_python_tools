{
 "cells": [
  {
   "cell_type": "code",
   "execution_count": 1,
   "id": "8c41b636",
   "metadata": {},
   "outputs": [
    {
     "name": "stdout",
     "output_type": "stream",
     "text": [
      "The Zen of Python, by Tim Peters\n",
      "\n",
      "Beautiful is better than ugly.\n",
      "Explicit is better than implicit.\n",
      "Simple is better than complex.\n",
      "Complex is better than complicated.\n",
      "Flat is better than nested.\n",
      "Sparse is better than dense.\n",
      "Readability counts.\n",
      "Special cases aren't special enough to break the rules.\n",
      "Although practicality beats purity.\n",
      "Errors should never pass silently.\n",
      "Unless explicitly silenced.\n",
      "In the face of ambiguity, refuse the temptation to guess.\n",
      "There should be one-- and preferably only one --obvious way to do it.\n",
      "Although that way may not be obvious at first unless you're Dutch.\n",
      "Now is better than never.\n",
      "Although never is often better than *right* now.\n",
      "If the implementation is hard to explain, it's a bad idea.\n",
      "If the implementation is easy to explain, it may be a good idea.\n",
      "Namespaces are one honking great idea -- let's do more of those!\n"
     ]
    },
    {
     "data": {
      "text/latex": [
       "\\newpage"
      ],
      "text/plain": [
       "<IPython.core.display.Latex object>"
      ]
     },
     "metadata": {},
     "output_type": "display_data"
    }
   ],
   "source": [
    "# Import Python Tools:\n",
    "from IPython.display import display, Latex\n",
    "import pandas as pd\n",
    "import numpy as np\n",
    "from numpy import sqrt, pi, average, cos, sin, tan, arcsin, arccos, arctan, deg2rad, rad2deg\n",
    "import matplotlib.pyplot as plt\n",
    "import seaborn as sns\n",
    "\n",
    "import load_combos\n",
    "\n",
    "from steel_design.AISC import aisc\n",
    "steel_density = 0.2833 #pci\n",
    "\n",
    "from concrete_design import material_properties as conc\n",
    "from concrete_design.steel_reinforcement import rebar_df as rebar\n",
    "conc_density = 150.0 #pcf\n",
    "\n",
    "from masonry_design import material_properties as cmu\n",
    "from masonry_design.material_properties import NW_CMU\n",
    "\n",
    "from wood_design.ref_design_values.table_4a.table_4a import table_4a_load\n",
    "table_4a = table_4a_load(species=\"DF\")\n",
    "\n",
    "display(Latex(r\"\\newpage\")) #pagebreak"
   ]
  },
  {
   "cell_type": "code",
   "execution_count": 2,
   "id": "87f13dd2",
   "metadata": {},
   "outputs": [],
   "source": [
    "# Materials and Geometry\n",
    "fc = 2500 #psi\n",
    "fy = 60000 #psi\n",
    "b = 12 #in\n",
    "h = 3 #in\n",
    "long_reinf = \"#3\"\n",
    "dbar = rebar.loc[long_reinf, \"Diameter\"] #in\n",
    "nbar = 1 #no. of bars"
   ]
  },
  {
   "cell_type": "code",
   "execution_count": 3,
   "id": "05a822ac",
   "metadata": {},
   "outputs": [
    {
     "data": {
      "text/plain": [
       "1.5"
      ]
     },
     "execution_count": 3,
     "metadata": {},
     "output_type": "execute_result"
    }
   ],
   "source": [
    "d = h/2 #in\n",
    "d"
   ]
  },
  {
   "cell_type": "code",
   "execution_count": 4,
   "id": "0c30ba38",
   "metadata": {},
   "outputs": [
    {
     "data": {
      "text/plain": [
       "0.85"
      ]
     },
     "execution_count": 4,
     "metadata": {},
     "output_type": "execute_result"
    }
   ],
   "source": [
    "# Beta1 (stress block multiplier)\n",
    "\n",
    "if fc <= 4000 and fc >= 2500:\n",
    "    beta1 = 0.85\n",
    "elif fc < 8000 and fc > 4000:\n",
    "    beta1 = 0.85 - 0.05 * (fc - 4000) / 1000\n",
    "elif fc >= 8000:\n",
    "    beta1 = 0.65\n",
    "else:\n",
    "    print(\"error!\")\n",
    "\n",
    "beta1"
   ]
  },
  {
   "cell_type": "code",
   "execution_count": 5,
   "id": "740a6cd1",
   "metadata": {},
   "outputs": [
    {
     "data": {
      "text/plain": [
       "0.11"
      ]
     },
     "execution_count": 5,
     "metadata": {},
     "output_type": "execute_result"
    }
   ],
   "source": [
    "# Steel Areas\n",
    "\n",
    "Ast = rebar.loc[long_reinf, \"Area\"] * nbar #in^2\n",
    "Ast"
   ]
  },
  {
   "cell_type": "code",
   "execution_count": 6,
   "id": "b83d9830",
   "metadata": {},
   "outputs": [],
   "source": [
    "# Stresses and Strains\n",
    "\n",
    "Es = 29000000 #psi\n",
    "ec = 0.003 # concrete max strain\n",
    "ey = fy / Es\n",
    "\n",
    "def stress_strain(c):\n",
    "    es = ec * (d - c) / c           # steel strain at tension side\n",
    "    fs = es * Es                    # steel stress at tension side\n",
    "    a = beta1 * c                   # compression stress block depth\n",
    "    return a, es, fs"
   ]
  },
  {
   "cell_type": "code",
   "execution_count": 7,
   "id": "bb28bf17",
   "metadata": {},
   "outputs": [],
   "source": [
    "# Strength reduction factor (ties, not spirals)\n",
    "\n",
    "def strength_factor():\n",
    "    if es <= ey:\n",
    "        phi, classify = 0.65, \"compression-controlled\"\n",
    "    elif es >= ey + 0.003:\n",
    "        phi, classify = 0.90, \"tension-controlled\"\n",
    "    elif es > ey and es < ey + 0.003:\n",
    "        phi, classify = 0.65 + 0.25 * (es - ey) / (0.003), \"transition\"\n",
    "    return phi, classify"
   ]
  },
  {
   "cell_type": "code",
   "execution_count": 8,
   "id": "a0d55698",
   "metadata": {},
   "outputs": [],
   "source": [
    "# Forces and Moments\n",
    "\n",
    "def forces_moments():\n",
    "    T = Ast * min(fy, fs)               # tension force steel at tension side (lbs)\n",
    "    Cc = 0.85 * fc * a * b              # compression force in concrete (lbs)\n",
    "\n",
    "    Pn = Cc - T                         # Nominal axial load capacity (lbs)\n",
    "    phiPn = phi * Pn                    # Ultimate axial load capacity (kips)\n",
    "\n",
    "    # Solve for eccentricity by taking moment about T:\n",
    "    # Sum of moments at T: Pn(ecc) - Cc(d - a/2) = 0\n",
    "    ecc = Cc*(d - a/2) / Pn             #in (eccentricity)\n",
    "    Mn = Pn * ecc                       # Nominal moment capacity (in-lbs)\n",
    "    phiMn = phi * Mn                    # Ultimate moment capacity (in-lbs)\n",
    "\n",
    "    return ecc, Pn, phiPn, Mn, phiMn"
   ]
  },
  {
   "cell_type": "code",
   "execution_count": 19,
   "id": "a09abe45",
   "metadata": {},
   "outputs": [
    {
     "data": {
      "text/html": [
       "<div>\n",
       "<style scoped>\n",
       "    .dataframe tbody tr th:only-of-type {\n",
       "        vertical-align: middle;\n",
       "    }\n",
       "\n",
       "    .dataframe tbody tr th {\n",
       "        vertical-align: top;\n",
       "    }\n",
       "\n",
       "    .dataframe thead th {\n",
       "        text-align: right;\n",
       "    }\n",
       "</style>\n",
       "<table border=\"1\" class=\"dataframe\">\n",
       "  <thead>\n",
       "    <tr style=\"text-align: right;\">\n",
       "      <th></th>\n",
       "      <th>c value</th>\n",
       "      <th>a values (in)</th>\n",
       "      <th>ecc (in)</th>\n",
       "      <th>es (in/in)</th>\n",
       "      <th>Pn (kips)</th>\n",
       "      <th>phiPn (kips)</th>\n",
       "      <th>Mn (ft-lbs)</th>\n",
       "      <th>phiMn (ft-lbs)</th>\n",
       "      <th>phi</th>\n",
       "      <th>failure mode</th>\n",
       "    </tr>\n",
       "  </thead>\n",
       "  <tbody>\n",
       "    <tr>\n",
       "      <th>0</th>\n",
       "      <td>4.50</td>\n",
       "      <td>3.8250</td>\n",
       "      <td>-0.3872</td>\n",
       "      <td>-0.002</td>\n",
       "      <td>103.917</td>\n",
       "      <td>67.546</td>\n",
       "      <td>-3352.833333</td>\n",
       "      <td>-2179.333333</td>\n",
       "      <td>0.65</td>\n",
       "      <td>compression-controlled</td>\n",
       "    </tr>\n",
       "    <tr>\n",
       "      <th>1</th>\n",
       "      <td>4.49</td>\n",
       "      <td>3.8165</td>\n",
       "      <td>-0.3832</td>\n",
       "      <td>-0.002</td>\n",
       "      <td>103.694</td>\n",
       "      <td>67.401</td>\n",
       "      <td>-3310.916667</td>\n",
       "      <td>-2152.083333</td>\n",
       "      <td>0.65</td>\n",
       "      <td>compression-controlled</td>\n",
       "    </tr>\n",
       "    <tr>\n",
       "      <th>2</th>\n",
       "      <td>4.48</td>\n",
       "      <td>3.8080</td>\n",
       "      <td>-0.3791</td>\n",
       "      <td>-0.002</td>\n",
       "      <td>103.470</td>\n",
       "      <td>67.255</td>\n",
       "      <td>-3269.166667</td>\n",
       "      <td>-2125.000000</td>\n",
       "      <td>0.65</td>\n",
       "      <td>compression-controlled</td>\n",
       "    </tr>\n",
       "    <tr>\n",
       "      <th>3</th>\n",
       "      <td>4.47</td>\n",
       "      <td>3.7995</td>\n",
       "      <td>-0.3751</td>\n",
       "      <td>-0.002</td>\n",
       "      <td>103.246</td>\n",
       "      <td>67.110</td>\n",
       "      <td>-3227.583333</td>\n",
       "      <td>-2097.916667</td>\n",
       "      <td>0.65</td>\n",
       "      <td>compression-controlled</td>\n",
       "    </tr>\n",
       "    <tr>\n",
       "      <th>4</th>\n",
       "      <td>4.46</td>\n",
       "      <td>3.7910</td>\n",
       "      <td>-0.3711</td>\n",
       "      <td>-0.002</td>\n",
       "      <td>103.022</td>\n",
       "      <td>66.964</td>\n",
       "      <td>-3186.083333</td>\n",
       "      <td>-2071.000000</td>\n",
       "      <td>0.65</td>\n",
       "      <td>compression-controlled</td>\n",
       "    </tr>\n",
       "    <tr>\n",
       "      <th>5</th>\n",
       "      <td>4.45</td>\n",
       "      <td>3.7825</td>\n",
       "      <td>-0.3671</td>\n",
       "      <td>-0.002</td>\n",
       "      <td>102.798</td>\n",
       "      <td>66.819</td>\n",
       "      <td>-3144.833333</td>\n",
       "      <td>-2044.083333</td>\n",
       "      <td>0.65</td>\n",
       "      <td>compression-controlled</td>\n",
       "    </tr>\n",
       "    <tr>\n",
       "      <th>6</th>\n",
       "      <td>4.44</td>\n",
       "      <td>3.7740</td>\n",
       "      <td>-0.3631</td>\n",
       "      <td>-0.002</td>\n",
       "      <td>102.574</td>\n",
       "      <td>66.673</td>\n",
       "      <td>-3103.666667</td>\n",
       "      <td>-2017.333333</td>\n",
       "      <td>0.65</td>\n",
       "      <td>compression-controlled</td>\n",
       "    </tr>\n",
       "    <tr>\n",
       "      <th>7</th>\n",
       "      <td>4.43</td>\n",
       "      <td>3.7655</td>\n",
       "      <td>-0.3591</td>\n",
       "      <td>-0.002</td>\n",
       "      <td>102.350</td>\n",
       "      <td>66.527</td>\n",
       "      <td>-3062.666667</td>\n",
       "      <td>-1990.750000</td>\n",
       "      <td>0.65</td>\n",
       "      <td>compression-controlled</td>\n",
       "    </tr>\n",
       "    <tr>\n",
       "      <th>8</th>\n",
       "      <td>4.42</td>\n",
       "      <td>3.7570</td>\n",
       "      <td>-0.3551</td>\n",
       "      <td>-0.002</td>\n",
       "      <td>102.126</td>\n",
       "      <td>66.382</td>\n",
       "      <td>-3021.833333</td>\n",
       "      <td>-1964.166667</td>\n",
       "      <td>0.65</td>\n",
       "      <td>compression-controlled</td>\n",
       "    </tr>\n",
       "    <tr>\n",
       "      <th>9</th>\n",
       "      <td>4.41</td>\n",
       "      <td>3.7485</td>\n",
       "      <td>-0.3511</td>\n",
       "      <td>-0.002</td>\n",
       "      <td>101.902</td>\n",
       "      <td>66.236</td>\n",
       "      <td>-2981.083333</td>\n",
       "      <td>-1937.750000</td>\n",
       "      <td>0.65</td>\n",
       "      <td>compression-controlled</td>\n",
       "    </tr>\n",
       "  </tbody>\n",
       "</table>\n",
       "</div>"
      ],
      "text/plain": [
       "   c value  a values (in)  ecc (in)  es (in/in)  Pn (kips)  phiPn (kips)  \\\n",
       "0     4.50         3.8250   -0.3872      -0.002    103.917        67.546   \n",
       "1     4.49         3.8165   -0.3832      -0.002    103.694        67.401   \n",
       "2     4.48         3.8080   -0.3791      -0.002    103.470        67.255   \n",
       "3     4.47         3.7995   -0.3751      -0.002    103.246        67.110   \n",
       "4     4.46         3.7910   -0.3711      -0.002    103.022        66.964   \n",
       "5     4.45         3.7825   -0.3671      -0.002    102.798        66.819   \n",
       "6     4.44         3.7740   -0.3631      -0.002    102.574        66.673   \n",
       "7     4.43         3.7655   -0.3591      -0.002    102.350        66.527   \n",
       "8     4.42         3.7570   -0.3551      -0.002    102.126        66.382   \n",
       "9     4.41         3.7485   -0.3511      -0.002    101.902        66.236   \n",
       "\n",
       "   Mn (ft-lbs)  phiMn (ft-lbs)   phi            failure mode  \n",
       "0 -3352.833333    -2179.333333  0.65  compression-controlled  \n",
       "1 -3310.916667    -2152.083333  0.65  compression-controlled  \n",
       "2 -3269.166667    -2125.000000  0.65  compression-controlled  \n",
       "3 -3227.583333    -2097.916667  0.65  compression-controlled  \n",
       "4 -3186.083333    -2071.000000  0.65  compression-controlled  \n",
       "5 -3144.833333    -2044.083333  0.65  compression-controlled  \n",
       "6 -3103.666667    -2017.333333  0.65  compression-controlled  \n",
       "7 -3062.666667    -1990.750000  0.65  compression-controlled  \n",
       "8 -3021.833333    -1964.166667  0.65  compression-controlled  \n",
       "9 -2981.083333    -1937.750000  0.65  compression-controlled  "
      ]
     },
     "execution_count": 19,
     "metadata": {},
     "output_type": "execute_result"
    }
   ],
   "source": [
    "# Solve axial load and moment at varying 'c' values\n",
    "\n",
    "nom_load = []\n",
    "ult_load = []\n",
    "nom_moment = []\n",
    "ult_moment = []\n",
    "c_value = []\n",
    "a_value = []\n",
    "eccentricity = []\n",
    "phi_factor = []\n",
    "failure_mode = []\n",
    "steel_strain = []\n",
    "\n",
    "c_values = np.arange(1.5*h, 0, -0.01)\n",
    "for c in c_values:\n",
    "    a, es, fs = stress_strain(c)\n",
    "    phi, classify = strength_factor()\n",
    "    ecc, Pn, phiPn, Mn, phiMn = forces_moments()\n",
    "    if ecc <= 1.5*h:\n",
    "        nom_load.append(round(Pn))\n",
    "        ult_load.append(round(phiPn))\n",
    "        nom_moment.append(round(Mn))\n",
    "        ult_moment.append(round(phiMn))\n",
    "        c_value.append(round(c, 3))\n",
    "        a_value.append(round(a, 4))\n",
    "        eccentricity.append(round(ecc, 4))\n",
    "        phi_factor.append(round(phi, 2))\n",
    "        failure_mode.append(classify)\n",
    "        steel_strain.append(round(es, 4))\n",
    "\n",
    "# change units\n",
    "nom_load = [i / 1000 for i in nom_load]             # kips\n",
    "ult_load = [i / 1000 for i in ult_load]             # kips\n",
    "nom_moment = [i / 12 for i in nom_moment]           # lb-ft\n",
    "ult_moment = [i / 12 for i in ult_moment]           # lb-ft\n",
    "        \n",
    "# Save the above calculated data in a dataframe\n",
    "dict = {\n",
    "    \"c value\": c_value,\n",
    "    \"a values (in)\": a_value,\n",
    "    \"ecc (in)\": eccentricity,\n",
    "    \"es (in/in)\": steel_strain,\n",
    "    \"Pn (kips)\": nom_load,\n",
    "    \"phiPn (kips)\": ult_load,\n",
    "    \"Mn (ft-lbs)\": nom_moment,\n",
    "    \"phiMn (ft-lbs)\": ult_moment,\n",
    "    \"phi\": phi_factor,\n",
    "    \"failure mode\": failure_mode\n",
    "}\n",
    "\n",
    "df = pd.DataFrame(dict)\n",
    "\n",
    "# Print the last 10 rows of the dataframe to verify\n",
    "df.head(10)\n",
    "#df.tail(10)\n",
    "#df[(df[\"phiMn (ft-lbs)\"] > -10) & (df[\"phiMn (ft-lbs)\"] < 10)]\n",
    "#df[(df[\"ecc (in)\"] > -0.1) & (df[\"ecc (in)\"] < 0.1)]"
   ]
  },
  {
   "cell_type": "code",
   "execution_count": 30,
   "id": "878e5170",
   "metadata": {},
   "outputs": [
    {
     "data": {
      "text/plain": [
       "'Max allowable concentric axial load = 43.09 kips'"
      ]
     },
     "execution_count": 30,
     "metadata": {},
     "output_type": "execute_result"
    }
   ],
   "source": [
    "# Calculate the maximum allowable axial load (concentric)\n",
    "\n",
    "phi = 0.65\n",
    "Ag = b*h #in^2\n",
    "As = Ast #in^2\n",
    "Pmax = phi * 0.80 * (0.85*fc*(Ag-As) + As*fy) / 1000\n",
    "f\"Max allowable concentric axial load = {round(Pmax, 2)} kips\""
   ]
  },
  {
   "cell_type": "code",
   "execution_count": 38,
   "id": "7b8b1358",
   "metadata": {},
   "outputs": [
    {
     "name": "stdout",
     "output_type": "stream",
     "text": [
      "Mmax = 678.44 lb-ft\n"
     ]
    }
   ],
   "source": [
    "# Calculate the maximum allowable flexural demand\n",
    "\n",
    "phi = 0.9\n",
    "d = h/2\n",
    "a = As * fy / (0.85 * fc * b)\n",
    "Mn = As * fy * (d - a/2)\n",
    "Mu = phi * Mn / 12 #ft-lbs\n",
    "\n",
    "print(f\"Mmax = {round(Mu, 2)} lb-ft\")"
   ]
  },
  {
   "cell_type": "code",
   "execution_count": 41,
   "id": "fa734e2e",
   "metadata": {},
   "outputs": [
    {
     "data": {
      "image/png": "[encoded data removed]",
      "text/plain": [
       "<Figure size 936x504 with 1 Axes>"
      ]
     },
     "metadata": {},
     "output_type": "display_data"
    }
   ],
   "source": [
    "# Plotting the P-M Interaction Diagram\n",
    "\n",
    "sns.set_style(\"darkgrid\")\n",
    "fig, ax = plt.subplots(figsize=(13,7))\n",
    "plt.rc(\"axes\", labelweight=\"bold\", labelsize=\"large\", titleweight=\"bold\", titlesize=15)\n",
    "ax = sns.scatterplot(x=\"Mn (ft-lbs)\", y=\"Pn (kips)\", data=df, color=\"g\", label=\"Nominal\")\n",
    "sns.scatterplot(x=\"phiMn (ft-lbs)\", y=\"phiPn (kips)\", data=df, color=\"brown\", label=\"Ultimate\")\n",
    "ax.set_xlabel(\"Moment (M, ft-lbs)\")\n",
    "ax.set_ylabel(\"Axial (P, kips)\")\n",
    "plt.title(\"P-M Interaction Diagram\")\n",
    "\n",
    "plt.ylim(0, 1.1*max(dict[\"Pn (kips)\"]))\n",
    "plt.xlim(0, 1.1*max(dict[\"Mn (ft-lbs)\"]))\n",
    "plt.axhline(Pmax, color=\"red\")\n",
    "plt.text(100, Pmax+2, \"Pmax\")\n",
    "\n",
    "plt.axvline(Mu, color=\"black\")\n",
    "plt.text(Mu+2, 20, \"Mmax\")\n",
    "\n",
    "plt.show()"
   ]
  },
  {
   "cell_type": "code",
   "execution_count": null,
   "id": "efc90c43",
   "metadata": {},
   "outputs": [],
   "source": []
  }
 ],
 "metadata": {
  "kernelspec": {
   "display_name": "Python 3.9.2 64-bit",
   "language": "python",
   "name": "python3"
  },
  "language_info": {
   "codemirror_mode": {
    "name": "ipython",
    "version": 3
   },
   "file_extension": ".py",
   "mimetype": "text/x-python",
   "name": "python",
   "nbconvert_exporter": "python",
   "pygments_lexer": "ipython3",
   "version": "3.9.2"
  },
  "vscode": {
   "interpreter": {
    "hash": "8c340b0736d8d4910d2ca7989655b8187219e0906e973b44a7c0150cb2eac932"
   }
  }
 },
 "nbformat": 4,
 "nbformat_minor": 5
}
