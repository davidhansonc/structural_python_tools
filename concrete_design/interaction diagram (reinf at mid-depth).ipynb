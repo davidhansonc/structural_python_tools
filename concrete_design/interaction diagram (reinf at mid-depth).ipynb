{
 "cells": [
  {
   "cell_type": "code",
   "execution_count": 16,
   "id": "c47e5022",
   "metadata": {},
   "outputs": [
    {
     "ename": "ModuleNotFoundError",
     "evalue": "No module named 'matplotlib'",
     "output_type": "error",
     "traceback": [
      "\u001b[1;31m---------------------------------------------------------------------------\u001b[0m",
      "\u001b[1;31mModuleNotFoundError\u001b[0m                       Traceback (most recent call last)",
      "\u001b[1;32mc:\\Users\\david\\structural_python_tools\\concrete_design\\interaction diagram (reinf at mid-depth).ipynb Cell 1\u001b[0m line \u001b[0;36m6\n\u001b[0;32m      <a href='vscode-notebook-cell:/c%3A/Users/david/structural_python_tools/concrete_design/interaction%20diagram%20%28reinf%20at%20mid-depth%29.ipynb#X22sZmlsZQ%3D%3D?line=3'>4</a>\u001b[0m \u001b[39mimport\u001b[39;00m \u001b[39mnumpy\u001b[39;00m \u001b[39mas\u001b[39;00m \u001b[39mnp\u001b[39;00m\n\u001b[0;32m      <a href='vscode-notebook-cell:/c%3A/Users/david/structural_python_tools/concrete_design/interaction%20diagram%20%28reinf%20at%20mid-depth%29.ipynb#X22sZmlsZQ%3D%3D?line=4'>5</a>\u001b[0m \u001b[39mfrom\u001b[39;00m \u001b[39mnumpy\u001b[39;00m \u001b[39mimport\u001b[39;00m sqrt, pi, average, cos, sin, tan, arcsin, arccos, arctan, deg2rad, rad2deg\n\u001b[1;32m----> <a href='vscode-notebook-cell:/c%3A/Users/david/structural_python_tools/concrete_design/interaction%20diagram%20%28reinf%20at%20mid-depth%29.ipynb#X22sZmlsZQ%3D%3D?line=5'>6</a>\u001b[0m \u001b[39mimport\u001b[39;00m \u001b[39mmatplotlib\u001b[39;00m\u001b[39m.\u001b[39;00m\u001b[39mpyplot\u001b[39;00m \u001b[39mas\u001b[39;00m \u001b[39mplt\u001b[39;00m\n\u001b[0;32m      <a href='vscode-notebook-cell:/c%3A/Users/david/structural_python_tools/concrete_design/interaction%20diagram%20%28reinf%20at%20mid-depth%29.ipynb#X22sZmlsZQ%3D%3D?line=6'>7</a>\u001b[0m \u001b[39mimport\u001b[39;00m \u001b[39mseaborn\u001b[39;00m \u001b[39mas\u001b[39;00m \u001b[39msns\u001b[39;00m\n\u001b[0;32m      <a href='vscode-notebook-cell:/c%3A/Users/david/structural_python_tools/concrete_design/interaction%20diagram%20%28reinf%20at%20mid-depth%29.ipynb#X22sZmlsZQ%3D%3D?line=8'>9</a>\u001b[0m \u001b[39mfrom\u001b[39;00m \u001b[39mASCE\u001b[39;00m \u001b[39mimport\u001b[39;00m load_combos\n",
      "\u001b[1;31mModuleNotFoundError\u001b[0m: No module named 'matplotlib'"
     ]
    }
   ],
   "source": [
    "# Import Python Tools:\n",
    "from IPython.display import display, Latex\n",
    "import pandas as pd\n",
    "import numpy as np\n",
    "from numpy import sqrt, pi, average, cos, sin, tan, arcsin, arccos, arctan, deg2rad, rad2deg\n",
    "import matplotlib.pyplot as plt\n",
    "import seaborn as sns\n",
    "\n",
    "from ASCE import load_combos\n",
    "from concrete_design.material_properties import elastic_modulus, cracked_moment_inertia\n",
    "from concrete_design.steel_reinforcement import rebar_df as rebar\n",
    "from concrete_design.beam_calculations import design_properties as bm\n",
    "conc_density = 150.0 #pcf"
   ]
  },
  {
   "cell_type": "markdown",
   "id": "de337bf2",
   "metadata": {},
   "source": [
    "<div style=\"page-break-after: always;\"></div>"
   ]
  },
  {
   "cell_type": "markdown",
   "id": "e7f11b75",
   "metadata": {},
   "source": [
    "# Concrete Wall Design (1-sheet reinforcement)\n",
    "## Inputs"
   ]
  },
  {
   "cell_type": "code",
   "execution_count": 4,
   "id": "87f13dd2",
   "metadata": {},
   "outputs": [],
   "source": [
    "# Materials and Geometry\n",
    "fc = 2500 #psi\n",
    "fy = 60000 #psi\n",
    "b = 12 #in\n",
    "h = 8 #in\n",
    "long_reinf = \"#5\"\n",
    "dbar = rebar.loc[long_reinf, \"Diameter\"] #in\n",
    "nbar = 1 #no. of bars"
   ]
  },
  {
   "cell_type": "code",
   "execution_count": 5,
   "id": "05a822ac",
   "metadata": {},
   "outputs": [
    {
     "data": {
      "text/plain": [
       "4.0"
      ]
     },
     "execution_count": 5,
     "metadata": {},
     "output_type": "execute_result"
    }
   ],
   "source": [
    "d = h/2 #in\n",
    "d"
   ]
  },
  {
   "cell_type": "code",
   "execution_count": 6,
   "id": "0c30ba38",
   "metadata": {},
   "outputs": [
    {
     "data": {
      "text/plain": [
       "0.85"
      ]
     },
     "execution_count": 6,
     "metadata": {},
     "output_type": "execute_result"
    }
   ],
   "source": [
    "# Beta1 (stress block multiplier)\n",
    "\n",
    "if fc <= 4000 and fc >= 2500:\n",
    "    beta1 = 0.85\n",
    "elif fc < 8000 and fc > 4000:\n",
    "    beta1 = 0.85 - 0.05 * (fc - 4000) / 1000\n",
    "elif fc >= 8000:\n",
    "    beta1 = 0.65\n",
    "else:\n",
    "    print(\"error!\")\n",
    "\n",
    "beta1"
   ]
  },
  {
   "cell_type": "code",
   "execution_count": 7,
   "id": "740a6cd1",
   "metadata": {},
   "outputs": [
    {
     "data": {
      "text/plain": [
       "0.31"
      ]
     },
     "execution_count": 7,
     "metadata": {},
     "output_type": "execute_result"
    }
   ],
   "source": [
    "# Steel Areas\n",
    "\n",
    "Ast = rebar.loc[long_reinf, \"Area\"] * nbar #in^2\n",
    "Ast"
   ]
  },
  {
   "cell_type": "code",
   "execution_count": 8,
   "id": "b83d9830",
   "metadata": {},
   "outputs": [],
   "source": [
    "# Stresses and Strains\n",
    "\n",
    "Es = 29000000 #psi\n",
    "ec = 0.003 # concrete max strain\n",
    "ey = fy / Es\n",
    "\n",
    "def stress_strain(c):\n",
    "    es = ec * (d - c) / c           # steel strain at tension side\n",
    "    fs = es * Es                    # steel stress at tension side\n",
    "    a = beta1 * c                   # compression stress block depth\n",
    "    return a, es, fs"
   ]
  },
  {
   "cell_type": "code",
   "execution_count": 9,
   "id": "bb28bf17",
   "metadata": {},
   "outputs": [],
   "source": [
    "# Strength reduction factor (ties, not spirals)\n",
    "\n",
    "def strength_factor():\n",
    "    if es <= ey:\n",
    "        phi, classify = 0.65, \"compression-controlled\"\n",
    "    elif es >= ey + 0.003:\n",
    "        phi, classify = 0.90, \"tension-controlled\"\n",
    "    elif es > ey and es < ey + 0.003:\n",
    "        phi, classify = 0.65 + 0.25 * (es - ey) / (0.003), \"transition\"\n",
    "    return phi, classify"
   ]
  },
  {
   "cell_type": "code",
   "execution_count": 10,
   "id": "a0d55698",
   "metadata": {},
   "outputs": [],
   "source": [
    "# Forces and Moments\n",
    "\n",
    "def forces_moments():\n",
    "    T = Ast * min(fy, fs)               # tension force steel at tension side (lbs)\n",
    "    Cc = 0.85 * fc * a * b              # compression force in concrete (lbs)\n",
    "\n",
    "    Pn = Cc - T                         # Nominal axial load capacity (lbs)\n",
    "    phiPn = phi * Pn                    # Ultimate axial load capacity (kips)\n",
    "\n",
    "    # Solve for eccentricity by taking moment about T:\n",
    "    # Sum of moments at T: Pn(ecc) - Cc(d - a/2) = 0\n",
    "    ecc = Cc*(d - a/2) / Pn             #in (eccentricity)\n",
    "    Mn = Pn * ecc                       # Nominal moment capacity (in-lbs)\n",
    "    phiMn = phi * Mn                    # Ultimate moment capacity (in-lbs)\n",
    "\n",
    "    return ecc, Pn, phiPn, Mn, phiMn"
   ]
  },
  {
   "cell_type": "code",
   "execution_count": 11,
   "id": "a09abe45",
   "metadata": {},
   "outputs": [
    {
     "data": {
      "text/html": [
       "<div>\n",
       "<style scoped>\n",
       "    .dataframe tbody tr th:only-of-type {\n",
       "        vertical-align: middle;\n",
       "    }\n",
       "\n",
       "    .dataframe tbody tr th {\n",
       "        vertical-align: top;\n",
       "    }\n",
       "\n",
       "    .dataframe thead th {\n",
       "        text-align: right;\n",
       "    }\n",
       "</style>\n",
       "<table border=\"1\" class=\"dataframe\">\n",
       "  <thead>\n",
       "    <tr style=\"text-align: right;\">\n",
       "      <th></th>\n",
       "      <th>c value</th>\n",
       "      <th>a values (in)</th>\n",
       "      <th>ecc (in)</th>\n",
       "      <th>es (in/in)</th>\n",
       "      <th>Pn (kips)</th>\n",
       "      <th>phiPn (kips)</th>\n",
       "      <th>Mn (ft-lbs)</th>\n",
       "      <th>phiMn (ft-lbs)</th>\n",
       "      <th>phi</th>\n",
       "      <th>failure mode</th>\n",
       "    </tr>\n",
       "  </thead>\n",
       "  <tbody>\n",
       "    <tr>\n",
       "      <th>0</th>\n",
       "      <td>12.00</td>\n",
       "      <td>10.2000</td>\n",
       "      <td>-1.0289</td>\n",
       "      <td>-0.002</td>\n",
       "      <td>278.080</td>\n",
       "      <td>180.752</td>\n",
       "      <td>-23842.500000</td>\n",
       "      <td>-15497.583333</td>\n",
       "      <td>0.65</td>\n",
       "      <td>compression-controlled</td>\n",
       "    </tr>\n",
       "    <tr>\n",
       "      <th>1</th>\n",
       "      <td>11.99</td>\n",
       "      <td>10.1915</td>\n",
       "      <td>-1.0249</td>\n",
       "      <td>-0.002</td>\n",
       "      <td>277.856</td>\n",
       "      <td>180.606</td>\n",
       "      <td>-23730.583333</td>\n",
       "      <td>-15424.916667</td>\n",
       "      <td>0.65</td>\n",
       "      <td>compression-controlled</td>\n",
       "    </tr>\n",
       "    <tr>\n",
       "      <th>2</th>\n",
       "      <td>11.98</td>\n",
       "      <td>10.1830</td>\n",
       "      <td>-1.0209</td>\n",
       "      <td>-0.002</td>\n",
       "      <td>277.631</td>\n",
       "      <td>180.460</td>\n",
       "      <td>-23618.833333</td>\n",
       "      <td>-15352.250000</td>\n",
       "      <td>0.65</td>\n",
       "      <td>compression-controlled</td>\n",
       "    </tr>\n",
       "    <tr>\n",
       "      <th>3</th>\n",
       "      <td>11.97</td>\n",
       "      <td>10.1745</td>\n",
       "      <td>-1.0169</td>\n",
       "      <td>-0.002</td>\n",
       "      <td>277.407</td>\n",
       "      <td>180.315</td>\n",
       "      <td>-23507.250000</td>\n",
       "      <td>-15279.666667</td>\n",
       "      <td>0.65</td>\n",
       "      <td>compression-controlled</td>\n",
       "    </tr>\n",
       "    <tr>\n",
       "      <th>4</th>\n",
       "      <td>11.96</td>\n",
       "      <td>10.1660</td>\n",
       "      <td>-1.0129</td>\n",
       "      <td>-0.002</td>\n",
       "      <td>277.183</td>\n",
       "      <td>180.169</td>\n",
       "      <td>-23395.750000</td>\n",
       "      <td>-15207.250000</td>\n",
       "      <td>0.65</td>\n",
       "      <td>compression-controlled</td>\n",
       "    </tr>\n",
       "    <tr>\n",
       "      <th>5</th>\n",
       "      <td>11.95</td>\n",
       "      <td>10.1575</td>\n",
       "      <td>-1.0089</td>\n",
       "      <td>-0.002</td>\n",
       "      <td>276.959</td>\n",
       "      <td>180.023</td>\n",
       "      <td>-23284.500000</td>\n",
       "      <td>-15134.916667</td>\n",
       "      <td>0.65</td>\n",
       "      <td>compression-controlled</td>\n",
       "    </tr>\n",
       "    <tr>\n",
       "      <th>6</th>\n",
       "      <td>11.94</td>\n",
       "      <td>10.1490</td>\n",
       "      <td>-1.0049</td>\n",
       "      <td>-0.002</td>\n",
       "      <td>276.734</td>\n",
       "      <td>179.877</td>\n",
       "      <td>-23173.333333</td>\n",
       "      <td>-15062.666667</td>\n",
       "      <td>0.65</td>\n",
       "      <td>compression-controlled</td>\n",
       "    </tr>\n",
       "    <tr>\n",
       "      <th>7</th>\n",
       "      <td>11.93</td>\n",
       "      <td>10.1405</td>\n",
       "      <td>-1.0009</td>\n",
       "      <td>-0.002</td>\n",
       "      <td>276.510</td>\n",
       "      <td>179.732</td>\n",
       "      <td>-23062.333333</td>\n",
       "      <td>-14990.500000</td>\n",
       "      <td>0.65</td>\n",
       "      <td>compression-controlled</td>\n",
       "    </tr>\n",
       "    <tr>\n",
       "      <th>8</th>\n",
       "      <td>11.92</td>\n",
       "      <td>10.1320</td>\n",
       "      <td>-0.9969</td>\n",
       "      <td>-0.002</td>\n",
       "      <td>276.286</td>\n",
       "      <td>179.586</td>\n",
       "      <td>-22951.500000</td>\n",
       "      <td>-14918.500000</td>\n",
       "      <td>0.65</td>\n",
       "      <td>compression-controlled</td>\n",
       "    </tr>\n",
       "    <tr>\n",
       "      <th>9</th>\n",
       "      <td>11.91</td>\n",
       "      <td>10.1235</td>\n",
       "      <td>-0.9929</td>\n",
       "      <td>-0.002</td>\n",
       "      <td>276.061</td>\n",
       "      <td>179.440</td>\n",
       "      <td>-22840.833333</td>\n",
       "      <td>-14846.500000</td>\n",
       "      <td>0.65</td>\n",
       "      <td>compression-controlled</td>\n",
       "    </tr>\n",
       "  </tbody>\n",
       "</table>\n",
       "</div>"
      ],
      "text/plain": [
       "   c value  a values (in)  ecc (in)  es (in/in)  Pn (kips)  phiPn (kips)  \\\n",
       "0    12.00        10.2000   -1.0289      -0.002    278.080       180.752   \n",
       "1    11.99        10.1915   -1.0249      -0.002    277.856       180.606   \n",
       "2    11.98        10.1830   -1.0209      -0.002    277.631       180.460   \n",
       "3    11.97        10.1745   -1.0169      -0.002    277.407       180.315   \n",
       "4    11.96        10.1660   -1.0129      -0.002    277.183       180.169   \n",
       "5    11.95        10.1575   -1.0089      -0.002    276.959       180.023   \n",
       "6    11.94        10.1490   -1.0049      -0.002    276.734       179.877   \n",
       "7    11.93        10.1405   -1.0009      -0.002    276.510       179.732   \n",
       "8    11.92        10.1320   -0.9969      -0.002    276.286       179.586   \n",
       "9    11.91        10.1235   -0.9929      -0.002    276.061       179.440   \n",
       "\n",
       "    Mn (ft-lbs)  phiMn (ft-lbs)   phi            failure mode  \n",
       "0 -23842.500000   -15497.583333  0.65  compression-controlled  \n",
       "1 -23730.583333   -15424.916667  0.65  compression-controlled  \n",
       "2 -23618.833333   -15352.250000  0.65  compression-controlled  \n",
       "3 -23507.250000   -15279.666667  0.65  compression-controlled  \n",
       "4 -23395.750000   -15207.250000  0.65  compression-controlled  \n",
       "5 -23284.500000   -15134.916667  0.65  compression-controlled  \n",
       "6 -23173.333333   -15062.666667  0.65  compression-controlled  \n",
       "7 -23062.333333   -14990.500000  0.65  compression-controlled  \n",
       "8 -22951.500000   -14918.500000  0.65  compression-controlled  \n",
       "9 -22840.833333   -14846.500000  0.65  compression-controlled  "
      ]
     },
     "execution_count": 11,
     "metadata": {},
     "output_type": "execute_result"
    }
   ],
   "source": [
    "# Solve axial load and moment at varying 'c' values\n",
    "\n",
    "nom_load = []\n",
    "ult_load = []\n",
    "nom_moment = []\n",
    "ult_moment = []\n",
    "c_value = []\n",
    "a_value = []\n",
    "eccentricity = []\n",
    "phi_factor = []\n",
    "failure_mode = []\n",
    "steel_strain = []\n",
    "\n",
    "c_values = np.arange(1.5*h, 0, -0.01)\n",
    "for c in c_values:\n",
    "    a, es, fs = stress_strain(c)\n",
    "    phi, classify = strength_factor()\n",
    "    ecc, Pn, phiPn, Mn, phiMn = forces_moments()\n",
    "    if ecc <= 1.5*h:\n",
    "        nom_load.append(round(Pn))\n",
    "        ult_load.append(round(phiPn))\n",
    "        nom_moment.append(round(Mn))\n",
    "        ult_moment.append(round(phiMn))\n",
    "        c_value.append(round(c, 3))\n",
    "        a_value.append(round(a, 4))\n",
    "        eccentricity.append(round(ecc, 4))\n",
    "        phi_factor.append(round(phi, 2))\n",
    "        failure_mode.append(classify)\n",
    "        steel_strain.append(round(es, 4))\n",
    "\n",
    "# change units\n",
    "nom_load = [i / 1000 for i in nom_load]             # kips\n",
    "ult_load = [i / 1000 for i in ult_load]             # kips\n",
    "nom_moment = [i / 12 for i in nom_moment]           # lb-ft\n",
    "ult_moment = [i / 12 for i in ult_moment]           # lb-ft\n",
    "        \n",
    "# Save the above calculated data in a dataframe\n",
    "dict = {\n",
    "    \"c value\": c_value,\n",
    "    \"a values (in)\": a_value,\n",
    "    \"ecc (in)\": eccentricity,\n",
    "    \"es (in/in)\": steel_strain,\n",
    "    \"Pn (kips)\": nom_load,\n",
    "    \"phiPn (kips)\": ult_load,\n",
    "    \"Mn (ft-lbs)\": nom_moment,\n",
    "    \"phiMn (ft-lbs)\": ult_moment,\n",
    "    \"phi\": phi_factor,\n",
    "    \"failure mode\": failure_mode\n",
    "}\n",
    "\n",
    "df = pd.DataFrame(dict)\n",
    "\n",
    "# Print the last 10 rows of the dataframe to verify\n",
    "df.head(10)\n",
    "#df.tail(10)\n",
    "#df[(df[\"phiMn (ft-lbs)\"] > -10) & (df[\"phiMn (ft-lbs)\"] < 10)]\n",
    "#df[(df[\"ecc (in)\"] > -0.1) & (df[\"ecc (in)\"] < 0.1)]"
   ]
  },
  {
   "cell_type": "code",
   "execution_count": 12,
   "id": "878e5170",
   "metadata": {},
   "outputs": [
    {
     "data": {
      "text/plain": [
       "'Max allowable concentric axial load = 115.41 kips'"
      ]
     },
     "execution_count": 12,
     "metadata": {},
     "output_type": "execute_result"
    }
   ],
   "source": [
    "# Calculate the maximum allowable axial load (concentric)\n",
    "\n",
    "phi = 0.65\n",
    "Ag = b*h #in^2\n",
    "As = Ast #in^2\n",
    "Pmax = phi * 0.80 * (0.85*fc*(Ag-As) + As*fy) / 1000\n",
    "f\"Max allowable concentric axial load = {round(Pmax, 2)} kips\""
   ]
  },
  {
   "cell_type": "code",
   "execution_count": 13,
   "id": "7b8b1358",
   "metadata": {},
   "outputs": [
    {
     "name": "stdout",
     "output_type": "stream",
     "text": [
      "Mmax = 5071.24 lb-ft\n"
     ]
    }
   ],
   "source": [
    "# Calculate the maximum allowable flexural demand\n",
    "\n",
    "phi = 0.9\n",
    "d = h/2\n",
    "a = As * fy / (0.85 * fc * b)\n",
    "Mn = As * fy * (d - a/2)\n",
    "Mu = phi * Mn / 12 #ft-lbs\n",
    "\n",
    "print(f\"Mmax = {round(Mu, 2)} lb-ft\")"
   ]
  },
  {
   "cell_type": "code",
   "execution_count": 14,
   "id": "fa734e2e",
   "metadata": {},
   "outputs": [
    {
     "ename": "NameError",
     "evalue": "name 'sns' is not defined",
     "output_type": "error",
     "traceback": [
      "\u001b[1;31m---------------------------------------------------------------------------\u001b[0m",
      "\u001b[1;31mNameError\u001b[0m                                 Traceback (most recent call last)",
      "\u001b[1;32mc:\\Users\\david\\structural_python_tools\\concrete_design\\interaction diagram (reinf at mid-depth).ipynb Cell 14\u001b[0m line \u001b[0;36m3\n\u001b[0;32m      <a href='vscode-notebook-cell:/c%3A/Users/david/structural_python_tools/concrete_design/interaction%20diagram%20%28reinf%20at%20mid-depth%29.ipynb#X14sZmlsZQ%3D%3D?line=0'>1</a>\u001b[0m \u001b[39m# Plotting the P-M Interaction Diagram\u001b[39;00m\n\u001b[1;32m----> <a href='vscode-notebook-cell:/c%3A/Users/david/structural_python_tools/concrete_design/interaction%20diagram%20%28reinf%20at%20mid-depth%29.ipynb#X14sZmlsZQ%3D%3D?line=2'>3</a>\u001b[0m sns\u001b[39m.\u001b[39mset_style(\u001b[39m\"\u001b[39m\u001b[39mdarkgrid\u001b[39m\u001b[39m\"\u001b[39m)\n\u001b[0;32m      <a href='vscode-notebook-cell:/c%3A/Users/david/structural_python_tools/concrete_design/interaction%20diagram%20%28reinf%20at%20mid-depth%29.ipynb#X14sZmlsZQ%3D%3D?line=3'>4</a>\u001b[0m fig, ax \u001b[39m=\u001b[39m plt\u001b[39m.\u001b[39msubplots(figsize\u001b[39m=\u001b[39m(\u001b[39m13\u001b[39m,\u001b[39m7\u001b[39m))\n\u001b[0;32m      <a href='vscode-notebook-cell:/c%3A/Users/david/structural_python_tools/concrete_design/interaction%20diagram%20%28reinf%20at%20mid-depth%29.ipynb#X14sZmlsZQ%3D%3D?line=4'>5</a>\u001b[0m plt\u001b[39m.\u001b[39mrc(\u001b[39m\"\u001b[39m\u001b[39maxes\u001b[39m\u001b[39m\"\u001b[39m, labelweight\u001b[39m=\u001b[39m\u001b[39m\"\u001b[39m\u001b[39mbold\u001b[39m\u001b[39m\"\u001b[39m, labelsize\u001b[39m=\u001b[39m\u001b[39m\"\u001b[39m\u001b[39mlarge\u001b[39m\u001b[39m\"\u001b[39m, titleweight\u001b[39m=\u001b[39m\u001b[39m\"\u001b[39m\u001b[39mbold\u001b[39m\u001b[39m\"\u001b[39m, titlesize\u001b[39m=\u001b[39m\u001b[39m15\u001b[39m)\n",
      "\u001b[1;31mNameError\u001b[0m: name 'sns' is not defined"
     ]
    }
   ],
   "source": [
    "# Plotting the P-M Interaction Diagram\n",
    "\n",
    "sns.set_style(\"darkgrid\")\n",
    "fig, ax = plt.subplots(figsize=(13,7))\n",
    "plt.rc(\"axes\", labelweight=\"bold\", labelsize=\"large\", titleweight=\"bold\", titlesize=15)\n",
    "ax = sns.scatterplot(x=\"Mn (ft-lbs)\", y=\"Pn (kips)\", data=df, color=\"g\", label=\"Nominal\")\n",
    "sns.scatterplot(x=\"phiMn (ft-lbs)\", y=\"phiPn (kips)\", data=df, color=\"brown\", label=\"Ultimate\")\n",
    "ax.set_xlabel(\"Moment (M, ft-lbs)\")\n",
    "ax.set_ylabel(\"Axial (P, kips)\")\n",
    "plt.title(\"P-M Interaction Diagram\")\n",
    "\n",
    "plt.ylim(0, 1.1*max(dict[\"Pn (kips)\"]))\n",
    "plt.xlim(0, 1.1*max(dict[\"Mn (ft-lbs)\"]))\n",
    "plt.axhline(Pmax, color=\"red\")\n",
    "plt.text(100, Pmax+2, \"Pmax\")\n",
    "\n",
    "plt.axvline(Mu, color=\"black\")\n",
    "plt.text(Mu+2, 20, \"Mmax\")\n",
    "\n",
    "plt.show()"
   ]
  },
  {
   "cell_type": "code",
   "execution_count": null,
   "id": "efc90c43",
   "metadata": {},
   "outputs": [],
   "source": []
  }
 ],
 "metadata": {
  "kernelspec": {
   "display_name": "Python 3.9.2 64-bit",
   "language": "python",
   "name": "python3"
  },
  "language_info": {
   "codemirror_mode": {
    "name": "ipython",
    "version": 3
   },
   "file_extension": ".py",
   "mimetype": "text/x-python",
   "name": "python",
   "nbconvert_exporter": "python",
   "pygments_lexer": "ipython3",
   "version": "3.11.6"
  },
  "vscode": {
   "interpreter": {
    "hash": "8c340b0736d8d4910d2ca7989655b8187219e0906e973b44a7c0150cb2eac932"
   }
  }
 },
 "nbformat": 4,
 "nbformat_minor": 5
}
