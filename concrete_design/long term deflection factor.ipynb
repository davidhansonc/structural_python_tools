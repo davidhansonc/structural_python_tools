{
 "cells": [
  {
   "cell_type": "code",
   "execution_count": 4,
   "id": "c9e58a2e",
   "metadata": {},
   "outputs": [
    {
     "data": {
      "text/latex": [
       "\\newpage"
      ],
      "text/plain": [
       "<IPython.core.display.Latex object>"
      ]
     },
     "metadata": {},
     "output_type": "display_data"
    }
   ],
   "source": [
    "# Import Python Tools:\n",
    "from IPython.display import display, Latex\n",
    "import pandas as pd\n",
    "import numpy as np\n",
    "from numpy import sqrt, pi, cos, sin, tan, arcsin, arccos, arctan, deg2rad, rad2deg, average\n",
    "\n",
    "from steel_design.AISC import aisc\n",
    "from concrete_design.steel_reinforcement import rebar_df as rebar\n",
    "conc_density = 150.0 #pcf\n",
    "\n",
    "display(Latex(r\"\\newpage\")) #pagebreak"
   ]
  },
  {
   "cell_type": "markdown",
   "id": "26b788f2",
   "metadata": {},
   "source": [
    "# East 48' Lintel\n",
    "#### Long Term Deflection Factor"
   ]
  },
  {
   "cell_type": "code",
   "execution_count": 7,
   "id": "e0834cfe",
   "metadata": {},
   "outputs": [
    {
     "data": {
      "text/plain": [
       "'lmbda_dlt = 1.28'"
      ]
     },
     "execution_count": 7,
     "metadata": {},
     "output_type": "execute_result"
    }
   ],
   "source": [
    "# Provided Steel\n",
    "bar = \"#11\"\n",
    "Ab_p = rebar.loc[bar, \"Area\"]\n",
    "n = 6 #number of bars\n",
    "\n",
    "# Beam Geometry\n",
    "b = 30.0 #in\n",
    "h = 30.0 #in\n",
    "d = h - average([1.5, 3])\n",
    "\n",
    "# Deflection Factor\n",
    "xi = 2.0 #duration factor\n",
    "As_p = n * Ab_p #compression reinforcement\n",
    "rho_p = As_p / (b * d)\n",
    "\n",
    "lmbda_dlt = xi / (1 + 50*rho_p)\n",
    "f\"lmbda_dlt = {round(lmbda_dlt, 3)}\""
   ]
  },
  {
   "cell_type": "code",
   "execution_count": null,
   "id": "9a65ace4",
   "metadata": {},
   "outputs": [],
   "source": []
  },
  {
   "cell_type": "code",
   "execution_count": null,
   "id": "97615f01",
   "metadata": {},
   "outputs": [],
   "source": []
  }
 ],
 "metadata": {
  "kernelspec": {
   "display_name": "Python 3.9.2 64-bit",
   "language": "python",
   "name": "python3"
  },
  "language_info": {
   "codemirror_mode": {
    "name": "ipython",
    "version": 3
   },
   "file_extension": ".py",
   "mimetype": "text/x-python",
   "name": "python",
   "nbconvert_exporter": "python",
   "pygments_lexer": "ipython3",
   "version": "3.9.2"
  },
  "vscode": {
   "interpreter": {
    "hash": "8c340b0736d8d4910d2ca7989655b8187219e0906e973b44a7c0150cb2eac932"
   }
  }
 },
 "nbformat": 4,
 "nbformat_minor": 5
}
