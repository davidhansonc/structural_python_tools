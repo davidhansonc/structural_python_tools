{
 "cells": [
  {
   "cell_type": "code",
   "execution_count": 2,
   "id": "10581fc1",
   "metadata": {},
   "outputs": [],
   "source": [
    "# Import Python Tools:\n",
    "from IPython.display import display, Latex\n",
    "import pandas as pd\n",
    "import numpy as np\n",
    "from numpy import sqrt, pi, average, cos, sin, tan, arcsin, arccos, arctan, deg2rad, rad2deg\n",
    "\n",
    "from ASCE import load_combos\n",
    "from steel_design.AISC import aisc\n",
    "from concrete_design.material_properties import elastic_modulus, rigidity_modulus\n",
    "from concrete_design.steel_reinforcement import rebar_df as rebar\n",
    "from masonry_design.material_properties import NW_CMU, elastic_modulus\n",
    "conc_density = 150.0 #pcf\n",
    "steel_density = 0.2833 #pci"
   ]
  },
  {
   "cell_type": "code",
   "execution_count": 3,
   "id": "e4b9a22f",
   "metadata": {},
   "outputs": [
    {
     "data": {
      "text/latex": [
       "\\newpage"
      ],
      "text/plain": [
       "<IPython.core.display.Latex object>"
      ]
     },
     "metadata": {},
     "output_type": "display_data"
    }
   ],
   "source": [
    "import matplotlib as plt\n",
    "%matplotlib inline\n",
    "\n",
    "# import beam and supports\n",
    "from indeterminatebeam import Beam, Support\n",
    "\n",
    "# import loads (all load types imported for reference)\n",
    "from indeterminatebeam import (\n",
    "    PointTorque,\n",
    "    PointLoad,\n",
    "    PointLoadV,\n",
    "    PointLoadH,\n",
    "    UDL,\n",
    "    UDLV,\n",
    "    UDLH,\n",
    "    TrapezoidalLoad,\n",
    "    TrapezoidalLoadV,\n",
    "    TrapezoidalLoadH,\n",
    "    DistributedLoad,\n",
    "    DistributedLoadV,\n",
    "    DistributedLoadH\n",
    ")\n",
    "\n",
    "display(Latex(r\"\\newpage\")) #pagebreak"
   ]
  },
  {
   "cell_type": "code",
   "execution_count": 7,
   "id": "bbd70d0d",
   "metadata": {},
   "outputs": [
    {
     "data": {
      "application/vnd.plotly.v1+json": {
       "config": {
        "plotlyServerURL": "https://plot.ly"
       },
       "data": [
        {
         "hoverinfo": "skip",
         "hovertemplate": "%{x} %{meta[0]}",
         "line": {
          "color": "purple",
          "width": 2
         },
         "meta": [
          "ft"
         ],
         "mode": "lines",
         "name": "Beam_",
         "type": "scatter",
         "x": [
          0,
          1.25
         ],
         "xaxis": "x",
         "y": [
          0,
          0
         ],
         "yaxis": "y"
        },
        {
         "hoverinfo": "skip",
         "hovertemplate": "x: %{x:.3f} %{meta[1]}<br>Fixed: %{meta[0]}",
         "marker": {
          "color": "blue",
          "size": 10,
          "symbol": "triangle-up"
         },
         "meta": [
          "[1, 1, 0]",
          "m"
         ],
         "mode": "markers",
         "name": "Support",
         "opacity": 0,
         "showlegend": false,
         "type": "scatter",
         "x": [
          0.125
         ],
         "xaxis": "x",
         "y": [
          0
         ],
         "yaxis": "y"
        },
        {
         "fill": "toself",
         "hoverinfo": "skip",
         "marker": {
          "color": "blue",
          "size": 10,
          "symbol": "arrow-up"
         },
         "mode": "markers",
         "name": "Support",
         "showlegend": false,
         "type": "scatter",
         "x": [
          0.125
         ],
         "xaxis": "x",
         "y": [
          0
         ],
         "yaxis": "y"
        },
        {
         "hoverinfo": "skip",
         "hovertemplate": "x: %{x:.3f} %{meta[1]}<br>Fixed: %{meta[0]}",
         "marker": {
          "color": "blue",
          "size": 10,
          "symbol": "triangle-up"
         },
         "meta": [
          "[0, 1, 0]",
          "m"
         ],
         "mode": "markers",
         "name": "Support",
         "opacity": 0,
         "showlegend": false,
         "type": "scatter",
         "x": [
          1.125
         ],
         "xaxis": "x",
         "y": [
          0
         ],
         "yaxis": "y"
        },
        {
         "fill": "toself",
         "hoverinfo": "skip",
         "marker": {
          "color": "blue",
          "size": 10,
          "symbol": "arrow-up"
         },
         "mode": "markers",
         "name": "Support",
         "showlegend": false,
         "type": "scatter",
         "x": [
          1.125
         ],
         "xaxis": "x",
         "y": [
          0
         ],
         "yaxis": "y"
        },
        {
         "hoverinfo": "skip",
         "hovertemplate": "x: %{meta[1]:.3f} %{meta[2]}<br>Force: %{meta[0]:.3f} %{meta[3]}            <br>Angle: %{meta[5]:.3f} deg",
         "marker": {
          "color": "red",
          "size": 10,
          "symbol": "triangle-up"
         },
         "meta": [
          4364,
          0.3,
          "ft",
          "lbf",
          "lbf.ft",
          90
         ],
         "mode": "markers",
         "name": "Point<br>Load",
         "opacity": 0,
         "showlegend": false,
         "type": "scatter",
         "x": [
          0.3
         ],
         "xaxis": "x",
         "y": [
          0
         ],
         "yaxis": "y"
        },
        {
         "hoverinfo": "skip",
         "hovertemplate": "x: %{meta[1]:.3f} %{meta[2]}<br>Force: %{meta[0]:.3f} %{meta[3]}            <br>Angle: %{meta[5]:.3f} deg",
         "marker": {
          "color": "red",
          "size": 10,
          "symbol": "triangle-up"
         },
         "meta": [
          4364,
          0.95,
          "ft",
          "lbf",
          "lbf.ft",
          90
         ],
         "mode": "markers",
         "name": "Point<br>Load",
         "opacity": 0,
         "showlegend": false,
         "type": "scatter",
         "x": [
          0.95
         ],
         "xaxis": "x",
         "y": [
          0
         ],
         "yaxis": "y"
        },
        {
         "hoverinfo": "skip",
         "hovertemplate": "%{x}",
         "line": {
          "color": "purple",
          "width": 2
         },
         "mode": "lines",
         "name": "Beam",
         "type": "scatter",
         "x": [
          0,
          1.25
         ],
         "xaxis": "x2",
         "y": [
          0,
          0
         ],
         "yaxis": "y2"
        },
        {
         "hoverinfo": "skip",
         "hovertemplate": "Reactions<br>x coord: %{x:.3f} %{meta[3]}<br>y: %{meta[1]:.3f} %{meta[4]}",
         "marker": {
          "color": "red",
          "size": 10,
          "symbol": "triangle-up"
         },
         "meta": [
          0,
          -4364,
          0,
          "ft",
          "lbf",
          "lbf.ft"
         ],
         "mode": "markers",
         "name": "Reaction",
         "opacity": 0,
         "showlegend": false,
         "type": "scatter",
         "x": [
          0.125
         ],
         "xaxis": "x2",
         "y": [
          0
         ],
         "yaxis": "y2"
        },
        {
         "hoverinfo": "skip",
         "hovertemplate": "Reactions<br>x coord: %{x:.3f} %{meta[3]}<br>y: %{meta[1]:.3f} %{meta[4]}",
         "marker": {
          "color": "red",
          "size": 10,
          "symbol": "triangle-up"
         },
         "meta": [
          0,
          -4364,
          0,
          "ft",
          "lbf",
          "lbf.ft"
         ],
         "mode": "markers",
         "name": "Reaction",
         "opacity": 0,
         "showlegend": false,
         "type": "scatter",
         "x": [
          1.125
         ],
         "xaxis": "x2",
         "y": [
          0
         ],
         "yaxis": "y2"
        }
       ],
       "layout": {
        "annotations": [
         {
          "font": {
           "size": 16
          },
          "showarrow": false,
          "text": "Beam schematic",
          "x": 0.5,
          "xanchor": "center",
          "xref": "paper",
          "y": 1,
          "yanchor": "bottom",
          "yref": "paper"
         },
         {
          "font": {
           "size": 16
          },
          "showarrow": false,
          "text": "Reaction Forces",
          "x": 0.5,
          "xanchor": "center",
          "xref": "paper",
          "y": 0.45,
          "yanchor": "bottom",
          "yref": "paper"
         },
         {
          "font": {
           "color": "red"
          },
          "showarrow": false,
          "text": "4364.000 lbf",
          "x": 0.3,
          "xref": "x",
          "xshift": 0,
          "y": 0,
          "yref": "y",
          "yshift": -52
         },
         {
          "font": {
           "color": "red"
          },
          "showarrow": false,
          "text": "4364.000 lbf",
          "x": 0.95,
          "xref": "x",
          "xshift": 0,
          "y": 0,
          "yref": "y",
          "yshift": -52
         },
         {
          "font": {
           "color": "red"
          },
          "showarrow": false,
          "text": "-4364.000 lbf",
          "x": 0.125,
          "xref": "x2",
          "xshift": 0,
          "y": 0,
          "yref": "y2",
          "yshift": 52
         },
         {
          "font": {
           "color": "red"
          },
          "showarrow": false,
          "text": "-4364.000 lbf",
          "x": 1.125,
          "xref": "x2",
          "xshift": 0,
          "y": 0,
          "yref": "y2",
          "yshift": 52
         }
        ],
        "height": 550,
        "hovermode": "x",
        "shapes": [
         {
          "fillcolor": "blue",
          "line": {
           "color": "blue"
          },
          "type": "circle",
          "x0": -1,
          "x1": 1,
          "xanchor": 1.125,
          "xref": "x",
          "xsizemode": "pixel",
          "y0": -14,
          "y1": -12,
          "yanchor": 0,
          "yref": "y",
          "ysizemode": "pixel"
         },
         {
          "fillcolor": "blue",
          "line": {
           "color": "blue"
          },
          "type": "circle",
          "x0": -5,
          "x1": -3,
          "xanchor": 1.125,
          "xref": "x",
          "xsizemode": "pixel",
          "y0": -14,
          "y1": -12,
          "yanchor": 0,
          "yref": "y",
          "ysizemode": "pixel"
         },
         {
          "fillcolor": "blue",
          "line": {
           "color": "blue"
          },
          "type": "circle",
          "x0": 3,
          "x1": 5,
          "xanchor": 1.125,
          "xref": "x",
          "xsizemode": "pixel",
          "y0": -14,
          "y1": -12,
          "yanchor": 0,
          "yref": "y",
          "ysizemode": "pixel"
         },
         {
          "line": {
           "color": "red",
           "width": 2
          },
          "type": "line",
          "x0": 0,
          "x1": 3,
          "xanchor": 0.3,
          "xref": "x",
          "xsizemode": "pixel",
          "y0": 0,
          "y1": -3,
          "yanchor": 0,
          "yref": "y",
          "ysizemode": "pixel"
         },
         {
          "line": {
           "color": "red",
           "width": 2
          },
          "type": "line",
          "x0": 0,
          "x1": -3,
          "xanchor": 0.3,
          "xref": "x",
          "xsizemode": "pixel",
          "y0": 0,
          "y1": -3,
          "yanchor": 0,
          "yref": "y",
          "ysizemode": "pixel"
         },
         {
          "line": {
           "color": "red",
           "width": 2
          },
          "type": "line",
          "x0": 0,
          "x1": 0,
          "xanchor": 0.3,
          "xref": "x",
          "xsizemode": "pixel",
          "y0": 0,
          "y1": -40,
          "yanchor": 0,
          "yref": "y",
          "ysizemode": "pixel"
         },
         {
          "line": {
           "color": "red",
           "width": 2
          },
          "type": "line",
          "x0": 0,
          "x1": 3,
          "xanchor": 0.95,
          "xref": "x",
          "xsizemode": "pixel",
          "y0": 0,
          "y1": -3,
          "yanchor": 0,
          "yref": "y",
          "ysizemode": "pixel"
         },
         {
          "line": {
           "color": "red",
           "width": 2
          },
          "type": "line",
          "x0": 0,
          "x1": -3,
          "xanchor": 0.95,
          "xref": "x",
          "xsizemode": "pixel",
          "y0": 0,
          "y1": -3,
          "yanchor": 0,
          "yref": "y",
          "ysizemode": "pixel"
         },
         {
          "line": {
           "color": "red",
           "width": 2
          },
          "type": "line",
          "x0": 0,
          "x1": 0,
          "xanchor": 0.95,
          "xref": "x",
          "xsizemode": "pixel",
          "y0": 0,
          "y1": -40,
          "yanchor": 0,
          "yref": "y",
          "ysizemode": "pixel"
         },
         {
          "line": {
           "color": "red",
           "width": 2
          },
          "type": "line",
          "x0": 0,
          "x1": -3,
          "xanchor": 0.125,
          "xref": "x2",
          "xsizemode": "pixel",
          "y0": 0,
          "y1": 3,
          "yanchor": 0,
          "yref": "y2",
          "ysizemode": "pixel"
         },
         {
          "line": {
           "color": "red",
           "width": 2
          },
          "type": "line",
          "x0": 0,
          "x1": 3,
          "xanchor": 0.125,
          "xref": "x2",
          "xsizemode": "pixel",
          "y0": 0,
          "y1": 3,
          "yanchor": 0,
          "yref": "y2",
          "ysizemode": "pixel"
         },
         {
          "line": {
           "color": "red",
           "width": 2
          },
          "type": "line",
          "x0": 0,
          "x1": 0,
          "xanchor": 0.125,
          "xref": "x2",
          "xsizemode": "pixel",
          "y0": 0,
          "y1": 40,
          "yanchor": 0,
          "yref": "y2",
          "ysizemode": "pixel"
         },
         {
          "line": {
           "color": "red",
           "width": 2
          },
          "type": "line",
          "x0": 0,
          "x1": -3,
          "xanchor": 1.125,
          "xref": "x2",
          "xsizemode": "pixel",
          "y0": 0,
          "y1": 3,
          "yanchor": 0,
          "yref": "y2",
          "ysizemode": "pixel"
         },
         {
          "line": {
           "color": "red",
           "width": 2
          },
          "type": "line",
          "x0": 0,
          "x1": 3,
          "xanchor": 1.125,
          "xref": "x2",
          "xsizemode": "pixel",
          "y0": 0,
          "y1": 3,
          "yanchor": 0,
          "yref": "y2",
          "ysizemode": "pixel"
         },
         {
          "line": {
           "color": "red",
           "width": 2
          },
          "type": "line",
          "x0": 0,
          "x1": 0,
          "xanchor": 1.125,
          "xref": "x2",
          "xsizemode": "pixel",
          "y0": 0,
          "y1": 40,
          "yanchor": 0,
          "yref": "y2",
          "ysizemode": "pixel"
         }
        ],
        "showlegend": false,
        "template": {
         "data": {
          "bar": [
           {
            "error_x": {
             "color": "#2a3f5f"
            },
            "error_y": {
             "color": "#2a3f5f"
            },
            "marker": {
             "line": {
              "color": "#E5ECF6",
              "width": 0.5
             },
             "pattern": {
              "fillmode": "overlay",
              "size": 10,
              "solidity": 0.2
             }
            },
            "type": "bar"
           }
          ],
          "barpolar": [
           {
            "marker": {
             "line": {
              "color": "#E5ECF6",
              "width": 0.5
             },
             "pattern": {
              "fillmode": "overlay",
              "size": 10,
              "solidity": 0.2
             }
            },
            "type": "barpolar"
           }
          ],
          "carpet": [
           {
            "aaxis": {
             "endlinecolor": "#2a3f5f",
             "gridcolor": "white",
             "linecolor": "white",
             "minorgridcolor": "white",
             "startlinecolor": "#2a3f5f"
            },
            "baxis": {
             "endlinecolor": "#2a3f5f",
             "gridcolor": "white",
             "linecolor": "white",
             "minorgridcolor": "white",
             "startlinecolor": "#2a3f5f"
            },
            "type": "carpet"
           }
          ],
          "choropleth": [
           {
            "colorbar": {
             "outlinewidth": 0,
             "ticks": ""
            },
            "type": "choropleth"
           }
          ],
          "contour": [
           {
            "colorbar": {
             "outlinewidth": 0,
             "ticks": ""
            },
            "colorscale": [
             [
              0,
              "#0d0887"
             ],
             [
              0.1111111111111111,
              "#46039f"
             ],
             [
              0.2222222222222222,
              "#7201a8"
             ],
             [
              0.3333333333333333,
              "#9c179e"
             ],
             [
              0.4444444444444444,
              "#bd3786"
             ],
             [
              0.5555555555555556,
              "#d8576b"
             ],
             [
              0.6666666666666666,
              "#ed7953"
             ],
             [
              0.7777777777777778,
              "#fb9f3a"
             ],
             [
              0.8888888888888888,
              "#fdca26"
             ],
             [
              1,
              "#f0f921"
             ]
            ],
            "type": "contour"
           }
          ],
          "contourcarpet": [
           {
            "colorbar": {
             "outlinewidth": 0,
             "ticks": ""
            },
            "type": "contourcarpet"
           }
          ],
          "heatmap": [
           {
            "colorbar": {
             "outlinewidth": 0,
             "ticks": ""
            },
            "colorscale": [
             [
              0,
              "#0d0887"
             ],
             [
              0.1111111111111111,
              "#46039f"
             ],
             [
              0.2222222222222222,
              "#7201a8"
             ],
             [
              0.3333333333333333,
              "#9c179e"
             ],
             [
              0.4444444444444444,
              "#bd3786"
             ],
             [
              0.5555555555555556,
              "#d8576b"
             ],
             [
              0.6666666666666666,
              "#ed7953"
             ],
             [
              0.7777777777777778,
              "#fb9f3a"
             ],
             [
              0.8888888888888888,
              "#fdca26"
             ],
             [
              1,
              "#f0f921"
             ]
            ],
            "type": "heatmap"
           }
          ],
          "heatmapgl": [
           {
            "colorbar": {
             "outlinewidth": 0,
             "ticks": ""
            },
            "colorscale": [
             [
              0,
              "#0d0887"
             ],
             [
              0.1111111111111111,
              "#46039f"
             ],
             [
              0.2222222222222222,
              "#7201a8"
             ],
             [
              0.3333333333333333,
              "#9c179e"
             ],
             [
              0.4444444444444444,
              "#bd3786"
             ],
             [
              0.5555555555555556,
              "#d8576b"
             ],
             [
              0.6666666666666666,
              "#ed7953"
             ],
             [
              0.7777777777777778,
              "#fb9f3a"
             ],
             [
              0.8888888888888888,
              "#fdca26"
             ],
             [
              1,
              "#f0f921"
             ]
            ],
            "type": "heatmapgl"
           }
          ],
          "histogram": [
           {
            "marker": {
             "pattern": {
              "fillmode": "overlay",
              "size": 10,
              "solidity": 0.2
             }
            },
            "type": "histogram"
           }
          ],
          "histogram2d": [
           {
            "colorbar": {
             "outlinewidth": 0,
             "ticks": ""
            },
            "colorscale": [
             [
              0,
              "#0d0887"
             ],
             [
              0.1111111111111111,
              "#46039f"
             ],
             [
              0.2222222222222222,
              "#7201a8"
             ],
             [
              0.3333333333333333,
              "#9c179e"
             ],
             [
              0.4444444444444444,
              "#bd3786"
             ],
             [
              0.5555555555555556,
              "#d8576b"
             ],
             [
              0.6666666666666666,
              "#ed7953"
             ],
             [
              0.7777777777777778,
              "#fb9f3a"
             ],
             [
              0.8888888888888888,
              "#fdca26"
             ],
             [
              1,
              "#f0f921"
             ]
            ],
            "type": "histogram2d"
           }
          ],
          "histogram2dcontour": [
           {
            "colorbar": {
             "outlinewidth": 0,
             "ticks": ""
            },
            "colorscale": [
             [
              0,
              "#0d0887"
             ],
             [
              0.1111111111111111,
              "#46039f"
             ],
             [
              0.2222222222222222,
              "#7201a8"
             ],
             [
              0.3333333333333333,
              "#9c179e"
             ],
             [
              0.4444444444444444,
              "#bd3786"
             ],
             [
              0.5555555555555556,
              "#d8576b"
             ],
             [
              0.6666666666666666,
              "#ed7953"
             ],
             [
              0.7777777777777778,
              "#fb9f3a"
             ],
             [
              0.8888888888888888,
              "#fdca26"
             ],
             [
              1,
              "#f0f921"
             ]
            ],
            "type": "histogram2dcontour"
           }
          ],
          "mesh3d": [
           {
            "colorbar": {
             "outlinewidth": 0,
             "ticks": ""
            },
            "type": "mesh3d"
           }
          ],
          "parcoords": [
           {
            "line": {
             "colorbar": {
              "outlinewidth": 0,
              "ticks": ""
             }
            },
            "type": "parcoords"
           }
          ],
          "pie": [
           {
            "automargin": true,
            "type": "pie"
           }
          ],
          "scatter": [
           {
            "fillpattern": {
             "fillmode": "overlay",
             "size": 10,
             "solidity": 0.2
            },
            "type": "scatter"
           }
          ],
          "scatter3d": [
           {
            "line": {
             "colorbar": {
              "outlinewidth": 0,
              "ticks": ""
             }
            },
            "marker": {
             "colorbar": {
              "outlinewidth": 0,
              "ticks": ""
             }
            },
            "type": "scatter3d"
           }
          ],
          "scattercarpet": [
           {
            "marker": {
             "colorbar": {
              "outlinewidth": 0,
              "ticks": ""
             }
            },
            "type": "scattercarpet"
           }
          ],
          "scattergeo": [
           {
            "marker": {
             "colorbar": {
              "outlinewidth": 0,
              "ticks": ""
             }
            },
            "type": "scattergeo"
           }
          ],
          "scattergl": [
           {
            "marker": {
             "colorbar": {
              "outlinewidth": 0,
              "ticks": ""
             }
            },
            "type": "scattergl"
           }
          ],
          "scattermapbox": [
           {
            "marker": {
             "colorbar": {
              "outlinewidth": 0,
              "ticks": ""
             }
            },
            "type": "scattermapbox"
           }
          ],
          "scatterpolar": [
           {
            "marker": {
             "colorbar": {
              "outlinewidth": 0,
              "ticks": ""
             }
            },
            "type": "scatterpolar"
           }
          ],
          "scatterpolargl": [
           {
            "marker": {
             "colorbar": {
              "outlinewidth": 0,
              "ticks": ""
             }
            },
            "type": "scatterpolargl"
           }
          ],
          "scatterternary": [
           {
            "marker": {
             "colorbar": {
              "outlinewidth": 0,
              "ticks": ""
             }
            },
            "type": "scatterternary"
           }
          ],
          "surface": [
           {
            "colorbar": {
             "outlinewidth": 0,
             "ticks": ""
            },
            "colorscale": [
             [
              0,
              "#0d0887"
             ],
             [
              0.1111111111111111,
              "#46039f"
             ],
             [
              0.2222222222222222,
              "#7201a8"
             ],
             [
              0.3333333333333333,
              "#9c179e"
             ],
             [
              0.4444444444444444,
              "#bd3786"
             ],
             [
              0.5555555555555556,
              "#d8576b"
             ],
             [
              0.6666666666666666,
              "#ed7953"
             ],
             [
              0.7777777777777778,
              "#fb9f3a"
             ],
             [
              0.8888888888888888,
              "#fdca26"
             ],
             [
              1,
              "#f0f921"
             ]
            ],
            "type": "surface"
           }
          ],
          "table": [
           {
            "cells": {
             "fill": {
              "color": "#EBF0F8"
             },
             "line": {
              "color": "white"
             }
            },
            "header": {
             "fill": {
              "color": "#C8D4E3"
             },
             "line": {
              "color": "white"
             }
            },
            "type": "table"
           }
          ]
         },
         "layout": {
          "annotationdefaults": {
           "arrowcolor": "#2a3f5f",
           "arrowhead": 0,
           "arrowwidth": 1
          },
          "autotypenumbers": "strict",
          "coloraxis": {
           "colorbar": {
            "outlinewidth": 0,
            "ticks": ""
           }
          },
          "colorscale": {
           "diverging": [
            [
             0,
             "#8e0152"
            ],
            [
             0.1,
             "#c51b7d"
            ],
            [
             0.2,
             "#de77ae"
            ],
            [
             0.3,
             "#f1b6da"
            ],
            [
             0.4,
             "#fde0ef"
            ],
            [
             0.5,
             "#f7f7f7"
            ],
            [
             0.6,
             "#e6f5d0"
            ],
            [
             0.7,
             "#b8e186"
            ],
            [
             0.8,
             "#7fbc41"
            ],
            [
             0.9,
             "#4d9221"
            ],
            [
             1,
             "#276419"
            ]
           ],
           "sequential": [
            [
             0,
             "#0d0887"
            ],
            [
             0.1111111111111111,
             "#46039f"
            ],
            [
             0.2222222222222222,
             "#7201a8"
            ],
            [
             0.3333333333333333,
             "#9c179e"
            ],
            [
             0.4444444444444444,
             "#bd3786"
            ],
            [
             0.5555555555555556,
             "#d8576b"
            ],
            [
             0.6666666666666666,
             "#ed7953"
            ],
            [
             0.7777777777777778,
             "#fb9f3a"
            ],
            [
             0.8888888888888888,
             "#fdca26"
            ],
            [
             1,
             "#f0f921"
            ]
           ],
           "sequentialminus": [
            [
             0,
             "#0d0887"
            ],
            [
             0.1111111111111111,
             "#46039f"
            ],
            [
             0.2222222222222222,
             "#7201a8"
            ],
            [
             0.3333333333333333,
             "#9c179e"
            ],
            [
             0.4444444444444444,
             "#bd3786"
            ],
            [
             0.5555555555555556,
             "#d8576b"
            ],
            [
             0.6666666666666666,
             "#ed7953"
            ],
            [
             0.7777777777777778,
             "#fb9f3a"
            ],
            [
             0.8888888888888888,
             "#fdca26"
            ],
            [
             1,
             "#f0f921"
            ]
           ]
          },
          "colorway": [
           "#636efa",
           "#EF553B",
           "#00cc96",
           "#ab63fa",
           "#FFA15A",
           "#19d3f3",
           "#FF6692",
           "#B6E880",
           "#FF97FF",
           "#FECB52"
          ],
          "font": {
           "color": "#2a3f5f"
          },
          "geo": {
           "bgcolor": "white",
           "lakecolor": "white",
           "landcolor": "#E5ECF6",
           "showlakes": true,
           "showland": true,
           "subunitcolor": "white"
          },
          "hoverlabel": {
           "align": "left"
          },
          "hovermode": "closest",
          "mapbox": {
           "style": "light"
          },
          "paper_bgcolor": "white",
          "plot_bgcolor": "#E5ECF6",
          "polar": {
           "angularaxis": {
            "gridcolor": "white",
            "linecolor": "white",
            "ticks": ""
           },
           "bgcolor": "#E5ECF6",
           "radialaxis": {
            "gridcolor": "white",
            "linecolor": "white",
            "ticks": ""
           }
          },
          "scene": {
           "xaxis": {
            "backgroundcolor": "#E5ECF6",
            "gridcolor": "white",
            "gridwidth": 2,
            "linecolor": "white",
            "showbackground": true,
            "ticks": "",
            "zerolinecolor": "white"
           },
           "yaxis": {
            "backgroundcolor": "#E5ECF6",
            "gridcolor": "white",
            "gridwidth": 2,
            "linecolor": "white",
            "showbackground": true,
            "ticks": "",
            "zerolinecolor": "white"
           },
           "zaxis": {
            "backgroundcolor": "#E5ECF6",
            "gridcolor": "white",
            "gridwidth": 2,
            "linecolor": "white",
            "showbackground": true,
            "ticks": "",
            "zerolinecolor": "white"
           }
          },
          "shapedefaults": {
           "line": {
            "color": "#2a3f5f"
           }
          },
          "ternary": {
           "aaxis": {
            "gridcolor": "white",
            "linecolor": "white",
            "ticks": ""
           },
           "baxis": {
            "gridcolor": "white",
            "linecolor": "white",
            "ticks": ""
           },
           "bgcolor": "#E5ECF6",
           "caxis": {
            "gridcolor": "white",
            "linecolor": "white",
            "ticks": ""
           }
          },
          "title": {
           "x": 0.05
          },
          "xaxis": {
           "automargin": true,
           "gridcolor": "white",
           "linecolor": "white",
           "ticks": "",
           "title": {
            "standoff": 15
           },
           "zerolinecolor": "white",
           "zerolinewidth": 2
          },
          "yaxis": {
           "automargin": true,
           "gridcolor": "white",
           "linecolor": "white",
           "ticks": "",
           "title": {
            "standoff": 15
           },
           "zerolinecolor": "white",
           "zerolinewidth": 2
          }
         }
        },
        "title": {
         "font": {
          "size": 24
         },
         "text": "Beam External Conditions",
         "x": 0.5
        },
        "width": 700,
        "xaxis": {
         "anchor": "y",
         "domain": [
          0,
          1
         ],
         "matches": "x2",
         "showticklabels": false
        },
        "xaxis2": {
         "anchor": "y2",
         "domain": [
          0,
          1
         ],
         "title": {
          "text": "Beam Length (ft)"
         }
        },
        "yaxis": {
         "anchor": "x",
         "domain": [
          0.55,
          1
         ],
         "fixedrange": true,
         "range": [
          -3,
          3
         ],
         "visible": false
        },
        "yaxis2": {
         "anchor": "x2",
         "domain": [
          0,
          0.45
         ],
         "fixedrange": true,
         "range": [
          -3,
          3
         ],
         "visible": false
        }
       }
      }
     },
     "metadata": {},
     "output_type": "display_data"
    },
    {
     "data": {
      "application/vnd.plotly.v1+json": {
       "config": {
        "plotlyServerURL": "https://plot.ly"
       },
       "data": [
        {
         "fill": "tozeroy",
         "hovertemplate": "x: %{x:.3f} %{meta[0]}<br>f(x): %{y:.3f} %{meta[1]}",
         "line": {
          "color": "red",
          "width": 1
         },
         "meta": [
          "ft",
          "lbf"
         ],
         "mode": "lines",
         "name": "Normal Force",
         "type": "scatter",
         "x": [
          0,
          0.00628140703517588,
          0.01256281407035176,
          0.01884422110552764,
          0.02512562814070352,
          0.0314070351758794,
          0.03768844221105528,
          0.04396984924623116,
          0.05025125628140704,
          0.056532663316582916,
          0.0628140703517588,
          0.06909547738693468,
          0.07537688442211056,
          0.08165829145728644,
          0.08793969849246232,
          0.0942211055276382,
          0.10050251256281408,
          0.10678391959798995,
          0.11306532663316583,
          0.11934673366834171,
          0.1249999,
          0.1250001,
          0.1256281407035176,
          0.13190954773869348,
          0.13819095477386936,
          0.14447236180904524,
          0.15075376884422112,
          0.157035175879397,
          0.16331658291457288,
          0.16959798994974876,
          0.17587939698492464,
          0.18216080402010051,
          0.1884422110552764,
          0.19472361809045227,
          0.20100502512562815,
          0.20728643216080403,
          0.2135678391959799,
          0.2198492462311558,
          0.22613065326633167,
          0.23241206030150754,
          0.23869346733668342,
          0.2449748743718593,
          0.2512562814070352,
          0.2575376884422111,
          0.26381909547738697,
          0.27010050251256285,
          0.2763819095477387,
          0.2826633165829146,
          0.2889447236180905,
          0.29522613065326636,
          0.2999999,
          0.3000001,
          0.30150753768844224,
          0.3077889447236181,
          0.314070351758794,
          0.3203517587939699,
          0.32663316582914576,
          0.33291457286432163,
          0.3391959798994975,
          0.3454773869346734,
          0.35175879396984927,
          0.35804020100502515,
          0.36432160804020103,
          0.3706030150753769,
          0.3768844221105528,
          0.38316582914572866,
          0.38944723618090454,
          0.3957286432160804,
          0.4020100502512563,
          0.4082914572864322,
          0.41457286432160806,
          0.42085427135678394,
          0.4271356783919598,
          0.4334170854271357,
          0.4396984924623116,
          0.44597989949748745,
          0.45226130653266333,
          0.4585427135678392,
          0.4648241206030151,
          0.47110552763819097,
          0.47738693467336685,
          0.4836683417085427,
          0.4899497487437186,
          0.4962311557788945,
          0.5025125628140704,
          0.5087939698492463,
          0.5150753768844222,
          0.521356783919598,
          0.5276381909547739,
          0.5339195979899498,
          0.5402010050251257,
          0.5464824120603016,
          0.5527638190954774,
          0.5590452261306533,
          0.5653266331658292,
          0.5716080402010051,
          0.577889447236181,
          0.5841708542713568,
          0.5904522613065327,
          0.5967336683417086,
          0.6030150753768845,
          0.6092964824120604,
          0.6155778894472362,
          0.6218592964824121,
          0.628140703517588,
          0.6344221105527639,
          0.6407035175879398,
          0.6469849246231156,
          0.6532663316582915,
          0.6595477386934674,
          0.6658291457286433,
          0.6721105527638191,
          0.678391959798995,
          0.6846733668341709,
          0.6909547738693468,
          0.6972361809045227,
          0.7035175879396985,
          0.7097989949748744,
          0.7160804020100503,
          0.7223618090452262,
          0.7286432160804021,
          0.7349246231155779,
          0.7412060301507538,
          0.7474874371859297,
          0.7537688442211056,
          0.7600502512562815,
          0.7663316582914573,
          0.7726130653266332,
          0.7788944723618091,
          0.785175879396985,
          0.7914572864321608,
          0.7977386934673367,
          0.8040201005025126,
          0.8103015075376885,
          0.8165829145728644,
          0.8228643216080402,
          0.8291457286432161,
          0.835427135678392,
          0.8417085427135679,
          0.8479899497487438,
          0.8542713567839196,
          0.8605527638190955,
          0.8668341708542714,
          0.8731155778894473,
          0.8793969849246231,
          0.885678391959799,
          0.8919597989949749,
          0.8982412060301508,
          0.9045226130653267,
          0.9108040201005025,
          0.9170854271356784,
          0.9233668341708543,
          0.9296482412060302,
          0.9359296482412061,
          0.9422110552763819,
          0.9484924623115578,
          0.9499999,
          0.9500000999999999,
          0.9547738693467337,
          0.9610552763819096,
          0.9673366834170855,
          0.9736180904522613,
          0.9798994974874372,
          0.9861809045226131,
          0.992462311557789,
          0.9987437185929648,
          1.0050251256281408,
          1.0113065326633166,
          1.0175879396984926,
          1.0238693467336684,
          1.0301507537688444,
          1.0364321608040201,
          1.042713567839196,
          1.0489949748743719,
          1.0552763819095479,
          1.0615577889447236,
          1.0678391959798996,
          1.0741206030150754,
          1.0804020100502514,
          1.0866834170854272,
          1.0929648241206031,
          1.099246231155779,
          1.105527638190955,
          1.1118090452261307,
          1.1180904522613067,
          1.1243718592964824,
          1.1249999,
          1.1250001,
          1.1306532663316584,
          1.1369346733668342,
          1.1432160804020102,
          1.149497487437186,
          1.155778894472362,
          1.1620603015075377,
          1.1683417085427137,
          1.1746231155778895,
          1.1809045226130654,
          1.1871859296482412,
          1.1934673366834172,
          1.199748743718593,
          1.206030150753769,
          1.2123115577889447,
          1.2185929648241207,
          1.2248743718592965,
          1.2311557788944725,
          1.2374371859296482,
          1.2437185929648242,
          1.25
         ],
         "xaxis": "x",
         "y": [
          0,
          0,
          0,
          0,
          0,
          0,
          0,
          0,
          0,
          0,
          0,
          0,
          0,
          0,
          0,
          0,
          0,
          0,
          0,
          0,
          0,
          0,
          0,
          0,
          0,
          0,
          0,
          0,
          0,
          0,
          0,
          0,
          0,
          0,
          0,
          0,
          0,
          0,
          0,
          0,
          0,
          0,
          0,
          0,
          0,
          0,
          0,
          0,
          0,
          0,
          0,
          0,
          0,
          0,
          0,
          0,
          0,
          0,
          0,
          0,
          0,
          0,
          0,
          0,
          0,
          0,
          0,
          0,
          0,
          0,
          0,
          0,
          0,
          0,
          0,
          0,
          0,
          0,
          0,
          0,
          0,
          0,
          0,
          0,
          0,
          0,
          0,
          0,
          0,
          0,
          0,
          0,
          0,
          0,
          0,
          0,
          0,
          0,
          0,
          0,
          0,
          0,
          0,
          0,
          0,
          0,
          0,
          0,
          0,
          0,
          0,
          0,
          0,
          0,
          0,
          0,
          0,
          0,
          0,
          0,
          0,
          0,
          0,
          0,
          0,
          0,
          0,
          0,
          0,
          0,
          0,
          0,
          0,
          0,
          0,
          0,
          0,
          0,
          0,
          0,
          0,
          0,
          0,
          0,
          0,
          0,
          0,
          0,
          0,
          0,
          0,
          0,
          0,
          0,
          0,
          0,
          0,
          0,
          0,
          0,
          0,
          0,
          0,
          0,
          0,
          0,
          0,
          0,
          0,
          0,
          0,
          0,
          0,
          0,
          0,
          0,
          0,
          0,
          0,
          0,
          0,
          0,
          0,
          0,
          0,
          0,
          0,
          0,
          0,
          0,
          0,
          0,
          0,
          0,
          0,
          0,
          0,
          0,
          0,
          0,
          0,
          0,
          0,
          0,
          0,
          0,
          0,
          0
         ],
         "yaxis": "y"
        },
        {
         "fill": "tozeroy",
         "hovertemplate": "x: %{x:.3f} %{meta[0]}<br>f(x): %{y:.3f} %{meta[1]}",
         "line": {
          "color": "aqua",
          "width": 1
         },
         "meta": [
          "ft",
          "lbf"
         ],
         "mode": "lines",
         "name": "Shear Force",
         "type": "scatter",
         "x": [
          0,
          0.00628140703517588,
          0.01256281407035176,
          0.01884422110552764,
          0.02512562814070352,
          0.0314070351758794,
          0.03768844221105528,
          0.04396984924623116,
          0.05025125628140704,
          0.056532663316582916,
          0.0628140703517588,
          0.06909547738693468,
          0.07537688442211056,
          0.08165829145728644,
          0.08793969849246232,
          0.0942211055276382,
          0.10050251256281408,
          0.10678391959798995,
          0.11306532663316583,
          0.11934673366834171,
          0.1249999,
          0.1250001,
          0.1256281407035176,
          0.13190954773869348,
          0.13819095477386936,
          0.14447236180904524,
          0.15075376884422112,
          0.157035175879397,
          0.16331658291457288,
          0.16959798994974876,
          0.17587939698492464,
          0.18216080402010051,
          0.1884422110552764,
          0.19472361809045227,
          0.20100502512562815,
          0.20728643216080403,
          0.2135678391959799,
          0.2198492462311558,
          0.22613065326633167,
          0.23241206030150754,
          0.23869346733668342,
          0.2449748743718593,
          0.2512562814070352,
          0.2575376884422111,
          0.26381909547738697,
          0.27010050251256285,
          0.2763819095477387,
          0.2826633165829146,
          0.2889447236180905,
          0.29522613065326636,
          0.2999999,
          0.3000001,
          0.30150753768844224,
          0.3077889447236181,
          0.314070351758794,
          0.3203517587939699,
          0.32663316582914576,
          0.33291457286432163,
          0.3391959798994975,
          0.3454773869346734,
          0.35175879396984927,
          0.35804020100502515,
          0.36432160804020103,
          0.3706030150753769,
          0.3768844221105528,
          0.38316582914572866,
          0.38944723618090454,
          0.3957286432160804,
          0.4020100502512563,
          0.4082914572864322,
          0.41457286432160806,
          0.42085427135678394,
          0.4271356783919598,
          0.4334170854271357,
          0.4396984924623116,
          0.44597989949748745,
          0.45226130653266333,
          0.4585427135678392,
          0.4648241206030151,
          0.47110552763819097,
          0.47738693467336685,
          0.4836683417085427,
          0.4899497487437186,
          0.4962311557788945,
          0.5025125628140704,
          0.5087939698492463,
          0.5150753768844222,
          0.521356783919598,
          0.5276381909547739,
          0.5339195979899498,
          0.5402010050251257,
          0.5464824120603016,
          0.5527638190954774,
          0.5590452261306533,
          0.5653266331658292,
          0.5716080402010051,
          0.577889447236181,
          0.5841708542713568,
          0.5904522613065327,
          0.5967336683417086,
          0.6030150753768845,
          0.6092964824120604,
          0.6155778894472362,
          0.6218592964824121,
          0.628140703517588,
          0.6344221105527639,
          0.6407035175879398,
          0.6469849246231156,
          0.6532663316582915,
          0.6595477386934674,
          0.6658291457286433,
          0.6721105527638191,
          0.678391959798995,
          0.6846733668341709,
          0.6909547738693468,
          0.6972361809045227,
          0.7035175879396985,
          0.7097989949748744,
          0.7160804020100503,
          0.7223618090452262,
          0.7286432160804021,
          0.7349246231155779,
          0.7412060301507538,
          0.7474874371859297,
          0.7537688442211056,
          0.7600502512562815,
          0.7663316582914573,
          0.7726130653266332,
          0.7788944723618091,
          0.785175879396985,
          0.7914572864321608,
          0.7977386934673367,
          0.8040201005025126,
          0.8103015075376885,
          0.8165829145728644,
          0.8228643216080402,
          0.8291457286432161,
          0.835427135678392,
          0.8417085427135679,
          0.8479899497487438,
          0.8542713567839196,
          0.8605527638190955,
          0.8668341708542714,
          0.8731155778894473,
          0.8793969849246231,
          0.885678391959799,
          0.8919597989949749,
          0.8982412060301508,
          0.9045226130653267,
          0.9108040201005025,
          0.9170854271356784,
          0.9233668341708543,
          0.9296482412060302,
          0.9359296482412061,
          0.9422110552763819,
          0.9484924623115578,
          0.9499999,
          0.9500000999999999,
          0.9547738693467337,
          0.9610552763819096,
          0.9673366834170855,
          0.9736180904522613,
          0.9798994974874372,
          0.9861809045226131,
          0.992462311557789,
          0.9987437185929648,
          1.0050251256281408,
          1.0113065326633166,
          1.0175879396984926,
          1.0238693467336684,
          1.0301507537688444,
          1.0364321608040201,
          1.042713567839196,
          1.0489949748743719,
          1.0552763819095479,
          1.0615577889447236,
          1.0678391959798996,
          1.0741206030150754,
          1.0804020100502514,
          1.0866834170854272,
          1.0929648241206031,
          1.099246231155779,
          1.105527638190955,
          1.1118090452261307,
          1.1180904522613067,
          1.1243718592964824,
          1.1249999,
          1.1250001,
          1.1306532663316584,
          1.1369346733668342,
          1.1432160804020102,
          1.149497487437186,
          1.155778894472362,
          1.1620603015075377,
          1.1683417085427137,
          1.1746231155778895,
          1.1809045226130654,
          1.1871859296482412,
          1.1934673366834172,
          1.199748743718593,
          1.206030150753769,
          1.2123115577889447,
          1.2185929648241207,
          1.2248743718592965,
          1.2311557788944725,
          1.2374371859296482,
          1.2437185929648242,
          1.25
         ],
         "xaxis": "x2",
         "y": [
          0,
          0,
          0,
          0,
          0,
          0,
          0,
          0,
          0,
          0,
          0,
          0,
          0,
          0,
          0,
          0,
          0,
          0,
          0,
          0,
          0,
          -4364,
          -4364,
          -4364,
          -4364,
          -4364,
          -4364,
          -4364,
          -4364,
          -4364,
          -4364,
          -4364,
          -4364,
          -4364,
          -4364,
          -4364,
          -4364,
          -4364,
          -4364,
          -4364,
          -4364,
          -4364,
          -4364,
          -4364,
          -4364,
          -4364,
          -4364,
          -4364,
          -4364,
          -4364,
          -4364,
          0,
          0,
          0,
          0,
          0,
          0,
          0,
          0,
          0,
          0,
          0,
          0,
          0,
          0,
          0,
          0,
          0,
          0,
          0,
          0,
          0,
          0,
          0,
          0,
          0,
          0,
          0,
          0,
          0,
          0,
          0,
          0,
          0,
          0,
          0,
          0,
          0,
          0,
          0,
          0,
          0,
          0,
          0,
          0,
          0,
          0,
          0,
          0,
          0,
          0,
          0,
          0,
          0,
          0,
          0,
          0,
          0,
          0,
          0,
          0,
          0,
          0,
          0,
          0,
          0,
          0,
          0,
          0,
          0,
          0,
          0,
          0,
          0,
          0,
          0,
          0,
          0,
          0,
          0,
          0,
          0,
          0,
          0,
          0,
          0,
          0,
          0,
          0,
          0,
          0,
          0,
          0,
          0,
          0,
          0,
          0,
          0,
          0,
          0,
          0,
          0,
          0,
          0,
          0,
          0,
          0,
          4364,
          4364,
          4364,
          4364,
          4364,
          4364,
          4364,
          4364,
          4364,
          4364,
          4364,
          4364,
          4364,
          4364,
          4364,
          4364,
          4364,
          4364,
          4364,
          4364,
          4364,
          4364,
          4364,
          4364,
          4364,
          4364,
          4364,
          4364,
          4364,
          4364,
          0,
          0,
          0,
          0,
          0,
          0,
          0,
          0,
          0,
          0,
          0,
          0,
          0,
          0,
          0,
          0,
          0,
          0,
          0,
          0,
          0
         ],
         "yaxis": "y2"
        },
        {
         "fill": "tozeroy",
         "hovertemplate": "x: %{x:.3f} %{meta[0]}<br>f(x): %{y:.3f} %{meta[1]}",
         "line": {
          "color": "lightgreen",
          "width": 1
         },
         "meta": [
          "ft",
          "lbf.ft"
         ],
         "mode": "lines",
         "name": "Bending Moment",
         "type": "scatter",
         "x": [
          0,
          0.00628140703517588,
          0.01256281407035176,
          0.01884422110552764,
          0.02512562814070352,
          0.0314070351758794,
          0.03768844221105528,
          0.04396984924623116,
          0.05025125628140704,
          0.056532663316582916,
          0.0628140703517588,
          0.06909547738693468,
          0.07537688442211056,
          0.08165829145728644,
          0.08793969849246232,
          0.0942211055276382,
          0.10050251256281408,
          0.10678391959798995,
          0.11306532663316583,
          0.11934673366834171,
          0.1249999,
          0.1250001,
          0.1256281407035176,
          0.13190954773869348,
          0.13819095477386936,
          0.14447236180904524,
          0.15075376884422112,
          0.157035175879397,
          0.16331658291457288,
          0.16959798994974876,
          0.17587939698492464,
          0.18216080402010051,
          0.1884422110552764,
          0.19472361809045227,
          0.20100502512562815,
          0.20728643216080403,
          0.2135678391959799,
          0.2198492462311558,
          0.22613065326633167,
          0.23241206030150754,
          0.23869346733668342,
          0.2449748743718593,
          0.2512562814070352,
          0.2575376884422111,
          0.26381909547738697,
          0.27010050251256285,
          0.2763819095477387,
          0.2826633165829146,
          0.2889447236180905,
          0.29522613065326636,
          0.2999999,
          0.3000001,
          0.30150753768844224,
          0.3077889447236181,
          0.314070351758794,
          0.3203517587939699,
          0.32663316582914576,
          0.33291457286432163,
          0.3391959798994975,
          0.3454773869346734,
          0.35175879396984927,
          0.35804020100502515,
          0.36432160804020103,
          0.3706030150753769,
          0.3768844221105528,
          0.38316582914572866,
          0.38944723618090454,
          0.3957286432160804,
          0.4020100502512563,
          0.4082914572864322,
          0.41457286432160806,
          0.42085427135678394,
          0.4271356783919598,
          0.4334170854271357,
          0.4396984924623116,
          0.44597989949748745,
          0.45226130653266333,
          0.4585427135678392,
          0.4648241206030151,
          0.47110552763819097,
          0.47738693467336685,
          0.4836683417085427,
          0.4899497487437186,
          0.4962311557788945,
          0.5025125628140704,
          0.5087939698492463,
          0.5150753768844222,
          0.521356783919598,
          0.5276381909547739,
          0.5339195979899498,
          0.5402010050251257,
          0.5464824120603016,
          0.5527638190954774,
          0.5590452261306533,
          0.5653266331658292,
          0.5716080402010051,
          0.577889447236181,
          0.5841708542713568,
          0.5904522613065327,
          0.5967336683417086,
          0.6030150753768845,
          0.6092964824120604,
          0.6155778894472362,
          0.6218592964824121,
          0.628140703517588,
          0.6344221105527639,
          0.6407035175879398,
          0.6469849246231156,
          0.6532663316582915,
          0.6595477386934674,
          0.6658291457286433,
          0.6721105527638191,
          0.678391959798995,
          0.6846733668341709,
          0.6909547738693468,
          0.6972361809045227,
          0.7035175879396985,
          0.7097989949748744,
          0.7160804020100503,
          0.7223618090452262,
          0.7286432160804021,
          0.7349246231155779,
          0.7412060301507538,
          0.7474874371859297,
          0.7537688442211056,
          0.7600502512562815,
          0.7663316582914573,
          0.7726130653266332,
          0.7788944723618091,
          0.785175879396985,
          0.7914572864321608,
          0.7977386934673367,
          0.8040201005025126,
          0.8103015075376885,
          0.8165829145728644,
          0.8228643216080402,
          0.8291457286432161,
          0.835427135678392,
          0.8417085427135679,
          0.8479899497487438,
          0.8542713567839196,
          0.8605527638190955,
          0.8668341708542714,
          0.8731155778894473,
          0.8793969849246231,
          0.885678391959799,
          0.8919597989949749,
          0.8982412060301508,
          0.9045226130653267,
          0.9108040201005025,
          0.9170854271356784,
          0.9233668341708543,
          0.9296482412060302,
          0.9359296482412061,
          0.9422110552763819,
          0.9484924623115578,
          0.9499999,
          0.9500000999999999,
          0.9547738693467337,
          0.9610552763819096,
          0.9673366834170855,
          0.9736180904522613,
          0.9798994974874372,
          0.9861809045226131,
          0.992462311557789,
          0.9987437185929648,
          1.0050251256281408,
          1.0113065326633166,
          1.0175879396984926,
          1.0238693467336684,
          1.0301507537688444,
          1.0364321608040201,
          1.042713567839196,
          1.0489949748743719,
          1.0552763819095479,
          1.0615577889447236,
          1.0678391959798996,
          1.0741206030150754,
          1.0804020100502514,
          1.0866834170854272,
          1.0929648241206031,
          1.099246231155779,
          1.105527638190955,
          1.1118090452261307,
          1.1180904522613067,
          1.1243718592964824,
          1.1249999,
          1.1250001,
          1.1306532663316584,
          1.1369346733668342,
          1.1432160804020102,
          1.149497487437186,
          1.155778894472362,
          1.1620603015075377,
          1.1683417085427137,
          1.1746231155778895,
          1.1809045226130654,
          1.1871859296482412,
          1.1934673366834172,
          1.199748743718593,
          1.206030150753769,
          1.2123115577889447,
          1.2185929648241207,
          1.2248743718592965,
          1.2311557788944725,
          1.2374371859296482,
          1.2437185929648242,
          1.25
         ],
         "xaxis": "x3",
         "y": [
          0,
          0,
          0,
          0,
          0,
          0,
          0,
          0,
          0,
          0,
          0,
          0,
          0,
          0,
          0,
          0,
          0,
          0,
          0,
          0,
          0,
          -0.00043640000001254897,
          -2.7412060301508263,
          -30.15326633165836,
          -57.565326633165895,
          -84.97738693467343,
          -112.38944723618097,
          -139.8015075376885,
          -167.21356783919603,
          -194.62562814070358,
          -222.0376884422111,
          -249.44974874371863,
          -276.86180904522615,
          -304.2738693467337,
          -331.68592964824126,
          -359.0979899497488,
          -386.5100502512563,
          -413.92211055276385,
          -441.3341708542714,
          -468.7462311557789,
          -496.15829145728645,
          -523.570351758794,
          -550.9824120603016,
          -578.3944723618092,
          -605.8065326633167,
          -633.2185929648242,
          -660.6306532663318,
          -688.0427135678393,
          -715.4547738693468,
          -742.8668341708544,
          -763.6995635999999,
          -763.6999999999999,
          -763.6999999999999,
          -763.7,
          -763.6999999999999,
          -763.6999999999999,
          -763.7,
          -763.6999999999999,
          -763.6999999999999,
          -763.7,
          -763.6999999999999,
          -763.6999999999999,
          -763.6999999999998,
          -763.6999999999999,
          -763.7,
          -763.6999999999998,
          -763.6999999999999,
          -763.7,
          -763.6999999999998,
          -763.6999999999999,
          -763.7,
          -763.6999999999998,
          -763.6999999999999,
          -763.7,
          -763.7,
          -763.6999999999999,
          -763.6999999999999,
          -763.7,
          -763.6999999999999,
          -763.6999999999999,
          -763.7,
          -763.6999999999999,
          -763.6999999999999,
          -763.7,
          -763.6999999999998,
          -763.6999999999999,
          -763.7,
          -763.6999999999998,
          -763.6999999999999,
          -763.7,
          -763.6999999999998,
          -763.6999999999998,
          -763.7,
          -763.6999999999998,
          -763.6999999999998,
          -763.7,
          -763.6999999999998,
          -763.6999999999998,
          -763.7,
          -763.7,
          -763.7,
          -763.6999999999998,
          -763.6999999999998,
          -763.6999999999998,
          -763.7,
          -763.7,
          -763.7,
          -763.6999999999998,
          -763.6999999999998,
          -763.6999999999998,
          -763.7,
          -763.7,
          -763.7,
          -763.7000000000003,
          -763.6999999999998,
          -763.6999999999998,
          -763.7,
          -763.7,
          -763.7,
          -763.7000000000003,
          -763.6999999999998,
          -763.6999999999998,
          -763.6999999999998,
          -763.7,
          -763.7,
          -763.7,
          -763.6999999999998,
          -763.6999999999998,
          -763.6999999999998,
          -763.6999999999998,
          -763.7000000000003,
          -763.7000000000003,
          -763.6999999999994,
          -763.7000000000003,
          -763.6999999999998,
          -763.7000000000003,
          -763.6999999999998,
          -763.7000000000003,
          -763.6999999999994,
          -763.7000000000003,
          -763.6999999999998,
          -763.7000000000003,
          -763.6999999999998,
          -763.7000000000003,
          -763.6999999999998,
          -763.6999999999998,
          -763.6999999999998,
          -763.7000000000003,
          -763.6999999999998,
          -763.7000000000003,
          -763.6999999999998,
          -763.6999999999998,
          -763.6999999999998,
          -763.7000000000003,
          -763.6999999999998,
          -763.7000000000003,
          -763.6999999999998,
          -763.6995635999997,
          -742.866834170854,
          -715.4547738693464,
          -688.0427135678387,
          -660.6306532663316,
          -633.2185929648235,
          -605.8065326633164,
          -578.3944723618088,
          -550.9824120603012,
          -523.5703517587931,
          -496.1582914572864,
          -468.74623115577833,
          -441.3341708542712,
          -413.9221105527631,
          -386.51005025125596,
          -359.0979899497479,
          -331.6859296482412,
          -304.27386934673314,
          -276.861809045226,
          -249.44974874371746,
          -222.03768844221077,
          -194.6256281407027,
          -167.213567839196,
          -139.80150753768794,
          -112.38944723618079,
          -84.97738693467272,
          -57.56532663316557,
          -30.153266331657505,
          -2.741206030151261,
          -0.0004363999996712664,
          -9.094947017729282e-13,
          -9.094947017729282e-13,
          0,
          9.094947017729282e-13,
          9.094947017729282e-13,
          0,
          0,
          0,
          0,
          0,
          0,
          0,
          -9.094947017729282e-13,
          -9.094947017729282e-13,
          9.094947017729282e-13,
          0,
          0,
          9.094947017729282e-13,
          0,
          0,
          0
         ],
         "yaxis": "y3"
        },
        {
         "fill": "tozeroy",
         "hovertemplate": "x: %{x:.3f} %{meta[0]}<br>f(x): %{y:.3f} %{meta[1]}",
         "line": {
          "color": "blue",
          "width": 1
         },
         "meta": [
          "ft",
          "in"
         ],
         "mode": "lines",
         "name": "Deflection",
         "type": "scatter",
         "x": [
          0,
          0.00628140703517588,
          0.01256281407035176,
          0.01884422110552764,
          0.02512562814070352,
          0.0314070351758794,
          0.03768844221105528,
          0.04396984924623116,
          0.05025125628140704,
          0.056532663316582916,
          0.0628140703517588,
          0.06909547738693468,
          0.07537688442211056,
          0.08165829145728644,
          0.08793969849246232,
          0.0942211055276382,
          0.10050251256281408,
          0.10678391959798995,
          0.11306532663316583,
          0.11934673366834171,
          0.1249999,
          0.1250001,
          0.1256281407035176,
          0.13190954773869348,
          0.13819095477386936,
          0.14447236180904524,
          0.15075376884422112,
          0.157035175879397,
          0.16331658291457288,
          0.16959798994974876,
          0.17587939698492464,
          0.18216080402010051,
          0.1884422110552764,
          0.19472361809045227,
          0.20100502512562815,
          0.20728643216080403,
          0.2135678391959799,
          0.2198492462311558,
          0.22613065326633167,
          0.23241206030150754,
          0.23869346733668342,
          0.2449748743718593,
          0.2512562814070352,
          0.2575376884422111,
          0.26381909547738697,
          0.27010050251256285,
          0.2763819095477387,
          0.2826633165829146,
          0.2889447236180905,
          0.29522613065326636,
          0.2999999,
          0.3000001,
          0.30150753768844224,
          0.3077889447236181,
          0.314070351758794,
          0.3203517587939699,
          0.32663316582914576,
          0.33291457286432163,
          0.3391959798994975,
          0.3454773869346734,
          0.35175879396984927,
          0.35804020100502515,
          0.36432160804020103,
          0.3706030150753769,
          0.3768844221105528,
          0.38316582914572866,
          0.38944723618090454,
          0.3957286432160804,
          0.4020100502512563,
          0.4082914572864322,
          0.41457286432160806,
          0.42085427135678394,
          0.4271356783919598,
          0.4334170854271357,
          0.4396984924623116,
          0.44597989949748745,
          0.45226130653266333,
          0.4585427135678392,
          0.4648241206030151,
          0.47110552763819097,
          0.47738693467336685,
          0.4836683417085427,
          0.4899497487437186,
          0.4962311557788945,
          0.5025125628140704,
          0.5087939698492463,
          0.5150753768844222,
          0.521356783919598,
          0.5276381909547739,
          0.5339195979899498,
          0.5402010050251257,
          0.5464824120603016,
          0.5527638190954774,
          0.5590452261306533,
          0.5653266331658292,
          0.5716080402010051,
          0.577889447236181,
          0.5841708542713568,
          0.5904522613065327,
          0.5967336683417086,
          0.6030150753768845,
          0.6092964824120604,
          0.6155778894472362,
          0.6218592964824121,
          0.628140703517588,
          0.6344221105527639,
          0.6407035175879398,
          0.6469849246231156,
          0.6532663316582915,
          0.6595477386934674,
          0.6658291457286433,
          0.6721105527638191,
          0.678391959798995,
          0.6846733668341709,
          0.6909547738693468,
          0.6972361809045227,
          0.7035175879396985,
          0.7097989949748744,
          0.7160804020100503,
          0.7223618090452262,
          0.7286432160804021,
          0.7349246231155779,
          0.7412060301507538,
          0.7474874371859297,
          0.7537688442211056,
          0.7600502512562815,
          0.7663316582914573,
          0.7726130653266332,
          0.7788944723618091,
          0.785175879396985,
          0.7914572864321608,
          0.7977386934673367,
          0.8040201005025126,
          0.8103015075376885,
          0.8165829145728644,
          0.8228643216080402,
          0.8291457286432161,
          0.835427135678392,
          0.8417085427135679,
          0.8479899497487438,
          0.8542713567839196,
          0.8605527638190955,
          0.8668341708542714,
          0.8731155778894473,
          0.8793969849246231,
          0.885678391959799,
          0.8919597989949749,
          0.8982412060301508,
          0.9045226130653267,
          0.9108040201005025,
          0.9170854271356784,
          0.9233668341708543,
          0.9296482412060302,
          0.9359296482412061,
          0.9422110552763819,
          0.9484924623115578,
          0.9499999,
          0.9500000999999999,
          0.9547738693467337,
          0.9610552763819096,
          0.9673366834170855,
          0.9736180904522613,
          0.9798994974874372,
          0.9861809045226131,
          0.992462311557789,
          0.9987437185929648,
          1.0050251256281408,
          1.0113065326633166,
          1.0175879396984926,
          1.0238693467336684,
          1.0301507537688444,
          1.0364321608040201,
          1.042713567839196,
          1.0489949748743719,
          1.0552763819095479,
          1.0615577889447236,
          1.0678391959798996,
          1.0741206030150754,
          1.0804020100502514,
          1.0866834170854272,
          1.0929648241206031,
          1.099246231155779,
          1.105527638190955,
          1.1118090452261307,
          1.1180904522613067,
          1.1243718592964824,
          1.1249999,
          1.1250001,
          1.1306532663316584,
          1.1369346733668342,
          1.1432160804020102,
          1.149497487437186,
          1.155778894472362,
          1.1620603015075377,
          1.1683417085427137,
          1.1746231155778895,
          1.1809045226130654,
          1.1871859296482412,
          1.1934673366834172,
          1.199748743718593,
          1.206030150753769,
          1.2123115577889447,
          1.2185929648241207,
          1.2248743718592965,
          1.2311557788944725,
          1.2374371859296482,
          1.2437185929648242,
          1.25
         ],
         "xaxis": "x4",
         "y": [
          -0.0000375942928176796,
          -0.00003570513237458012,
          -0.000033815971931480645,
          -0.00003192681148838116,
          -0.000030037651045281688,
          -0.000028148490602182206,
          -0.00002625933015908273,
          -0.00002437016971598325,
          -0.000022481009272883775,
          -0.000020591848829784293,
          -0.000018702688386684815,
          -0.000016813527943585336,
          -0.000014924367500485858,
          -0.00001303520705738638,
          -0.000011146046614286901,
          -0.000009256886171187423,
          -0.000007367725728087945,
          -0.0000054785652849884665,
          -0.0000035894048418889848,
          -0.0000017002443987895098,
          -3.007543423561108e-11,
          3.007543427626866e-11,
          1.889158722144933e-7,
          0.000002077847428325233,
          0.000003965643154266274,
          0.000005851270477156089,
          0.00000773369682411313,
          0.000009611889622255873,
          0.00001148481629870276,
          0.000013351444280572267,
          0.000015210740994982846,
          0.00001706167386905297,
          0.000018903210329901084,
          0.000020734317804645673,
          0.000022553963720405167,
          0.000024361115504298054,
          0.00002615474058344279,
          0.000027933806384957823,
          0.000029697280335961635,
          0.000031444129863572674,
          0.000033173322394909396,
          0.000034883825357090274,
          0.00003657460617723378,
          0.000038244632282458346,
          0.00003989287109988247,
          0.00004151829005662457,
          0.00004311985657980313,
          0.00004469653809653663,
          0.0000462473020339435,
          0.00004777111581914223,
          0.00004891053100033237,
          0.000048910578391925735,
          0.00004926694925829916,
          0.00005073409076276199,
          0.000052172464786745144,
          0.00005358207133024865,
          0.00005496291039327247,
          0.00005631498197581662,
          0.00005763828607788116,
          0.00005893282269946598,
          0.00006019859184057116,
          0.00006143559350119667,
          0.00006264382768134253,
          0.00006382329438100872,
          0.00006497399360019523,
          0.0000660959253389021,
          0.00006718908959712931,
          0.00006825348637487685,
          0.00006928911567214472,
          0.00007029597748893291,
          0.00007127407182524148,
          0.00007222339868107035,
          0.0000731439580564196,
          0.00007403574995128914,
          0.00007489877436567903,
          0.00007573303129958926,
          0.00007653852075301984,
          0.00007731524272597075,
          0.00007806319721844202,
          0.00007878238423043357,
          0.0000794728037619455,
          0.00008013445581297775,
          0.00008076734038353033,
          0.00008137145747360326,
          0.00008194680708319653,
          0.00008249338921231014,
          0.00008301120386094406,
          0.00008350025102909834,
          0.00008396053071677298,
          0.00008439204292396792,
          0.0000847947876506832,
          0.00008516876489691884,
          0.00008551397466267475,
          0.00008583041694795107,
          0.00008611809175274771,
          0.00008637699907706468,
          0.000086607138920902,
          0.00008680851128425964,
          0.00008698111616713761,
          0.00008712495356953596,
          0.0000872400234914546,
          0.00008732632593289357,
          0.0000873838608938529,
          0.0000874126283743326,
          0.0000874126283743326,
          0.00008738386089385292,
          0.00008732632593289357,
          0.0000872400234914546,
          0.00008712495356953596,
          0.00008698111616713764,
          0.00008680851128425964,
          0.00008660713892090202,
          0.00008637699907706473,
          0.00008611809175274779,
          0.00008583041694795115,
          0.00008551397466267483,
          0.00008516876489691887,
          0.00008479478765068328,
          0.000084392042923968,
          0.00008396053071677306,
          0.00008350025102909845,
          0.00008301120386094417,
          0.00008249338921231026,
          0.00008194680708319668,
          0.00008137145747360337,
          0.00008076734038353047,
          0.00008013445581297786,
          0.0000794728037619456,
          0.0000787823842304337,
          0.00007806319721844213,
          0.00007731524272597087,
          0.00007653852075302003,
          0.00007573303129958948,
          0.0000748987743656792,
          0.00007403574995128933,
          0.00007314395805641976,
          0.00007222339868107062,
          0.00007127407182524165,
          0.00007029597748893313,
          0.00006928911567214488,
          0.00006825348637487707,
          0.00006718908959712948,
          0.00006609592533890242,
          0.00006497399360019548,
          0.00006382329438100896,
          0.00006264382768134272,
          0.00006143559350119697,
          0.000060198591840571325,
          0.00005893282269946633,
          0.000057638286077881334,
          0.000056314981975816934,
          0.00005496291039327275,
          0.000053582071330249,
          0.000052172464786745415,
          0.000050734090762762316,
          0.00004926694925829943,
          0.0000489105783919261,
          0.00004891053100033279,
          0.00004777111581914254,
          0.00004624730203394373,
          0.000044696538096536954,
          0.000043119856579803404,
          0.000041518290056624936,
          0.000039892871099882646,
          0.000038244632282458766,
          0.00003657460617723412,
          0.00003488382535709056,
          0.00003317332239490967,
          0.000031444129863573026,
          0.00002969728033596184,
          0.000027933806384958067,
          0.000026154740583443184,
          0.00002436111550429834,
          0.000022553963720405547,
          0.000020734317804645957,
          0.000018903210329901585,
          0.000017061673869053147,
          0.000015210740994983307,
          0.000013351444280572673,
          0.000011484816298703044,
          0.000009611889622256219,
          0.000007733696824113455,
          0.000005851270477156442,
          0.000003965643154266654,
          0.0000020778474283256735,
          1.8891587221486598e-7,
          3.0075434723502055e-11,
          -3.007543382903526e-11,
          -0.0000017002443987892117,
          -0.0000035894048418887,
          -0.000005478565284987972,
          -0.00000736772572808746,
          -0.00000925688617118684,
          -0.000011146046614286546,
          -0.000013035207057386034,
          -0.000014924367500485306,
          -0.00001681352794358501,
          -0.00001870268838668439,
          -0.00002059184882978388,
          -0.000022481009272883368,
          -0.000024370169715982857,
          -0.000026259330159082345,
          -0.000028148490602181725,
          -0.000030037651045281214,
          -0.0000319268114883807,
          -0.00003381597193148008,
          -0.00003570513237457968,
          -0.00003759429281767917
         ],
         "yaxis": "y4"
        }
       ],
       "layout": {
        "annotations": [
         {
          "font": {
           "size": 16
          },
          "showarrow": false,
          "text": "Normal Force Diagram",
          "x": 0.5,
          "xanchor": "center",
          "xref": "paper",
          "y": 1,
          "yanchor": "bottom",
          "yref": "paper"
         },
         {
          "font": {
           "size": 16
          },
          "showarrow": false,
          "text": "Shear Force Diagram",
          "x": 0.5,
          "xanchor": "center",
          "xref": "paper",
          "y": 0.7375,
          "yanchor": "bottom",
          "yref": "paper"
         },
         {
          "font": {
           "size": 16
          },
          "showarrow": false,
          "text": "Bending Moment Diagram",
          "x": 0.5,
          "xanchor": "center",
          "xref": "paper",
          "y": 0.475,
          "yanchor": "bottom",
          "yref": "paper"
         },
         {
          "font": {
           "size": 16
          },
          "showarrow": false,
          "text": "Deflection Diagram",
          "x": 0.5,
          "xanchor": "center",
          "xref": "paper",
          "y": 0.2125,
          "yanchor": "bottom",
          "yref": "paper"
         }
        ],
        "height": 1000,
        "showlegend": false,
        "template": {
         "data": {
          "bar": [
           {
            "error_x": {
             "color": "#2a3f5f"
            },
            "error_y": {
             "color": "#2a3f5f"
            },
            "marker": {
             "line": {
              "color": "#E5ECF6",
              "width": 0.5
             },
             "pattern": {
              "fillmode": "overlay",
              "size": 10,
              "solidity": 0.2
             }
            },
            "type": "bar"
           }
          ],
          "barpolar": [
           {
            "marker": {
             "line": {
              "color": "#E5ECF6",
              "width": 0.5
             },
             "pattern": {
              "fillmode": "overlay",
              "size": 10,
              "solidity": 0.2
             }
            },
            "type": "barpolar"
           }
          ],
          "carpet": [
           {
            "aaxis": {
             "endlinecolor": "#2a3f5f",
             "gridcolor": "white",
             "linecolor": "white",
             "minorgridcolor": "white",
             "startlinecolor": "#2a3f5f"
            },
            "baxis": {
             "endlinecolor": "#2a3f5f",
             "gridcolor": "white",
             "linecolor": "white",
             "minorgridcolor": "white",
             "startlinecolor": "#2a3f5f"
            },
            "type": "carpet"
           }
          ],
          "choropleth": [
           {
            "colorbar": {
             "outlinewidth": 0,
             "ticks": ""
            },
            "type": "choropleth"
           }
          ],
          "contour": [
           {
            "colorbar": {
             "outlinewidth": 0,
             "ticks": ""
            },
            "colorscale": [
             [
              0,
              "#0d0887"
             ],
             [
              0.1111111111111111,
              "#46039f"
             ],
             [
              0.2222222222222222,
              "#7201a8"
             ],
             [
              0.3333333333333333,
              "#9c179e"
             ],
             [
              0.4444444444444444,
              "#bd3786"
             ],
             [
              0.5555555555555556,
              "#d8576b"
             ],
             [
              0.6666666666666666,
              "#ed7953"
             ],
             [
              0.7777777777777778,
              "#fb9f3a"
             ],
             [
              0.8888888888888888,
              "#fdca26"
             ],
             [
              1,
              "#f0f921"
             ]
            ],
            "type": "contour"
           }
          ],
          "contourcarpet": [
           {
            "colorbar": {
             "outlinewidth": 0,
             "ticks": ""
            },
            "type": "contourcarpet"
           }
          ],
          "heatmap": [
           {
            "colorbar": {
             "outlinewidth": 0,
             "ticks": ""
            },
            "colorscale": [
             [
              0,
              "#0d0887"
             ],
             [
              0.1111111111111111,
              "#46039f"
             ],
             [
              0.2222222222222222,
              "#7201a8"
             ],
             [
              0.3333333333333333,
              "#9c179e"
             ],
             [
              0.4444444444444444,
              "#bd3786"
             ],
             [
              0.5555555555555556,
              "#d8576b"
             ],
             [
              0.6666666666666666,
              "#ed7953"
             ],
             [
              0.7777777777777778,
              "#fb9f3a"
             ],
             [
              0.8888888888888888,
              "#fdca26"
             ],
             [
              1,
              "#f0f921"
             ]
            ],
            "type": "heatmap"
           }
          ],
          "heatmapgl": [
           {
            "colorbar": {
             "outlinewidth": 0,
             "ticks": ""
            },
            "colorscale": [
             [
              0,
              "#0d0887"
             ],
             [
              0.1111111111111111,
              "#46039f"
             ],
             [
              0.2222222222222222,
              "#7201a8"
             ],
             [
              0.3333333333333333,
              "#9c179e"
             ],
             [
              0.4444444444444444,
              "#bd3786"
             ],
             [
              0.5555555555555556,
              "#d8576b"
             ],
             [
              0.6666666666666666,
              "#ed7953"
             ],
             [
              0.7777777777777778,
              "#fb9f3a"
             ],
             [
              0.8888888888888888,
              "#fdca26"
             ],
             [
              1,
              "#f0f921"
             ]
            ],
            "type": "heatmapgl"
           }
          ],
          "histogram": [
           {
            "marker": {
             "pattern": {
              "fillmode": "overlay",
              "size": 10,
              "solidity": 0.2
             }
            },
            "type": "histogram"
           }
          ],
          "histogram2d": [
           {
            "colorbar": {
             "outlinewidth": 0,
             "ticks": ""
            },
            "colorscale": [
             [
              0,
              "#0d0887"
             ],
             [
              0.1111111111111111,
              "#46039f"
             ],
             [
              0.2222222222222222,
              "#7201a8"
             ],
             [
              0.3333333333333333,
              "#9c179e"
             ],
             [
              0.4444444444444444,
              "#bd3786"
             ],
             [
              0.5555555555555556,
              "#d8576b"
             ],
             [
              0.6666666666666666,
              "#ed7953"
             ],
             [
              0.7777777777777778,
              "#fb9f3a"
             ],
             [
              0.8888888888888888,
              "#fdca26"
             ],
             [
              1,
              "#f0f921"
             ]
            ],
            "type": "histogram2d"
           }
          ],
          "histogram2dcontour": [
           {
            "colorbar": {
             "outlinewidth": 0,
             "ticks": ""
            },
            "colorscale": [
             [
              0,
              "#0d0887"
             ],
             [
              0.1111111111111111,
              "#46039f"
             ],
             [
              0.2222222222222222,
              "#7201a8"
             ],
             [
              0.3333333333333333,
              "#9c179e"
             ],
             [
              0.4444444444444444,
              "#bd3786"
             ],
             [
              0.5555555555555556,
              "#d8576b"
             ],
             [
              0.6666666666666666,
              "#ed7953"
             ],
             [
              0.7777777777777778,
              "#fb9f3a"
             ],
             [
              0.8888888888888888,
              "#fdca26"
             ],
             [
              1,
              "#f0f921"
             ]
            ],
            "type": "histogram2dcontour"
           }
          ],
          "mesh3d": [
           {
            "colorbar": {
             "outlinewidth": 0,
             "ticks": ""
            },
            "type": "mesh3d"
           }
          ],
          "parcoords": [
           {
            "line": {
             "colorbar": {
              "outlinewidth": 0,
              "ticks": ""
             }
            },
            "type": "parcoords"
           }
          ],
          "pie": [
           {
            "automargin": true,
            "type": "pie"
           }
          ],
          "scatter": [
           {
            "fillpattern": {
             "fillmode": "overlay",
             "size": 10,
             "solidity": 0.2
            },
            "type": "scatter"
           }
          ],
          "scatter3d": [
           {
            "line": {
             "colorbar": {
              "outlinewidth": 0,
              "ticks": ""
             }
            },
            "marker": {
             "colorbar": {
              "outlinewidth": 0,
              "ticks": ""
             }
            },
            "type": "scatter3d"
           }
          ],
          "scattercarpet": [
           {
            "marker": {
             "colorbar": {
              "outlinewidth": 0,
              "ticks": ""
             }
            },
            "type": "scattercarpet"
           }
          ],
          "scattergeo": [
           {
            "marker": {
             "colorbar": {
              "outlinewidth": 0,
              "ticks": ""
             }
            },
            "type": "scattergeo"
           }
          ],
          "scattergl": [
           {
            "marker": {
             "colorbar": {
              "outlinewidth": 0,
              "ticks": ""
             }
            },
            "type": "scattergl"
           }
          ],
          "scattermapbox": [
           {
            "marker": {
             "colorbar": {
              "outlinewidth": 0,
              "ticks": ""
             }
            },
            "type": "scattermapbox"
           }
          ],
          "scatterpolar": [
           {
            "marker": {
             "colorbar": {
              "outlinewidth": 0,
              "ticks": ""
             }
            },
            "type": "scatterpolar"
           }
          ],
          "scatterpolargl": [
           {
            "marker": {
             "colorbar": {
              "outlinewidth": 0,
              "ticks": ""
             }
            },
            "type": "scatterpolargl"
           }
          ],
          "scatterternary": [
           {
            "marker": {
             "colorbar": {
              "outlinewidth": 0,
              "ticks": ""
             }
            },
            "type": "scatterternary"
           }
          ],
          "surface": [
           {
            "colorbar": {
             "outlinewidth": 0,
             "ticks": ""
            },
            "colorscale": [
             [
              0,
              "#0d0887"
             ],
             [
              0.1111111111111111,
              "#46039f"
             ],
             [
              0.2222222222222222,
              "#7201a8"
             ],
             [
              0.3333333333333333,
              "#9c179e"
             ],
             [
              0.4444444444444444,
              "#bd3786"
             ],
             [
              0.5555555555555556,
              "#d8576b"
             ],
             [
              0.6666666666666666,
              "#ed7953"
             ],
             [
              0.7777777777777778,
              "#fb9f3a"
             ],
             [
              0.8888888888888888,
              "#fdca26"
             ],
             [
              1,
              "#f0f921"
             ]
            ],
            "type": "surface"
           }
          ],
          "table": [
           {
            "cells": {
             "fill": {
              "color": "#EBF0F8"
             },
             "line": {
              "color": "white"
             }
            },
            "header": {
             "fill": {
              "color": "#C8D4E3"
             },
             "line": {
              "color": "white"
             }
            },
            "type": "table"
           }
          ]
         },
         "layout": {
          "annotationdefaults": {
           "arrowcolor": "#2a3f5f",
           "arrowhead": 0,
           "arrowwidth": 1
          },
          "autotypenumbers": "strict",
          "coloraxis": {
           "colorbar": {
            "outlinewidth": 0,
            "ticks": ""
           }
          },
          "colorscale": {
           "diverging": [
            [
             0,
             "#8e0152"
            ],
            [
             0.1,
             "#c51b7d"
            ],
            [
             0.2,
             "#de77ae"
            ],
            [
             0.3,
             "#f1b6da"
            ],
            [
             0.4,
             "#fde0ef"
            ],
            [
             0.5,
             "#f7f7f7"
            ],
            [
             0.6,
             "#e6f5d0"
            ],
            [
             0.7,
             "#b8e186"
            ],
            [
             0.8,
             "#7fbc41"
            ],
            [
             0.9,
             "#4d9221"
            ],
            [
             1,
             "#276419"
            ]
           ],
           "sequential": [
            [
             0,
             "#0d0887"
            ],
            [
             0.1111111111111111,
             "#46039f"
            ],
            [
             0.2222222222222222,
             "#7201a8"
            ],
            [
             0.3333333333333333,
             "#9c179e"
            ],
            [
             0.4444444444444444,
             "#bd3786"
            ],
            [
             0.5555555555555556,
             "#d8576b"
            ],
            [
             0.6666666666666666,
             "#ed7953"
            ],
            [
             0.7777777777777778,
             "#fb9f3a"
            ],
            [
             0.8888888888888888,
             "#fdca26"
            ],
            [
             1,
             "#f0f921"
            ]
           ],
           "sequentialminus": [
            [
             0,
             "#0d0887"
            ],
            [
             0.1111111111111111,
             "#46039f"
            ],
            [
             0.2222222222222222,
             "#7201a8"
            ],
            [
             0.3333333333333333,
             "#9c179e"
            ],
            [
             0.4444444444444444,
             "#bd3786"
            ],
            [
             0.5555555555555556,
             "#d8576b"
            ],
            [
             0.6666666666666666,
             "#ed7953"
            ],
            [
             0.7777777777777778,
             "#fb9f3a"
            ],
            [
             0.8888888888888888,
             "#fdca26"
            ],
            [
             1,
             "#f0f921"
            ]
           ]
          },
          "colorway": [
           "#636efa",
           "#EF553B",
           "#00cc96",
           "#ab63fa",
           "#FFA15A",
           "#19d3f3",
           "#FF6692",
           "#B6E880",
           "#FF97FF",
           "#FECB52"
          ],
          "font": {
           "color": "#2a3f5f"
          },
          "geo": {
           "bgcolor": "white",
           "lakecolor": "white",
           "landcolor": "#E5ECF6",
           "showlakes": true,
           "showland": true,
           "subunitcolor": "white"
          },
          "hoverlabel": {
           "align": "left"
          },
          "hovermode": "closest",
          "mapbox": {
           "style": "light"
          },
          "paper_bgcolor": "white",
          "plot_bgcolor": "#E5ECF6",
          "polar": {
           "angularaxis": {
            "gridcolor": "white",
            "linecolor": "white",
            "ticks": ""
           },
           "bgcolor": "#E5ECF6",
           "radialaxis": {
            "gridcolor": "white",
            "linecolor": "white",
            "ticks": ""
           }
          },
          "scene": {
           "xaxis": {
            "backgroundcolor": "#E5ECF6",
            "gridcolor": "white",
            "gridwidth": 2,
            "linecolor": "white",
            "showbackground": true,
            "ticks": "",
            "zerolinecolor": "white"
           },
           "yaxis": {
            "backgroundcolor": "#E5ECF6",
            "gridcolor": "white",
            "gridwidth": 2,
            "linecolor": "white",
            "showbackground": true,
            "ticks": "",
            "zerolinecolor": "white"
           },
           "zaxis": {
            "backgroundcolor": "#E5ECF6",
            "gridcolor": "white",
            "gridwidth": 2,
            "linecolor": "white",
            "showbackground": true,
            "ticks": "",
            "zerolinecolor": "white"
           }
          },
          "shapedefaults": {
           "line": {
            "color": "#2a3f5f"
           }
          },
          "ternary": {
           "aaxis": {
            "gridcolor": "white",
            "linecolor": "white",
            "ticks": ""
           },
           "baxis": {
            "gridcolor": "white",
            "linecolor": "white",
            "ticks": ""
           },
           "bgcolor": "#E5ECF6",
           "caxis": {
            "gridcolor": "white",
            "linecolor": "white",
            "ticks": ""
           }
          },
          "title": {
           "x": 0.05
          },
          "xaxis": {
           "automargin": true,
           "gridcolor": "white",
           "linecolor": "white",
           "ticks": "",
           "title": {
            "standoff": 15
           },
           "zerolinecolor": "white",
           "zerolinewidth": 2
          },
          "yaxis": {
           "automargin": true,
           "gridcolor": "white",
           "linecolor": "white",
           "ticks": "",
           "title": {
            "standoff": 15
           },
           "zerolinecolor": "white",
           "zerolinewidth": 2
          }
         }
        },
        "title": {
         "font": {
          "size": 24
         },
         "text": "Analysis Results",
         "x": 0.5
        },
        "width": 700,
        "xaxis": {
         "anchor": "y",
         "domain": [
          0,
          1
         ],
         "matches": "x4",
         "showticklabels": false
        },
        "xaxis2": {
         "anchor": "y2",
         "domain": [
          0,
          1
         ],
         "matches": "x4",
         "showticklabels": false
        },
        "xaxis3": {
         "anchor": "y3",
         "domain": [
          0,
          1
         ],
         "matches": "x4",
         "showticklabels": false
        },
        "xaxis4": {
         "anchor": "y4",
         "domain": [
          0,
          1
         ],
         "title": {
          "text": "Beam Length (ft)"
         }
        },
        "yaxis": {
         "anchor": "x",
         "domain": [
          0.7875,
          1
         ],
         "title": {
          "text": "Normal Force (lbf)"
         }
        },
        "yaxis2": {
         "anchor": "x2",
         "domain": [
          0.525,
          0.7375
         ],
         "title": {
          "text": "Shear Force (lbf)"
         }
        },
        "yaxis3": {
         "anchor": "x3",
         "domain": [
          0.2625,
          0.475
         ],
         "title": {
          "text": "Bending Moment (lbf.ft)"
         }
        },
        "yaxis4": {
         "anchor": "x4",
         "domain": [
          0,
          0.2125
         ],
         "title": {
          "text": "Deflection (in)"
         }
        }
       }
      }
     },
     "metadata": {},
     "output_type": "display_data"
    },
    {
     "data": {
      "application/vnd.plotly.v1+json": {
       "config": {
        "plotlyServerURL": "https://plot.ly"
       },
       "data": [
        {
         "fill": "tozeroy",
         "hovertemplate": "x: %{x:.3f} %{meta[0]}<br>f(x): %{y:.3f} %{meta[1]}",
         "line": {
          "color": "lightgreen",
          "width": 1
         },
         "meta": [
          "ft",
          "lbf.ft"
         ],
         "mode": "lines",
         "name": "Bending Moment",
         "type": "scatter",
         "x": [
          0,
          0.00628140703517588,
          0.01256281407035176,
          0.01884422110552764,
          0.02512562814070352,
          0.0314070351758794,
          0.03768844221105528,
          0.04396984924623116,
          0.05025125628140704,
          0.056532663316582916,
          0.0628140703517588,
          0.06909547738693468,
          0.07537688442211056,
          0.08165829145728644,
          0.08793969849246232,
          0.0942211055276382,
          0.10050251256281408,
          0.10678391959798995,
          0.11306532663316583,
          0.11934673366834171,
          0.1249999,
          0.1250001,
          0.1256281407035176,
          0.13190954773869348,
          0.13819095477386936,
          0.14447236180904524,
          0.15075376884422112,
          0.157035175879397,
          0.16331658291457288,
          0.16959798994974876,
          0.17587939698492464,
          0.18216080402010051,
          0.1884422110552764,
          0.19472361809045227,
          0.20100502512562815,
          0.20728643216080403,
          0.2135678391959799,
          0.2198492462311558,
          0.22613065326633167,
          0.23241206030150754,
          0.23869346733668342,
          0.2449748743718593,
          0.2512562814070352,
          0.2575376884422111,
          0.26381909547738697,
          0.27010050251256285,
          0.2763819095477387,
          0.2826633165829146,
          0.2889447236180905,
          0.29522613065326636,
          0.2999999,
          0.3000001,
          0.30150753768844224,
          0.3077889447236181,
          0.314070351758794,
          0.3203517587939699,
          0.32663316582914576,
          0.33291457286432163,
          0.3391959798994975,
          0.3454773869346734,
          0.35175879396984927,
          0.35804020100502515,
          0.36432160804020103,
          0.3706030150753769,
          0.3768844221105528,
          0.38316582914572866,
          0.38944723618090454,
          0.3957286432160804,
          0.4020100502512563,
          0.4082914572864322,
          0.41457286432160806,
          0.42085427135678394,
          0.4271356783919598,
          0.4334170854271357,
          0.4396984924623116,
          0.44597989949748745,
          0.45226130653266333,
          0.4585427135678392,
          0.4648241206030151,
          0.47110552763819097,
          0.47738693467336685,
          0.4836683417085427,
          0.4899497487437186,
          0.4962311557788945,
          0.5025125628140704,
          0.5087939698492463,
          0.5150753768844222,
          0.521356783919598,
          0.5276381909547739,
          0.5339195979899498,
          0.5402010050251257,
          0.5464824120603016,
          0.5527638190954774,
          0.5590452261306533,
          0.5653266331658292,
          0.5716080402010051,
          0.577889447236181,
          0.5841708542713568,
          0.5904522613065327,
          0.5967336683417086,
          0.6030150753768845,
          0.6092964824120604,
          0.6155778894472362,
          0.6218592964824121,
          0.628140703517588,
          0.6344221105527639,
          0.6407035175879398,
          0.6469849246231156,
          0.6532663316582915,
          0.6595477386934674,
          0.6658291457286433,
          0.6721105527638191,
          0.678391959798995,
          0.6846733668341709,
          0.6909547738693468,
          0.6972361809045227,
          0.7035175879396985,
          0.7097989949748744,
          0.7160804020100503,
          0.7223618090452262,
          0.7286432160804021,
          0.7349246231155779,
          0.7412060301507538,
          0.7474874371859297,
          0.7537688442211056,
          0.7600502512562815,
          0.7663316582914573,
          0.7726130653266332,
          0.7788944723618091,
          0.785175879396985,
          0.7914572864321608,
          0.7977386934673367,
          0.8040201005025126,
          0.8103015075376885,
          0.8165829145728644,
          0.8228643216080402,
          0.8291457286432161,
          0.835427135678392,
          0.8417085427135679,
          0.8479899497487438,
          0.8542713567839196,
          0.8605527638190955,
          0.8668341708542714,
          0.8731155778894473,
          0.8793969849246231,
          0.885678391959799,
          0.8919597989949749,
          0.8982412060301508,
          0.9045226130653267,
          0.9108040201005025,
          0.9170854271356784,
          0.9233668341708543,
          0.9296482412060302,
          0.9359296482412061,
          0.9422110552763819,
          0.9484924623115578,
          0.9499999,
          0.9500000999999999,
          0.9547738693467337,
          0.9610552763819096,
          0.9673366834170855,
          0.9736180904522613,
          0.9798994974874372,
          0.9861809045226131,
          0.992462311557789,
          0.9987437185929648,
          1.0050251256281408,
          1.0113065326633166,
          1.0175879396984926,
          1.0238693467336684,
          1.0301507537688444,
          1.0364321608040201,
          1.042713567839196,
          1.0489949748743719,
          1.0552763819095479,
          1.0615577889447236,
          1.0678391959798996,
          1.0741206030150754,
          1.0804020100502514,
          1.0866834170854272,
          1.0929648241206031,
          1.099246231155779,
          1.105527638190955,
          1.1118090452261307,
          1.1180904522613067,
          1.1243718592964824,
          1.1249999,
          1.1250001,
          1.1306532663316584,
          1.1369346733668342,
          1.1432160804020102,
          1.149497487437186,
          1.155778894472362,
          1.1620603015075377,
          1.1683417085427137,
          1.1746231155778895,
          1.1809045226130654,
          1.1871859296482412,
          1.1934673366834172,
          1.199748743718593,
          1.206030150753769,
          1.2123115577889447,
          1.2185929648241207,
          1.2248743718592965,
          1.2311557788944725,
          1.2374371859296482,
          1.2437185929648242,
          1.25
         ],
         "y": [
          0,
          0,
          0,
          0,
          0,
          0,
          0,
          0,
          0,
          0,
          0,
          0,
          0,
          0,
          0,
          0,
          0,
          0,
          0,
          0,
          0,
          -0.00043640000001254897,
          -2.7412060301508263,
          -30.15326633165836,
          -57.565326633165895,
          -84.97738693467343,
          -112.38944723618097,
          -139.8015075376885,
          -167.21356783919603,
          -194.62562814070358,
          -222.0376884422111,
          -249.44974874371863,
          -276.86180904522615,
          -304.2738693467337,
          -331.68592964824126,
          -359.0979899497488,
          -386.5100502512563,
          -413.92211055276385,
          -441.3341708542714,
          -468.7462311557789,
          -496.15829145728645,
          -523.570351758794,
          -550.9824120603016,
          -578.3944723618092,
          -605.8065326633167,
          -633.2185929648242,
          -660.6306532663318,
          -688.0427135678393,
          -715.4547738693468,
          -742.8668341708544,
          -763.6995635999999,
          -763.6999999999999,
          -763.6999999999999,
          -763.7,
          -763.6999999999999,
          -763.6999999999999,
          -763.7,
          -763.6999999999999,
          -763.6999999999999,
          -763.7,
          -763.6999999999999,
          -763.6999999999999,
          -763.6999999999998,
          -763.6999999999999,
          -763.7,
          -763.6999999999998,
          -763.6999999999999,
          -763.7,
          -763.6999999999998,
          -763.6999999999999,
          -763.7,
          -763.6999999999998,
          -763.6999999999999,
          -763.7,
          -763.7,
          -763.6999999999999,
          -763.6999999999999,
          -763.7,
          -763.6999999999999,
          -763.6999999999999,
          -763.7,
          -763.6999999999999,
          -763.6999999999999,
          -763.7,
          -763.6999999999998,
          -763.6999999999999,
          -763.7,
          -763.6999999999998,
          -763.6999999999999,
          -763.7,
          -763.6999999999998,
          -763.6999999999998,
          -763.7,
          -763.6999999999998,
          -763.6999999999998,
          -763.7,
          -763.6999999999998,
          -763.6999999999998,
          -763.7,
          -763.7,
          -763.7,
          -763.6999999999998,
          -763.6999999999998,
          -763.6999999999998,
          -763.7,
          -763.7,
          -763.7,
          -763.6999999999998,
          -763.6999999999998,
          -763.6999999999998,
          -763.7,
          -763.7,
          -763.7,
          -763.7000000000003,
          -763.6999999999998,
          -763.6999999999998,
          -763.7,
          -763.7,
          -763.7,
          -763.7000000000003,
          -763.6999999999998,
          -763.6999999999998,
          -763.6999999999998,
          -763.7,
          -763.7,
          -763.7,
          -763.6999999999998,
          -763.6999999999998,
          -763.6999999999998,
          -763.6999999999998,
          -763.7000000000003,
          -763.7000000000003,
          -763.6999999999994,
          -763.7000000000003,
          -763.6999999999998,
          -763.7000000000003,
          -763.6999999999998,
          -763.7000000000003,
          -763.6999999999994,
          -763.7000000000003,
          -763.6999999999998,
          -763.7000000000003,
          -763.6999999999998,
          -763.7000000000003,
          -763.6999999999998,
          -763.6999999999998,
          -763.6999999999998,
          -763.7000000000003,
          -763.6999999999998,
          -763.7000000000003,
          -763.6999999999998,
          -763.6999999999998,
          -763.6999999999998,
          -763.7000000000003,
          -763.6999999999998,
          -763.7000000000003,
          -763.6999999999998,
          -763.6995635999997,
          -742.866834170854,
          -715.4547738693464,
          -688.0427135678387,
          -660.6306532663316,
          -633.2185929648235,
          -605.8065326633164,
          -578.3944723618088,
          -550.9824120603012,
          -523.5703517587931,
          -496.1582914572864,
          -468.74623115577833,
          -441.3341708542712,
          -413.9221105527631,
          -386.51005025125596,
          -359.0979899497479,
          -331.6859296482412,
          -304.27386934673314,
          -276.861809045226,
          -249.44974874371746,
          -222.03768844221077,
          -194.6256281407027,
          -167.213567839196,
          -139.80150753768794,
          -112.38944723618079,
          -84.97738693467272,
          -57.56532663316557,
          -30.153266331657505,
          -2.741206030151261,
          -0.0004363999996712664,
          -9.094947017729282e-13,
          -9.094947017729282e-13,
          0,
          9.094947017729282e-13,
          9.094947017729282e-13,
          0,
          0,
          0,
          0,
          0,
          0,
          0,
          -9.094947017729282e-13,
          -9.094947017729282e-13,
          9.094947017729282e-13,
          0,
          0,
          9.094947017729282e-13,
          0,
          0,
          0
         ]
        }
       ],
       "layout": {
        "template": {
         "data": {
          "bar": [
           {
            "error_x": {
             "color": "#2a3f5f"
            },
            "error_y": {
             "color": "#2a3f5f"
            },
            "marker": {
             "line": {
              "color": "#E5ECF6",
              "width": 0.5
             },
             "pattern": {
              "fillmode": "overlay",
              "size": 10,
              "solidity": 0.2
             }
            },
            "type": "bar"
           }
          ],
          "barpolar": [
           {
            "marker": {
             "line": {
              "color": "#E5ECF6",
              "width": 0.5
             },
             "pattern": {
              "fillmode": "overlay",
              "size": 10,
              "solidity": 0.2
             }
            },
            "type": "barpolar"
           }
          ],
          "carpet": [
           {
            "aaxis": {
             "endlinecolor": "#2a3f5f",
             "gridcolor": "white",
             "linecolor": "white",
             "minorgridcolor": "white",
             "startlinecolor": "#2a3f5f"
            },
            "baxis": {
             "endlinecolor": "#2a3f5f",
             "gridcolor": "white",
             "linecolor": "white",
             "minorgridcolor": "white",
             "startlinecolor": "#2a3f5f"
            },
            "type": "carpet"
           }
          ],
          "choropleth": [
           {
            "colorbar": {
             "outlinewidth": 0,
             "ticks": ""
            },
            "type": "choropleth"
           }
          ],
          "contour": [
           {
            "colorbar": {
             "outlinewidth": 0,
             "ticks": ""
            },
            "colorscale": [
             [
              0,
              "#0d0887"
             ],
             [
              0.1111111111111111,
              "#46039f"
             ],
             [
              0.2222222222222222,
              "#7201a8"
             ],
             [
              0.3333333333333333,
              "#9c179e"
             ],
             [
              0.4444444444444444,
              "#bd3786"
             ],
             [
              0.5555555555555556,
              "#d8576b"
             ],
             [
              0.6666666666666666,
              "#ed7953"
             ],
             [
              0.7777777777777778,
              "#fb9f3a"
             ],
             [
              0.8888888888888888,
              "#fdca26"
             ],
             [
              1,
              "#f0f921"
             ]
            ],
            "type": "contour"
           }
          ],
          "contourcarpet": [
           {
            "colorbar": {
             "outlinewidth": 0,
             "ticks": ""
            },
            "type": "contourcarpet"
           }
          ],
          "heatmap": [
           {
            "colorbar": {
             "outlinewidth": 0,
             "ticks": ""
            },
            "colorscale": [
             [
              0,
              "#0d0887"
             ],
             [
              0.1111111111111111,
              "#46039f"
             ],
             [
              0.2222222222222222,
              "#7201a8"
             ],
             [
              0.3333333333333333,
              "#9c179e"
             ],
             [
              0.4444444444444444,
              "#bd3786"
             ],
             [
              0.5555555555555556,
              "#d8576b"
             ],
             [
              0.6666666666666666,
              "#ed7953"
             ],
             [
              0.7777777777777778,
              "#fb9f3a"
             ],
             [
              0.8888888888888888,
              "#fdca26"
             ],
             [
              1,
              "#f0f921"
             ]
            ],
            "type": "heatmap"
           }
          ],
          "heatmapgl": [
           {
            "colorbar": {
             "outlinewidth": 0,
             "ticks": ""
            },
            "colorscale": [
             [
              0,
              "#0d0887"
             ],
             [
              0.1111111111111111,
              "#46039f"
             ],
             [
              0.2222222222222222,
              "#7201a8"
             ],
             [
              0.3333333333333333,
              "#9c179e"
             ],
             [
              0.4444444444444444,
              "#bd3786"
             ],
             [
              0.5555555555555556,
              "#d8576b"
             ],
             [
              0.6666666666666666,
              "#ed7953"
             ],
             [
              0.7777777777777778,
              "#fb9f3a"
             ],
             [
              0.8888888888888888,
              "#fdca26"
             ],
             [
              1,
              "#f0f921"
             ]
            ],
            "type": "heatmapgl"
           }
          ],
          "histogram": [
           {
            "marker": {
             "pattern": {
              "fillmode": "overlay",
              "size": 10,
              "solidity": 0.2
             }
            },
            "type": "histogram"
           }
          ],
          "histogram2d": [
           {
            "colorbar": {
             "outlinewidth": 0,
             "ticks": ""
            },
            "colorscale": [
             [
              0,
              "#0d0887"
             ],
             [
              0.1111111111111111,
              "#46039f"
             ],
             [
              0.2222222222222222,
              "#7201a8"
             ],
             [
              0.3333333333333333,
              "#9c179e"
             ],
             [
              0.4444444444444444,
              "#bd3786"
             ],
             [
              0.5555555555555556,
              "#d8576b"
             ],
             [
              0.6666666666666666,
              "#ed7953"
             ],
             [
              0.7777777777777778,
              "#fb9f3a"
             ],
             [
              0.8888888888888888,
              "#fdca26"
             ],
             [
              1,
              "#f0f921"
             ]
            ],
            "type": "histogram2d"
           }
          ],
          "histogram2dcontour": [
           {
            "colorbar": {
             "outlinewidth": 0,
             "ticks": ""
            },
            "colorscale": [
             [
              0,
              "#0d0887"
             ],
             [
              0.1111111111111111,
              "#46039f"
             ],
             [
              0.2222222222222222,
              "#7201a8"
             ],
             [
              0.3333333333333333,
              "#9c179e"
             ],
             [
              0.4444444444444444,
              "#bd3786"
             ],
             [
              0.5555555555555556,
              "#d8576b"
             ],
             [
              0.6666666666666666,
              "#ed7953"
             ],
             [
              0.7777777777777778,
              "#fb9f3a"
             ],
             [
              0.8888888888888888,
              "#fdca26"
             ],
             [
              1,
              "#f0f921"
             ]
            ],
            "type": "histogram2dcontour"
           }
          ],
          "mesh3d": [
           {
            "colorbar": {
             "outlinewidth": 0,
             "ticks": ""
            },
            "type": "mesh3d"
           }
          ],
          "parcoords": [
           {
            "line": {
             "colorbar": {
              "outlinewidth": 0,
              "ticks": ""
             }
            },
            "type": "parcoords"
           }
          ],
          "pie": [
           {
            "automargin": true,
            "type": "pie"
           }
          ],
          "scatter": [
           {
            "fillpattern": {
             "fillmode": "overlay",
             "size": 10,
             "solidity": 0.2
            },
            "type": "scatter"
           }
          ],
          "scatter3d": [
           {
            "line": {
             "colorbar": {
              "outlinewidth": 0,
              "ticks": ""
             }
            },
            "marker": {
             "colorbar": {
              "outlinewidth": 0,
              "ticks": ""
             }
            },
            "type": "scatter3d"
           }
          ],
          "scattercarpet": [
           {
            "marker": {
             "colorbar": {
              "outlinewidth": 0,
              "ticks": ""
             }
            },
            "type": "scattercarpet"
           }
          ],
          "scattergeo": [
           {
            "marker": {
             "colorbar": {
              "outlinewidth": 0,
              "ticks": ""
             }
            },
            "type": "scattergeo"
           }
          ],
          "scattergl": [
           {
            "marker": {
             "colorbar": {
              "outlinewidth": 0,
              "ticks": ""
             }
            },
            "type": "scattergl"
           }
          ],
          "scattermapbox": [
           {
            "marker": {
             "colorbar": {
              "outlinewidth": 0,
              "ticks": ""
             }
            },
            "type": "scattermapbox"
           }
          ],
          "scatterpolar": [
           {
            "marker": {
             "colorbar": {
              "outlinewidth": 0,
              "ticks": ""
             }
            },
            "type": "scatterpolar"
           }
          ],
          "scatterpolargl": [
           {
            "marker": {
             "colorbar": {
              "outlinewidth": 0,
              "ticks": ""
             }
            },
            "type": "scatterpolargl"
           }
          ],
          "scatterternary": [
           {
            "marker": {
             "colorbar": {
              "outlinewidth": 0,
              "ticks": ""
             }
            },
            "type": "scatterternary"
           }
          ],
          "surface": [
           {
            "colorbar": {
             "outlinewidth": 0,
             "ticks": ""
            },
            "colorscale": [
             [
              0,
              "#0d0887"
             ],
             [
              0.1111111111111111,
              "#46039f"
             ],
             [
              0.2222222222222222,
              "#7201a8"
             ],
             [
              0.3333333333333333,
              "#9c179e"
             ],
             [
              0.4444444444444444,
              "#bd3786"
             ],
             [
              0.5555555555555556,
              "#d8576b"
             ],
             [
              0.6666666666666666,
              "#ed7953"
             ],
             [
              0.7777777777777778,
              "#fb9f3a"
             ],
             [
              0.8888888888888888,
              "#fdca26"
             ],
             [
              1,
              "#f0f921"
             ]
            ],
            "type": "surface"
           }
          ],
          "table": [
           {
            "cells": {
             "fill": {
              "color": "#EBF0F8"
             },
             "line": {
              "color": "white"
             }
            },
            "header": {
             "fill": {
              "color": "#C8D4E3"
             },
             "line": {
              "color": "white"
             }
            },
            "type": "table"
           }
          ]
         },
         "layout": {
          "annotationdefaults": {
           "arrowcolor": "#2a3f5f",
           "arrowhead": 0,
           "arrowwidth": 1
          },
          "autotypenumbers": "strict",
          "coloraxis": {
           "colorbar": {
            "outlinewidth": 0,
            "ticks": ""
           }
          },
          "colorscale": {
           "diverging": [
            [
             0,
             "#8e0152"
            ],
            [
             0.1,
             "#c51b7d"
            ],
            [
             0.2,
             "#de77ae"
            ],
            [
             0.3,
             "#f1b6da"
            ],
            [
             0.4,
             "#fde0ef"
            ],
            [
             0.5,
             "#f7f7f7"
            ],
            [
             0.6,
             "#e6f5d0"
            ],
            [
             0.7,
             "#b8e186"
            ],
            [
             0.8,
             "#7fbc41"
            ],
            [
             0.9,
             "#4d9221"
            ],
            [
             1,
             "#276419"
            ]
           ],
           "sequential": [
            [
             0,
             "#0d0887"
            ],
            [
             0.1111111111111111,
             "#46039f"
            ],
            [
             0.2222222222222222,
             "#7201a8"
            ],
            [
             0.3333333333333333,
             "#9c179e"
            ],
            [
             0.4444444444444444,
             "#bd3786"
            ],
            [
             0.5555555555555556,
             "#d8576b"
            ],
            [
             0.6666666666666666,
             "#ed7953"
            ],
            [
             0.7777777777777778,
             "#fb9f3a"
            ],
            [
             0.8888888888888888,
             "#fdca26"
            ],
            [
             1,
             "#f0f921"
            ]
           ],
           "sequentialminus": [
            [
             0,
             "#0d0887"
            ],
            [
             0.1111111111111111,
             "#46039f"
            ],
            [
             0.2222222222222222,
             "#7201a8"
            ],
            [
             0.3333333333333333,
             "#9c179e"
            ],
            [
             0.4444444444444444,
             "#bd3786"
            ],
            [
             0.5555555555555556,
             "#d8576b"
            ],
            [
             0.6666666666666666,
             "#ed7953"
            ],
            [
             0.7777777777777778,
             "#fb9f3a"
            ],
            [
             0.8888888888888888,
             "#fdca26"
            ],
            [
             1,
             "#f0f921"
            ]
           ]
          },
          "colorway": [
           "#636efa",
           "#EF553B",
           "#00cc96",
           "#ab63fa",
           "#FFA15A",
           "#19d3f3",
           "#FF6692",
           "#B6E880",
           "#FF97FF",
           "#FECB52"
          ],
          "font": {
           "color": "#2a3f5f"
          },
          "geo": {
           "bgcolor": "white",
           "lakecolor": "white",
           "landcolor": "#E5ECF6",
           "showlakes": true,
           "showland": true,
           "subunitcolor": "white"
          },
          "hoverlabel": {
           "align": "left"
          },
          "hovermode": "closest",
          "mapbox": {
           "style": "light"
          },
          "paper_bgcolor": "white",
          "plot_bgcolor": "#E5ECF6",
          "polar": {
           "angularaxis": {
            "gridcolor": "white",
            "linecolor": "white",
            "ticks": ""
           },
           "bgcolor": "#E5ECF6",
           "radialaxis": {
            "gridcolor": "white",
            "linecolor": "white",
            "ticks": ""
           }
          },
          "scene": {
           "xaxis": {
            "backgroundcolor": "#E5ECF6",
            "gridcolor": "white",
            "gridwidth": 2,
            "linecolor": "white",
            "showbackground": true,
            "ticks": "",
            "zerolinecolor": "white"
           },
           "yaxis": {
            "backgroundcolor": "#E5ECF6",
            "gridcolor": "white",
            "gridwidth": 2,
            "linecolor": "white",
            "showbackground": true,
            "ticks": "",
            "zerolinecolor": "white"
           },
           "zaxis": {
            "backgroundcolor": "#E5ECF6",
            "gridcolor": "white",
            "gridwidth": 2,
            "linecolor": "white",
            "showbackground": true,
            "ticks": "",
            "zerolinecolor": "white"
           }
          },
          "shapedefaults": {
           "line": {
            "color": "#2a3f5f"
           }
          },
          "ternary": {
           "aaxis": {
            "gridcolor": "white",
            "linecolor": "white",
            "ticks": ""
           },
           "baxis": {
            "gridcolor": "white",
            "linecolor": "white",
            "ticks": ""
           },
           "bgcolor": "#E5ECF6",
           "caxis": {
            "gridcolor": "white",
            "linecolor": "white",
            "ticks": ""
           }
          },
          "title": {
           "x": 0.05
          },
          "xaxis": {
           "automargin": true,
           "gridcolor": "white",
           "linecolor": "white",
           "ticks": "",
           "title": {
            "standoff": 15
           },
           "zerolinecolor": "white",
           "zerolinewidth": 2
          },
          "yaxis": {
           "automargin": true,
           "gridcolor": "white",
           "linecolor": "white",
           "ticks": "",
           "title": {
            "standoff": 15
           },
           "zerolinecolor": "white",
           "zerolinewidth": 2
          }
         }
        },
        "title": {
         "font": {
          "size": 30
         },
         "text": "Bending Moment Plot"
        },
        "xaxis": {
         "title": {
          "text": "Beam Length (ft)"
         }
        },
        "yaxis": {
         "title": {
          "text": "Bending Moment (lbf.ft)"
         }
        }
       }
      }
     },
     "metadata": {},
     "output_type": "display_data"
    },
    {
     "data": {
      "application/vnd.plotly.v1+json": {
       "config": {
        "plotlyServerURL": "https://plot.ly"
       },
       "data": [
        {
         "fill": "tozeroy",
         "hovertemplate": "x: %{x:.3f} %{meta[0]}<br>f(x): %{y:.3f} %{meta[1]}",
         "line": {
          "color": "aqua",
          "width": 1
         },
         "meta": [
          "ft",
          "lbf"
         ],
         "mode": "lines",
         "name": "Shear Force",
         "type": "scatter",
         "x": [
          0,
          0.00628140703517588,
          0.01256281407035176,
          0.01884422110552764,
          0.02512562814070352,
          0.0314070351758794,
          0.03768844221105528,
          0.04396984924623116,
          0.05025125628140704,
          0.056532663316582916,
          0.0628140703517588,
          0.06909547738693468,
          0.07537688442211056,
          0.08165829145728644,
          0.08793969849246232,
          0.0942211055276382,
          0.10050251256281408,
          0.10678391959798995,
          0.11306532663316583,
          0.11934673366834171,
          0.1249999,
          0.1250001,
          0.1256281407035176,
          0.13190954773869348,
          0.13819095477386936,
          0.14447236180904524,
          0.15075376884422112,
          0.157035175879397,
          0.16331658291457288,
          0.16959798994974876,
          0.17587939698492464,
          0.18216080402010051,
          0.1884422110552764,
          0.19472361809045227,
          0.20100502512562815,
          0.20728643216080403,
          0.2135678391959799,
          0.2198492462311558,
          0.22613065326633167,
          0.23241206030150754,
          0.23869346733668342,
          0.2449748743718593,
          0.2512562814070352,
          0.2575376884422111,
          0.26381909547738697,
          0.27010050251256285,
          0.2763819095477387,
          0.2826633165829146,
          0.2889447236180905,
          0.29522613065326636,
          0.2999999,
          0.3000001,
          0.30150753768844224,
          0.3077889447236181,
          0.314070351758794,
          0.3203517587939699,
          0.32663316582914576,
          0.33291457286432163,
          0.3391959798994975,
          0.3454773869346734,
          0.35175879396984927,
          0.35804020100502515,
          0.36432160804020103,
          0.3706030150753769,
          0.3768844221105528,
          0.38316582914572866,
          0.38944723618090454,
          0.3957286432160804,
          0.4020100502512563,
          0.4082914572864322,
          0.41457286432160806,
          0.42085427135678394,
          0.4271356783919598,
          0.4334170854271357,
          0.4396984924623116,
          0.44597989949748745,
          0.45226130653266333,
          0.4585427135678392,
          0.4648241206030151,
          0.47110552763819097,
          0.47738693467336685,
          0.4836683417085427,
          0.4899497487437186,
          0.4962311557788945,
          0.5025125628140704,
          0.5087939698492463,
          0.5150753768844222,
          0.521356783919598,
          0.5276381909547739,
          0.5339195979899498,
          0.5402010050251257,
          0.5464824120603016,
          0.5527638190954774,
          0.5590452261306533,
          0.5653266331658292,
          0.5716080402010051,
          0.577889447236181,
          0.5841708542713568,
          0.5904522613065327,
          0.5967336683417086,
          0.6030150753768845,
          0.6092964824120604,
          0.6155778894472362,
          0.6218592964824121,
          0.628140703517588,
          0.6344221105527639,
          0.6407035175879398,
          0.6469849246231156,
          0.6532663316582915,
          0.6595477386934674,
          0.6658291457286433,
          0.6721105527638191,
          0.678391959798995,
          0.6846733668341709,
          0.6909547738693468,
          0.6972361809045227,
          0.7035175879396985,
          0.7097989949748744,
          0.7160804020100503,
          0.7223618090452262,
          0.7286432160804021,
          0.7349246231155779,
          0.7412060301507538,
          0.7474874371859297,
          0.7537688442211056,
          0.7600502512562815,
          0.7663316582914573,
          0.7726130653266332,
          0.7788944723618091,
          0.785175879396985,
          0.7914572864321608,
          0.7977386934673367,
          0.8040201005025126,
          0.8103015075376885,
          0.8165829145728644,
          0.8228643216080402,
          0.8291457286432161,
          0.835427135678392,
          0.8417085427135679,
          0.8479899497487438,
          0.8542713567839196,
          0.8605527638190955,
          0.8668341708542714,
          0.8731155778894473,
          0.8793969849246231,
          0.885678391959799,
          0.8919597989949749,
          0.8982412060301508,
          0.9045226130653267,
          0.9108040201005025,
          0.9170854271356784,
          0.9233668341708543,
          0.9296482412060302,
          0.9359296482412061,
          0.9422110552763819,
          0.9484924623115578,
          0.9499999,
          0.9500000999999999,
          0.9547738693467337,
          0.9610552763819096,
          0.9673366834170855,
          0.9736180904522613,
          0.9798994974874372,
          0.9861809045226131,
          0.992462311557789,
          0.9987437185929648,
          1.0050251256281408,
          1.0113065326633166,
          1.0175879396984926,
          1.0238693467336684,
          1.0301507537688444,
          1.0364321608040201,
          1.042713567839196,
          1.0489949748743719,
          1.0552763819095479,
          1.0615577889447236,
          1.0678391959798996,
          1.0741206030150754,
          1.0804020100502514,
          1.0866834170854272,
          1.0929648241206031,
          1.099246231155779,
          1.105527638190955,
          1.1118090452261307,
          1.1180904522613067,
          1.1243718592964824,
          1.1249999,
          1.1250001,
          1.1306532663316584,
          1.1369346733668342,
          1.1432160804020102,
          1.149497487437186,
          1.155778894472362,
          1.1620603015075377,
          1.1683417085427137,
          1.1746231155778895,
          1.1809045226130654,
          1.1871859296482412,
          1.1934673366834172,
          1.199748743718593,
          1.206030150753769,
          1.2123115577889447,
          1.2185929648241207,
          1.2248743718592965,
          1.2311557788944725,
          1.2374371859296482,
          1.2437185929648242,
          1.25
         ],
         "y": [
          0,
          0,
          0,
          0,
          0,
          0,
          0,
          0,
          0,
          0,
          0,
          0,
          0,
          0,
          0,
          0,
          0,
          0,
          0,
          0,
          0,
          -4364,
          -4364,
          -4364,
          -4364,
          -4364,
          -4364,
          -4364,
          -4364,
          -4364,
          -4364,
          -4364,
          -4364,
          -4364,
          -4364,
          -4364,
          -4364,
          -4364,
          -4364,
          -4364,
          -4364,
          -4364,
          -4364,
          -4364,
          -4364,
          -4364,
          -4364,
          -4364,
          -4364,
          -4364,
          -4364,
          0,
          0,
          0,
          0,
          0,
          0,
          0,
          0,
          0,
          0,
          0,
          0,
          0,
          0,
          0,
          0,
          0,
          0,
          0,
          0,
          0,
          0,
          0,
          0,
          0,
          0,
          0,
          0,
          0,
          0,
          0,
          0,
          0,
          0,
          0,
          0,
          0,
          0,
          0,
          0,
          0,
          0,
          0,
          0,
          0,
          0,
          0,
          0,
          0,
          0,
          0,
          0,
          0,
          0,
          0,
          0,
          0,
          0,
          0,
          0,
          0,
          0,
          0,
          0,
          0,
          0,
          0,
          0,
          0,
          0,
          0,
          0,
          0,
          0,
          0,
          0,
          0,
          0,
          0,
          0,
          0,
          0,
          0,
          0,
          0,
          0,
          0,
          0,
          0,
          0,
          0,
          0,
          0,
          0,
          0,
          0,
          0,
          0,
          0,
          0,
          0,
          0,
          0,
          0,
          0,
          0,
          4364,
          4364,
          4364,
          4364,
          4364,
          4364,
          4364,
          4364,
          4364,
          4364,
          4364,
          4364,
          4364,
          4364,
          4364,
          4364,
          4364,
          4364,
          4364,
          4364,
          4364,
          4364,
          4364,
          4364,
          4364,
          4364,
          4364,
          4364,
          4364,
          4364,
          0,
          0,
          0,
          0,
          0,
          0,
          0,
          0,
          0,
          0,
          0,
          0,
          0,
          0,
          0,
          0,
          0,
          0,
          0,
          0,
          0
         ]
        }
       ],
       "layout": {
        "template": {
         "data": {
          "bar": [
           {
            "error_x": {
             "color": "#2a3f5f"
            },
            "error_y": {
             "color": "#2a3f5f"
            },
            "marker": {
             "line": {
              "color": "#E5ECF6",
              "width": 0.5
             },
             "pattern": {
              "fillmode": "overlay",
              "size": 10,
              "solidity": 0.2
             }
            },
            "type": "bar"
           }
          ],
          "barpolar": [
           {
            "marker": {
             "line": {
              "color": "#E5ECF6",
              "width": 0.5
             },
             "pattern": {
              "fillmode": "overlay",
              "size": 10,
              "solidity": 0.2
             }
            },
            "type": "barpolar"
           }
          ],
          "carpet": [
           {
            "aaxis": {
             "endlinecolor": "#2a3f5f",
             "gridcolor": "white",
             "linecolor": "white",
             "minorgridcolor": "white",
             "startlinecolor": "#2a3f5f"
            },
            "baxis": {
             "endlinecolor": "#2a3f5f",
             "gridcolor": "white",
             "linecolor": "white",
             "minorgridcolor": "white",
             "startlinecolor": "#2a3f5f"
            },
            "type": "carpet"
           }
          ],
          "choropleth": [
           {
            "colorbar": {
             "outlinewidth": 0,
             "ticks": ""
            },
            "type": "choropleth"
           }
          ],
          "contour": [
           {
            "colorbar": {
             "outlinewidth": 0,
             "ticks": ""
            },
            "colorscale": [
             [
              0,
              "#0d0887"
             ],
             [
              0.1111111111111111,
              "#46039f"
             ],
             [
              0.2222222222222222,
              "#7201a8"
             ],
             [
              0.3333333333333333,
              "#9c179e"
             ],
             [
              0.4444444444444444,
              "#bd3786"
             ],
             [
              0.5555555555555556,
              "#d8576b"
             ],
             [
              0.6666666666666666,
              "#ed7953"
             ],
             [
              0.7777777777777778,
              "#fb9f3a"
             ],
             [
              0.8888888888888888,
              "#fdca26"
             ],
             [
              1,
              "#f0f921"
             ]
            ],
            "type": "contour"
           }
          ],
          "contourcarpet": [
           {
            "colorbar": {
             "outlinewidth": 0,
             "ticks": ""
            },
            "type": "contourcarpet"
           }
          ],
          "heatmap": [
           {
            "colorbar": {
             "outlinewidth": 0,
             "ticks": ""
            },
            "colorscale": [
             [
              0,
              "#0d0887"
             ],
             [
              0.1111111111111111,
              "#46039f"
             ],
             [
              0.2222222222222222,
              "#7201a8"
             ],
             [
              0.3333333333333333,
              "#9c179e"
             ],
             [
              0.4444444444444444,
              "#bd3786"
             ],
             [
              0.5555555555555556,
              "#d8576b"
             ],
             [
              0.6666666666666666,
              "#ed7953"
             ],
             [
              0.7777777777777778,
              "#fb9f3a"
             ],
             [
              0.8888888888888888,
              "#fdca26"
             ],
             [
              1,
              "#f0f921"
             ]
            ],
            "type": "heatmap"
           }
          ],
          "heatmapgl": [
           {
            "colorbar": {
             "outlinewidth": 0,
             "ticks": ""
            },
            "colorscale": [
             [
              0,
              "#0d0887"
             ],
             [
              0.1111111111111111,
              "#46039f"
             ],
             [
              0.2222222222222222,
              "#7201a8"
             ],
             [
              0.3333333333333333,
              "#9c179e"
             ],
             [
              0.4444444444444444,
              "#bd3786"
             ],
             [
              0.5555555555555556,
              "#d8576b"
             ],
             [
              0.6666666666666666,
              "#ed7953"
             ],
             [
              0.7777777777777778,
              "#fb9f3a"
             ],
             [
              0.8888888888888888,
              "#fdca26"
             ],
             [
              1,
              "#f0f921"
             ]
            ],
            "type": "heatmapgl"
           }
          ],
          "histogram": [
           {
            "marker": {
             "pattern": {
              "fillmode": "overlay",
              "size": 10,
              "solidity": 0.2
             }
            },
            "type": "histogram"
           }
          ],
          "histogram2d": [
           {
            "colorbar": {
             "outlinewidth": 0,
             "ticks": ""
            },
            "colorscale": [
             [
              0,
              "#0d0887"
             ],
             [
              0.1111111111111111,
              "#46039f"
             ],
             [
              0.2222222222222222,
              "#7201a8"
             ],
             [
              0.3333333333333333,
              "#9c179e"
             ],
             [
              0.4444444444444444,
              "#bd3786"
             ],
             [
              0.5555555555555556,
              "#d8576b"
             ],
             [
              0.6666666666666666,
              "#ed7953"
             ],
             [
              0.7777777777777778,
              "#fb9f3a"
             ],
             [
              0.8888888888888888,
              "#fdca26"
             ],
             [
              1,
              "#f0f921"
             ]
            ],
            "type": "histogram2d"
           }
          ],
          "histogram2dcontour": [
           {
            "colorbar": {
             "outlinewidth": 0,
             "ticks": ""
            },
            "colorscale": [
             [
              0,
              "#0d0887"
             ],
             [
              0.1111111111111111,
              "#46039f"
             ],
             [
              0.2222222222222222,
              "#7201a8"
             ],
             [
              0.3333333333333333,
              "#9c179e"
             ],
             [
              0.4444444444444444,
              "#bd3786"
             ],
             [
              0.5555555555555556,
              "#d8576b"
             ],
             [
              0.6666666666666666,
              "#ed7953"
             ],
             [
              0.7777777777777778,
              "#fb9f3a"
             ],
             [
              0.8888888888888888,
              "#fdca26"
             ],
             [
              1,
              "#f0f921"
             ]
            ],
            "type": "histogram2dcontour"
           }
          ],
          "mesh3d": [
           {
            "colorbar": {
             "outlinewidth": 0,
             "ticks": ""
            },
            "type": "mesh3d"
           }
          ],
          "parcoords": [
           {
            "line": {
             "colorbar": {
              "outlinewidth": 0,
              "ticks": ""
             }
            },
            "type": "parcoords"
           }
          ],
          "pie": [
           {
            "automargin": true,
            "type": "pie"
           }
          ],
          "scatter": [
           {
            "fillpattern": {
             "fillmode": "overlay",
             "size": 10,
             "solidity": 0.2
            },
            "type": "scatter"
           }
          ],
          "scatter3d": [
           {
            "line": {
             "colorbar": {
              "outlinewidth": 0,
              "ticks": ""
             }
            },
            "marker": {
             "colorbar": {
              "outlinewidth": 0,
              "ticks": ""
             }
            },
            "type": "scatter3d"
           }
          ],
          "scattercarpet": [
           {
            "marker": {
             "colorbar": {
              "outlinewidth": 0,
              "ticks": ""
             }
            },
            "type": "scattercarpet"
           }
          ],
          "scattergeo": [
           {
            "marker": {
             "colorbar": {
              "outlinewidth": 0,
              "ticks": ""
             }
            },
            "type": "scattergeo"
           }
          ],
          "scattergl": [
           {
            "marker": {
             "colorbar": {
              "outlinewidth": 0,
              "ticks": ""
             }
            },
            "type": "scattergl"
           }
          ],
          "scattermapbox": [
           {
            "marker": {
             "colorbar": {
              "outlinewidth": 0,
              "ticks": ""
             }
            },
            "type": "scattermapbox"
           }
          ],
          "scatterpolar": [
           {
            "marker": {
             "colorbar": {
              "outlinewidth": 0,
              "ticks": ""
             }
            },
            "type": "scatterpolar"
           }
          ],
          "scatterpolargl": [
           {
            "marker": {
             "colorbar": {
              "outlinewidth": 0,
              "ticks": ""
             }
            },
            "type": "scatterpolargl"
           }
          ],
          "scatterternary": [
           {
            "marker": {
             "colorbar": {
              "outlinewidth": 0,
              "ticks": ""
             }
            },
            "type": "scatterternary"
           }
          ],
          "surface": [
           {
            "colorbar": {
             "outlinewidth": 0,
             "ticks": ""
            },
            "colorscale": [
             [
              0,
              "#0d0887"
             ],
             [
              0.1111111111111111,
              "#46039f"
             ],
             [
              0.2222222222222222,
              "#7201a8"
             ],
             [
              0.3333333333333333,
              "#9c179e"
             ],
             [
              0.4444444444444444,
              "#bd3786"
             ],
             [
              0.5555555555555556,
              "#d8576b"
             ],
             [
              0.6666666666666666,
              "#ed7953"
             ],
             [
              0.7777777777777778,
              "#fb9f3a"
             ],
             [
              0.8888888888888888,
              "#fdca26"
             ],
             [
              1,
              "#f0f921"
             ]
            ],
            "type": "surface"
           }
          ],
          "table": [
           {
            "cells": {
             "fill": {
              "color": "#EBF0F8"
             },
             "line": {
              "color": "white"
             }
            },
            "header": {
             "fill": {
              "color": "#C8D4E3"
             },
             "line": {
              "color": "white"
             }
            },
            "type": "table"
           }
          ]
         },
         "layout": {
          "annotationdefaults": {
           "arrowcolor": "#2a3f5f",
           "arrowhead": 0,
           "arrowwidth": 1
          },
          "autotypenumbers": "strict",
          "coloraxis": {
           "colorbar": {
            "outlinewidth": 0,
            "ticks": ""
           }
          },
          "colorscale": {
           "diverging": [
            [
             0,
             "#8e0152"
            ],
            [
             0.1,
             "#c51b7d"
            ],
            [
             0.2,
             "#de77ae"
            ],
            [
             0.3,
             "#f1b6da"
            ],
            [
             0.4,
             "#fde0ef"
            ],
            [
             0.5,
             "#f7f7f7"
            ],
            [
             0.6,
             "#e6f5d0"
            ],
            [
             0.7,
             "#b8e186"
            ],
            [
             0.8,
             "#7fbc41"
            ],
            [
             0.9,
             "#4d9221"
            ],
            [
             1,
             "#276419"
            ]
           ],
           "sequential": [
            [
             0,
             "#0d0887"
            ],
            [
             0.1111111111111111,
             "#46039f"
            ],
            [
             0.2222222222222222,
             "#7201a8"
            ],
            [
             0.3333333333333333,
             "#9c179e"
            ],
            [
             0.4444444444444444,
             "#bd3786"
            ],
            [
             0.5555555555555556,
             "#d8576b"
            ],
            [
             0.6666666666666666,
             "#ed7953"
            ],
            [
             0.7777777777777778,
             "#fb9f3a"
            ],
            [
             0.8888888888888888,
             "#fdca26"
            ],
            [
             1,
             "#f0f921"
            ]
           ],
           "sequentialminus": [
            [
             0,
             "#0d0887"
            ],
            [
             0.1111111111111111,
             "#46039f"
            ],
            [
             0.2222222222222222,
             "#7201a8"
            ],
            [
             0.3333333333333333,
             "#9c179e"
            ],
            [
             0.4444444444444444,
             "#bd3786"
            ],
            [
             0.5555555555555556,
             "#d8576b"
            ],
            [
             0.6666666666666666,
             "#ed7953"
            ],
            [
             0.7777777777777778,
             "#fb9f3a"
            ],
            [
             0.8888888888888888,
             "#fdca26"
            ],
            [
             1,
             "#f0f921"
            ]
           ]
          },
          "colorway": [
           "#636efa",
           "#EF553B",
           "#00cc96",
           "#ab63fa",
           "#FFA15A",
           "#19d3f3",
           "#FF6692",
           "#B6E880",
           "#FF97FF",
           "#FECB52"
          ],
          "font": {
           "color": "#2a3f5f"
          },
          "geo": {
           "bgcolor": "white",
           "lakecolor": "white",
           "landcolor": "#E5ECF6",
           "showlakes": true,
           "showland": true,
           "subunitcolor": "white"
          },
          "hoverlabel": {
           "align": "left"
          },
          "hovermode": "closest",
          "mapbox": {
           "style": "light"
          },
          "paper_bgcolor": "white",
          "plot_bgcolor": "#E5ECF6",
          "polar": {
           "angularaxis": {
            "gridcolor": "white",
            "linecolor": "white",
            "ticks": ""
           },
           "bgcolor": "#E5ECF6",
           "radialaxis": {
            "gridcolor": "white",
            "linecolor": "white",
            "ticks": ""
           }
          },
          "scene": {
           "xaxis": {
            "backgroundcolor": "#E5ECF6",
            "gridcolor": "white",
            "gridwidth": 2,
            "linecolor": "white",
            "showbackground": true,
            "ticks": "",
            "zerolinecolor": "white"
           },
           "yaxis": {
            "backgroundcolor": "#E5ECF6",
            "gridcolor": "white",
            "gridwidth": 2,
            "linecolor": "white",
            "showbackground": true,
            "ticks": "",
            "zerolinecolor": "white"
           },
           "zaxis": {
            "backgroundcolor": "#E5ECF6",
            "gridcolor": "white",
            "gridwidth": 2,
            "linecolor": "white",
            "showbackground": true,
            "ticks": "",
            "zerolinecolor": "white"
           }
          },
          "shapedefaults": {
           "line": {
            "color": "#2a3f5f"
           }
          },
          "ternary": {
           "aaxis": {
            "gridcolor": "white",
            "linecolor": "white",
            "ticks": ""
           },
           "baxis": {
            "gridcolor": "white",
            "linecolor": "white",
            "ticks": ""
           },
           "bgcolor": "#E5ECF6",
           "caxis": {
            "gridcolor": "white",
            "linecolor": "white",
            "ticks": ""
           }
          },
          "title": {
           "x": 0.05
          },
          "xaxis": {
           "automargin": true,
           "gridcolor": "white",
           "linecolor": "white",
           "ticks": "",
           "title": {
            "standoff": 15
           },
           "zerolinecolor": "white",
           "zerolinewidth": 2
          },
          "yaxis": {
           "automargin": true,
           "gridcolor": "white",
           "linecolor": "white",
           "ticks": "",
           "title": {
            "standoff": 15
           },
           "zerolinecolor": "white",
           "zerolinewidth": 2
          }
         }
        },
        "title": {
         "font": {
          "size": 30
         },
         "text": "Shear Force Plot"
        },
        "xaxis": {
         "title": {
          "text": "Beam Length (ft)"
         }
        },
        "yaxis": {
         "title": {
          "text": "Shear Force (lbf)"
         }
        }
       }
      }
     },
     "metadata": {},
     "output_type": "display_data"
    }
   ],
   "source": [
    "total_beam_length = 1.25 #ft\n",
    "beam = Beam(total_beam_length)\n",
    "from beam_analysis.initialize_beam import initialize_beam_lbs\n",
    "beam = initialize_beam_lbs(beam)\n",
    "a = Support(0.125, (1, 1, 0))\n",
    "b = Support(1.125, (0, 1, 0))\n",
    "beam.add_supports(a,b)\n",
    "\n",
    "load1 = PointLoadV(4364, 0.3)\n",
    "load2 = PointLoadV(4364, 0.95)\n",
    "beam.add_loads(load1, load2)\n",
    "\n",
    "beam.analyse()\n",
    "\n",
    "beam.add_query_points(3)\n",
    "fig1 = beam.plot_beam_external()\n",
    "fig2 = beam.plot_beam_internal()\n",
    "fig3 = beam.plot_bending_moment()\n",
    "fig4 = beam.plot_shear_force()\n",
    "\n",
    "fig1.show()\n",
    "fig2.show()\n",
    "fig3.show()\n",
    "fig4.show()"
   ]
  },
  {
   "cell_type": "code",
   "execution_count": 8,
   "id": "b7addc57",
   "metadata": {},
   "outputs": [
    {
     "name": "stdout",
     "output_type": "stream",
     "text": [
      "Max Moment = 0.0 ft-lbs \n",
      "Min Moment = -763.7 ft-lbs\n"
     ]
    }
   ],
   "source": [
    "M_max = beam.get_bending_moment(return_max=True)\n",
    "M_min = beam.get_bending_moment(return_min=True)\n",
    "\n",
    "print(f\"Max Moment = {round(M_max, 2)} ft-lbs \\nMin Moment = {round(M_min, 2)} ft-lbs\")"
   ]
  },
  {
   "cell_type": "code",
   "execution_count": 9,
   "id": "929c5943",
   "metadata": {},
   "outputs": [
    {
     "name": "stdout",
     "output_type": "stream",
     "text": [
      "Max Moment = 4364.0 lbs \n",
      "Min Moment = -4364.0 lbs\n"
     ]
    }
   ],
   "source": [
    "V_max = beam.get_shear_force(return_max=True)\n",
    "V_min = beam.get_shear_force(return_min=True)\n",
    "print(f\"Max Moment = {round(V_max, 2)} lbs \\nMin Moment = {round(V_min, 2)} lbs\")"
   ]
  },
  {
   "cell_type": "code",
   "execution_count": null,
   "id": "880bd600",
   "metadata": {},
   "outputs": [],
   "source": []
  }
 ],
 "metadata": {
  "kernelspec": {
   "display_name": "VENV",
   "language": "python",
   "name": "venv"
  },
  "language_info": {
   "codemirror_mode": {
    "name": "ipython",
    "version": 3
   },
   "file_extension": ".py",
   "mimetype": "text/x-python",
   "name": "python",
   "nbconvert_exporter": "python",
   "pygments_lexer": "ipython3",
   "version": "3.11.3"
  }
 },
 "nbformat": 4,
 "nbformat_minor": 5
}
