{
 "cells": [
  {
   "cell_type": "code",
   "execution_count": 1,
   "id": "12f1dca6",
   "metadata": {},
   "outputs": [
    {
     "name": "stdout",
     "output_type": "stream",
     "text": [
      "The Zen of Python, by Tim Peters\n",
      "\n",
      "Beautiful is better than ugly.\n",
      "Explicit is better than implicit.\n",
      "Simple is better than complex.\n",
      "Complex is better than complicated.\n",
      "Flat is better than nested.\n",
      "Sparse is better than dense.\n",
      "Readability counts.\n",
      "Special cases aren't special enough to break the rules.\n",
      "Although practicality beats purity.\n",
      "Errors should never pass silently.\n",
      "Unless explicitly silenced.\n",
      "In the face of ambiguity, refuse the temptation to guess.\n",
      "There should be one-- and preferably only one --obvious way to do it.\n",
      "Although that way may not be obvious at first unless you're Dutch.\n",
      "Now is better than never.\n",
      "Although never is often better than *right* now.\n",
      "If the implementation is hard to explain, it's a bad idea.\n",
      "If the implementation is easy to explain, it may be a good idea.\n",
      "Namespaces are one honking great idea -- let's do more of those!\n"
     ]
    },
    {
     "data": {
      "text/latex": [
       "\\newpage"
      ],
      "text/plain": [
       "<IPython.core.display.Latex object>"
      ]
     },
     "metadata": {},
     "output_type": "display_data"
    }
   ],
   "source": [
    "# Import Python Tools:\n",
    "from IPython.display import display, Latex\n",
    "import pandas as pd\n",
    "import numpy as np\n",
    "from numpy import sqrt, pi, average, cos, sin, tan, arcsin, arccos, arctan, deg2rad, rad2deg\n",
    "\n",
    "import load_combos\n",
    "from steel_design.AISC import aisc\n",
    "from concrete_design.material_properties import elastic_modulus, cracked_moment_inertia\n",
    "from concrete_design.steel_reinforcement import rebar_df as rebar\n",
    "from masonry_design.material_properties import NW_CMU, cmu_elastic_modulus\n",
    "conc_density = 150.0 #pcf\n",
    "steel_density = 0.2833 #pci\n",
    "\n",
    "display(Latex(r\"\\newpage\")) #pagebreak"
   ]
  },
  {
   "cell_type": "markdown",
   "id": "79fc1b6a",
   "metadata": {},
   "source": [
    "# Concrete Slab Design\n",
    "## Inputs"
   ]
  },
  {
   "cell_type": "code",
   "execution_count": 2,
   "id": "68b69d09",
   "metadata": {},
   "outputs": [],
   "source": [
    "# Materials\n",
    "fc = 3000.0 #psi\n",
    "fy = 60000.0 #psi\n",
    "\n",
    "# Dimensions\n",
    "ln = 24.5 * 12 #in\n",
    "b = 12.0 #in\n",
    "t = 9 #in\n",
    "cover_b = 1 #in\n",
    "cover_t = 3/4 #in\n",
    "\n",
    "# Provided Steel\n",
    "bar = \"#6\"\n",
    "Ab = rebar.loc[bar, \"Area\"]\n",
    "n = 1 #number of bars per width, b"
   ]
  },
  {
   "cell_type": "code",
   "execution_count": 3,
   "id": "7bcebe1d",
   "metadata": {},
   "outputs": [
    {
     "data": {
      "text/plain": [
       "'Mu = 14931.22 lb-ft'"
      ]
     },
     "execution_count": 3,
     "metadata": {},
     "output_type": "execute_result"
    }
   ],
   "source": [
    "DL = conc_density * t/12\n",
    "LL = 40 #psf\n",
    "\n",
    "LN = ln / 12 #ft\n",
    "D=DL*b/12\n",
    "L=LL*b/12\n",
    "w_u = load_combos.LRFD(D, L) #plf\n",
    "\n",
    "Mu = w_u * LN**2 / 8 * 12 #lb-in\n",
    "f\"Mu = {round(Mu / 12, 2)} lb-ft\""
   ]
  },
  {
   "cell_type": "markdown",
   "id": "45bf74d0",
   "metadata": {},
   "source": [
    "## Minimum Requirements"
   ]
  },
  {
   "cell_type": "code",
   "execution_count": 4,
   "id": "2c348d90",
   "metadata": {},
   "outputs": [
    {
     "name": "stdout",
     "output_type": "stream",
     "text": [
      "t_min (two way) = 9.8 in\n",
      "t_min (one way) = 14.7 in\n"
     ]
    }
   ],
   "source": [
    "# Minimum Thickness if deflection is not calculated\n",
    "t_min = ln / 30\n",
    "print(f\"t_min (two way) = {round(t_min, 2)} in\")\n",
    "\n",
    "t_min = ln / 20\n",
    "print(f\"t_min (one way) = {round(t_min, 2)} in\")"
   ]
  },
  {
   "cell_type": "code",
   "execution_count": 5,
   "id": "4afd0b67",
   "metadata": {},
   "outputs": [
    {
     "data": {
      "text/plain": [
       "'As,min = 0.194 in^2 or 0.194 in^2/ft'"
      ]
     },
     "execution_count": 5,
     "metadata": {},
     "output_type": "execute_result"
    }
   ],
   "source": [
    "# Minimum Steel\n",
    "Ag = b * t #in^2\n",
    "As_min = 0.0018 * Ag\n",
    "As_minft = As_min * 12 / b\n",
    "\n",
    "f\"As,min = {round(As_min, 3)} in^2 or {round(As_minft, 3)} in^2/ft\""
   ]
  },
  {
   "cell_type": "code",
   "execution_count": 6,
   "id": "2f4b15aa",
   "metadata": {},
   "outputs": [
    {
     "data": {
      "text/plain": [
       "'As = 0.44 in^2 or 0.44 in^2/ft'"
      ]
     },
     "execution_count": 6,
     "metadata": {},
     "output_type": "execute_result"
    }
   ],
   "source": [
    "# Provided Steel\n",
    "As = n * Ab #in^2\n",
    "As_ft = As * 12 / b\n",
    "f\"As = {round(As, 3)} in^2 or {round(As_ft, 3)} in^2/ft\""
   ]
  },
  {
   "cell_type": "code",
   "execution_count": 7,
   "id": "2ae275e0",
   "metadata": {},
   "outputs": [
    {
     "data": {
      "text/plain": [
       "'bar spacing = 12.0 in'"
      ]
     },
     "execution_count": 7,
     "metadata": {},
     "output_type": "execute_result"
    }
   ],
   "source": [
    "# bar spacing\n",
    "s = b / n\n",
    "f\"bar spacing = {round(s, 2)} in\""
   ]
  },
  {
   "cell_type": "markdown",
   "id": "fbf473d7",
   "metadata": {},
   "source": [
    "## Strength Design"
   ]
  },
  {
   "cell_type": "code",
   "execution_count": 8,
   "id": "15bfc616",
   "metadata": {},
   "outputs": [],
   "source": [
    "# Compression Steel\n",
    "bar = \"#6\"\n",
    "Ab_c = rebar.loc[bar, \"Area\"]\n",
    "n = 1 #number of bars per width, b\n",
    "\n",
    "As_c = n * Ab_c #compression reinforcement\n",
    "d_c = t - cover_t"
   ]
  },
  {
   "cell_type": "code",
   "execution_count": 9,
   "id": "76b13244",
   "metadata": {},
   "outputs": [],
   "source": [
    "# Required Thickness\n",
    "phi = 0.9\n",
    "a = As * fy / (0.85*fc * b)\n",
    "d = t - cover_b\n",
    "phiMn = phi * As * fy * (d - a/2) #lb-in"
   ]
  },
  {
   "cell_type": "code",
   "execution_count": 10,
   "id": "0dd8ceb4",
   "metadata": {},
   "outputs": [
    {
     "name": "stdout",
     "output_type": "stream",
     "text": [
      "Mu = 14931.22 lb-ft\n",
      "phiMn = 14985.88 lb-ft\n"
     ]
    },
    {
     "data": {
      "text/plain": [
       "True"
      ]
     },
     "execution_count": 10,
     "metadata": {},
     "output_type": "execute_result"
    }
   ],
   "source": [
    "print(f\"Mu = {round(Mu / 12, 2)} lb-ft\")\n",
    "print(f\"phiMn = {round(phiMn / 12, 2)} lb-ft\")\n",
    "phiMn > Mu"
   ]
  },
  {
   "cell_type": "markdown",
   "id": "e0a1493e",
   "metadata": {},
   "source": [
    "## Deflection"
   ]
  },
  {
   "cell_type": "markdown",
   "id": "d5f18d79",
   "metadata": {},
   "source": [
    "### Short-term Deflection"
   ]
  },
  {
   "cell_type": "code",
   "execution_count": 11,
   "id": "b49fc109",
   "metadata": {},
   "outputs": [
    {
     "data": {
      "text/plain": [
       "'Ma = 11442.27 lb-ft'"
      ]
     },
     "execution_count": 11,
     "metadata": {},
     "output_type": "execute_result"
    }
   ],
   "source": [
    "w_a = load_combos.ASD(D, L)\n",
    "\n",
    "Ma = w_a * LN**2 / 8 * 12 #lb-in\n",
    "f\"Ma = {round(Ma / 12, 2)} lb-ft\""
   ]
  },
  {
   "cell_type": "code",
   "execution_count": 12,
   "id": "6cdb243d",
   "metadata": {},
   "outputs": [
    {
     "data": {
      "text/plain": [
       "'Mcr = 5545.69 lb-ft'"
      ]
     },
     "execution_count": 12,
     "metadata": {},
     "output_type": "execute_result"
    }
   ],
   "source": [
    "fr = 7.5 * sqrt(fc) #psi\n",
    "Ig = b * t**3 / 12 #in^4\n",
    "yt = t / 2 #in\n",
    "Mcr = fr * Ig / yt #lb-in\n",
    "f\"Mcr = {round(Mcr / 12, 2)} lb-ft\""
   ]
  },
  {
   "cell_type": "code",
   "execution_count": 18,
   "id": "15e6a290",
   "metadata": {},
   "outputs": [
    {
     "data": {
      "text/plain": [
       "'Elastic Deflection = 53.319 in'"
      ]
     },
     "execution_count": 18,
     "metadata": {},
     "output_type": "execute_result"
    }
   ],
   "source": [
    "# Elastic Modulus\n",
    "Ec = elastic_modulus(fc=3000) #psi\n",
    "# Moment of Inertia\n",
    "Ie = Ig\n",
    "Icr = cracked_moment_inertia(b=b, h=t, d=d, d_c=d_c, Ec=Ec, As=As, As_c=As_c)\n",
    "if Ma > 2/3*Mcr:\n",
    "    Ie = Icr / (1 - ((2/3)*Mcr/Ma)**2 * (1 - Icr/Ig))\n",
    "else:\n",
    "    print(\"section uncracked\")\n",
    "\n",
    "#Elastic Deflection\n",
    "defl_elastic = 5 * (w_a/12) * ln**4 / (384 * Ec * Ie)\n",
    "f\"Elastic Deflection = {round(defl_elastic, 3)} in\""
   ]
  },
  {
   "cell_type": "code",
   "execution_count": 14,
   "id": "084a4bbb",
   "metadata": {},
   "outputs": [
    {
     "data": {
      "text/plain": [
       "2171521574.7353697"
      ]
     },
     "execution_count": 14,
     "metadata": {},
     "output_type": "execute_result"
    }
   ],
   "source": [
    "Icr"
   ]
  },
  {
   "cell_type": "markdown",
   "id": "0dcbe14e",
   "metadata": {},
   "source": [
    "### Long-term Deflection"
   ]
  },
  {
   "cell_type": "code",
   "execution_count": 15,
   "id": "fd94870e",
   "metadata": {},
   "outputs": [
    {
     "data": {
      "text/plain": [
       "'lmbda_dlt = 1.636'"
      ]
     },
     "execution_count": 15,
     "metadata": {},
     "output_type": "execute_result"
    }
   ],
   "source": [
    "# Provided Steel\n",
    "bar = \"#6\"\n",
    "Ab_c = rebar.loc[bar, \"Area\"]\n",
    "n = 1 #number of bars per width, b\n",
    "\n",
    "# Deflection Factor\n",
    "xi = 2.0 #duration factor\n",
    "As_c = n * Ab_c #compression reinforcement\n",
    "rho_c = As_c / (b * d_c)\n",
    "\n",
    "lmbda_dlt = xi / (1 + 50*rho_c)\n",
    "f\"lmbda_dlt = {round(lmbda_dlt, 3)}\""
   ]
  },
  {
   "cell_type": "code",
   "execution_count": 16,
   "id": "e6da8ff2",
   "metadata": {},
   "outputs": [
    {
     "data": {
      "text/plain": [
       "'Total Long-Term Deflection = 87.25 in'"
      ]
     },
     "execution_count": 16,
     "metadata": {},
     "output_type": "execute_result"
    }
   ],
   "source": [
    "# Total Long-Term Deflection\n",
    "defl_tot = defl_elastic * lmbda_dlt #in\n",
    "f\"Total Long-Term Deflection = {round(defl_tot, 3)} in\""
   ]
  },
  {
   "cell_type": "code",
   "execution_count": null,
   "id": "8d5e44e9",
   "metadata": {},
   "outputs": [],
   "source": []
  }
 ],
 "metadata": {
  "kernelspec": {
   "display_name": "Python 3 (ipykernel)",
   "language": "python",
   "name": "python3"
  },
  "language_info": {
   "codemirror_mode": {
    "name": "ipython",
    "version": 3
   },
   "file_extension": ".py",
   "mimetype": "text/x-python",
   "name": "python",
   "nbconvert_exporter": "python",
   "pygments_lexer": "ipython3",
   "version": "3.9.2"
  }
 },
 "nbformat": 4,
 "nbformat_minor": 5
}
