{
 "cells": [
  {
   "cell_type": "code",
   "execution_count": 176,
   "id": "12f1dca6",
   "metadata": {},
   "outputs": [],
   "source": [
    "# Import Python Tools:\n",
    "from IPython.display import display, Latex\n",
    "import pandas as pd\n",
    "import numpy as np\n",
    "from numpy import sqrt, pi, average, cos, sin, tan, arcsin, arccos, arctan, deg2rad, rad2deg\n",
    "# import sectionproperties as shape\n",
    "\n",
    "from ASCE import load_combos\n",
    "from concrete_design import material_properties as conc\n",
    "from concrete_design.steel_reinforcement import rebar_df as rebar\n",
    "import concrete_design.beam_calculations.design_properties as bm\n",
    "conc_density = 150.0 #pcf"
   ]
  },
  {
   "attachments": {},
   "cell_type": "markdown",
   "id": "8f6351fd",
   "metadata": {},
   "source": [
    "<div style=\"page-break-after: always;\"></div>"
   ]
  },
  {
   "attachments": {},
   "cell_type": "markdown",
   "id": "79fc1b6a",
   "metadata": {},
   "source": [
    "# Concrete Beam Design\n",
    "## Inputs"
   ]
  },
  {
   "cell_type": "code",
   "execution_count": 177,
   "id": "544a036c",
   "metadata": {},
   "outputs": [],
   "source": [
    "# Materials\n",
    "fc = 3000 #psi\n",
    "fy = 60000 #psi\n",
    "fyt = 60000 #psi\n",
    "Es = 29000000 #psi\n",
    "\n",
    "# Dimensions\n",
    "b = 18 #in\n",
    "h = 18 #in\n",
    "ln = 10*12 #in\n",
    "cover_t = 1.5 #in\n",
    "cover_b = 1.5 #in\n",
    "cover_side = 1.5 #in"
   ]
  },
  {
   "attachments": {},
   "cell_type": "markdown",
   "id": "5069af72",
   "metadata": {},
   "source": [
    "#### Deep beam check\n",
    "\n",
    "- span does not exceed 4 * h\n",
    "\n",
    "- concentrated load exists within a distance 2h from face of support"
   ]
  },
  {
   "cell_type": "code",
   "execution_count": 178,
   "id": "0bbab1d3",
   "metadata": {},
   "outputs": [
    {
     "name": "stdout",
     "output_type": "stream",
     "text": [
      "beam theory OK\n"
     ]
    }
   ],
   "source": [
    "if ln < 4*h:\n",
    "    print(\"DEEP BEAM\")\n",
    "else:\n",
    "    print(\"beam theory OK\")"
   ]
  },
  {
   "attachments": {},
   "cell_type": "markdown",
   "id": "ef838f77",
   "metadata": {},
   "source": [
    "### Loads"
   ]
  },
  {
   "cell_type": "code",
   "execution_count": 179,
   "id": "4d9b0542",
   "metadata": {},
   "outputs": [
    {
     "name": "stdout",
     "output_type": "stream",
     "text": [
      "Mu = 6.34 kip-ft\n",
      "Vu = 2.54 kips\n",
      "Tu = 20.0 kip-ft/ft\n"
     ]
    }
   ],
   "source": [
    "SW = conc_density * b * h / 12**2 #plf\n",
    "DL = 15 #psf\n",
    "LL = 40 #psf\n",
    "\n",
    "LN = ln / 12 #ft\n",
    "trib = 15 #ft\n",
    "D = DL * trib / 12 + SW #plf\n",
    "L = LL * trib / 12 #plf\n",
    "w_u = load_combos.LRFD(D, L) #plf\n",
    "\n",
    "Mu = w_u * LN**2 / 8 / 1000 #kip-ft\n",
    "Vu = w_u * LN / 2 / 1000 #kips\n",
    "Tu = 4 * LN / 2 #kip-ft\n",
    "print(f\"Mu = {round(Mu, 2)} kip-ft\")\n",
    "print(f\"Vu = {round(Vu, 2)} kips\")\n",
    "print(f\"Tu = {round(Tu, 2)} kip-ft/ft\")"
   ]
  },
  {
   "attachments": {},
   "cell_type": "markdown",
   "id": "7a09eaad",
   "metadata": {},
   "source": [
    "### Materials and Geometry"
   ]
  },
  {
   "cell_type": "code",
   "execution_count": 180,
   "id": "7e902383",
   "metadata": {},
   "outputs": [
    {
     "data": {
      "text/plain": [
       "'Av = 0.4 in^2'"
      ]
     },
     "execution_count": 180,
     "metadata": {},
     "output_type": "execute_result"
    }
   ],
   "source": [
    "# Shear Stirrups\n",
    "stirrup_size = \"#4\"\n",
    "num_legs = 2\n",
    "s = 12 #in O.C.\n",
    "\n",
    "db_tie = rebar.loc[stirrup_size, \"Diameter\"]\n",
    "Av_placed = num_legs * rebar.loc[stirrup_size, \"Area\"]\n",
    "f\"Av = {round(Av_placed, 2)} in^2\""
   ]
  },
  {
   "cell_type": "code",
   "execution_count": 181,
   "id": "a15f642b",
   "metadata": {},
   "outputs": [
    {
     "name": "stdout",
     "output_type": "stream",
     "text": [
      "d_t = 15.436 in\n",
      "As = 4.0 in^2\n"
     ]
    }
   ],
   "source": [
    "# Tension Face Longitudinal Reinforcement\n",
    "bar = \"#9\"\n",
    "Ab_t = rebar.loc[bar, \"Area\"]\n",
    "db_t = rebar.loc[bar, \"Diameter\"]\n",
    "n = 4 #number of bars\n",
    "layers = 1\n",
    "\n",
    "d_t = h - cover_b - db_tie - db_t/2\n",
    "print(f\"d_t = {round(d_t, 3)} in\")\n",
    "\n",
    "As_t_placed = n * Ab_t #in^2\n",
    "print(f\"As = {round(As_t_placed, 3)} in^2\")"
   ]
  },
  {
   "cell_type": "code",
   "execution_count": 182,
   "id": "399cd7d0",
   "metadata": {},
   "outputs": [
    {
     "name": "stdout",
     "output_type": "stream",
     "text": [
      "d_c = 2.564 in\n",
      "As = 4.0 in^2\n"
     ]
    }
   ],
   "source": [
    "# Compression Face Longitudinal Reinforcement\n",
    "bar = \"#9\"\n",
    "Ab_c = rebar.loc[bar, \"Area\"]\n",
    "db_c = rebar.loc[bar, \"Diameter\"]\n",
    "n = 4 #number of bars\n",
    "layers = 1\n",
    "\n",
    "d_c = cover_t + db_tie + db_c/2\n",
    "print(f\"d_c = {round(d_c, 3)} in\")\n",
    "\n",
    "As_c_placed = n * Ab_c #compression reinforcement\n",
    "print(f\"As = {round(As_c_placed, 3)} in^2\")"
   ]
  },
  {
   "cell_type": "code",
   "execution_count": 183,
   "id": "65a0ed0b",
   "metadata": {},
   "outputs": [],
   "source": [
    "# Percentage of reinforcement reserved for Torsion resistance\n",
    "percent_long_for_torsion = 25 #%\n",
    "percent_ties_for_torsion = 50 #%"
   ]
  },
  {
   "attachments": {},
   "cell_type": "markdown",
   "id": "fbf473d7",
   "metadata": {},
   "source": [
    "## Strength Design"
   ]
  },
  {
   "attachments": {},
   "cell_type": "markdown",
   "id": "2252363f",
   "metadata": {},
   "source": [
    "### $\\phi$ Mn $\\geq$ Mu"
   ]
  },
  {
   "cell_type": "code",
   "execution_count": 184,
   "id": "5e92d440",
   "metadata": {},
   "outputs": [
    {
     "name": "stdout",
     "output_type": "stream",
     "text": [
      "4.0\n"
     ]
    }
   ],
   "source": [
    "include_compression_steel = \"Yes\"\n",
    "if include_compression_steel == \"No\":\n",
    "    As_c = 0\n",
    "\n",
    "print(As_c)"
   ]
  },
  {
   "cell_type": "code",
   "execution_count": 185,
   "id": "87b6bdbd",
   "metadata": {},
   "outputs": [],
   "source": [
    "As_t = As_t_placed * (100-percent_long_for_torsion)/100 #in^2\n",
    "As_c = As_c_placed * (100-percent_long_for_torsion)/100 #in^2"
   ]
  },
  {
   "attachments": {},
   "cell_type": "markdown",
   "id": "51462e12",
   "metadata": {},
   "source": [
    "#### $\\phi$ Factor Calculation"
   ]
  },
  {
   "cell_type": "code",
   "execution_count": 186,
   "id": "44ae445c",
   "metadata": {},
   "outputs": [
    {
     "data": {
      "text/plain": [
       "(3.2316043449791945, 2.7468636932323154, 0.011329724513443844, 0.003, 0.9)"
      ]
     },
     "execution_count": 186,
     "metadata": {},
     "output_type": "execute_result"
    }
   ],
   "source": [
    "c = bm.compression_block(As_t, fy, Es, b, fc, Apr_s=As_t, dpr=d_c) \n",
    "a = bm.equiv_compr_block(c)\n",
    "eps_t = bm.tension_steel_strain(d_t, c)\n",
    "eps_cs = bm.compr_steel_strain(c, eps_t, d_t)\n",
    "φ_b = bm.phi_factor(eps_t, fy, Es)\n",
    "\n",
    "c, a, eps_t, eps_cs, φ_b"
   ]
  },
  {
   "attachments": {},
   "cell_type": "markdown",
   "id": "ed4e3363",
   "metadata": {},
   "source": [
    "#### Flexural Strength"
   ]
  },
  {
   "cell_type": "code",
   "execution_count": 187,
   "id": "76b13244",
   "metadata": {},
   "outputs": [
    {
     "name": "stdout",
     "output_type": "stream",
     "text": [
      "φ_b = 0.9\n",
      "Mu = 6.34 kip-ft\n",
      "Mn = 193.08 kip-ft\n",
      "φMn = 173.77 kip-ft\n"
     ]
    },
    {
     "data": {
      "text/plain": [
       "'DCR = 0.037'"
      ]
     },
     "execution_count": 187,
     "metadata": {},
     "output_type": "execute_result"
    }
   ],
   "source": [
    "fs = min(eps_cs * Es, fy) #psi (negative strain)\n",
    "\n",
    "C_s = As_c * fs #lbs\n",
    "C_c = As_t*fy - C_s #lbs\n",
    "T = As_t * fy #lbs\n",
    "\n",
    "Mn = T*d_t - C_c*a/2 - C_s*d_c #lb-in\n",
    "φMn = φ_b * Mn\n",
    "\n",
    "print(f\"φ_b = {round(φ_b, 3)}\")\n",
    "print(f\"Mu = {round(Mu, 2)} kip-ft\")\n",
    "print(f\"Mn = {round(Mn / 12 / 1000, 2)} kip-ft\")\n",
    "print(f\"φMn = {round(φMn / 12 / 1000, 2)} kip-ft\")\n",
    "f\"DCR = {round(Mu / (φMn / 12 / 1000), 3)}\""
   ]
  },
  {
   "cell_type": "code",
   "execution_count": 188,
   "id": "73f61981",
   "metadata": {},
   "outputs": [
    {
     "data": {
      "text/plain": [
       "(2316.96, 180.0, 0.0)"
      ]
     },
     "execution_count": 188,
     "metadata": {},
     "output_type": "execute_result"
    }
   ],
   "source": [
    "Mn /1000, C_s/1000, C_c/1000"
   ]
  },
  {
   "attachments": {},
   "cell_type": "markdown",
   "id": "b581724a",
   "metadata": {},
   "source": [
    "### $\\phi$ Vn $\\geq$ Vu"
   ]
  },
  {
   "cell_type": "code",
   "execution_count": 189,
   "id": "815c3a0b",
   "metadata": {},
   "outputs": [],
   "source": [
    "Av = Av_placed * (100-percent_ties_for_torsion)/100 #in^2"
   ]
  },
  {
   "attachments": {},
   "cell_type": "markdown",
   "id": "79775e24",
   "metadata": {},
   "source": [
    "#### Shear Strength"
   ]
  },
  {
   "cell_type": "code",
   "execution_count": 190,
   "id": "8be58094",
   "metadata": {},
   "outputs": [
    {
     "data": {
      "text/plain": [
       "'Vc = 30436.72 lbs'"
      ]
     },
     "execution_count": 190,
     "metadata": {},
     "output_type": "execute_result"
    }
   ],
   "source": [
    "Vc = 2 * sqrt(fc) * b * d_t #lbs\n",
    "f\"Vc = {round(Vc, 2)} lbs\""
   ]
  },
  {
   "cell_type": "code",
   "execution_count": 191,
   "id": "9ae496a5",
   "metadata": {},
   "outputs": [
    {
     "data": {
      "text/plain": [
       "'Vs = 15436.0 lbs'"
      ]
     },
     "execution_count": 191,
     "metadata": {},
     "output_type": "execute_result"
    }
   ],
   "source": [
    "Vs = Av * fyt * d_t / s #lbs\n",
    "f\"Vs = {round(Vs, 2)} lbs\""
   ]
  },
  {
   "cell_type": "code",
   "execution_count": 192,
   "id": "74b0a836",
   "metadata": {},
   "outputs": [
    {
     "name": "stdout",
     "output_type": "stream",
     "text": [
      "Vn = 45872.72 lbs\n",
      "φVn = 34404.54 lbs\n"
     ]
    }
   ],
   "source": [
    "φ_v = 0.75\n",
    "Vn = Vc + Vs\n",
    "print(f\"Vn = {round(Vn, 2)} lbs\")\n",
    "print(f\"φVn = {round(φ_v * Vn, 2)} lbs\")"
   ]
  },
  {
   "cell_type": "code",
   "execution_count": 193,
   "id": "a55bc693",
   "metadata": {},
   "outputs": [
    {
     "data": {
      "text/plain": [
       "'DCR = 0.074'"
      ]
     },
     "execution_count": 193,
     "metadata": {},
     "output_type": "execute_result"
    }
   ],
   "source": [
    "f\"DCR = {round(Vu / (φ_v * Vn / 1000), 3)}\""
   ]
  },
  {
   "attachments": {},
   "cell_type": "markdown",
   "id": "4db3528a",
   "metadata": {},
   "source": [
    "### $\\phi$ Tn $\\geq$ Tu"
   ]
  },
  {
   "cell_type": "markdown",
   "id": "d5828fa9",
   "metadata": {},
   "source": [
    "- Nonprestressed member with no significant axial force"
   ]
  },
  {
   "cell_type": "code",
   "execution_count": 194,
   "id": "81cc7cdc",
   "metadata": {},
   "outputs": [
    {
     "data": {
      "text/plain": [
       "'Threshold Torsion, T_th = 6.655'"
      ]
     },
     "execution_count": 194,
     "metadata": {},
     "output_type": "execute_result"
    }
   ],
   "source": [
    "φ_tor = 0.75\n",
    "A_cp = h * b #in^2\n",
    "p_cp = 2*h + 2*b #in\n",
    "T_th = sqrt(fc) * (A_cp**2 / p_cp) / 12 / 1000 #kip-ft\n",
    "f\"Threshold Torsion, T_th = {round(T_th, 3)}\""
   ]
  },
  {
   "cell_type": "code",
   "execution_count": 195,
   "id": "7e1e2f8b",
   "metadata": {},
   "outputs": [
    {
     "data": {
      "text/plain": [
       "(False, True)"
      ]
     },
     "execution_count": 195,
     "metadata": {},
     "output_type": "execute_result"
    }
   ],
   "source": [
    "# ACI318-19 22.7.1.1 and 22.7.2.1\n",
    "Tu < φ_tor * T_th, sqrt(fc) < 100 #psi"
   ]
  },
  {
   "cell_type": "code",
   "execution_count": 196,
   "id": "66b91c09",
   "metadata": {},
   "outputs": [
    {
     "data": {
      "text/plain": [
       "'Tn = 27.768 kip-ft'"
      ]
     },
     "execution_count": 196,
     "metadata": {},
     "output_type": "execute_result"
    }
   ],
   "source": [
    "# Torsion Capacity Calculation\n",
    "\n",
    "#area of section for shear flow path\n",
    "A_oh = (h - cover_t - cover_b - db_tie) * (b - 2*cover_side - db_tie) #in^2\n",
    "A_o = 0.85 * A_oh #in^2\n",
    "\n",
    "#reinforcement used for Torsion\n",
    "A_l = percent_long_for_torsion/100 * (As_t_placed + As_c_placed) #in^2\n",
    "A_t = percent_ties_for_torsion/100 * Av_placed #in^2\n",
    "\n",
    "#space truss strut angle from tie spacing and depth\n",
    "strut_height = d_t - d_c #in\n",
    "strut_length = s #in\n",
    "θ = arctan(strut_height / strut_length) #rad\n",
    "\n",
    "#perimeter of the centerline of the outermost stirrup\n",
    "p_h = 2*(h - cover_t - cover_b - db_tie) + 2*(b - 2*cover_side - db_tie) #in\n",
    "\n",
    "Tn = min(\n",
    "    2 * A_o * A_t * fyt / tan(θ) / s,\n",
    "    2 * A_o * A_l * fy * tan(θ) / p_h,\n",
    ") #in-lbs\n",
    "\n",
    "f\"Tn = {round(Tn/12/1000, 3)} kip-ft\""
   ]
  },
  {
   "cell_type": "code",
   "execution_count": 197,
   "id": "92a09f25",
   "metadata": {},
   "outputs": [
    {
     "data": {
      "text/plain": [
       "'DCR = 0.96'"
      ]
     },
     "execution_count": 197,
     "metadata": {},
     "output_type": "execute_result"
    }
   ],
   "source": [
    "f\"DCR = {round(Tu / (φ_tor * Tn / 12/1000), 3)}\""
   ]
  },
  {
   "attachments": {},
   "cell_type": "markdown",
   "id": "992991e4",
   "metadata": {},
   "source": [
    "### $\\phi$ Pn $\\geq$ Pu"
   ]
  },
  {
   "attachments": {},
   "cell_type": "markdown",
   "id": "e0a1493e",
   "metadata": {},
   "source": [
    "## Deflection"
   ]
  },
  {
   "attachments": {},
   "cell_type": "markdown",
   "id": "d5f18d79",
   "metadata": {},
   "source": [
    "### Short-term Deflection"
   ]
  },
  {
   "cell_type": "code",
   "execution_count": 198,
   "id": "b49fc109",
   "metadata": {},
   "outputs": [
    {
     "data": {
      "text/plain": [
       "'Ma = 5078.12 lb-ft'"
      ]
     },
     "execution_count": 198,
     "metadata": {},
     "output_type": "execute_result"
    }
   ],
   "source": [
    "w_a = load_combos.ASD(D, L)\n",
    "\n",
    "Ma = w_a * LN**2 / 8 * 12 #lb-in\n",
    "f\"Ma = {round(Ma / 12, 2)} lb-ft\""
   ]
  },
  {
   "cell_type": "code",
   "execution_count": 199,
   "id": "6cdb243d",
   "metadata": {},
   "outputs": [
    {
     "name": "stdout",
     "output_type": "stream",
     "text": [
      "Ig = 8748.0 in\n"
     ]
    },
    {
     "data": {
      "text/plain": [
       "'Mcr = 33274.15 lb-ft'"
      ]
     },
     "execution_count": 199,
     "metadata": {},
     "output_type": "execute_result"
    }
   ],
   "source": [
    "fr = 7.5 * sqrt(fc) #psi\n",
    "Ig = b * h**3 / 12 #in^4\n",
    "print(f\"Ig = {round(Ig, 2)} in\")\n",
    "yt = h / 2 #in\n",
    "Mcr = fr * Ig / yt #lb-in\n",
    "f\"Mcr = {round(Mcr / 12, 2)} lb-ft\""
   ]
  },
  {
   "cell_type": "code",
   "execution_count": 200,
   "id": "15e6a290",
   "metadata": {},
   "outputs": [
    {
     "ename": "NameError",
     "evalue": "name 'elastic_modulus' is not defined",
     "output_type": "error",
     "traceback": [
      "\u001b[1;31m---------------------------------------------------------------------------\u001b[0m",
      "\u001b[1;31mNameError\u001b[0m                                 Traceback (most recent call last)",
      "\u001b[1;32mc:\\Users\\david\\OneDrive\\Desktop\\SSE Projects\\122314 Bouldin\\POOL grade beam torsion.ipynb Cell 41\u001b[0m line \u001b[0;36m2\n\u001b[0;32m      <a href='vscode-notebook-cell:/c%3A/Users/david/OneDrive/Desktop/SSE%20Projects/122314%20Bouldin/POOL%20grade%20beam%20torsion.ipynb#X44sZmlsZQ%3D%3D?line=0'>1</a>\u001b[0m \u001b[39m# Elastic Modulus\u001b[39;00m\n\u001b[1;32m----> <a href='vscode-notebook-cell:/c%3A/Users/david/OneDrive/Desktop/SSE%20Projects/122314%20Bouldin/POOL%20grade%20beam%20torsion.ipynb#X44sZmlsZQ%3D%3D?line=1'>2</a>\u001b[0m Ec \u001b[39m=\u001b[39m elastic_modulus(fc\u001b[39m=\u001b[39mfc) \u001b[39m#psi\u001b[39;00m\n\u001b[0;32m      <a href='vscode-notebook-cell:/c%3A/Users/david/OneDrive/Desktop/SSE%20Projects/122314%20Bouldin/POOL%20grade%20beam%20torsion.ipynb#X44sZmlsZQ%3D%3D?line=2'>3</a>\u001b[0m \u001b[39mprint\u001b[39m(\u001b[39mf\u001b[39m\u001b[39m\"\u001b[39m\u001b[39mEc = \u001b[39m\u001b[39m{\u001b[39;00m\u001b[39mround\u001b[39m(Ec,\u001b[39m \u001b[39m\u001b[39m2\u001b[39m)\u001b[39m}\u001b[39;00m\u001b[39m ksi\u001b[39m\u001b[39m\"\u001b[39m)\n\u001b[0;32m      <a href='vscode-notebook-cell:/c%3A/Users/david/OneDrive/Desktop/SSE%20Projects/122314%20Bouldin/POOL%20grade%20beam%20torsion.ipynb#X44sZmlsZQ%3D%3D?line=3'>4</a>\u001b[0m \u001b[39m# Moment of Inertia\u001b[39;00m\n",
      "\u001b[1;31mNameError\u001b[0m: name 'elastic_modulus' is not defined"
     ]
    }
   ],
   "source": [
    "# Elastic Modulus\n",
    "Ec = elastic_modulus(fc=fc) #psi\n",
    "print(f\"Ec = {round(Ec, 2)} ksi\")\n",
    "# Moment of Inertia\n",
    "Ie = Ig\n",
    "Icr = cracked_moment_inertia(b=b, d=d_t, Ec=Ec, As=As_t)\n",
    "# Icr = cracked_moment_inertia(b=b, h=h, d=d_t, d_c=d_c, Ec=Ec, As=As_t, As_c=As_c)\n",
    "print(f\"Icr = {round(Icr, 2)} in^4\")\n",
    "if Ma > 2/3*Mcr:\n",
    "    Ie = Icr / (1 - ((2/3)*Mcr/Ma)**2 * (1 - Icr/Ig))\n",
    "    print(f\"Ie = {round(Ie, 2)} in\")\n",
    "else:\n",
    "    print(\"section uncracked\")\n",
    "\n",
    "#Elastic Deflection\n",
    "defl_elastic = 5 * (w_a/12) * ln**4 / (384 * Ec * 1000 * Ie)\n",
    "f\"Elastic Deflection = {round(defl_elastic, 3)} in\""
   ]
  },
  {
   "attachments": {},
   "cell_type": "markdown",
   "id": "0dcbe14e",
   "metadata": {},
   "source": [
    "### Long-term Deflection"
   ]
  },
  {
   "cell_type": "code",
   "execution_count": null,
   "id": "fd94870e",
   "metadata": {},
   "outputs": [
    {
     "data": {
      "text/plain": [
       "'lmbda_dlt = 0.392'"
      ]
     },
     "execution_count": 69,
     "metadata": {},
     "output_type": "execute_result"
    }
   ],
   "source": [
    "# Deflection Factor\n",
    "xi = 2.0 #duration factor\n",
    "rho_c = As_c / (b * d_c)\n",
    "\n",
    "lmbda_dlt = xi / (1 + 50*rho_c)\n",
    "f\"lmbda_dlt = {round(lmbda_dlt, 3)}\""
   ]
  },
  {
   "cell_type": "code",
   "execution_count": null,
   "id": "e6da8ff2",
   "metadata": {
    "scrolled": true
   },
   "outputs": [
    {
     "data": {
      "text/plain": [
       "'Long-Term Deflection = 0.0 in'"
      ]
     },
     "execution_count": 70,
     "metadata": {},
     "output_type": "execute_result"
    }
   ],
   "source": [
    "# Long-Term Deflection\n",
    "defl_long = defl_elastic * lmbda_dlt #in\n",
    "f\"Long-Term Deflection = {round(defl_long, 3)} in\""
   ]
  },
  {
   "cell_type": "code",
   "execution_count": null,
   "id": "e87f7d45",
   "metadata": {},
   "outputs": [
    {
     "data": {
      "text/plain": [
       "'Total Deflection = 0.0 in'"
      ]
     },
     "execution_count": 71,
     "metadata": {},
     "output_type": "execute_result"
    }
   ],
   "source": [
    "# Total Deflection\n",
    "defl_total = defl_elastic + defl_long\n",
    "f\"Total Deflection = {round(defl_total, 3)} in\""
   ]
  },
  {
   "attachments": {},
   "cell_type": "markdown",
   "id": "eebcd791",
   "metadata": {},
   "source": [
    "## Minimum Requirements"
   ]
  },
  {
   "attachments": {},
   "cell_type": "markdown",
   "id": "33034601",
   "metadata": {},
   "source": [
    "### Dimension Requirements"
   ]
  },
  {
   "attachments": {},
   "cell_type": "markdown",
   "id": "9e6209f9",
   "metadata": {},
   "source": [
    "#### Minimum Beam Depth"
   ]
  },
  {
   "cell_type": "code",
   "execution_count": null,
   "id": "d7916721",
   "metadata": {},
   "outputs": [
    {
     "name": "stdout",
     "output_type": "stream",
     "text": [
      "h_min (simply supported) = 15.0 in\n",
      "h_min (one end continuous) = 12.97 in\n",
      "h_min (both ends continuous) = 11.43 in\n",
      "h_min (cantilever) = 30.0 in\n"
     ]
    }
   ],
   "source": [
    "h_min = ln / 16\n",
    "print(f\"h_min (simply supported) = {round(h_min, 2)} in\")\n",
    "\n",
    "h_min = ln / 18.5\n",
    "print(f\"h_min (one end continuous) = {round(h_min, 2)} in\")\n",
    "\n",
    "h_min = ln / 21\n",
    "print(f\"h_min (both ends continuous) = {round(h_min, 2)} in\")\n",
    "\n",
    "h_min = ln / 8\n",
    "print(f\"h_min (cantilever) = {round(h_min, 2)} in\")"
   ]
  },
  {
   "cell_type": "code",
   "execution_count": null,
   "id": "2dcc7f33",
   "metadata": {},
   "outputs": [
    {
     "data": {
      "text/plain": [
       "True"
      ]
     },
     "execution_count": 73,
     "metadata": {},
     "output_type": "execute_result"
    }
   ],
   "source": [
    "Vu <= φ_v * (Vc + 8*sqrt(fc) * b * d_t)"
   ]
  },
  {
   "attachments": {},
   "cell_type": "markdown",
   "id": "77f1c6d3",
   "metadata": {},
   "source": [
    "### Minimum Reinforcement"
   ]
  },
  {
   "attachments": {},
   "cell_type": "markdown",
   "id": "1b1b8e6a",
   "metadata": {},
   "source": [
    "#### Flexural Reinforcement"
   ]
  },
  {
   "cell_type": "code",
   "execution_count": null,
   "id": "39d23f06",
   "metadata": {},
   "outputs": [
    {
     "data": {
      "text/plain": [
       "'As,min = 1.606 in^2'"
      ]
     },
     "execution_count": 74,
     "metadata": {},
     "output_type": "execute_result"
    }
   ],
   "source": [
    "As_min = max(3*sqrt(fc)/fy, 300/fy) * b * d_t #in^2\n",
    "\n",
    "f\"As,min = {round(As_min, 3)} in^2\""
   ]
  },
  {
   "attachments": {},
   "cell_type": "markdown",
   "id": "f93b8b9b",
   "metadata": {},
   "source": [
    "#### Shear Reinforcement"
   ]
  },
  {
   "cell_type": "code",
   "execution_count": null,
   "id": "39376361",
   "metadata": {},
   "outputs": [
    {
     "name": "stdout",
     "output_type": "stream",
     "text": [
      "Shear reinforcement not required\n"
     ]
    }
   ],
   "source": [
    "if Vu > φ_v*sqrt(fc)*b*d_t:\n",
    "    Av_min = max(0.75*sqrt(fc), 50) * b / fyt #in^2\n",
    "    print(f\"Av,min = {round(Av_min, 3)} in^2\")\n",
    "else:\n",
    "    Av_min = 0\n",
    "    print(\"Shear reinforcement not required\")"
   ]
  },
  {
   "attachments": {},
   "cell_type": "markdown",
   "id": "81f79316",
   "metadata": {},
   "source": [
    "#### Torsional Reinforcement"
   ]
  },
  {
   "cell_type": "code",
   "execution_count": null,
   "id": "8966d76e",
   "metadata": {},
   "outputs": [],
   "source": []
  }
 ],
 "metadata": {
  "kernelspec": {
   "display_name": "VENV_MAC",
   "language": "python",
   "name": "python3"
  },
  "language_info": {
   "codemirror_mode": {
    "name": "ipython",
    "version": 3
   },
   "file_extension": ".py",
   "mimetype": "text/x-python",
   "name": "python",
   "nbconvert_exporter": "python",
   "pygments_lexer": "ipython3",
   "version": "3.11.6"
  }
 },
 "nbformat": 4,
 "nbformat_minor": 5
}
