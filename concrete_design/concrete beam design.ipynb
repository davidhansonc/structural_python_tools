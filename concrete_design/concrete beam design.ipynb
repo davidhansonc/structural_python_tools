{
 "cells": [
  {
   "cell_type": "code",
   "execution_count": 7,
   "id": "12f1dca6",
   "metadata": {},
   "outputs": [
    {
     "data": {
      "text/latex": [
       "\\newpage"
      ],
      "text/plain": [
       "<IPython.core.display.Latex object>"
      ]
     },
     "metadata": {},
     "output_type": "display_data"
    }
   ],
   "source": [
    "# Import Python Tools:\n",
    "from IPython.display import display, Latex\n",
    "import pandas as pd\n",
    "import numpy as np\n",
    "from numpy import sqrt, pi, average, cos, sin, tan, arcsin, arccos, arctan, deg2rad, rad2deg\n",
    "\n",
    "from ASCE import load_combos\n",
    "from steel_design.AISC import aisc\n",
    "from concrete_design.material_properties import elastic_modulus, cracked_moment_inertia\n",
    "from concrete_design.steel_reinforcement import rebar_df as rebar\n",
    "conc_density = 150.0 #pcf\n",
    "steel_density = 0.2833 #pci\n",
    "\n",
    "display(Latex(r\"\\newpage\")) #pagebreak"
   ]
  },
  {
   "attachments": {},
   "cell_type": "markdown",
   "id": "79fc1b6a",
   "metadata": {},
   "source": [
    "# Concrete Beam Design\n",
    "## Inputs"
   ]
  },
  {
   "attachments": {},
   "cell_type": "markdown",
   "id": "7a09eaad",
   "metadata": {},
   "source": [
    "### Materials and Geometry"
   ]
  },
  {
   "cell_type": "code",
   "execution_count": 8,
   "id": "68b69d09",
   "metadata": {},
   "outputs": [],
   "source": [
    "# Materials\n",
    "fc = 3000 #psi\n",
    "fy = 60000 #psi\n",
    "fyt = 60000 #psi\n",
    "Es = 29000000 #psi\n",
    "\n",
    "# Dimensions\n",
    "ln = 24.5 * 12 #in\n",
    "b = 18.0 #in\n",
    "h = 30 #in\n",
    "cover_t = 1.5 #in\n",
    "cover_b = 1.5 #in"
   ]
  },
  {
   "attachments": {},
   "cell_type": "markdown",
   "id": "fe6e9a44",
   "metadata": {},
   "source": [
    "### Loads"
   ]
  },
  {
   "cell_type": "code",
   "execution_count": 9,
   "id": "7bcebe1d",
   "metadata": {},
   "outputs": [
    {
     "name": "stdout",
     "output_type": "stream",
     "text": [
      "Mu = 5.09 lb-ft\n",
      "Vu = 9.97 lbs\n"
     ]
    }
   ],
   "source": [
    "SW = conc_density * b * h / 12**2 #plf\n",
    "DL = 15 #psf\n",
    "LL = 40 #psf\n",
    "\n",
    "LN = ln / 12 #ft\n",
    "trib = 15 #ft\n",
    "D = DL * trib / 12 + SW #plf\n",
    "L = LL * trib / 12 #plf\n",
    "w_u = load_combos.LRFD(D, L) #plf\n",
    "\n",
    "Mu = w_u * LN**2 / 8 / 1000 #kip-ft\n",
    "Vu = w_u * LN / 2 / 1000 #kips\n",
    "print(f\"Mu = {round(Mu / 12, 2)} lb-ft\")\n",
    "print(f\"Vu = {round(Vu, 2)} lbs\")"
   ]
  },
  {
   "attachments": {},
   "cell_type": "markdown",
   "id": "fbf473d7",
   "metadata": {},
   "source": [
    "## Strength Design"
   ]
  },
  {
   "attachments": {},
   "cell_type": "markdown",
   "id": "2252363f",
   "metadata": {},
   "source": [
    "### $\\phi$Mn $\\geq$ Mu"
   ]
  },
  {
   "attachments": {},
   "cell_type": "markdown",
   "id": "11069382",
   "metadata": {},
   "source": [
    "#### Steel Input"
   ]
  },
  {
   "cell_type": "code",
   "execution_count": 10,
   "id": "5db00503",
   "metadata": {},
   "outputs": [
    {
     "name": "stdout",
     "output_type": "stream",
     "text": [
      "d_t = 28.125 in\n",
      "As = 1.32 in^2\n"
     ]
    }
   ],
   "source": [
    "# Tension Steel\n",
    "bar = \"#6\"\n",
    "Ab = rebar.loc[bar, \"Area\"]\n",
    "db = rebar.loc[bar, \"Diameter\"]\n",
    "n = 3 #number of bars\n",
    "layers = 1\n",
    "\n",
    "d_t = h - cover_b - db/2\n",
    "print(f\"d_t = {round(d_t, 3)} in\")\n",
    "\n",
    "As = n * Ab #in^2\n",
    "As_ft = As * 12 / b\n",
    "print(f\"As = {round(As, 3)} in^2\")"
   ]
  },
  {
   "cell_type": "code",
   "execution_count": 11,
   "id": "15bfc616",
   "metadata": {},
   "outputs": [
    {
     "name": "stdout",
     "output_type": "stream",
     "text": [
      "d_c = 1.875 in\n",
      "As = 1.32 in^2\n"
     ]
    }
   ],
   "source": [
    "# Compression Steel\n",
    "bar = \"#6\"\n",
    "Ab_c = rebar.loc[bar, \"Area\"]\n",
    "db_c = rebar.loc[bar, \"Diameter\"]\n",
    "n = 3 #number of bars\n",
    "layers = 1\n",
    "\n",
    "As_c = n * Ab_c #compression reinforcement\n",
    "d_c = cover_t + db_c/2\n",
    "print(f\"d_c = {round(d_c, 3)} in\")\n",
    "\n",
    "print(f\"As = {round(As, 3)} in^2\")"
   ]
  },
  {
   "cell_type": "code",
   "execution_count": 12,
   "id": "5e92d440",
   "metadata": {},
   "outputs": [],
   "source": [
    "include_compression_steel = \"Yes\"\n",
    "if include_compression_steel == \"No\":\n",
    "    As_c = 0"
   ]
  },
  {
   "attachments": {},
   "cell_type": "markdown",
   "id": "51462e12",
   "metadata": {},
   "source": [
    "#### $\\phi$ Factor Calculation"
   ]
  },
  {
   "cell_type": "code",
   "execution_count": 13,
   "id": "80bebe30",
   "metadata": {},
   "outputs": [
    {
     "name": "stdout",
     "output_type": "stream",
     "text": [
      "a = 1.725 in, c = 1.467 in\n",
      "eps_t = 0.05453 in/in\n"
     ]
    }
   ],
   "source": [
    "beta_1 = 0.85\n",
    "a = As * fy / (0.85 * fc * b)\n",
    "c = beta_1 * a\n",
    "print(f\"a = {round(a, 3)} in, c = {round(c, 3)} in\")\n",
    "\n",
    "eps_ty = fy / Es\n",
    "eps_cu = 0.003\n",
    "\n",
    "eps_t = eps_cu * (d_t - c)/c\n",
    "print(f\"eps_t = {round(eps_t, 5)} in/in\")"
   ]
  },
  {
   "cell_type": "code",
   "execution_count": 14,
   "id": "3df4f911",
   "metadata": {},
   "outputs": [
    {
     "data": {
      "text/plain": [
       "'phi_b = 0.9'"
      ]
     },
     "execution_count": 14,
     "metadata": {},
     "output_type": "execute_result"
    }
   ],
   "source": [
    "if eps_t >= eps_ty + 0.003:\n",
    "    phi_b = 0.9\n",
    "elif eps_t <= eps_ty:\n",
    "    phi_b = 0.65\n",
    "else:\n",
    "    phi_b = 0.65 + 0.35 * (eps_t - eps_ty) / 0.003\n",
    "\n",
    "f\"phi_b = {round(phi_b, 3)}\""
   ]
  },
  {
   "attachments": {},
   "cell_type": "markdown",
   "id": "ed4e3363",
   "metadata": {},
   "source": [
    "#### Flexural Strength"
   ]
  },
  {
   "cell_type": "code",
   "execution_count": 15,
   "id": "76b13244",
   "metadata": {},
   "outputs": [
    {
     "name": "stdout",
     "output_type": "stream",
     "text": [
      "Mu = 61.06 kip-ft\n",
      "phiMn = 317.86 kip-ft\n"
     ]
    },
    {
     "data": {
      "text/plain": [
       "True"
      ]
     },
     "execution_count": 15,
     "metadata": {},
     "output_type": "execute_result"
    }
   ],
   "source": [
    "Mn = As * fy * (d_t - a/2) + As_c * fy * (d_t-d_c)\n",
    "phiMn = phi_b * Mn\n",
    "\n",
    "print(f\"Mu = {round(Mu, 2)} kip-ft\")\n",
    "print(f\"phiMn = {round(phiMn / 12 / 1000, 2)} kip-ft\")\n",
    "phiMn > Mu"
   ]
  },
  {
   "attachments": {},
   "cell_type": "markdown",
   "id": "b581724a",
   "metadata": {},
   "source": [
    "### $\\phi$Vn $\\geq$ Vu"
   ]
  },
  {
   "attachments": {},
   "cell_type": "markdown",
   "id": "1ff2a155",
   "metadata": {},
   "source": [
    "#### Steel Input"
   ]
  },
  {
   "cell_type": "code",
   "execution_count": 16,
   "id": "f70daa37",
   "metadata": {},
   "outputs": [
    {
     "data": {
      "text/plain": [
       "'Av = 0.4 in^2'"
      ]
     },
     "execution_count": 16,
     "metadata": {},
     "output_type": "execute_result"
    }
   ],
   "source": [
    "stirrup_size = \"#4\"\n",
    "no_legs = 2\n",
    "\n",
    "Av = no_legs * rebar.loc[stirrup_size, \"Area\"]\n",
    "f\"Av = {round(Av, 2)} in^2\""
   ]
  },
  {
   "attachments": {},
   "cell_type": "markdown",
   "id": "79775e24",
   "metadata": {},
   "source": [
    "#### Shear Strength"
   ]
  },
  {
   "cell_type": "code",
   "execution_count": 31,
   "id": "8be58094",
   "metadata": {},
   "outputs": [
    {
     "data": {
      "text/plain": [
       "'Vc = 55.46 kips'"
      ]
     },
     "execution_count": 31,
     "metadata": {},
     "output_type": "execute_result"
    }
   ],
   "source": [
    "Vc = 2 * sqrt(fc) * b * d_t #lbs\n",
    "f\"Vc = {round(Vc / 1000, 2)} kips\""
   ]
  },
  {
   "cell_type": "code",
   "execution_count": 32,
   "id": "9ae496a5",
   "metadata": {},
   "outputs": [
    {
     "data": {
      "text/plain": [
       "'Vs = 56.25 kips'"
      ]
     },
     "execution_count": 32,
     "metadata": {},
     "output_type": "execute_result"
    }
   ],
   "source": [
    "s = 12 #in O.C.\n",
    "Vs = Av * fyt * d_t / s #lbs\n",
    "f\"Vs = {round(Vs / 1000, 2)} kips\""
   ]
  },
  {
   "cell_type": "code",
   "execution_count": 33,
   "id": "74b0a836",
   "metadata": {},
   "outputs": [
    {
     "name": "stdout",
     "output_type": "stream",
     "text": [
      "Vn = 111.71 kips\n",
      "phiVn = 83.78 kips\n"
     ]
    }
   ],
   "source": [
    "phi_v = 0.75\n",
    "Vn = Vc + Vs\n",
    "print(f\"Vn = {round(Vn / 1000, 2)} kips\")\n",
    "print(f\"phiVn = {round(phi_v * Vn / 1000, 2)} kips\")"
   ]
  },
  {
   "cell_type": "code",
   "execution_count": 34,
   "id": "a55bc693",
   "metadata": {},
   "outputs": [
    {
     "data": {
      "text/plain": [
       "True"
      ]
     },
     "execution_count": 34,
     "metadata": {},
     "output_type": "execute_result"
    }
   ],
   "source": [
    "phi_v * Vn >= Vu"
   ]
  },
  {
   "attachments": {},
   "cell_type": "markdown",
   "id": "4db3528a",
   "metadata": {},
   "source": [
    "### $\\phi$ Tn $\\geq$ Tu"
   ]
  },
  {
   "attachments": {},
   "cell_type": "markdown",
   "id": "992991e4",
   "metadata": {},
   "source": [
    "### $\\phi$ Pn $\\geq$ Pu"
   ]
  },
  {
   "attachments": {},
   "cell_type": "markdown",
   "id": "e0a1493e",
   "metadata": {},
   "source": [
    "## Deflection"
   ]
  },
  {
   "attachments": {},
   "cell_type": "markdown",
   "id": "d5f18d79",
   "metadata": {},
   "source": [
    "### Short-term Deflection"
   ]
  },
  {
   "cell_type": "code",
   "execution_count": 21,
   "id": "b49fc109",
   "metadata": {},
   "outputs": [
    {
     "data": {
      "text/plain": [
       "'Ma = 47363.48 lb-ft'"
      ]
     },
     "execution_count": 21,
     "metadata": {},
     "output_type": "execute_result"
    }
   ],
   "source": [
    "w_a = load_combos.ASD(D, L)\n",
    "\n",
    "Ma = w_a * LN**2 / 8 * 12 #lb-in\n",
    "f\"Ma = {round(Ma / 12, 2)} lb-ft\""
   ]
  },
  {
   "cell_type": "code",
   "execution_count": 22,
   "id": "6cdb243d",
   "metadata": {},
   "outputs": [
    {
     "name": "stdout",
     "output_type": "stream",
     "text": [
      "Ig = 40500.0 in\n"
     ]
    },
    {
     "data": {
      "text/plain": [
       "'Mcr = 92428.18 lb-ft'"
      ]
     },
     "execution_count": 22,
     "metadata": {},
     "output_type": "execute_result"
    }
   ],
   "source": [
    "fr = 7.5 * sqrt(fc) #psi\n",
    "Ig = b * h**3 / 12 #in^4\n",
    "print(f\"Ig = {round(Ig, 2)} in\")\n",
    "yt = h / 2 #in\n",
    "Mcr = fr * Ig / yt #lb-in\n",
    "f\"Mcr = {round(Mcr / 12, 2)} lb-ft\""
   ]
  },
  {
   "cell_type": "code",
   "execution_count": 23,
   "id": "15e6a290",
   "metadata": {},
   "outputs": [
    {
     "name": "stdout",
     "output_type": "stream",
     "text": [
      "Ec = 3320.56 ksi\n",
      "Icr = 6939.51 in^4\n",
      "section uncracked\n"
     ]
    },
    {
     "data": {
      "text/plain": [
       "'Elastic Deflection = 0.038 in'"
      ]
     },
     "execution_count": 23,
     "metadata": {},
     "output_type": "execute_result"
    }
   ],
   "source": [
    "# Elastic Modulus\n",
    "Ec = elastic_modulus(fc=fc) #ksi\n",
    "print(f\"Ec = {round(Ec, 2)} ksi\")\n",
    "# Moment of Inertia\n",
    "Ie = Ig\n",
    "Icr = cracked_moment_inertia(b=b, h=h, d=d_t, d_c=d_c, Ec=Ec, As=As, As_c=As_c)\n",
    "print(f\"Icr = {round(Icr, 2)} in^4\")\n",
    "if Ma > 2/3*Mcr:\n",
    "    Ie = Icr / (1 - ((2/3)*Mcr/Ma)**2 * (1 - Icr/Ig))\n",
    "    print(f\"Ie = {round(Ie, 2)} in\")\n",
    "else:\n",
    "    print(\"section uncracked\")\n",
    "\n",
    "#Elastic Deflection\n",
    "defl_elastic = 5 * (w_a/12) * ln**4 / (384 * Ec * 1000 * Ie)\n",
    "f\"Elastic Deflection = {round(defl_elastic, 3)} in\""
   ]
  },
  {
   "attachments": {},
   "cell_type": "markdown",
   "id": "0dcbe14e",
   "metadata": {},
   "source": [
    "### Long-term Deflection"
   ]
  },
  {
   "cell_type": "code",
   "execution_count": 24,
   "id": "fd94870e",
   "metadata": {},
   "outputs": [
    {
     "data": {
      "text/plain": [
       "'lmbda_dlt = 0.677'"
      ]
     },
     "execution_count": 24,
     "metadata": {},
     "output_type": "execute_result"
    }
   ],
   "source": [
    "# Deflection Factor\n",
    "xi = 2.0 #duration factor\n",
    "rho_c = As_c / (b * d_c)\n",
    "\n",
    "lmbda_dlt = xi / (1 + 50*rho_c)\n",
    "f\"lmbda_dlt = {round(lmbda_dlt, 3)}\""
   ]
  },
  {
   "cell_type": "code",
   "execution_count": 25,
   "id": "e6da8ff2",
   "metadata": {
    "scrolled": true
   },
   "outputs": [
    {
     "data": {
      "text/plain": [
       "'Long-Term Deflection = 0.026 in'"
      ]
     },
     "execution_count": 25,
     "metadata": {},
     "output_type": "execute_result"
    }
   ],
   "source": [
    "# Long-Term Deflection\n",
    "defl_long = defl_elastic * lmbda_dlt #in\n",
    "f\"Long-Term Deflection = {round(defl_long, 3)} in\""
   ]
  },
  {
   "cell_type": "code",
   "execution_count": 26,
   "id": "e87f7d45",
   "metadata": {},
   "outputs": [
    {
     "data": {
      "text/plain": [
       "'Total Deflection = 0.064 in'"
      ]
     },
     "execution_count": 26,
     "metadata": {},
     "output_type": "execute_result"
    }
   ],
   "source": [
    "# Total Deflection\n",
    "defl_total = defl_elastic + defl_long\n",
    "f\"Total Deflection = {round(defl_total, 3)} in\""
   ]
  },
  {
   "attachments": {},
   "cell_type": "markdown",
   "id": "eebcd791",
   "metadata": {},
   "source": [
    "## Minimum Requirements"
   ]
  },
  {
   "attachments": {},
   "cell_type": "markdown",
   "id": "33034601",
   "metadata": {},
   "source": [
    "### Dimension Requirements"
   ]
  },
  {
   "attachments": {},
   "cell_type": "markdown",
   "id": "9e6209f9",
   "metadata": {},
   "source": [
    "#### Minimum Beam Depth"
   ]
  },
  {
   "cell_type": "code",
   "execution_count": 27,
   "id": "d7916721",
   "metadata": {},
   "outputs": [
    {
     "name": "stdout",
     "output_type": "stream",
     "text": [
      "h_min (simply supported) = 18.38 in\n",
      "h_min (one end continuous) = 15.89 in\n",
      "h_min (both ends continuous) = 14.0 in\n",
      "h_min (cantilever) = 36.75 in\n"
     ]
    }
   ],
   "source": [
    "h_min = ln / 16\n",
    "print(f\"h_min (simply supported) = {round(h_min, 2)} in\")\n",
    "\n",
    "h_min = ln / 18.5\n",
    "print(f\"h_min (one end continuous) = {round(h_min, 2)} in\")\n",
    "\n",
    "h_min = ln / 21\n",
    "print(f\"h_min (both ends continuous) = {round(h_min, 2)} in\")\n",
    "\n",
    "h_min = ln / 8\n",
    "print(f\"h_min (cantilever) = {round(h_min, 2)} in\")"
   ]
  },
  {
   "cell_type": "code",
   "execution_count": 28,
   "id": "2dcc7f33",
   "metadata": {},
   "outputs": [
    {
     "data": {
      "text/plain": [
       "True"
      ]
     },
     "execution_count": 28,
     "metadata": {},
     "output_type": "execute_result"
    }
   ],
   "source": [
    "Vu <= phi_v * (Vc + 8*sqrt(fc) * b * d_t)"
   ]
  },
  {
   "attachments": {},
   "cell_type": "markdown",
   "id": "77f1c6d3",
   "metadata": {},
   "source": [
    "### Minimum Reinforcement"
   ]
  },
  {
   "attachments": {},
   "cell_type": "markdown",
   "id": "1b1b8e6a",
   "metadata": {},
   "source": [
    "#### Flexural Reinforcement"
   ]
  },
  {
   "cell_type": "code",
   "execution_count": 29,
   "id": "39d23f06",
   "metadata": {},
   "outputs": [
    {
     "data": {
      "text/plain": [
       "'As,min = 2.531 in^2'"
      ]
     },
     "execution_count": 29,
     "metadata": {},
     "output_type": "execute_result"
    }
   ],
   "source": [
    "As_min = max(3*sqrt(fc)/fy, 300/fy) * b * d_t #in^2\n",
    "\n",
    "f\"As,min = {round(As_min, 3)} in^2\""
   ]
  },
  {
   "attachments": {},
   "cell_type": "markdown",
   "id": "f93b8b9b",
   "metadata": {},
   "source": [
    "#### Shear Reinforcement"
   ]
  },
  {
   "cell_type": "code",
   "execution_count": 30,
   "id": "39376361",
   "metadata": {},
   "outputs": [
    {
     "name": "stdout",
     "output_type": "stream",
     "text": [
      "Shear reinforcement not required\n"
     ]
    }
   ],
   "source": [
    "if Vu > phi_v*sqrt(fc)*b*d_t:\n",
    "    Av_min = max(0.75*sqrt(fc), 50) * b / fyt #in^2\n",
    "    print(f\"Av,min = {round(Av_min, 3)} in^2\")\n",
    "else:\n",
    "    Av_min = 0\n",
    "    print(\"Shear reinforcement not required\")"
   ]
  },
  {
   "attachments": {},
   "cell_type": "markdown",
   "id": "81f79316",
   "metadata": {},
   "source": [
    "#### Torsional Reinforcement"
   ]
  },
  {
   "cell_type": "code",
   "execution_count": null,
   "id": "8966d76e",
   "metadata": {},
   "outputs": [],
   "source": []
  }
 ],
 "metadata": {
  "kernelspec": {
   "display_name": "Python 3 (ipykernel)",
   "language": "python",
   "name": "python3"
  },
  "language_info": {
   "codemirror_mode": {
    "name": "ipython",
    "version": 3
   },
   "file_extension": ".py",
   "mimetype": "text/x-python",
   "name": "python",
   "nbconvert_exporter": "python",
   "pygments_lexer": "ipython3",
   "version": "3.11.3"
  }
 },
 "nbformat": 4,
 "nbformat_minor": 5
}
