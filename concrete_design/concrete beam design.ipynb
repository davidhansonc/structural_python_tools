{
 "cells": [
  {
   "cell_type": "code",
   "execution_count": 1,
   "id": "12f1dca6",
   "metadata": {},
   "outputs": [
    {
     "data": {
      "text/latex": [
       "\\newpage"
      ],
      "text/plain": [
       "<IPython.core.display.Latex object>"
      ]
     },
     "metadata": {},
     "output_type": "display_data"
    }
   ],
   "source": [
    "# Import Python Tools:\n",
    "from IPython.display import display, Latex\n",
    "import pandas as pd\n",
    "import numpy as np\n",
    "from numpy import sqrt, pi, average, cos, sin, tan, arcsin, arccos, arctan, deg2rad, rad2deg\n",
    "\n",
    "from ASCE import load_combos\n",
    "from steel_design.AISC import aisc\n",
    "from concrete_design.material_properties import elastic_modulus, cracked_moment_inertia\n",
    "from concrete_design.steel_reinforcement import rebar_df as rebar\n",
    "from concrete_design.beam_calculations import design_properties as bm\n",
    "conc_density = 150.0 #pcf\n",
    "steel_density = 0.2833 #pci\n",
    "\n",
    "display(Latex(r\"\\newpage\")) #pagebreak"
   ]
  },
  {
   "attachments": {},
   "cell_type": "markdown",
   "id": "79fc1b6a",
   "metadata": {},
   "source": [
    "# Concrete Beam Design\n",
    "## Inputs"
   ]
  },
  {
   "cell_type": "code",
   "execution_count": 2,
   "id": "544a036c",
   "metadata": {},
   "outputs": [],
   "source": [
    "# Materials\n",
    "fc = 6000 #psi\n",
    "fy = 60000 #psi\n",
    "fyt = 60000 #psi\n",
    "Es = 29000000 #psi\n",
    "\n",
    "# Dimensions\n",
    "b = 15 #in\n",
    "h = 24 #in\n",
    "ln = 20*12 #in\n",
    "cover_t = 1.5 #in\n",
    "cover_b = 1.5 #in"
   ]
  },
  {
   "attachments": {},
   "cell_type": "markdown",
   "id": "5069af72",
   "metadata": {},
   "source": [
    "#### Deep beam check\n",
    "\n",
    "- span does not exceed 4 * h\n",
    "\n",
    "- concentrated load exists within a distance 2h from face of support"
   ]
  },
  {
   "cell_type": "code",
   "execution_count": 3,
   "id": "0bbab1d3",
   "metadata": {},
   "outputs": [
    {
     "name": "stdout",
     "output_type": "stream",
     "text": [
      "beam theory OK\n"
     ]
    }
   ],
   "source": [
    "if ln < 4*h:\n",
    "    print(\"DEEP BEAM\")\n",
    "else:\n",
    "    print(\"beam theory OK\")"
   ]
  },
  {
   "attachments": {},
   "cell_type": "markdown",
   "id": "ef838f77",
   "metadata": {},
   "source": [
    "### Loads"
   ]
  },
  {
   "cell_type": "code",
   "execution_count": 4,
   "id": "4d9b0542",
   "metadata": {},
   "outputs": [
    {
     "name": "stdout",
     "output_type": "stream",
     "text": [
      "Mu = 27.62 kip-ft\n",
      "Vu = 5.53 kips\n"
     ]
    }
   ],
   "source": [
    "SW = conc_density * b * h / 12**2 #plf\n",
    "DL = 15 #psf\n",
    "LL = 40 #psf\n",
    "\n",
    "LN = ln / 12 #ft\n",
    "trib = 15 #ft\n",
    "D = DL * trib / 12 + SW #plf\n",
    "L = LL * trib / 12 #plf\n",
    "w_u = load_combos.LRFD(D, L) #plf\n",
    "\n",
    "Mu = w_u * LN**2 / 8 / 1000 #kip-ft\n",
    "Vu = w_u * LN / 2 / 1000 #kips\n",
    "print(f\"Mu = {round(Mu, 2)} kip-ft\")\n",
    "print(f\"Vu = {round(Vu, 2)} kips\")"
   ]
  },
  {
   "attachments": {},
   "cell_type": "markdown",
   "id": "7a09eaad",
   "metadata": {},
   "source": [
    "### Materials and Geometry"
   ]
  },
  {
   "cell_type": "code",
   "execution_count": 5,
   "id": "7e902383",
   "metadata": {},
   "outputs": [
    {
     "data": {
      "text/plain": [
       "'Av = 0.22 in^2'"
      ]
     },
     "execution_count": 5,
     "metadata": {},
     "output_type": "execute_result"
    }
   ],
   "source": [
    "# Shear Steel\n",
    "stirrup_size = \"#3\"\n",
    "no_legs = 2\n",
    "s = 12 #in O.C.\n",
    "\n",
    "db_tie = rebar.loc[stirrup_size, \"Diameter\"]\n",
    "Av = no_legs * rebar.loc[stirrup_size, \"Area\"]\n",
    "f\"Av = {round(Av, 2)} in^2\""
   ]
  },
  {
   "cell_type": "code",
   "execution_count": 6,
   "id": "a15f642b",
   "metadata": {},
   "outputs": [
    {
     "name": "stdout",
     "output_type": "stream",
     "text": [
      "d_t = 21.42 in\n",
      "As = 9.36 in^2\n"
     ]
    }
   ],
   "source": [
    "# Tension Steel\n",
    "bar = \"#11\"\n",
    "Ab_t = rebar.loc[bar, \"Area\"]\n",
    "db_t = rebar.loc[bar, \"Diameter\"]\n",
    "n = 6 #number of bars\n",
    "layers = 1\n",
    "\n",
    "d_t = h - cover_b - db_tie - db_t/2\n",
    "print(f\"d_t = {round(d_t, 3)} in\")\n",
    "\n",
    "As_t = n * Ab_t #in^2\n",
    "print(f\"As = {round(As_t, 3)} in^2\")"
   ]
  },
  {
   "cell_type": "code",
   "execution_count": 7,
   "id": "399cd7d0",
   "metadata": {},
   "outputs": [
    {
     "name": "stdout",
     "output_type": "stream",
     "text": [
      "d_c = 2.439 in\n",
      "As = 3.0 in^2\n"
     ]
    }
   ],
   "source": [
    "# Compression Steel\n",
    "bar = \"#9\"\n",
    "Ab_c = rebar.loc[bar, \"Area\"]\n",
    "db_c = rebar.loc[bar, \"Diameter\"]\n",
    "n = 3 #number of bars\n",
    "layers = 1\n",
    "\n",
    "d_c = cover_t + db_tie + db_c/2\n",
    "print(f\"d_c = {round(d_c, 3)} in\")\n",
    "\n",
    "As_c = n * Ab_c #compression reinforcement\n",
    "print(f\"As = {round(As_c, 3)} in^2\")"
   ]
  },
  {
   "attachments": {},
   "cell_type": "markdown",
   "id": "fbf473d7",
   "metadata": {},
   "source": [
    "## Strength Design"
   ]
  },
  {
   "attachments": {},
   "cell_type": "markdown",
   "id": "2252363f",
   "metadata": {},
   "source": [
    "### $\\phi$ Mn $\\geq$ Mu"
   ]
  },
  {
   "cell_type": "code",
   "execution_count": 8,
   "id": "5e92d440",
   "metadata": {},
   "outputs": [
    {
     "name": "stdout",
     "output_type": "stream",
     "text": [
      "3.0\n"
     ]
    }
   ],
   "source": [
    "include_compression_steel = \"Yes\"\n",
    "if include_compression_steel == \"No\":\n",
    "    As_c = 0\n",
    "\n",
    "print(As_c)"
   ]
  },
  {
   "attachments": {},
   "cell_type": "markdown",
   "id": "51462e12",
   "metadata": {},
   "source": [
    "#### $\\phi$ Factor Calculation"
   ]
  },
  {
   "cell_type": "code",
   "execution_count": 9,
   "id": "44ae445c",
   "metadata": {},
   "outputs": [
    {
     "data": {
      "text/plain": [
       "(4.079919100602714, 3.4679312355123066, 0.01275031230165987, 0.003, 0.9)"
      ]
     },
     "execution_count": 9,
     "metadata": {},
     "output_type": "execute_result"
    }
   ],
   "source": [
    "c = bm.compression_block(As_t, fy, Es, b, fc, Apr_s=As_t, dpr=d_c) \n",
    "a = bm.equiv_compr_block(c)\n",
    "eps_t = bm.tension_steel_strain(d_t, c)\n",
    "eps_cs = bm.compr_steel_strain(c, eps_t, d_t)\n",
    "φ_b = bm.phi_factor(eps_t, fy, Es)\n",
    "\n",
    "c, a, eps_t, eps_cs, φ_b"
   ]
  },
  {
   "attachments": {},
   "cell_type": "markdown",
   "id": "ed4e3363",
   "metadata": {},
   "source": [
    "#### Flexural Strength"
   ]
  },
  {
   "cell_type": "code",
   "execution_count": 10,
   "id": "76b13244",
   "metadata": {},
   "outputs": [
    {
     "name": "stdout",
     "output_type": "stream",
     "text": [
      "φ_b = 0.9\n",
      "Mu = 27.62 kip-ft\n",
      "Mn = 910.73 kip-ft\n",
      "φMn = 819.66 kip-ft\n"
     ]
    },
    {
     "data": {
      "text/plain": [
       "True"
      ]
     },
     "execution_count": 10,
     "metadata": {},
     "output_type": "execute_result"
    }
   ],
   "source": [
    "fs = min(eps_cs * Es, fy) #psi (negative strain)\n",
    "\n",
    "C_s = As_c * fs #lbs\n",
    "C_c = As_t*fy - C_s #lbs\n",
    "T = As_t * fy #lbs\n",
    "\n",
    "Mn = T*d_t - C_c*a/2 - C_s*d_c #lb-in\n",
    "φMn = φ_b * Mn\n",
    "\n",
    "print(f\"φ_b = {round(φ_b, 3)}\")\n",
    "print(f\"Mu = {round(Mu, 2)} kip-ft\")\n",
    "print(f\"Mn = {round(Mn / 12 / 1000, 2)} kip-ft\")\n",
    "print(f\"φMn = {round(φMn / 12 / 1000, 2)} kip-ft\")\n",
    "φMn / 12 / 1000 > Mu #kip-ft"
   ]
  },
  {
   "cell_type": "code",
   "execution_count": 11,
   "id": "73f61981",
   "metadata": {},
   "outputs": [
    {
     "data": {
      "text/plain": [
       "(10928.770720264254, 180.0, 381.6)"
      ]
     },
     "execution_count": 11,
     "metadata": {},
     "output_type": "execute_result"
    }
   ],
   "source": [
    "Mn /1000, C_s/1000, C_c/1000"
   ]
  },
  {
   "attachments": {},
   "cell_type": "markdown",
   "id": "b581724a",
   "metadata": {},
   "source": [
    "### $\\phi$ Vn $\\geq$ Vu"
   ]
  },
  {
   "attachments": {},
   "cell_type": "markdown",
   "id": "79775e24",
   "metadata": {},
   "source": [
    "#### Shear Strength"
   ]
  },
  {
   "cell_type": "code",
   "execution_count": 12,
   "id": "8be58094",
   "metadata": {},
   "outputs": [
    {
     "data": {
      "text/plain": [
       "'Vc = 49775.58 lbs'"
      ]
     },
     "execution_count": 12,
     "metadata": {},
     "output_type": "execute_result"
    }
   ],
   "source": [
    "Vc = 2 * sqrt(fc) * b * d_t #lbs\n",
    "f\"Vc = {round(Vc, 2)} lbs\""
   ]
  },
  {
   "cell_type": "code",
   "execution_count": 13,
   "id": "9ae496a5",
   "metadata": {},
   "outputs": [
    {
     "data": {
      "text/plain": [
       "'Vs = 23562.0 lbs'"
      ]
     },
     "execution_count": 13,
     "metadata": {},
     "output_type": "execute_result"
    }
   ],
   "source": [
    "Vs = Av * fyt * d_t / s #lbs\n",
    "f\"Vs = {round(Vs, 2)} lbs\""
   ]
  },
  {
   "cell_type": "code",
   "execution_count": 14,
   "id": "74b0a836",
   "metadata": {},
   "outputs": [
    {
     "name": "stdout",
     "output_type": "stream",
     "text": [
      "Vn = 73337.58 lbs\n",
      "φVn = 55003.19 lbs\n"
     ]
    }
   ],
   "source": [
    "φ_v = 0.75\n",
    "Vn = Vc + Vs\n",
    "print(f\"Vn = {round(Vn, 2)} lbs\")\n",
    "print(f\"φVn = {round(φ_v * Vn, 2)} lbs\")"
   ]
  },
  {
   "cell_type": "code",
   "execution_count": 15,
   "id": "a55bc693",
   "metadata": {},
   "outputs": [
    {
     "data": {
      "text/plain": [
       "True"
      ]
     },
     "execution_count": 15,
     "metadata": {},
     "output_type": "execute_result"
    }
   ],
   "source": [
    "φ_v * Vn/1000 >= Vu #kips"
   ]
  },
  {
   "attachments": {},
   "cell_type": "markdown",
   "id": "4db3528a",
   "metadata": {},
   "source": [
    "### $\\phi$ Tn $\\geq$ Tu"
   ]
  },
  {
   "attachments": {},
   "cell_type": "markdown",
   "id": "992991e4",
   "metadata": {},
   "source": [
    "### $\\phi$ Pn $\\geq$ Pu"
   ]
  },
  {
   "attachments": {},
   "cell_type": "markdown",
   "id": "e0a1493e",
   "metadata": {},
   "source": [
    "## Deflection"
   ]
  },
  {
   "attachments": {},
   "cell_type": "markdown",
   "id": "d5f18d79",
   "metadata": {},
   "source": [
    "### Short-term Deflection"
   ]
  },
  {
   "cell_type": "code",
   "execution_count": 16,
   "id": "b49fc109",
   "metadata": {},
   "outputs": [
    {
     "data": {
      "text/plain": [
       "'Ma = 22187.5 lb-ft'"
      ]
     },
     "execution_count": 16,
     "metadata": {},
     "output_type": "execute_result"
    }
   ],
   "source": [
    "w_a = load_combos.ASD(D, L)\n",
    "\n",
    "Ma = w_a * LN**2 / 8 * 12 #lb-in\n",
    "f\"Ma = {round(Ma / 12, 2)} lb-ft\""
   ]
  },
  {
   "cell_type": "code",
   "execution_count": 17,
   "id": "6cdb243d",
   "metadata": {},
   "outputs": [
    {
     "name": "stdout",
     "output_type": "stream",
     "text": [
      "Ig = 17280.0 in\n"
     ]
    },
    {
     "data": {
      "text/plain": [
       "'Mcr = 69713.7 lb-ft'"
      ]
     },
     "execution_count": 17,
     "metadata": {},
     "output_type": "execute_result"
    }
   ],
   "source": [
    "fr = 7.5 * sqrt(fc) #psi\n",
    "Ig = b * h**3 / 12 #in^4\n",
    "print(f\"Ig = {round(Ig, 2)} in\")\n",
    "yt = h / 2 #in\n",
    "Mcr = fr * Ig / yt #lb-in\n",
    "f\"Mcr = {round(Mcr / 12, 2)} lb-ft\""
   ]
  },
  {
   "cell_type": "code",
   "execution_count": 18,
   "id": "15e6a290",
   "metadata": {},
   "outputs": [
    {
     "name": "stdout",
     "output_type": "stream",
     "text": [
      "Ec = 4695982.33 ksi\n",
      "Icr = 14852.21 in^4\n",
      "section uncracked\n"
     ]
    },
    {
     "data": {
      "text/plain": [
       "'Elastic Deflection = 0.0 in'"
      ]
     },
     "execution_count": 18,
     "metadata": {},
     "output_type": "execute_result"
    }
   ],
   "source": [
    "# Elastic Modulus\n",
    "Ec = elastic_modulus(fc=fc) #psi\n",
    "print(f\"Ec = {round(Ec, 2)} ksi\")\n",
    "# Moment of Inertia\n",
    "Ie = Ig\n",
    "Icr = cracked_moment_inertia(b=b, d=d_t, Ec=Ec, As=As_t)\n",
    "# Icr = cracked_moment_inertia(b=b, h=h, d=d_t, d_c=d_c, Ec=Ec, As=As_t, As_c=As_c)\n",
    "print(f\"Icr = {round(Icr, 2)} in^4\")\n",
    "if Ma > 2/3*Mcr:\n",
    "    Ie = Icr / (1 - ((2/3)*Mcr/Ma)**2 * (1 - Icr/Ig))\n",
    "    print(f\"Ie = {round(Ie, 2)} in\")\n",
    "else:\n",
    "    print(\"section uncracked\")\n",
    "\n",
    "#Elastic Deflection\n",
    "defl_elastic = 5 * (w_a/12) * ln**4 / (384 * Ec * 1000 * Ie)\n",
    "f\"Elastic Deflection = {round(defl_elastic, 3)} in\""
   ]
  },
  {
   "attachments": {},
   "cell_type": "markdown",
   "id": "0dcbe14e",
   "metadata": {},
   "source": [
    "### Long-term Deflection"
   ]
  },
  {
   "cell_type": "code",
   "execution_count": 19,
   "id": "fd94870e",
   "metadata": {},
   "outputs": [
    {
     "data": {
      "text/plain": [
       "'lmbda_dlt = 0.392'"
      ]
     },
     "execution_count": 19,
     "metadata": {},
     "output_type": "execute_result"
    }
   ],
   "source": [
    "# Deflection Factor\n",
    "xi = 2.0 #duration factor\n",
    "rho_c = As_c / (b * d_c)\n",
    "\n",
    "lmbda_dlt = xi / (1 + 50*rho_c)\n",
    "f\"lmbda_dlt = {round(lmbda_dlt, 3)}\""
   ]
  },
  {
   "cell_type": "code",
   "execution_count": 20,
   "id": "e6da8ff2",
   "metadata": {
    "scrolled": true
   },
   "outputs": [
    {
     "data": {
      "text/plain": [
       "'Long-Term Deflection = 0.0 in'"
      ]
     },
     "execution_count": 20,
     "metadata": {},
     "output_type": "execute_result"
    }
   ],
   "source": [
    "# Long-Term Deflection\n",
    "defl_long = defl_elastic * lmbda_dlt #in\n",
    "f\"Long-Term Deflection = {round(defl_long, 3)} in\""
   ]
  },
  {
   "cell_type": "code",
   "execution_count": 21,
   "id": "e87f7d45",
   "metadata": {},
   "outputs": [
    {
     "data": {
      "text/plain": [
       "'Total Deflection = 0.0 in'"
      ]
     },
     "execution_count": 21,
     "metadata": {},
     "output_type": "execute_result"
    }
   ],
   "source": [
    "# Total Deflection\n",
    "defl_total = defl_elastic + defl_long\n",
    "f\"Total Deflection = {round(defl_total, 3)} in\""
   ]
  },
  {
   "attachments": {},
   "cell_type": "markdown",
   "id": "eebcd791",
   "metadata": {},
   "source": [
    "## Minimum Requirements"
   ]
  },
  {
   "attachments": {},
   "cell_type": "markdown",
   "id": "33034601",
   "metadata": {},
   "source": [
    "### Dimension Requirements"
   ]
  },
  {
   "attachments": {},
   "cell_type": "markdown",
   "id": "9e6209f9",
   "metadata": {},
   "source": [
    "#### Minimum Beam Depth"
   ]
  },
  {
   "cell_type": "code",
   "execution_count": 22,
   "id": "d7916721",
   "metadata": {},
   "outputs": [
    {
     "name": "stdout",
     "output_type": "stream",
     "text": [
      "h_min (simply supported) = 15.0 in\n",
      "h_min (one end continuous) = 12.97 in\n",
      "h_min (both ends continuous) = 11.43 in\n",
      "h_min (cantilever) = 30.0 in\n"
     ]
    }
   ],
   "source": [
    "h_min = ln / 16\n",
    "print(f\"h_min (simply supported) = {round(h_min, 2)} in\")\n",
    "\n",
    "h_min = ln / 18.5\n",
    "print(f\"h_min (one end continuous) = {round(h_min, 2)} in\")\n",
    "\n",
    "h_min = ln / 21\n",
    "print(f\"h_min (both ends continuous) = {round(h_min, 2)} in\")\n",
    "\n",
    "h_min = ln / 8\n",
    "print(f\"h_min (cantilever) = {round(h_min, 2)} in\")"
   ]
  },
  {
   "cell_type": "code",
   "execution_count": 23,
   "id": "2dcc7f33",
   "metadata": {},
   "outputs": [
    {
     "data": {
      "text/plain": [
       "True"
      ]
     },
     "execution_count": 23,
     "metadata": {},
     "output_type": "execute_result"
    }
   ],
   "source": [
    "Vu <= φ_v * (Vc + 8*sqrt(fc) * b * d_t)"
   ]
  },
  {
   "attachments": {},
   "cell_type": "markdown",
   "id": "77f1c6d3",
   "metadata": {},
   "source": [
    "### Minimum Reinforcement"
   ]
  },
  {
   "attachments": {},
   "cell_type": "markdown",
   "id": "1b1b8e6a",
   "metadata": {},
   "source": [
    "#### Flexural Reinforcement"
   ]
  },
  {
   "cell_type": "code",
   "execution_count": 24,
   "id": "39d23f06",
   "metadata": {},
   "outputs": [
    {
     "data": {
      "text/plain": [
       "'As,min = 1.606 in^2'"
      ]
     },
     "execution_count": 24,
     "metadata": {},
     "output_type": "execute_result"
    }
   ],
   "source": [
    "As_min = max(3*sqrt(fc)/fy, 300/fy) * b * d_t #in^2\n",
    "\n",
    "f\"As,min = {round(As_min, 3)} in^2\""
   ]
  },
  {
   "attachments": {},
   "cell_type": "markdown",
   "id": "f93b8b9b",
   "metadata": {},
   "source": [
    "#### Shear Reinforcement"
   ]
  },
  {
   "cell_type": "code",
   "execution_count": 25,
   "id": "39376361",
   "metadata": {},
   "outputs": [
    {
     "name": "stdout",
     "output_type": "stream",
     "text": [
      "Shear reinforcement not required\n"
     ]
    }
   ],
   "source": [
    "if Vu > φ_v*sqrt(fc)*b*d_t:\n",
    "    Av_min = max(0.75*sqrt(fc), 50) * b / fyt #in^2\n",
    "    print(f\"Av,min = {round(Av_min, 3)} in^2\")\n",
    "else:\n",
    "    Av_min = 0\n",
    "    print(\"Shear reinforcement not required\")"
   ]
  },
  {
   "attachments": {},
   "cell_type": "markdown",
   "id": "81f79316",
   "metadata": {},
   "source": [
    "#### Torsional Reinforcement"
   ]
  },
  {
   "cell_type": "code",
   "execution_count": null,
   "id": "8966d76e",
   "metadata": {},
   "outputs": [],
   "source": []
  }
 ],
 "metadata": {
  "kernelspec": {
   "display_name": "VENV",
   "language": "python",
   "name": "venv"
  },
  "language_info": {
   "codemirror_mode": {
    "name": "ipython",
    "version": 3
   },
   "file_extension": ".py",
   "mimetype": "text/x-python",
   "name": "python",
   "nbconvert_exporter": "python",
   "pygments_lexer": "ipython3",
   "version": "3.11.3"
  }
 },
 "nbformat": 4,
 "nbformat_minor": 5
}
