{
 "cells": [
  {
   "cell_type": "code",
   "execution_count": 2,
   "id": "8c41b636",
   "metadata": {},
   "outputs": [
    {
     "data": {
      "text/latex": [
       "\\newpage"
      ],
      "text/plain": [
       "<IPython.core.display.Latex object>"
      ]
     },
     "metadata": {},
     "output_type": "display_data"
    }
   ],
   "source": [
    "# Import Python Tools:\n",
    "from IPython.display import display, Latex\n",
    "import pandas as pd\n",
    "import numpy as np\n",
    "from numpy import sqrt, pi, average, cos, sin, tan, arcsin, arccos, arctan, deg2rad, rad2deg\n",
    "\n",
    "import load_combos\n",
    "from steel_design.AISC import aisc\n",
    "from concrete_design.material_properties import elastic_modulus, rigidity_modulus\n",
    "from concrete_design.steel_reinforcement import rebar_df as rebar\n",
    "from masonry_design.material_properties import NW_CMU, cmu_elastic_modulus\n",
    "conc_density = 150.0 #pcf\n",
    "steel_density = 0.2833 #pci\n",
    "\n",
    "display(Latex(r\"\\newpage\")) #pagebreak"
   ]
  },
  {
   "cell_type": "markdown",
   "id": "93e84bd0",
   "metadata": {},
   "source": [
    "# Column Attachment to Plate"
   ]
  },
  {
   "cell_type": "markdown",
   "id": "db32abba",
   "metadata": {},
   "source": [
    "## Moment\n",
    "### PJP Weld to Plate"
   ]
  },
  {
   "cell_type": "markdown",
   "id": "1ace392f",
   "metadata": {},
   "source": [
    "#### Tension Force"
   ]
  },
  {
   "cell_type": "code",
   "execution_count": 9,
   "id": "79d5ca88",
   "metadata": {},
   "outputs": [],
   "source": [
    "Mu = 185.2 #kip-ft"
   ]
  },
  {
   "cell_type": "code",
   "execution_count": 17,
   "id": "22801d85",
   "metadata": {},
   "outputs": [
    {
     "data": {
      "text/plain": [
       "'tf = 0.715; beam eccentricity = 15.68 in'"
      ]
     },
     "execution_count": 17,
     "metadata": {},
     "output_type": "execute_result"
    }
   ],
   "source": [
    "beam = \"W16x57\"\n",
    "d = aisc.loc[beam, \"d\"]\n",
    "tf = aisc.loc[beam, \"tf\"]\n",
    "bf = aisc.loc[beam, \"bf\"]\n",
    "beam_ecc = d - tf\n",
    "f\"tf = {tf}; beam eccentricity = {round(beam_ecc, 2)} in\""
   ]
  },
  {
   "cell_type": "code",
   "execution_count": 14,
   "id": "b65b1407",
   "metadata": {},
   "outputs": [
    {
     "data": {
      "text/plain": [
       "'Tu from flange = 141.69 kips'"
      ]
     },
     "execution_count": 14,
     "metadata": {},
     "output_type": "execute_result"
    }
   ],
   "source": [
    "Tu = Mu / (beam_ecc/12)\n",
    "f\"Tu from flange = {round(Tu, 2)} kips\""
   ]
  },
  {
   "cell_type": "markdown",
   "id": "ab46352e",
   "metadata": {},
   "source": [
    "#### Weld Design"
   ]
  },
  {
   "cell_type": "code",
   "execution_count": 19,
   "id": "bdd85c15",
   "metadata": {},
   "outputs": [
    {
     "data": {
      "text/plain": [
       "'phiRn = 149.52 kips'"
      ]
     },
     "execution_count": 19,
     "metadata": {},
     "output_type": "execute_result"
    }
   ],
   "source": [
    "phi = 0.80\n",
    "F_EXX = 70 #ksi\n",
    "Fnw = 0.60*F_EXX\n",
    "throat = 0.625 #in\n",
    "Awe = bf * throat\n",
    "\n",
    "Rn = Fnw * Awe #kips\n",
    "f\"phiRn = {round(phi*Rn, 2)} kips\""
   ]
  },
  {
   "cell_type": "markdown",
   "id": "60be104c",
   "metadata": {},
   "source": [
    "--> Use full CJP"
   ]
  },
  {
   "cell_type": "markdown",
   "id": "f2859c82",
   "metadata": {},
   "source": [
    "#### Base Metal Check"
   ]
  },
  {
   "cell_type": "code",
   "execution_count": 20,
   "id": "87a0c1b9",
   "metadata": {},
   "outputs": [
    {
     "data": {
      "text/plain": [
       "'phiRn = 384.48 kips'"
      ]
     },
     "execution_count": 20,
     "metadata": {},
     "output_type": "execute_result"
    }
   ],
   "source": [
    "phi = 0.75\n",
    "FnBM = 36 #ksi\n",
    "t_BM = 2 #in\n",
    "A_BM = bf * t_BM #in^2\n",
    "\n",
    "Rn = FnBM * A_BM\n",
    "f\"phiRn = {round(phi*Rn, 2)} kips\""
   ]
  },
  {
   "cell_type": "markdown",
   "id": "eaec62fd",
   "metadata": {},
   "source": [
    "# Anchor Bolt Embedment Design"
   ]
  },
  {
   "cell_type": "markdown",
   "id": "3bed7f61",
   "metadata": {},
   "source": [
    "## Strut-N-TieDemands"
   ]
  },
  {
   "cell_type": "code",
   "execution_count": null,
   "id": "b84d7e19",
   "metadata": {},
   "outputs": [],
   "source": [
    "anchor_embed = 36 #in\n",
    "anchor_ecc = 22 #in\n",
    "caisson_dia = 42 #in\n",
    "conc_cover = 3 #in"
   ]
  },
  {
   "cell_type": "code",
   "execution_count": null,
   "id": "43fbe1fd",
   "metadata": {},
   "outputs": [],
   "source": [
    "Tu = Mu / (ecc/12) #kips\n",
    "f\"Tu = {round(Tu, 2)} kips\""
   ]
  },
  {
   "cell_type": "code",
   "execution_count": null,
   "id": "983c2784",
   "metadata": {},
   "outputs": [],
   "source": [
    "angle = arctan(anchor_embed / (anchor_ecc/2 + (caisson_dia-2*conc_cover)/2))\n",
    "f\"angle = {round(rad2deg(angle), 2)} degrees\""
   ]
  },
  {
   "cell_type": "code",
   "execution_count": null,
   "id": "8d65bc95",
   "metadata": {},
   "outputs": [],
   "source": [
    "T1 = T3 = Tu"
   ]
  },
  {
   "cell_type": "code",
   "execution_count": null,
   "id": "07f5cd68",
   "metadata": {},
   "outputs": [],
   "source": [
    "S1 = T1 / sin(angle) #kips\n",
    "f\"S1 = {round(S1, 2)} kips\""
   ]
  },
  {
   "cell_type": "code",
   "execution_count": null,
   "id": "80ab705e",
   "metadata": {},
   "outputs": [],
   "source": [
    "T2 = T1 / tan(angle)\n",
    "f\"T2 = T4 = {round(T2, 2)} kips\""
   ]
  },
  {
   "cell_type": "markdown",
   "id": "cd9079fa",
   "metadata": {},
   "source": [
    "## Strut-N-Tie Design"
   ]
  },
  {
   "cell_type": "markdown",
   "id": "83e382af",
   "metadata": {},
   "source": [
    "### S1 Check"
   ]
  },
  {
   "cell_type": "code",
   "execution_count": null,
   "id": "87996f6d",
   "metadata": {},
   "outputs": [],
   "source": [
    "phi = 0.75\n",
    "fpr_c = 3 #ksi\n",
    "fy = 60 #ksi"
   ]
  },
  {
   "cell_type": "code",
   "execution_count": null,
   "id": "c7f4c286",
   "metadata": {},
   "outputs": [],
   "source": [
    "Acs = 9 * 28 #in^2 (conservative estimate)\n",
    "\n",
    "beta_c = 1.0\n",
    "beta_s = 0.4\n",
    "fce = 0.85 * beta_c * beta_s * fpr_c\n",
    "\n",
    "Fns1 = fce * Acs\n",
    "f\"phi * Fns1 = {round(phi * Fns1, 2)} kips\""
   ]
  },
  {
   "cell_type": "markdown",
   "id": "cd48d6e6",
   "metadata": {},
   "source": [
    "### N1 Check"
   ]
  },
  {
   "cell_type": "code",
   "execution_count": null,
   "id": "91f56d54",
   "metadata": {},
   "outputs": [],
   "source": [
    "Anz = Acs #in^2 (conservative estimate)\n",
    "\n",
    "beta_n = 0.6\n",
    "fce = 0.85 * beta_c * beta_n * fpr_c\n",
    "\n",
    "Fnn1 = fce * Anz #kips\n",
    "f\"phi * Fnn1 = {round(phi * Fnn1, 2)} kips\""
   ]
  },
  {
   "cell_type": "markdown",
   "id": "b1b5e045",
   "metadata": {},
   "source": [
    "### T1 Design"
   ]
  },
  {
   "cell_type": "code",
   "execution_count": null,
   "id": "d7417350",
   "metadata": {},
   "outputs": [],
   "source": [
    "bar_size = \"#5\"\n",
    "Ats = 6 * rebar.loc[bar_size, \"Area\"] #in^2\n",
    "\n",
    "Fnt2 = Ats * fy\n",
    "\n",
    "f\"phi * Fnt2 = {round(phi * Fnt2, 2)} kips\""
   ]
  },
  {
   "cell_type": "markdown",
   "id": "051f0d26",
   "metadata": {},
   "source": [
    "--> Design is adequate by inspection without further checks"
   ]
  },
  {
   "cell_type": "markdown",
   "id": "17b13dfd",
   "metadata": {},
   "source": [
    "# Caisson Reinforcement"
   ]
  },
  {
   "cell_type": "code",
   "execution_count": null,
   "id": "fe75e80b",
   "metadata": {},
   "outputs": [],
   "source": [
    "fpr_c = 3000 #psi\n",
    "fy = 60000 #psi"
   ]
  },
  {
   "cell_type": "markdown",
   "id": "1f68bee1",
   "metadata": {},
   "source": [
    "### Ties"
   ]
  },
  {
   "cell_type": "code",
   "execution_count": null,
   "id": "0009e77b",
   "metadata": {},
   "outputs": [],
   "source": [
    "fyt = fy\n",
    "bw = sqrt(pi*caisson_dia**2 / 4) #in\n",
    "s = 12 #in\n",
    "Av_min = max(0.75 * sqrt(fpr_c) * bw*s/fyt, 50 * bw*s/fyt)\n",
    "f\"Av_min = {round(Av_min, 3)} in^2 at {s} in O.C.\""
   ]
  }
 ],
 "metadata": {
  "kernelspec": {
   "display_name": "Python 3 (ipykernel)",
   "language": "python",
   "name": "python3"
  },
  "language_info": {
   "codemirror_mode": {
    "name": "ipython",
    "version": 3
   },
   "file_extension": ".py",
   "mimetype": "text/x-python",
   "name": "python",
   "nbconvert_exporter": "python",
   "pygments_lexer": "ipython3",
   "version": "3.9.2"
  },
  "vscode": {
   "interpreter": {
    "hash": "8c340b0736d8d4910d2ca7989655b8187219e0906e973b44a7c0150cb2eac932"
   }
  }
 },
 "nbformat": 4,
 "nbformat_minor": 5
}
