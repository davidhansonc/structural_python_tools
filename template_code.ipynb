{
 "cells": [
  {
   "cell_type": "code",
   "execution_count": 6,
   "id": "8c41b636",
   "metadata": {},
   "outputs": [
    {
     "data": {
      "text/latex": [
       "\\newpage"
      ],
      "text/plain": [
       "<IPython.core.display.Latex object>"
      ]
     },
     "metadata": {},
     "output_type": "display_data"
    }
   ],
   "source": [
    "# Import Python Tools:\n",
    "from IPython.display import display, Latex\n",
    "import pandas as pd\n",
    "import numpy as np\n",
    "from numpy import sqrt, pi, average, cos, sin, tan, arcsin, arccos, arctan, deg2rad, rad2deg\n",
    "\n",
    "import load_combos\n",
    "from steel_design.AISC import aisc\n",
    "from concrete_design.material_properties import elastic_modulus, rigidity_modulus\n",
    "from concrete_design.steel_reinforcement import rebar_df as rebar\n",
    "from masonry_design.material_properties import NW_CMU, cmu_elastic_modulus\n",
    "conc_density = 150.0 #pcf\n",
    "steel_density = 0.2833 #pci\n",
    "\n",
    "display(Latex(r\"\\newpage\")) #pagebreak"
   ]
  },
  {
   "cell_type": "code",
   "execution_count": null,
   "id": "87f13dd2",
   "metadata": {},
   "outputs": [],
   "source": []
  }
 ],
 "metadata": {
  "kernelspec": {
   "display_name": "Python 3.9.2 64-bit",
   "language": "python",
   "name": "python3"
  },
  "language_info": {
   "codemirror_mode": {
    "name": "ipython",
    "version": 3
   },
   "file_extension": ".py",
   "mimetype": "text/x-python",
   "name": "python",
   "nbconvert_exporter": "python",
   "pygments_lexer": "ipython3",
   "version": "3.9.2"
  },
  "vscode": {
   "interpreter": {
    "hash": "8c340b0736d8d4910d2ca7989655b8187219e0906e973b44a7c0150cb2eac932"
   }
  }
 },
 "nbformat": 4,
 "nbformat_minor": 5
}
