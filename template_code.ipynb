{
 "cells": [
  {
   "cell_type": "code",
   "execution_count": 1,
   "id": "8c41b636",
   "metadata": {},
   "outputs": [],
   "source": [
    "# Import Python Tools:\n",
    "from IPython.display import display, Latex\n",
    "import pandas as pd\n",
    "import numpy as np\n",
    "from numpy import sqrt, pi, average, cos, sin, tan, arcsin, arccos, arctan, deg2rad, rad2deg\n",
    "# import sectionproperties as shape\n",
    "\n",
    "from ASCE import load_combos\n",
    "\n",
    "from steel_design.AISC import aisc\n",
    "steel_density = 0.2833 #pci\n",
    "\n",
    "from concrete_design import material_properties as conc\n",
    "from concrete_design.steel_reinforcement import rebar_df as rebar\n",
    "conc_density = 150.0 #pcf\n",
    "\n",
    "from masonry_design import material_properties as cmu\n",
    "from masonry_design.material_properties import NW_CMU #psf\n",
    "\n",
    "from wood_design.ref_design_values.table_4a.table_4a import table_4a_load\n",
    "table_4a = table_4a_load(species=\"DF\")"
   ]
  },
  {
   "attachments": {},
   "cell_type": "markdown",
   "id": "04f2be6d",
   "metadata": {},
   "source": [
    "<div style=\"page-break-after: always;\"></div>"
   ]
  }
 ],
 "metadata": {
  "kernelspec": {
   "display_name": "VENV",
   "language": "python",
   "name": "venv"
  },
  "language_info": {
   "codemirror_mode": {
    "name": "ipython",
    "version": 3
   },
   "file_extension": ".py",
   "mimetype": "text/x-python",
   "name": "python",
   "nbconvert_exporter": "python",
   "pygments_lexer": "ipython3",
   "version": "3.11.3"
  },
  "vscode": {
   "interpreter": {
    "hash": "8c340b0736d8d4910d2ca7989655b8187219e0906e973b44a7c0150cb2eac932"
   }
  }
 },
 "nbformat": 4,
 "nbformat_minor": 5
}
