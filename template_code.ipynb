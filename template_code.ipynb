{
 "cells": [
  {
   "cell_type": "code",
   "execution_count": 2,
   "id": "8c41b636",
   "metadata": {},
   "outputs": [],
   "source": [
    "# Import Python Tools:\n",
    "import pandas as pd\n",
    "import numpy as np\n",
    "from numpy import sqrt, pi, average, cos, sin, tan, arcsin, arccos, arctan, deg2rad, rad2deg\n",
    "from WhatIfAnalysis import GoalSeek\n",
    "# import sectionproperties as shape\n",
    "\n",
    "import WindParameters\n",
    "from ASCE import load_combos\n",
    "from dead_loads import material_weights\n",
    "\n",
    "from steel_design.AISC import aisc\n",
    "steel_density = 490 / 12**3 #pci\n",
    "\n",
    "from concrete_design import material_properties as conc\n",
    "from concrete_design.steel_reinforcement import rebar_df as rebar\n",
    "conc_density = 150.0 #pcf\n",
    "\n",
    "from masonry_design import material_properties as cmu\n",
    "from masonry_design.material_properties import NW_CMU #psf\n",
    "\n",
    "from wood_design.sawn_lumber.ref_design_values.table_4a import table_4a_load\n",
    "from wood_design.sawn_lumber.ref_design_values.adjustment_factors import SawnLumberAdjustmentFactors\n",
    "from wood_design.sawn_lumber.ref_design_values.C_F import C_F_load\n",
    "table_4a = table_4a_load(species=\"DF\")"
   ]
  },
  {
   "attachments": {},
   "cell_type": "markdown",
   "id": "04f2be6d",
   "metadata": {},
   "source": [
    "<div style=\"page-break-after: always;\"></div>"
   ]
  },
  {
   "attachments": {},
   "cell_type": "markdown",
   "id": "f5325071",
   "metadata": {},
   "source": [
    "# Calculations"
   ]
  },
  {
   "cell_type": "code",
   "execution_count": 5,
   "id": "ead113c6",
   "metadata": {},
   "outputs": [
    {
     "data": {
      "text/plain": [
       "'veneer weight = 75 psf'"
      ]
     },
     "execution_count": 5,
     "metadata": {},
     "output_type": "execute_result"
    }
   ],
   "source": [
    "thickness = 5 #in\n",
    "veneer_weight = material_weights.veneer[\"limestone veneer\"] * thickness #psf\n",
    "f\"veneer weight = {veneer_weight} psf\""
   ]
  },
  {
   "cell_type": "code",
   "execution_count": 7,
   "id": "32428bcd",
   "metadata": {},
   "outputs": [
    {
     "data": {
      "text/plain": [
       "'veneer weight on anchors = 13.02 psf'"
      ]
     },
     "execution_count": 7,
     "metadata": {},
     "output_type": "execute_result"
    }
   ],
   "source": [
    "angle = deg2rad(10) #rad\n",
    "out_of_plane_weight = veneer_weight * sin(angle)\n",
    "f\"veneer weight on anchors = {round(out_of_plane_weight, 2)} psf\""
   ]
  },
  {
   "cell_type": "code",
   "execution_count": null,
   "id": "7bab449f",
   "metadata": {},
   "outputs": [],
   "source": []
  }
 ],
 "metadata": {
  "kernelspec": {
   "display_name": "VENV_MAC",
   "language": "python",
   "name": "python3"
  },
  "language_info": {
   "codemirror_mode": {
    "name": "ipython",
    "version": 3
   },
   "file_extension": ".py",
   "mimetype": "text/x-python",
   "name": "python",
   "nbconvert_exporter": "python",
   "pygments_lexer": "ipython3",
   "version": "3.11.9"
  }
 },
 "nbformat": 4,
 "nbformat_minor": 5
}
