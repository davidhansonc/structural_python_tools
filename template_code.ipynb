{
 "cells": [
  {
   "cell_type": "markdown",
   "id": "2f0a4e23",
   "metadata": {},
   "source": [
    "# Code Imports"
   ]
  },
  {
   "cell_type": "code",
   "execution_count": 4,
   "id": "71191a63",
   "metadata": {},
   "outputs": [],
   "source": [
    "# Import Python Tools:\n",
    "import pandas as pd\n",
    "import numpy as np\n",
    "from numpy import sqrt, pi, average, cos, sin, tan, arcsin, arccos, arctan, deg2rad, rad2deg\n",
    "π = pi\n",
    "\n",
    "# import sectionproperties as shape\n",
    "# from WhatIfAnalysis import GoalSeek\n",
    "\n",
    "# from ASCE import load_combos\n",
    "\n",
    "# from steel_design.AISC import aisc, aisc_W, aisc_HSS, aisc_L\n",
    "steel_density = 0.2833 #pci\n",
    "\n",
    "# from concrete_design import material_properties as conc\n",
    "# from concrete_design.steel_reinforcement import rebar_df as rebar\n",
    "conc_density = 150 #pcf\n",
    "\n",
    "# from masonry_design import material_properties as cmu\n",
    "# from masonry_design.material_properties import NW_CMU #psf"
   ]
  },
  {
   "cell_type": "markdown",
   "id": "4aa12702",
   "metadata": {},
   "source": [
    "<div style=\"page-break-after: always;\"></div>"
   ]
  },
  {
   "cell_type": "markdown",
   "id": "4d0bc2c2",
   "metadata": {},
   "source": [
    "# Calculations"
   ]
  },
  {
   "cell_type": "code",
   "execution_count": 5,
   "id": "a6b4f4c7",
   "metadata": {},
   "outputs": [
    {
     "data": {
      "text/plain": [
       "0.2833"
      ]
     },
     "execution_count": 5,
     "metadata": {},
     "output_type": "execute_result"
    }
   ],
   "source": [
    "steel_density"
   ]
  },
  {
   "cell_type": "code",
   "execution_count": null,
   "id": "70de5657",
   "metadata": {},
   "outputs": [],
   "source": []
  }
 ],
 "metadata": {
  "kernelspec": {
   "display_name": "Python 3",
   "language": "python",
   "name": "python3"
  },
  "language_info": {
   "codemirror_mode": {
    "name": "ipython",
    "version": 3
   },
   "file_extension": ".py",
   "mimetype": "text/x-python",
   "name": "python",
   "nbconvert_exporter": "python",
   "pygments_lexer": "ipython3",
   "version": "3.13.1"
  }
 },
 "nbformat": 4,
 "nbformat_minor": 5
}
