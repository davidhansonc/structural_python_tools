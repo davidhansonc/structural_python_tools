{
 "cells": [
  {
   "cell_type": "code",
   "execution_count": 5,
   "id": "c1fed3d1",
   "metadata": {},
   "outputs": [],
   "source": [
    "# Import Python Tools:\n",
    "from IPython.display import display, Latex\n",
    "import pandas as pd\n",
    "import numpy as np\n",
    "from numpy import sqrt, pi, average, cos, sin, tan, arcsin, arccos, arctan, deg2rad, rad2deg"
   ]
  },
  {
   "attachments": {},
   "cell_type": "markdown",
   "id": "e72bd99b",
   "metadata": {},
   "source": [
    "<div style=\"page-break-after: always;\"></div>"
   ]
  },
  {
   "cell_type": "markdown",
   "id": "bfe559c8",
   "metadata": {},
   "source": [
    "# Shear Wall Attachment"
   ]
  },
  {
   "cell_type": "markdown",
   "id": "2df6e7f9",
   "metadata": {},
   "source": [
    "## Shear Wall, SW1"
   ]
  },
  {
   "cell_type": "markdown",
   "id": "25dbcf76",
   "metadata": {},
   "source": [
    "#### Required Shear"
   ]
  },
  {
   "cell_type": "code",
   "execution_count": 6,
   "id": "4cf84357",
   "metadata": {},
   "outputs": [
    {
     "name": "stdout",
     "output_type": "stream",
     "text": [
      "V_req = 365.0 plf\n"
     ]
    }
   ],
   "source": [
    "# Required Shear Transfer\n",
    "V_req = 730 / 2 #plf\n",
    "print(f\"V_req = {round(V_req, 2)} plf\")"
   ]
  },
  {
   "cell_type": "markdown",
   "id": "59b0f5ba",
   "metadata": {},
   "source": [
    "#### Attachment to Framing"
   ]
  },
  {
   "cell_type": "code",
   "execution_count": 7,
   "id": "48dd005e",
   "metadata": {},
   "outputs": [
    {
     "name": "stdout",
     "output_type": "stream",
     "text": [
      "Framing Attachment 16d Nails, Va = 451.2 plf\n",
      "Framing Attachment LTP4, Va = 476.67 plf\n"
     ]
    }
   ],
   "source": [
    "# Nailing\n",
    "spacing = 6 #in\n",
    "Va = 1.6 * 141 #lbs\n",
    "v_a = Va / (spacing/12)\n",
    "print(f\"Framing Attachment 16d Nails, Va = {round(v_a, 2)} plf\")\n",
    "\n",
    "# Simpson LTP4's\n",
    "spacing = 18 #in\n",
    "Va = 715 #lbs\n",
    "v_a = Va / (spacing/12)\n",
    "print(f\"Framing Attachment LTP4, Va = {round(v_a, 2)} plf\")"
   ]
  },
  {
   "cell_type": "markdown",
   "id": "d4e5f95f",
   "metadata": {},
   "source": [
    "#### Attachment to Foundation"
   ]
  },
  {
   "cell_type": "code",
   "execution_count": 8,
   "id": "7e849c0f",
   "metadata": {},
   "outputs": [
    {
     "name": "stdout",
     "output_type": "stream",
     "text": [
      "Foundation Attachment Anchors, Va = 372.0 plf\n",
      "Foundation Attachment Masa Anchors, Va = 368.75 plf\n",
      "Foundation Attachment Shot Pins, Va = 410.0 plf\n"
     ]
    }
   ],
   "source": [
    "# Conventional Anchors\n",
    "spacing = 48 #in\n",
    "Va = 1.6 * 930 #lbs\n",
    "v_a = Va / (spacing/12)\n",
    "print(f\"Foundation Attachment Anchors, Va = {round(v_a, 2)} plf\")\n",
    "\n",
    "# Masa Anchors\n",
    "spacing = 48 #in\n",
    "Va = 1475 #lbs\n",
    "v_a = Va / (spacing/12)\n",
    "print(f\"Foundation Attachment Masa Anchors, Va = {round(v_a, 2)} plf\")\n",
    "\n",
    "# Shot Pins\n",
    "spacing = 6 #in\n",
    "Va = 205 #lbs\n",
    "v_a = Va / (spacing/12)\n",
    "print(f\"Foundation Attachment Shot Pins, Va = {round(v_a, 2)} plf\")"
   ]
  }
 ],
 "metadata": {
  "kernelspec": {
   "display_name": "misc_venv",
   "language": "python",
   "name": "python3"
  },
  "language_info": {
   "codemirror_mode": {
    "name": "ipython",
    "version": 3
   },
   "file_extension": ".py",
   "mimetype": "text/x-python",
   "name": "python",
   "nbconvert_exporter": "python",
   "pygments_lexer": "ipython3",
   "version": "3.11.9"
  }
 },
 "nbformat": 4,
 "nbformat_minor": 5
}
