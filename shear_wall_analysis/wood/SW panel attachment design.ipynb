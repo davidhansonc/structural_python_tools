{
 "cells": [
  {
   "cell_type": "code",
   "execution_count": 10,
   "id": "c1fed3d1",
   "metadata": {},
   "outputs": [],
   "source": [
    "# Import Python Tools:\n",
    "from IPython.display import display, Latex\n",
    "import pandas as pd\n",
    "import numpy as np\n",
    "from numpy import sqrt, pi, average, cos, sin, tan, arcsin, arccos, arctan, deg2rad, rad2deg"
   ]
  },
  {
   "attachments": {},
   "cell_type": "markdown",
   "id": "e72bd99b",
   "metadata": {},
   "source": [
    "<div style=\"page-break-after: always;\"></div>"
   ]
  },
  {
   "cell_type": "markdown",
   "id": "bfe559c8",
   "metadata": {},
   "source": [
    "# Panel Attachment"
   ]
  },
  {
   "cell_type": "markdown",
   "id": "2df6e7f9",
   "metadata": {},
   "source": [
    "#### SW1"
   ]
  },
  {
   "cell_type": "code",
   "execution_count": 11,
   "id": "7e849c0f",
   "metadata": {},
   "outputs": [
    {
     "name": "stdout",
     "output_type": "stream",
     "text": [
      "V_req = 685.0 plf\n",
      "Foundation Attachment Anchors, Va = 410.53 plf\n",
      "Foundation Attachment Masa Anchors, Va = 737.5 plf\n",
      "Foundation Attachment Shot Pins, Va = 820.0 plf\n"
     ]
    }
   ],
   "source": [
    "# Required Shear Transfer\n",
    "V_req = 1370 / 2 #plf\n",
    "print(f\"V_req = {round(V_req, 2)} plf\")\n",
    "\n",
    "# Attachment to Foundation (Anchors)\n",
    "spacing = 19 #in\n",
    "Va = 650 #lbs\n",
    "v_a = Va / (spacing/12)\n",
    "print(f\"Foundation Attachment Anchors, Va = {round(v_a, 2)} plf\")\n",
    "\n",
    "# Attachment to Foundtion (Masa Anchors)\n",
    "spacing = 24 #in\n",
    "Va = 1475 #lbs\n",
    "v_a = Va / (spacing/12)\n",
    "print(f\"Foundation Attachment Masa Anchors, Va = {round(v_a, 2)} plf\")\n",
    "\n",
    "# Attachment to Foundation (Shot Pins)\n",
    "spacing = 3 #in\n",
    "Va = 205 #lbs\n",
    "v_a = Va / (spacing/12)\n",
    "print(f\"Foundation Attachment Shot Pins, Va = {round(v_a, 2)} plf\")"
   ]
  },
  {
   "attachments": {},
   "cell_type": "markdown",
   "id": "e13468b9",
   "metadata": {},
   "source": [
    "#### SW2"
   ]
  },
  {
   "cell_type": "code",
   "execution_count": 12,
   "id": "9c5455fc",
   "metadata": {},
   "outputs": [
    {
     "name": "stdout",
     "output_type": "stream",
     "text": [
      "V_req = 365.0 plf\n",
      "Foundation Attachment Anchors, Va = 433.33 plf\n",
      "Foundation Attachment Masa Anchors, Va = 368.75 plf\n",
      "Foundation Attachment Shot Pins, Va = 410.0 plf\n"
     ]
    }
   ],
   "source": [
    "# Required Shear Transfer\n",
    "V_req = 730 / 2 #plf\n",
    "print(f\"V_req = {round(V_req, 2)} plf\")\n",
    "\n",
    "# Attachment to Foundation (Anchors)\n",
    "spacing = 18 #in\n",
    "Va = 650 #lbs\n",
    "v_a = Va / (spacing/12)\n",
    "print(f\"Foundation Attachment Anchors, Va = {round(v_a, 2)} plf\")\n",
    "\n",
    "# Attachment to Foundtion (Masa Anchors)\n",
    "spacing = 48 #in\n",
    "Va = 1475 #lbs\n",
    "v_a = Va / (spacing/12)\n",
    "print(f\"Foundation Attachment Masa Anchors, Va = {round(v_a, 2)} plf\")\n",
    "\n",
    "# Attachment to Foundation (Shot Pins)\n",
    "spacing = 6 #in\n",
    "Va = 205 #lbs\n",
    "v_a = Va / (spacing/12)\n",
    "print(f\"Foundation Attachment Shot Pins, Va = {round(v_a, 2)} plf\")"
   ]
  }
 ],
 "metadata": {
  "kernelspec": {
   "display_name": "sailing_hawk_venv",
   "language": "python",
   "name": "python3"
  },
  "language_info": {
   "codemirror_mode": {
    "name": "ipython",
    "version": 3
   },
   "file_extension": ".py",
   "mimetype": "text/x-python",
   "name": "python",
   "nbconvert_exporter": "python",
   "pygments_lexer": "ipython3",
   "version": "3.11.6"
  }
 },
 "nbformat": 4,
 "nbformat_minor": 5
}
