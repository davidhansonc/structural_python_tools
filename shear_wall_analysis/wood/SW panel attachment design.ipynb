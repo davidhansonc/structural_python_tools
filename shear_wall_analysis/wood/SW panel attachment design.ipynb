{
 "cells": [
  {
   "cell_type": "code",
   "execution_count": 1,
   "id": "f3d4c618",
   "metadata": {},
   "outputs": [
    {
     "name": "stdout",
     "output_type": "stream",
     "text": [
      "The Zen of Python, by Tim Peters\n",
      "\n",
      "Beautiful is better than ugly.\n",
      "Explicit is better than implicit.\n",
      "Simple is better than complex.\n",
      "Complex is better than complicated.\n",
      "Flat is better than nested.\n",
      "Sparse is better than dense.\n",
      "Readability counts.\n",
      "Special cases aren't special enough to break the rules.\n",
      "Although practicality beats purity.\n",
      "Errors should never pass silently.\n",
      "Unless explicitly silenced.\n",
      "In the face of ambiguity, refuse the temptation to guess.\n",
      "There should be one-- and preferably only one --obvious way to do it.\n",
      "Although that way may not be obvious at first unless you're Dutch.\n",
      "Now is better than never.\n",
      "Although never is often better than *right* now.\n",
      "If the implementation is hard to explain, it's a bad idea.\n",
      "If the implementation is easy to explain, it may be a good idea.\n",
      "Namespaces are one honking great idea -- let's do more of those!\n"
     ]
    },
    {
     "data": {
      "text/latex": [
       "\\newpage"
      ],
      "text/plain": [
       "<IPython.core.display.Latex object>"
      ]
     },
     "metadata": {},
     "output_type": "display_data"
    }
   ],
   "source": [
    "# Import Python Tools:\n",
    "from IPython.display import display, Latex\n",
    "import pandas as pd\n",
    "import numpy as np\n",
    "from numpy import sqrt, pi, average, cos, sin, tan, arcsin, arccos, arctan, deg2rad, rad2deg\n",
    "\n",
    "import load_combos\n",
    "from steel_design.AISC import aisc\n",
    "from concrete_design.material_properties import elastic_modulus, rigidity_modulus\n",
    "from concrete_design.steel_reinforcement import rebar_df as rebar\n",
    "from masonry_design.material_properties import NW_CMU, mas_elastic_modulus\n",
    "conc_density = 150.0 #pcf\n",
    "steel_density = 0.2833 #pci\n",
    "\n",
    "from wood_design.connections.NDS_dowel_capacities import dowel_shear\n",
    "\n",
    "display(Latex(r\"\\newpage\")) #pagebreak"
   ]
  },
  {
   "cell_type": "markdown",
   "id": "14c553d2",
   "metadata": {},
   "source": [
    "# Panel Attachment\n",
    "#### SW1"
   ]
  },
  {
   "cell_type": "code",
   "execution_count": 2,
   "id": "9c5455fc",
   "metadata": {},
   "outputs": [
    {
     "name": "stdout",
     "output_type": "stream",
     "text": [
      "Sill Attachment Nails, Va = 902.4 plf\n",
      "Foundation Attachment Masa Anchors, Va = 737.5 plf\n",
      "Foundation Attachment Shot Pins, Va = 820.0 plf\n"
     ]
    }
   ],
   "source": [
    "# Required Shear Transfer\n",
    "V_req = 685 #plf\n",
    "\n",
    "# Attachment to Framing (16d at 3\" O.C.)\n",
    "Z = 141 #lbs/nail\n",
    "Z_pr = dowel_shear(Z, C_D=1.6)\n",
    "spacing = 3 #in\n",
    "v_a = Z_pr / (spacing/12)\n",
    "print(f\"Sill Attachment Nails, Va = {round(v_a, 2)} plf\")\n",
    "\n",
    "# Attachment to Foundion (Masa at 24\" O.C.)\n",
    "spacing = 24 #in\n",
    "Va = 1475 #lbs\n",
    "v_a = Va / (spacing/12)\n",
    "print(f\"Foundation Attachment Masa Anchors, Va = {round(v_a, 2)} plf\")\n",
    "\n",
    "# Attachment to Foundation (Shot Pins at 3\" O.C.)\n",
    "spacing = 3 #in\n",
    "Va = 205 #lbs\n",
    "v_a = Va / (spacing/12)\n",
    "print(f\"Foundation Attachment Shot Pins, Va = {round(v_a, 2)} plf\")"
   ]
  },
  {
   "cell_type": "code",
   "execution_count": null,
   "id": "e38fe315",
   "metadata": {},
   "outputs": [],
   "source": []
  }
 ],
 "metadata": {
  "kernelspec": {
   "display_name": "Python 3 (ipykernel)",
   "language": "python",
   "name": "python3"
  },
  "language_info": {
   "codemirror_mode": {
    "name": "ipython",
    "version": 3
   },
   "file_extension": ".py",
   "mimetype": "text/x-python",
   "name": "python",
   "nbconvert_exporter": "python",
   "pygments_lexer": "ipython3",
   "version": "3.9.2"
  },
  "vscode": {
   "interpreter": {
    "hash": "8c340b0736d8d4910d2ca7989655b8187219e0906e973b44a7c0150cb2eac932"
   }
  }
 },
 "nbformat": 4,
 "nbformat_minor": 5
}
